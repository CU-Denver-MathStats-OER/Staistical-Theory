{
  "cells": [
    {
      "cell_type": "markdown",
      "source": [
        "[![Open In\n",
        "Colab](https://colab.research.google.com/assets/colab-badge.svg)](https://githubtocolab.com/CU-Denver-MathStats-OER/Statistical-Theory/blob/main/Chap3/12-Sampling-Dist-Other.ipynb)"
      ],
      "metadata": {
        "id": "i5--WjzDrLtY"
      },
      "id": "i5--WjzDrLtY"
    },
    {
      "cell_type": "markdown",
      "metadata": {
        "id": "4e23c2cc-e6e2-4480-966a-d6c7d3d56687"
      },
      "source": [
        "# <a name=\"12intro\">3.3: Sampling Distributions of Other Statistics</a>\n",
        "\n",
        "---\n",
        "\n",
        "\n",
        "We have encountered situations where constructing [sampling distributions for means](https://githubtocolab.com/CU-Denver-MathStats-OER/Statistical-Theory/blob/main/Chap3/10-Sampling-Dist-Mean.ipynb) and [proportions](https://githubtocolab.com/CU-Denver-MathStats-OER/Statistical-Theory/blob/main/Chap3/11-Sampling-Dist-Prop.ipynb) are helpful. In addition to being useful summaries of data, both means and proportions are linear combinations of independent random variables.\n",
        "\n",
        "-   If $X_1, X_2, \\ldots , X_n$ are independent and identically distributed (i.i.d.) random variables (independently selected from the same population), then the sample mean is a linear combination of random variables,\n",
        "\n",
        "$$\\bar{X} = \\frac{X_1 + X_2 + \\ldots + X_n}{n}.$$\n",
        "\n",
        "-   If $X \\sim \\mbox{Binom}(n, p)$, then the sample proportion is a multiple of one random variable,\n",
        "\n",
        "$$\\widehat{P} = \\frac{X}{n}.$$\n",
        "\n",
        "\n",
        "Thus for proportions and means, we can derive the Central Limit Theorem (CLT) to describe the mean and standard error (spread) of sampling distributions by applying [properties of expected value and variance of independent random variables](https://githubtocolab.com/CU-Denver-MathStats-OER/Statistical-Theory/blob/main/Chap2/06-Expected-Value-and-Variance.ipynb):\n",
        "\n",
        "$$E(aX + bY) = aE(X) + bE(Y) \\qquad \\mbox{and} \\qquad \\mbox{Var}(aX + bY) = a^2\\mbox{Var}(X) + b^2 \\mbox{Var}(Y).$$\n",
        "\n",
        "\n",
        "\n",
        "There many other statistics that may be more relevant to study to other situations. Generalizing sampling distributions to other statistics will allow us to explore a bigger variety of  questions.  Even if we cannot derive formulas that describe the mean and variance of other sampling distributions, we can construct a sampling distribution using a simulation. Sometimes simulations bring to light patterns and conjectures that we can try to verify and prove analytically.\n"
      ],
      "id": "4e23c2cc-e6e2-4480-966a-d6c7d3d56687"
    },
    {
      "cell_type": "markdown",
      "source": [
        "# <a name=\"12sim\">Simulation for Sampling Distributions</a>\n",
        "\n",
        "---\n",
        "\n",
        "\n",
        "<figure>\n",
        "<img\n",
        "src=\"https://cdn.pixabay.com/photo/2020/01/25/23/12/light-rail-train-4793556_1280.jpg\"\n",
        "alt=\"Light Rail Train in Denver\" width = \"50%\"/>\n",
        "<figcaption aria-hidden=\"true\">\n",
        "Credit: <a href=\"https://pixabay.com/photos/light-rail-train-denver-colorado-4793556/\">Light Rail Train Denver</a> is\n",
        "<a href=\"https://pixabay.com/service/terms/\">Open Content License</a> by\n",
        "<a href=\"https://pixabay.com/users/lorencosmic22-12392680/\">Lorencosmic22</a> via pixabay\n",
        "</figcaption>\n",
        "</figure>\n",
        "\n",
        "We can apply the same method as we used with constructing sampling distributions for [means](https://githubtocolab.com/CU-Denver-MathStats-OER/Statistical-Theory/blob/main/Chap3/10-Sampling-Dist-Mean.ipynb) and [proportions](https://githubtocolab.com/CU-Denver-MathStats-OER/Statistical-Theory/blob/main/Chap3/11-Sampling-Dist-Prop.ipynb) to create a sampling distribution for any statistic. The general process is as follows:\n",
        "\n",
        "1. Pick a random sample size $n$ from population $X$.\n",
        "2. Calculate some statistic(s) of interest from the sample.\n",
        "3. Repeat. Generate many random samples (each size $n$) and calculate the statistic(s) of interest from each sample.\n",
        "\n",
        "We [previsouly considered the sampling distribution for the mean wait time between trains](https://githubtocolab.com/CU-Denver-MathStats-OER/Statistical-Theory/blob/main/Chap3/10-Sampling-Dist-Mean.ipynb). In that example, the wait time between trains was exponentially distributed with a mean of $4$ minutes between trains. Thus, the rate parameter is $\\lambda = \\frac{1}{4}$.  We sample from the population of $Y \\sim \\mbox{Exp} \\left( \\frac{1}{4} \\right)$ which is skewed to the right.\n",
        "\n",
        "Run the code cell below to create a sampling distribution for the mean time between trains with samples size $n=50$.\n",
        "\n",
        "- We will generate 10,000 random samples, and the mean of each will be stored in the vector `samp.mean`.\n",
        "- The for loop includes the steps for creating a sampling distribution:\n",
        "  -  Pick a random sample stored in `time.sample` using `rexp(50, 1/4)`.\n",
        "  - Calculate the mean of the sample with `mean(time.sample)`.\n",
        "- No output is printed to screen after running the code cell below since the values are being stored in `samp.mean`.\n"
      ],
      "metadata": {
        "id": "akaBLow1o9_J"
      },
      "id": "akaBLow1o9_J"
    },
    {
      "cell_type": "code",
      "execution_count": null,
      "metadata": {
        "id": "c4d55c94-851c-49cb-9d03-9293575957b7"
      },
      "outputs": [],
      "source": [
        "# creates an empty vector to store results\n",
        "samp.mean <- numeric(10000)\n",
        "\n",
        "# a for loop that generates 10000 random samples\n",
        "# each size n=50, and calculates the sample mean.\n",
        "for (i in 1:10000)\n",
        "{\n",
        "  time.sample <- rexp(50, 1/4)  # Step 1: Randomly picks 50 values from Exp(1/4)\n",
        "  samp.mean[i] <- mean(time.sample)  # Step 2: calculate sample mean\n",
        "}"
      ],
      "id": "c4d55c94-851c-49cb-9d03-9293575957b7"
    },
    {
      "cell_type": "markdown",
      "metadata": {
        "id": "13a5143b-ae7d-4168-a662-7b8eb348b671"
      },
      "source": [
        "## <a name=\"12graph-mean\">Graphical Summary of Results of Simulation</a>\n",
        "\n",
        "---\n",
        "\n",
        "Run the code cell below to generate side-by-side plots of the pdf of the population $Y \\sim \\mbox{Exp}(1/4)$ and a sampling distribution for the mean with $n=50$.\n"
      ],
      "id": "13a5143b-ae7d-4168-a662-7b8eb348b671"
    },
    {
      "cell_type": "code",
      "execution_count": null,
      "metadata": {
        "colab": {
          "base_uri": "https://localhost:8080/",
          "height": 437
        },
        "id": "a16ab0d0-ded6-45d3-87a7-d1f5d732c30c",
        "outputId": "139f944b-656a-4fcf-a410-10ec12232b8a"
      },
      "outputs": [
        {
          "output_type": "display_data",
          "data": {
            "text/plain": [
              "Plot with title “Dist. of Sample Means”"
            ],
            "image/png": "[encoded data removed]"
          },
          "metadata": {
            "image/png": {
              "width": 420,
              "height": 420
            }
          }
        }
      ],
      "source": [
        "par(mfrow=c(1,2))  # arrange plots side by side\n",
        "\n",
        "# plot population\n",
        "y <- seq(0, 6, 0.01)\n",
        "plot(y, dexp(y), type = \"l\",\n",
        "     xlab = \"Y, wait time (in min)\",\n",
        "     main = \"Population, Y ~ Exp(1/4)\")\n",
        "\n",
        "# plot the sampling distribution of means\n",
        "hist(samp.mean,\n",
        "     breaks = 20,\n",
        "     xlab = \"Mean Wait Time (n=50)\",\n",
        "     main = \"Dist. of Sample Means\")\n",
        "abline(v = mean(samp.mean), col = \"blue\", lwd = 2)  # center of sampling dist of mean"
      ],
      "id": "a16ab0d0-ded6-45d3-87a7-d1f5d732c30c"
    },
    {
      "cell_type": "markdown",
      "metadata": {
        "id": "6d088595-d668-4ac0-8f05-537c633248e8"
      },
      "source": [
        "## <a name=\"12median\">Simulation for Sampling Distribution for Median</a>\n",
        "\n",
        "---\n",
        "\n",
        "Since wait times between trains are skewed to the right, the sample means will be more heavily influenced by outliers that are biased to the right. The median is the 50th percentile of the data, and it is not as sensitive to outliers. We might want to consider a sampling distribution for the median if we want to consider a measure of center that is less influenced by outliers.\n",
        "\n"
      ],
      "id": "6d088595-d668-4ac0-8f05-537c633248e8"
    },
    {
      "cell_type": "markdown",
      "source": [
        "## <a name=\"12q1\">Question 1</a>\n",
        "\n",
        "---\n",
        "\n",
        "Complete the partially completed code cell below to generate a sampling distribution for the **median** weight time between trains using samples size $n=50$. You should continue to assume the time between successive trains is exponentially distributed with a mean time of 4 minutes between successive trains.\n",
        "\n",
        "### <a name=\"12\">Solution to Question 1</a>\n",
        "\n",
        "---\n",
        "\n",
        "Replace each of the three `??` in the code cell below with appropriate code. Then run the completed code to create\n",
        "and plot a sampling distribution for the sample median for samples size $n=50$."
      ],
      "metadata": {
        "id": "Bhz64XxPacIq"
      },
      "id": "Bhz64XxPacIq"
    },
    {
      "cell_type": "code",
      "execution_count": null,
      "metadata": {
        "id": "ce4840d6-a3bc-4bef-b3bc-ac26215a147b"
      },
      "outputs": [],
      "source": [
        "# creates an empty vector to store results\n",
        "samp.median <- numeric(10000)\n",
        "\n",
        "# a for loop that generates 10000 random samples\n",
        "# each size n=50, and calculates the sample median\n",
        "for (i in 1:10000)\n",
        "{\n",
        "##################################\n",
        "# Replace both ?? in the for loop\n",
        "##################################\n",
        "  time.sample <- ??  # Step 1: Pick random sample from population\n",
        "  samp.median[i] <- ??  # Step 2: Calculate sample statistic\n",
        "}\n",
        "\n",
        "\n",
        "# plot the sampling distribution\n",
        "#####################################\n",
        "# Replace the ?? in the hist command\n",
        "#####################################\n",
        "hist(??,\n",
        "     breaks = 20,\n",
        "     xlab = \"Median Wait Time (n=50)\",\n",
        "     main = \"Dist. of Sample Means\")\n",
        "abline(v = mean(samp.median), col = \"red\", lwd = 2, lty = 2)  # center of sampling dist of median\n",
        "abline(v = mean(samp.mean), col = \"blue\", lwd = 2, lty = 2)  # center of sampling dist of mean"
      ],
      "id": "ce4840d6-a3bc-4bef-b3bc-ac26215a147b"
    },
    {
      "cell_type": "markdown",
      "metadata": {
        "id": "b3e036b9-040a-46cb-9413-a3adaeec8975"
      },
      "source": [
        "## <a name=\"12\">Question 2</a>\n",
        "\n",
        "---\n",
        "\n",
        "Based on the plot of the sampling distribution for the median plotted\n",
        "above, comment on the significance of the red and blue vertical lines\n",
        "included in the plot.\n",
        "\n",
        "-   What quantity is the red line representing? What quantity is the\n",
        "    blue line representing?\n",
        "-   Compare the locations of the two lines. Why is the blue line to the\n",
        "    right of the red line? Explain why this makes sense in this context.\n",
        "\n",
        "### <a name=\"12sol2\">Solution to Question 2</a>\n",
        "\n",
        "---\n",
        "\n",
        "<br>  \n",
        "<br>  \n",
        "<br>  \n",
        "\n",
        "\n"
      ],
      "id": "b3e036b9-040a-46cb-9413-a3adaeec8975"
    },
    {
      "cell_type": "markdown",
      "source": [
        "## <a name=\"12q3\">Question 3</a>\n",
        "\n",
        "---\n",
        "\n",
        "\n",
        "\n",
        "Based on the results of the sampling distribution for the median stored in `samp.median` in [Question 2](#12q2) answer the following questions.\n",
        "\n"
      ],
      "metadata": {
        "id": "X6lwSbwJblIh"
      },
      "id": "X6lwSbwJblIh"
    },
    {
      "cell_type": "markdown",
      "source": [
        "### <a name=\"12q3a\">Question 3a</a>\n",
        "\n",
        "---\n",
        "\n",
        "Create a qq-plot of the sampling distribution and comment on whether shape of the sampling distribution for median is normal or not.\n",
        "\n",
        "#### <a name=\"12sol3a\">Solution to Question 3a</a>\n",
        "\n",
        "---\n"
      ],
      "metadata": {
        "id": "XBZ5Ofc8b4Lj"
      },
      "id": "XBZ5Ofc8b4Lj"
    },
    {
      "cell_type": "code",
      "execution_count": null,
      "metadata": {
        "id": "b02b447f-bec0-4563-993c-d8f63aff4723"
      },
      "outputs": [],
      "source": [
        "# create a qq-plot of the sampling dist for median\n",
        "# interpret the output after writing/running code\n",
        "\n"
      ],
      "id": "b02b447f-bec0-4563-993c-d8f63aff4723"
    },
    {
      "cell_type": "markdown",
      "source": [
        "##### Interpret the output of the code above\n",
        "\n",
        "\n",
        "\n",
        "<br>  \n",
        "<br>  \n",
        "<br>  \n"
      ],
      "metadata": {
        "id": "qZE_D-27cEB8"
      },
      "id": "qZE_D-27cEB8"
    },
    {
      "cell_type": "markdown",
      "metadata": {
        "id": "3317acc0-a95c-4c68-90ef-1314656085c6"
      },
      "source": [
        "### <a name=\"12q3b\">Question 3b</a>\n",
        "\n",
        "---\n",
        "\n",
        "Compute the standard error of the sampling distribution for medians and the standard error for the sampling distribution for means. Compare both values. Which is bigger and why does that make practical sense?\n",
        "\n",
        "-   *Hint: Results for the sampling distribution of the mean wait time between trains were stored in `samp.mean` in an earlier code cell. Be sure you have run that code and stored those results.*\n",
        "\n",
        "#### <a name=\"12sol3b\">Solution to Question 3b</a>\n",
        "\n",
        "---"
      ],
      "id": "3317acc0-a95c-4c68-90ef-1314656085c6"
    },
    {
      "cell_type": "code",
      "execution_count": null,
      "metadata": {
        "id": "e9d367c3-8ac0-4ed6-80e5-99de7a76f574"
      },
      "outputs": [],
      "source": [
        "# calculate both standard errors\n",
        "# interpret the output after writing/running code\n",
        "\n"
      ],
      "id": "e9d367c3-8ac0-4ed6-80e5-99de7a76f574"
    },
    {
      "cell_type": "markdown",
      "source": [
        "##### Interpret the output of the code above\n",
        "\n",
        "\n",
        "\n",
        "<br>  \n",
        "<br>  \n",
        "<br>  \n"
      ],
      "metadata": {
        "id": "HhdfUGJrcalq"
      },
      "id": "HhdfUGJrcalq"
    },
    {
      "cell_type": "markdown",
      "metadata": {
        "id": "ab07229d-1e1d-45a5-b1af-694c4105c5e6"
      },
      "source": [
        "## <a name=\"12var\">Simulation for Sampling Distribution for Variance</a>\n",
        "\n",
        "---\n",
        "\n",
        "Variance is one of the most frequently used measurements for the spread of a distribution. If we pick a random sample of values $X_1, X_2, \\ldots , X_n$ from a population, it is natural to consider how much variation can we expect in the spread of values (measured by variance) for different random samples of size $n$. The variance is not a linear combination of random variables $X_1, X_2, \\ldots , X_n$, so we cannot use the same properties of expected value and variance that we applied to derive the Central Limit Theorem for means and proportions. Instead, we will use a simulation based method to investigate properties of a sampling distribution for sample variances.\n",
        "\n",
        "\n"
      ],
      "id": "ab07229d-1e1d-45a5-b1af-694c4105c5e6"
    },
    {
      "cell_type": "markdown",
      "source": [
        "## <a name=\"12q4\">Question 4</a>\n",
        "\n",
        "---\n",
        "\n",
        "Cholesterol is a fat-like substance present in all cells in your body. A blood test is used to measure cholesterol levels. The distribution of cholesterol levels for adults age 20 or older is approximately normally distributed with a mean of 200 mg/dL and standard deviation 40 mg/dL. Let $X$ be the cholesterol level of a randomly selected adult age 20 or\n",
        "above. Thus, we have $X \\sim N(200, 40)$.\n",
        "\n"
      ],
      "metadata": {
        "id": "Pi9suVq0c2ss"
      },
      "id": "Pi9suVq0c2ss"
    },
    {
      "cell_type": "markdown",
      "source": [
        "### <a name=\"12q4a\">Question 4a</a>\n",
        "\n",
        "---\n",
        "\n",
        "Complete the partially completed code cell below to generate a sampling distribution for the **sample variance** of cholesterol level using\n",
        "samples size $n=25$.\n",
        "\n",
        "#### <a name=\"12sol4a\">Solution to Question 4a</a>\n",
        "\n",
        "---\n",
        "\n",
        "Replace each of the three `??` in the code cell below with appropriate code. Then run the completed code to create and plot a sampling distribution for the sample variance for samples size $n=25$.\n"
      ],
      "metadata": {
        "id": "RrL5-xApgOKe"
      },
      "id": "RrL5-xApgOKe"
    },
    {
      "cell_type": "code",
      "execution_count": null,
      "metadata": {
        "id": "504f1358-3c61-49b1-b970-96b6efcb2fbb"
      },
      "outputs": [],
      "source": [
        "# creates an empty vector to store results\n",
        "samp.var <- numeric(10000)\n",
        "\n",
        "# a for loop that generates 10000 random samples\n",
        "# and calculates the sample variance\n",
        "for (i in 1:10000)\n",
        "{\n",
        "##################################\n",
        "# Replace both ?? in the for loop\n",
        "##################################\n",
        "  cholest.sample <- ??  # Step 1: Pick random sample from population\n",
        "  samp.var[i] <- ??  # Step 2: Calculate sample statistic\n",
        "}\n",
        "\n",
        "\n",
        "# plot the sampling distribution\n",
        "#####################################\n",
        "# Replace the ?? in the hist command\n",
        "#####################################\n",
        "hist(??,\n",
        "     breaks = 20,\n",
        "     xlab = \"Variance of Cholesterol (n=25)\",\n",
        "     main = \"Dist. of Sample Variance\")\n",
        "abline(v = mean(samp.var), col = \"red\", lwd = 2)  # center of sampling dist of variance"
      ],
      "id": "504f1358-3c61-49b1-b970-96b6efcb2fbb"
    },
    {
      "cell_type": "markdown",
      "metadata": {
        "id": "bba8f715-9640-4c31-8ea8-960304ba905e"
      },
      "source": [
        "### <a name=\"12q4b\">Question 4b</a>\n",
        "\n",
        "---\n",
        "\n",
        "Based on the results of the sampling distribution for the sample\n",
        "variance stored in `samp.var` after running the code above:\n",
        "\n",
        "-   Calculate the mean and standard error of the sampling distribution for the sample variance when $n=25$.\n",
        "-   Create a qq-plot and comment on whether or not the sampling distribution for the sample variance appears to be normal or not.\n",
        "\n",
        "#### <a name=\"12sol4b\">Solution to Question 4b</a>\n",
        "\n",
        "---"
      ],
      "id": "bba8f715-9640-4c31-8ea8-960304ba905e"
    },
    {
      "cell_type": "code",
      "execution_count": null,
      "metadata": {
        "id": "1ed97b9c-fd9b-466e-9158-1957cb030735"
      },
      "outputs": [],
      "source": [
        "# calculate mean and standard error of\n",
        "# sampling distribution of sample variance\n",
        "\n"
      ],
      "id": "1ed97b9c-fd9b-466e-9158-1957cb030735"
    },
    {
      "cell_type": "code",
      "execution_count": null,
      "metadata": {
        "id": "062abcc8-7c4c-4de7-8004-e1c3535671dd"
      },
      "outputs": [],
      "source": [
        "# create a qq-plot of the sampling dist for sample variance\n",
        "# interpret the output after writing/running code\n",
        "\n"
      ],
      "id": "062abcc8-7c4c-4de7-8004-e1c3535671dd"
    },
    {
      "cell_type": "markdown",
      "source": [
        "##### Interpret the output of the code above\n",
        "\n",
        "\n",
        "\n",
        "<br>  \n",
        "<br>  \n",
        "<br>  \n"
      ],
      "metadata": {
        "id": "lP30AvODhX14"
      },
      "id": "lP30AvODhX14"
    },
    {
      "cell_type": "markdown",
      "metadata": {
        "id": "e0d679d2-3282-45bc-832d-eafb69df6ce8"
      },
      "source": [
        "# <a name=\"12theory\">Deriviving Formulas for Sampling Distributions</a>\n",
        "\n",
        "---\n",
        "\n",
        "In the previous examples involving sample median and variance, we are able to analyze properties of the sampling distribution of those statistics by simulating the creation of a sampling distribution. We can always use simulations to approximate sampling distributions, even if we do not have a formal theorem or formulas that describe the distribution for those sample statistics. With some statistics, such as sample means and sample proportions, we can use properties of random variables to derive theory and formulas that describe properties of the sampling distribution. In situations where we can theoretically model sampling distributions, technology is not required to describe the sampling distribution. We explore some additional statistics, namely the maximum of a sample, and derive formulas we can use to describe a sampling distribution of maximum values.\n",
        "\n"
      ],
      "id": "e0d679d2-3282-45bc-832d-eafb69df6ce8"
    },
    {
      "cell_type": "markdown",
      "source": [
        "## <a name=\"12max\">Sampling Distribution for the Maximum</a>\n",
        "\n",
        "---\n",
        "\n",
        "\n",
        "Frequently we are interested in the <font color=\"dodgerblue\">**sample maximum value**</font>, denoted $\\color{dodgerblue}{X_{\\rm{max}}}$, of a random sample. For example, if we pick a random sample of five values, $\\left\\{ 11, 18, 2, 31, 25 \\right\\}$, then we have the statistics $X_{\\rm{min}} = 2$ and $X_{\\rm{max}} = 31$. A <font color=\"dodgerblue\">**sampling distribution for the sample maximum**</font> would be the distribution of maximum values obtained from samples when we independently pick many random samples, each size $n$, from the same population.\n",
        "\n",
        "\n"
      ],
      "metadata": {
        "id": "1VxwwxSSiYgr"
      },
      "id": "1VxwwxSSiYgr"
    },
    {
      "cell_type": "markdown",
      "source": [
        "## <a name=\"12q5\">Question 5</a>\n",
        "\n",
        "---\n",
        "\n",
        "Let $F$ denote the cumulative distribution function (cdf) for a\n",
        "continuous random variable $X$. Derive the cdf for $X_{\\rm{max}}$, the maximum of a random sample $X_1,X_2, \\ldots, X_n$, where each $X_i$ is independently picked from the same population $X$ with cdf $F(x)$.\n",
        "\n",
        "An outline of a proof is provided below. In the solution space below, fill in missing explanations for each step of the proof.\n",
        "\n",
        "$$\\begin{aligned}\n",
        "F_{X_{\\rm{max}}} (a) &= P(X_1 \\leq a, X_2 \\leq a, \\ldots, X_n \\leq a) & \\mbox{Explanation 1} \\\\\n",
        "&= P\\big( (X_1 \\leq a) \\cap (X_2 \\leq a) \\cap \\ldots \\cap (X_n \\leq a) \\big) & \\mbox{Explanation 2}\\\\\n",
        "&= P(X_1 \\leq a) \\cdot P(X_2 \\leq a) \\cdot  \\ldots  \\cdot P(X_n \\leq a) & \\mbox{Explanation 3}\\\\\n",
        "&= F(a) \\cdot F(a) \\cdot \\ldots \\cdot F(a) & \\mbox{Explanation 4}\\\\\n",
        "&= \\big( F(a) \\big)^n\n",
        "\\end{aligned}$$\n",
        "\n",
        "### <a name=\"12sol5\">Solution to Question 5</a>\n",
        "\n",
        "---\n",
        "\n",
        "**Explanation 1:**\n",
        "\n",
        "<br>\n",
        "\n",
        "**Explanation 2:**\n",
        "\n",
        "<br>\n",
        "\n",
        "**Explanation 3:**\n",
        "\n",
        "<br>\n",
        "\n",
        "**Explanation 4:**\n",
        "\n",
        "<br>  \n",
        "<br>\n",
        "\n"
      ],
      "metadata": {
        "id": "TNRu-zyxjmUm"
      },
      "id": "TNRu-zyxjmUm"
    },
    {
      "cell_type": "markdown",
      "source": [
        "## <a name=\"12q6\">Question 6</a>\n",
        "\n",
        "---\n",
        "\n",
        "Using the result from the previous problem, find\n",
        "$\\displaystyle f_{X_{\\rm{max}}} (a)$, the probability density function (pdf) for the maximum of a\n",
        "random sample. Your answer will depend on both $F$ and $f$, the\n",
        "corresponding cdf and pdf, respectively, of $X$.\n",
        "\n",
        "*Hint: Recall the general relation between cdf’s and pdf’s of continuous random variables.*\n",
        "\n",
        "### <a name=\"12sol6\">Solution to Question 6</a>\n",
        "\n",
        "---\n",
        "\n",
        "\n",
        "\n",
        "<br>  \n",
        "<br>  \n",
        "<br>  \n",
        "  \n",
        "  \n",
        "\n"
      ],
      "metadata": {
        "id": "cScNwY7mkNek"
      },
      "id": "cScNwY7mkNek"
    },
    {
      "cell_type": "markdown",
      "source": [
        "### <a name=\"12summary-max\">Summarizing Results for $X_{\\rm{max}}$</a>\n",
        "\n",
        "---\n",
        "\n",
        "Let $F$ denote the cumulative distribution function (cdf) for a\n",
        "continuous random variable $X$, and let $X_{\\rm{max}}$ denote the maximum of a random sample $X_1,X_2, \\ldots, X_n$, where each $X_i$ is independently picked from population $X$. Then the sample maximum, $X_{\\rm{max}}$, will have:\n",
        "\n",
        "-   <font color=\"dodgerblue\">Cumulative distribution function $\\displaystyle F_{X_{\\rm{max}}} (a) = \\big( F(a) \\big)^n$.</font>\n",
        "-   <font color=\"dodgerblue\">Probability density function $\\displaystyle f_{X_{\\rm{max}}} (a) = n \\left( F(a) \\right)^{n-1} f(a)$.</font>\n",
        "\n"
      ],
      "metadata": {
        "id": "FlSXNhsrl8_C"
      },
      "id": "FlSXNhsrl8_C"
    },
    {
      "cell_type": "markdown",
      "source": [
        "## <a name=\"12q7\">Question 7</a>\n",
        "\n",
        "---\n",
        "\n",
        "Let $X$ be a random variable with continuous uniform distribution $\\mbox{Unif}(0,1)$. Answer the questions below regarding the distribution $X$ and the distribution of sample maximum, $X_{\\rm{max}}$, for $n=10$.\n",
        "\n"
      ],
      "metadata": {
        "id": "fUliGdMdm466"
      },
      "id": "fUliGdMdm466"
    },
    {
      "cell_type": "markdown",
      "source": [
        "### <a name=\"12q7a\">Question 7a</a>\n",
        "\n",
        "---\n",
        "\n",
        "What are the cdf and pdf, $F(x)$ and $f(x)$ respectively, of\n",
        "$X \\sim \\mbox{Unif}(0,1)$? *Hint: See [useful properties of continuous uniform\n",
        "distributions](https://githubtocolab.com/CU-Denver-MathStats-OER/Statistical-Theory/blob/main/Chap2/08-Common-Continuous-Distributions.ipynb#08append-unif).*\n",
        "\n",
        "#### <a name=\"12sol7a\">Solution to Question 7a</a>\n",
        "\n",
        "---\n",
        "\n",
        "<br>  \n",
        "<br>  \n",
        "<br>\n",
        "\n"
      ],
      "metadata": {
        "id": "B8WHFkOynQfr"
      },
      "id": "B8WHFkOynQfr"
    },
    {
      "cell_type": "markdown",
      "source": [
        "### <a name=\"12q7b\">Question 7b</a>\n",
        "\n",
        "---\n",
        "\n",
        "If we pick a random sample of size $n=10$, how likely is it that\n",
        "$X_{\\rm{max}}$ is greater than or equal to $0.9$?\n",
        "\n",
        "- *Hint: Use the formulas from your answer to [Question 7a](#12q7a) and make use of the [formulas for the cdf and/or pdf we derived](#12summary-max) for $X_{\\rm{max}}$.*\n",
        "\n",
        "#### <a name=\"12sol7b\">Solution to Question 7b</a>\n",
        "\n",
        "---\n",
        "\n",
        "<br>  \n",
        "<br>  \n",
        "<br>\n",
        "\n"
      ],
      "metadata": {
        "id": "YpDnjZlIoQ1y"
      },
      "id": "YpDnjZlIoQ1y"
    },
    {
      "cell_type": "markdown",
      "source": [
        "## <a name=\"12compare-max\">Sample Maximum: Comparing Theory with Simulation</a>\n",
        "\n",
        "---\n",
        "\n",
        "In [Question 8](#12q8) below, we check our analytic solutions for [Question 7](#12q7) using a statistical simulation.\n",
        "\n",
        "\n"
      ],
      "metadata": {
        "id": "utm9u-c7n7EF"
      },
      "id": "utm9u-c7n7EF"
    },
    {
      "cell_type": "markdown",
      "source": [
        "## <a name=\"12q8\">Question 8</a>\n",
        "\n",
        "---\n",
        "\n",
        "Complete the partially completed code cell below to generate a sampling distribution for the **sample maximum**, $X_{\\rm{max}}$ when picking random samples size $n=10$ from population $X \\sim \\mbox{Unif}(0,1)$.\n",
        "\n",
        "### <a name=\"12sol8\">Solution to Question 8</a>\n",
        "\n",
        "---\n",
        "\n",
        "Replace each of the three `??` in the code cell below with appropriate code. Then run the completed code to create\n",
        "and plot a sampling distribution for the **sample maximum** for samples size $n=10$ from $X \\sim \\mbox{Unif}(0,1)$.\n",
        "\n"
      ],
      "metadata": {
        "id": "BHvHcGQsqHIs"
      },
      "id": "BHvHcGQsqHIs"
    },
    {
      "cell_type": "code",
      "execution_count": null,
      "metadata": {
        "id": "1f42ff4f-7f3d-4daa-ba6d-1d4a1bc6106a"
      },
      "outputs": [],
      "source": [
        "# creates an empty vector to store results\n",
        "samp.max <- numeric(10000)\n",
        "\n",
        "# a for loop that generates 10000 random samples\n",
        "# calculates the sample maximum\n",
        "for (i in 1:10000)\n",
        "{\n",
        "##################################\n",
        "# Replace both ?? in the for loop\n",
        "##################################\n",
        "  temp.sample <- ??  # Step 1: Pick random sample from population\n",
        "  samp.max[i] <- ??  # Step 2: Calculate sample statistic\n",
        "}\n",
        "\n",
        "\n",
        "# plot the sampling distribution\n",
        "#####################################\n",
        "# Replace the ?? in the hist command\n",
        "#####################################\n",
        "hist(??,\n",
        "     breaks = 20,\n",
        "     xlab = \"Maximum of Sample (n=10)\",\n",
        "     main = \"Dist. of Sample Max\")\n",
        "abline(v = 0.9, col = \"red\", lwd = 2, lty = 2)  # marking x_max = 0.9"
      ],
      "id": "1f42ff4f-7f3d-4daa-ba6d-1d4a1bc6106a"
    },
    {
      "cell_type": "markdown",
      "metadata": {
        "id": "30f4589b-9658-4d3d-ba04-7ba620794455"
      },
      "source": [
        "## <a name=\"12q9\">Question 9</a>\n",
        "\n",
        "---\n",
        "\n",
        "Based on the results of the sampling distribution for the sample maximum stored in `samp.max` after running the code above:\n",
        "\n",
        "-   Use your sampling distribution from [Question 8](#12q8) to approximate $P(X_{\\rm{max}} \\geq 0.9)$.\n",
        "    -   *Hint: Use a logical test involving `samp.max` and either a `sum()` or `mean()` command.*\n",
        "-   Compare your approximation to the exact value you found in [Question 7b](#12q7b).\n",
        "\n",
        "### <a name=\"12sol9\">Solution to Question 9</a>\n",
        "\n",
        "---"
      ],
      "id": "30f4589b-9658-4d3d-ba04-7ba620794455"
    },
    {
      "cell_type": "code",
      "execution_count": null,
      "metadata": {
        "id": "498643b3-f452-429a-930c-8d925256ea0a"
      },
      "outputs": [],
      "source": [
        "# use results in samp.max to\n",
        "# approx P(X_max >= 0.9)\n",
        "\n"
      ],
      "id": "498643b3-f452-429a-930c-8d925256ea0a"
    },
    {
      "cell_type": "markdown",
      "metadata": {
        "id": "78429154-a860-4585-b5d6-44250d0a27f1"
      },
      "source": [
        "# <a name=\"12\">Sampling Distribution for Goodness-of-Fit</a>\n",
        "\n",
        "---\n",
        "\n",
        "The stop-and-frisk policy is the practice of temporarily stopping,\n",
        "questioning, and possibly searching civilians suspected of carrying\n",
        "illegal possessions such as drugs and weapons. The program has come\n",
        "under scrutiny in many cities regarding claims of racial-profiling. We\n",
        "investigate the following question:\n",
        "\n",
        "> Does the stop-and-frisk program in New York City seem to profile\n",
        "> people based on race?\n",
        "\n",
        "In 2022, 15,102 stops were recorded by NYPD, and these stops are\n",
        "broken down by race in the table below.\n",
        "\n",
        "| Race  | 2022 NYPD Stops<sup>1</sup> | NYC Population<sup>2</sup> |\n",
        "|-------|------------------------|--------------------------|\n",
        "| Black | 8,863 | $0.23$ |\n",
        "| Latinx | 4,477 | $0.29$ |\n",
        "| White | 1,077 | $0.32$ |\n",
        "| Asian/Pacific Islander | 320 | $0.14$ |\n",
        "| Mixed/Other | 365 | $0.02$ |\n",
        "| Total | 15102 | 1 |\n",
        "\n",
        "-   In the code cell below, we save the data in the table to two vectors `observe` and `prop`.\n",
        "-   Be sure to run the code cell below in order to answer the questions that follow.\n",
        "\n",
        "<br>\n",
        "\n",
        "<font size=\"2\"> 1. Data from <a href=\"https://www.nyc.gov/site/nypd/stats/reports-analysis/stopfrisk.page\"> NYPD Stop, Ask, and Frisk Data 2022</a> </font>\n",
        "\n",
        "<font size=\"2\"> 2. Data from <a href=\"https://www.census.gov/quickfacts/newyorkcitynewyork\">US Census Data</a> </font>\n"
      ],
      "id": "78429154-a860-4585-b5d6-44250d0a27f1"
    },
    {
      "cell_type": "code",
      "execution_count": null,
      "metadata": {
        "id": "4a9c3475-8692-4ff9-971c-fddd13fc15d3"
      },
      "outputs": [],
      "source": [
        "observe <- c(8863, 4477, 1077, 320, 365)  # vector of observed values\n",
        "prop <- c(0.23, 0.29, 0.32, 0.14, 0.02)  # vector of population proportions"
      ],
      "id": "4a9c3475-8692-4ff9-971c-fddd13fc15d3"
    },
    {
      "cell_type": "markdown",
      "metadata": {
        "id": "11d4bd7a-560f-4142-bc7e-6e8e386b7b9b"
      },
      "source": [
        "In the jury example from our exploration with [sampling distributions for a single proportion](https://githubtocolab.com/CU-Denver-MathStats-OER/Statistical-Theory/blob/main/Chap3/11-Sampling-Dist-Prop.ipynb), we considered\n",
        "whether people that identify their political party as Independent have\n",
        "fair representation. Political party was a binary variable (Independent\n",
        "or Not). Perhaps a more useful question to explore is whether the jury\n",
        "has a good representation of all political affiliations, not just\n",
        "Independents. When working with a categorical variable that has more\n",
        "than two categories, such as race or political affiliation, we need to\n",
        "consider more than a single proportion. Rather than consider a single\n",
        "proportion, we can conduct a <font color=\"dodgerblue\">**chi-square\n",
        "goodness-of-fit test**</font> to measure how well the random sample\n",
        "resembles the population as far as what proportion of observations are\n",
        "in each category. We assume the categories are mutually exclusive (an\n",
        "observation cannot belong to multiple categories), and thus the sum of\n",
        "all proportions is 1.\n",
        "\n"
      ],
      "id": "11d4bd7a-560f-4142-bc7e-6e8e386b7b9b"
    },
    {
      "cell_type": "markdown",
      "source": [
        "## <a name=\"12q10\">Question 10</a>\n",
        "\n",
        "---\n",
        "\n",
        "This question guides us through the calculation of a statistic to measure how well racial demographics of the people stopped by NYPD in 2022 match the overall racial demographics of NYC in 2022.\n",
        "\n"
      ],
      "metadata": {
        "id": "BjUAgRvYvUFR"
      },
      "id": "BjUAgRvYvUFR"
    },
    {
      "cell_type": "markdown",
      "source": [
        "### <a name=\"12q10a\">Question 10a</a>\n",
        "\n",
        "---\n",
        "\n",
        "First, we calculate the **expected** totals for each racial category.\n",
        "Each expected total is the proportion of the population in the group,\n",
        "$p_i$, times the total sample size, $n$.\n",
        "\n",
        "-   Complete the code cell below to calculate and store each expected\n",
        "    value $\\mbox{Expected}_i = n p_i$ in the vector `expect`.\n",
        "-   After running the code, make sure the output matches the values in\n",
        "    expected column in the table below.\n",
        "\n",
        "| Race  | Observed | NYC Population | Expected  |\n",
        "|------|----------|----------------|-----------|\n",
        "| Black | 8,863 | $0.23$ | $3473.46$ |\n",
        "| Latinx | 4,477 | $0.29$ | $4379.58$ |\n",
        "| White | 1,077 | $0.32$ | $4832.64$ |\n",
        "| Asian/Pacific Islander | 320 | $0.14$ | $2114.28$ |\n",
        "| Mixed/Other | 365 | $0.02$ | $302.04$ |\n",
        "| Total | 15102 | 1 | $15102$ |\n",
        "\n",
        "\n",
        "#### <a name=\"12sol10a\">Solution to Question 10a</a>\n",
        "\n",
        "---"
      ],
      "metadata": {
        "id": "oYi_brlGvZM7"
      },
      "id": "oYi_brlGvZM7"
    },
    {
      "cell_type": "code",
      "execution_count": null,
      "metadata": {
        "id": "0759f6ea-e869-41f2-9024-c8daa8453df9"
      },
      "outputs": [],
      "source": [
        "n <- sum(observe)  # sample size = total number of observed\n",
        "expect <- ??  # compute vector of expected totals\n",
        "expect    # print values to screen"
      ],
      "id": "0759f6ea-e869-41f2-9024-c8daa8453df9"
    },
    {
      "cell_type": "markdown",
      "metadata": {
        "id": "bfe1c017-b95b-4e17-ac02-61dfafcb32f6"
      },
      "source": [
        "### <a name=\"12q10b\">Question 10b</a>\n",
        "\n",
        "---\n",
        "\n",
        "Next, we calculate the difference in the observed and expected totals\n",
        "for each category. Since we do not want positive and negative\n",
        "differences to cancel out, we square each distance, $(O_i - E_i)^2$.\n",
        "\n",
        "-   Complete the code cell below to calculate and store the each of the squared differences $(O_i - E_i)^2$ in the vector named `sq.diff`.\n",
        "-   Run the completed code cell before continuing to the next part.\n",
        "\n",
        "#### <a name=\"12sol10b\">Solution to Question 10b</a>\n",
        "\n",
        "---"
      ],
      "id": "bfe1c017-b95b-4e17-ac02-61dfafcb32f6"
    },
    {
      "cell_type": "code",
      "execution_count": null,
      "metadata": {
        "id": "40426be4-cd81-4323-bdcd-3c9797f1eded"
      },
      "outputs": [],
      "source": [
        "sq.diff <- ??  # compute vector of (O-E)^2 values\n",
        "sq.diff  # print values to screen"
      ],
      "id": "40426be4-cd81-4323-bdcd-3c9797f1eded"
    },
    {
      "cell_type": "markdown",
      "metadata": {
        "id": "cd7fd382-ef6d-4efb-af9f-58784642270b"
      },
      "source": [
        "### <a name=\"12q10c\">Question 10c</a>\n",
        "\n",
        "---\n",
        "\n",
        "Since larger categories are going to have larger differences, we\n",
        "consider each squared distance $(O_i - E_i)^2$ relative to the expected\n",
        "size of the category, $E_i$.\n",
        "\n",
        "-   Complete the code cell below to calculate and store each ratio of squared difference over expected count, $\\frac{(O_i - E_i)^2}{E_i}$, in the vector named `relative.diff`.\n",
        "-   After running the code, you can check your output with the values in the $(E-O)^2/E$ column in the table below [Question 10d](#12q10d).\n",
        "\n",
        "#### <a name=\"12sol10c\">Solution to Question 10c</a>\n",
        "\n",
        "---"
      ],
      "id": "cd7fd382-ef6d-4efb-af9f-58784642270b"
    },
    {
      "cell_type": "code",
      "execution_count": null,
      "metadata": {
        "id": "384bd5cd-db12-42c4-87cd-ac21de02e1a4"
      },
      "outputs": [],
      "source": [
        "relative.diff <- ??  # compute vector of (O-E)^2/E values\n",
        "relative.diff  # print values to screen"
      ],
      "id": "384bd5cd-db12-42c4-87cd-ac21de02e1a4"
    },
    {
      "cell_type": "markdown",
      "metadata": {
        "id": "46eee313-db6a-473f-81b6-05e64c826276"
      },
      "source": [
        "### <a name=\"12q10d\">Question 10d\n",
        "\n",
        "---\n",
        "\n",
        "Finally, sum all the ratios in `relative.diff` together to compute a single statistic called the <font color=\"dodgerblue\">**chi-square test statistic**</font> that is denoted $\\color{dodgerblue}{\\chi^2}$,\n",
        "\n",
        "$$\\color{dodgerblue}{\\chi^2 = \\sum_{i} \\frac{(O_i - E_i)^2}{E_i}}.$$\n",
        "\n",
        "-   Complete the code cell below to sum together all\n",
        "    $\\frac{(O_i - E_i)^2}{E_i}$ previously computed and stored in the\n",
        "    vector `relative.diff`.\n",
        "-   After running the code, you can check your output with the total of\n",
        "    the $(E-O)^2/E$ column in the table below.\n",
        "\n",
        "#### <a name=\"12sol10d\">Solution to Question 10d\n",
        "\n",
        "---"
      ],
      "id": "46eee313-db6a-473f-81b6-05e64c826276"
    },
    {
      "cell_type": "code",
      "execution_count": null,
      "metadata": {
        "id": "25d966dd-1331-414e-83cf-c86e10c40675"
      },
      "outputs": [],
      "source": [
        "nyc.chi.sq <- ?? # sum together all (O-E)^2/E to compute chi-sq stat\n",
        "nyc.chi.sq   # print value to screen"
      ],
      "id": "25d966dd-1331-414e-83cf-c86e10c40675"
    },
    {
      "cell_type": "markdown",
      "metadata": {
        "id": "c2a60505-e5bd-4184-bb1e-a2fe9350ba45"
      },
      "source": [
        "| Race | Observed  | NYC Population | Expected | $\\dfrac{(E-O)^2}{E}$ |\n",
        "|------|------------|---------------|----------|-------------|\n",
        "| Black | 8,863 | $0.23$ | $3473.46$ | $8362.6$ |\n",
        "| Latinx | 4,477 | $0.29$ | $4379.58$ | $2.167$ |\n",
        "| White | 1,077 | $0.32$ | $4832.64$ | $2918.7$ |\n",
        "| Asian/Pacific Islander | 320 | $0.14$ | $2114.28$ | $1522.7$ |\n",
        "| Mixed/Other | 365 | $0.02$ | $302.04$ | $13.124$ |\n",
        "| Total | 15102 | 1 | $15102$ | $\\color{dodgerblue}{12819.26}$ |\n",
        "\n",
        "\n"
      ],
      "id": "c2a60505-e5bd-4184-bb1e-a2fe9350ba45"
    },
    {
      "cell_type": "markdown",
      "source": [
        "## <a name=\"12sample-nyc\">Simulating a Distribution of Sample $\\chi^2$</a>\n",
        "\n",
        "---\n",
        "\n",
        "1.  Pick a random sample size $n$ from the population (NYC in 2022)."
      ],
      "metadata": {
        "id": "4d8bAAUwxRiD"
      },
      "id": "4d8bAAUwxRiD"
    },
    {
      "cell_type": "code",
      "execution_count": null,
      "metadata": {
        "id": "6ccb583b-a965-4fc6-b644-363f339261a6"
      },
      "outputs": [],
      "source": [
        "temp <- sample(c(\"Black\", \"Latinx\", \"White\", \"Asian/Pacific Islander\", \"Mixed/Other\"),\n",
        "                      size = 15102,\n",
        "                      replace = TRUE,\n",
        "                      prob = c(0.23, 0.29, 0.32, 0.14, 0.02))"
      ],
      "id": "6ccb583b-a965-4fc6-b644-363f339261a6"
    },
    {
      "cell_type": "markdown",
      "metadata": {
        "id": "68434ca4-6663-4ba5-bd01-8e60ff57560c"
      },
      "source": [
        "2.  Calculate the chi-square test statistic of the sample as described in the previous section."
      ],
      "id": "68434ca4-6663-4ba5-bd01-8e60ff57560c"
    },
    {
      "cell_type": "code",
      "execution_count": null,
      "metadata": {
        "id": "58911acb-0a49-485a-b80f-af998087fc37"
      },
      "outputs": [],
      "source": [
        "o1 <- sum(temp == \"Black\")\n",
        "o2 <- sum(temp == \"Latinx\")\n",
        "o3 <- sum(temp == \"White\")\n",
        "o4 <- sum(temp == \"Asian/Pacific Islander\")\n",
        "o5 <- sum(temp == \"Mixed/Other\")\n",
        "\n",
        "temp.obs <- c(o1, o2, o3, o4, o5)\n",
        "rel.diff <- (temp.obs - expect)^2 / expect\n",
        "sample.chi <-sum(rel.diff)"
      ],
      "id": "58911acb-0a49-485a-b80f-af998087fc37"
    },
    {
      "cell_type": "markdown",
      "metadata": {
        "id": "a2deae36-4769-4262-b389-5d30bff54cf4"
      },
      "source": [
        "3.  Repeat many (1,000) times."
      ],
      "id": "a2deae36-4769-4262-b389-5d30bff54cf4"
    },
    {
      "cell_type": "code",
      "execution_count": null,
      "metadata": {
        "colab": {
          "base_uri": "https://localhost:8080/",
          "height": 437
        },
        "id": "22193749-e602-4053-9c92-eb06668119db",
        "outputId": "a51e5046-6fc2-42dc-900b-0b9da3bfce4f"
      },
      "outputs": [
        {
          "output_type": "display_data",
          "data": {
            "text/plain": [
              "Plot with title “Sampling Distribution of Chi-Squared Statistics”"
            ],
            "image/png": "[encoded data removed]"
          },
          "metadata": {
            "image/png": {
              "width": 420,
              "height": 420
            }
          }
        }
      ],
      "source": [
        "dist.chi <- numeric(1000) # creates an empty vector to store results\n",
        "n <- 15102  # total number of observed\n",
        "prop <- c(0.23, 0.29, 0.32, 0.14, 0.02)  # nyc racial demographics\n",
        "expect <- n * prop  # sample size * population prop\n",
        "\n",
        "# a for loop that generates 1000 random samples\n",
        "for (i in 1:1000)\n",
        "{\n",
        "  temp<- sample(c(\"Black\", \"Latinx\", \"White\", \"Asian/Pacific Islander\", \"Mixed/Other\"),\n",
        "                      size = n,\n",
        "                      replace = TRUE,\n",
        "                      prob = c(0.23, 0.29, 0.32, 0.14, 0.02))\n",
        "  o1 <- sum(temp == \"Black\")\n",
        "  o2 <- sum(temp == \"Latinx\")\n",
        "  o3 <- sum(temp == \"White\")\n",
        "  o4 <- sum(temp == \"Asian/Pacific Islander\")\n",
        "  o5 <- sum(temp == \"Mixed/Other\")\n",
        "  temp.obs <- c(o1, o2, o3, o4, o5)\n",
        "  rel.diff <- (temp.obs - expect)^2 / expect\n",
        "  dist.chi[i] <-sum(rel.diff)\n",
        "}\n",
        "\n",
        "hist(dist.chi,  # plot stored sample statistics\n",
        "     breaks = 20,  # use 20 breaks\n",
        "     xlab = \"Sample Goodness-of-Fit\",  # x-axis label\n",
        "     main = \"Sampling Distribution of Chi-Squared Statistics\",  # main label\n",
        "     freq = FALSE)  # plot relative frequencies (density) on y-axis\n",
        "\n",
        "abline(v = 12819.26, col = \"red\", lwd = 2, lty = 2)  # draws vertical line at observed"
      ],
      "id": "22193749-e602-4053-9c92-eb06668119db"
    },
    {
      "cell_type": "markdown",
      "metadata": {
        "id": "31d7bdcd-e701-48d8-bee7-d2e01f4076f7"
      },
      "source": [
        "## <a name=\"12interpret-nyc\">Interpreting Results</a>\n",
        "\n",
        "---\n",
        "\n",
        "Based on the stop-and-frisk data from NYPD in 2022, the chi-square test statistic was $12,819.26$. That is off the chart compared to the chi-square statistics we obtained from all the other random samples of the same size. The figure below shows just how extreme the chi-square test statistic and far removed it appears from samples that are randomly picked from the same population. This does not necessarily imply there is racial discrimination as that is a very complex question. There are other factors we need to consider, and this is an important question that requires more analysis and looking deeper into the data."
      ],
      "id": "31d7bdcd-e701-48d8-bee7-d2e01f4076f7"
    },
    {
      "cell_type": "code",
      "execution_count": null,
      "metadata": {
        "colab": {
          "base_uri": "https://localhost:8080/",
          "height": 437
        },
        "id": "12d794fe-595d-477e-803f-a49fed370f94",
        "outputId": "c5e70686-7592-450e-e457-c06756d3185a"
      },
      "outputs": [
        {
          "output_type": "display_data",
          "data": {
            "text/plain": [
              "Plot with title “Sampling Distribution of Chi-Squared Statistics”"
            ],
            "image/png": "[encoded data removed]"
          },
          "metadata": {
            "image/png": {
              "width": 420,
              "height": 420
            }
          }
        }
      ],
      "source": [
        "hist(dist.chi,  # plot stored sample statistics\n",
        "     breaks = 20,  # use 20 breaks\n",
        "     xlab = \"Sample Goodness-of-Fit\",  # x-axis label\n",
        "     main = \"Sampling Distribution of Chi-Squared Statistics\",  # main label\n",
        "     freq = FALSE,  # plot relative frequencies (density) on y-axis\n",
        "     xlim = c(0, 14500),\n",
        "     xaxt = 'n')\n",
        "axis(1, at=seq(0, 13000, 1000), pos=0)  # customize ticks on x-axis\n",
        "abline(v = 12819.26, col = \"red\", lwd = 2, lty = 2)  # draws vertical line at observed"
      ],
      "id": "12d794fe-595d-477e-803f-a49fed370f94"
    },
    {
      "cell_type": "markdown",
      "source": [
        "# <a name=\"10CC License\">Creative Commons License Information</a>\n",
        "---\n",
        "\n",
        "\n",
        "![Creative Commons\n",
        "License](https://i.creativecommons.org/l/by-nc-sa/4.0/88x31.png)\n",
        "\n",
        "*Statistical Methods: Exploring the Uncertain* by [Adam\n",
        "Spiegler (University of Colorado Denver)](https://github.com/CU-Denver-MathStats-OER/Statistical-Theory)\n",
        "is licensed under a [Creative Commons\n",
        "Attribution-NonCommercial-ShareAlike 4.0 International\n",
        "License](http://creativecommons.org/licenses/by-nc-sa/4.0/). This work is funded by an [Institutional OER Grant from the Colorado Department of Higher Education (CDHE)](https://cdhe.colorado.gov/educators/administration/institutional-groups/open-educational-resources-in-colorado).\n",
        "\n",
        "For similar interactive OER materials in other courses funded by this project in the Department of Mathematical and Statistical Sciences at the University of Colorado Denver, visit <https://github.com/CU-Denver-MathStats-OER>."
      ],
      "metadata": {
        "id": "o4bR8timX770"
      },
      "id": "o4bR8timX770"
    }
  ],
  "nbformat": 4,
  "nbformat_minor": 5,
  "metadata": {
    "kernelspec": {
      "display_name": "R",
      "name": "ir"
    },
    "colab": {
      "provenance": []
    },
    "language_info": {
      "name": "R"
    }
  }
}