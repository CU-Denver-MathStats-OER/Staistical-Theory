{
  "cells": [
    {
      "cell_type": "markdown",
      "metadata": {
        "id": "e58f8479-c98f-4f1c-8d17-83bfc5d157fd"
      },
      "source": [
        "# <a name=\"Intro\">Sampling Distributions</a>\n",
        "\n",
        "------------------------------------------------------------------------\n",
        "\n",
        "-   A <font color=\"dodgerblue\">**sampling distribution**</font> is the distribution of sample statistics (such as a mean, proportion, median, maximum, etc.) computed for **different samples of the same size from the same population**. A sampling distribution shows us how the sample statistic varies from sample to sample.\n",
        "\n",
        "-   The problems below compare the sampling distributions for means from three different distributions.\n",
        "  -   Let $X$ denote the distribution of Body Mass Index (BMI) of all adult men.\n",
        "  -   Let $Y$ denote all times (in minutes) that people wait before their train arrives at a certain stop.\n",
        "  -   Let $Z$ denote the depth (in km) of all earthquakes that have occurred near Fiji since 1964.\n",
        "\n"
      ],
      "id": "e58f8479-c98f-4f1c-8d17-83bfc5d157fd"
    },
    {
      "cell_type": "markdown",
      "source": [
        "# <a name=\"quest1\">Question 1</a>\n",
        "---\n",
        "\n",
        "1. Do you believe the distribution for $X$ will be approximately symmetric, skewed left, or skewed right? Explain.\n",
        "\n",
        "2. Do you believe the distribution for $Y$ will be approximately symmetric, skewed left, or skewed right? Explain.\n",
        "\n",
        "3. Do you believe the distribution for $Z$ will be approximately symmetric, skewed left, or skewed right? Explain.\n",
        "\n",
        "## <a name=\"sol1\">Solution to Question 1</a>\n",
        "---\n",
        "\n",
        "1.\n",
        "\n",
        "<br>\n",
        "\n",
        "2.\n",
        "\n",
        "<br>\n",
        "\n",
        "3."
      ],
      "metadata": {
        "id": "uLPemlEeuAou"
      },
      "id": "uLPemlEeuAou"
    },
    {
      "cell_type": "markdown",
      "source": [
        "# <a name=\"quest2\">Question 2: Plotting Population Data for BMI</a>\n",
        "\n",
        "----\n",
        "Let $X$ denote the distribution of BMI of all adult men. We can\n",
        "approximate this distribution by $X \\sim N(26, 4)$.\n",
        "\n",
        "- Interpret the code below. \n",
        "- Add comments to explain what each command will do. \n",
        "- Then run the code cell.\n",
        "\n",
        "## <a name=\"sol2\">Solution to Question 2</a>\n",
        "\n",
        "----\n",
        "\n",
        "Enter comments in code cell above.\n"
      ],
      "metadata": {
        "id": "UL9iv726t8gA"
      },
      "id": "UL9iv726t8gA"
    },
    {
      "cell_type": "code",
      "execution_count": 4,
      "metadata": {
        "id": "b45e9cc9-6c2d-47f2-a715-571155b0a4b6",
        "outputId": "7afb4430-ee4f-41dc-c9a5-31f21d7ce6d2",
        "colab": {
          "base_uri": "https://localhost:8080/",
          "height": 437
        }
      },
      "outputs": [
        {
          "output_type": "display_data",
          "data": {
            "text/plain": [
              "Plot with title “Distribution of Population”"
            ],
            "image/png": "[encoded data removed]"
          },
          "metadata": {
            "image/png": {
              "width": 420,
              "height": 420
            }
          }
        }
      ],
      "source": [
        "# Create a vector name bmi of 100 bmi values \n",
        "# chosen between x=10 and x=42\n",
        "bmi <- seq(26-4*4, 26+4*4, length=100)\n",
        "\n",
        "# Add your comment here\n",
        "pdf.bmi <- dnorm(bmi, 26, 4)\n",
        "\n",
        "# Add your comment here\n",
        "plot(bmi, pdf.bmi, \n",
        "     type=\"l\", lty=1, # type=\"l\" draws line lty=1 is solid line\n",
        "     xlab=\"Body Mass Index (BMI)\",\n",
        "  ylab=\"Density\", main=\"Distribution of Population\")"
      ],
      "id": "b45e9cc9-6c2d-47f2-a715-571155b0a4b6"
    },
    {
      "cell_type": "markdown",
      "metadata": {
        "id": "4b8cc518-c0cc-47c8-bc06-6404aa28cffa"
      },
      "source": [
        "# <a name=\"sol3\">Question 3: Picking One Random Sample</a>\n",
        "\n",
        "---\n",
        "-   We can pick a random sample of size $n$ from a normal distribution $N(\\mu, \\sigma)$ using `rnorm(n, mean, sd)`.\n",
        "\n",
        "Replace the question mark in the code below to randomly select 4\n",
        "individual BMI’s from the population $X \\sim N(26,4)$.\n",
        "\n",
        "## <a name=\"sol3\">Solution to Question 3</a>\n",
        "\n",
        "----\n",
        "\n",
        "Edit and run the code cell below."
      ],
      "id": "4b8cc518-c0cc-47c8-bc06-6404aa28cffa"
    },
    {
      "cell_type": "code",
      "execution_count": null,
      "metadata": {
        "id": "092e3476-e8fd-42ee-95c4-735c98149dd9"
      },
      "outputs": [],
      "source": [
        "#Randomly picks 4 values from N(26,4)\n",
        "my.sample <- ? \n",
        "my.sample  # print your sample to the screen"
      ],
      "id": "092e3476-e8fd-42ee-95c4-735c98149dd9"
    },
    {
      "cell_type": "markdown",
      "metadata": {
        "id": "712548a1-7bee-4e27-954a-80241ef11e90"
      },
      "source": [
        "# <a name=\"quest4\">Question 4: Comparing Statistics and Parameters\n",
        "----\n",
        "\n",
        "Calculate the mean and standard deviation of your sample using the code\n",
        "below. Then:\n",
        "\n",
        "-   Discuss how the statistics of your sample will compare to the population parameters $\\mu = 26$ and $\\sigma =4$?\n",
        "-   Discuss how the statistics of your sample will compare to the statistics that others in class obtain with their own samples?"
      ],
      "id": "712548a1-7bee-4e27-954a-80241ef11e90"
    },
    {
      "cell_type": "code",
      "execution_count": null,
      "metadata": {
        "id": "415f2a2c-be0c-4f99-86bb-328111e47d00"
      },
      "outputs": [],
      "source": [
        "  # enter a command to compute the mean of my.sample\n",
        "\n",
        "  # enter a command to compute the st. dev. of my.sample\n",
        "  "
      ],
      "id": "415f2a2c-be0c-4f99-86bb-328111e47d00"
    },
    {
      "cell_type": "markdown",
      "metadata": {
        "id": "1cfdb6ac-ebb6-4a57-9f46-9c93e603152e"
      },
      "source": [
        "## <a name=\"sol4\">Solution to Question 4</a>\n",
        "----\n",
        "  \n",
        "After completing and running the code cell above, answer the questions.\n",
        "  \n",
        "<br> <br>  \n",
        "\n"
      ],
      "id": "1cfdb6ac-ebb6-4a57-9f46-9c93e603152e"
    },
    {
      "cell_type": "markdown",
      "source": [
        "# <a name=\"plot-bmi-samp\">Plotting a Sampling Distribution with $n=4$</a>\n",
        "\n",
        "----\n",
        "A sample of $n=4$ adult men are randomly selected. The mean BMI of the\n",
        "sample is calculated using the formula for a sample mean: \n",
        "\n",
        "$$\\bar{x} = \\frac{x_1 + x_2 + x_3+x_4}{4}.$$\n",
        "\n",
        "- Then another random sample of $n=4$ adult men are randomly selected.\n",
        "- The mean of the second sample is calculate.\n",
        "- Repeat this (pick random sample and calculate mean) many, many times (for example 1,000 times).\n",
        "\n",
        "The <font color=\"dodgerblue\">sampling distribution for the mean</font> is the distribution of all sample means obtained by repeatedly picking random samples each of size $n$.\n",
        "\n",
        "- It is important to note that **each sample must have the same size**, $n$.\n",
        "- The sampling distribution for the mean is the distribution of all possible random samples.\n",
        "  - It is extremely difficult and time intensive to write and run code that generates every possible random sample once, without any duplicates.\n",
        "  - In practice, we generate many (say 1,000) such random samples to approximate the sampling distribution.\n",
        "\n",
        "A sampling distribution for the mean BMI for $n=4$ can be constructed with the code below."
      ],
      "metadata": {
        "id": "5T7Rl9_wwTl9"
      },
      "id": "5T7Rl9_wwTl9"
    },
    {
      "cell_type": "code",
      "execution_count": 5,
      "metadata": {
        "id": "c95d3490-907f-4f51-a8e0-a3b58d39a2af",
        "outputId": "8494aacf-f154-4106-96bb-793c884f2397",
        "colab": {
          "base_uri": "https://localhost:8080/",
          "height": 437
        }
      },
      "outputs": [
        {
          "output_type": "display_data",
          "data": {
            "text/plain": [
              "Plot with title “Sampling Distribution of Mean BMI for n=4”"
            ],
            "image/png": "[encoded data removed]"
          },
          "metadata": {
            "image/png": {
              "width": 420,
              "height": 420
            }
          }
        }
      ],
      "source": [
        "# creates an empty vector to store results\n",
        "n4.bmi.bar <- numeric(1000) \n",
        "\n",
        "# A for loop that generates 1000 random samples \n",
        "# Each size n=4, and calculates the sample mean.\n",
        "for (i in 1:1000)\n",
        "{\n",
        "  n4.bmi.sample <- rnorm(4, 26, 4) #Randomly picks 4 values from N(26,4)\n",
        "  n4.bmi.bar[i] <- mean(n4.bmi.sample)\n",
        "}\n",
        "\n",
        "# Plot the sampling distribution\n",
        "hist(n4.bmi.bar, xlim = c(14, 38), \n",
        "     xlab = \"Mean BMI of Sample\",\n",
        "     main = \"Sampling Distribution of Mean BMI for n=4\",\n",
        "     xaxt='n')\n",
        "axis(1, at=seq(14, 38, 4), pos=0)\n",
        "abline(v = 26, col = \"red\", lwd = 2, lty = 2)"
      ],
      "id": "c95d3490-907f-4f51-a8e0-a3b58d39a2af"
    },
    {
      "cell_type": "markdown",
      "metadata": {
        "id": "294a9aa6-4d75-42ae-81e1-cd387d8a332e"
      },
      "source": [
        "# <a name=\"quest5\">Question 5: Center and Spread of the Sampling Distribution</a>\n",
        "----\n",
        "\n",
        "In the code cell below, enter commands to compute the center (as\n",
        "measured by the mean) and spread (as measured by the standard deviation)\n",
        "of the sampling distribution created in the previous code cell when $n=4$.\n",
        "\n",
        "Then comment on how these values compare to the population parameters $\\mu=26$ and $\\sigma =4$.\n",
        "\n",
        "- Note sample means from the previous code cell are stored in the vector `n4.bmi.bar`.\n"
      ],
      "id": "294a9aa6-4d75-42ae-81e1-cd387d8a332e"
    },
    {
      "cell_type": "code",
      "execution_count": null,
      "metadata": {
        "id": "952666ac-0f4d-4622-8a15-bad06b837143"
      },
      "outputs": [],
      "source": [
        "  # enter a command to compute the mean sampling dist\n",
        "\n",
        "  # enter a command to compute the st. dev. of sampling dist\n",
        "  "
      ],
      "id": "952666ac-0f4d-4622-8a15-bad06b837143"
    },
    {
      "cell_type": "markdown",
      "source": [
        "## <a name=\"sol5\">Solution to Question 5</a>\n",
        "----\n",
        "\n",
        "After completing and running the code cell above, comment on how the output compares to the mean and standard deviation of the population $X$.\n",
        "  \n",
        "<br> <br>  \n"
      ],
      "metadata": {
        "id": "2Flz42C0y046"
      },
      "id": "2Flz42C0y046"
    },
    {
      "cell_type": "markdown",
      "metadata": {
        "id": "0df8f594-6395-45a4-975c-dc486b9d8da0"
      },
      "source": [
        "# <a name=\"shape\">Shape of the Sampling Distribution</a>\n",
        "----\n",
        "\n",
        "We can use a <font color=\"dodgerblue\">**Quantile-Quantile**</font> plot (also called a <font color=\"dodgerblue\">**qq-plot**</font>) to compare\n",
        "the shape of our sampling distribution to the standard normal\n",
        "distribution $N(0,1)$.\n",
        "\n",
        "-   Run the code cell below to generate a qq-plot for the sampling distribution for the mean.\n",
        "  -   The closer the points are to the line, the more normal the distribution.\n",
        "  -   The plot below seems mostly normal in the middle, but the tails are slightly deviating from the tails of a normal distribution."
      ],
      "id": "0df8f594-6395-45a4-975c-dc486b9d8da0"
    },
    {
      "cell_type": "code",
      "execution_count": 6,
      "metadata": {
        "id": "4437daf7-836e-44dc-ad80-cb6da7aa8563",
        "outputId": "973a9d3e-ff74-4306-e55f-c5e7b3afba18",
        "colab": {
          "base_uri": "https://localhost:8080/",
          "height": 437
        }
      },
      "outputs": [
        {
          "output_type": "display_data",
          "data": {
            "text/plain": [
              "Plot with title “Normal Q-Q Plot”"
            ],
            "image/png": "[encoded data removed]"
          },
          "metadata": {
            "image/png": {
              "width": 420,
              "height": 420
            }
          }
        }
      ],
      "source": [
        "qqnorm(n4.bmi.bar)\n",
        "qqline(n4.bmi.bar)"
      ],
      "id": "4437daf7-836e-44dc-ad80-cb6da7aa8563"
    },
    {
      "cell_type": "markdown",
      "metadata": {
        "id": "46e01b4d-8048-4872-b5f5-03cc515909c6"
      },
      "source": [
        "# <a name=\"shiny-bmi\">Question 6: Center, Shape, and Spread BMI Sampling Distribution</a>\n",
        "\n",
        "------------------------------------------------------------------------\n",
        "\n",
        "Open the webpage <https://adamspiegler.shinyapps.io/clt_bmi/> to experiment with changing the sample size $n$ used when constructing a sampling distribution for the mean BMI. In particular, explore the following properties of the sampling distribution for the mean BMI:\n",
        "\n",
        "- What is the shape of the sampling distribution?\n",
        "- What is the mean of the sampling distribution?\n",
        "- What is the standard deviation of the sampling distribution?\n",
        "- How does the population change when generating different sampling distributions?\n",
        "\n",
        "Fill in values that describe these properties of the sampling distribution for $n=4$, $n=9$, $n=16$, and $n=81$.\n",
        "\n",
        "## <a name=\"sol6\">Solution to Question 6</a>\n",
        "\n",
        "----\n",
        "\n",
        "<br>\n",
        "\n",
        "| Property           | Population | $n=4$ | $n=9$ | $n=16$ | $n=81$ |\n",
        "|--------------------|------------|-------|-------|--------|--------|\n",
        "| Shape              | Normal     |       |       |        |        |\n",
        "| Mean               | 26         |       |       |        |        |\n",
        "| Standard Deviation | 4          |       |       |        |        |\n",
        "\n",
        "<br> <br>\n"
      ],
      "id": "46e01b4d-8048-4872-b5f5-03cc515909c6"
    },
    {
      "cell_type": "markdown",
      "metadata": {
        "id": "754fad8f-8b78-4c28-996f-9258c815ac64"
      },
      "source": [
        "\n",
        "## Question 6: Center, Shape, and Spread Wait Time Sampling Distribution\n",
        "\n",
        "------------------------------------------------------------------------\n",
        "\n",
        "Run the app below to investigate properties of the sampling distribution\n",
        "for the mean wait time $\\mu_Y$ between successive trains at a certain\n",
        "train stop using the distribution\n",
        "$Y \\sim \\mbox{Exp} \\left( \\frac{1}{40} \\right)$. Based your\n",
        "observations, complete the table below.\n",
        "\n",
        "### Solution to Question 6 for Wait Times\n",
        "\n",
        "------------------------------------------------------------------------"
      ],
      "id": "754fad8f-8b78-4c28-996f-9258c815ac64"
    },
    {
      "cell_type": "code",
      "execution_count": null,
      "metadata": {
        "id": "35502346-ee19-4137-9851-7a39bf6b2a96"
      },
      "outputs": [],
      "source": [
        "# Be sure you have loaded the shiny package\n",
        "# This command is in a previous code cell\n",
        "\n",
        "shinyApp(\n",
        "  \n",
        "ui <- fluidPage(  # Define UI for random distribution app\n",
        "  titlePanel(\"Sampling Distribution for the Mean (Skewed Right)\"),  # App title\n",
        "  \n",
        "  sidebarLayout(\n",
        "      sidebarPanel(\n",
        "      \n",
        "      # Input: Slider for the sample size\n",
        "      sliderInput(inputId = \"sampsize\",\n",
        "                  label = \"Sample Size:\",\n",
        "                  min = 1,\n",
        "                  max = 100,\n",
        "                  value = 4)\n",
        "    ),\n",
        "    \n",
        "    mainPanel(\n",
        "      \n",
        "      # Output: Tabset w/ pop, samp dist, summary, and qqplot\n",
        "      tabsetPanel(type = \"tabs\",\n",
        "                  tabPanel(\"Population\", plotOutput(\"popplot\")),\n",
        "                  tabPanel(\"Sampling Dist Plot\", plotOutput(\"sampdistplot\")),\n",
        "                  tabPanel(\"Summary\", textOutput(\"mean\"), textOutput(\"se\")),\n",
        "                  tabPanel(\"Shape\", plotOutput(\"qq\"))\n",
        "      )\n",
        "      \n",
        "    )\n",
        "  )\n",
        "),\n",
        "\n",
        "server <- function(input, output) {\n",
        "  \n",
        "  boot.stuff <- reactive({\n",
        "    boot.wait <- numeric(1000)\n",
        "    for (i in 1:1000){\n",
        "      wait.sample <- rexp(input$sampsize, 1/40)\n",
        "      boot.wait[i] <- mean(wait.sample)\n",
        "    }\n",
        "    return(boot.wait)\n",
        "  })\n",
        "\n",
        "  output$popplot <- renderPlot({\n",
        "    # load possible wait times.\n",
        "    wait.time <- seq(0, 100, length=200)\n",
        "    \n",
        "    # Compute the value of f(x) of each wait time x if we assume\n",
        "    # the times are exponentially distributed with mean 40 min.\n",
        "    pdf.wait.time <- dexp(wait.time, 1/40)\n",
        "    \n",
        "    # Plot bmi on x-axis and the value of pdf, f(x) on y-axis.\n",
        "    plot(wait.time, pdf.wait.time, \n",
        "         type=\"l\", lty=1,         # type=\"l\" draws line lty=1 is solid line\n",
        "         xlab=\"Wait time (in minutes)\",\n",
        "         ylab=\"Density\", main=\"Distribution of All Train Wait Times\")\n",
        "  })\n",
        "  \n",
        "  \n",
        "  output$sampdistplot <- renderPlot({\n",
        "  \n",
        "    hist(boot.stuff(), xlim = c(0, 100), \n",
        "         xlab = \"Sample Mean\",\n",
        "         main = paste(\"Sampling Distribution of Mean Wait Time for n = \",\n",
        "                      input$sampsize,\n",
        "                      sep = \"\"),\n",
        "         xaxt='n')\n",
        "    axis(1, at=seq(0, 100, 10), pos=0)\n",
        "    abline(v = 40, col = \"red\", lwd = 2, lty = 2)\n",
        "  })\n",
        "    \n",
        "  output$mean <- renderText({\n",
        "    paste(\"The mean of the sampling dist is \",\n",
        "          round(mean(boot.stuff()), 2),\n",
        "          sep = \"\")\n",
        "  })\n",
        "  output$se <- renderText({\n",
        "    paste(\"The standard error of the sampling dist is \",\n",
        "          round(sd(boot.stuff()), 4),\n",
        "          sep = \"\")\n",
        "  })\n",
        "  \n",
        "  output$qq <- renderPlot({\n",
        "    qqnorm(boot.stuff())\n",
        "    qqline(boot.stuff())\n",
        "      })\n",
        "},\n",
        "\n",
        "options = list(height = 500)\n",
        ")"
      ],
      "id": "35502346-ee19-4137-9851-7a39bf6b2a96"
    },
    {
      "cell_type": "markdown",
      "metadata": {
        "id": "500d3ff0-172f-4c27-85f1-b5d0db6e31ad"
      },
      "source": [
        "| Property           | Population   | $n=4$ | $n=9$ | $n=16$ | $n=81$ |\n",
        "|--------------------|--------------|-------|-------|--------|--------|\n",
        "| Shape              | Skewed Right |       |       |        |        |\n",
        "| Mean               | 40           |       |       |        |        |\n",
        "| Standard Deviation | $\\sqrt{40}$  |       |       |        |        |\n",
        "\n",
        "## Working with Empirical Data: Earthquake Depth\n",
        "\n",
        "------------------------------------------------------------------------\n",
        "\n",
        "The dataset `quakes` in the `dplyr` package provides the following\n",
        "summary:\n",
        "\n",
        "> give the locations of 1000 seismic events of MB \\> 4.0. The events\n",
        "> occurred in a cube near Fiji since 1964.\n",
        "\n",
        "-   `lat`: Latitude of event\n",
        "-   `long`: Longitude\n",
        "-   `depth`: Depth (km)\n",
        "-   `mag`: Richter Magnitude\n",
        "-   `stations`: Number of stations reporting\n",
        "\n",
        "### Numerical Summary of Quakes Data\n",
        "\n",
        "------------------------------------------------------------------------"
      ],
      "id": "500d3ff0-172f-4c27-85f1-b5d0db6e31ad"
    },
    {
      "cell_type": "code",
      "execution_count": null,
      "metadata": {
        "id": "38bf5f18-57ab-48b1-aa80-5b85b3f7d102"
      },
      "outputs": [],
      "source": [
        "# requires dplyr package that was\n",
        "# loaded with library command in previous cod cell\n",
        "summary(quakes)"
      ],
      "id": "38bf5f18-57ab-48b1-aa80-5b85b3f7d102"
    },
    {
      "cell_type": "markdown",
      "metadata": {
        "id": "1e620964-f1bd-42bc-aca7-0266306dd982"
      },
      "source": [
        "### Graphical Summary of Depth of Quakes\n",
        "\n",
        "------------------------------------------------------------------------"
      ],
      "id": "1e620964-f1bd-42bc-aca7-0266306dd982"
    },
    {
      "cell_type": "code",
      "execution_count": null,
      "metadata": {
        "id": "8c324974-35ad-4c2c-b23b-889987d6b6b4"
      },
      "outputs": [],
      "source": [
        "plot(density(quakes$depth), \n",
        "         xlab = \"Depth (in km)\",\n",
        "         main = \"Depths of All Earthquakes in Fiji Since 1964\",\n",
        "         xaxt='n')\n",
        "    axis(1, at=seq(-100, 800, 100), pos=0)\n",
        "    abline(v = mean(quakes$depth), col = \"red\", lwd = 2, lty = 2)"
      ],
      "id": "8c324974-35ad-4c2c-b23b-889987d6b6b4"
    },
    {
      "cell_type": "markdown",
      "metadata": {
        "id": "ed75f455-1163-4d11-a3e9-8913132997c9"
      },
      "source": [
        "## Question 7: Center, Shape, and Spread Wait Time Sampling Distribution\n",
        "\n",
        "------------------------------------------------------------------------\n",
        "\n",
        "Run the app below to investigate properties of the sampling distribution\n",
        "for the mean depth of earthquakes near Fiji since 1984, $\\mu_Z$, using\n",
        "the observed data in `quakes`. Based your observations, complete the\n",
        "table below.\n",
        "\n",
        "### Solution to Question 7 for Earthquake Depth\n",
        "\n",
        "------------------------------------------------------------------------"
      ],
      "id": "ed75f455-1163-4d11-a3e9-8913132997c9"
    },
    {
      "cell_type": "code",
      "execution_count": null,
      "metadata": {
        "id": "b5fd6852-0d12-4937-b92f-456240b61aa5"
      },
      "outputs": [],
      "source": [
        "# Be sure you have loaded the shiny package\n",
        "# This command is in a previous code cell\n",
        "\n",
        "shinyApp(\n",
        "\n",
        "ui <- fluidPage(  # Define UI for random distribution app\n",
        "  titlePanel(\"Sampling Distribution for the Mean (Bimodal)\"),  # App title\n",
        "  \n",
        "  sidebarLayout(\n",
        "      sidebarPanel(\n",
        "      \n",
        "      # Input: Slider for the sample size\n",
        "      sliderInput(inputId = \"sampsize\",\n",
        "                  label = \"Sample Size:\",\n",
        "                  min = 1,\n",
        "                  max = 100,\n",
        "                  value = 4)\n",
        "    ),\n",
        "    \n",
        "    mainPanel(\n",
        "      \n",
        "      # Output: Tabset w/ pop, samp dist, summary, and qqplot\n",
        "      tabsetPanel(type = \"tabs\",\n",
        "                  tabPanel(\"Population\", plotOutput(\"popplot\")),\n",
        "                  tabPanel(\"Sampling Dist Plot\", plotOutput(\"sampdistplot\")),\n",
        "                  tabPanel(\"Summary\", textOutput(\"mean\"), textOutput(\"se\")),\n",
        "                  tabPanel(\"Shape\", plotOutput(\"qq\"))\n",
        "      )\n",
        "      \n",
        "    )\n",
        "  )\n",
        "),\n",
        "\n",
        "server <- function(input, output) {\n",
        "  \n",
        "  boot.stuff <- reactive({\n",
        "    boot.quake <- numeric(1000)\n",
        "    for (i in 1:1000){\n",
        "      quake.sample <- sample(quakes$depth, input$sampsize, replace=FALSE)\n",
        "      boot.quake[i] <- mean(quake.sample)\n",
        "    }\n",
        "    return(boot.quake)\n",
        "  })\n",
        "\n",
        "  output$popplot <- renderPlot({\n",
        "    plot(density(quakes$depth), \n",
        "         xlab = \"Depth (in km)\",\n",
        "         main = \"Depths of All Earthquakes in Fiji Since 1964\",\n",
        "         xaxt='n')\n",
        "    axis(1, at=seq(-100, 800, 100), pos=0)\n",
        "    abline(v = mean(quakes$depth), col = \"red\", lwd = 2, lty = 2)  })\n",
        "  \n",
        "  \n",
        "  output$sampdistplot <- renderPlot({\n",
        "  \n",
        "    hist(boot.stuff(), xlim = c(0, 700), \n",
        "         xlab = \"Sample Mean\",\n",
        "         main = paste(\"Sampling Distribution of Mean Depth for n = \",\n",
        "                      input$sampsize,\n",
        "                      sep = \"\"),\n",
        "         xaxt='n')\n",
        "    axis(1, at=seq(0, 700, 100), pos=0)\n",
        "    abline(v = mean(quakes$depth), col = \"red\", lwd = 2, lty = 2)\n",
        "  })\n",
        "    \n",
        "  output$mean <- renderText({\n",
        "    paste(\"The mean of the sampling dist is \",\n",
        "          round(mean(boot.stuff()), 2),\n",
        "          sep = \"\")\n",
        "  })\n",
        "  output$se <- renderText({\n",
        "    paste(\"The standard error of the sampling dist is \",\n",
        "          round(sd(boot.stuff()), 4),\n",
        "          sep = \"\")\n",
        "  })\n",
        "  \n",
        "  output$qq <- renderPlot({\n",
        "    qqnorm(boot.stuff())\n",
        "    qqline(boot.stuff())\n",
        "      })\n",
        "},\n",
        "\n",
        "options = list(height = 500)\n",
        ")"
      ],
      "id": "b5fd6852-0d12-4937-b92f-456240b61aa5"
    },
    {
      "cell_type": "code",
      "execution_count": null,
      "metadata": {
        "id": "6b8241b9-7c46-46df-99dd-7ec90c777b1e"
      },
      "outputs": [],
      "source": [
        "mean(quakes$depth)\n",
        "sd(quakes$depth)"
      ],
      "id": "6b8241b9-7c46-46df-99dd-7ec90c777b1e"
    },
    {
      "cell_type": "markdown",
      "metadata": {
        "id": "11f53f99-9c2b-4430-9ac6-cfa5db3327c1"
      },
      "source": [
        "| Property           | Population | $n=4$ | $n=9$ | $n=16$ | $n=81$ |\n",
        "|--------------------|------------|-------|-------|--------|--------|\n",
        "| Shape              | Bimodal    |       |       |        |        |\n",
        "| Mean               | 331        |       |       |        |        |\n",
        "| Standard Deviation | 215.5      |       |       |        |        |\n",
        "\n",
        "# Notation for Population, Mean, and Distribution of Sample Means\n",
        "\n",
        "------------------------------------------------------------------------\n",
        "\n",
        "When describing the **mean** of a distribution we use the notation:\n",
        "\n",
        "-   Population mean: $\\mu_X$\n",
        "-   Sample mean: $\\bar{x}$\n",
        "-   Center of the Sampling distribution for a mean: $\\mu_{\\overline{X}}$\n",
        "\n",
        "When describing the **standard deviation** of a distribution we use the\n",
        "notation:\n",
        "\n",
        "-   Population standard deviation: $\\sigma_X$\n",
        "\n",
        "-   Sample standard deviation: $s_X$\n",
        "\n",
        "-   Spread of the sampling distribution is called the **Standard\n",
        "    Error**.\n",
        "\n",
        "    -   The standard error measures the variability in sample statistics\n",
        "        due to randomness.\n",
        "    -   We use the notation\n",
        "        $\\mbox{SE}(\\overline{X}) = \\sigma_{\\overline{X}}$.\n",
        "\n",
        "## Question 8: Shape of Sampling Distributions for a Mean\n",
        "\n",
        "------------------------------------------------------------------------\n",
        "\n",
        "In each of the three sampling distributions we examined, lets summarize\n",
        "what seems to be happening as the size of the samples, $n$, is\n",
        "increased.\n",
        "\n",
        "Does the shape of the sampling distribution stay the same as the\n",
        "population or does it change as $n$ increases?\n",
        "\n",
        "### Solution to Question 8\n",
        "\n",
        "------------------------------------------------------------------------\n",
        "\n",
        "  \n",
        "  \n",
        "\n",
        "## Question 9: Center of Sampling Distributions for a Mean\n",
        "\n",
        "------------------------------------------------------------------------\n",
        "\n",
        "Does the center of the sampling distribution, $\\mu_{\\overline{X}}$, stay\n",
        "the same or change as $n$ increases? How does the value of\n",
        "$\\mu_{\\overline{X}}$ compare to the population mean $\\mu_X$?\n",
        "\n",
        "### Solution to Question 9\n",
        "\n",
        "------------------------------------------------------------------------\n",
        "\n",
        "  \n",
        "  \n",
        "\n",
        "## Question 10: Spread of Sampling Distributions for a Mean\n",
        "\n",
        "------------------------------------------------------------------------\n",
        "\n",
        "Does the standard error of the sampling distribution,\n",
        "$\\mbox{SE}(\\overline{X})$, stay the same or change as $n$ increases?\n",
        "\n",
        "### Solution to Question 10\n",
        "\n",
        "------------------------------------------------------------------------\n",
        "\n",
        "  \n",
        "  \n",
        "  \n",
        "\n",
        "# Formal Statement of the Central Limit Theorem (for Sample Means)\n",
        "\n",
        "------------------------------------------------------------------------\n",
        "\n",
        "Let $X_1, X_2, \\ldots , X_n$ be independent, identically distributed\n",
        "(iid) random variables from a population with mean and standard\n",
        "deviation $\\mu$ and $\\sigma$, then as long as $n$ is large enough\n",
        "(informally $\\mathbf{n \\geq 30}$), the sampling distribution for the\n",
        "mean, $\\bar{X}$ will:\n",
        "\n",
        "-   Be (approximately) normally distribution.\n",
        "-   Have mean equal to the mean of the population, $\\mu$.\n",
        "-   Have standard error $\\mbox{SE}(\\bar{X}) = \\frac{\\sigma}{\\sqrt{n}}$.\n",
        "\n",
        "We summarize the results more concisely below:\n",
        "\n",
        "$$ \\overline{X} \\sim N \\left( \\mu_{\\overline{X}} , \\sigma_{\\overline{X}} \\right) = N \\left( \\mu  , \\frac{\\sigma}{\\sqrt{n}} \\right)$$\n",
        "\n",
        "## Question 11\n",
        "\n",
        "------------------------------------------------------------------------\n",
        "\n",
        "Using properties of expected value and variance of linear combinations\n",
        "of independent events, prove each of the following:\n",
        "\n",
        "1.  $\\displaystyle E \\left( \\bar{X} \\right) = E \\left( \\frac{X_1 + X_2 + \\ldots + X_n}{n} + \\right) = \\mu_X$\n",
        "\n",
        "2.  $\\displaystyle \\mbox{Var} \\left( \\bar{X} \\right) = \\mbox{Var} \\left( \\frac{X_1 + X_2 + \\ldots + X_n}{n} \\right) = \\frac{\\sigma^2_X}{n}$\n",
        "\n",
        "### Solution to Question 11a\n",
        "\n",
        "------------------------------------------------------------------------\n",
        "\n",
        "  \n",
        "  \n",
        "  \n",
        "\n",
        "### Solution to Question 11b\n",
        "\n",
        "------------------------------------------------------------------------"
      ],
      "id": "11f53f99-9c2b-4430-9ac6-cfa5db3327c1"
    }
  ],
  "nbformat": 4,
  "nbformat_minor": 5,
  "metadata": {
    "kernelspec": {
      "name": "ir",
      "display_name": "R",
      "language": "R"
    },
    "colab": {
      "provenance": []
    }
  }
}