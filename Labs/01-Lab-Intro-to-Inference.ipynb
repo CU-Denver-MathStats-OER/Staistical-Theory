{
  "cells": [
    {
      "cell_type": "markdown",
      "metadata": {
        "id": "173b5c5f-ce8e-4ec8-acc4-90252f876600"
      },
      "source": [
        "Click [![Open In Colab](https://colab.research.google.com/assets/colab-badge.svg)](https://githubtocolab.com/CU-Denver-MathStats-OER/Statistical-Theory/blob/main/Chap1/01-Intro-to-Inference.ipynb) to open an interactive version of the full text section."
      ],
      "id": "173b5c5f-ce8e-4ec8-acc4-90252f876600"
    },
    {
      "cell_type": "markdown",
      "metadata": {
        "id": "4ef5d7b6-2594-4538-a89e-5b8bad047381"
      },
      "source": [
        "# <a name=\"01intro\">1.1: Introduction to Statistics</a>\n",
        "---\n",
        "\n",
        "<font color=\"dodgerblue\">**Statistics**</font> is the study of\n",
        "collection, organization, analysis, interpretation, and presentation of data. Statistical methods are essential in exploring questions that can be analyzed using data. Sometimes insights from data arise from a nice visualization or plot. Many times, a nice visualization leads to more advanced questions that require further statistical theory, models, and analysis. We will explore both modern and classical statistical methods, and in order to do so, we need data!\n"
      ],
      "id": "4ef5d7b6-2594-4538-a89e-5b8bad047381"
    },
    {
      "cell_type": "markdown",
      "source": [
        "# <a name=\"01what-is-R\">What is R?</a>\n",
        "---\n",
        "\n",
        "[R](https://www.r-project.org/about.html) is a programming language used largely for statistical computing, data wrangling and visualization. We will be using R as a tool for exploring statistical theory.  The first stable version of R was released in 2000, and after all of this time, there is a large community of R users that have already created tons of useful packages and shared interesting data sets that are frequently updated.\n",
        "\n"
      ],
      "metadata": {
        "id": "ci3VzOUXgygM"
      },
      "id": "ci3VzOUXgygM"
    },
    {
      "cell_type": "markdown",
      "metadata": {
        "id": "20c364ae-4997-4621-a1c6-833cc66dcf82"
      },
      "source": [
        "## <a name=\"01load-pack\">Loading Packages with the `library()` Command</a>\n",
        "---\n",
        "\n",
        "Each time we start or restart a new R session and want to access the library of functions and data in the package, we need to load the library of files in the package with the `library()` command.\n",
        "\n",
        "-   The `dplyr` package is already installed in Google Colaboratory\n",
        "-   We still need to use a `library()` command to load the package if we want to access data and functions in the package.\n",
        "-   If we do not run the code cell below, we will not be able to run the rest of the code cells in this document without receiving error messages.\n",
        "-   **Run the code cell below to load the `dplyr` package.**"
      ],
      "id": "20c364ae-4997-4621-a1c6-833cc66dcf82"
    },
    {
      "cell_type": "code",
      "execution_count": null,
      "metadata": {
        "id": "da6702b3-120e-43b9-bd24-3b73284c87f3"
      },
      "outputs": [],
      "source": [
        "library(dplyr)"
      ],
      "id": "da6702b3-120e-43b9-bd24-3b73284c87f3"
    },
    {
      "cell_type": "markdown",
      "source": [
        "## <a name=\"01help\">Finding Help Documentation</a>\n",
        "---\n",
        "\n",
        "\n",
        "We can find help without opening a separate browser window or tab. The `?` help operator and `help()` function provide access to the help manuals for R functions, data sets, and other objects. Running a `?` or `help()` command in a code cell opens a side bar with a tab displaying the help documentation.\n",
        "\n",
        "-   For example, the package `dplyr` contains a data set called `storms`.\n",
        "-   Where is the data from, and what variables are in the data set?\n",
        "-   **Run the code cell below to access the help documentation for the `storms` data set.**\n",
        "    -   Resizing the tab in the side bar may help the documentation be more readable.\n",
        "    -   We can close the tab if we want to increase the size of our working window."
      ],
      "metadata": {
        "id": "7iKHN8QEi5r1"
      },
      "id": "7iKHN8QEi5r1"
    },
    {
      "cell_type": "code",
      "execution_count": null,
      "metadata": {
        "id": "44284484-234e-4a1d-99b9-bfb3a7c8a090"
      },
      "outputs": [],
      "source": [
        "?storms"
      ],
      "id": "44284484-234e-4a1d-99b9-bfb3a7c8a090"
    },
    {
      "cell_type": "markdown",
      "metadata": {
        "id": "0ca0e7c6-1aca-4eb4-9e2c-f5c3021db36f"
      },
      "source": [
        "## <a name=\"01q1\">Question 1</a>\n",
        "---\n",
        "\n",
        "After reading the `storms` help documentation, answer the following\n",
        "questions:\n",
        "\n",
        "a.  What is the source of the data?\n",
        "\n",
        "b.  What variables are included in the data?\n",
        "\n",
        "c.  Over what period of time and how frequently are observations recorded?\n",
        "\n",
        "### <a name=\"01sol1\">Solutions to Question 1</a>\n",
        "---\n",
        "\n",
        "<br> <br> <br> <br>\n",
        "  \n",
        "\n"
      ],
      "id": "0ca0e7c6-1aca-4eb4-9e2c-f5c3021db36f"
    },
    {
      "cell_type": "markdown",
      "source": [
        "## <a name=\"01q2\">Question 2</a>\n",
        "---\n",
        "\n",
        "Insert a code cell and run the command `?hist` to see the help\n",
        "documentation for the histogram function.\n",
        "\n",
        "a.  What option can we use to add a main title to the histogram?\n",
        "\n",
        "b.  What option can we use to set the fill color for the bars of a histogram?\n",
        "\n",
        "### <a name=\"01sol2\">Solution to Question 2</a>\n",
        "---\n",
        "\n",
        "<br> <br> <br> <br>\n",
        "  \n",
        "\n"
      ],
      "metadata": {
        "id": "7yRLREkCi-Iv"
      },
      "id": "7yRLREkCi-Iv"
    },
    {
      "cell_type": "markdown",
      "source": [
        "# <a name=\"01inference\">Statistical Inference</a>\n",
        "---\n",
        "\n",
        "A fundamental application of statistics is to use data from a subset of\n",
        "a population to draw conclusions about the population.\n",
        "\n",
        "-   A <font color=\"dodgerblue\">**population**</font> includes all individuals or objects of interest.\n",
        "-   A <font color=\"dodgerblue\">**sample**</font> is a subset of the population.\n",
        "-   <font color=\"dodgerblue\">**Statistical inference**</font> is the process of drawing conclusions about the entire population based on information in a sample.\n",
        "-   This process can be thought of as a cycle that is pictured below.\n",
        "\n",
        "\n",
        "<figure>\n",
        "<img\n",
        "src=\"https://upload.wikimedia.org/wikipedia/commons/e/ee/01fig-inference.png\"\n",
        "style=\"width:80.0%\"\n",
        "alt=\"Image Credit: Loneshieling, modified by Adam Spiegler, CC BY-SA 4.0.\" />\n",
        "<figcaption aria-hidden=\"true\">Image Credit: <a\n",
        "href=\"https://commons.m.wikimedia.org/wiki/File:Population_versus_sample_%28statistics%29.png\">Loneshieling</a>,\n",
        "modified by Adam Spiegler, <a\n",
        "href=\"https://creativecommons.org/licenses/by-sa/4.0\">CC BY-SA\n",
        "4.0</a>.</figcaption>\n",
        "</figure>\n",
        "\n",
        "**This semester we will mainly focus on steps 3 and 4; however, the methods we learn are not as powerful without carefully considering steps 1 and 2!**\n",
        "\n"
      ],
      "metadata": {
        "id": "_akQ3XenjAHB"
      },
      "id": "_akQ3XenjAHB"
    },
    {
      "cell_type": "markdown",
      "source": [
        "## <a name=\"01q3\">Question 3</a>\n",
        "---\n",
        "\n",
        "In the `storms` data set, is the data from a sample or a population? What information in the help documentation supports your answer? Recall you can run the command `?storms` to open the help documentation.\n",
        "\n",
        "### <a name=\"01sol3\">Solution to Question 3</a>\n",
        "---\n",
        "\n",
        "<br> <br> <br> <br>  \n",
        "  \n",
        "\n"
      ],
      "metadata": {
        "id": "TJX17874jKVU"
      },
      "id": "TJX17874jKVU"
    },
    {
      "cell_type": "markdown",
      "source": [
        "## <a name=\"01q4\">Question 4</a>\n",
        "---\n",
        "\n",
        "What statistical questions might be worth investigating among the\n",
        "variables in the `storms` data set? What data visualizations could be useful to uncover interesting questions?\n",
        "\n",
        "Run the `summary(storms)` command in the code cell below to view a numerical summary for each variable in the data set to help formulate your question."
      ],
      "metadata": {
        "id": "rRv48lX0jOwe"
      },
      "id": "rRv48lX0jOwe"
    },
    {
      "cell_type": "code",
      "execution_count": null,
      "metadata": {
        "id": "17063199-6f96-4ca0-a95f-4fc29d03df28"
      },
      "outputs": [],
      "source": [
        "summary(storms)"
      ],
      "id": "17063199-6f96-4ca0-a95f-4fc29d03df28"
    },
    {
      "cell_type": "markdown",
      "metadata": {
        "id": "e497a79b-6316-4f86-b559-dc2acb86a892"
      },
      "source": [
        "### <a name=\"01sol4\">Solution to Question 4</a>\n",
        "---\n",
        "\n",
        "<br> <br> <br> <br>  \n",
        "  \n",
        "  \n",
        "\n"
      ],
      "id": "e497a79b-6316-4f86-b559-dc2acb86a892"
    },
    {
      "cell_type": "markdown",
      "source": [
        "# <a name=\"01design\">Designing Studies</a>\n",
        "---\n",
        "\n",
        "Often in statistics we would like to investigate whether one variable is associated to another. Researchers carry out studies to understand the conditions and causes of certain outcomes.\n",
        "\n",
        "-   Does daily exercise reduce the risk of early onset dementia?\n",
        "-   Is rewarding people or punishing people a more effective incentive to help them quit smoking?\n",
        "-   Is a new vaccine effective at preventing disease?\n",
        "\n",
        "If we are using one variable to help us understand or predict the values (or category) of another variable:\n",
        "\n",
        "- We call the first variable the <font color=\"dodgerblue\">**explanatory, independent, or predictor variable**</font>.\n",
        "- The second the <font color=\"dodgerblue\">**response or dependent variable**</font>.\n",
        "- Different categories of a predictor variable are called <font color=\"dodgerblue\">**treatments or levels**</font>.\n",
        "\n"
      ],
      "metadata": {
        "id": "kdClMfeYjdBM"
      },
      "id": "kdClMfeYjdBM"
    },
    {
      "cell_type": "markdown",
      "source": [
        "## <a name=\"01q5\">Question 5</a>\n",
        "---\n",
        "\n",
        "For each question below, which variable is the predictor variable and which is the response variable? How would your organize the data you collect in each case?\n",
        "\n",
        "a.  Does daily exercise reduce the risk of early onset dementia?\n",
        "\n",
        "b.  Is rewarding people or punishing people a more effective incentive to help them quit smoking?\n",
        "\n",
        "c.  Is a new vaccine effective at preventing disease?\n",
        "\n",
        "### <a name=\"01sol5\">Solution to Question 5</a>\n",
        "---\n",
        "\n",
        "  \n",
        "<br> <br> <br> <br>  \n",
        "  \n",
        "\n"
      ],
      "metadata": {
        "id": "z1llMYMOjf3B"
      },
      "id": "z1llMYMOjf3B"
    },
    {
      "cell_type": "markdown",
      "source": [
        "## <a name=\"01q6\">Question 6</a>\n",
        "---\n",
        "\n",
        "Both studies below are designed to examine whether rewarding good\n",
        "behavior or punishing bad behavior is a more effective method to help people quit smoking. Which study do you believe is better designed? Why?\n",
        "\n",
        "### <a name=\"01studyA\">Study A</a>\n",
        "---\n",
        "\n",
        "Employees at a large company voluntarily enroll in a quit smoking study.\n",
        "When they join, they are provided two options to select from:\n",
        "\n",
        "- Option 1 (<font color=\"mediumseagreen\">**Reward-based group**</font>): If after six months the participant has quit smoking, they get an \\$800 reward.\n",
        "\n",
        "- Option 2: (<font color=\"tomato\">**Deposit-based group**</font>): Pay an initial \\$150 refundable deposit. If after six months the participant:\n",
        "  - Has quit smoking, they receive their \\$150 deposit back plus an additional \\$800 reward.\n",
        "  - Has not quit smoking, then they do not receive their \\$150 deposit back.\n",
        "\n",
        "After six months, we compare the success rate between the two groups to determine which method is more effective.\n",
        "\n",
        "### <a name=\"01studyB\">Study B</a>\n",
        "---\n",
        "\n",
        "Employees at a large company voluntarily enroll in a quit smoking study.\n",
        "\n",
        "-  When they join, they are randomly assigned to either be in the <font color=\"mediumseagreen\">**Reward-based group**</font> or <font color=\"tomato\">**Deposit-based group**</font> with the same exact reward and penalty system for each option as in [Study A](#01studyA).\n",
        "\n",
        "After six months, we compare the success rate between the two groups to\n",
        "determine which method is more effective.\n",
        "\n",
        "### <a name=\"01sol6\">Solution to Question 6</a>\n",
        "---\n",
        "\n",
        "<br> <br> <br> <br>\n",
        "  \n",
        "  \n",
        "  \n",
        "\n"
      ],
      "metadata": {
        "id": "8fab3FidjhoH"
      },
      "id": "8fab3FidjhoH"
    },
    {
      "cell_type": "markdown",
      "source": [
        "## <a name=\"01confounding\">Confounding Variables</a>\n",
        "\n",
        "---\n",
        "\n",
        "A variable that is associated with both the predictor variable and the response variable is called a <font color=\"dodgerblue\">**confounding or lurking variable**</font>.\n",
        "\n",
        "\n",
        "\n",
        "<figure>\n",
        "<a title=\"Adam Spiegler, CC BY-SA 4.0 &lt;https://creativecommons.org/licenses/by-sa/4.0&gt;\" href=\"https://upload.wikimedia.org/wikipedia/commons/thumb/b/b7/01fig-confounding.png/512px-01fig-confounding.png\"><img width=\"512\" alt=\"Diagram of Confounding Variable\" src=\"https://upload.wikimedia.org/wikipedia/commons/thumb/b/b7/01fig-confounding.png/512px-01fig-confounding.png\"></a>\n",
        "<figcaption aria-hidden=\"true\">Image Credit: Adam Spiegler, <a\n",
        "href=\"https://creativecommons.org/licenses/by-sa/4.0\">CC BY-SA 4.0</a>\n",
        "</figcaption>\n",
        "</figure>\n"
      ],
      "metadata": {
        "id": "v8--z900jkgB"
      },
      "id": "v8--z900jkgB"
    },
    {
      "cell_type": "markdown",
      "source": [
        "## <a name=\"01q7\">Question 7</a>\n",
        "---\n",
        "\n",
        "In [Question 6](#01q6), identify a possible confounding variable in [Study A](#01studyA) or explain why there are no confounding variables. Identify a possible confounding variable in [Study B](#01studyB) or explain why there are no confounding variables.\n",
        "\n",
        "### <a name=\"01sol7\">Solution to Question 7</a>\n",
        "---\n",
        "\n",
        "  \n",
        "<br> <br> <br> <br>  \n",
        "  \n",
        "\n"
      ],
      "metadata": {
        "id": "9XSbLEb2jnqZ"
      },
      "id": "9XSbLEb2jnqZ"
    },
    {
      "cell_type": "markdown",
      "source": [
        "## <a name=\"01expriment\">Experiments and Observational Studies</a>\n",
        "---\n",
        "\n",
        "- An <font color=\"dodgerblue\">**observational study**</font> is a study in which the researcher does not actively control the assignment of individuals to different treatments or levels of a predictor variable.\n",
        "  - If the treatment groups are chosen by the individuals in the study, the samples in each treatment group are likely to differ in some meaningful way other than just the treatment.\n",
        "\n",
        "- An <font color=\"dodgerblue\">**experiment**</font> is a study in which the researcher controls the assignment of individuals to different treatments or levels of a predictor variable.\n",
        "-  In a <font color=\"dodgerblue\">**randomized experiment**</font> the predictor variable for each individual is determined randomly, before the response variable is measured.\n",
        "  - If treatment groups are randomly determined, they should be similar in every way except for the treatment itself.\n",
        "  - <font color=\"mediumseagreen\">**When properly designed, randomized experiments can show a predictor variable causes a change in the response variable.**</font>\n",
        "\n",
        "<font color=\"tomato\">**There are almost always confounding variables in observational studies. Thus observational studies can almost never be used to establish causation.**</font> Sometimes it is not possible to design an experiment for ethical or practical reasons. We can still investigate whether two variables are *associated* with each other in observational studies.\n",
        "\n"
      ],
      "metadata": {
        "id": "-903Gr0Kjowp"
      },
      "id": "-903Gr0Kjowp"
    },
    {
      "cell_type": "markdown",
      "source": [
        "## <a name=\"01q8\">Question 8</a>\n",
        "---\n",
        "\n",
        "In [Question 6](#01q6), determine whether [Study A](#01studyA) is an observational study or an experiment. Determine whether [Study B](#01studyB) is an observational study or an experiment. Explain how you determined your answers.\n",
        "\n",
        "### <a name=\"01sol8\">Solution to Question 8</a>\n",
        "---\n",
        "\n",
        "  \n",
        "<br> <br> <br> <br>  \n",
        "  \n",
        "\n"
      ],
      "metadata": {
        "id": "UmXOvI5tjqRH"
      },
      "id": "UmXOvI5tjqRH"
    },
    {
      "cell_type": "markdown",
      "source": [
        "# <a name=\"CC License\">Creative Commons License Information</a>\n",
        "---\n",
        "\n",
        "![Creative Commons\n",
        "License](https://i.creativecommons.org/l/by-nc-sa/4.0/88x31.png)\n",
        "\n",
        "*Statistical Methods: Exploring the Uncertain*  by [Adam\n",
        "Spiegler (University of Colorado Denver)](https://github.com/CU-Denver-MathStats-OER/Statistical-Theory)\n",
        "is licensed under a [Creative Commons\n",
        "Attribution-NonCommercial-ShareAlike 4.0 International\n",
        "License](http://creativecommons.org/licenses/by-nc-sa/4.0/). This work is funded by an [Institutional OER Grant from the Colorado Department of Higher Education (CDHE)](https://cdhe.colorado.gov/educators/administration/institutional-groups/open-educational-resources-in-colorado).\n",
        "\n",
        "For similar interactive OER materials in other courses funded by this project in the Department of Mathematical and Statistical Sciences at the University of Colorado Denver, visit <https://github.com/CU-Denver-MathStats-OER>."
      ],
      "metadata": {
        "id": "0LUMgFshjsYa"
      },
      "id": "0LUMgFshjsYa"
    }
  ],
  "nbformat": 4,
  "nbformat_minor": 5,
  "metadata": {
    "kernelspec": {
      "name": "ir",
      "display_name": "R",
      "language": "R"
    },
    "colab": {
      "provenance": []
    }
  }
}