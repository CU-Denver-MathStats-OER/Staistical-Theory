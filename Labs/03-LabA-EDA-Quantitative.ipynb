{
  "cells": [
    {
      "cell_type": "markdown",
      "metadata": {
        "id": "FAc3E0dDYnxu"
      },
      "source": [
        "Click [![Open In Colab](https://colab.research.google.com/assets/colab-badge.svg)](https://githubtocolab.com/CU-Denver-MathStats-OER/Statistical-Theory/blob/main/Chap1//03-EDA-Quantitative.ipynb) to open interactive version of the full text section.\n",
        "\n",
        "\n",
        "For a shorter [in-class lab version of the section, part 1, click here.](https://githubtocolab.com/CU-Denver-MathStats-OER/Statistical-Theory/blob/main/Labs/03-EDA-LabA-Quantitative.ipynb)\n",
        "\n",
        "For a shorter [in-class lab version of the section, part 2, click here.](https://githubtocolab.com/CU-Denver-MathStats-OER/Statistical-Theory/blob/main/Labs/03-EDA-LabB-Quantitative.ipynb)"
      ],
      "id": "FAc3E0dDYnxu"
    },
    {
      "cell_type": "markdown",
      "metadata": {
        "id": "9675d840-718c-4a8b-864e-8100e8827eac"
      },
      "source": [
        "# <a name=\"03intro\">1.3: Exploring Quantitative Data</a>\n",
        "\n",
        "---\n",
        "\n",
        "\n",
        "Additional Reading:\n",
        "\n",
        "-   See [Overview of Plotting Data in R](https://githubtocolab.com/CU-Denver-MathStats-OER/Statistical-Theory/blob/main/Appendix/Overview-of-Plots.ipynb) for further reading and examples about plotting in R.\n",
        "-   See [Fundamentals of Working with Data](https://githubtocolab.com/CU-Denver-MathStats-OER/Statistical-Theory/blob/main/Appendix/Intro-to-Vectors-Dataframes.ipynb) for more information about data types and structures in R.\n",
        "-   The [R Graph Gallery](https://r-graph-gallery.com/) has examples of many other types of graphs.\n"
      ],
      "id": "9675d840-718c-4a8b-864e-8100e8827eac"
    },
    {
      "cell_type": "markdown",
      "source": [
        "# <a name=\"03variables\">Types of Variables</a>\n",
        "\n",
        "---\n",
        "\n",
        "In statistics,  <font color=\"dodgerblue\">**variables** </font> are the attributes measured or collected in data. We refer to them as variables since the values or classes of attributes typically vary from observation to observation. The term variable is used differently in statistics from the notion of a variable in algebra. There are two types of variables in statistics:\n",
        "\n",
        "-   If a variable is measured or counted by a number, it is called a <font color=\"dodgerblue\">**quantitative** </font> or <font color=\"dodgerblue\">**numerical** </font> variable.\n",
        "  -   Quantitative variables may be <font color=\"dodgerblue\">**discrete (integers)**</font> or <font color=\"dodgerblue\">**continuous (decimals)**</font>.\n",
        "\n",
        "-   If a variable groups observations into different categories or rankings, it is a <font color=\"dodgerblue\">**qualitative** </font> or <font color=\"dodgerblue\">**categorical** </font> variable.\n",
        "  -   The different categories of a qualitative variable are called <font color=\"dodgerblue\">**levels** </font> or <font color=\"dodgerblue\">**classes** </font>.\n",
        "\n",
        "The type of statistical analysis we can do depends on whether:\n",
        "\n",
        "-   We are investigating a single variable, or looking for an association between multiple variables.\n",
        "-   The variable(s) are quantitative or categorical.\n",
        "-   The data satisfies certain assumptions.\n",
        "\n",
        "In our work with [Exploring Categorical\n",
        "Data](https://githubtocolab.com/CU-Denver-MathStats-OER/Statistical-Theory/blob/main/Chap1/02-EDA-Categorical.ipynb), we performed an initial summary of the categorical variables in the `storms` data set. Today, we will investigate how to numerically and visually summarize quantitative variables.\n",
        "\n"
      ],
      "metadata": {
        "id": "xUc9UEo_nzrk"
      },
      "id": "xUc9UEo_nzrk"
    },
    {
      "cell_type": "markdown",
      "source": [
        "# <a name=\"03data\">Getting to Know Our Data</a>\n",
        "\n",
        "---\n",
        "\n",
        "The `dplyr` package contains a data set from the [NOAA Hurricane Best\n",
        "Track Data](https://www.nhc.noaa.gov/data/#hurdat) that contains data on\n",
        "the following attributes of tracked North Atlantic storms since 1975:\n",
        "\n",
        "-   Storm name: `name`\n",
        "-   Date and time: `year`, `month`, `day`, and `hour`\n",
        "-   Storm position: `lat` and `long`\n",
        "-   Storm classification: `status`\n",
        "-   Category of hurricane: `category` (non-hurricanes are `NA`)\n",
        "-   Wind speed (in knots): `wind`\n",
        "-   Pressure (in millibars): `pressure`\n",
        "-   Tropical storm force diameter (in nautical miles): `tropicalstorm_force_diameter`\n",
        "-   Hurricane force diameter (in nautical miles): `hurricane_force_diameter`\n",
        "\n",
        "See [Exploring Categorical Data](https://githubtocolab.com/CU-Denver-MathStats-OER/Statistical-Theory/blob/main/Chap1/02-EDA-Categorical.ipynb) for a refresher on our initial exploration with the `storms` data frame.\n",
        "\n"
      ],
      "metadata": {
        "id": "bVyOMZpVe7TV"
      },
      "id": "bVyOMZpVe7TV"
    },
    {
      "cell_type": "markdown",
      "source": [
        "## <a name=\"03load\">Loading Required Package</a>\n",
        "\n",
        "---\n",
        "\n",
        "In order to access the `storms` data frame in the `dplyr` package, we first load the package with the `library()` function."
      ],
      "metadata": {
        "id": "kh0efT-_hcOH"
      },
      "id": "kh0efT-_hcOH"
    },
    {
      "cell_type": "code",
      "execution_count": null,
      "metadata": {
        "id": "226c6336-355d-4429-8d21-3ffb73a43572"
      },
      "outputs": [],
      "source": [
        "library(dplyr)  # load dplyr package"
      ],
      "id": "226c6336-355d-4429-8d21-3ffb73a43572"
    },
    {
      "cell_type": "markdown",
      "metadata": {
        "id": "a0d5a90b-e9b8-4a4b-95d9-222bff84c962"
      },
      "source": [
        "## <a name=\"03help\">Help Documentation for `storms`</a>\n",
        "\n",
        "---\n",
        "\n",
        "The `?` help operator and `help()` function provide access to the help manuals for R functions, data sets, and other objects. If at any point we want to learn more about data or a function used in this notebook, we can use the help operator. For example, `?typeof`, `?str`, `?hist`, and `?boxplot` will open a help tab with further details about each of function.\n",
        "\n",
        "-   **Run the code cell below to access the help documentation for the `storms` data set.**"
      ],
      "id": "a0d5a90b-e9b8-4a4b-95d9-222bff84c962"
    },
    {
      "cell_type": "code",
      "execution_count": null,
      "metadata": {
        "id": "dbfb5035-bcd0-45d7-9379-33b60247cd55"
      },
      "outputs": [],
      "source": [
        "?storms  # open help tab"
      ],
      "id": "dbfb5035-bcd0-45d7-9379-33b60247cd55"
    },
    {
      "cell_type": "markdown",
      "metadata": {
        "id": "827bb95f-104a-4db5-a4d3-4241de6db464"
      },
      "source": [
        "## <a name=\"03q1\">Question 1</a>\n",
        "\n",
        "---\n",
        "\n",
        "List all the quantitative variables in `storms`. Which are being stored\n",
        "as `integer`, and which are stored as `double` (decimals)?\n",
        "\n",
        "- You can edit, run  and rerun the `typeof()` function in the first code cell below to help identify the data types of individual variables in `storms`.\n",
        "- You can use the `str()` function in the second code cell to identify the data types of all variables at once."
      ],
      "id": "827bb95f-104a-4db5-a4d3-4241de6db464"
    },
    {
      "cell_type": "code",
      "execution_count": null,
      "metadata": {
        "id": "49b82443-299d-4e4e-8f7a-d5f20e31ac8f"
      },
      "outputs": [],
      "source": [
        "typeof(storms$year)"
      ],
      "id": "49b82443-299d-4e4e-8f7a-d5f20e31ac8f"
    },
    {
      "cell_type": "code",
      "source": [
        "str(storms)"
      ],
      "metadata": {
        "id": "AbZ0tjRHvymD"
      },
      "id": "AbZ0tjRHvymD",
      "execution_count": null,
      "outputs": []
    },
    {
      "cell_type": "markdown",
      "metadata": {
        "id": "f33521e7-be3a-4ec9-8304-5903325eb71f"
      },
      "source": [
        "### <a name=\"03sol1\">Solution to Question 1</a>\n",
        "\n",
        "---\n",
        "\n",
        "<br> <br> <br>\n",
        "  \n",
        "\n"
      ],
      "id": "f33521e7-be3a-4ec9-8304-5903325eb71f"
    },
    {
      "cell_type": "markdown",
      "source": [
        "## <a name=\"03q2\">Question 2</a>\n",
        "\n",
        "---\n",
        "\n",
        "What wind speeds are classified as a Category 2 hurricane?\n",
        "\n",
        "### <a name=\"03sol2\">Solution to Question 2</a>\n",
        "\n",
        "---\n",
        "\n",
        "<br> <br> <br>\n",
        "  \n",
        "  \n",
        "\n"
      ],
      "metadata": {
        "id": "1KcE3yYooSjs"
      },
      "id": "1KcE3yYooSjs"
    },
    {
      "cell_type": "markdown",
      "source": [
        "## <a name=\"03q3\">Question 3</a>\n",
        "\n",
        "---\n",
        "\n",
        "What does the variable `tropicalstorm_force_diameter` measure? What does it mean if a storm observation has a 0 for `tropicalstorm_force_diameter`?\n",
        "\n",
        "### <a name=\"03sol3\">Solution to Question 3</a>\n",
        "\n",
        "---\n",
        "\n",
        "<br> <br> <br>\n",
        "  \n",
        "\n"
      ],
      "metadata": {
        "id": "km8Dcx_toteA"
      },
      "id": "km8Dcx_toteA"
    },
    {
      "cell_type": "markdown",
      "source": [
        "## <a name=\"03q4\">Question 4</a>\n",
        "\n",
        "---\n",
        "\n",
        "Enter comments in the code cell below to help describe what each command performs. Then run the `str()` function after running the commands to see the updated data structure of `storms`.\n",
        "\n",
        "### <a name=\"03sol4\">Solution to Question 4</a>\n",
        "\n",
        "---"
      ],
      "metadata": {
        "id": "T6XhLOwrovkK"
      },
      "id": "T6XhLOwrovkK"
    },
    {
      "cell_type": "code",
      "execution_count": null,
      "metadata": {
        "id": "affea945-3ac1-42fb-833c-db00ba82db1c"
      },
      "outputs": [],
      "source": [
        "# enter your comments after each #\n",
        "storms$year <- as.integer(storms$year)  #\n",
        "storms$month <- as.integer(storms$month)  #\n",
        "storms$hour <- as.integer(storms$hour)  #\n",
        "storms$category <- factor(storms$category)  #"
      ],
      "id": "affea945-3ac1-42fb-833c-db00ba82db1c"
    },
    {
      "cell_type": "code",
      "execution_count": null,
      "metadata": {
        "id": "c73c3d04-0f73-4b87-a295-436ad7625832"
      },
      "outputs": [],
      "source": [
        "# view the resulting data structure\n",
        "str(storms)"
      ],
      "id": "c73c3d04-0f73-4b87-a295-436ad7625832"
    },
    {
      "cell_type": "markdown",
      "source": [
        "# <a name=\"03plot\">Plotting Quantitative Data</a>\n",
        "\n",
        "---\n",
        "\n",
        "Additional resources for help with plotting data:\n",
        "\n",
        "-   See [Overview of Plotting Data in R](https://githubtocolab.com/CU-Denver-MathStats-OER/Statistical-Theory/blob/main/Appendix/Overview-of-Plots.ipynb) for further reading and examples about plotting in R.\n",
        "-   The [R Graph Gallery](https://r-graph-gallery.com/) has examples of many other types of graphs.\n",
        "\n"
      ],
      "metadata": {
        "id": "N_B8YwUOpzex"
      },
      "id": "N_B8YwUOpzex"
    },
    {
      "cell_type": "markdown",
      "source": [
        "## <a name=\"03hist\">Histograms</a>\n",
        "\n",
        "---\n",
        "\n",
        "A  <font color=\"dodgerblue\">**histogram** </font> is special bar chart we use to display the distribution of values for a quantitative variable.\n",
        "\n",
        "-   We first group the values into different ranges of values called <font color=\"dodgerblue\">**bins** </font> of equal width.\n",
        "    -   This essentially converts the quantitative variable to an ordinal categorical variable with with each bin representing a different level.\n",
        "    -   Consider the quantitative variable `wind`. We can use bin ranges such as 0-10 knots, 10-20 knots, … , 160-170 knots.\n",
        "      -   Each bin range should have the same width.\n",
        "      -   The bins do not overlap.\n",
        "      -   The ordering of the bins is very important.\n",
        "-   Then we count how many values in the data are in each bin.\n",
        "-   A histogram is a bar chart that represents the number of values that are in each bin range.\n",
        "-   Values of the quantitative variable are measured on the horizontal axis.\n",
        "-   The height of the bars over each bin range is the number of values (or frequency) in each bin range.\n",
        "-   **By default, the counts are right closed.** For example, a wind value of 20 knots would be counted in the bin range 10-20 knots and not counted in the bin range 20-30 knots.\n",
        "-   A histogram should not have an spaces between consecutive bars. Empty space means no values are in that bin range.\n",
        "-    <font color=\"dodgerblue\">**The R function `hist(x, [options])` creates a histogram.** </font>\n",
        "-   Run `?hist` for more information about the available options for customizing a histogram, some of which are illustrated in the code cell below."
      ],
      "metadata": {
        "id": "2k7Xr9diqDhn"
      },
      "id": "2k7Xr9diqDhn"
    },
    {
      "cell_type": "code",
      "execution_count": null,
      "metadata": {
        "id": "c779cddb-c082-4ece-a7b4-400bdf7498ef"
      },
      "outputs": [],
      "source": [
        "# create a histogram\n",
        "hist(storms$wind,  # vector of values to plot\n",
        "     breaks = 15,  # number of bin ranges to use\n",
        "     xlab = \"wind speed (in knots)\",   # x-axis label\n",
        "     xlim = c(0,200),  # sets window for x-axis\n",
        "     ylab = \"Frequency\",  # y-axis label\n",
        "     ylim = c(0,5000),  # sets window for y-axis\n",
        "     main = \"Distribution of Storm Wind Speed\",  # main label\n",
        "     cex.lab=1.5, cex.axis=1.5, cex.main=1.5,  # increase font size\n",
        "     col = \"steelblue\")  # fill color of bars"
      ],
      "id": "c779cddb-c082-4ece-a7b4-400bdf7498ef"
    },
    {
      "cell_type": "markdown",
      "metadata": {
        "id": "34cd69fb-34de-4efa-84d7-3fe205f343bc"
      },
      "source": [
        "## <a name=\"03q5\">Question 5</a>\n",
        "\n",
        "---\n",
        "\n",
        "Based on the histogram above, approximately how many storms have a wind\n",
        "speed less than or equal to 40 knots?\n",
        "\n",
        "### <a name=\"03sol5\">Solution to Question 5</a>\n",
        "\n",
        "---\n",
        "\n",
        "<br> <br> <br>\n",
        "  \n",
        "  \n",
        "  \n",
        "\n"
      ],
      "id": "34cd69fb-34de-4efa-84d7-3fe205f343bc"
    },
    {
      "cell_type": "markdown",
      "source": [
        "## <a name=\"03q5\">Question 6</a>\n",
        "\n",
        "---\n",
        "\n",
        "The code cell below can help us check our answer.\n",
        "\n",
        "1.  Explain what operation(s) the command in the code cell below.\n",
        "    Running the code cell and compare the last 10 entries in the vector\n",
        "    `le.40` and the vector `storms$wind` to help determine your answer.\n",
        "\n",
        "2.  Then run and explain what the second code cell below does. *Hint: R\n",
        "    reads the logical `TRUE` as the number 1 and `FALSE` as the number\n",
        "    0.*\n",
        "\n",
        "3.  How accurate was your previous answer in [Question 5](#03q5)?\n",
        "\n",
        "### <a name=\"03sol6\">Solution to Question 6</a>\n",
        "\n",
        "---\n",
        "\n",
        "1.  Enter comment in first code cell.\n",
        "\n",
        "2.  Enter comment in second code cell.\n",
        "\n",
        "3.  How accurate was your answer in [Question 5](#03q5)?"
      ],
      "metadata": {
        "id": "nSMqI0jGzges"
      },
      "id": "nSMqI0jGzges"
    },
    {
      "cell_type": "code",
      "execution_count": null,
      "metadata": {
        "id": "9ec61adf-a826-4426-8b4e-5ad41e3a29ce"
      },
      "outputs": [],
      "source": [
        "le.40 <- storms$wind <= 40  # ??\n",
        "\n",
        "tail(storms$wind, 10)  # prints last 10 rows of wind speed vector\n",
        "tail(le.40, 10)  # prints last 10 rows of logical vector le.40"
      ],
      "id": "9ec61adf-a826-4426-8b4e-5ad41e3a29ce"
    },
    {
      "cell_type": "code",
      "execution_count": null,
      "metadata": {
        "id": "8a850223-eeca-4972-b790-e97787c4fa10"
      },
      "outputs": [],
      "source": [
        "# enter comment to interpret this command\n",
        "sum(le.40)  # ??"
      ],
      "id": "8a850223-eeca-4972-b790-e97787c4fa10"
    },
    {
      "cell_type": "markdown",
      "metadata": {
        "id": "881002f0-18ea-4da1-98a7-8d71a179d80f"
      },
      "source": [
        "### <a name=\"03number-bins\">Changing the Number of Bins</a>\n",
        "\n",
        "---\n",
        "\n",
        "A histogram can illustrate the general shape of the distribution of\n",
        "quantitative variable; however, the number of breaks we use can have a\n",
        "substantial impact.\n",
        "\n",
        "-   If we include too few bins, we do not get much detail, and we may\n",
        "    even get a misleading picture.\n",
        "-   If we include too many bins, the histogram may be difficult to read.\n",
        "-   The fun of interacting with data in R is we can play around and\n",
        "    adjust the number of breaks and other options until we are\n",
        "    satisfied."
      ],
      "id": "881002f0-18ea-4da1-98a7-8d71a179d80f"
    },
    {
      "cell_type": "code",
      "execution_count": null,
      "metadata": {
        "id": "e4592f7d-b987-4e49-af1d-033732f88e92"
      },
      "outputs": [],
      "source": [
        "# plots appear in an array with 1 row and 2 columns\n",
        "par(mfrow = c(1, 2))  # create an array of plots\n",
        "\n",
        "# create a histogram\n",
        "hist(storms$wind,  # vector of values to plot\n",
        "     breaks = 5,  # number of bin ranges to use\n",
        "     xlab = \"wind speed (in knots)\",   # x-axis label\n",
        "     xlim = c(0,200),  # sets window for x-axis\n",
        "     ylab = \"Frequency\",  # y-axis label\n",
        "     ylim = c(0,15000),  # sets window for y-axis\n",
        "     main = \"breaks = 5\",  # main label\n",
        "     cex.lab=1.5, cex.axis=1.5, cex.main=1.5,  # increase font size\n",
        "     col = \"steelblue\")  # fill color of bars\n",
        "\n",
        "# create a histogram\n",
        "hist(storms$wind,  # vector of values to plot\n",
        "     breaks = 50,  # number of bin ranges to use\n",
        "     xlab = \"wind speed (in knots)\",   # x-axis label\n",
        "     xlim = c(0,200),  # sets window for x-axis\n",
        "     ylab = \"Frequency\",  # y-axis label\n",
        "     ylim = c(0,3000),  # sets window for y-axis\n",
        "     main = \"breaks = 50\",  # main label\n",
        "     cex.lab=1.5, cex.axis=1.5, cex.main=1.5,  # increase font size\n",
        "     col = \"seagreen\")  # fill color of bars"
      ],
      "id": "e4592f7d-b987-4e49-af1d-033732f88e92"
    },
    {
      "cell_type": "markdown",
      "metadata": {
        "id": "6695cfc5-fdce-4c9c-8cdb-2680fe93410d"
      },
      "source": [
        "## <a name=\"03q7\">Question 7</a>\n",
        "\n",
        "---\n",
        "\n",
        "How would you describe the shape of the distribution of wind speed in the histograms above?\n",
        "\n",
        "### <a name=\"03sol7\">Solution to Question 7</a>\n",
        "\n",
        "---\n",
        "\n",
        "<br> <br> <br>\n",
        "  \n",
        "  \n",
        "\n"
      ],
      "id": "6695cfc5-fdce-4c9c-8cdb-2680fe93410d"
    },
    {
      "cell_type": "markdown",
      "source": [
        "## <a name=\"03q8\">Question 8</a>\n",
        "\n",
        "---\n",
        "\n",
        "Create a histogram to display the quantitative variable `month`. What does the shape of that graph tell you about the data?\n",
        "\n",
        "### <a name=\"03sol8\">Solution to Question 8</a>\n",
        "\n",
        "---\n",
        "\n",
        "<br> <br> <br>\n",
        "  \n",
        "  \n",
        "  "
      ],
      "metadata": {
        "id": "o8q6Eqam00xZ"
      },
      "id": "o8q6Eqam00xZ"
    },
    {
      "cell_type": "markdown",
      "source": [
        "## <a name=\"03q9\">Question 9</a>\n",
        "\n",
        "---\n",
        "\n",
        "Create a histogram to display the quantitative variable `long`. What does the shape of that graph tell you about the data?\n",
        "\n",
        "### <a name=\"03sol9\">Solution to Question 9</a>\n",
        "\n",
        "---\n",
        "\n",
        "  \n",
        "<br> <br> <br>\n",
        "\n",
        "  \n",
        "\n"
      ],
      "metadata": {
        "id": "vobEstVs0yls"
      },
      "id": "vobEstVs0yls"
    },
    {
      "cell_type": "markdown",
      "source": [
        "## <a name=\"03skewness\">The Skewness of Data</a>\n",
        "\n",
        "---\n",
        "\n",
        "The  <font color=\"dodgerblue\">**skewness** </font> of the data describes the direction of the tail of the data. The tail of the data indicates the direction of outliers (if any)."
      ],
      "metadata": {
        "id": "_XwwbJye0xa6"
      },
      "id": "_XwwbJye0xa6"
    },
    {
      "cell_type": "code",
      "execution_count": null,
      "metadata": {
        "id": "6ee93d4e-b9e6-4b36-b652-340b2d25a988"
      },
      "outputs": [],
      "source": [
        "par(mfrow = c(1, 3))  # Create a 1 x 3 array of plots\n",
        "\n",
        "hist(storms$wind,\n",
        "     xlab = \"wind speed (in knots)\",   # x-axis label\n",
        "     ylab = \"Frequency\",  # y-axis label\n",
        "     main = \"Distribution of Wind Speeds\",  # main title\n",
        "     cex.lab=1.5, cex.axis=1.5, cex.main=1.5,  # increase font size\n",
        "     col = \"steelblue\")  # fill color of bars\n",
        "\n",
        "hist(storms$month,\n",
        "     breaks = 12,  # number of breaks\n",
        "     xlab=\"Month\",   # x-axis label\n",
        "     ylab = \"Frequency\",  # y-axis label\n",
        "     main = \"Distribution of Months\",  # main title\n",
        "     cex.lab=1.5, cex.axis=1.5, cex.main=1.5,  # increase font size\n",
        "     col = \"coral1\")  # fill color of bars\n",
        "\n",
        "hist(storms$long,\n",
        "     breaks = 15,  # number of breaks\n",
        "     xlab=\"Degrees of Longitude\",   # x-axis label\n",
        "     ylab = \"Frequency\",  # y-axis label\n",
        "     main = \"Distribution of Longitude\",  # main title\n",
        "     cex.lab=1.5, cex.axis=1.5, cex.main=1.5,  # increase font size\n",
        "     col = \"aquamarine4\")  # fill color of bars"
      ],
      "id": "6ee93d4e-b9e6-4b36-b652-340b2d25a988"
    },
    {
      "cell_type": "markdown",
      "metadata": {
        "id": "8d00505a-b96a-4c71-ad59-0e13a5eb7b35"
      },
      "source": [
        "-   The distribution of wind speeds is\n",
        "     <font color=\"dodgerblue\">**skewed right** </font>.\n",
        "-   The distribution of months is\n",
        "     <font color=\"dodgerblue\">**skewed left** </font>.\n",
        "-   The distribution of longitude is approximately\n",
        "     <font color=\"dodgerblue\">**symmetric** </font>.\n",
        "\n"
      ],
      "id": "8d00505a-b96a-4c71-ad59-0e13a5eb7b35"
    },
    {
      "cell_type": "markdown",
      "source": [
        "# <a name=\"03center\">Measurements of Center</a>\n",
        "\n",
        "---\n",
        "\n",
        "Typical measurements of center are:\n",
        "\n",
        "-   The  <font color=\"dodgerblue\">**mean** </font> is the average\n",
        "    value.\n",
        "\n",
        "$${\\large \\bar{x} = \\frac{\\mbox{sum of all values}}{\\mbox{total number of values}} =  \\sum_{i=1}^{n} \\frac{x_n}{n}}. $$\n",
        "\n",
        "-   We use $\\color{dodgerblue}{\\mathbf{\\bar{x}}}$ (pronounced x-bar) to\n",
        "    denote a  <font color=\"dodgerblue\">**sample** </font> mean.\n",
        "    -   We use $\\color{mediumseagreen}{\\mathbf{\\mu}}$ (Greek letter mu)\n",
        "    to denote a\n",
        "     <font color=\"mediumseagreen\">**population** </font> mean.\n",
        "    -   In R, we use the function `mean()`.\n",
        "-   The  <font color=\"dodgerblue\">**median** </font> is the\n",
        "    $50^{\\mbox{th}}$ percentile. This means 50% of the values in the\n",
        "    data set are less than the median.\n",
        "    -   In R, we use the function `median()`.\n",
        "    - If there are an odd number of values, the median is the middle value.\n",
        "    -   If there are an even number of values, the median is the\n",
        "    midpoint between the two middle values.\n",
        "\n"
      ],
      "metadata": {
        "id": "Mm-_CL7C1sy2"
      },
      "id": "Mm-_CL7C1sy2"
    },
    {
      "cell_type": "markdown",
      "source": [
        "## <a name=\"03q10\">Question 10</a>\n",
        "\n",
        "---\n",
        "\n",
        "Compute the mean and median wind speed of the `storms` data. Interpret\n",
        "each value in practical terms. Be sure to include the units in your\n",
        "interpretation.\n",
        "\n",
        "*Hint: We can input the vector of wind speeds with the code\n",
        "`storms$wind`.*\n",
        "\n",
        "### <a name=\"03sol10\">Solution to Question 10</a>\n",
        "\n",
        "---\n",
        "\n",
        "<br> <br> <br>\n",
        "\n",
        "  \n",
        "  \n",
        "\n"
      ],
      "metadata": {
        "id": "3cW2aJw51ymp"
      },
      "id": "3cW2aJw51ymp"
    },
    {
      "cell_type": "markdown",
      "source": [
        "## <a name=\"03q11\">Question 11</a>\n",
        "\n",
        "---\n",
        "\n",
        "Why do you think the mean wind speed is greater than the median wind\n",
        "speed?\n",
        "\n",
        "### <a name=\"03sol11\">Solution to Question 11</a>\n",
        "\n",
        "---\n",
        "\n",
        "<br> <br> <br>\n",
        "  \n",
        "  \n",
        "\n"
      ],
      "metadata": {
        "id": "PKIAJP9r7xJ1"
      },
      "id": "PKIAJP9r7xJ1"
    },
    {
      "cell_type": "markdown",
      "source": [
        "## <a name=\"03shape-center\">Relation of Shape to Measurements of Center</a>\n",
        "\n",
        "---\n",
        "\n",
        "<figure>\n",
        "<img\n",
        "src=\"https://raw.githubusercontent.com/CU-Denver-MathStats-OER/Statistical-Theory/main/Images/03fig-skewness.png\"\n",
        "alt=\"Image Credit: Adam Spiegler, CC BY-SA 4.0.\" />\n",
        "<figcaption aria-hidden=\"true\">Image Credit: Adam Spiegler, <a\n",
        "href=\"https://creativecommons.org/licenses/by-sa/4.0\">CC BY-SA\n",
        "4.0</a>.</figcaption>\n",
        "</figure>\n",
        "\n",
        "-   The mean is more sensitive to outliers than the median. The mean is\n",
        "    pulled in the direction of the tail.\n",
        "-   If the shape of the histogram is\n",
        "     <font color=\"dodgerblue\">**symmetric** </font>, then the\n",
        "     <font color=\"dodgerblue\">**mean is equal to the\n",
        "    median** </font>.\n",
        "-   If the shape of a histogram is  <font color=\"tomato\">**skewed\n",
        "    to the left** </font>, the  <font color=\"tomato\">**mean is\n",
        "    less than the median** </font>.\n",
        "-   If the shape of a histogram is\n",
        "     <font color=\"mediumseagreen\">**skewed to the right** </font>,\n",
        "    the  <font color=\"mediumseagreen\">**mean is greater than the\n",
        "    median** </font>.\n",
        "\n"
      ],
      "metadata": {
        "id": "d0wsZ2sX7tKL"
      },
      "id": "d0wsZ2sX7tKL"
    },
    {
      "cell_type": "markdown",
      "source": [
        "# <a name=\"03spread\">Measurements of Spread</a>\n",
        "\n",
        "---\n",
        "\n",
        "\n",
        "Typical measurements of spread are:\n",
        "\n",
        "-   The  <font color=\"dodgerblue\">**range = max - min** </font>.\n",
        "    -   The advantage of the range is that it is easy to compute.\n",
        "    -   However, the range ignores all values in the data other than the\n",
        "    maximum and minimum values.\n",
        "-   The  <font color=\"dodgerblue\">**standard deviation** </font>\n",
        "    approximately measures the average distance of all values from the\n",
        "    mean value.\n",
        "    -   For a sample,\n",
        "$$\\color{dodgerblue}{s = \\sqrt{\\dfrac{\\sum_{i=1}^{n} (x_i - \\bar{x})^2}{n-1}}}.$$\n",
        "\n",
        "    -   The standard deviation takes all values into account and thus\n",
        "    involves many calculations. We typically use technology to help!\n",
        "    -   The command `sd(var_name)` computes the sample standard\n",
        "    deviation in R.\n",
        "    -   We use $\\color{dodgerblue}{\\mathbf{s}}$ to denote a\n",
        "     <font color=\"dodgerblue\">**sample** </font> standard\n",
        "    deviation.\n",
        "    -   We use $\\color{tomato}{\\mathbf{\\sigma}}$ (Greek letter sigma) to\n",
        "    denote a  <font color=\"tomato\">**population** </font>\n",
        "    standard deviation.\n",
        "\n",
        "<figure>\n",
        "<img\n",
        "src=\"https://raw.githubusercontent.com/CU-Denver-MathStats-OER/Statistical-Theory/main/Images/03fig-stdev.png\"\n",
        "alt=\"Image Credit: Adam Spiegler, CC BY-SA 4.0.\" />\n",
        "<figcaption aria-hidden=\"true\">Image Credit: Adam Spiegler, <a\n",
        "href=\"https://creativecommons.org/licenses/by-sa/4.0\">CC BY-SA\n",
        "4.0</a>.</figcaption>\n",
        "</figure>\n",
        "\n"
      ],
      "metadata": {
        "id": "kjwqeFNQ539g"
      },
      "id": "kjwqeFNQ539g"
    },
    {
      "cell_type": "markdown",
      "source": [
        "## <a name=\"03q12\">Question 12</a>\n",
        "\n",
        "---\n",
        "\n",
        "Which of the histograms (i)-(vi) has the largest range? The smallest\n",
        "range?\n",
        "\n",
        "### <a name=\"03sol12\">Solution to Question 12</a>\n",
        "\n",
        "---\n",
        "\n",
        "<br> <br> <br>\n",
        "  \n",
        "  \n",
        "\n"
      ],
      "metadata": {
        "id": "QQbL-wgK51fA"
      },
      "id": "QQbL-wgK51fA"
    },
    {
      "cell_type": "markdown",
      "source": [
        "## <a name=\"03q13\">Question 13</a>\n",
        "\n",
        "---\n",
        "\n",
        "Which of the histograms (i)-(vi) has the largest standard deviation? The\n",
        "smallest standard deviation?\n",
        "\n",
        "### <a name=\"03sol13\">Solution to Question 13</a>\n",
        "\n",
        "---\n",
        "\n",
        "<br> <br> <br>\n",
        "\n",
        "  \n",
        "\n"
      ],
      "metadata": {
        "id": "Fjw11-GB5yxO"
      },
      "id": "Fjw11-GB5yxO"
    },
    {
      "cell_type": "markdown",
      "source": [
        "# <a name=\"CC License\">Creative Commons License Information</a>\n",
        "---\n",
        "\n",
        "\n",
        "![Creative Commons\n",
        "License](https://i.creativecommons.org/l/by-nc-sa/4.0/88x31.png)\n",
        "\n",
        "*Statistical Methods: Exploring the Uncertain* by [Adam\n",
        "Spiegler (University of Colorado Denver)](https://github.com/CU-Denver-MathStats-OER/Statistical-Theory)\n",
        "is licensed under a [Creative Commons\n",
        "Attribution-NonCommercial-ShareAlike 4.0 International\n",
        "License](http://creativecommons.org/licenses/by-nc-sa/4.0/). This work is funded by an [Institutional OER Grant from the Colorado Department of Higher Education (CDHE)](https://cdhe.colorado.gov/educators/administration/institutional-groups/open-educational-resources-in-colorado).\n",
        "\n",
        "For similar interactive OER materials in other courses funded by this project in the Department of Mathematical and Statistical Sciences at the University of Colorado Denver, visit <https://github.com/CU-Denver-MathStats-OER>."
      ],
      "metadata": {
        "id": "J2JfQPEE_lon"
      },
      "id": "J2JfQPEE_lon"
    },
    {
      "cell_type": "code",
      "source": [],
      "metadata": {
        "id": "fJRDD8uQndCP"
      },
      "id": "fJRDD8uQndCP",
      "execution_count": null,
      "outputs": []
    }
  ],
  "nbformat": 4,
  "nbformat_minor": 5,
  "metadata": {
    "kernelspec": {
      "name": "ir",
      "display_name": "R",
      "language": "R"
    },
    "colab": {
      "provenance": []
    }
  }
}