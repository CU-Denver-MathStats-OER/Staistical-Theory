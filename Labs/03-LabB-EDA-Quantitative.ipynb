{
  "cells": [
    {
      "cell_type": "markdown",
      "metadata": {
        "id": "mWeLc7rxYpEV"
      },
      "source": [
        "Click [![Open In Colab](https://colab.research.google.com/assets/colab-badge.svg)](https://githubtocolab.com/CU-Denver-MathStats-OER/Statistical-Theory/blob/main/Chap1//03-EDA-Quantitative.ipynb) to open interactive version of the full text section.\n",
        "\n",
        "\n",
        "For a shorter [in-class lab version of the section, part 1, click here.](https://githubtocolab.com/CU-Denver-MathStats-OER/Statistical-Theory/blob/main/Labs/03-EDA-LabA-Quantitative.ipynb)\n",
        "\n",
        "For a shorter [in-class lab version of the section, part 2, click here.](https://githubtocolab.com/CU-Denver-MathStats-OER/Statistical-Theory/blob/main/Labs/03-EDA-LabB-Quantitative.ipynb)"
      ],
      "id": "mWeLc7rxYpEV"
    },
    {
      "cell_type": "markdown",
      "metadata": {
        "id": "9675d840-718c-4a8b-864e-8100e8827eac"
      },
      "source": [
        "# <a name=\"03intro\">1.3: Exploring Quantitative Data</a>\n",
        "\n",
        "---\n",
        "\n",
        "\n",
        "Additional Reading:\n",
        "\n",
        "-   See [Overview of Plotting Data in R](https://githubtocolab.com/CU-Denver-MathStats-OER/Statistical-Theory/blob/main/Appendix/Overview-of-Plots.ipynb) for further reading and examples about plotting in R.\n",
        "-   See [Fundamentals of Working with Data](https://githubtocolab.com/CU-Denver-MathStats-OER/Statistical-Theory/blob/main/Appendix/Intro-to-Vectors-Dataframes.ipynb) for more information about data types and structures in R.\n",
        "-   The [R Graph Gallery](https://r-graph-gallery.com/) has examples of many other types of graphs.\n"
      ],
      "id": "9675d840-718c-4a8b-864e-8100e8827eac"
    },
    {
      "cell_type": "markdown",
      "source": [
        "# <a name=\"03data\">Getting to Know Our Data</a>\n",
        "\n",
        "---\n",
        "\n",
        "The `dplyr` package contains a data set from the [NOAA Hurricane Best\n",
        "Track Data](https://www.nhc.noaa.gov/data/#hurdat) that contains data on\n",
        "the following attributes of tracked North Atlantic storms since 1975:\n",
        "\n",
        "-   Storm name: `name`\n",
        "-   Date and time: `year`, `month`, `day`, and `hour`\n",
        "-   Storm position: `lat` and `long`\n",
        "-   Storm classification: `status`\n",
        "-   Category of hurricane: `category` (non-hurricanes are `NA`)\n",
        "-   Wind speed (in knots): `wind`\n",
        "-   Pressure (in millibars): `pressure`\n",
        "-   Tropical storm force diameter (in nautical miles): `tropicalstorm_force_diameter`\n",
        "-   Hurricane force diameter (in nautical miles): `hurricane_force_diameter`\n",
        "\n",
        "See [Exploring Categorical Data](https://githubtocolab.com/CU-Denver-MathStats-OER/Statistical-Theory/blob/main/Chap1/02-EDA-Categorical.ipynb) for a refresher on our initial exploration with the `storms` data frame.\n",
        "\n"
      ],
      "metadata": {
        "id": "bVyOMZpVe7TV"
      },
      "id": "bVyOMZpVe7TV"
    },
    {
      "cell_type": "markdown",
      "source": [
        "## <a name=\"03load\">Loading Required Package</a>\n",
        "\n",
        "---\n",
        "\n",
        "In order to access the `storms` data frame in the `dplyr` package, we first load the package with the `library()` function."
      ],
      "metadata": {
        "id": "kh0efT-_hcOH"
      },
      "id": "kh0efT-_hcOH"
    },
    {
      "cell_type": "code",
      "execution_count": null,
      "metadata": {
        "id": "226c6336-355d-4429-8d21-3ffb73a43572"
      },
      "outputs": [],
      "source": [
        "library(dplyr)  # load dplyr package"
      ],
      "id": "226c6336-355d-4429-8d21-3ffb73a43572"
    },
    {
      "cell_type": "code",
      "execution_count": null,
      "metadata": {
        "id": "affea945-3ac1-42fb-833c-db00ba82db1c"
      },
      "outputs": [],
      "source": [
        "# enter your comments after each #\n",
        "storms$year <- as.integer(storms$year)  #\n",
        "storms$month <- as.integer(storms$month)  #\n",
        "storms$hour <- as.integer(storms$hour)  #\n",
        "storms$category <- factor(storms$category)  #"
      ],
      "id": "affea945-3ac1-42fb-833c-db00ba82db1c"
    },
    {
      "cell_type": "code",
      "execution_count": null,
      "metadata": {
        "id": "c73c3d04-0f73-4b87-a295-436ad7625832"
      },
      "outputs": [],
      "source": [
        "# view the resulting data structure\n",
        "str(storms)"
      ],
      "id": "c73c3d04-0f73-4b87-a295-436ad7625832"
    },
    {
      "cell_type": "markdown",
      "source": [
        "# <a name=\"03quartile\">Quartiles</a>\n",
        "\n",
        "---\n",
        "\n",
        "-   The $25^{\\mbox{th}}$ percentile is called the\n",
        "     <font color=\"dodgerblue\">**first quartile** </font> and is\n",
        "    denoted $\\color{dodgerblue}{\\mathbf{Q_1}}$.\n",
        "    - In R, use the function `quantile(x, probs=0.25)`.\n",
        "-   The $75^{\\mbox{th}}$ percentile is called the\n",
        "     <font color=\"dodgerblue\">**third quartile** </font> and is\n",
        "    denoted $\\color{dodgerblue}{\\mathbf{Q_3}}$.\n",
        "    - In R, use the function `quantile(x, probs = 0.75)`.\n",
        "-   The  <font color=\"dodgerblue\">**Interquartile Range\n",
        "    (IQR)** </font>$\\color{dodgerblue}{=Q_3-Q_1}$.\n",
        "    - In R, use the function `IQR(x)`.\n",
        "-   The  <font color=\"dodgerblue\">**five number summary** </font>\n",
        "    can also provide a good description of the spread of the values\n",
        "    since we know <font color=\"dodgerblue\">**25% of the values fall between each consecutive pair of values**</font>.\n",
        "    $$\\color{dodgerblue}{(\\mbox{min}, Q_1 , \\mbox{median}, Q_3, \\mbox{max} )}$$\n",
        "    -   In R, use the function `fivenum(x)` to compute the five number summary.\n",
        "\n"
      ],
      "metadata": {
        "id": "OfAfR7IC5xJC"
      },
      "id": "OfAfR7IC5xJC"
    },
    {
      "cell_type": "markdown",
      "source": [
        "## <a name=\"03q14\">Question 14</a>\n",
        "\n",
        "---\n",
        "\n",
        "Give the five number summary for the wind speed of all observations in the `storms` data set.\n",
        "\n",
        "### <a name=\"03sol14\">Solution to Question 14</a>\n",
        "\n",
        "---\n",
        "\n",
        "<br> <br> <br>\n",
        "  \n"
      ],
      "metadata": {
        "id": "mYVxGtW32TuM"
      },
      "id": "mYVxGtW32TuM"
    },
    {
      "cell_type": "markdown",
      "source": [
        "## <a name=\"03five-num\">Five Number Summaries and Boxplots</a>\n",
        "\n",
        "---\n",
        "\n",
        "The five number summary for wind speeds is $(10, 30, 45, 65, 165)$.\n",
        "Below is a  <font color=\"dodgerblue\">**boxplot** </font> for this\n",
        "data.\n",
        "\n",
        "- 25% of the wind speeds are between 10 and 30 knots.\n",
        "- 25% of the wind speeds are between 30 and 45 knots.\n",
        "- 25% of the wind speeds are between 45 and 65 knots.\n",
        "- 25% of the wind speeds are between 65 and 165 knots.\n"
      ],
      "metadata": {
        "id": "IzUWc999100R"
      },
      "id": "IzUWc999100R"
    },
    {
      "cell_type": "code",
      "execution_count": null,
      "metadata": {
        "id": "8f83718b-8931-4ad2-b5a9-316b818ef592"
      },
      "outputs": [],
      "source": [
        "boxplot(storms$wind,  # data to plot\n",
        "        main = \"Wind Speeds of Storms\",  # main title\n",
        "        xlab = \"Wind Speed (in knots)\",  # x-axis label\n",
        "        xaxt='n',  # turn off default ticks on x-axis\n",
        "        cex.lab=1.75, cex.axis=1.75, cex.main=1.75,  # increase font size\n",
        "        horizontal = TRUE)  # align horizontally\n",
        "axis(1, at = fivenum(storms$wind))  # add tickmarks at five number summary"
      ],
      "id": "8f83718b-8931-4ad2-b5a9-316b818ef592"
    },
    {
      "cell_type": "markdown",
      "metadata": {
        "id": "330d49b0-c675-42bb-bdab-b295f84b43ba"
      },
      "source": [
        "## <a name=\"03read-boxplot\">How to Read and Create Boxplots</a>\n",
        "\n",
        "---\n",
        "\n",
        "To create a boxplot:\n",
        "\n",
        "-   Find the values of $Q_1$, median, and $Q_3$.\n",
        "-   Draw a box with edges at $Q_1$ and $Q_3$ and line inside the box for the median.\n",
        "-   Identify the upper and lower fence to classify outliers:\n",
        "    -   Upper fence $=Q_3 + 1.5(\\mbox{IQR})$.\n",
        "    -   Lower fence $=Q_1 - 1.5(\\mbox{IQR})$.\n",
        "-   Extend a line (whisker) from the lower edge of box to the smallest observation greater than the lower fence.\n",
        "-   Extend a line (whisker) from the upper edge of the box to the largest\n",
        "    value that is less than the upper fence.\n",
        "-   The observations that are less than the lower fence or greater than\n",
        "    the upper fence are considered\n",
        "     <font color=\"dodgerblue\">**outliers** </font>.\n",
        "     -  Outlier values are marked with individual points.\n",
        "\n"
      ],
      "id": "330d49b0-c675-42bb-bdab-b295f84b43ba"
    },
    {
      "cell_type": "markdown",
      "source": [
        "## <a name=\"03q15\">Question 15</a>\n",
        "\n",
        "---\n",
        "\n",
        "Compute the upper and lower fences for the wind speed observations in\n",
        "`storms`.\n",
        "\n",
        "### <a name=\"03sol15\">Solution to Question 15</a>\n",
        "\n",
        "---\n",
        "\n",
        "<br> <br> <br>\n",
        "  \n",
        "\n"
      ],
      "metadata": {
        "id": "PPSRyEbj92ru"
      },
      "id": "PPSRyEbj92ru"
    },
    {
      "cell_type": "markdown",
      "source": [
        "# <a name=\"03ecdf\">The Empirical Cumulative Distribution Function (ecdf)</a>\n",
        "\n",
        "---\n",
        "\n",
        "A question we often wish to explore is what proportion of values in our data are less or equal to a specified value $x$? To answer this question, we count the total number of observations in our data that are less than or equal to $x$, and then divide by the total number of observations in our data.\n",
        "\n"
      ],
      "metadata": {
        "id": "IUpO9dWZ9zTL"
      },
      "id": "IUpO9dWZ9zTL"
    },
    {
      "cell_type": "markdown",
      "source": [
        "## <a name=\"03counting\">Counting Observations with Logical Statements</a>\n",
        "\n",
        "---\n",
        "\n",
        "To illustrate how we can count observations that satisfy a given condition, consider the a vector of 5 values: $31$, $33$, $34$, $36$, and $38$. We store these values in the vector named `test.data` below. The command `test.data <= 35` applies a logical test to each of the 5 values in the vector:\n",
        "\n",
        "> Is the value less than or equal to 35?\n",
        "\n",
        "Run the code cell below and check the output to verify the test works as expected."
      ],
      "metadata": {
        "id": "f5CiDdCa9JZE"
      },
      "id": "f5CiDdCa9JZE"
    },
    {
      "cell_type": "code",
      "execution_count": null,
      "metadata": {
        "id": "15b8bb94-ae12-4d8f-9389-e5b11a2d8a08"
      },
      "outputs": [],
      "source": [
        "test.data <- c(31, 33, 34, 36, 38)  # vector of test data\n",
        "test.data <= 35  # logical test"
      ],
      "id": "15b8bb94-ae12-4d8f-9389-e5b11a2d8a08"
    },
    {
      "cell_type": "markdown",
      "metadata": {
        "id": "a0cc6be5-28ce-440f-9f6a-b782f10dc687"
      },
      "source": [
        "-   The result `TRUE` is counted as 1.\n",
        "-   The result `FALSE` is counted as 0.\n",
        "-   We can use the `sum()` function to count how many `TRUE` results we have.\n",
        "-   Running the code cell below, we verify that 3 values in `test.data` are less than or equal to 35."
      ],
      "id": "a0cc6be5-28ce-440f-9f6a-b782f10dc687"
    },
    {
      "cell_type": "code",
      "execution_count": null,
      "metadata": {
        "id": "05cede58-fded-46a4-9e4e-100ab33ef84a"
      },
      "outputs": [],
      "source": [
        "sum(test.data <= 35)  # sum the TRUE results"
      ],
      "id": "05cede58-fded-46a4-9e4e-100ab33ef84a"
    },
    {
      "cell_type": "markdown",
      "metadata": {
        "id": "2f000fed-3c3f-484b-b7c5-d329ad25eb62"
      },
      "source": [
        "We can convert the count to a proportion by dividing by the total number of values in our data. Our vector `test.data` has a total of 5 observations; therefore, the proportion of values that are less than or equal to 35 is 3 out of 5 or $0.6$. We can use the `mean()` to count the number of `TRUE` results and divide by the total number of all observations in one command to simplify the code."
      ],
      "id": "2f000fed-3c3f-484b-b7c5-d329ad25eb62"
    },
    {
      "cell_type": "code",
      "execution_count": null,
      "metadata": {
        "id": "6cca637e-5412-485e-b8ab-ff0b42d7223c"
      },
      "outputs": [],
      "source": [
        "mean(test.data <= 35)  # total values <= 35 divided by total number of values"
      ],
      "id": "6cca637e-5412-485e-b8ab-ff0b42d7223c"
    },
    {
      "cell_type": "markdown",
      "metadata": {
        "id": "09949d49-626f-4450-8b2f-424ac62557aa"
      },
      "source": [
        "## <a name=\"03q16\">Question 16</a>\n",
        "\n",
        "---\n",
        "\n",
        "What proportion of observations in `storms$wind` have a wind speed less\n",
        "than or equal to 50 knots?\n",
        "\n",
        "### <a name=\"03sol16\">Solution to Question 16</a>\n",
        "\n",
        "---\n",
        "\n",
        "<br>"
      ],
      "id": "09949d49-626f-4450-8b2f-424ac62557aa"
    },
    {
      "cell_type": "code",
      "execution_count": null,
      "metadata": {
        "id": "9d1842f9-463f-4787-8afd-7304090047b5"
      },
      "outputs": [],
      "source": [
        "# what proportion of observations have wind less than or equal to 50\n"
      ],
      "id": "9d1842f9-463f-4787-8afd-7304090047b5"
    },
    {
      "cell_type": "markdown",
      "metadata": {
        "id": "9d773da6-2984-4e79-9b85-70aad1cb6667"
      },
      "source": [
        "## <a name=\"03formula-ecdf\">What is the Empirical Cumulative Distribution Function?</a>\n",
        "\n",
        "---\n",
        "\n",
        "The  <font color=\"dodgerblue\">**empirical cumulative distribution function (ecdf)** </font> is typically denoted by the notation $\\mathbf{\\color{dodgerblue}{\\widehat{F}(x)}}$. We read the notation $\\hat{F}$ as **F hat**, and we will make use of the hat notation throughout the semester.\n",
        "\n",
        "-   The input $x$ is a value.\n",
        "-   The output $\\widehat{F}(x)$ of the ecdf is the proportion of values in the sample that are less than or equal to $x$.\n",
        "\n",
        "Recall the vector `test.data` contains the values $31$, $33$, $34$, $36$, and $38$. We can express the ecdf as a piecewise function.\n",
        "\n",
        "$$\n",
        "\\widehat{F}(x) = \\left\\{\n",
        "\\begin{array}{ll}\n",
        "0  & x < 31 \\\\\n",
        "0.2 &  31 \\leq x < 33 \\\\\n",
        "0.4 &  33 \\leq x < 34 \\\\\n",
        "0.6 &  34 \\leq x < 36 \\\\\n",
        "0.8 &  36 \\leq x < 38 \\\\\n",
        "1 & x \\geq 38\n",
        "\\end{array} \\right.\n",
        "$$\n",
        "\n"
      ],
      "id": "9d773da6-2984-4e79-9b85-70aad1cb6667"
    },
    {
      "cell_type": "markdown",
      "source": [
        "## <a name=\"03graph-ecdf\">Graphing the Empirical Cumulative Distribution Function</a>\n",
        "\n",
        "---\n",
        "\n",
        "We can plot the ecdf using the `plot.ecdf()` function in R, and the resulting plot is a piecewise, step function."
      ],
      "metadata": {
        "id": "AOBcwsnk_ffg"
      },
      "id": "AOBcwsnk_ffg"
    },
    {
      "cell_type": "code",
      "execution_count": null,
      "metadata": {
        "id": "2d6fef65-8a40-4931-816d-86386b72d24b"
      },
      "outputs": [],
      "source": [
        "plot.ecdf(test.data, col=\"steelblue\",\n",
        "          cex.lab=1.5, cex.axis=1.5, cex.main=1.5)  # increase font size)"
      ],
      "id": "2d6fef65-8a40-4931-816d-86386b72d24b"
    },
    {
      "cell_type": "markdown",
      "metadata": {
        "id": "7e3ddd15-fbff-4a48-aeea-133527d75fe5"
      },
      "source": [
        "## <a name=\"03q17\">Question 17</a>\n",
        "\n",
        "---\n",
        "\n",
        "Complete the statements below to identify some key properties of ecdf’s.\n",
        "\n",
        "### <a name=\"03sol17\">Solution to Question 17</a>\n",
        "\n",
        "---\n",
        "\n",
        "-   The minimum output value of an ecdf is <mark>??</mark>.\n",
        "-   The maximum value output value of an ecdf is <mark>??</mark>.\n",
        "-   The ecdf is a <mark>??</mark> function since as $x$ increases, $\\widehat{F}(x)$\n",
        "    cannot decrease.\n",
        "\n",
        "<br>"
      ],
      "id": "7e3ddd15-fbff-4a48-aeea-133527d75fe5"
    },
    {
      "cell_type": "markdown",
      "source": [
        "## <a name=\"03q18\">Question 18</a>\n",
        "\n",
        "---\n",
        "\n",
        "Plot the empirical cumulative distribution function for the wind speeds\n",
        "in the `storms` data set and check your answer to [Question\n",
        "16](#question-16).\n",
        "\n",
        "### <a name=\"03sol18\">Solution to Question 18</a>\n",
        "\n",
        "---\n",
        "\n",
        "<br>"
      ],
      "metadata": {
        "id": "W_yCLSub_yq6"
      },
      "id": "W_yCLSub_yq6"
    },
    {
      "cell_type": "code",
      "execution_count": null,
      "metadata": {
        "id": "22570fec-df9b-4d98-a455-8b6b5c9a284d"
      },
      "outputs": [],
      "source": [
        "# plot the ecdf for wind speeds in storms"
      ],
      "id": "22570fec-df9b-4d98-a455-8b6b5c9a284d"
    },
    {
      "cell_type": "markdown",
      "metadata": {
        "id": "12c6e7f5-32c1-41d7-bb66-df02d1a01414"
      },
      "source": [
        "# <a name=\"03compare\">Comparing Quantitative and Categorical Data</a>\n",
        "\n",
        "---\n",
        "\n",
        "We have explored some of the categorical variables in the `storms` data set in our work with [Exploring Categorical Data](https://githubtocolab.com/CU-Denver-MathStats-OER/Statistical-Theory/blob/main/Chap1/02-EDA-Categorical.ipynb). We have discussed how we can summarize and plot a quantitative variable. Often in statistics we would like to compare the distribution of a quantitative variable for different classes of a categorical variable. For example, we may be interested in investigating the following:\n",
        "\n",
        "> In which month do storms have the greatest wind speed?\n",
        "\n",
        "We first check the data type of the month variable in `storms` using the `typeof()` function."
      ],
      "id": "12c6e7f5-32c1-41d7-bb66-df02d1a01414"
    },
    {
      "cell_type": "code",
      "execution_count": null,
      "metadata": {
        "id": "62e86930-50f4-492c-9684-36696d59df11"
      },
      "outputs": [],
      "source": [
        "typeof(storms$month)  # check how months is stored"
      ],
      "id": "62e86930-50f4-492c-9684-36696d59df11"
    },
    {
      "cell_type": "markdown",
      "metadata": {
        "id": "b4f30f80-54dc-44f9-885b-50b5efd80b2b"
      },
      "source": [
        "## <a name=\"03factor-month\">Converting a Quantitative Variable to a Categorical Variable with `factor()`</a>\n",
        "\n",
        "---\n",
        "\n",
        "Months were initially stored as decimals. We converted `month` to an integer earlier, and we can see `month` is still stored as an integer. Let’s convert `month` to a `factor` so R will treat each month as a separate class."
      ],
      "id": "b4f30f80-54dc-44f9-885b-50b5efd80b2b"
    },
    {
      "cell_type": "code",
      "execution_count": null,
      "metadata": {
        "id": "4f7acfa0-992c-41ea-a97c-63d0c99cf0b8"
      },
      "outputs": [],
      "source": [
        "storms$month <- factor(storms$month)  # convert month to a categorical variable\n",
        "summary(storms$month)  # check summary output after converting to factor"
      ],
      "id": "4f7acfa0-992c-41ea-a97c-63d0c99cf0b8"
    },
    {
      "cell_type": "markdown",
      "metadata": {
        "id": "12e7c2a7-a3af-41ed-b551-ba1d3248aa10"
      },
      "source": [
        "## <a name=\"03side-by-side\">Side by Side Boxplots with `plot()`</a>\n",
        "\n",
        "---\n",
        "\n",
        "The `plot()` function creates different types of plots depending on the data type and number of variables we enter.\n",
        "\n",
        "-   If `x` is quantitative, `plot(x)` creates an index plot which is generally not too useful.\n",
        "-   If `x` is categorical, `plot(x)` creates a bar chart."
      ],
      "id": "12e7c2a7-a3af-41ed-b551-ba1d3248aa10"
    },
    {
      "cell_type": "code",
      "execution_count": null,
      "metadata": {
        "id": "5ed77140-0c12-40b6-8278-0231a7e5ba67"
      },
      "outputs": [],
      "source": [
        "par(mfrow = c(1,2))  # create a 1 by 2 array of plots\n",
        "plot(storms$month)  # bar chart is created for categorical data\n",
        "plot(storms$wind)  # index plot is created for quantitative data"
      ],
      "id": "5ed77140-0c12-40b6-8278-0231a7e5ba67"
    },
    {
      "cell_type": "markdown",
      "metadata": {
        "id": "da003f50-b308-4217-8433-ffab698e7d87"
      },
      "source": [
        "-   If `x` is categorical and `y` is quantitative,\n",
        "    `plot(y ~ x, data = [name])` creates side by side boxplots, one for\n",
        "    each class of `x`.\n",
        "-   If both `x` and `y` are quantitative variables,\n",
        "    `plot(y ~ x, data = [name])` creates a scatterplot."
      ],
      "id": "da003f50-b308-4217-8433-ffab698e7d87"
    },
    {
      "cell_type": "code",
      "execution_count": null,
      "metadata": {
        "id": "b015c95b-a434-4ca0-9657-5b402b8688bd"
      },
      "outputs": [],
      "source": [
        "par(mfrow = c(1,2))  # create a 1 by 2 array of plots\n",
        "plot(wind ~ month, data = storms)  # side by side boxplots\n",
        "plot(wind ~ pressure, data = storms)  # scatterplot"
      ],
      "id": "b015c95b-a434-4ca0-9657-5b402b8688bd"
    },
    {
      "cell_type": "markdown",
      "metadata": {
        "id": "81da048b-8e81-4109-a467-b519a21b9409"
      },
      "source": [
        "The side by side boxplots created above are hard to read since we have\n",
        "12 boxplots in total. The two months with the most storms data are\n",
        "August and September.\n",
        "\n",
        "> How can we compare storms only in August and September?\n",
        "\n",
        "## <a name=\"03subset-filter\">Subsetting and Filtering Data</a>\n",
        "\n",
        "---\n",
        "\n",
        "We can compare data for only August and September using various methods. One common method is to subset all of the data in `storms` into two separate data frames, one for each month. Below are three different ways we can subset data:\n",
        "\n",
        "- Using the [`subset()`](#03subset) function in base R.\n",
        "- Using the [`filter()`](#03filter) function in the `dplyr` package.\n",
        "- Using [logical statements](#03logic).\n",
        "\n",
        "Other methods exist as well.\n",
        "\n"
      ],
      "id": "81da048b-8e81-4109-a467-b519a21b9409"
    },
    {
      "cell_type": "markdown",
      "source": [
        "### <a name=\"03subset\">The `subset()` Function in Base R</a>\n",
        "\n",
        "---\n",
        "\n",
        "As the name implies, the `subset()` function in base R is a really useful function for subsetting! We can open the help documentation with `?subset` to learn how to apply this function. Below are some examples of different ways we may want to subset the `storms` data to analyze for storms that occurred in August."
      ],
      "metadata": {
        "id": "eTrLf7jOBdFF"
      },
      "id": "eTrLf7jOBdFF"
    },
    {
      "cell_type": "code",
      "execution_count": null,
      "metadata": {
        "id": "33777e72-e0ab-4205-82d9-5771639829ce"
      },
      "outputs": [],
      "source": [
        "# keeps all variables for storms in August\n",
        "aug <- subset(storms, month == \"8\")\n",
        "\n",
        "# keeps only the wind speed variable for August storms\n",
        "aug.wind <- subset(storms, select = wind, month == \"8\")\n",
        "\n",
        "# drop = T drops the column name and creates a vector instead of a data frame\n",
        "aug.wind.vec <- subset(storms, select = wind, month == \"8\", drop = T)"
      ],
      "id": "33777e72-e0ab-4205-82d9-5771639829ce"
    },
    {
      "cell_type": "code",
      "execution_count": null,
      "metadata": {
        "id": "493eb710-82dd-4582-851d-d5016a1dea3a"
      },
      "outputs": [],
      "source": [
        "# we can see all variables are selected\n",
        "head(aug)"
      ],
      "id": "493eb710-82dd-4582-851d-d5016a1dea3a"
    },
    {
      "cell_type": "code",
      "execution_count": null,
      "metadata": {
        "id": "cf4aeb62-fb74-4921-9a5b-ff68ae5c54b7"
      },
      "outputs": [],
      "source": [
        "# just the wind variable is selected\n",
        "head(aug.wind)"
      ],
      "id": "cf4aeb62-fb74-4921-9a5b-ff68ae5c54b7"
    },
    {
      "cell_type": "code",
      "execution_count": null,
      "metadata": {
        "id": "8ab3113b-b8a3-470f-9fdd-b6826cf58bd1"
      },
      "outputs": [],
      "source": [
        "# wind speeds in august stored in a vector\n",
        "head(aug.wind.vec)"
      ],
      "id": "8ab3113b-b8a3-470f-9fdd-b6826cf58bd1"
    },
    {
      "cell_type": "markdown",
      "metadata": {
        "id": "661a596b-5f6c-41cf-9ed9-3afeab405964"
      },
      "source": [
        "## <a name=\"03\">Question 19</a>\n",
        "\n",
        "---\n",
        "\n",
        "Compute the mean and median wind speed of storms in August. Compare the values of the mean and median. What does this tell us about the shape of the data?\n",
        "\n",
        "### <a name=\"03sol19\">Solution to Question 19</a>\n",
        "\n",
        "---\n",
        "\n",
        "<br> <br> <br>\n",
        "  \n",
        "\n"
      ],
      "id": "661a596b-5f6c-41cf-9ed9-3afeab405964"
    },
    {
      "cell_type": "markdown",
      "source": [
        "### <a name=\"03filter\">The `filter()` Function in `dplyr`</a>\n",
        "\n",
        "---\n",
        "\n",
        "Using the `filter` function in `dplyr` package, we can filter out just\n",
        "the August observations.\n",
        "\n",
        "-   Note you need to load the `dplyr` package with a `library()` in\n",
        "    order to use `filter()`.\n",
        "-   We have already loaded `dplyr` since that is where the `storms` data\n",
        "    is found.\n",
        "-   The command below gives the same result as\n",
        "    `subset(storms, month == \"8\")`."
      ],
      "metadata": {
        "id": "66_tRUxJCnFR"
      },
      "id": "66_tRUxJCnFR"
    },
    {
      "cell_type": "code",
      "execution_count": null,
      "metadata": {
        "id": "67ca315c-f9bb-4070-a325-6a307de1ea78"
      },
      "outputs": [],
      "source": [
        "aug2 <- filter(storms, month == \"8\")  # filter requires dplyr package\n",
        "head(aug2)  # selects all variables"
      ],
      "id": "67ca315c-f9bb-4070-a325-6a307de1ea78"
    },
    {
      "cell_type": "markdown",
      "metadata": {
        "id": "ca013064-914a-439e-a4c0-7858710943a6"
      },
      "source": [
        "### <a name=\"03logic\">Using Logical Statements</a>\n",
        "\n",
        "---\n",
        "\n",
        "When writing more complex code such as for loops, it is often useful to subset data using logical statements. For example, `storms[storms$month == \"8\", ]` extracts just the rows that have a `month` value equal to 8."
      ],
      "id": "ca013064-914a-439e-a4c0-7858710943a6"
    },
    {
      "cell_type": "code",
      "execution_count": null,
      "metadata": {
        "id": "49d92d64-3a38-4f75-a0a4-b246aad7a242"
      },
      "outputs": [],
      "source": [
        "# extract rows from storms with month equal to 8\n",
        "aug.logic <- storms[storms$month == \"8\", ]\n",
        "head(aug.logic)"
      ],
      "id": "49d92d64-3a38-4f75-a0a4-b246aad7a242"
    },
    {
      "cell_type": "markdown",
      "metadata": {
        "id": "e198250b-453a-434d-bcb3-4b192454821a"
      },
      "source": [
        "## <a name=\"03q20\">Question 20</a>\n",
        "\n",
        "---\n",
        "\n",
        "Using one of the methods above, create a data frame name `sept` that\n",
        "contains all variables for only the observations that occurred in\n",
        "September.\n",
        "\n",
        "### <a name=\"03sol20\">Solution to Question 20</a>\n",
        "\n",
        "---\n",
        "\n",
        "<br>"
      ],
      "id": "e198250b-453a-434d-bcb3-4b192454821a"
    },
    {
      "cell_type": "code",
      "execution_count": null,
      "metadata": {
        "id": "49e02f59-f468-4d7d-b966-43f8c34c7001"
      },
      "outputs": [],
      "source": [
        "# keeps all variables for storms in September\n"
      ],
      "id": "49e02f59-f468-4d7d-b966-43f8c34c7001"
    },
    {
      "cell_type": "markdown",
      "metadata": {
        "id": "63f871cb-e05f-4e97-a775-ba956a993aef"
      },
      "source": [
        "## <a name=\"03side-boxplot\">Creating Side by Side Boxplots with `boxplot`</a>\n",
        "\n",
        "---\n",
        "\n",
        "Once we have created the data frames `aug` and `sept`, we can create side by side boxplots to compare the wind speeds for storms in these two months."
      ],
      "id": "63f871cb-e05f-4e97-a775-ba956a993aef"
    },
    {
      "cell_type": "code",
      "execution_count": null,
      "metadata": {
        "id": "f0e52ce1-3a1c-4ac3-8107-fc9e56743bb8"
      },
      "outputs": [],
      "source": [
        "# need to answer previous question first\n",
        "boxplot(aug$wind, sept$wind,  # enter two vectors of data\n",
        "        main = \"Comparing Wind Speeds in Aug. and Sept.\",   # main title\n",
        "        xlab = \"Wind Speed (in knots)\",  # x-axis label\n",
        "        horizontal = TRUE,  # align boxplots horizontally\n",
        "        names = c(\"August\", \"September\"),  # label each boxplot\n",
        "        cex.lab=1.5, cex.axis=1.5, cex.main=1.5,  # increase font size\n",
        "        col = c(\"seagreen\", \"steelblue\"))  # fill color for box"
      ],
      "id": "f0e52ce1-3a1c-4ac3-8107-fc9e56743bb8"
    },
    {
      "cell_type": "markdown",
      "metadata": {
        "id": "c8b98d1c-be20-44b8-b710-bbd919d2e71f"
      },
      "source": [
        "## <a name=\"03q21\">Question 21</a>\n",
        "\n",
        "---\n",
        "\n",
        "In which month (August or September) are the wind speeds of storms more\n",
        "severe? What statistics did you use to draw your conclusion?\n",
        "\n",
        "### <a name=\"03sol21\">Solution to Question 21</a>\n",
        "\n",
        "---\n",
        "\n",
        "<br> <br> <br>  \n",
        "  \n",
        "\n"
      ],
      "id": "c8b98d1c-be20-44b8-b710-bbd919d2e71f"
    },
    {
      "cell_type": "markdown",
      "source": [
        "## <a name=\"03q22\">Question 22</a>\n",
        "\n",
        "---\n",
        "\n",
        "Create side by side boxplots to compare the distribution of wind speeds\n",
        "in July, August and September.\n",
        "\n",
        "### <a name=\"03sol22\">Solution to Question 22</a>\n",
        "\n",
        "---\n",
        "\n",
        "<br> <br> <br>  \n",
        "  \n",
        "\n"
      ],
      "metadata": {
        "id": "6EOIOnd4DtJF"
      },
      "id": "6EOIOnd4DtJF"
    },
    {
      "cell_type": "markdown",
      "source": [
        "# <a name=\"CC License\">Creative Commons License Information</a>\n",
        "---\n",
        "\n",
        "\n",
        "![Creative Commons\n",
        "License](https://i.creativecommons.org/l/by-nc-sa/4.0/88x31.png)\n",
        "\n",
        "*Statistical Methods: Exploring the Uncertain* by [Adam\n",
        "Spiegler (University of Colorado Denver)](https://github.com/CU-Denver-MathStats-OER/Statistical-Theory)\n",
        "is licensed under a [Creative Commons\n",
        "Attribution-NonCommercial-ShareAlike 4.0 International\n",
        "License](http://creativecommons.org/licenses/by-nc-sa/4.0/). This work is funded by an [Institutional OER Grant from the Colorado Department of Higher Education (CDHE)](https://cdhe.colorado.gov/educators/administration/institutional-groups/open-educational-resources-in-colorado).\n",
        "\n",
        "For similar interactive OER materials in other courses funded by this project in the Department of Mathematical and Statistical Sciences at the University of Colorado Denver, visit <https://github.com/CU-Denver-MathStats-OER>."
      ],
      "metadata": {
        "id": "J2JfQPEE_lon"
      },
      "id": "J2JfQPEE_lon"
    },
    {
      "cell_type": "code",
      "source": [],
      "metadata": {
        "id": "fJRDD8uQndCP"
      },
      "id": "fJRDD8uQndCP",
      "execution_count": null,
      "outputs": []
    }
  ],
  "nbformat": 4,
  "nbformat_minor": 5,
  "metadata": {
    "kernelspec": {
      "name": "ir",
      "display_name": "R",
      "language": "R"
    },
    "colab": {
      "provenance": []
    }
  }
}