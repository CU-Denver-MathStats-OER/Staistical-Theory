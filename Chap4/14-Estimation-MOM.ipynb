{
  "cells": [
    {
      "cell_type": "markdown",
      "metadata": {
        "id": "e9fc5ac6-4385-4c25-9d97-fd235fed97e3"
      },
      "source": [
        "[![Open In\n",
        "Colab](https://colab.research.google.com/assets/colab-badge.svg)](https://githubtocolab.com/CU-Denver-MathStats-OER/Statistical-Theory/blob/main/Chap4/14-Estimation-MOM.ipynb)\n"
      ],
      "id": "e9fc5ac6-4385-4c25-9d97-fd235fed97e3"
    },
    {
      "cell_type": "markdown",
      "source": [
        "# <a name=\"14intro\">4.2: Method of Moments Estimates</a>\n",
        "\n",
        "---\n",
        "\n",
        "Estimation is generally the process of predicting the value(s) of unknown population parameters using data collected from a sample. There are different statistical methods that can be applied to a data set to reach the same ultimate goal, such as finding an accurate estimate for a parameter. We explored the method of [maximum likelihood estimation (MLE)](https://githubtocolab.com/CU-Denver-MathStats-OER/Statistical-Theory/blob/main/Chap4/13-Estimation-MLE.ipynb). With MLE estimation, we find the most likely value of a parameter, $\\theta$, by identifying the value for $\\theta$ that gives the maximimum value of the likelihood function.\n",
        "\n",
        "We now explore another estimation method called the <font color=\"dodgerblue\">**method of moments**</font> (commonly\n",
        "abbreviated as <font color=\"dodgerblue\">**MoM**</font>). Both MLE and MoM estimates are used to answer the same question, what is the value of an unknown population parameter, $\\theta$? MoM estimates approach the question following a different objective then MLE. We find the values for the population parameters such that certain properties of the population (for example $\\mu_X=E(X)$ and $\\sigma^2_X = \\mbox{Var}(X)$) are equal to the corresponding statistics (such as the sample mean, $\\bar{x}$, and sample variance, $s^2$) that we calculate from a randomly selected sample.\n",
        "\n"
      ],
      "metadata": {
        "id": "9AZtN-J6oGaw"
      },
      "id": "9AZtN-J6oGaw"
    },
    {
      "cell_type": "markdown",
      "source": [
        "# <a name=\"14cub\">Building a Model for Bear Cub Weight</a>\n",
        "\n",
        "---\n",
        "\n",
        "\n",
        "<figure>\n",
        "<img\n",
        "src=\"https://i2.pickpik.com/photos/601/295/670/bear-cub-black-wildlife-preview.jpg\"\n",
        "alt=\"Black Grizzly Cub\" width = \"40%\"/>\n",
        "<figcaption aria-hidden=\"true\">\n",
        "Credit: <a href=\"https://www.pickpik.com/bear-cub-black-wildlife-animal-nature-112893\">\"Black Grizzly Bear Cub On Top of Tree\"</a>\n",
        "</figcaption>\n",
        "</figure>\n",
        "\n",
        "\n",
        "A biologist is studying black bears. In particular, what distribution best fits the weight (in ounces) of newborn black bear cubs? Their sample data contains 10 observations, $x_1, x_2, \\ldots , x_{10}$, corresponding the birth weight of 10 randomly selected black bear cubs.\n",
        "\n",
        "-   Run the code cell below to “secretly” generate values for parameters that we store in `mu.cub` and `sigma.cub`.\n",
        "-   A data frame called `cub` is created that has one variable, `wt` that has the sample birth weight data.\n",
        "-   The command `set.seed(113)` will seed the randomization so we have the same parameter values and sample every time we run it.\n",
        "-   Do not view the values of `mu.cub` or `sigma.cub` for now. Keep them secret for now!"
      ],
      "metadata": {
        "id": "pf1eBxllyrHt"
      },
      "id": "pf1eBxllyrHt"
    },
    {
      "cell_type": "code",
      "execution_count": null,
      "metadata": {
        "colab": {
          "base_uri": "https://localhost:8080/",
          "height": 34
        },
        "id": "8fa5fe3b-0225-4749-92a3-c815c0402392",
        "outputId": "dafcf671-7eda-43f9-9da5-4bc8f3dec978"
      },
      "outputs": [
        {
          "output_type": "display_data",
          "data": {
            "text/html": [
              "<style>\n",
              ".list-inline {list-style: none; margin:0; padding: 0}\n",
              ".list-inline>li {display: inline-block}\n",
              ".list-inline>li:not(:last-child)::after {content: \"\\00b7\"; padding: 0 .5ex}\n",
              "</style>\n",
              "<ol class=list-inline><li>9.71</li><li>7.77</li><li>8.47</li><li>7.35</li><li>7.83</li><li>9.06</li><li>8.66</li><li>8.74</li><li>10.82</li><li>8.27</li></ol>\n"
            ],
            "text/markdown": "1. 9.71\n2. 7.77\n3. 8.47\n4. 7.35\n5. 7.83\n6. 9.06\n7. 8.66\n8. 8.74\n9. 10.82\n10. 8.27\n\n\n",
            "text/latex": "\\begin{enumerate*}\n\\item 9.71\n\\item 7.77\n\\item 8.47\n\\item 7.35\n\\item 7.83\n\\item 9.06\n\\item 8.66\n\\item 8.74\n\\item 10.82\n\\item 8.27\n\\end{enumerate*}\n",
            "text/plain": [
              " [1]  9.71  7.77  8.47  7.35  7.83  9.06  8.66  8.74 10.82  8.27"
            ]
          },
          "metadata": {}
        }
      ],
      "source": [
        "set.seed(113)  # fix randomization\n",
        "\n",
        "mu.cub <- sample(seq(8.6, 9.8, 0.1), size=1)  # set value of mu\n",
        "sigma.cub <- sample(seq(0.9, 1.3, 0.05), size=1)  # set value of sigma\n",
        "\n",
        "picked <- rnorm(10, mu.cub, sigma.cub)  # pick a random sample n=10\n",
        "cub <- data.frame(wt = picked)  # save sample to the cub data frame\n",
        "round(cub$wt, 2)  # print sample to screen"
      ],
      "id": "8fa5fe3b-0225-4749-92a3-c815c0402392"
    },
    {
      "cell_type": "markdown",
      "metadata": {
        "id": "b2e26308-c87b-4427-ab5f-ef3fcd9dd94f"
      },
      "source": [
        "## <a name=\"14best-fit\">What is the Best Fitting Model?</a>\n",
        "\n",
        "---\n",
        "\n",
        "From the code cell above, we have generated the following sample of cub birth weights (in ounces) that are stored in `cub$wt`,\n",
        "\n",
        "$$x = (9.71, 7.77, 8.47, 7.35, 7.83, 9.06, 8.66, 8.74, 10.82, 8.27 ).$$\n",
        "\n",
        "Our goal is to find the “best” description of the distribution of all black bear cub birth weights. The interpretation of “best” depends on the context of the question and can mean different things to different statisticians.\n",
        "\n"
      ],
      "id": "b2e26308-c87b-4427-ab5f-ef3fcd9dd94f"
    },
    {
      "cell_type": "markdown",
      "source": [
        "## <a name=\"14q1\">Question 1</a>\n",
        "\n",
        "---\n",
        "\n",
        "The figure below shows a dot plot of the selected sample (size $n=10$)\n",
        "of cub birth weights along with the plots of 4 different models we could\n",
        "choose for our data. Answer the questions based on plot figure below.\n",
        "\n",
        "<figure>\n",
        "<img\n",
        "src=\"https://upload.wikimedia.org/wikipedia/commons/9/9e/14fig-compare-models.png\"\n",
        "alt=\"Possible Models for Bear Cub Weights\" width = \"60%\"/>\n",
        "<figcaption aria-hidden=\"true\">Image Credit: Adam Spiegler, <a\n",
        "href=\"https://creativecommons.org/licenses/by-sa/4.0\">CC BY-SA 4.0</a>,\n",
        "via Wikimedia Commons</figcaption>\n",
        "</figure>\n",
        "\n",
        "\n"
      ],
      "metadata": {
        "id": "v0xmq6Mw0DvY"
      },
      "id": "v0xmq6Mw0DvY"
    },
    {
      "cell_type": "markdown",
      "source": [
        "### <a name=\"14q1a\">Question 1a</a>\n",
        "\n",
        "---\n",
        "\n",
        "Which of the models labeled 1-4 in the plot above do you believe best\n",
        "fits the sample data cub birth weights?\n",
        "\n",
        "#### <a name=\"14sol1a\">Solution to Question 1a</a>\n",
        "\n",
        "---\n",
        "\n",
        "<br>\n",
        "<br>\n",
        "<br>\n",
        "\n"
      ],
      "metadata": {
        "id": "sajZ9yrB0Fhw"
      },
      "id": "sajZ9yrB0Fhw"
    },
    {
      "cell_type": "markdown",
      "source": [
        "### <a name=\"14q1b\">Question 1b</a>\n",
        "\n",
        "---\n",
        "\n",
        "What type of continuous distribution best matches the graph you\n",
        "selected? Explain why in terms of birth weights of black bear cubs this\n",
        "distribution is reasonable and makes practical sense.\n",
        "\n",
        "-   *Hint: See the [appendix of common continuous random variables section](https://githubtocolab.com/CU-Denver-MathStats-OER/Statistical-Theory/blob/main/Chap2/08-Common-Continuous-Distributions.ipynb#08append) for some options.*\n",
        "\n",
        "#### <a name=\"14sol1b\">Solution to Question 1b</a>\n",
        "\n",
        "---\n",
        "\n",
        "<br>\n",
        "<br>\n",
        "<br>\n",
        "\n"
      ],
      "metadata": {
        "id": "Rc-IF0D-0HTh"
      },
      "id": "Rc-IF0D-0HTh"
    },
    {
      "cell_type": "markdown",
      "source": [
        "### <a name=\"14q1c\">Question 1c</a>\n",
        "\n",
        "Using the sample of birth weights `cub$wt`, give estimates for each of\n",
        "the parameter(s) in the distribution you identified in [Question 1b](#14q1b).\n",
        "\n",
        "#### <a name=\"14sol1c\">Solution to Question 1c</a>\n",
        "\n",
        "---"
      ],
      "metadata": {
        "id": "vov7G3yz0JOU"
      },
      "id": "vov7G3yz0JOU"
    },
    {
      "cell_type": "code",
      "execution_count": null,
      "metadata": {
        "id": "b30d2877-c936-472b-a745-776ffb1fe76d"
      },
      "outputs": [],
      "source": [
        "# be sure you have already run the first code cell and\n",
        "# stored sample weights to variable `wt` in data frame `cub`\n",
        "\n"
      ],
      "id": "b30d2877-c936-472b-a745-776ffb1fe76d"
    },
    {
      "cell_type": "markdown",
      "source": [
        " Based on your code above, what are the values of the parameters of the distribution in [Question 1b](#14q1b)?\n",
        "\n",
        "\n",
        "<br>\n",
        "<br>\n",
        "<br>\n"
      ],
      "metadata": {
        "id": "__Zdq4x_04Wz"
      },
      "id": "__Zdq4x_04Wz"
    },
    {
      "cell_type": "markdown",
      "metadata": {
        "id": "ab339292-fdf6-4a2c-9a5b-1ba0734b4488"
      },
      "source": [
        "## <a name=\"14model-prop\">Identifying Key Properties for Our Model</a>\n",
        "\n",
        "---\n",
        "\n",
        "Let $X$ be a random variable with pdf $f(x; \\theta_1, \\theta_2, \\ \\ldots \\theta_k)$ that depends on parameters $\\theta_1, \\theta_2, \\ldots , \\theta_k$. If we independently pick a random variables $X_1, X_2, \\ldots X_n$ from population $X$, we can determine the values of $\\theta_1, \\theta_2, \\ldots , \\theta_k$ that best fit the data in the following sense:\n",
        "\n",
        "-   The mean $\\mu_X = E(X)$ of the population $X$ equals the sample mean, $\\bar{x}$.\n",
        "-   The variance $\\sigma^2_X = \\mbox{Var}(X)$ of the population equals the variance of the sample, $s^2$.\n",
        "-   The skewness of the population equals the skewness of the sample.\n",
        "-   The \"peakiness\" (kurtosis) of the population equals the \"peakiness\" of the sample.\n",
        "-   $\\ldots$ and so on.\n",
        "\n",
        "For example, in the birth weight of black bear cubs example, we assumed the population of birth weights $X$ is normally distributed. Normal distributions are determined by two parameters, $\\mu$ and $\\sigma$.\n",
        "\n",
        "-   The random sample has $\\bar{x} = 8.668$. We estimate $E(X) = \\mu=\\bar{x} = 8.668$.\n",
        "-   The random sample has $s^2 = 1.032$. We estimate $\\mbox{Var(X)} = \\sigma^2=s^2=1.032$.\n",
        "\n",
        "> <font color=\"dodgerblue\">We find values of the parameters so the properties of random variable $X$ are equal to corresponding statistics from our sample.</font>\n",
        "\n"
      ],
      "id": "ab339292-fdf6-4a2c-9a5b-1ba0734b4488"
    },
    {
      "cell_type": "markdown",
      "source": [
        "# <a name=\"14theory-moments\">Theoretical Moments</a>\n",
        "\n",
        "---\n",
        "\n",
        "Let $X$ be a random variable with pdf $f(x)$. For a positive integer $k$, the <font color=\"dodgerblue\">**k<sup>th</sup> theoretical moment of $X$**</font> is $\\color{dodgerblue}{\\mu_k = E \\left( X^k \\right) }$.\n",
        "\n",
        "$$\\color{dodgerblue}{\\boxed{\\mu_k = E \\left( X^k \\right) = \\int_{-\\infty}^{\\infty} x^kf(x) \\, dx \\ \\ \\ \\mbox{(for continuous)} \\qquad \\mbox{or} \\qquad  \\mu_k = E \\left( X^k \\right) = \\sum_X x^kp(x) \\ \\ \\ \\mbox{(for discrete)}}},$$\n",
        "\n"
      ],
      "metadata": {
        "id": "uzDHYvJh34Tt"
      },
      "id": "uzDHYvJh34Tt"
    },
    {
      "cell_type": "markdown",
      "source": [
        "## <a name=\"14ex-moments\">Interpretation of Theoretical Moments</a>\n",
        "\n",
        "---\n",
        "\n",
        "-   The <font color=\"dodgerblue\">**first moment**</font> is $\\color{dodgerblue}{\\mu_1 = E \\left( X \\right) }$.\n",
        "   -   $\\mu_1$ is the <font color=\"dodgerblue\">**mean**</font>.\n",
        "-   The <font color=\"tomato\">**second moment**</font> is $\\color{tomato}{\\mu_2 = E \\left( X^2 \\right) }$.\n",
        "    -   $\\mu_2$ is related *(but not equal)* to the <font color=\"tomato\">**variance**</font>.\n",
        "    -   If we can find $\\mbox{Var}(X)$ and have computed the first theoretical moment, $\\mu_1$, we have:\n",
        "\n",
        "$${\\color{tomato}{\\mu_{2}}} = \\mbox{Var}(X) + \\mu_1^2 \\qquad \\mbox{since} \\qquad \\mbox{Var}(X) = E \\big( (X-\\mu_1)^2 \\big) = {\\color{tomato}{E(X^2)}} - \\mu_1^2 = {\\color{tomato}{\\mu_{2}}} - \\mu_1^2.$$\n",
        "\n",
        "-   The <font color=\"mediumseagreen\">**third moment**</font> is   $\\color{mediumseagreen}{\\mu_3 = E \\left( X^3 \\right) }$.\n",
        "    -   $\\mu_3$ is related to the <font color=\"mediumseagreen\">**skewness**</font> of $X$ which is       defined as $E \\big( (X-\\mu_1)^3 \\big)$\n",
        "\n",
        "\n",
        "<figure>\n",
        "<img\n",
        "src=\"https://upload.wikimedia.org/wikipedia/commons/c/cc/Relationship_between_mean_and_median_under_different_skewness.png\"\n",
        "alt=\"Comparing Plots of Skewness\" width = \"75%\"/>\n",
        "<figcaption aria-hidden=\"true\">\n",
        "Credit: Diva Jain, <a href=\"(https://creativecommons.org/licenses/by-sa/4.0)\">CC BY-SA 4.0</a>, via <a href=\"https://commons.wikimedia.org/wiki/File:Relationship_between_mean_and_median_under_different_skewness.png)\">Wikimedia Commons</a>\n",
        "</figcaption>\n",
        "</figure>\n",
        "\n",
        "\n",
        "-   The <font color=\"mediumpurple\">**fourth moment**</font> is   $\\color{mediumpurple}{\\mu_4 = E \\left( X^4 \\right) }$.\n",
        "    -   $\\mu_4$ is related to the <font color=\"mediumpurple\">**kurtosis**</font> of $X$ which is       defined as $E \\big( (X-\\mu_1)^4 \\big)$.\n",
        "        -   Informally, the kurtosis measures how “peaky” or flat the           distribution is.\n",
        "\n",
        "<figure>\n",
        "<img\n",
        "src=\"https://upload.wikimedia.org/wikipedia/commons/5/5f/14fig-kurtosis.png\"\n",
        "alt=\"Comparison of Kurtosis\" width = \"60%\"/>\n",
        "<figcaption aria-hidden=\"true\">Image Credit: Adam Spiegler, <a\n",
        "href=\"https://creativecommons.org/licenses/by-sa/4.0\">CC BY-SA 4.0</a>,\n",
        "via Wikimedia Commons</figcaption>\n",
        "</figure>\n",
        "\n"
      ],
      "metadata": {
        "id": "CAUt5lvJ5Gbb"
      },
      "id": "CAUt5lvJ5Gbb"
    },
    {
      "cell_type": "markdown",
      "source": [
        "## <a name=\"14sample-moments\">Sample Moments</a>\n",
        "\n",
        "---\n",
        "\n",
        "For a sample $X_1=x_1, X_2=x_2, \\ldots , X_n=x_n$, we can calculate the corresponding <font color=\"dodgerblue\">**sample moments**</font>.\n",
        "\n",
        "-   The first sample moment is   $\\displaystyle M_1 = \\frac{1}{n} \\sum_{i=1}^n x_i$.\n",
        "\n",
        "-   The second sample moment is   $\\displaystyle M_2 = \\frac{1}{n} \\sum_{i=1}^n x_i^2 $.\n",
        "\n",
        "-   The <font color=\"dodgerblue\">**k<sup>th</sup> sample   moment**</font> is   $\\color{dodgerblue}{\\displaystyle M_k = \\frac{1}{n} \\sum_{i=1}^n x_i^k }$.\n",
        "\n",
        "<br>\n",
        "\n",
        "*Note: We use Latin letters $\\color{dodgerblue}{M_k}$ to denote <font color=\"dodgerblue\">sample moments</font> and Greek letters $\\color{tomato}{\\mu_k}$ to denote <font color=\"tomato\">theoretical moments</font> for the population.*</font>\n",
        "\n"
      ],
      "metadata": {
        "id": "UBW6SCUuxmAh"
      },
      "id": "UBW6SCUuxmAh"
    },
    {
      "cell_type": "markdown",
      "source": [
        "## <a name=\"14q2\">Question 2</a>\n",
        "\n",
        "---\n",
        "\n",
        "Let $X$ be a random variable with pdf\n",
        "\n",
        "$$f(x; \\lambda, \\delta)=\\lambda e^{-\\lambda(x-\\delta)}$$\n",
        "\n",
        "for $x > \\delta$ with parameters $\\lambda, \\delta >0$.\n",
        "\n"
      ],
      "metadata": {
        "id": "O7MEAmON5tIX"
      },
      "id": "O7MEAmON5tIX"
    },
    {
      "cell_type": "markdown",
      "source": [
        "### <a name=\"14q2a\">Question 2a</a>\n",
        "\n",
        "---\n",
        "\n",
        "Write out (but do not evaluate) integrals that represent the first and second theoretical moments.\n",
        "\n",
        "#### <a name=\"14sol2a\">Solution to Question 2a</a>\n",
        "\n",
        "---\n",
        "\n",
        "\n",
        "$$\\mu_1 = E(X) = \\int_{\\delta}^{\\infty} \\left(   ?? \\right)  \\, dx$$\n",
        "\n",
        "\n",
        "$$\\mu_2 = E(X^2) = \\int_{\\delta}^{\\infty} \\left(   ?? \\right)  \\, dx$$\n",
        "\n",
        "<br>\n",
        "<br>"
      ],
      "metadata": {
        "id": "muMysfbr8By-"
      },
      "id": "muMysfbr8By-"
    },
    {
      "cell_type": "markdown",
      "source": [
        "### <a name=\"142q2b\">Question 2b</a>\n",
        "\n",
        "---\n",
        "\n",
        "Applying integration methods, we can evaluate the integrals in [Question 2a](#14q2a) to get the following expressions for the first and second theoretical moments.\n",
        "\n",
        "$$\\mu_1 = E(X) = \\delta + \\frac{1}{\\lambda}.$$\n",
        "\n",
        "$$\\mu_2 = E(X^2) = \\left( \\delta + \\frac{1}{\\lambda} \\right)^2 + \\frac{1}{\\lambda^2}.$$\n",
        "\n",
        "What integration methods do you believe will be useful to integrate the formulas in [Question 2a](#14q2a)? Explain in words how you could evaluate each of the integrals.\n",
        "\n",
        "-   *Time permitting: Refresh your integration skills by verifying the formulas for $\\mu_1$ and $\\mu_2$.*\n",
        "\n",
        "#### <a name=\"14sol2b\">Solution to Question 2b</a>\n",
        "\n",
        "---\n",
        "\n",
        "<br>\n",
        "<br>\n",
        "<br>\n",
        "\n"
      ],
      "metadata": {
        "id": "wOrtU7Ts8C3g"
      },
      "id": "wOrtU7Ts8C3g"
    },
    {
      "cell_type": "markdown",
      "source": [
        "### <a name=\"14q2c\">Question 2c</a>\n",
        "\n",
        "---\n",
        "\n",
        "Let $X_1=3$, $X_2=4$, $X_3 = 5$, and $X_4 = 8$ be a random sample from\n",
        "the random variable $X$ from [Question 2](#14q2). Find the first and second\n",
        "sample moments.\n",
        "\n",
        "#### <a name=\"14sol2c\">Solution to Question 2c</a>\n",
        "\n",
        "---\n",
        "\n",
        "<br>\n",
        "<br>\n",
        "<br>\n",
        "\n"
      ],
      "metadata": {
        "id": "j2CTkR2E8Eei"
      },
      "id": "j2CTkR2E8Eei"
    },
    {
      "cell_type": "markdown",
      "source": [
        "# <a name=\"14mom\">Defining the Method of Moments Estimate</a>\n",
        "\n",
        "---\n",
        "\n",
        "Let $X$ be a random variable with pdf $f(x; \\theta_1, \\theta_2, \\ldots, \\theta_k)$ and let $X_1$, $X_2$, $\\ldots$, $X_n$ be a random sample.\n",
        "\n",
        "1.  Compute sample moments $M_1, M_2, \\ldots , M_k$ based on the sample data.\n",
        "2.  Find formulas for the the theoretical moments $\\mu_1, \\mu_2, \\ldots , \\mu_k$.\n",
        "  -   The formulas for the theoretical moments will depend on the parameters $\\theta_1, \\theta_2, \\ldots, \\theta_k$.\n",
        "3.  The <font color=\"dodgerblue\">**method of moments (MOM)   estimate**</font> is obtained by solving the system:\n",
        "  -   *Note: If $X$ is a discrete random variable, change the integrals to summations.*\n",
        "\n",
        "$$\\begin{aligned}\n",
        "\\mu_1 = \\int_{-\\infty}^{\\infty} xf(x) \\, dx &= \\frac{1}{n} \\sum_{i=1}^n X_i = M_1\\\\\n",
        "\\mu_2 = \\int_{-\\infty}^{\\infty} x^2f(x) \\, dx &= \\frac{1}{n} \\sum_{i=1}^n X_i^2 = M_2\\\\\n",
        "& \\vdots \\\\\n",
        "\\mu_k = \\int_{-\\infty}^{\\infty} x^kf(x) \\, dx &= \\frac{1}{n} \\sum_{i=1}^n X_i^k = M_k\n",
        "\\end{aligned}$$\n",
        "\n",
        "<br>\n",
        "\n",
        "### <a name=\"14number-system\">The Number of Unknown Parameters and Equations Needed</a>\n",
        "\n",
        "---\n",
        "\n",
        "We need to set up as many equations as the number of parameters in the pdf for random variable $X$.\n",
        "\n",
        "-   If the distribution has one parameter, we will only need to solve one equation $\\mu_1 = M_1$.\n",
        "-   If the distribution has two parameters, we will need to solve a system fo two equations involving the first and second moments.\n",
        "-   We will not encounter any distribution with more than two parameters this semester, though this method can be extended to distributions with more 3 or more parameters.\n",
        "\n"
      ],
      "metadata": {
        "id": "FKStd8Yt8F8I"
      },
      "id": "FKStd8Yt8F8I"
    },
    {
      "cell_type": "markdown",
      "source": [
        "# <a name=\"14practice\">Practice</a>\n",
        "\n",
        "---\n",
        "\n"
      ],
      "metadata": {
        "id": "jvWh4ZqA8IGx"
      },
      "id": "jvWh4ZqA8IGx"
    },
    {
      "cell_type": "markdown",
      "source": [
        "## <a name=\"14q3\">Question 3</a>\n",
        "\n",
        "---\n",
        "\n",
        "Let $X$ be a random variable from [Question 2](#14q2) with pdf\n",
        "$\\displaystyle f(x; \\lambda, \\delta)=\\lambda e^{-\\lambda(x-\\delta)}$ for $x > \\delta$ with parameters $\\lambda, \\delta >0$. The first and second theoretical moments (see [Question 2a](#14q2a) and [Question 2b](#14q2b)) are\n",
        "\n",
        "$$\\mu_1 = E(X) = \\delta + \\frac{1}{\\lambda} \\qquad \\mbox{and} \\qquad \\mu_2 = E(X^2) = \\left( \\delta + \\frac{1}{\\lambda} \\right)^2 + \\frac{1}{\\lambda^2}.$$\n",
        "\n",
        "Let $X_1=3$, $X_2=4$, $X_3 = 5$, and $X_4 = 8$ be a random sample from $X$. Find $\\hat{\\lambda}_{\\rm{MoM}}$ and $\\hat{\\delta}_{\\rm{MoM}}$, the MoM estimates for parameters $\\lambda$ and $\\delta$. *Hint: Use the sample moments from [Question 2c](#14q2c).*\n",
        "\n",
        "### <a name=\"14sol3\">Solution to Question 3</a>\n",
        "\n",
        "---\n",
        "\n",
        "<br>\n",
        "<br>\n",
        "<br>\n",
        "\n"
      ],
      "metadata": {
        "id": "wZxVeflg8Jbp"
      },
      "id": "wZxVeflg8Jbp"
    },
    {
      "cell_type": "markdown",
      "source": [
        "## <a name=\"14q4\">Question 4</a>\n",
        "\n",
        "---\n",
        "\n",
        "Let $X_1=1, X_2=3, X_3=7, X_4=10$ be four numbers picked at random from a continuous uniform distribution on $\\lbrack \\alpha , \\beta \\rbrack$. Find the MoM estimates of $\\alpha$ and $\\beta$.\n",
        "\n",
        "<br>\n",
        "\n",
        "- <font color=\"mediumseagreen\">*Hint: You do not need to evaluate any integrals to find expressions for $\\mu_1$ and $\\mu_2$. Recall if $X$ is a continuous uniform distribtion, we have* </font>\n",
        "\n",
        "$$\\color{mediumseagreen}{E(X) = \\frac{\\alpha + \\beta}{2}  \\qquad \\mbox{and} \\qquad \\mbox{Var}(X) = \\frac{\\beta- \\alpha}{12}.}$$\n",
        "\n",
        "- <font color=\"tomato\">*Caution: $\\mu_2 \\ne \\mbox{Var}(X)$. However, you can derive a formula for $\\mu_2 = E(X^2)$ from formulas for both $\\mbox{Var}(X)$ and $E(X)$.*</font>\n",
        "\n",
        "### <a name=\"14sol4\">Solution to Question 4</a>\n",
        "\n",
        "---\n",
        "\n",
        "<br>\n",
        "<br>\n",
        "<br>\n",
        "\n"
      ],
      "metadata": {
        "id": "Bi6vH8Ax8K0U"
      },
      "id": "Bi6vH8Ax8K0U"
    },
    {
      "cell_type": "markdown",
      "source": [
        "## <a name=\"14q5\">Question 5</a>\n",
        "\n",
        "---\n",
        "\n",
        "Let $X_1=1, X_2=3, X_3=3, X_4=2$ be four values picked at random from a binomial distribution $X \\sim \\mbox{Binom}(n,p)$. Find the MoM estimates of $n$ and $p$.\n",
        "\n",
        "### <a name=\"14sol5\">Solution to Question 5</a>\n",
        "\n",
        "---\n",
        "\n",
        "\n",
        "<br>\n",
        "<br>\n",
        "<br>\n",
        "\n"
      ],
      "metadata": {
        "id": "BwAdOkDh8MBI"
      },
      "id": "BwAdOkDh8MBI"
    },
    {
      "cell_type": "markdown",
      "source": [
        "## <a name=\"14q6\">Question 6</a>\n",
        "\n",
        "---\n",
        "\n",
        "Let $X_1=x_1, X_2=x_2, \\ldots X_n=x_n$ denote a random sample size $n$ from the continuous uniform distribution on $\\lbrack \\alpha , \\beta \\rbrack$.\n",
        "\n"
      ],
      "metadata": {
        "id": "wMFB8MRT8NVP"
      },
      "id": "wMFB8MRT8NVP"
    },
    {
      "cell_type": "markdown",
      "source": [
        "### <a name=\"14q6a\">Question 6a</a>\n",
        "\n",
        "---\n",
        "\n",
        "Derive the following general formulas for the MoM estimates of $\\alpha$ and $\\beta$:\n",
        "\n",
        "$$\\hat{\\alpha}_{\\rm{MoM}} = M_1 - \\sqrt{3} \\left( \\sqrt{ M_2 - M_1^2} \\right)$$\n",
        "\n",
        "$$\\hat{\\beta}_{\\rm{MoM}} = M_1 + \\sqrt{3} \\left( \\sqrt{ M_2 - M_1^2} \\right)$$\n",
        "\n",
        "where $M_1= \\frac{1}{n}\\sum_{i=1}^n x_i$ and $M_2= \\frac{1}{n} \\sum_{i=1}^n x_i^2$ denote the first and second sample moments, respectively.\n",
        "\n",
        "#### <a name=\"14sol6a\">Solution to Question 6a</a>\n",
        "\n",
        "---\n",
        "\n",
        "<br>\n",
        "<br>\n",
        "<br>\n",
        "\n"
      ],
      "metadata": {
        "id": "1bJxMVmr8OfG"
      },
      "id": "1bJxMVmr8OfG"
    },
    {
      "cell_type": "markdown",
      "source": [
        "### <a name=\"14q6b\">Question 6b</a>\n",
        "\n",
        "---\n",
        "\n",
        "Verify your solution to [Question 4](#14q4) using the formulas for the MoM estimates for $\\alpha$ and $\\beta$ in [Question 6a](#14q6a).\n",
        "\n",
        "-   Complete and run the partially completed R code cell below.\n",
        "\n",
        "#### <a name=\"14sol6b\">Solution to Question 6b</a>\n",
        "\n",
        "---\n",
        "\n",
        "Replace each of the two `??` in the code cell below with appropriate code. Then run the completed code to check the MoM estimates for $\\hat{\\alpha}_{\\rm{MoM}}$ and $\\hat{\\beta}_{\\rm{MoM}}$ obtained in [Question 4](#14q4)."
      ],
      "metadata": {
        "id": "ePhImJJ18QFf"
      },
      "id": "ePhImJJ18QFf"
    },
    {
      "cell_type": "code",
      "execution_count": null,
      "metadata": {
        "id": "d3c8acf9-43ca-466e-b049-d9730f4911e6"
      },
      "outputs": [],
      "source": [
        "x.unif <- c(1, 3, 7, 10)  # sample from question 4\n",
        "n <- length(x.unif)  # length of sample\n",
        "\n",
        "m1 <- sum(x.unif)/n  # first sample moment\n",
        "m2 <- sum(x.unif^2)/n  # second sample moment\n",
        "\n",
        "alpha.hat <- ??  # enter formula for MoM estimate for alpha\n",
        "beta.hat <- ??   # enter formula for MoM estimate for beta\n",
        "\n",
        "# print results to screen\n",
        "alpha.hat\n",
        "beta.hat"
      ],
      "id": "d3c8acf9-43ca-466e-b049-d9730f4911e6"
    },
    {
      "cell_type": "markdown",
      "metadata": {
        "id": "503905f6-9637-4dc8-a438-062066e8af37"
      },
      "source": [
        "## <a name=\"14q7\">Question 7</a>\n",
        "\n",
        "---\n",
        "\n",
        "The code below generates sampling distributions for MoM estimates for the parameters $\\alpha$ and $\\beta$ for random variable $X \\sim \\mbox{Unif}(\\alpha, \\beta)$ using sample size $n=4$.\n",
        "\n",
        "-   A total of 1,000 random samples each of size $n$ are generated in the for loop.\n",
        "-   The distribution of $\\hat{\\alpha}_{\\rm{MoM}}$ values are stored in the vector `mom.alpha`.\n",
        "-   The distribution of $\\hat{\\beta}_{\\rm{MoM}}$ values are stored in the vector `mom.beta`."
      ],
      "id": "503905f6-9637-4dc8-a438-062066e8af37"
    },
    {
      "cell_type": "code",
      "execution_count": null,
      "metadata": {
        "id": "516d27a7-16cc-47b9-a04d-fc700b5bd9e4"
      },
      "outputs": [],
      "source": [
        "#############################\n",
        "# do not edit\n",
        "# run the code cell as is\n",
        "#############################\n",
        "n <- 4  # sample size\n",
        "\n",
        "mom.alpha <- numeric(1000)\n",
        "mom.beta <- numeric(1000)\n",
        "\n",
        "for (i in 1:1000)\n",
        "{\n",
        "  x.temp <- runif(n, 0, 11)  # generate random sample\n",
        "  m1 <- sum(x.temp)/n  # first sample moment\n",
        "  m2 <- sum(x.temp^2)/n  # second sample moment\n",
        "  k <- sqrt(3) * sqrt(m2 - m1^2)  # compute sqrt(3)*(m2 - m1^2)\n",
        "  mom.alpha[i] <- m1 - k  # enter formula for MoM estimate for alpha\n",
        "  mom.beta[i] <- m1 + k  # enter formula for MoM estimate for beta\n",
        "}"
      ],
      "id": "516d27a7-16cc-47b9-a04d-fc700b5bd9e4"
    },
    {
      "cell_type": "markdown",
      "metadata": {
        "id": "62a03603-a9eb-4f42-a4bd-38589c43d56b"
      },
      "source": [
        "The distribution of $\\hat{\\alpha}_{\\rm{MoM}}$ values generated by the\n",
        "code above is plotted in the histogram below.\n",
        "\n",
        "-   A <font color=\"dodgerblue\">blue vertical line</font> is drawn   at the actual value of $\\color{dodgerblue}{\\alpha=0}$.\n",
        "-   A <font color=\"tomato\">red vertical line</font> is drawn at   the value of $\\color{tomato}{\\hat{\\alpha}_{\\rm{MoM}}=-0.797}$ we   found for the sample in [Question 4](#14q4)."
      ],
      "id": "62a03603-a9eb-4f42-a4bd-38589c43d56b"
    },
    {
      "cell_type": "code",
      "execution_count": null,
      "metadata": {
        "colab": {
          "base_uri": "https://localhost:8080/",
          "height": 437
        },
        "id": "de3be7dd-04de-4493-a2a8-bbeccb3ad419",
        "outputId": "b3b65451-97f5-432c-8357-2d1d59baf89c"
      },
      "outputs": [
        {
          "output_type": "display_data",
          "data": {
            "text/plain": [
              "Plot with title “Dist. of MoM's for alpha”"
            ],
            "image/png": "[encoded data removed]"
          },
          "metadata": {
            "image/png": {
              "width": 420,
              "height": 420
            }
          }
        }
      ],
      "source": [
        "#############################\n",
        "# do not edit\n",
        "# run the code cell as is\n",
        "#############################\n",
        "hist(mom.alpha,\n",
        "     breaks = 20,\n",
        "     xlab = \"MoM for alpha\",\n",
        "     main = \"Dist. of MoM's for alpha\")\n",
        "abline(v = 0, col = \"dodgerblue\", lwd = 2)  # plot at actual value of alpha\n",
        "abline(v = -0.797, col = \"tomato\", lwd = 2)  # plot at estimated value of alpha"
      ],
      "id": "de3be7dd-04de-4493-a2a8-bbeccb3ad419"
    },
    {
      "cell_type": "markdown",
      "metadata": {
        "id": "4bf05e1b-14fb-4b95-bfbe-085a17f4b8f3"
      },
      "source": [
        "The distribution of $\\hat{\\beta}_{\\rm{MoM}}$ values generated by the\n",
        "code above is plotted in the histogram below.\n",
        "\n",
        "-   A <font color=\"dodgerblue\">blue vertical line</font> is drawn   at the actual value of $\\color{dodgerblue}{\\beta=11}$.\n",
        "-   A <font color=\"tomato\">red vertical line</font> is drawn at   the value of $\\color{tomato}{\\hat{\\beta}_{\\rm{MoM}}=11.297}$ we   found for the sample in [Question 4](#14q4)."
      ],
      "id": "4bf05e1b-14fb-4b95-bfbe-085a17f4b8f3"
    },
    {
      "cell_type": "code",
      "execution_count": null,
      "metadata": {
        "colab": {
          "base_uri": "https://localhost:8080/",
          "height": 437
        },
        "id": "ddc28091-356f-4f96-8c7e-f95b4574acfa",
        "outputId": "a1ad6088-f548-4b6f-f60d-84ccc9b042cb"
      },
      "outputs": [
        {
          "output_type": "display_data",
          "data": {
            "text/plain": [
              "Plot with title “Dist. of MoM's for beta”"
            ],
            "image/png": "[encoded data removed]"
          },
          "metadata": {
            "image/png": {
              "width": 420,
              "height": 420
            }
          }
        }
      ],
      "source": [
        "#############################\n",
        "# do not edit\n",
        "# run the code cell as is\n",
        "#############################\n",
        "hist(mom.beta,\n",
        "     breaks = 20,\n",
        "     xlab = \"MoM for beta\",\n",
        "     main = \"Dist. of MoM's for beta\")\n",
        "abline(v = 11, col = \"dodgerblue\", lwd = 2)  # plot at actual value of beta\n",
        "abline(v = 11.297, col = \"tomato\", lwd = 2)  # plot at estimated value of alpha"
      ],
      "id": "ddc28091-356f-4f96-8c7e-f95b4574acfa"
    },
    {
      "cell_type": "markdown",
      "metadata": {
        "id": "fa86482b-4f3e-49ed-a8de-a11563c01c29"
      },
      "source": [
        "### <a name=\"14q7a\">Question 7a</a>\n",
        "\n",
        "---\n",
        "\n",
        "Based on the plots of the sampling distributions for $\\hat{\\alpha}_{\\rm{MoM}}$ and $\\hat{\\beta}_{\\rm{MoM}}$ above:\n",
        "\n",
        "-   Do you believe the MoM estimator for $\\alpha$ is biased? Explain why or why not.\n",
        "-   Do you believe the MoM estimator for $\\beta$ is biased? Explain why or why not.\n",
        "-   Base your answers on the distribution of all estimates, not just the red vertical lines corresponding to the sample from [Question 4](#14q4).\n",
        "\n",
        "#### <a name=\"14sol7a\">Solution to Question 7a</a>\n",
        "\n",
        "---\n",
        "\n",
        "<br>\n",
        "<br>\n",
        "<br>\n",
        "\n"
      ],
      "id": "fa86482b-4f3e-49ed-a8de-a11563c01c29"
    },
    {
      "cell_type": "markdown",
      "source": [
        "### <a name=\"14q7b\">Question 7b</a>\n",
        "\n",
        "---\n",
        "\n",
        "Check your answers in [Question 7a](#14q7a) more carefully using the MoM estimates stored in `mom.alpha` and `mom.beta`.\n",
        "\n",
        "-   Hint: Recall an estimator $\\hat{\\theta}$ is unbiased if $E(\\hat{\\theta}) = \\theta$.\n",
        "\n",
        "#### <a name=\"14sol7b\">Solution to Question 7b</a>\n",
        "\n",
        "---"
      ],
      "metadata": {
        "id": "9CF2chaM8VJj"
      },
      "id": "9CF2chaM8VJj"
    },
    {
      "cell_type": "code",
      "execution_count": null,
      "metadata": {
        "id": "0bd8b1b8-aefe-4f5f-a497-067d01b88baf"
      },
      "outputs": [],
      "source": [
        "# check whether or not each estimator is biased\n",
        "\n"
      ],
      "id": "0bd8b1b8-aefe-4f5f-a497-067d01b88baf"
    },
    {
      "cell_type": "markdown",
      "metadata": {
        "id": "0221cf60-15db-4be4-a5a0-e71a052e8221"
      },
      "source": [
        "<br>\n",
        "<br>\n",
        "\n"
      ],
      "id": "0221cf60-15db-4be4-a5a0-e71a052e8221"
    },
    {
      "cell_type": "markdown",
      "source": [
        "### <a name=\"14q7c\">Question 7c</a>\n",
        "\n",
        "---\n",
        "\n",
        "Which estimator, $\\hat{\\alpha}_{\\rm{MoM}}$ or $\\hat{\\beta}_{\\rm{MoM}}$, is more precise?\n",
        "\n",
        "-   Hint: Recall the precision of an estimator $\\hat{\\theta}$ is often measured by $\\mbox{Var}(\\hat{\\theta}) = \\theta$.\n",
        "-   Hint: Use R code and the MoM estimates stored in `mom.alpha` and `mom.beta`.\n",
        "\n",
        "#### <a name=\"14sol7c\">Solution to Question 7c</a>\n",
        "\n",
        "---"
      ],
      "metadata": {
        "id": "G9hUFeVzF0T-"
      },
      "id": "G9hUFeVzF0T-"
    },
    {
      "cell_type": "code",
      "execution_count": null,
      "metadata": {
        "id": "c64c5cea-0ef0-487e-84fd-e0dc666dd641"
      },
      "outputs": [],
      "source": [
        "# check which estimator is more precise\n",
        "\n"
      ],
      "id": "c64c5cea-0ef0-487e-84fd-e0dc666dd641"
    },
    {
      "cell_type": "markdown",
      "metadata": {
        "id": "678d2861-bf47-4b3b-88a3-d24ae984d21e"
      },
      "source": [
        "<br>\n",
        "<br>\n",
        "\n"
      ],
      "id": "678d2861-bf47-4b3b-88a3-d24ae984d21e"
    },
    {
      "cell_type": "markdown",
      "source": [
        "### <a name=\"14q7d\">Question 7d</a>\n",
        "\n",
        "---\n",
        "\n",
        "Adjust the sample size in the first line in the first code cell below to investigate what happens to the distributions of estimators $\\hat{\\alpha}_{\\rm{MoM}}$ and $\\hat{\\beta}_{\\rm{MoM}}$ for different sample sizes. In particular, as $n$ gets larger and larger:\n",
        "\n",
        "-   Does each estimator seem to get more, less, or no change in bias?\n",
        "-   Does each estimator get more, less, or no change in variability?\n",
        "-   Does the shape of each distribution change?\n",
        "\n",
        "#### <a name=\"14sol7d\">Solution to Question 7d</a>\n",
        "\n",
        "---\n",
        "\n",
        "<br>\n",
        "\n",
        "#### <a name=\"14q7d-n\">Experiment with different sample sizes, $n$.</a>\n",
        "\n",
        "---"
      ],
      "metadata": {
        "id": "FKl3FjVTF-cj"
      },
      "id": "FKl3FjVTF-cj"
    },
    {
      "cell_type": "code",
      "execution_count": null,
      "metadata": {
        "id": "b7adce54-822b-4232-906a-bddeef6f8375"
      },
      "outputs": [],
      "source": [
        "#######################\n",
        "# adjust sample size\n",
        "#######################\n",
        "n <- 4  # sample size\n",
        "\n",
        "#####################################\n",
        "# do not edit the rest of the code\n",
        "#####################################\n",
        "\n",
        "mom.alpha <- numeric(1000)\n",
        "mom.beta <- numeric(1000)\n",
        "\n",
        "for (i in 1:1000)\n",
        "{\n",
        "  x.temp <- runif(n, 0, 11)  # generate random sample\n",
        "  m1 <- sum(x.temp)/n  # first sample moment\n",
        "  m2 <- sum(x.temp^2)/n  # second sample moment\n",
        "  k <- sqrt(3) * sqrt(m2 - m1^2)  # compute sqrt(3)*(m2 - m1^2)\n",
        "  mom.alpha[i] <- m1 - k  # enter formula for MoM estimate for alpha\n",
        "  mom.beta[i] <- m1 + k  # enter formula for MoM estimate for beta\n",
        "}"
      ],
      "id": "b7adce54-822b-4232-906a-bddeef6f8375"
    },
    {
      "cell_type": "code",
      "execution_count": null,
      "metadata": {
        "id": "5ae4ea49-df25-4b1f-b21b-161170f62cf2"
      },
      "outputs": [],
      "source": [
        "##########################################\n",
        "# sampling distribution for MoM of alpha\n",
        "# do not edit cell, just run\n",
        "##########################################\n",
        "hist(mom.alpha,\n",
        "     breaks = 20,\n",
        "     xlab = \"MoM for alpha\",\n",
        "     main = \"Dist. of MoM's for alpha\")\n",
        "abline(v = 0, col = \"dodgerblue\", lwd = 2)  # plot at actual value of alpha"
      ],
      "id": "5ae4ea49-df25-4b1f-b21b-161170f62cf2"
    },
    {
      "cell_type": "code",
      "execution_count": null,
      "metadata": {
        "id": "59e4ac30-22ae-43e8-acd8-4fe9bbd970a7"
      },
      "outputs": [],
      "source": [
        "##########################################\n",
        "# sampling distribution for MoM of beta\n",
        "# do not edit cell, just run\n",
        "##########################################\n",
        "hist(mom.beta,\n",
        "     breaks = 20,\n",
        "     xlab = \"MoM for beta\",\n",
        "     main = \"Dist. of MoM's for beta\")\n",
        "abline(v = 11, col = \"dodgerblue\", lwd = 2)  # plot at actual value of beta"
      ],
      "id": "59e4ac30-22ae-43e8-acd8-4fe9bbd970a7"
    },
    {
      "cell_type": "markdown",
      "metadata": {
        "id": "0aeda7b0-cda7-4134-a37d-724d86a563a4"
      },
      "source": [
        "<br>\n",
        "<br>\n",
        "\n"
      ],
      "id": "0aeda7b0-cda7-4134-a37d-724d86a563a4"
    },
    {
      "cell_type": "markdown",
      "source": [
        "##### <a name=\"1q7d-bias\">Exploring Bias of Each Estimator</a>\n",
        "\n",
        "---\n",
        "\n",
        "-   As $n$ gets larger, does each estimator seem to get more, less, or   no change in bias?"
      ],
      "metadata": {
        "id": "QUKXTXoKGp4p"
      },
      "id": "QUKXTXoKGp4p"
    },
    {
      "cell_type": "code",
      "execution_count": null,
      "metadata": {
        "id": "8b460fd4-ddb2-4315-890d-3d76f2849ef0"
      },
      "outputs": [],
      "source": [
        "# check for change to bias\n",
        "\n"
      ],
      "id": "8b460fd4-ddb2-4315-890d-3d76f2849ef0"
    },
    {
      "cell_type": "markdown",
      "metadata": {
        "id": "d6a8410b-831c-4157-b139-840e858b3cf5"
      },
      "source": [
        "<br>\n",
        "<br>\n",
        "\n"
      ],
      "id": "d6a8410b-831c-4157-b139-840e858b3cf5"
    },
    {
      "cell_type": "markdown",
      "source": [
        "##### <a name=\"14q7d-eff\">Exploring Variability of Estimators</a>\n",
        "\n",
        "---\n",
        "\n",
        "-   As $n$ gets larger, does each estimator get more, less, or no change in variability?"
      ],
      "metadata": {
        "id": "BC9sr0oFGo46"
      },
      "id": "BC9sr0oFGo46"
    },
    {
      "cell_type": "code",
      "execution_count": null,
      "metadata": {
        "id": "d383f897-a899-4551-9899-345ff1d78c54"
      },
      "outputs": [],
      "source": [
        "# check for change in variability\n"
      ],
      "id": "d383f897-a899-4551-9899-345ff1d78c54"
    },
    {
      "cell_type": "markdown",
      "metadata": {
        "id": "2f3a0093-c13b-4268-ac83-e7554384ed5f"
      },
      "source": [
        "<br>\n",
        "<br>\n",
        "\n"
      ],
      "id": "2f3a0093-c13b-4268-ac83-e7554384ed5f"
    },
    {
      "cell_type": "markdown",
      "source": [
        "##### <a name=\"14q7d-shape\">Exploring the Shape of Sampling Distributions</a>\n",
        "\n",
        "---\n",
        "\n",
        "-   Does the shape of each distribution change as $n$ gets larger?"
      ],
      "metadata": {
        "id": "bi-FtE93Gsp6"
      },
      "id": "bi-FtE93Gsp6"
    },
    {
      "cell_type": "code",
      "execution_count": null,
      "metadata": {
        "id": "17a0b26c-4de9-429f-b431-29f9ab2a9598"
      },
      "outputs": [],
      "source": [
        "# check for change in shape\n",
        "\n"
      ],
      "id": "17a0b26c-4de9-429f-b431-29f9ab2a9598"
    },
    {
      "cell_type": "markdown",
      "metadata": {
        "id": "ecea1c65-01b6-485f-98a1-da7919fa09ee"
      },
      "source": [
        "<br>\n",
        "<br>\n",
        "<br>\n",
        "\n"
      ],
      "id": "ecea1c65-01b6-485f-98a1-da7919fa09ee"
    },
    {
      "cell_type": "markdown",
      "source": [
        "# <a name=\"14CC License\">Creative Commons License Information</a>\n",
        "---\n",
        "\n",
        "\n",
        "![Creative Commons\n",
        "License](https://i.creativecommons.org/l/by-nc-sa/4.0/88x31.png)\n",
        "\n",
        "*Statistical Methods: Exploring the Uncertain* by [Adam\n",
        "Spiegler (University of Colorado Denver)](https://github.com/CU-Denver-MathStats-OER/Statistical-Theory)\n",
        "is licensed under a [Creative Commons\n",
        "Attribution-NonCommercial-ShareAlike 4.0 International\n",
        "License](http://creativecommons.org/licenses/by-nc-sa/4.0/). This work is funded by an [Institutional OER Grant from the Colorado Department of Higher Education (CDHE)](https://cdhe.colorado.gov/educators/administration/institutional-groups/open-educational-resources-in-colorado).\n",
        "\n",
        "For similar interactive OER materials in other courses funded by this project in the Department of Mathematical and Statistical Sciences at the University of Colorado Denver, visit <https://github.com/CU-Denver-MathStats-OER>."
      ],
      "metadata": {
        "id": "o4bR8timX770"
      },
      "id": "o4bR8timX770"
    }
  ],
  "nbformat": 4,
  "nbformat_minor": 5,
  "metadata": {
    "kernelspec": {
      "name": "ir",
      "display_name": "R",
      "language": "R"
    },
    "colab": {
      "provenance": []
    }
  }
}