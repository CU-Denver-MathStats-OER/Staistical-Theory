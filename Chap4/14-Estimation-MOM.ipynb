{
  "cells": [
    {
      "cell_type": "raw",
      "metadata": {},
      "source": [
        "---\n",
        "title: '4.2: Method of Moments Estimates'\n",
        "#author: 'Adam Spiegler, University of Colorado Denver'\n",
        "execute:\n",
        "  eval: false\n",
        "output:\n",
        "  html_document:\n",
        "#    toc: yes\n",
        "#    toc_depth: 1\n",
        "#    theme: cerulean\n",
        "#jupyter:\n",
        "#  kernelspec:\n",
        "#    display_name: R\n",
        "#    language: R\n",
        "#    name: ir\n",
        "#output:\n",
        "#    ipynbdocument::ipynb_document\n",
        "---"
      ]
    },
    {
      "cell_type": "markdown",
      "metadata": {},
      "source": [
        "[![Open In Colab](https://colab.research.google.com/assets/colab-badge.svg)](https://githubtocolab.com/CU-Denver-MathStats-OER/Statistical-Theory/blob/main/Chap4/14-Estimation-MOM.ipynb) <nbsp>\n",
        "\n",
        "Estimation is generally the process of predicting the value(s) of unknown population parameters using data collected from a sample. There are different statistical methods that can be applied to a data set to reach the same ultimate goal, such as finding an accurate estimate for a parameter. We explored the method of [maximum likelihood estimation (MLE)](13-Estimation-MLE.qmd). With MLE estimation, we find the most likely value of a parameter, $\\theta$. We find the value for $\\theta$ that maximizes a likelihood function that gives the probability of randomly selecting the observed sample data.\n",
        "\n",
        "We now explore another estimation method called the <span style=\"color:dodgerblue\">**method of moments**</span> (commonly abbreviated as <span style=\"color:dodgerblue\">**MoM**</span>). Both MLE and MoM and estimates are used to answer the same question, what is the value of an unknown population parameter, $\\theta$? MoM estimates approach the question following a different objective then MLE. We find the values for the population parameters such that certain properties of the population (for example $\\mu_X=E(X)$ and $\\sigma^2_X = \\mbox{Var}(X)$) are equal to the corresponding statistics (such as the sample mean, $\\bar{x}$, and sample variance, $s^2$) that we calculate from a randomly selected sample.\n",
        "\n",
        "\n",
        "# ggg Building a Model for Bear Cub Weight zzz"
      ]
    },
    {
      "cell_type": "raw",
      "metadata": {},
      "source": [
        "--- \n",
        "\n",
        "![Credit: [Black Grizzly Bear Cub On Top of Tree](https://www.pickpik.com/bear-cub-black-wildlife-animal-nature-112893)](https://i2.pickpik.com/photos/601/295/670/bear-cub-black-wildlife-preview.jpg){fig-align=\"left\" width=40% fig-alt=\"Black Grizzly\"} <nbsp>\n",
        "\n",
        "\n",
        "A biologist is studying black bears. In particular, what distribution best fits the weight (in ounces) of newborn black bear cubs? Their sample data contains 10 observations, $x_1, x_2, \\ldots , x_{10}$, corresponding the birth weight of 10 randomly selected black bear cubs.\n",
        "\n",
        "- Run the code cell below to \"secretly\" generate values for parameters that we store in `mu.cub` and `sigma.cub`. \n",
        "- A data frame called `cub` is created that has one variable, `wt` that has the sample birth weight data.\n",
        "- The command `set.seed(113)` will seed the randomization so we have the same parameter values and sample every time we run it.\n",
        "- Do not view the values of `mu.cub` or `sigma.cub` for now. Keep them secret for now!\n",
        "\n",
        "```{r}\n",
        "#| eval: true\n",
        "set.seed(113)\n",
        "\n",
        "mu.cub <- sample(seq(8.6, 9.8, 0.1), size=1)\n",
        "sigma.cub <- sample(seq(0.9, 1.3, 0.05), size=1)\n",
        "\n",
        "picked <- rnorm(10, mu.cub, sigma.cub)\n",
        "cub <- data.frame(wt = picked)\n",
        "round(cub$wt, 2)\n",
        "```\n",
        "\n",
        "\n",
        "## ggg What is the Best Fitting Model? zzz\n",
        "\n",
        "---"
      ]
    },
    {
      "cell_type": "markdown",
      "metadata": {},
      "source": [
        "From the code cell above, we have generated the following sample of cub birth weights (in ounces) that are stored in `cub$wt`,\n",
        "\n",
        "$$x = (9.71, 7.77, 8.47, 7.35, 7.83, 9.06, 8.66, 8.74, 10.82, 8.27 ).$$\n",
        "\n",
        "Our goal is to find the \"best\" description of the distribution of the population (all black bear cubs) birth weights. The interpretation of \"best\" depends on the context of the question and can mean different things to different statisticians. \n",
        "\n",
        "\n",
        "## ggg Question 1 zzz"
      ]
    },
    {
      "cell_type": "raw",
      "metadata": {},
      "source": [
        "---\n",
        "\n",
        "The figure below shows a dot plot of the selected sample (size $n=10$) of cub birth weights along with the plots of 4 different models we could choose for our data. Answer the questions based on plot figure below.\n",
        "\n",
        "\n",
        "### ggg Question 1a zzz\n",
        "\n",
        "--- "
      ]
    },
    {
      "cell_type": "markdown",
      "metadata": {},
      "source": [
        "Which of the models labeled 1-4 in the plot above do you believe best fits the sample data cub birth weights?\n",
        "\n",
        "\n",
        "#### ggg Solution to Question 1a zzz"
      ]
    },
    {
      "cell_type": "raw",
      "metadata": {},
      "source": [
        "--- \n",
        "\n",
        "<br>  \n",
        "<br>  \n",
        "<br>  \n",
        "\n",
        "\n",
        "### ggg Question 1b zzz\n",
        "\n",
        "---"
      ]
    },
    {
      "cell_type": "markdown",
      "metadata": {},
      "source": [
        "What type of continuous distribution best matches the graph you selected? Explain why in terms of birth weights of black bear cubs this distribution is reasonable and makes practical sense.\n",
        "\n",
        "\n",
        "- *Hint: See the [appendix of common continuous random variables section](08-Common-Continuous-Distributions.qmd#sec-append) for some options.*\n",
        "\n",
        "\n",
        "#### ggg Solution to Question 1b zzz"
      ]
    },
    {
      "cell_type": "raw",
      "metadata": {},
      "source": [
        "--- \n",
        "\n",
        "<br>  \n",
        "<br>  \n",
        "<br> \n",
        "\n",
        "\n",
        "### ggg Question 1c zzz\n",
        "\n",
        "Using the sample of birth weights `cub$wt`, give estimates for each of the parameter(s) in the  distribution you identified in [Question 1b].\n",
        "\n",
        "\n",
        "\n",
        "#### ggg Solution to Question 1c zzz\n",
        "\n",
        "--- "
      ]
    },
    {
      "cell_type": "markdown",
      "metadata": {},
      "source": [
        "```{r}\n",
        "# be sure you have already run the first code cell and \n",
        "# stored sample weights to variable `wt` in data frame `cub`\n",
        "\n",
        "\n",
        "```\n",
        "\n",
        "## ggg Identifying Key Properties for Our Model zzz"
      ]
    },
    {
      "cell_type": "raw",
      "metadata": {},
      "source": [
        "---\n",
        "\n",
        "Let $X$ be a random variable with pdf $f(x; \\theta_1, \\theta_2, \\ \\ldots \\theta_k)$ that depends on parameters $\\theta_1, \\theta_2, \\ldots , \\theta_k$.  If we independently pick a random variables $X_1, X_2, \\ldots X_n$ from population $X$, we can determine the values of $\\theta_1, \\theta_2, \\ldots , \\theta_k$ that best fit the data in the following sense:\n",
        "\n",
        "- The mean $\\mu_X = E(X)$ of the population $X$ equals the sample mean, $\\bar{x}$.\n",
        "- The variance $\\sigma^2_X = \\mbox{Var}(X)$ of the population equals the variance of the sample, $s^2$.\n",
        "- The skewness of the population equals the skewness of the sample.\n",
        "- The kurtosis of the population equals the kurtosis of the sample.\n",
        "- $\\ldots$ and so on.\n",
        "\n",
        "For example, in the birth weight of black bear cubs example, we assumed the population of birth weights $X$ is normally distributed.  Normal distributions are determined by two parameters, $\\mu$ and $\\sigma$.\n",
        "\n",
        "- The random sample has $\\bar{x} = 8.668$. We estimate $E(X) = \\mu=\\bar{x} = 8.668$.\n",
        "- The random sample has $s^2 = 1.032$. We estimate $\\mbox{Var(X)} = \\sigma^2=s^2=1.032$.\n",
        "\n",
        "\n",
        "> <span style=\"color:dodgerblue\">We find values of the parameters so the properties of random variable $X$ are equal to corresponding statistics from our sample.</span>\n",
        "\n",
        "\n",
        "# ggg Theoretical Moments zzz\n",
        "\n",
        "---"
      ]
    },
    {
      "cell_type": "markdown",
      "metadata": {},
      "source": [
        "Let $X$ be a random variable with pdf $f(x)$. For a positive integer $k$, the <span style=\"color:dodgerblue\">**k^th^ theoretical moment of $X$**</span> is $\\color{dodgerblue}{\\mu_k = E \\left( X^k \\right) }$.\n",
        "\n",
        "$$\\color{dodgerblue}{\\boxed{\\mu_k = E \\left( X^k \\right) = \\int_{-\\infty}^{\\infty} x^kf(x) \\, dx \\ \\ \\ \\mbox{(for continuous)} \\qquad \\mbox{or} \\qquad  \\mu_k = E \\left( X^k \\right) = \\sum_X x^kp(x) \\ \\ \\ \\mbox{(for discrete)}}},$$\n",
        "\n",
        "- The  <span style=\"color:dodgerblue\">**first moment**</span> is $\\color{dodgerblue}{\\mu_1 = E \\left( X^2 \\right) }$.\n",
        "    - $\\mu$ is the <span style=\"color:dodgerblue\">**mean**</span>. \n",
        "\n",
        "- The  <span style=\"color:tomato\">**second moment**</span> is $\\color{tomato}{\\mu_2 = E \\left( X^2 \\right) }$.\n",
        "    - $\\mu_2$ is related *(but not equal)* to the <span style=\"color:tomato\">**variance**</span>. \n",
        "    - If we can find $\\mbox{Var}(X)$ and have computed the first theoretical moment, $\\mu_1$, we have:\n",
        "\n",
        "$${\\color{tomato}{\\mu_{2}}} = \\mbox{Var}(X) + \\mu_1^2 \\qquad \\mbox{since} \\qquad \\mbox{Var}(X) = E \\big( (X-\\mu_1)^2 \\big) = {\\color{tomato}{E(X^2)}} - \\mu_1^2 = {\\color{tomato}{\\mu_{2}}} - \\mu_1^2.$$\n",
        "\n",
        "- The  <span style=\"color:mediumseagreen\">**third moment**</span> is $\\color{mediumseagreen}{\\mu_3 = E \\left( X^3 \\right) }$.\n",
        "  - $\\mu_3$ is related  to the <span style=\"color:mediumseagreen\">**skewness**</span> of $X$ which is defined as $E \\big( (X-\\mu_1)^3 \\big)$\n",
        "\n",
        "\n",
        "![Diva Jain, [CC BY-SA 4.0](https://creativecommons.org/licenses/by-sa/4.0), via [Wikimedia Commons](https://commons.wikimedia.org/wiki/File:Relationship_between_mean_and_median_under_different_skewness.png)](https://upload.wikimedia.org/wikipedia/commons/c/cc/Relationship_between_mean_and_median_under_different_skewness.png){fig-align=\"center\" width=80% fig-alt=\"Comparing Plots of Skewness\"}\n",
        "\n",
        "\n",
        "- The  <span style=\"color:mediumpurple\">**fourth moment**</span> is $\\color{mediumpurple}{\\mu_4 = E \\left( X^4 \\right) }$.\n",
        "  - $\\mu_4$ is related to the <span style=\"color:mediumpurple\">**kurtosis**</span> of $X$ which is defined as $E \\big( (X-\\mu_1)^4 \\big)$.\n",
        "    - Informally, the kurtosis measures how \"peaky\" or flat the distribution is.\n",
        "\n",
        "\n",
        "## ggg Sample Moments zzz"
      ]
    },
    {
      "cell_type": "raw",
      "metadata": {},
      "source": [
        "--- \n",
        "\n",
        "\n",
        "For a sample $(x_1, x_2, \\ldots , x_n)$, we can calculate the corresponding <span style=\"color:dodgerblue\">**sample moments**</span>.\n",
        "\n",
        "- The first sample moment is $\\displaystyle M_1 = \\frac{\\sum_{i=1}^n x_i}{n}$.\n",
        "\n",
        "- The second sample moment is $\\displaystyle M_2 = \\frac{\\sum_{i=1}^n \\left( x_i^2 \\right)}{n}$.\n",
        "\n",
        "- The <span style=\"color:dodgerblue\">**k^th^ sample moment**</span> is $\\color{dodgerblue}{\\displaystyle M_k = \\frac{\\sum_{i=1}^n \\left( x_i^k \\right)}{n}}$.\n",
        "\n",
        "\n",
        ":::{.callout-note}\n",
        "We use Latin letters $\\color{dodgerblue}{M_k}$ to denote sample moments and Greek letters $\\mu_k$ to denote theoretical moments for the population.\n",
        ":::\n",
        "\n",
        "## ggg Question 2 zzz\n",
        "\n",
        "---"
      ]
    },
    {
      "cell_type": "markdown",
      "metadata": {},
      "source": [
        "Let $X$ be a random variable with pdf $\\displaystyle f(x; \\lambda, \\delta)=\\lambda e^{-\\lambda(x-\\delta)}$ for $x > \\delta$ with parameters $\\lambda, \\delta >0$.\n",
        "\n",
        "\n",
        "### ggg Question 2a zz"
      ]
    },
    {
      "cell_type": "raw",
      "metadata": {},
      "source": [
        "---\n",
        "\n",
        "Write out (but do not evaluate) integrals that represent the first and second theoretical moments.\n",
        "\n",
        "\n",
        "#### ggg Solution to Question 2a zzz\n",
        "\n",
        "---"
      ]
    },
    {
      "cell_type": "markdown",
      "metadata": {},
      "source": [
        "$$\\mu_1 = E(X) = \\int_0^{\\infty} \\left(   ?? \\right)  \\, dx$$\n",
        "$$\\mu_2 = E(X^2) = \\int_0^{\\infty} \\left(   ?? \\right)  \\, dx$$\n",
        "\n",
        "\n",
        "### ggg Question 2b zzz"
      ]
    },
    {
      "cell_type": "raw",
      "metadata": {},
      "source": [
        "---\n",
        "\n",
        "Apply integration methods from calculus, we can evaluate the integrals in [Question 2a] to get the following expressions for the first and second theoretical moments.\n",
        "\n",
        "$$\\mu_1 = E(X) = \\delta + \\frac{1}{\\lambda}.$$\n",
        "\n",
        "$$\\mu_2 = E(X^2) = \\left( \\delta + \\frac{1}{\\lambda} \\right)^2 + \\frac{1}{\\lambda^2}.$$\n",
        "\n",
        "What integration methods will be useful if you were asked to integrate the formulas in [Question 2a]?\n",
        "\n",
        "- *Time permitting: Refresh your integration skills by verifying the formulas for $\\mu_1$ and $\\mu_2$!*\n",
        "\n",
        "\n",
        "#### ggg Solution to Question 2b zzz\n",
        "\n",
        "---"
      ]
    },
    {
      "cell_type": "markdown",
      "metadata": {},
      "source": [
        "<br>  \n",
        "<br>  \n",
        "<br>  \n",
        "\n",
        "\n",
        "### ggg Question 2c zzz"
      ]
    },
    {
      "cell_type": "raw",
      "metadata": {},
      "source": [
        "---\n",
        "\n",
        "Let $X_1=3$, $X_2=4$, $X_3 = 5$, and $X_4 = 8$ be a random sample from the random variable $X$ from [Question 2]. Find the first and second sample moments. \n",
        "\n",
        "\n",
        "\n",
        "#### ggg Solution to Question 2c zzz\n",
        "\n",
        "---"
      ]
    },
    {
      "cell_type": "markdown",
      "metadata": {},
      "source": [
        "<br>  \n",
        "<br>  \n",
        "<br>  \n",
        "\n",
        "\n",
        "\n",
        "# ggg Defining the Method of Moments Estimate zzz"
      ]
    },
    {
      "cell_type": "raw",
      "metadata": {},
      "source": [
        "--- \n",
        "\n",
        "Let $X$ be a random variable with pdf $f(x; \\theta_1, \\theta_2, \\ldots, \\theta_k)$ and let $X_1$, $X_2$, $\\ldots$, $X_n$ be a random sample.\n",
        "\n",
        "1. Compute sample moments $M_1, M_2, \\ldots , M_k$ based on the sample data.\n",
        "2. Find formulas for the the theoretical moments $\\mu_1, \\mu_2, \\ldots , \\mu_k$. \n",
        "   - The formulas for the theoretical moments will depend on the parameters $\\theta_1, \\theta_2, \\ldots, \\theta_k$.\n",
        "3. The <span style=\"color:dodgerblue\">**method of moments (MOM) estimate**</span> is obtained by solving the system:\n",
        "   - *Note: If $X$ is a discrete random variable, change the integrals to summations.*\n",
        "\n",
        "\n",
        "$$\\begin{aligned}\n",
        "\\mu_1 = \\int_{-\\infty}^{\\infty} xf(x) \\, dx &= \\frac{1}{n} \\sum_{i=1}^n X_i = M_1\\\\\n",
        "\\mu_2 = \\int_{-\\infty}^{\\infty} x^2f(x) \\, dx &= \\frac{1}{n} \\sum_{i=1}^n X_i^2 = M_2\\\\\n",
        "& \\vdots \\\\\n",
        "\\mu_k = \\int_{-\\infty}^{\\infty} x^kf(x) \\, dx &= \\frac{1}{n} \\sum_{i=1}^n X_i^k = M_k\n",
        "\\end{aligned}$$\n",
        "\n",
        ":::{.callout-note}\n",
        "We need to set up as many equations as the number of parameters in the pdf for random variable $X$.\n",
        "\n",
        "- If the distribution has one parameter, we will only need to solve one equation $\\mu_1 = M_1$.\n",
        "- If the distribution has two parameters, we will need to solve a system fo two equations involving the first and second moments.\n",
        "- We will not encounter any distribution with more than two parameters this semester, though this method can be extended to distributions with more 3 or more parameters.\n",
        ":::\n",
        "\n",
        "\n",
        "# ggg Practice zzz\n",
        "\n",
        "---"
      ]
    },
    {
      "cell_type": "markdown",
      "metadata": {},
      "source": [
        "## ggg Question 3 zzz"
      ]
    },
    {
      "cell_type": "raw",
      "metadata": {},
      "source": [
        "---\n",
        "\n",
        "Let $X$ be a random variable from [Question 2] with pdf $\\displaystyle f(x; \\lambda, \\delta)=\\lambda e^{-\\lambda(x-\\delta)}$ for $x > \\delta$ with parameters $\\lambda, \\delta >0$. The first and second theoretical moments (see [Question 2a] and [Question 2b]) are\n",
        "\n",
        "$$\\mu_1 = E(X) = \\delta + \\frac{1}{\\lambda} \\qquad \\mbox{and} \\qquad\n",
        "\\mu_2 = E(X^2) = \\left( \\delta + \\frac{1}{\\lambda} \\right)^2 + \\frac{1}{\\lambda^2}.$$\n",
        "\n",
        "\n",
        "Let $X_1=3$, $X_2=4$, $X_3 = 5$, and $X_4 = 8$ be a random sample from $X$. Find $\\hat{\\lambda}_{\\rm{MoM}}$ and $\\hat{\\delta}_{\\rm{MoM}}$, the MoM estimates for parameters $\\lambda$ and $\\delta$. *Hint: Use the sample moments from [Question 2c].*\n",
        "\n",
        "### ggg Solution to Question 3 zzz\n",
        "\n",
        "---"
      ]
    },
    {
      "cell_type": "markdown",
      "metadata": {},
      "source": [
        "<br>  \n",
        "<br>  \n",
        "<br>  \n",
        "\n",
        "\n",
        "\n",
        "\n",
        "## ggg Question 4 zzz"
      ]
    },
    {
      "cell_type": "raw",
      "metadata": {},
      "source": [
        "---\n",
        "\n",
        "\n",
        "\n",
        "Let $X_1=1, X_2=3, X_3=7, X_4=10$ be four numbers picked at random from a continuous uniform distribution on $\\lbrack \\alpha , \\beta \\rbrack$. Find the MoM estimates of $\\alpha$ and $\\beta$. \n",
        "\n",
        "\n",
        "### ggg Solution to Question 4 zzz\n",
        "\n",
        "---"
      ]
    },
    {
      "cell_type": "markdown",
      "metadata": {},
      "source": [
        "<br>  \n",
        "<br>  \n",
        "<br>  \n",
        "\n",
        "\n",
        "## ggg Question 5 zzz"
      ]
    },
    {
      "cell_type": "raw",
      "metadata": {},
      "source": [
        "---\n",
        "\n",
        "Let $X_1=1, X_2=3, X_3=3, X_4=2$ be four values picked at random from a binomial distribution $X \\sim \\mbox{Binom}(n,p)$. Find the MoM estimates of $n$ and $p$. \n",
        "\n",
        "\n",
        "### ggg Solution to Question 5 zzz\n",
        "\n",
        "---"
      ]
    },
    {
      "cell_type": "markdown",
      "metadata": {},
      "source": [
        "<br>\n",
        "<br>\n",
        "<br>\n",
        "\n",
        "## ggg Question 6 zzz"
      ]
    },
    {
      "cell_type": "raw",
      "metadata": {},
      "source": [
        "---\n",
        "\n",
        "Let $X_1=x_1, X_2=x_2, \\ldots X_n=x_n$ denote a random sample size $n$ from the continuous uniform distribution on $\\lbrack \\alpha , \\beta \\rbrack$. \n",
        "\n",
        "\n",
        "### ggg Question 6a zzz\n",
        "\n",
        "---"
      ]
    },
    {
      "cell_type": "markdown",
      "metadata": {},
      "source": [
        "Derive the following general formulas for the MoM estimates of $\\alpha$ and $\\beta$:\n",
        "\n",
        "$$\\hat{\\alpha}_{\\rm{MoM}} = M_1 - \\sqrt{3} \\left( \\sqrt{ M_2 - M_1^2} \\right)$$\n",
        "$$\\hat{\\beta}_{\\rm{MoM}} = M_1 + \\sqrt{3} \\left( \\sqrt{ M_2 - M_1^2} \\right)$$\n",
        "\n",
        "where $M_1=\\bar{x} = \\frac{1}{n}\\sum_{i=1}^n x_i$ and $M_2= \\frac{1}{n} \\sum_{i=1}^n x_i^2$ denote the first and second sample moments, respectively. Find the MoM estimates of $\\alpha$ and $\\beta$. \n",
        "\n",
        "\n",
        "#### ggg Solution to Question 6a zzz"
      ]
    },
    {
      "cell_type": "raw",
      "metadata": {},
      "source": [
        "---\n",
        "\n",
        "<br>  \n",
        "<br>  \n",
        "<br>  \n",
        "\n",
        "\n",
        "### ggg Question 6b zzz\n",
        "\n",
        "---"
      ]
    },
    {
      "cell_type": "markdown",
      "metadata": {},
      "source": [
        "Verify your solution to [Question 4] using the formulas for the MoM estimates for $\\alpha$ and $\\beta$ in [Question 6a].\n",
        "\n",
        "-   Complete and run the partially completed R code cell below.\n",
        "\n",
        "\n",
        "#### ggg Solution to Question 6b zzz"
      ]
    },
    {
      "cell_type": "raw",
      "metadata": {},
      "source": [
        "---\n",
        "\n",
        "Replace each of the two `??` in the code cell below with appropriate code. Then run the completed code to check the MoM estimates for $\\hat{\\alpha}_{\\rm{MoM}}$ and $\\hat{\\beta}_{\\rm{MoM}}$ obtained [Question 4].\n",
        "\n",
        "\n",
        "```{r}\n",
        "x.unif <- c(1, 3, 7, 10)  # sample from question 4\n",
        "n <- length(x.unif)  # length of sample\n",
        "\n",
        "m1 <- sum(x.unif)/n  # first sample moment\n",
        "m2 <- sum(x.unif^2)/n  # second sample moment\n",
        "\n",
        "alpha.hat <- ??  # enter formula for MoM estimate for alpha\n",
        "beta.hat <- ??   # enter formula for MoM estimate for beta\n",
        "\n",
        "# print results to screen\n",
        "alpha.hat\n",
        "beta.hat\n",
        "```\n",
        "\n",
        "\n",
        "## ggg Question 7 zzz\n",
        "\n",
        "---"
      ]
    },
    {
      "cell_type": "markdown",
      "metadata": {},
      "source": [
        "The code below generates sampling distributions for MoM estimates for the parameters $\\alpha$ and $\\beta$ for random variable $X \\sim \\mbox{Unif}(\\alpha, \\beta)$ using sample size $n=4$.\n",
        "\n",
        "- A total of 1,000 random samples each of size $n$ are generated in the for loop.\n",
        "- The distribution of $\\hat{\\alpha}_{\\rm{MoM}}$ values are stored in the vector `mom.alpha`.\n",
        "- The distribution of $\\hat{\\beta}_{\\rm{MoM}}$ values are stored in the vector `mom.beta`.\n",
        "\n",
        "\n",
        "```{r}\n",
        "#| eval: true\n",
        "#############################\n",
        "# do not edit\n",
        "# run the code cell as is\n",
        "#############################\n",
        "n <- 4  # sample size\n",
        "\n",
        "mom.alpha <- numeric(1000)\n",
        "mom.beta <- numeric(1000)\n",
        "\n",
        "for (i in 1:1000)\n",
        "{\n",
        "  x.temp <- runif(n, 0, 11)  # generate random sample\n",
        "  m1 <- sum(x.temp)/n  # first sample moment\n",
        "  m2 <- sum(x.temp^2)/n  # second sample moment\n",
        "  k <- sqrt(3) * sqrt(m2 - m1^2)  # compute sqrt(3)*(m2 - m1^2)\n",
        "  mom.alpha[i] <- m1 - k  # enter formula for MoM estimate for alpha\n",
        "  mom.beta[i] <- m1 + k  # enter formula for MoM estimate for beta\n",
        "}\n",
        "```\n",
        "\n",
        "The distribution of $\\hat{\\alpha}_{\\rm{MoM}}$ values generated by the code above is plotted in the histogram below.\n",
        "\n",
        "- A <span style=\"color:dodgerblue\">blue vertical line</span> is drawn at the actual value of $\\color{dodgerblue}{\\alpha=0}$.\n",
        "- A <span style=\"color:tomato\">red vertical line</span> is drawn at the value of\n",
        "$\\color{tomato}{\\hat{\\alpha}_{\\rm{MoM}}=-0.797}$ we found for the sample in [Question 4].\n",
        "\n",
        "\n",
        "```{r}\n",
        "#| eval: true\n",
        "#############################\n",
        "# do not edit\n",
        "# run the code cell as is\n",
        "#############################\n",
        "hist(mom.alpha, \n",
        "     breaks = 20,\n",
        "     xlab = \"MoM for alpha\",\n",
        "     main = \"Dist. of MoM's for alpha\")\n",
        "abline(v = 0, col = \"dodgerblue\", lwd = 2)  # plot at actual value of alpha\n",
        "abline(v = -0.797, col = \"tomato\", lwd = 2)  # plot at estimated value of alpha\n",
        "```\n",
        "\n",
        "The distribution of $\\hat{\\beta}_{\\rm{MoM}}$ values generated by the code above is plotted in the histogram below.\n",
        "\n",
        "- A <span style=\"color:dodgerblue\">blue vertical line</span> is drawn at the actual value of $\\color{dodgerblue}{\\beta=11}$.\n",
        "- A <span style=\"color:tomato\">red vertical line</span> is drawn at the value of\n",
        "$\\color{tomato}{\\hat{\\beta}_{\\rm{MoM}}=11.297}$ we found for the sample in [Question 4].\n",
        "\n",
        "\n",
        "```{r}\n",
        "#| eval: true\n",
        "#############################\n",
        "# do not edit\n",
        "# run the code cell as is\n",
        "#############################\n",
        "hist(mom.beta, \n",
        "     breaks = 20,\n",
        "     xlab = \"MoM for beta\",\n",
        "     main = \"Dist. of MoM's for beta\")\n",
        "abline(v = 11, col = \"dodgerblue\", lwd = 2)  # plot at actual value of beta\n",
        "abline(v = 11.297, col = \"tomato\", lwd = 2)  # plot at estimated value of alpha\n",
        "```\n",
        "\n",
        "\n",
        "### ggg Question 7a zzz"
      ]
    },
    {
      "cell_type": "raw",
      "metadata": {},
      "source": [
        "---\n",
        "\n",
        "Based on inspecting the the sampling distributions plotted for $\\hat{\\alpha}_{\\rm{MoM}}$ and $\\hat{\\beta}_{\\rm{MoM}}$ in [Question 7]:\n",
        "\n",
        "\n",
        "- Do you believe the MoM estimator for $\\alpha$ is biased? Explain why or why not.\n",
        "- Do you believe the MoM estimator for $\\beta$ is biased? Explain why or why not.\n",
        "- Base your answers on the distribution of all estimates, not just the red vertical lines corresponding to the sample from [Question 4].\n",
        "\n",
        "\n",
        "#### ggg Solution to Question 7a zzz\n",
        "\n",
        "---"
      ]
    },
    {
      "cell_type": "markdown",
      "metadata": {},
      "source": [
        "<br>  \n",
        "<br>  \n",
        "<br>  \n",
        "\n",
        "\n",
        "### ggg Question 7b zzz"
      ]
    },
    {
      "cell_type": "raw",
      "metadata": {},
      "source": [
        "---\n",
        "\n",
        "Check your answers in [Question 7a] more carefully using the MoM estimates stored in `mom.alpha` and `mom.beta`.\n",
        "\n",
        "- Hint: Recall an estimator $\\hat{\\theta}$ is unbiased if $E(\\hat{\\theta}) = \\theta$.\n",
        "\n",
        "\n",
        "#### ggg Solution to Question 7b zzz\n",
        "\n",
        "---"
      ]
    },
    {
      "cell_type": "markdown",
      "metadata": {},
      "source": [
        "```{r}\n",
        "# check whether or not each estimator is biased\n",
        "\n",
        "\n",
        "```\n",
        "\n",
        "\n",
        "<br>  \n",
        "<br>  \n",
        "\n",
        "\n",
        "### ggg Question 7c zzz"
      ]
    },
    {
      "cell_type": "raw",
      "metadata": {},
      "source": [
        "---\n",
        "\n",
        "\n",
        "Which estimator, $\\hat{\\alpha}_{\\rm{MoM}}$ or $\\hat{\\beta}_{\\rm{MoM}}$, is more efficient?\n",
        "\n",
        "\n",
        "- Hint: Recall the efficiency of an estimator $\\hat{\\theta}$ is $\\mbox{Var}(\\hat{\\theta}) = \\theta$.\n",
        "- Hint: Use R code and the MoM estimates stored in `mom.alpha` and `mom.beta`.\n",
        "\n",
        "\n",
        "#### ggg Solution to Question 7c zzz\n",
        "\n",
        "---"
      ]
    },
    {
      "cell_type": "markdown",
      "metadata": {},
      "source": [
        "```{r}\n",
        "# check whether which estimator is more efficient\n",
        "\n",
        "\n",
        "```\n",
        "\n",
        "<br>  \n",
        "<br>  \n",
        "\n",
        "\n",
        "### ggg Question 7d zzz"
      ]
    },
    {
      "cell_type": "raw",
      "metadata": {},
      "source": [
        "---\n",
        "\n",
        "Adjust the sample size in the first line in the first code cell below to investigate what happens to the distributions of estimators $\\hat{\\alpha}_{\\rm{MoM}}$ and $\\hat{\\beta}_{\\rm{MoM}}$. In particular, as $n$ gets larger and larger:\n",
        "\n",
        "- Does each estimator seem to get more, less, or no change in bias?\n",
        "- Does each estimator get more, less, or no change in efficiency?\n",
        "- Does the shape of each distribution change?\n",
        "\n",
        "\n",
        "#### ggg Solution to Question 7d zzz\n",
        "\n",
        "---"
      ]
    },
    {
      "cell_type": "markdown",
      "metadata": {},
      "source": [
        "#### ggg Experiment with different sample sizes, $n$. zzz"
      ]
    },
    {
      "cell_type": "raw",
      "metadata": {},
      "source": [
        "---\n",
        "\n",
        "\n",
        "```{r}\n",
        "#######################\n",
        "# adjust sample size\n",
        "#######################\n",
        "n <- 4  # sample size\n",
        "\n",
        "#####################################\n",
        "# do not edit the rest of the code\n",
        "#####################################\n",
        "\n",
        "mom.alpha <- numeric(1000)\n",
        "mom.beta <- numeric(1000)\n",
        "\n",
        "for (i in 1:1000)\n",
        "{\n",
        "  x.temp <- runif(n, 0, 11)  # generate random sample\n",
        "  m1 <- sum(x.temp)/n  # first sample moment\n",
        "  m2 <- sum(x.temp^2)/n  # second sample moment\n",
        "  k <- sqrt(3) * sqrt(m2 - m1^2)  # compute sqrt(3)*(m2 - m1^2)\n",
        "  mom.alpha[i] <- m1 - k  # enter formula for MoM estimate for alpha\n",
        "  mom.beta[i] <- m1 + k  # enter formula for MoM estimate for beta\n",
        "}\n",
        "```\n",
        "\n",
        "\n",
        "```{r}\n",
        "##########################################\n",
        "# sampling distribution for MoM of alpha\n",
        "# do not edit cell, just run\n",
        "##########################################\n",
        "hist(mom.alpha, \n",
        "     breaks = 20,\n",
        "     xlab = \"MoM for alpha\",\n",
        "     main = \"Dist. of MoM's for alpha\")\n",
        "abline(v = 0, col = \"dodgerblue\", lwd = 2)  # plot at actual value of alpha\n",
        "```\n",
        "\n",
        "```{r}\n",
        "##########################################\n",
        "# sampling distribution for MoM of beta\n",
        "# do not edit cell, just run\n",
        "##########################################\n",
        "hist(mom.beta, \n",
        "     breaks = 20,\n",
        "     xlab = \"MoM for beta\",\n",
        "     main = \"Dist. of MoM's for beta\")\n",
        "abline(v = 11, col = \"dodgerblue\", lwd = 2)  # plot at actual value of beta\n",
        "```\n",
        "\n",
        "<br>  \n",
        "<br>  \n",
        "\n",
        "\n",
        "##### ggg Exploring Bias of Each Estimator zzz\n",
        "\n",
        "---"
      ]
    },
    {
      "cell_type": "markdown",
      "metadata": {},
      "source": [
        "- As $n$ gets larger, does each estimator seem to get more, less, or no change in bias?\n",
        "\n",
        "```{r}\n",
        "# check for change to bias\n",
        "\n",
        "\n",
        "```\n",
        "\n",
        "\n",
        "<br>  \n",
        "<br>  \n",
        "\n",
        "\n",
        "##### ggg Exploring Efficiency of Each Estimator zzz"
      ]
    },
    {
      "cell_type": "raw",
      "metadata": {},
      "source": [
        "---\n",
        "\n",
        "- As $n$ gets larger, does each estimator get more, less, or no change in efficiency?\n",
        "\n",
        "\n",
        "```{r}\n",
        "# check for change in efficiency\n",
        "\n",
        "\n",
        "```\n",
        "\n",
        "<br>  \n",
        "<br>  \n",
        "\n",
        "\n",
        "#####  ggg Exploring the Shape of Sampling Distributions zzz\n",
        "\n",
        "---"
      ]
    },
    {
      "cell_type": "markdown",
      "metadata": {},
      "source": [
        "- Does the shape of each distribution change as $n$ gets larger?\n",
        "\n",
        "\n",
        "```{r}\n",
        "# check for change in shape\n",
        "\n",
        "\n",
        "```\n",
        "\n",
        "<br>  \n",
        "<br>  \n",
        "<br>  \n"
      ]
    },
    {
      "cell_type": "markdown",
      "metadata": {},
      "source": [
        "---\n",
        "\n",
        "![Creative Commons License](https://i.creativecommons.org/l/by-nc-sa/4.0/88x31.png) <nbsp>\n",
        "\n",
        "*Statistical Methods: Exploring the Uncertain* by [Adam Spiegler](https://github.com/CU-Denver-MathStats-OER/Statistical-Theory) is licensed under a [Creative Commons Attribution-NonCommercial-ShareAlike 4.0 International License](http://creativecommons.org/licenses/by-nc-sa/4.0/).\n"
      ]
    }
  ],
  "metadata": {
    "kernelspec": {
      "name": "python3",
      "language": "python",
      "display_name": "Python 3"
    }
  },
  "nbformat": 4,
  "nbformat_minor": 4
}