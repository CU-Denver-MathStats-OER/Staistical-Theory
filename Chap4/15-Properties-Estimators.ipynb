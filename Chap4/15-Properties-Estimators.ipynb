{
  "cells": [
    {
      "cell_type": "markdown",
      "metadata": {
        "id": "d8bde362-3e50-4222-a29e-50e4cfc88c3f"
      },
      "source": [
        "[![Open In\n",
        "Colab](https://colab.research.google.com/assets/colab-badge.svg)](https://githubtocolab.com/CU-Denver-MathStats-OER/Statistical-Theory/blob/main/Chap4/15-Properties-Estimators.ipynb)\n"
      ],
      "id": "d8bde362-3e50-4222-a29e-50e4cfc88c3f"
    },
    {
      "cell_type": "markdown",
      "source": [
        "# <a name=\"15intro\">4.3: Properties of Estimators</a>\n",
        "\n",
        "---\n",
        "\n",
        "<figure>\n",
        "<img\n",
        "src=\"https://www.publicdomainpictures.net/pictures/110000/velka/two-paths-background.jpg\"\n",
        "alt=\"Figure of Two Paths\" width = \"50%\"/>\n",
        "<figcaption aria-hidden=\"true\">\n",
        "Credit: Linnaea Mallette <a href=\"https://www.publicdomainpictures.net/en/view-image.php?image=107495&picture=two-paths-background\">“Two Paths Background”</a>, <a href=\"https://creativecommons.org/publicdomain/zero/1.0/\">CC-0-1.0</a>\n",
        "</figcaption>\n",
        "</figure>\n",
        "\n",
        "\n",
        "In this section, we continue our study of estimators of population\n",
        "parameters. An <font color=\"dodgerblue\">**estimator**</font>,\n",
        "denoted $\\color{dodgerblue}{\\hat{\\theta}}$, is a formula or rule that we\n",
        "use to estimate the value of an unknown population parameter $\\theta$.\n",
        "For a single parameter $\\theta$, there are many (possibly infinite)\n",
        "different estimators $\\hat{\\theta}$ from which to choose from. We have\n",
        "more deeply investigated two particularly useful methods: [maximum\n",
        "likelihood estimates (MLE)](https://githubtocolab.com/CU-Denver-MathStats-OER/Statistical-Theory/blob/main/Chap4/13-Estimation-MLE.ipynb) and [method of\n",
        "moments](https://githubtocolab.com/CU-Denver-MathStats-OER/Statistical-Theory/blob/main/Chap4/14-Estimation-MOM.ipynb) estimation.\n",
        "\n",
        "We can think of different estimators, $\\hat{\\theta}$, as different paths\n",
        "attempting to arrive at the same destination, the value of $\\theta$.\n",
        "Different statisticians might prefer different paths, which path is\n",
        "optimal? Sometimes different methods lead to the same result, and\n",
        "sometimes they differ. When they differ, how do we decide which estimate\n",
        "is best?\n",
        "\n"
      ],
      "metadata": {
        "id": "Th5mBJrax8Vf"
      },
      "id": "Th5mBJrax8Vf"
    },
    {
      "cell_type": "markdown",
      "source": [
        "## <a name=\"15q1\">Question 1</a>\n",
        "\n",
        "---\n",
        "\n",
        "Suppose our population parameter of interest is the center of a dart\n",
        "board. We use four different methods for throwing darts and the results\n",
        "of those four different methods are displayed in @fig-dart-board.\n",
        "\n",
        "\n",
        "<figure>\n",
        "<img\n",
        "src=\"https://upload.wikimedia.org/wikipedia/commons/a/a4/15fig-all-boards.png\"\n",
        "alt=\"Results of Throwing Darts\" width = \"90%\"/>\n",
        "<figcaption aria-hidden=\"true\">\n",
        "Credit: <a href=\"https://commons.wikimedia.org/wiki/File:15fig-all-boards.png\">ASpiegler</a> and <a href=\"https://commons.wikimedia.org/wiki/File:Accuracy_and_Precision.svg\">Arbeck</a>, <a href=\"https://creativecommons.org/licenses/by/4.0\">CC BY 4.0 </a>, via Wikimedia Commons\n",
        "</figcaption>\n",
        "</figure>\n"
      ],
      "metadata": {
        "id": "j-udg0LIyt8A"
      },
      "id": "j-udg0LIyt8A"
    },
    {
      "cell_type": "markdown",
      "source": [
        "### <a name=\"15q1a\">Question 1a</a>\n",
        "\n",
        "---\n",
        "\n",
        "Rank the results of the four dart methods in terms of bias, from least\n",
        "to most biased. Explain your reasoning.\n",
        "\n",
        "#### <a name=\"15sol1a\">Solution to Question 1a</a>\n",
        "\n",
        "---\n",
        "\n",
        "<br>\n",
        "<br>\n",
        "<br>\n",
        "\n"
      ],
      "metadata": {
        "id": "rfn4RJBn1pm-"
      },
      "id": "rfn4RJBn1pm-"
    },
    {
      "cell_type": "markdown",
      "source": [
        "### <a name=\"15q1b\">Question 1b</a>\n",
        "\n",
        "---\n",
        "\n",
        "Rank the results of the four dart methods in terms of precision, from\n",
        "most to least precise. Explain your reasoning.\n",
        "\n",
        "#### <a name=\"15sol1b\">Solution to Question 1b</a>\n",
        "\n",
        "---\n",
        "\n",
        "<br>\n",
        "<br>\n",
        "<br>\n",
        "\n"
      ],
      "metadata": {
        "id": "luLPfLqr1q5-"
      },
      "id": "luLPfLqr1q5-"
    },
    {
      "cell_type": "markdown",
      "source": [
        "### <a name=\"15q1c\">Question 1c</a>\n",
        "\n",
        "---\n",
        "\n",
        "Rank the results of the four dart methods from best to worst overall.\n",
        "Explain your reasoning.\n",
        "\n",
        "#### <a name=\"15sol1c\">Solution to Question 1c</a>\n",
        "\n",
        "---\n",
        "\n",
        "<br>\n",
        "<br>\n",
        "<br>\n",
        "\n"
      ],
      "metadata": {
        "id": "doKDECNk1sSs"
      },
      "id": "doKDECNk1sSs"
    },
    {
      "cell_type": "markdown",
      "source": [
        "### <a name=\"15q1d\">Question 1d</a>\n",
        "\n",
        "---\n",
        "\n",
        "Four different sampling distributions of the results of the four dart\n",
        "throwing methods are plotted in @fig-dartdist. The location of the <font color=\"tomato\">population parameter</font> (the center of the dart\n",
        "board) is indicated by the <font color=\"tomato\">dashed red\n",
        "line</font>. The <font color=\"dodgerblue\">mean of the sampling\n",
        "distribution</font> is indicated by the <font color=\"dodgerblue\">solid blue vertical line</font>. Match each of\n",
        "the distributions labeled A-D below to one of the four dart boards\n",
        "displayed in [Question 1](#15q1).\n",
        "\n",
        "\n",
        "<figure>\n",
        "<img\n",
        "src=\"https://upload.wikimedia.org/wikipedia/commons/7/75/15fig-all-dart-dist.png\"\n",
        "alt=\"Distributions of Dart Results\" width = \"100%\"/>\n",
        "<figcaption aria-hidden=\"true\">\n",
        "Credit: Adam Spiegler <a href=\"https://commons.wikimedia.org/wiki/File:15fig-all-dart-dist.png\">“Dart Distributions”</a>, <a href=\"https://creativecommons.org/licenses/by-sa/4.0\">CC BY-SA 4.0</a>\n",
        "</figcaption>\n",
        "</figure>\n",
        "\n",
        "#### <a name=\"15sol1d\">Solution to Question 1d</a>\n",
        "\n",
        "---\n",
        "\n",
        "-   Dart Distribution A matches dart method ??.\n",
        "-   Dart Distribution B matches dart method ??.\n",
        "-   Dart Distribution C matches dart method ??.\n",
        "-   Dart Distribution D matches dart method ??.\n",
        "\n",
        "<br>\n",
        "<br>\n",
        "\n"
      ],
      "metadata": {
        "id": "Dtqvi8op1tgT"
      },
      "id": "Dtqvi8op1tgT"
    },
    {
      "cell_type": "markdown",
      "source": [
        "# <a name=\"15compare-est\">Comparing Estimators</a>\n",
        "\n",
        "---\n",
        "\n",
        "At first glance, the question of which estimator is best may seem like a\n",
        "simple question.\n",
        "\n",
        "> The estimator that gives a value closest to the population parameter\n",
        "> is best!\n",
        "\n",
        "However, choosing the “best” estimator is not as straightforward as\n",
        "simply choosing the estimator that gives the value closest to the actual\n",
        "value. **The parameters we are estimating are unknown values!** We do\n",
        "not know where the center of the dart board is located. We cannot be\n",
        "*certain* which estimator leads to the closest estimate. Different\n",
        "samples will give different estimates even if we use the same formula\n",
        "for the estimator, and each estimate has some uncertainty due to\n",
        "sampling.\n",
        "\n",
        "-   We might choose the “best” method but get “unlucky” by randomly   selecting a biased sample.\n",
        "-   We might choose a “bad” method but get “lucky” because we picked a   good sample.\n",
        "\n",
        "We can still choose a method that is more likely to give a better\n",
        "estimate (such as MLE) and/or minimizes the effect of the uncertainty\n",
        "due to sampling. Which properties are most important to consider depend\n",
        "on many factors. For example:\n",
        "\n",
        "-   What is the parameter we are trying to estimate?\n",
        "-   What is the shape of the distribution of the population?\n",
        "-   Who are the statisticians/researchers? Different statisticians might   have different goals.\n",
        "-   How is the estimate going to assessed? For example, is precision or   accuracy more important?\n",
        "\n",
        "There are many properties of estimators worth considering when deciding\n",
        "between different estimators. In this section, we explore properties\n",
        "relating to **accuracy (bias)**, **precision (variability)**, and the\n",
        "**mean squared error (MSE)** which takes both bias and variability into\n",
        "consideration.\n",
        "\n"
      ],
      "metadata": {
        "id": "dHVS_UNp1vS4"
      },
      "id": "dHVS_UNp1vS4"
    },
    {
      "cell_type": "markdown",
      "source": [
        "## <a name=\"15q2\">Question 2</a>\n",
        "\n",
        "---\n",
        "\n",
        "Let $X$ denote the diastolic blood pressure (in mm Hg) of a randomly\n",
        "selected woman from the Pima Indian Community. The [Pima Indian\n",
        "Community](https://itcaonline.com/member-tribes/salt-river-pima-maricopa-indian-community/)\n",
        "is mostly located outside of Phoenix, Arizona. The data<sup>1</sup> used in this\n",
        "example is from the data frame `Pima.tr` in the `MASS` package.\n",
        "\n",
        "If we suppose blood pressure is normally distributed, then we have\n",
        "$X \\sim N(\\mu, \\sigma)$. We would like to decide which estimator is best\n",
        "for the population mean $\\mu$. We pick a random sample of $n=20$ women\n",
        "in the code cell below.\n",
        "\n",
        "\n",
        "<br>\n",
        "\n",
        "<font size=\"2\"> 1. Smith, J. W., Everhart, J. E., Dickson, W. C., Knowler, W. C. and Johannes, R. S. (1988) \"Using the ADAP learning algorithm to forecast the onset of diabetes mellitus\". In *Proceedings of the Symposium on Computer Applications in Medical Care* (Washington, 1988), ed. R. A. Greenes, pp. 261-265. Los Alamitos, CA: IEEE Computer Society Press. </font>"
      ],
      "metadata": {
        "id": "v_jE0zTo2m6C"
      },
      "id": "v_jE0zTo2m6C"
    },
    {
      "cell_type": "code",
      "execution_count": null,
      "metadata": {
        "id": "2f6a225a-1657-4f01-a7a0-5b01fea68403"
      },
      "outputs": [],
      "source": [
        "library(MASS)  # load MASS package to access data"
      ],
      "id": "2f6a225a-1657-4f01-a7a0-5b01fea68403"
    },
    {
      "cell_type": "code",
      "execution_count": null,
      "metadata": {
        "id": "97404b36-da11-44e3-8a93-2f1aadc3f3ee"
      },
      "outputs": [],
      "source": [
        "set.seed(20)  # fix randomization of sample\n",
        "x <- sample(Pima.tr$bp, size=20)  # pick a random sample of 20 blood pressures\n",
        "x"
      ],
      "id": "97404b36-da11-44e3-8a93-2f1aadc3f3ee"
    },
    {
      "cell_type": "markdown",
      "metadata": {
        "id": "363ca396-0859-4d9c-964e-c126382581a8"
      },
      "source": [
        "The random sample of diastolic blood pressure values is\n",
        "$$\\mathbf{x} = (58, 64, 64, 80, 68, 76, 72, 102, 68, 52, 90, 70, 56, 62, 74, 74, 76, 82, 85, 52).$$\n",
        "Consider the following estimates for the population mean $\\mu$:\n",
        "\n",
        "<font color=\"dodgerblue\">1. The **sample mean**:\n",
        "$\\hat{\\mu}_1 = \\bar{X} = \\dfrac{\\sum_{i=1}^n X_i}{n}$.</font>"
      ],
      "id": "363ca396-0859-4d9c-964e-c126382581a8"
    },
    {
      "cell_type": "code",
      "execution_count": null,
      "metadata": {
        "id": "d649b47c-eb9e-478c-8397-1c6de3739e95"
      },
      "outputs": [],
      "source": [
        "# 1. calculate sample mean\n",
        "mu.hat1 <- mean(x)\n",
        "mu.hat1"
      ],
      "id": "d649b47c-eb9e-478c-8397-1c6de3739e95"
    },
    {
      "cell_type": "markdown",
      "metadata": {
        "id": "165d131b-5111-4b21-9df4-8b1a0cc6f97b"
      },
      "source": [
        "<font color=\"tomato\">2. The **sample median**, denoted\n",
        "$\\hat{\\mu}_2 = \\mbox{median}$.</font>"
      ],
      "id": "165d131b-5111-4b21-9df4-8b1a0cc6f97b"
    },
    {
      "cell_type": "code",
      "execution_count": null,
      "metadata": {
        "id": "44be022f-cb43-45a5-bd1a-3739326eb947"
      },
      "outputs": [],
      "source": [
        "# 2. calculate sample median\n",
        "mu.hat2 <- median(x)\n",
        "mu.hat2"
      ],
      "id": "44be022f-cb43-45a5-bd1a-3739326eb947"
    },
    {
      "cell_type": "markdown",
      "metadata": {
        "id": "095f5476-311c-4d02-9c43-4fe1eef36db0"
      },
      "source": [
        "<font color=\"mediumseagreen\">3. The **mid-range** of the sample,\n",
        "$\\hat{\\mu}_3 = \\dfrac{X_{\\rm{max}} + X_{\\rm{min}}}{2}$.</font>"
      ],
      "id": "095f5476-311c-4d02-9c43-4fe1eef36db0"
    },
    {
      "cell_type": "code",
      "execution_count": null,
      "metadata": {
        "id": "187cede4-18bd-4044-aae9-bd40eb8b68b1"
      },
      "outputs": [],
      "source": [
        "# 3. calculate sample mid range\n",
        "mu.hat3 <- (max(x) + min(x)) / 2\n",
        "mu.hat3"
      ],
      "id": "187cede4-18bd-4044-aae9-bd40eb8b68b1"
    },
    {
      "cell_type": "markdown",
      "metadata": {
        "id": "d8956ef7-b02f-486d-8d70-9db5cf7c1a07"
      },
      "source": [
        "<font color=\"mediumpurple\">4. The **sample trimmed (10%) mean**,\n",
        "$\\bar{x}_{\\rm{tr}(10)}$.</font>\n",
        "\n",
        "-   We exclude the smallest 10% of the values. The smallest 2 values, 52   and 52, are excluded.\n",
        "-   We exclude the largest 10% of the values. The largest 2 values, 102   and 90, are excluded.\n",
        "-   We compute the mean of the remaining 16 values."
      ],
      "id": "d8956ef7-b02f-486d-8d70-9db5cf7c1a07"
    },
    {
      "cell_type": "code",
      "execution_count": null,
      "metadata": {
        "id": "043baf46-6114-4162-be11-ef28148fc1cb"
      },
      "outputs": [],
      "source": [
        "# 4. calculate sample trimmed (10%) mean\n",
        "mu.hat4 <- mean(x, trim = 0.1)\n",
        "mu.hat4"
      ],
      "id": "043baf46-6114-4162-be11-ef28148fc1cb"
    },
    {
      "cell_type": "markdown",
      "metadata": {
        "id": "5e50c981-218a-4345-bbbe-30f590df7b1e"
      },
      "source": [
        "### <a name=\"15q2a\">Question 2a</a>\n",
        "\n",
        "---\n",
        "\n",
        "Which estimator (mean, median, mid-range, or trimmed mean) do you\n",
        "believe is best? Which estimator do you believe is the worst? Explain\n",
        "your reasoning.\n",
        "\n",
        "#### <a name=\"15sol2a\">Solution to Question 2a</a>\n",
        "\n",
        "---\n",
        "\n",
        "<br>\n",
        "<br>\n",
        "<br>\n",
        "\n"
      ],
      "id": "5e50c981-218a-4345-bbbe-30f590df7b1e"
    },
    {
      "cell_type": "markdown",
      "source": [
        "### <a name=\"15q2b\">Question 2b</a>\n",
        "\n",
        "---\n",
        "\n",
        "To help decide which estimator performs best, we can consider the\n",
        "sampling distribution of estimates obtained from many different random\n",
        "samples (each of size $n=20$) chosen independently from the same\n",
        "population. Based on the sampling distributions for $\\hat{\\mu}_1$,\n",
        "$\\hat{\\mu}_2$, $\\hat{\\mu}_3$, and $\\hat{\\mu}_4$ (mean, median,\n",
        "mid-range, and trimmed mean, respectively) in @fig-bpnormal, rank the\n",
        "four estimators from least to most bias and from most to least precise.\n",
        "Explain your reasoning.\n",
        "\n",
        "<figure>\n",
        "<img\n",
        "src=\"https://upload.wikimedia.org/wikipedia/commons/0/08/15fig-normal-est.png\"\n",
        "alt=\"Sampling Distributions for Estimators of Mean\" width = \"100%\"/>\n",
        "<figcaption aria-hidden=\"true\">\n",
        "Credit: Adam Spiegler <a href=\"https://commons.wikimedia.org/wiki/File:15fig-normal-est.png\">“Estimators for Mean from Normal Population”</a>, <a href=\"https://creativecommons.org/licenses/by-sa/4.0\">CC BY-SA 4.0</a>\n",
        "</figcaption>\n",
        "</figure>\n",
        "\n",
        "#### <a name=\"15sol2b\">Solution to Question 2b</a>\n",
        "\n",
        "---\n",
        "\n",
        "<br>\n",
        "<br>\n",
        "<br>\n",
        "\n"
      ],
      "metadata": {
        "id": "HI9R5pQy2qch"
      },
      "id": "HI9R5pQy2qch"
    },
    {
      "cell_type": "markdown",
      "source": [
        "### <a name=\"15q2c\">Question 2c</a>\n",
        "\n",
        "---\n",
        "\n",
        "We still let $X$ denote the diastolic blood pressure (in mm Hg) of a\n",
        "randomly selected woman from the Pima Indian Community. However, now we\n",
        "suppose blood pressure is **uniformly distributed** over the interval\n",
        "$\\lbrack 41.26, 101.26 \\rbrack$. Although a uniform distribution would\n",
        "not make practical sense for blood pressure, we make this assumption in\n",
        "order to investigate how the shape of the population may affect which\n",
        "estimator works best.\n",
        "\n",
        "Consider the sampling distribution of estimates obtained from many\n",
        "different random samples (each of size $n=20$) chosen independently from\n",
        "a **uniformly distributed population**. Based on the sampling\n",
        "distributions for $\\hat{\\mu}_1$, $\\hat{\\mu}_2$, $\\hat{\\mu}_3$, and\n",
        "$\\hat{\\mu}_4$ (mean, median, mid-range, and trimmed mean, respectively)\n",
        "in @fig-bpunif, rank the four estimators again from least to most bias\n",
        "and from most to least precise. **Compare your updated rankings to those\n",
        "from [Question 2b](#15q2b). Did your rankings change?**\n",
        "\n",
        "<figure>\n",
        "<img\n",
        "src=\"https://upload.wikimedia.org/wikipedia/commons/c/c6/15fig-unif-est.png\"\n",
        "alt=\"Sampling Distributions for Estimators of Mean from Uniform Distribution\" width = \"100%\"/>\n",
        "<figcaption aria-hidden=\"true\">\n",
        "Credit: Adam Spiegler <a href=\"https://commons.wikimedia.org/wiki/File:15fig-unif-est.png\">“Estimators for Mean from Uniform Population”</a>, <a href=\"https://creativecommons.org/licenses/by-sa/4.0\">CC BY-SA 4.0</a>\n",
        "</figcaption>\n",
        "</figure>\n",
        "\n",
        "\n",
        "#### <a name=\"15sol2c\">Solution to Question 2c</a>\n",
        "\n",
        "---\n",
        "\n",
        "<br>\n",
        "<br>\n",
        "<br>\n",
        "\n"
      ],
      "metadata": {
        "id": "Hx47PPx12sI4"
      },
      "id": "Hx47PPx12sI4"
    },
    {
      "cell_type": "markdown",
      "source": [
        "# <a name=\"15bias\">Bias of an Estimator</a>\n",
        "\n",
        "---\n",
        "\n",
        "No matter what formula we choose as an estimator, the estimate we obtain\n",
        "will vary from sample to sample. We like an estimator to be, on average,\n",
        "equal to the parameter it is estimating. The <font color=\"dodgerblue\">**bias**</font> of an estimator $\\hat{\\theta }$\n",
        "for parameter $\\theta$ is defined as the difference in the average\n",
        "(expected) value of the estimator and the parameter $\\theta$,\n",
        "\n",
        "$${\\large \\color{dodgerblue}{\\boxed{ \\mbox{Bias} = E(\\hat{\\theta}) - \\theta.}}}$$\n",
        "\n",
        "-   $\\hat{\\theta}$ is an <font color=\"dodgerblue\">**unbiased   estimator**</font> if   $\\color{dodgerblue}{\\mbox{Bias} = E(\\hat{\\theta}) - \\theta =0}$.\n",
        "-   If the bias is positive, then on average $\\hat{\\theta}$ gives an   overestimate for $\\theta$.\n",
        "-   If the bias is negative, then on average $\\hat{\\theta}$ gives an   underestimate for $\\theta$.\n",
        "\n",
        "Estimates that are perfectly unbiased may be impossible or unreasonable\n",
        "at times. In practice, we are satisfied when estimates are approximately\n",
        "unbiased, or when the bias gets closer and closer to 0 as the sample\n",
        "size, $n$, gets larger.\n",
        "\n"
      ],
      "metadata": {
        "id": "g193C_Rq2uJq"
      },
      "id": "g193C_Rq2uJq"
    },
    {
      "cell_type": "markdown",
      "source": [
        "## <a name=\"15q3\">Question 3</a>\n",
        "\n",
        "---\n",
        "\n",
        "Let $X \\sim \\mbox{Binom}(n,p)$ with $n$ known and parameter $p$ unknown.\n",
        "Consider the following two estimators for parameter $p$:\n",
        "\n",
        "1.  The usual sample proportion, $\\hat{p} = \\frac{X}{n}$.\n",
        "\n",
        "2.  A modified proportion, $\\tilde{p} = \\frac{X+2}{n+4}$. This is   equivalent to adding 4 more trials to the sample, 2 of which are   successes.\n",
        "\n",
        "Use [properties of expected\n",
        "value](https://githubtocolab.com/CU-Denver-MathStats-OER/Statistical-Theory/blob/main/Chap2/06-Expected-Value-and-Variance.ipynb) and recall these\n",
        "useful formulas for $X \\sim \\mbox{Binom}(n,p)$,\n",
        "\n",
        "$$E(X) = np \\quad \\mbox{and} \\quad \\mbox{Var}(X) = np(1-p).$$\n",
        "\n"
      ],
      "metadata": {
        "id": "GOnfWXFpDl9w"
      },
      "id": "GOnfWXFpDl9w"
    },
    {
      "cell_type": "markdown",
      "source": [
        "### <a name=\"15q3a\">Question 3a</a>\n",
        "\n",
        "---\n",
        "\n",
        "Determine whether the estimator $\\hat{p} = \\frac{X}{n}$ is biased or\n",
        "unbiased.\n",
        "\n",
        "#### <a name=\"15sol3a\">Solution to Question 3a</a>\n",
        "\n",
        "---\n",
        "\n",
        "<br>\n",
        "<br>\n",
        "<br>\n",
        "\n"
      ],
      "metadata": {
        "id": "L6WDMhtkDnp7"
      },
      "id": "L6WDMhtkDnp7"
    },
    {
      "cell_type": "markdown",
      "source": [
        "### <a name=\"15q3b\">Question 3b</a>\n",
        "\n",
        "---\n",
        "\n",
        "Determine whether the estimator $\\tilde{p} = \\frac{X+2}{n+4}$ is biased\n",
        "or unbiased.\n",
        "\n",
        "#### <a name=\"15sol3b\">Solution to Question 3b</a>\n",
        "\n",
        "---\n",
        "\n",
        "<br>\n",
        "<br>\n",
        "<br>\n",
        "\n"
      ],
      "metadata": {
        "id": "S9DVM5RrDp0z"
      },
      "id": "S9DVM5RrDp0z"
    },
    {
      "cell_type": "markdown",
      "source": [
        "## <a name=\"15q4\">Question 4</a>\n",
        "\n",
        "---\n",
        "\n",
        "Let $X \\sim N(\\mu, \\sigma)$. In [Question 2](#15q2), we consider several\n",
        "estimators for the parameter $\\mu$. We now consider two possible\n",
        "estimators for the parameter $\\sigma^2$, the variance of the population.\n",
        "\n",
        "1.  Using the estimator   $\\displaystyle s^2 = \\dfrac{\\sum_{i=1}^n (X_i - \\overline{X})^2}{n-1}$.\n",
        "\n",
        "2.  Using the estimator   $\\displaystyle \\hat{\\sigma}^2 = \\dfrac{\\sum_{i=1}^n (X_i - \\overline{X})^2}{n}$.\n",
        "\n"
      ],
      "metadata": {
        "id": "szTvacBlDr2y"
      },
      "id": "szTvacBlDr2y"
    },
    {
      "cell_type": "markdown",
      "source": [
        "### <a name=\"15q4a\">Question 4a</a>\n",
        "\n",
        "---\n",
        "\n",
        "Prove the following statement:\n",
        "\n",
        "If $X_1$, $X_2$, $\\ldots$ , $X_n$ are independently and identically\n",
        "distributed random variables with $E(X_i) = \\mu$ and\n",
        "$\\mbox{Var}(X_i) = \\sigma^2$, then\n",
        "\n",
        "$${\\color{dodgerblue}{\\boxed{E \\bigg[ \\sum_{i=1}^n (X_i - \\overline{X})^2 \\bigg] = (n-1)\\sigma^2.}}}$$\n",
        "\n",
        "[Theorem 15.1](#15append-1) states the following:\n",
        "\n",
        "If $X_1$, $X_2$, $\\ldots$ , $X_n$ are independently and identically\n",
        "distributed random variables with $E(X_i) = \\mu$ and\n",
        "$\\mbox{Var}(X_i) = \\sigma^2$, then\n",
        "\n",
        "$$\\boxed{ E\\bigg[ \\sum_{i=1}^n (X_i - \\overline{X})^2 \\bigg] =  \\sum_{i=1}^n  E \\big[ X_i^2 \\big] - n E \\big[ \\overline{X}^2 \\big]}$$\n",
        "\n",
        "#### <a name=\"15sol4a\">Solution to Question 4a</a>\n",
        "\n",
        "---\n",
        "\n",
        "**Proof**:\n",
        "\n",
        "We first apply [Theorem 15.1](#15append-1) to begin simplifying the expected value\n",
        "of the sum of the squared deviations,\n",
        "\n",
        "$$E\\bigg[ \\sum_{i=1}^n (X_i - \\overline{X})^2 \\bigg] =  \\sum_{i=1}^n {\\color{dodgerblue}{ E \\big[ X_i^2 \\big]}} - n {\\color{tomato}{E \\big[ \\overline{X}^2 \\big]}}$$\n",
        "\n",
        "Next we simplify using properties of random variables and summations as\n",
        "follows,\n",
        "\n",
        "$$\\begin{aligned}\n",
        "E\\bigg[ \\sum_{i=1}^n (X_i - \\overline{X})^2 \\bigg] &= \\sum_{i=1}^n {\\color{dodgerblue}{ E \\big[ X_i^2 \\big]}} - n {\\color{tomato}{E \\big[ \\overline{X}^2 \\big]}} & \\mbox{by Theorem 15.1}\\\\\n",
        "&=  \\sum_{i=1}^n \\bigg( {\\color{dodgerblue}{ \\mbox{Var} \\big[ X_i \\big] + \\left( E \\big[ X_i \\big] \\right)^2 }} \\bigg) - n \\left( {\\color{tomato}{\\mbox{Var} \\big[ \\overline{X} \\big] + \\left( E \\big[  \\overline{X} \\big]\\right)^2}} \\right) & \\mbox{Justification 1 ??}\\\\\n",
        "&=  \\sum_{i=1}^n {\\color{dodgerblue}{ \\left( \\sigma^2 + \\mu^2 \\right)}} - n \\left( \\mbox{Var} \\big[ \\overline{X} \\big] + \\left( E \\big[  \\overline{X} \\big]\\right)^2 \\right) & \\mbox{Justification 2 ??}\\\\\n",
        "&=  \\sum_{i=1}^n\\left( \\sigma^2 + \\mu^2 \\right) - n \\left( {\\color{tomato}{\\frac{\\sigma^2}{n}}} + \\left( {\\color{tomato}{ \\mu }}\\right)^2 \\right) & \\mbox{Justification 3 ??} \\\\\n",
        "&= {\\color{dodgerblue}{n(\\sigma^2 + \\mu^2)}} - \\sigma^2 - n\\mu^2 & \\mbox{Justification 4 ??}\\\\\n",
        "&= (n-1) \\sigma^2. & \\mbox{Algebraically simplify}\n",
        "\\end{aligned}$$\n",
        "\n",
        "This concludes our proof!\n",
        "\n",
        "##### <a name=\"15sol4a-just\">Justifications for Proof</a>\n",
        "\n",
        "---\n",
        "\n",
        "-   Justification 1:\n",
        "\n",
        "-   Justification 2:\n",
        "\n",
        "-   Justification 3:\n",
        "\n",
        "-   Justification 4:\n",
        "\n",
        "<br>\n",
        "<br>\n",
        "\n"
      ],
      "metadata": {
        "id": "iyueN7FVDtUj"
      },
      "id": "iyueN7FVDtUj"
    },
    {
      "cell_type": "markdown",
      "source": [
        "### <a name=\"15q4b\">Question 4b</a>\n",
        "\n",
        "---\n",
        "\n",
        "Determine whether the estimator\n",
        "$\\displaystyle s^2 = \\dfrac{\\sum_{i=1}^n (X_i - \\overline{X})^2}{n-1}$\n",
        "is biased or unbiased.\n",
        "\n",
        "Using theorem we proved in [Question 4a](#15q4a), this should not require much\n",
        "more additional work.\n",
        "\n",
        "#### <a name=\"15sol4b\">Solution to Question 4b</a>\n",
        "\n",
        "---\n",
        "\n",
        "<br>\n",
        "<br>\n",
        "<br>\n",
        "\n"
      ],
      "metadata": {
        "id": "C-mLD3iyDxNE"
      },
      "id": "C-mLD3iyDxNE"
    },
    {
      "cell_type": "markdown",
      "source": [
        "### <a name=\"15q4c\">Question 4c</a>\n",
        "\n",
        "---\n",
        "\n",
        "Determine whether the estimator\n",
        "$\\displaystyle \\hat{\\sigma}^2 = \\dfrac{\\sum_{i=1}^n (X_i - \\overline{X})^2}{n}$\n",
        "is biased or unbiased.\n",
        "\n",
        "#### <a name=\"15sol4c\">Solution to Question 4c</a>\n",
        "\n",
        "---\n",
        "\n",
        "<br>\n",
        "<br>\n",
        "<br>\n",
        "\n"
      ],
      "metadata": {
        "id": "TUdBRXx_DzUf"
      },
      "id": "TUdBRXx_DzUf"
    },
    {
      "cell_type": "markdown",
      "source": [
        "## <a name=\"15var\">Estimating Variance and Standard Deviation</a>\n",
        "\n",
        "---\n",
        "\n",
        "The variance of random variable $X$ is defined as\n",
        "$\\sigma^2=\\mbox{Var} (X) = E\\big[ (X- \\mu)^2 \\big]$. If we pick a random\n",
        "sample $X_1, X_, \\ldots , X_n$ and want to approximate $\\sigma^2$, then\n",
        "a reasonable recipe for estimating $\\sigma^2$ could be to approximate\n",
        "$E \\big[ (X - \\mu)^2 \\big]$ using the following process:\n",
        "\n",
        "1.  Use the sample mean   ${\\color{tomato}{\\bar{X} = \\frac{1}{n} \\sum_{i=1}^n X_i}}$ in place   of the unknown value of the parameter ${\\color{tomato}{\\mu}}$.\n",
        "2.  Based on the sample data, calculate the average value of   $(X_i - {\\color{tomato}{\\overline{X}}})^2$.\n",
        "\n",
        "$$\\hat{\\sigma}^2 = \\frac{\\sum_{i=1}^n \\left( X_i- \\overline{X} \\right)^2}{n}.$$\n",
        "\n",
        "However, in [Question 4](#15q4) we showed this estimator is biased. For this\n",
        "reason:\n",
        "\n",
        "-   The unbiased estimator $s^2$ (that has $n-1$ in the denominator) is   usually used to estimate the population variance $\\sigma^2$.\n",
        "\n",
        "$$s^2 = \\dfrac{\\sum_{i=1}^n (X_i - \\overline{X})^2}{n-1}.$$\n",
        "\n",
        "-   And the estimator $s$ (that also has $n-1$ in the denominator) is   usually used to estimate the population standard deviation $\\sigma$.\n",
        "\n",
        "$$s = \\sqrt{ \\dfrac{\\sum_{i=1}^n (X_i - \\overline{X})^2}{n-1}}.$$\n",
        "\n",
        "-   The R commands `sd(x)` and `var(x)` use the formulas for $s$ and   $s^2$, respectively, with $n-1$ in the denominator.\n",
        "-   For large samples, the difference is very minimal whether we use the   estimator with $n$ or $n-1$ in the denominator.\n",
        "\n",
        "Although the sample variance $s^2$ is an unbiased estimator for the\n",
        "population variance $\\sigma^2$, the sample standard deviation $s$ is in\n",
        "general a biased estimator for the population variance $\\sigma$ since it\n",
        "is not true that $\\sqrt{E(X)} = E(\\sqrt{X})$.\n",
        "\n"
      ],
      "metadata": {
        "id": "OmoVy2tWD1Mz"
      },
      "id": "OmoVy2tWD1Mz"
    },
    {
      "cell_type": "markdown",
      "source": [
        "# <a name=\"15precision\">Precision of Estimators</a>\n",
        "\n",
        "---\n",
        "\n",
        "Let $\\hat{\\theta}$ be an estimator for a parameter $\\theta$. We can\n",
        "measure how precise $\\hat{\\theta}$ is by considering how “spread out”\n",
        "the estimates obtained by selecting many random samples (each size $n$)\n",
        "and calculating an estimate $\\hat{\\theta}$. The <font color=\"dodgerblue\">**variance of the sampling distribution**,\n",
        "$\\mbox{Var}(\\hat{\\theta})$</font>, measures the <font color=\"dodgerblue\">**variability in estimates**</font> due to the\n",
        "uncertainty in random sampling. The <font color=\"dodgerblue\">**standard error**</font> of $\\hat{\\theta}$ is\n",
        "the standard deviation of the sampling distribution for $\\hat{\\theta}$\n",
        "and also commonly used.\n",
        "\n",
        "-   In some cases, we can use theory from probability to derive a   formula for $\\mbox{Var}(\\hat{\\theta})$.\n",
        "-   We can also approximate $\\mbox{Var}(\\hat{\\theta})$ by creating a   sampling distribution through simulations.\n",
        "\n"
      ],
      "metadata": {
        "id": "5BRnEjhdD3PA"
      },
      "id": "5BRnEjhdD3PA"
    },
    {
      "cell_type": "markdown",
      "source": [
        "## <a name=\"15q5\">Question 5</a>\n",
        "\n",
        "---\n",
        "\n",
        "Let $X_1, X_2, X_3$ be independent random variables from an identical\n",
        "distribution with mean and variance $\\mu$ and $\\sigma^2$, respectively,\n",
        "and consider two possible estimators for $\\mu$:\n",
        "\n",
        "-   The usual sample mean,   $\\hat{\\mu}_1 = \\overline{X} = \\frac{X_1 + X_2 + X_3}{3}$.\n",
        "\n",
        "-   A weighted sample mean,   $\\hat{\\mu}_2 = \\frac{1}{6}X_1 + \\frac{1}{3}X_2 + \\frac{1}{2} X_3$.\n",
        "\n"
      ],
      "metadata": {
        "id": "bQmoc1eUD5L0"
      },
      "id": "bQmoc1eUD5L0"
    },
    {
      "cell_type": "markdown",
      "source": [
        "### <a name=\"15q5a\">Question 5a</a>\n",
        "\n",
        "---\n",
        "\n",
        "Prove both estimators $\\hat{\\mu}_1$ and $\\hat{\\mu}_2$ are unbiased\n",
        "estimators of $\\mu$.\n",
        "\n",
        "#### <a name=\"15sol5a\">Solution to Question 5a</a>\n",
        "\n",
        "---\n",
        "\n",
        "<br>\n",
        "<br>\n",
        "<br>\n",
        "\n"
      ],
      "metadata": {
        "id": "4c839Yb_D6kI"
      },
      "id": "4c839Yb_D6kI"
    },
    {
      "cell_type": "markdown",
      "source": [
        "### <a name=\"15q5b\">Question 5b</a>\n",
        "\n",
        "---\n",
        "\n",
        "Calculate the variances of the estimators, $\\mbox{Var}( \\hat{\\mu}_1)$\n",
        "and $\\mbox{Var}( \\hat{\\mu}_2)$. Which estimator is more precise?\n",
        "\n",
        "Recall properties we can apply when finding the [variance of a linear\n",
        "combination of independent random\n",
        "variables](https://githubtocolab.com/CU-Denver-MathStats-OER/Statistical-Theory/blob/main/Chap2/06-Expected-Value-and-Variance.ipynb), and note\n",
        "**the variances will depend on the unknown value of the population\n",
        "variance,** $\\mathbf{\\sigma^2}$.\n",
        "\n",
        "#### <a name=\"15sol5b\">Solution to Question 5b</a>\n",
        "\n",
        "---\n",
        "\n",
        "<br>\n",
        "<br>\n",
        "<br>\n",
        "\n"
      ],
      "metadata": {
        "id": "yOARj0YxD8ZO"
      },
      "id": "yOARj0YxD8ZO"
    },
    {
      "cell_type": "markdown",
      "source": [
        "## <a name=\"15efficiency\">Efficiency of Unbiased Estimators</a>\n",
        "\n",
        "---\n",
        "\n",
        "If $\\hat{\\theta}_1$ and $\\hat{\\theta}_2$ are both unbiased estimators of\n",
        "$\\theta$, then <font color=\"dodgerblue\">$\\hat{\\theta}_1$ is said\n",
        "to be more efficient than $\\hat{\\theta}_2$</font> if\n",
        "${\\color{dodgerblue}{\\mbox{Var} ( \\hat{\\theta}_1) < \\mbox{Var} (\\hat{\\theta}_2)}}$.\n",
        "For example, in [Question 5](#15q5) we show $\\hat{\\mu}_1$ is a more efficient\n",
        "estimator than the weighted mean $\\hat{\\mu}_2$.\n",
        "\n"
      ],
      "metadata": {
        "id": "x3j58zJ5D9w7"
      },
      "id": "x3j58zJ5D9w7"
    },
    {
      "cell_type": "markdown",
      "source": [
        "## <a name=\"15q6\">Question 6</a>\n",
        "\n",
        "---\n",
        "\n",
        "Let $X \\sim \\mbox{Binom}(n,p)$ with $n$ known and parameter $p$ unknown.\n",
        "Consider the following two estimators for parameter $p$:\n",
        "\n",
        "1.  The usual sample proportion, $\\hat{p} = \\frac{X}{n}$.\n",
        "\n",
        "2.  A modified proportion, $\\tilde{p} = \\frac{X+2}{n+4}$.\n",
        "\n",
        "Recall in [Question 3](#15q3) we determined $\\hat{p}$ is an unbiased\n",
        "estimator for $p$ while $\\tilde{p}$ is a slightly biased estimator.\n",
        "\n",
        "Use [properties of\n",
        "variance](https://githubtocolab.com/CU-Denver-MathStats-OER/Statistical-Theory/blob/main/Chap2/06-Expected-Value-and-Variance.ipynb) and recall\n",
        "these useful formulas for $X \\sim \\mbox{Binom}(n,p)$,\n",
        "\n",
        "$$E(X) = np \\quad \\mbox{and} \\quad \\mbox{Var}(X) = np(1-p).$$\n",
        "\n"
      ],
      "metadata": {
        "id": "ZxFYDgVvD_Rn"
      },
      "id": "ZxFYDgVvD_Rn"
    },
    {
      "cell_type": "markdown",
      "source": [
        "### <a name=\"15q6a\">Question 6a</a>\n",
        "\n",
        "---\n",
        "\n",
        "Find $\\mbox{Var}(\\hat{p}) = \\mbox{Var} \\left( \\frac{X}{n} \\right)$. Your\n",
        "answer will depend on the sample size $n$ and the parameter $p$.\n",
        "\n",
        "#### <a name=\"15sol6a\">Solution to Question 6a</a>\n",
        "\n",
        "---\n",
        "\n",
        "<br>\n",
        "<br>\n",
        "<br>\n",
        "\n"
      ],
      "metadata": {
        "id": "fy-snUAsEAuv"
      },
      "id": "fy-snUAsEAuv"
    },
    {
      "cell_type": "markdown",
      "source": [
        "### <a name=\"15q6b\">Question 6b</a>\n",
        "\n",
        "---\n",
        "\n",
        "Find\n",
        "$\\mbox{Var}(\\tilde{p}) = \\mbox{Var} \\left( \\frac{X+2}{n+4} \\right)$.\n",
        "Your answer will depend on the sample size $n$ and the parameter $p$.\n",
        "\n",
        "#### <a name=\"15sol6b\">Solution to Question 6b</a>\n",
        "\n",
        "---\n",
        "\n",
        "<br>\n",
        "<br>\n",
        "<br>\n",
        "\n"
      ],
      "metadata": {
        "id": "HMVnMoCjECEh"
      },
      "id": "HMVnMoCjECEh"
    },
    {
      "cell_type": "markdown",
      "source": [
        "# <a name=\"15mse\">Mean Squared Error</a>\n",
        "\n",
        "---\n",
        "\n",
        "We have explored bias and variability of estimators. It is not always\n",
        "possible or reasonable to use an unbiased estimator. Moreover, in some\n",
        "cases an estimator with a little bit of bias and very little variability\n",
        "might be preferred over an unbiased estimator that has a lot of\n",
        "variability. Choosing which estimator is preferred often involves a\n",
        "trade-off between bias and variability.\n",
        "\n",
        "The <font color=\"dodgerblue\">**Mean Squared Error (MSE)**</font>\n",
        "of an estimator $\\hat{\\theta}$ measures the average squared distance\n",
        "between the estimator and the parameter $\\theta$,\n",
        "\n",
        "$${\\color{dodgerblue}{\\mbox{MSE} \\big[ \\hat{\\theta} \\big] = E \\big[ (\\hat{\\theta}-\\theta)^2 \\big]}}.$$\n",
        "\n",
        "-   **The MSE is a criterion that takes into account both the bias and   variability of an estimator!**\n",
        "-   In the [Appendix](#15append) we prove [Theorem 15.3](#15append-3) that gives   the relation of the MSE to the variance and bias:\n",
        "\n",
        "$$\\boxed{\\large {\\color{dodgerblue}{ \\mbox{MSE} \\big[ \\hat{\\theta} \\big] }} = {\\color{tomato}{\\mbox{Var} \\big[ \\hat{\\theta} \\big]}} + {\\color{mediumseagreen}{\\left( \\mbox{Bias}(\\hat{\\theta}) \\right)^2. }}}$$\n",
        "\n",
        "-   In the special case where $\\hat{\\theta}$ is an unbiased estimator,   then   $\\mbox{MSE} \\big[ \\hat{\\theta} \\big] =\\mbox{Var} \\big[ \\hat{\\theta} \\big]$.\n",
        "\n"
      ],
      "metadata": {
        "id": "RmMoxhnYEDuj"
      },
      "id": "RmMoxhnYEDuj"
    },
    {
      "cell_type": "markdown",
      "source": [
        "## <a name=\"15q7\">Question 7</a>\n",
        "\n",
        "---\n",
        "\n",
        "Let $X \\sim \\mbox{Binom}(n,p)$ with $n$ known and parameter $p$ unknown.\n",
        "Consider the following two estimators for parameter $p$:\n",
        "\n",
        "1.  The usual sample proportion, $\\hat{p} = \\frac{X}{n}$.\n",
        "\n",
        "2.  A modified proportion, $\\tilde{p} = \\frac{X+2}{n+4}$.\n",
        "\n",
        "Using previous results regarding the bias and variability of the\n",
        "estimators we derived in [Question 3](#15q3) and [Question 6](#15q6),\n",
        "respectively, answer [Question 7a](#15q7a) and [Question 7b](#15q7b) to compare the\n",
        "MSE of the estimators.\n",
        "\n"
      ],
      "metadata": {
        "id": "nF-nWg2yEFeU"
      },
      "id": "nF-nWg2yEFeU"
    },
    {
      "cell_type": "markdown",
      "source": [
        "### <a name=\"15q7a\">Question 7a</a>\n",
        "\n",
        "---\n",
        "\n",
        "Give a formula for $\\mbox{MSE}(\\hat{p})$. Your answer will depend on the\n",
        "sample size $n$ and the parameter $p$.\n",
        "\n",
        "#### <a name=\"15sol7a\">Solution to Question 7a</a>\n",
        "\n",
        "---\n",
        "\n",
        "<br>\n",
        "<br>\n",
        "<br>\n",
        "\n"
      ],
      "metadata": {
        "id": "K5kvQXDLEGio"
      },
      "id": "K5kvQXDLEGio"
    },
    {
      "cell_type": "markdown",
      "source": [
        "### <a name=\"15q7b\">Question 7b</a>\n",
        "\n",
        "---\n",
        "\n",
        "Give a formula for $\\mbox{MSE}(\\tilde{p})$. Your answer will depend on\n",
        "the sample size $n$ and the parameter $p$.\n",
        "\n",
        "#### <a name=\"15sol7b\">Solution to Question 7b</a>\n",
        "\n",
        "---\n",
        "\n",
        "<br>\n",
        "<br>\n",
        "<br>\n",
        "\n"
      ],
      "metadata": {
        "id": "tpXJJJCjEHr1"
      },
      "id": "tpXJJJCjEHr1"
    },
    {
      "cell_type": "markdown",
      "source": [
        "## <a name=\"15proportion\">Choosing a Sample Proportion</a>\n",
        "\n",
        "---\n",
        "\n",
        "In the case of $X \\sim \\mbox{Binom}(n,p)$ with $n$ known and parameter\n",
        "$p$ unknown, we have considered two possible estimators for the\n",
        "population proportion $p$.\n",
        "\n",
        "1.  The usual sample proportion, $\\hat{p} = \\frac{x}{n}$.\n",
        "    -   This estimator makes the most practical sense.\n",
        "    -   This is the estimator obtained using MLE or MoM.\n",
        "    -   $\\hat{p}$ is unbiased.\n",
        "    -   But $\\hat{p}$ can be less precise depending on the value of $p$.\n",
        "2.  A modified proportion, $\\tilde{p} = \\frac{x+2}{n+4}$.\n",
        "    -   $\\tilde{p}$ is biased, but this may not be a problem:\n",
        "        -   As $n$ gets larger and larger, the bias of this estimator           gets smaller and smaller.\n",
        "        -   The bias is towards $0.5$, so if $p$ is close to $0.5$ this           is not a big issue,\n",
        "    -   $\\tilde{p}$ is a more precise estimator when $p$ is not close to       0 or 1.\n",
        "\n",
        "For example if $n=16$, we have $X \\sim \\mbox{Binom}(16,p)$. @fig-mse\n",
        "compares the values of $\\mbox{MSE}(\\hat{p})$ and $\\mbox{MSE}(\\tilde{p})$\n",
        "for $n=16$."
      ],
      "metadata": {
        "id": "b2xXtZyIEJWz"
      },
      "id": "b2xXtZyIEJWz"
    },
    {
      "cell_type": "code",
      "execution_count": null,
      "metadata": {
        "id": "f4e11a75-d047-4d09-a0e9-12f350575b0e"
      },
      "outputs": [],
      "source": [
        "p <- seq(0, 1, length.out = 100)  # values of p\n",
        "n <- 16  # sample size\n",
        "\n",
        "# formula for MSE of p-hat\n",
        "mse.phat <- (p * (1 - p)) / n\n",
        "\n",
        "# formula for MSE of p-tilde\n",
        "mse.ptilde <- (n * p * (1 - p))/(n + 2)^2 + (1 - 2*p)^2/(n + 2)^2\n",
        "\n",
        "# plot of MSE(p-hat)\n",
        "plot(p, mse.phat,\n",
        "     type = \"l\",\n",
        "     lwd =2,\n",
        "     col = \"firebrick2\",\n",
        "     main = \"Comparing MSE of Estimators for p when n=16\",\n",
        "     ylab = \"MSE\")\n",
        "\n",
        "# add plot of MSE(p-tilde)\n",
        "lines(p, mse.ptilde,\n",
        "      lty=2,\n",
        "      lwd =2,\n",
        "      col = \"blue\")\n",
        "\n",
        "# add legend to plot\n",
        "legend(0.37, 0.005,\n",
        "       legend=c(\"MSE(p.hat)\",\"MSE(p.tilde\"),\n",
        "       col=c(\"firebrick2\",\"blue\"),\n",
        "       lty=c(1,2),\n",
        "       ncol=1)"
      ],
      "id": "f4e11a75-d047-4d09-a0e9-12f350575b0e"
    },
    {
      "cell_type": "markdown",
      "metadata": {
        "id": "901a1a92-7154-4007-842d-9f8b73e81520"
      },
      "source": [
        "## <a name=\"15q8\">Question 8</a>\n",
        "\n",
        "---\n",
        "\n",
        "Using the plots of ${\\color{\\tomato}{\\mbox{MSE}(\\hat{p})}}$ and\n",
        "${\\color{dodgerblue}{\\mbox{MSE}(\\tilde{p})}}$ in @fig-mse, identify the\n",
        "interval of $p$ values where the MSE of $\\tilde{p}$ is less than the MSE\n",
        "of $\\hat{p}$.\n",
        "\n",
        "### <a name=\"15sol8\">Solution to Question 8</a>\n",
        "\n",
        "---\n",
        "\n",
        "<br>\n",
        "<br>\n",
        "<br>\n",
        "\n"
      ],
      "id": "901a1a92-7154-4007-842d-9f8b73e81520"
    },
    {
      "cell_type": "markdown",
      "source": [
        "## <a name=\"15q9\">Question 9</a>\n",
        "\n",
        "---\n",
        "\n",
        "Run run the code below for different values of $n$ and say what happens\n",
        "to your choice of estimator as $n$ gets larger."
      ],
      "metadata": {
        "id": "C904EIjaELQd"
      },
      "id": "C904EIjaELQd"
    },
    {
      "cell_type": "code",
      "execution_count": null,
      "metadata": {
        "id": "fdec09f6-2efc-444f-8796-6b658d6a4f35"
      },
      "outputs": [],
      "source": [
        "#########################################\n",
        "# adjust sample size n and run again\n",
        "# what happens to mse as n gets larger?\n",
        "#########################################\n",
        "n <- 16  # sample size\n",
        "\n",
        "####################################################\n",
        "# you do not need to edit the rest of the code cell\n",
        "####################################################\n",
        "\n",
        "p <- seq(0, 1, length.out = 100)  # values of p\n",
        "\n",
        "# formula for MSE of p-hat\n",
        "mse.phat <- (p * (1 - p)) / n\n",
        "\n",
        "# formula for MSE of p-tilde\n",
        "mse.ptilde <- (n * p * (1 - p))/(n + 2)^2 + (1 - 2*p)^2/(n + 2)^2\n",
        "\n",
        "# plot of MSE(p-hat)\n",
        "plot(p, mse.phat,\n",
        "     type = \"l\",\n",
        "     lwd =2,\n",
        "     col = \"firebrick2\",\n",
        "     main = \"Comparing MSE of Estimators for p\",\n",
        "     ylab = \"MSE\")\n",
        "\n",
        "# add plot of MSE(p-tilde)\n",
        "lines(p, mse.ptilde,\n",
        "      lty=2,\n",
        "      lwd =2,\n",
        "      col = \"blue\")\n",
        "\n",
        "# add legend to plot\n",
        "legend(0.37, 0.005,\n",
        "       legend=c(\"MSE(p.hat)\",\"MSE(p.tilde\"),\n",
        "       col=c(\"firebrick2\",\"blue\"),\n",
        "       lty=c(1,2),\n",
        "       ncol=1)"
      ],
      "id": "fdec09f6-2efc-444f-8796-6b658d6a4f35"
    },
    {
      "cell_type": "markdown",
      "metadata": {
        "id": "30f49925-aec4-45ad-ac77-feb2a57a997d"
      },
      "source": [
        "### <a name=\"15sol9\">Solution to Question 9</a>\n",
        "\n",
        "---\n",
        "\n",
        "-   Interpret the plots generated by the code above and answer the   question.\n",
        "\n",
        "<br>\n",
        "<br>\n",
        "<br>\n",
        "\n"
      ],
      "id": "30f49925-aec4-45ad-ac77-feb2a57a997d"
    },
    {
      "cell_type": "markdown",
      "source": [
        "# <a name=\"15append\"> Appendix: Proofs Theorems</a>\n",
        "\n",
        "---\n",
        "\n"
      ],
      "metadata": {
        "id": "X1THSLcZ9wZd"
      },
      "id": "X1THSLcZ9wZd"
    },
    {
      "cell_type": "markdown",
      "source": [
        "### <a name=\"15append-1\"> Theorem 15.1</a>\n",
        "\n",
        "---\n",
        "\n",
        "If $X_1$, $X_2$, $\\ldots$ , $X_n$ independently and identically\n",
        "distributed random variables, then\n",
        "\n",
        "$$E\\bigg[ \\sum_{i=1}^n (X_i - \\overline{X})^2 \\bigg] =  \\sum_{i=1}^n E \\big[ X_i^2 \\big] - n E \\big[ \\overline{X}^2\\big] .$$\n",
        "\n",
        "#### <a name=\"15append-proof1\"> Proof of Theorem 15.1</a>\n",
        "\n",
        "---\n",
        "\n",
        "Let $X_1$, $X_2$, $\\ldots$ , $X_n$ be independently and identically\n",
        "distributed random variables with\n",
        "$\\displaystyle \\overline{X} = \\frac{1}{n}\\sum_{i=1}^n X_i$. The\n",
        "following properties are used in the proof that follows.\n",
        "\n",
        "-   The linearity of the expected value of random variables gives\n",
        "\n",
        "$$ E \\bigg[ \\sum_{i=1}^n (X_i) \\bigg] = \\sum_{i=1}^n  \\big( E \\lbrack X_i \\rbrack \\big) = n\\bar{X} \\quad \\mbox{and} \\quad  E \\bigg[ \\sum_{i=1}^n (X_i^2) \\bigg] = \\sum_{i=1}^n  \\big( E \\lbrack X_i^2 \\rbrack \\big).$$\n",
        "{#eq-lin}\n",
        "\n",
        "-   Recall properties of summation:\n",
        "\n",
        "$$\\sum_{i=1}^n (c a_i) = c \\big( \\sum_{i=1}^n a_i \\big) \\quad \\mbox{and} \\quad \\sum_{i=1}^n c = nc.$$\n",
        "{#eq-sum}\n",
        "\n",
        "We first expand the summation $\\sum_{i=1}^n (X_i - \\overline{X})^2$\n",
        "inside the expected value\n",
        "\n",
        "$$\\begin{aligned}\n",
        "E\\bigg[ \\sum_{i=1}^n (X_i - \\overline{X})^2 \\bigg] &= E \\bigg[ (X_1 - \\overline{X})^2 + (X_2 - \\overline{X})^2 + \\ldots + (X_n - \\overline{X})^2 \\bigg] \\\\\n",
        "&= E \\bigg[ (X_1^2 - 2X_1\\overline{X} + \\overline{X}^2) +(X_2^2 - 2X_2\\overline{X} + \\overline{X}^2) + \\ldots + (X_n^2 - 2X_n\\overline{X} + \\overline{X}^2)  \\bigg]\n",
        "\\end{aligned}$$\n",
        "\n",
        "Regrouping terms, using the linearity of the expected value and\n",
        "properties of summation stated above, we have\n",
        "\n",
        "$$E\\bigg[ \\sum_{i=1}^n (X_i - \\overline{X})^2 \\bigg] = \\sum_{i=1}^n E(X_i^2) + E \\bigg[ - 2 \\overline{X}\\left( {\\color{tomato}{\\sum_{i=1}^n X_i}} \\right)  + n \\overline{X}^2 \\bigg].$$\n",
        "\n",
        "Since $\\overline{X} = \\frac{1}{n} \\sum_{i=1}^n X_i$, we have\n",
        "${\\color{tomato}{\\sum_{i=1}^n X_i = n \\overline{X}}}$, and therefore\n",
        "\n",
        "$$\\begin{aligned}\n",
        "E\\bigg[ \\sum_{i=1}^n (X_i - \\overline{X})^2 \\bigg] &= \\sum_{i=1}^n E(X_i^2) + E \\bigg[ - 2 \\overline{X}\\left( {\\color{tomato}{n\\overline{X}}} \\right)  + n \\overline{X}^2 \\bigg] \\\\\n",
        "&=  \\sum_{i=1}^n E(X_i^2) + E \\bigg[ -n \\overline{X}^2\\bigg]\\\\\n",
        "&= \\sum_{i=1}^n E(X_i^2) - n E \\big[ \\overline{X}^2\\big] .\\\\\n",
        "\\end{aligned}$$\n",
        "\n",
        "This concludes the proof!\n",
        "\n"
      ],
      "metadata": {
        "id": "_BE9MDqf9z6z"
      },
      "id": "_BE9MDqf9z6z"
    },
    {
      "cell_type": "markdown",
      "source": [
        "### <a name=\"15append-2\"> Theorem 15.2</a>\n",
        "\n",
        "---\n",
        "\n",
        "If $X_1$, $X_2$, $\\ldots$ , $X_n$ are independently and identically\n",
        "distributed random variables with $E(X_i) = \\mu$ and\n",
        "$\\mbox{Var}(X_i) = \\sigma^2$, then\n",
        "$\\displaystyle E \\bigg[ \\sum_{i=1}^n (X_i - \\overline{X})^2 \\bigg] = (n-1)\\sigma^2$.\n",
        "\n",
        "#### <a name=\"15append-proof2\"> Proof of Theorem 15.2</a>\n",
        "\n",
        "---\n",
        "\n",
        "We first apply [Theorem 15.1](#15append-1) to begin simplifying the expected value\n",
        "of the sum of the squared deviations.\n",
        "\n",
        "$$E\\bigg[ \\sum_{i=1}^n (X_i - \\overline{X})^2 \\bigg] =  \\sum_{i=1}^n {\\color{dodgerblue}{ E \\big[ X_i^2 \\big]}} - n {\\color{tomato}{E \\big[ \\overline{X}^2 \\big]}}$$\n",
        "\n",
        "From the variance property\n",
        "$\\mbox{Var}(Y) = E(Y^2) - \\big( E(Y) \\big)^2$, we know for any random\n",
        "variable $Y$, we have $E(Y^2) = \\mbox{Var}(Y) + \\big( E(Y) \\big)^2$.\n",
        "Applying this property to each $X_i$ and $\\overline{X}$ (which is a\n",
        "linear combination of random variables), we have\n",
        "\n",
        "$$E\\bigg[ \\sum_{i=1}^n (X_i - \\overline{X})^2 \\bigg] =  \\sum_{i=1}^n \\bigg( {\\color{dodgerblue}{ \\mbox{Var} \\big[ X_i \\big] + \\left( E \\big[ X_i \\big] \\right)^2 }} \\bigg) - n \\left( {\\color{tomato}{\\mbox{Var} \\big[ \\overline{X} \\big] + \\left( E \\big[  \\overline{X} \\big]\\right)^2}} \\right)$$\n",
        "\n",
        "From the first summation on the right side, we have\n",
        "${\\color{dodgerblue}{ \\mbox{Var} \\big[ X_i \\big] + \\left( E \\big[ X_i \\big] \\right)^2 = \\sigma^2 + \\mu^2}}$.\n",
        "Recall from the Central Limit Theorem for Means, we have\n",
        "$\\mbox{Var} \\big[ \\overline{X} \\big] = \\frac{\\sigma^2}{n}$ and\n",
        "$E \\big[ \\overline{X} \\big] = \\mu$, and thus we have\n",
        "${\\color{tomato}{\\mbox{Var} \\big[ \\overline{X} \\big] + \\left( E \\big[ \\overline{X} \\big]\\right)^2 =\\frac{\\sigma^2}{n} + \\mu^2 }}$.\n",
        "Thus, we have\n",
        "\n",
        "$$\\begin{aligned}\n",
        "E\\bigg[ \\sum_{i=1}^n (X_i - \\overline{X})^2 \\bigg] &=  \\sum_{i=1}^n {\\color{dodgerblue}{ \\left( \\sigma^2 + \\mu^2 \\right)}} - n \\left( {\\color{tomato}{\\frac{\\sigma^2}{n}}} + {\\color{tomato}{ \\mu^2}} \\right) \\\\\n",
        "&= n(\\sigma^2 + \\mu^2) - \\sigma^2 - n\\mu^2 \\\\\n",
        "&= (n-1) \\sigma^2.\n",
        "\\end{aligned}$$\n",
        "\n",
        "This concludes our proof!\n",
        "\n"
      ],
      "metadata": {
        "id": "IUazDj1M-ATu"
      },
      "id": "IUazDj1M-ATu"
    },
    {
      "cell_type": "markdown",
      "source": [
        "### <a name=\"15append-3\"> Theorem 15.3</a>\n",
        "\n",
        "---\n",
        "\n",
        "Let $\\hat{\\theta}$ be an estimator for parameter $\\theta$. The mean\n",
        "squared error (MSE) is\n",
        "\n",
        "$$\\mbox{MSE} \\big[ \\hat{\\theta} \\big] = \\mbox{Var} \\big[\\hat{\\theta} \\big] + \\left( \\mbox{Bias} \\big[ \\hat{\\theta}\\big] \\right)^2.$$\n",
        "\n",
        "#### <a name=\"15append-proof3\"> Proof of Theorem 15.3</a>\n",
        "\n",
        "---\n",
        "\n",
        "We begin with the definition, add and subtract\n",
        "${\\color{tomato}{E \\big[ \\hat{\\theta} \\big]}}$ inside the expected\n",
        "value, regroup terms inside the expected value, and finally break up the\n",
        "linear combination inside the expected value to get the result below.\n",
        "\n",
        "$$\\begin{aligned}\n",
        "\\mbox{MSE} \\big[ \\hat{\\theta} \\big] &= E \\big[ (\\hat{\\theta}-\\theta)^2 \\big] \\\\\n",
        "&= E \\bigg[ \\left( \\hat{\\theta} {\\color{tomato}{- E \\big[ \\hat{\\theta} \\big] + E \\big[ \\hat{\\theta} \\big]}} -\\theta \\right)^2 \\bigg] \\\\\n",
        "&= E \\bigg[ \\left( {\\color{tomato}{(\\hat{\\theta} - E \\big[ \\hat{\\theta} \\big])}} + {\\color{dodgerblue}{(E \\big[ \\hat{\\theta} \\big] -\\theta)}} \\right)^2 \\bigg] \\\\\n",
        "&= E \\bigg[ {\\color{tomato}{(\\hat{\\theta} - E \\big[ \\hat{\\theta} \\big])}}^2 + 2{\\color{tomato}{(\\hat{\\theta} - E \\big[ \\hat{\\theta} \\big])}}{\\color{dodgerblue}{(E \\big[ \\hat{\\theta} \\big] -\\theta)}} +  {\\color{dodgerblue}{(E \\big[ \\hat{\\theta} \\big] -\\theta)}}^2 \\bigg] \\\\\n",
        "&=  E \\bigg[ (\\hat{\\theta} - E \\big[ \\hat{\\theta} \\big])^2 \\bigg] + 2 E \\bigg[(\\hat{\\theta} - E \\big[ \\hat{\\theta} \\big]) (E \\big[ \\hat{\\theta} \\big] -\\theta) \\bigg] + E \\bigg[ (E \\big[ \\hat{\\theta} \\big] -\\theta)^2 \\bigg]\n",
        "\\end{aligned}$$\n",
        "\n",
        "By definition of the variance, we have\n",
        "\n",
        "$${\\color{tomato}{E \\bigg[ (\\hat{\\theta} - E \\big[ \\hat{\\theta} \\big])^2 \\bigg] = \\mbox{Var} \\big[ \\hat{\\theta} \\big]}}.$$\n",
        "{#eq-var-hat}\n",
        "\n",
        "By definition of bias of an estimator, we have\n",
        "\n",
        "$${\\color{dodgerblue}{E \\bigg[ (E \\big[ \\hat{\\theta} \\big] -\\theta)^2 \\bigg] = E \\bigg[ \\big( \\mbox{Bias}(\\hat{\\theta}) \\big)^2 \\bigg] =  \\bigg( \\mbox{Bias}(\\hat{\\theta}) \\bigg)^2}}.$$\n",
        "{#eq-bias-hat}\n",
        "\n",
        "-   Note $\\mbox{Bias}(\\hat{\\theta})$ is a constant value which might be   unknown, but it is not a random variable.\n",
        "-   The expected value of a constant is the value of the constant, thus   $E \\bigg[ \\big( \\mbox{Bias}(\\hat{\\theta}) \\big)^2 \\bigg] = \\bigg( \\mbox{Bias}(\\hat{\\theta}) \\bigg)^2$.\n",
        "\n",
        "$${\\color{mediumseagreen}{\n",
        "\\begin{aligned}\n",
        "E \\bigg[ (\\hat{\\theta} - E \\big[ \\hat{\\theta} \\big]) (E \\big[ \\hat{\\theta} \\big] -\\theta) \\bigg] &= E \\bigg[ \\hat{\\theta} \\cdot E \\big[ \\hat{\\theta} \\big] - \\hat{\\theta} \\cdot \\theta - \\bigg( E \\big[ \\hat{\\theta} \\big] \\bigg)^2 + E \\big[ \\hat{\\theta} \\big] \\cdot \\theta \\bigg] \\\\\n",
        "&=  E \\big[ \\hat{\\theta} \\big]  E \\big[ \\hat{\\theta} \\big]  - E \\big[ \\theta \\big] E \\big[ \\hat{\\theta} \\big] - \\bigg( E \\big[ \\hat{\\theta} \\big] \\bigg)^2 + E \\big[ \\theta \\big] E \\big[ \\hat{\\theta} \\big] \\\\\n",
        "&= 0\n",
        "\\end{aligned}\n",
        "}}$$ {#eq-middle-stuff}\n",
        "\n",
        "Using the results in (@eq-var-hat), (@eq-bias-hat), and\n",
        "(@eq-middle-stuff), we have\n",
        "\n",
        "$$\\begin{aligned}\n",
        "\\mbox{MSE} \\big[ \\hat{\\theta} \\big] &= {\\color{tomato}{E \\bigg[ (\\hat{\\theta} - E \\big[ \\hat{\\theta} \\big])^2 \\bigg] }} + 2 {\\color{mediumseagreen}{ E \\bigg[(\\hat{\\theta} - E \\big[ \\hat{\\theta} \\big]) (E \\big[ \\hat{\\theta} \\big] -\\theta) \\bigg] }} + {\\color{dodgerblue}{E \\bigg[ (E \\big[ \\hat{\\theta} \\big] -\\theta)^2 \\bigg] }} \\\\\n",
        "&= {\\color{tomato}{\\mbox{Var} \\big[ \\hat{\\theta} \\big]}} + 2 \\cdot {\\color{mediumseagreen}{0}} + {\\color{dodgerblue}{\\left( \\mbox{Bias}(\\hat{\\theta}) \\right)^2}} \\\\\n",
        "&= \\mbox{Var} \\big[ \\hat{\\theta} \\big] + \\left( \\mbox{Bias}(\\hat{\\theta}) \\right)^2.\n",
        "\\end{aligned}$$\n",
        "\n",
        "This completes our proof!\n"
      ],
      "metadata": {
        "id": "dRKsBlxV-GhZ"
      },
      "id": "dRKsBlxV-GhZ"
    },
    {
      "cell_type": "markdown",
      "source": [
        "# <a name=\"14CC License\">Creative Commons License Information</a>\n",
        "---\n",
        "\n",
        "\n",
        "![Creative Commons\n",
        "License](https://i.creativecommons.org/l/by-nc-sa/4.0/88x31.png)\n",
        "\n",
        "*Statistical Methods: Exploring the Uncertain* by [Adam\n",
        "Spiegler (University of Colorado Denver)](https://github.com/CU-Denver-MathStats-OER/Statistical-Theory)\n",
        "is licensed under a [Creative Commons\n",
        "Attribution-NonCommercial-ShareAlike 4.0 International\n",
        "License](http://creativecommons.org/licenses/by-nc-sa/4.0/). This work is funded by an [Institutional OER Grant from the Colorado Department of Higher Education (CDHE)](https://cdhe.colorado.gov/educators/administration/institutional-groups/open-educational-resources-in-colorado).\n",
        "\n",
        "For similar interactive OER materials in other courses funded by this project in the Department of Mathematical and Statistical Sciences at the University of Colorado Denver, visit <https://github.com/CU-Denver-MathStats-OER>."
      ],
      "metadata": {
        "id": "o4bR8timX770"
      },
      "id": "o4bR8timX770"
    }
  ],
  "nbformat": 4,
  "nbformat_minor": 5,
  "metadata": {
    "kernelspec": {
      "name": "ir",
      "display_name": "R",
      "language": "R"
    },
    "colab": {
      "provenance": []
    }
  }
}