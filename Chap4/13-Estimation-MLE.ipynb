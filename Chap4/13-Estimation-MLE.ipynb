{
  "cells": [
    {
      "cell_type": "markdown",
      "metadata": {
        "id": "8f97b840-e89f-4299-ab6f-0b6f1f073582"
      },
      "source": [
        "[![Open In\n",
        "Colab](https://colab.research.google.com/assets/colab-badge.svg)](https://githubtocolab.com/CU-Denver-MathStats-OER/Statistical-Theory/blob/main/Chap4/13-Estimation-MLE.ipynb)\n"
      ],
      "id": "8f97b840-e89f-4299-ab6f-0b6f1f073582"
    },
    {
      "cell_type": "markdown",
      "source": [
        "# <a name=\"13intro\">4.1: Maximum Likelihood Estimation</a>\n",
        "\n",
        "---\n",
        "\n",
        "<figure>\n",
        "<img\n",
        "src=\"https://creazilla-store.fra1.digitaloceanspaces.com/cliparts/60165/arrows-in-the-target-clipart-md.png\"\n",
        "alt=\"Arrows Hitting a Target\" width = \"30%\"/>\n",
        "<figcaption aria-hidden=\"true\">\n",
        "Credit: <a href=\"https://creazilla.com/nodes/60165-arrows-in-the-target-clipart\">Arrows in the target</a>, Public Domain\n",
        "</figcaption>\n",
        "</figure> \n",
        "\n",
        "\n",
        "In Chapter 3, we explored properties of sample statistics picked from a\n",
        "population with a known distribution.\n",
        "\n",
        "-   We analyzed the [distribution of sample means](https://githubtocolab.com/CU-Denver-MathStats-OER/Statistical-Theory/blob/main/Chap3/10-Sampling-Dist-Mean.ipynb) picked from normal and exponential   distributions.\n",
        "-   We analyzed the [distribution of sample proportions](https://githubtocolab.com/CU-Denver-MathStats-OER/Statistical-Theory/blob/main/Chap3/11-Sampling-Dist-Prop.ipynb) independently pick from a binomial population.\n",
        "-   Sampling distributions allowed us to predict how likely we are to pick certain sample statistics when the population is fixed and known.\n",
        "\n",
        "However, statistical inference is applied in situations where <font color=\"dodgerblue\">**properties of the populations are\n",
        "unknown**</font>. A typical workflow for statistical inference is:\n",
        "\n",
        "1.  Pick one (not thousands) random sample from a population with   unknown characteristics.\n",
        "2.  Calculate sample statistic(s) to describe the sample.\n",
        "3.  Based on the characteristics of the sample, make   predictions/estimates for the unknown population characteristics.\n",
        "\n",
        "In this chapter, we explore two powerful estimation techniques, maximum\n",
        "likelihood estimation and the method of moments. We will investigate how\n",
        "well our estimators perform using general properties of estimators such\n",
        "as bias, efficiency, and mean square error.\n",
        "\n"
      ],
      "metadata": {
        "id": "_6wM-WvMNsYh"
      },
      "id": "_6wM-WvMNsYh"
    },
    {
      "cell_type": "markdown",
      "source": [
        "# <a name=\"13slot\">Case Study: Slot Machine Jackpots</a>\n",
        "\n",
        "---\n",
        "\n",
        "<figure>\n",
        "<img\n",
        "src=\"https://cdn.pixabay.com/photo/2018/06/22/17/54/casino-3491252_1280.jpg\"\n",
        "alt=\"Slot Machines\" width = \"50%\"/>\n",
        "<figcaption aria-hidden=\"true\">\n",
        "Credit: <a href=\"https://pixabay.com/photos/casino-game-room-slot-machines-3491252/\">Casino Game Room Slot Machines</a>, <a href=\"https://cdn.pixabay.com/photo/2018/06/22/17/54/casino-3491252_1280.jpg\">Open License</a> by <a href=\"https://pixabay.com/users/bru-no-1161770/\">[Brun-nO]</a>\n",
        "</figcaption>\n",
        "</figure> \n",
        "\n",
        "\n",
        "A strategic gambler believes they have identified a faulty slot machine which pays out significantly more money than the other slot machines. She and her friends watch the machine 24 hours a day for 7 days and observed the slot machine paid out the \\$$1,\\!000,\\!000$ jackpot prize 10 times during the week. How can she figure out whether the machine is faulty or whether the number of jackpot prizes are within reason?\n",
        "\n"
      ],
      "metadata": {
        "id": "uD1ZoutMVEri"
      },
      "id": "uD1ZoutMVEri"
    },
    {
      "cell_type": "markdown",
      "source": [
        "## <a name=\"13q1\">Question 1</a>\n",
        "\n",
        "---\n",
        "\n",
        "They decide to compare the performance of the suspect slot machine to other slot machines. They pick a random sample of $n=4$ other slot machines and record how many jackpot prizes each machine pays over a one week time frame. Let random variable $X$ denote the number of jackpots a randomly selected slot machine pays out in week. What distribution do you think best models $X$? Give a corresponding formula for the probability mass function of $X$.\n",
        "\n",
        "-   *Hint: Should we use a discrete or continuous random variable?*\n",
        "-   *Hint: See either [appendix of common discrete random   variables](https://githubtocolab.com/CU-Denver-MathStats-OER/Statistical-Theory/blob/main/Chap2/07-Common-Discrete-RandVar.ipynb) or [appendix   of common continuous random   variables](https://githubtocolab.com/CU-Denver-MathStats-OER/Statistical-Theory/blob/main/Chap2/08-Common-Continuous-Distributions.ipynb) for   additional help.*\n",
        "\n",
        "### <a name=\"13sol1\">Solution to Question 1</a>\n",
        "\n",
        "---\n",
        "\n",
        "<br>  \n",
        "<br>  \n",
        "<br>\n",
        "\n"
      ],
      "metadata": {
        "id": "FNnehJv9VJ2e"
      },
      "id": "FNnehJv9VJ2e"
    },
    {
      "cell_type": "markdown",
      "source": [
        "## <a name=\"13collect\">Collecting Data</a>\n",
        "\n",
        "---\n",
        "\n",
        "We will simulate collecting a data sample.\n",
        "\n",
        "-   Run the code cell below to “secretly” generate a population mean that we store in `true.mean`.\n",
        "-   The command `set.seed(827)` will seed the randomization so we all have the same population mean.\n",
        "-   Do not print the output to screen. Keep `true.mean` secret for now!"
      ],
      "metadata": {
        "id": "3p7JM1mJVQZY"
      },
      "id": "3p7JM1mJVQZY"
    },
    {
      "cell_type": "code",
      "execution_count": 2,
      "metadata": {
        "id": "629c6a29-4cf5-4aeb-ae0b-6d20824c6af6"
      },
      "outputs": [],
      "source": [
        "# set randomization for seeding population mean\n",
        "set.seed(827)  \n",
        "\n",
        "# pick a population mean that will be fixed but unknown to us\n",
        "true.mean <- sample(3:8, size=1)"
      ],
      "id": "629c6a29-4cf5-4aeb-ae0b-6d20824c6af6"
    },
    {
      "cell_type": "markdown",
      "metadata": {
        "id": "6a50d4e9-2d7e-435d-926d-fc02ab66e8d0"
      },
      "source": [
        "Next, we generate a sample size $n=4$.\n",
        "\n",
        "-   Run the code cell below to generate your random sample.\n",
        "-   Each observation $x_i$ in the vector `x` corresponds to the number of jackpots a randomly selected slot machine paid out in one week.\n",
        "-   The command `set.seed(612)` will seed the randomization so my sample `x` remains fixed. -   You can delete the command `set.seed(612)` to generate a different random sample picked from the same population. -   Then you can compare the estimate obtained from your sample with the estimate based on the sample generated below.\n",
        "-   Inspect the values in your sample after running."
      ],
      "id": "6a50d4e9-2d7e-435d-926d-fc02ab66e8d0"
    },
    {
      "cell_type": "code",
      "execution_count": 3,
      "metadata": {
        "colab": {
          "base_uri": "https://localhost:8080/",
          "height": 34
        },
        "id": "76c44a5e-51a8-47fd-b12f-81d5ab146fdc",
        "outputId": "50cc3b23-2aa5-4ea3-a584-f97d9b26051e"
      },
      "outputs": [
        {
          "output_type": "display_data",
          "data": {
            "text/html": [
              "<style>\n",
              ".list-inline {list-style: none; margin:0; padding: 0}\n",
              ".list-inline>li {display: inline-block}\n",
              ".list-inline>li:not(:last-child)::after {content: \"\\00b7\"; padding: 0 .5ex}\n",
              "</style>\n",
              "<ol class=list-inline><li>9</li><li>8</li><li>6</li><li>5</li></ol>\n"
            ],
            "text/markdown": "1. 9\n2. 8\n3. 6\n4. 5\n\n\n",
            "text/latex": "\\begin{enumerate*}\n\\item 9\n\\item 8\n\\item 6\n\\item 5\n\\end{enumerate*}\n",
            "text/plain": [
              "[1] 9 8 6 5"
            ]
          },
          "metadata": {}
        }
      ],
      "source": [
        "set.seed(612)\n",
        "\n",
        "x <- rpois(4, true.mean)\n",
        "x"
      ],
      "id": "76c44a5e-51a8-47fd-b12f-81d5ab146fdc"
    },
    {
      "cell_type": "markdown",
      "metadata": {
        "id": "20eff27f-e81a-4e4b-8321-27f7023a2b02"
      },
      "source": [
        "-   The sample generated by `set.seed(612)` is\n",
        "\n",
        "$$x_1=9 \\ ,\\  x_2=8\\ ,\\  x_3=6 \\ , \\ x_4=5.$$\n",
        "\n"
      ],
      "id": "20eff27f-e81a-4e4b-8321-27f7023a2b02"
    },
    {
      "cell_type": "markdown",
      "source": [
        "## <a name=\"13q2\">Question 2</a>\n",
        "\n",
        "---\n",
        "\n",
        "Using the probability mass function from [Question 1](#13q1) and your sample generated by the code cell above stored in `x`, what is the probability of picking the random sample $x_1$, $x_2$, $x_3$, $x_4$ stored in `x`?\n",
        "Your answer will be a formula that depends on the parameter $\\lambda$.\n",
        "\n",
        "### <a name=\"13sol2\">Solution to Question 2</a>\n",
        "\n",
        "---\n",
        "\n",
        "<br>  \n",
        "<br>  \n",
        "<br>  \n",
        "\n"
      ],
      "metadata": {
        "id": "4ag0CSfJXuGr"
      },
      "id": "4ag0CSfJXuGr"
    },
    {
      "cell_type": "markdown",
      "source": [
        "# <a name=\"13like-intro\">What Is the Probability of Picking Our Random Sample?</a>\n",
        "\n",
        "---\n",
        "\n",
        "We motivate maximum likelihood estimation with the following question:\n",
        "\n",
        "> <font color=\"dodgerblue\">What is the most likely value for the unknown parameter $\\theta$ given we know a random sample of values $x_1, x_2, \\ldots x_n$?</font>\n",
        "\n",
        "The <font color=\"dodgerblue\">**likelihood function**</font>\n",
        "$$\\color{dodgerblue}{L(\\theta)= L( \\theta \\mid x_1, x_2, \\ldots x_n)}$$ gives the likelihood of the parameter $\\theta$ given the observed sample data. A <font color=\"dodgerblue\">**maximum likelihood estimate (MLE)**</font>, denoted\n",
        "$\\color{dodgerblue}{\\mathbf{\\hat{\\theta}_{\\rm MLE}}}$, is the value of $\\theta$ that gives the maximum value of the likelihood function $L(\\theta)$.\n",
        "\n",
        "<br>\n",
        "\n",
        "### <font color=\"mediumseagreen\">A Note About Notation<font color=\"dodgerblue\">\n",
        "\n",
        "---\n",
        "\n",
        "In statistics, we typically <font color=\"mediumseagreen\">**use Greek letters to denote population parameters**</font>, and <font color=\"mediumseagreen\">**we use “hat\" notation to indicate an estimator**</font> for the value of a population parameter.\n",
        "\n",
        "-   <font color=\"mediumseagreen\">*The notation $\\theta$ is the generic notation typically used to represent a parameter.*</font>\n",
        "-   <font color=\"mediumseagreen\">*The notation $\\hat{\\theta}$ denotes an estimator for $\\theta$.*</font>\n",
        "\n"
      ],
      "metadata": {
        "id": "iCuokIpVX4Hv"
      },
      "id": "iCuokIpVX4Hv"
    },
    {
      "cell_type": "markdown",
      "source": [
        "## <a name=\"13q3\">Question 3</a>\n",
        "\n",
        "---\n",
        "\n",
        "Find the value of $\\lambda$ that maximizes the likelihood function from\n",
        "[Question 2](#13q2).\n",
        "\n",
        "\n",
        "<font color=\"mediumseagreen\">*Hint: Recall from calculus that global maxima occur at end points or critical points where $\\frac{d L}{d \\lambda} = 0$ or is undefined.*</font>\n",
        "\n",
        "### <a name=\"13sol3\">Solution to Question 3</a>\n",
        "\n",
        "---\n",
        "\n",
        "<br>  \n",
        "<br>  \n",
        "<br>\n",
        "\n"
      ],
      "metadata": {
        "id": "BMGTldoCYGHc"
      },
      "id": "BMGTldoCYGHc"
    },
    {
      "cell_type": "markdown",
      "source": [
        "### <a name=\"13plot-pois\">Plotting the Likelihood Function for Question 3</a>\n",
        "\n",
        "---\n",
        "\n",
        "Given the random sample $x_1=9, x_2=8, x_3=6, x_4=5$, the resulting likelihood derived in [Question 2](#13q2) is\n",
        "\n",
        "$$L({\\color{tomato}\\lambda}) = \\frac{{\\color{tomato}\\lambda}^{28} e^{-4{\\color{tomato}\\lambda}}}{(9!)(8!)(6!)(5!)}.$$\n",
        "\n",
        "In [Question 3](#13q3), we find the value of $\\lambda$ that maximizes the likelihood function $L(\\lambda)$ using optimization methods from calculus. It is always a good idea to check our work. If we have access to technology, we can plot the likelihood function and identify the approximate value of $\\lambda$ that gives the maximum value of\n",
        "$L(\\lambda)$."
      ],
      "metadata": {
        "id": "jz8K-k52ZKsp"
      },
      "id": "jz8K-k52ZKsp"
    },
    {
      "cell_type": "code",
      "execution_count": 40,
      "metadata": {
        "colab": {
          "base_uri": "https://localhost:8080/",
          "height": 437
        },
        "id": "0ffe11ce-5a42-4575-b782-49342d9aa845",
        "outputId": "a3931f8e-1dea-4821-f20d-cc4465ca3430"
      },
      "outputs": [
        {
          "output_type": "display_data",
          "data": {
            "text/plain": [
              "Plot with title “Plot of Likelihood Function”"
            ],
            "image/png": "[encoded data removed]"
          },
          "metadata": {
            "image/png": {
              "width": 420,
              "height": 420
            }
          }
        }
      ],
      "source": [
        "lam <- seq(3, 11, 0.1)  # values of lambda on x-axis\n",
        "like.est <- lam^(sum(x)) * exp(-4*lam)/prod(factorial(x))  # values of L(lambda)\n",
        "\n",
        "plot(lam, like.est,  # plot lam and likelihood on x and y axes\n",
        "     type = \"l\",  # connect plotted points with a curve\n",
        "     ylab = \"L(lambda)\",  # y-axis label\n",
        "     xlab = \"lambda\",  # x-axis label\n",
        "     main = \"Plot of Likelihood Function\",   # main label\n",
        "     cex.lab=1.5, cex.axis=1.5, cex.main=1.5)   # size of font on labels\n",
        "points(x = 7, y = 0.0002515952, cex = 4, pch = 20, col = \"tomato\")  # point at max\n",
        "\n",
        "axis(1, at=c(7), col.axis = \"tomato\", cex.axis=1.6)  # marking MLE estimate\n",
        "abline(v = 7, col = \"tomato\", lwd = 2, lty = 2)  # marking MLE estimate"
      ],
      "id": "0ffe11ce-5a42-4575-b782-49342d9aa845"
    },
    {
      "cell_type": "markdown",
      "metadata": {
        "id": "0d6b1abc-f631-4506-bcb2-8ecb84951400"
      },
      "source": [
        "## <a name=\"13reveal-lam\">Revealing the Actual Value of $\\lambda$</a>\n",
        "\n",
        "---\n",
        "\n",
        "We picked a value for $\\lambda$ and stored it in `true.mean`. We have not revealed what the actual value of $\\lambda$ is. Run the code cell below to see that actual value of $\\lambda$, and compare your answer for $\\hat{\\lambda}_{\\rm{MLE}}$ in [Question 3](#13q3) with the actual value of $\\lambda$."
      ],
      "id": "0d6b1abc-f631-4506-bcb2-8ecb84951400"
    },
    {
      "cell_type": "code",
      "execution_count": null,
      "metadata": {
        "id": "cd59a320-8107-4402-9246-6043c536f5d3"
      },
      "outputs": [],
      "source": [
        "true.mean"
      ],
      "id": "cd59a320-8107-4402-9246-6043c536f5d3"
    },
    {
      "cell_type": "markdown",
      "metadata": {
        "id": "91fcf11a-0861-4086-af25-cbce3a58e2e8"
      },
      "source": [
        "# <a name=\"13def-like\">A Formula for the Likelihood Function</a>\n",
        "\n",
        "---\n",
        "\n",
        "Let $f(x; \\theta)$ denote the pdf of a random variable $X$ with\n",
        "associated parameter $\\theta$. Suppose $X_1, X_2, \\ldots , X_n$ are random samples from this distribution, and $x_1, x_2, \\ldots , x_n$ are the corresponding observed values.\n",
        "\n",
        "$$\\color{dodgerblue}{\\boxed{L(\\theta \\mid x_1, x_2, \\ldots , x_n) = f(x_1; \\theta) f(x_2; \\theta) \\ldots f(x_n; \\theta) = \\prod_{i=1}^n f(x_i; \\theta).}}$$\n",
        "\n",
        "<br>\n",
        "\n",
        "### <font color=\"mediumseagreen\">Important Note About Variables and Constants in $L(\\theta)$</font>\n",
        "\n",
        "---\n",
        "\n",
        "<font color=\"mediumseagreen\">*In the formula for the likelihood function, the values $x_1, x_2, \\ldots x_n$ are fixed values, and the parameter $\\theta$ is the variable in the likelihood function. We consider what happens to the value of the $L(\\theta)$ when we vary the value of $\\theta$. The MLE $\\hat{\\theta}_{\\rm{MLE}}$ is the value of $\\theta$ that gives the maximum value of $L(\\theta)$.*</font>\n",
        "\n"
      ],
      "id": "91fcf11a-0861-4086-af25-cbce3a58e2e8"
    },
    {
      "cell_type": "markdown",
      "source": [
        "# <a name=\"13like-r1\">Defining the Likelihood Function in R</a>\n",
        "\n",
        "---\n",
        "\n",
        "In [Question 2](#13q2) we derived an expression for the likelihood function $L(\\lambda)$ given the random sample of $n=4$ values we picked from $X \\sim \\mbox{Pois}( \\lambda)$ and stored in the vector `x`. Recall Poisson distributions have pmf\n",
        "\n",
        "$$f(x; \\lambda) = \\frac{\\lambda^x e^{-\\lambda}}{x!} \\qquad \\mbox{for } x = 0, 1, 2, \\ldots .$$\n",
        "\n",
        "If we pick a sample of $n=4$ values we denote $X_1 = x_1$, $X_2 = x_2$, $X_3 = x_3$, and $X_4 = x_4$, then the likelihood function is\n",
        "\n",
        "$$L(\\lambda) = L(\\theta \\mid x_1, x_2, \\ldots , x_n) = \\left( \\frac{\\lambda^{x_1} e^{-\\lambda}}{x_1!} \\right) \\left( \\frac{\\lambda^{x_2} e^{-\\lambda}}{x_2!} \\right) \\left( \\frac{\\lambda^{x_3} e^{-\\lambda}}{x_3!} \\right) \\left( \\frac{\\lambda^{x_4} e^{-\\lambda}}{x_4!} \\right).$$\n",
        "\n",
        "We will use the random sample generated by the code cell below. Note `x` is a vector consisting of values `x[1]` $=9$, `x[2]` $=8$, `x[3]` $=6$,\n",
        "and `x[4]` $=5$."
      ],
      "metadata": {
        "id": "JNAYDYgjZ36S"
      },
      "id": "JNAYDYgjZ36S"
    },
    {
      "cell_type": "code",
      "execution_count": 41,
      "metadata": {
        "colab": {
          "base_uri": "https://localhost:8080/",
          "height": 34
        },
        "id": "877b6a34-a131-4d85-a054-d9aab472a45b",
        "outputId": "9869296d-ee04-4cf4-971c-2148e9987a16"
      },
      "outputs": [
        {
          "output_type": "display_data",
          "data": {
            "text/html": [
              "<style>\n",
              ".list-inline {list-style: none; margin:0; padding: 0}\n",
              ".list-inline>li {display: inline-block}\n",
              ".list-inline>li:not(:last-child)::after {content: \"\\00b7\"; padding: 0 .5ex}\n",
              "</style>\n",
              "<ol class=list-inline><li>9</li><li>8</li><li>6</li><li>5</li></ol>\n"
            ],
            "text/markdown": "1. 9\n2. 8\n3. 6\n4. 5\n\n\n",
            "text/latex": "\\begin{enumerate*}\n\\item 9\n\\item 8\n\\item 6\n\\item 5\n\\end{enumerate*}\n",
            "text/plain": [
              "[1] 9 8 6 5"
            ]
          },
          "metadata": {}
        }
      ],
      "source": [
        "set.seed(612)\n",
        "\n",
        "x <- rpois(4, true.mean)\n",
        "x"
      ],
      "id": "877b6a34-a131-4d85-a054-d9aab472a45b"
    },
    {
      "cell_type": "markdown",
      "metadata": {
        "id": "7812c05e-db9c-49e1-9ac4-a1b18e5fdb8f"
      },
      "source": [
        "## <a name=\"13prod-r\">Defining the Likelihood Function as Product</a>\n",
        "\n",
        "---\n",
        "\n",
        "In the code cell below, we input the likelihood function.\n",
        "\n",
        "-   To define a symbolic function, we use the command<br>   `function(lam) [expr]`.  \n",
        " -   We use `lam` to denote our variable, $\\lambda$.   \n",
        " -   We enter an appropriate formula in place of `[expr]`.\n",
        "-   `[expr]` is the product of the $4$ pmf's of the Poisson distribution.\n",
        "-   We name the newly created function `like`.\n",
        "-   To evaluate the function `like` at $\\lambda = 7$, we use the command  `like(7)`."
      ],
      "id": "7812c05e-db9c-49e1-9ac4-a1b18e5fdb8f"
    },
    {
      "cell_type": "code",
      "execution_count": 42,
      "metadata": {
        "colab": {
          "base_uri": "https://localhost:8080/",
          "height": 34
        },
        "id": "91b2318f-88e6-4ae4-9ed9-a9b381993e22",
        "outputId": "538d1678-b37b-44ed-be87-0d3592ff9ddb"
      },
      "outputs": [
        {
          "output_type": "display_data",
          "data": {
            "text/html": [
              "0.000251595186703524"
            ],
            "text/markdown": "0.000251595186703524",
            "text/latex": "0.000251595186703524",
            "text/plain": [
              "[1] 0.0002515952"
            ]
          },
          "metadata": {}
        }
      ],
      "source": [
        "# #| eval: true\n",
        "like <- function(lam) lam^x[1] * exp(-lam)/factorial(x[1]) * \n",
        "  lam^x[2] * exp(-lam)/factorial(x[2]) *  \n",
        "  lam^x[3] * exp(-lam)/factorial(x[3]) * \n",
        "  lam^x[4] * exp(-lam)/factorial(x[4])\n",
        "\n",
        "like(7)"
      ],
      "id": "91b2318f-88e6-4ae4-9ed9-a9b381993e22"
    },
    {
      "cell_type": "markdown",
      "metadata": {
        "id": "1e8f5d87-84eb-48cf-bfa1-e398b4dc17b7"
      },
      "source": [
        "## <a name=\"13use-for-prod\">Improving the Code for a Likelihood Function</a>\n",
        "\n",
        "---\n",
        "\n",
        "If we have a sample size $n=100$ instead of $n=4$, we would not want to code the likelihood as we did in the previous code cell. We can streamline the process using a for loop that utilizes the structure of likelihood functions:\n",
        "\n",
        "-   Each term in the product uses the same formula for the pmf.\n",
        "-   The likelihood function is a product of all the pmf’s.\n",
        "\n",
        "In the slot machine example, we have $X \\sim \\mbox{Pois}(\\lambda)$ and a\n",
        "sample $x_1=9$, $x_2=8$ , $x_3=6$, and $x_4=5$. The vectors `x` and\n",
        "`pmf` are therefore\n",
        "\n",
        "$$ x = (9, 8, 6, 5) \\quad \\mbox{and} \\quad \\mbox{pmf} = \\left( \\frac{\\lambda^{9} e^{-\\lambda}}{9!} , \\frac{\\lambda^{8} e^{-\\lambda}}{8!} , \\frac{\\lambda^{6} e^{-\\lambda}}{6!} , \\frac{\\lambda^{5} e^{-\\lambda}}{5!} \\right).$$\n",
        "\n",
        "The likelihood function `like` is the product of the entries in the vector `pmf`. We can substitute different values for the parameter $\\lambda$ into the function `like` and compute different values of the likelihood function.\n",
        "\n",
        "-   Run the code cell below to compute the likelihood that $\\lambda = 7$ given the sample  `x`."
      ],
      "id": "1e8f5d87-84eb-48cf-bfa1-e398b4dc17b7"
    },
    {
      "cell_type": "code",
      "execution_count": 43,
      "metadata": {
        "colab": {
          "base_uri": "https://localhost:8080/",
          "height": 34
        },
        "id": "2485da26-110b-4a05-91de-c1961c8615ab",
        "outputId": "59b231ff-11e6-47d7-f1a2-c8ca048c4bce"
      },
      "outputs": [
        {
          "output_type": "display_data",
          "data": {
            "text/html": [
              "0.000251595186703524"
            ],
            "text/markdown": "0.000251595186703524",
            "text/latex": "0.000251595186703524",
            "text/plain": [
              "[1] 0.0002515952"
            ]
          },
          "metadata": {}
        }
      ],
      "source": [
        "like <- function(lam){ \n",
        "  pmf <- lam^x * exp(-lam)/factorial(x) \n",
        "  prod(pmf)\n",
        "}\n",
        "\n",
        "like(7)"
      ],
      "id": "2485da26-110b-4a05-91de-c1961c8615ab"
    },
    {
      "cell_type": "markdown",
      "metadata": {
        "id": "439876a4-0464-4915-8c88-f477ec6d3ef8"
      },
      "source": [
        "### <a name=\"13r-dist\">Using Built-In Distribution Functions</a>\n",
        "\n",
        "---\n",
        "\n",
        "For many common distributions, R has built in functions to compute the values of pmf’s for many discrete random variables and pdf’s for continuous random variables. For Poisson distributions, the function `dpois(x, lamb)` calculates the value of $f(x; \\lambda) = \\frac{\\lambda^{x} e^{-\\lambda}}{x!}$.\n",
        "\n",
        "-   Therefore, we can use `dpois(x, lam)`  in place of the   expression `lam^x * exp(-lam)/factorial(x)`.\n",
        "-   The code cell below makes use of the `dpois(x, lam)` function and   saves us the trouble of typing the formula out ourselves!\n",
        "-   Run the code to evaluate the function at $\\lambda = 7$ to make sure   the result is consistent with our previous functions."
      ],
      "id": "439876a4-0464-4915-8c88-f477ec6d3ef8"
    },
    {
      "cell_type": "code",
      "execution_count": 44,
      "metadata": {
        "colab": {
          "base_uri": "https://localhost:8080/",
          "height": 34
        },
        "id": "eeeab7c7-3482-4425-81c1-1098a195397a",
        "outputId": "b89a8837-9566-455a-ea8f-db4ecb6a1e03"
      },
      "outputs": [
        {
          "output_type": "display_data",
          "data": {
            "text/html": [
              "0.000251595186703524"
            ],
            "text/markdown": "0.000251595186703524",
            "text/latex": "0.000251595186703524",
            "text/plain": [
              "[1] 0.0002515952"
            ]
          },
          "metadata": {}
        }
      ],
      "source": [
        "like <- function(lam){ \n",
        "  pmf <- dpois(x, lam) \n",
        "  prod(pmf)\n",
        "}\n",
        "\n",
        "like(7)"
      ],
      "id": "eeeab7c7-3482-4425-81c1-1098a195397a"
    },
    {
      "cell_type": "markdown",
      "metadata": {
        "id": "0f132e46-3a14-4f74-8be6-a2e6da4d2055"
      },
      "source": [
        "## <a name=\"13r-opt\">Optimizing the Likelihood Function in R</a>\n",
        "\n",
        "---\n",
        "\n",
        "In [Question 3](#13q3) we used methods from calculus to find the value of\n",
        "$\\theta$ that maximizes the likelihood function $L(\\theta)$. We can\n",
        "check those results using the command\n",
        "`optimize(function, interval, maximum = TRUE)`.\n",
        "\n",
        "-   `function` is the name of the function where we stored the   likelihood function.\n",
        "-   `interval` is the interval of parameter values over which we   maximize the likelihood function.   \n",
        "  -   Using `c(0,100)` means we will find the maximum of \n",
        "   $L(\\theta)$ over $0 < \\lambda < 100$.   \n",
        "  -   Based on the values in our sample, we can narrow the interval to save a little computing time.\n",
        "-   `maximum = TRUE` option means `optimize()` will identify the maximum  of the function.   \n",
        "  -   Note the default for `optimize()` is to find the minimum value.\n",
        "-   Run the command below to calculate $\\hat{\\lambda}_{\\rm{MLE}}$ for   the slot machine example."
      ],
      "id": "0f132e46-3a14-4f74-8be6-a2e6da4d2055"
    },
    {
      "cell_type": "code",
      "execution_count": 47,
      "metadata": {
        "colab": {
          "base_uri": "https://localhost:8080/",
          "height": 114
        },
        "id": "dd6b3005-a26d-454f-b548-25c72c82c5cb",
        "outputId": "46fd1506-df32-433b-ff48-d81262ccbb31"
      },
      "outputs": [
        {
          "output_type": "display_data",
          "data": {
            "text/html": [
              "<dl>\n",
              "\t<dt>$maximum</dt>\n",
              "\t\t<dd>7.00000122105018</dd>\n",
              "\t<dt>$objective</dt>\n",
              "\t\t<dd>0.000251595186703417</dd>\n",
              "</dl>\n"
            ],
            "text/markdown": "$maximum\n:   7.00000122105018\n$objective\n:   0.000251595186703417\n\n\n",
            "text/latex": "\\begin{description}\n\\item[\\$maximum] 7.00000122105018\n\\item[\\$objective] 0.000251595186703417\n\\end{description}\n",
            "text/plain": [
              "$maximum\n",
              "[1] 7.000001\n",
              "\n",
              "$objective\n",
              "[1] 0.0002515952\n"
            ]
          },
          "metadata": {}
        }
      ],
      "source": [
        "optimize(like, c(0,100), maximum = TRUE)"
      ],
      "id": "dd6b3005-a26d-454f-b548-25c72c82c5cb"
    },
    {
      "cell_type": "markdown",
      "source": [
        "# STOPPED HERE"
      ],
      "metadata": {
        "id": "KkSf6aXoKxVC"
      },
      "id": "KkSf6aXoKxVC"
    },
    {
      "cell_type": "markdown",
      "metadata": {
        "id": "9b060b0e-901f-4a9b-8205-09fe588b5932"
      },
      "source": [
        "# <a name=\"13\">A First Look at Properties of MLE’s</a>\n",
        "\n",
        "---\n",
        "\n",
        "The random sample $x_1=9$, $x_2=8$ , $x_3=6$, and $x_4=5$ picked from\n",
        "$X \\sim \\mbox{Pois}(\\lambda)$ gave $\\hat{\\lambda}_{\\rm{MLE}} = 7$. If we\n",
        "had picked another random sample $n=4$ from the population\n",
        "$X \\sim \\mbox{Pois}(\\lambda)$, how much will our estimate for\n",
        "$\\hat{\\lambda}_{\\rm{MLE}}$ change? Some desirable properties for the\n",
        "distribution of $\\hat{\\lambda}_{\\rm{MLE}}$ values from different random\n",
        "samples would be:\n",
        "\n",
        "-   We would like the estimates to be <font color=\"dodgerblue\">**unbiased**</font>.   -   We would like, on average, $\\hat{\\lambda}_{\\rm{MLE}}$ to equal the actual value of $\\lambda$.   -   In other words, we would like $E \\left(\\hat{\\lambda}_{\\rm{MLE}} \\right)=\\lambda$.\n",
        "-   Hopefully the values of $\\hat{\\lambda}_{\\rm{MLE}}$ <font color=\"dodgerblue\">**do not vary very**</font> much from sample to sample. -   One way to measure this is to consider       $\\mbox{Var} \\left( \\hat{\\lambda}_{\\rm{MLE}} \\right)$. -   The smaller $\\mbox{Var} \\left( \\hat{\\lambda}_{\\rm{MLE}} \\right)$ the better. -   The variance, $\\mbox{Var} \\left( \\hat{\\lambda}_{\\rm{MLE}} \\right)$, is called the <font color=\"dodgerblue\">**efficiency**</font> of the $\\hat{\\lambda}_{\\rm{MLE}}$\n",
        "-   <font color=\"dodgerblue\">**We hope the estimates make practical sense**</font>.\n",
        "\n",
        "## <a name=\"13\">Question 4</a>\n",
        "\n",
        "---\n",
        "\n",
        "If population $X \\sim \\mbox{Pois}(\\lambda)$ is the number of jackpot\n",
        "payouts a randomly selected slot machine has in one week:\n",
        "\n",
        "-   What is the practical interpretation of the value of $\\lambda$?\n",
        "-   If we pick a random sample of 4 slot machines and find $x_1=9$,   $x_2=8$ , $x_3=6$, and $x_4=5$, explain why an estimate   $\\hat{\\lambda}_{\\rm{MLE}} = 7$ makes practical sense.\n",
        "\n",
        "### <a name=\"13\">Solution to Question 4</a>\n",
        "\n",
        "---\n",
        "\n",
        "<br>  \n",
        "<br>  \n",
        "<br>\n",
        "\n"
      ],
      "id": "9b060b0e-901f-4a9b-8205-09fe588b5932"
    },
    {
      "cell_type": "markdown",
      "source": [
        "## <a name=\"13\">Picking Another Random Sample</a>\n",
        "\n",
        "---\n",
        "\n",
        "The random sample $(9,8,6,5)$ picked from\n",
        "$X \\sim \\mbox{Pois}(\\lambda)$ gave $\\hat{\\lambda}_{\\rm{MLE}} = 7$. The\n",
        "actual value of $\\lambda$ we revealed the `true.mean` we used was\n",
        "$\\lambda = 8$. Below we simulate picking another random sample of $n=4$\n",
        "values from the same population, $X \\sim \\mbox{Pois}(8)$. Then we will\n",
        "compute $\\hat{\\lambda}_{\\rm{MLE}} = 7$ for this sample and see if we can\n",
        "start to pick up on a pattern.\n",
        "\n",
        "-   Run the code cell below to generate a new random sample stored in   `new.x`."
      ],
      "metadata": {
        "id": "ef7ZBftSKBoJ"
      },
      "id": "ef7ZBftSKBoJ"
    },
    {
      "cell_type": "code",
      "execution_count": null,
      "metadata": {
        "id": "437555e7-b279-497a-b792-a03ebb1600ff"
      },
      "outputs": [],
      "source": [
        "# #| eval: true\n",
        "set.seed(012)  # fixes randomization\n",
        "\n",
        "new.x <- rpois(4, 8)  # pick another random sample n=4 from Pois(8)\n",
        "new.x  # print results"
      ],
      "id": "437555e7-b279-497a-b792-a03ebb1600ff"
    },
    {
      "cell_type": "markdown",
      "metadata": {
        "id": "83325787-43fc-40b0-96d9-3d5055121962"
      },
      "source": [
        "The new sample is $x_1=4$, $x_2=11$ , $x_3=13$, and $x_4=6$.\n",
        "\n",
        "-   Run the code cell to compute the value of $\\hat{\\lambda}_{\\rm{MLE}}$   for this new sample."
      ],
      "id": "83325787-43fc-40b0-96d9-3d5055121962"
    },
    {
      "cell_type": "code",
      "execution_count": null,
      "metadata": {
        "id": "ac0b1a69-ebd7-431b-9843-60acbab01c4d"
      },
      "outputs": [],
      "source": [
        "# #| eval: true\n",
        "new.like <- function(lam){ new.pmf <- dpois(new.x, lam) prod(new.pmf)\n",
        "}\n",
        "\n",
        "optimize(new.like, c(0,100), maximum = TRUE)"
      ],
      "id": "ac0b1a69-ebd7-431b-9843-60acbab01c4d"
    },
    {
      "cell_type": "markdown",
      "metadata": {
        "id": "533a1526-3655-4a56-81c4-23c2a0075103"
      },
      "source": [
        "### <a name=\"13\">Comparing Estimates</a>\n",
        "\n",
        "---\n",
        "\n",
        "Let’s compare the two random samples and their corresponding values for\n",
        "the MLE estimate.\n",
        "\n",
        "|  <font size=\"3\">Sample</font> &nbsp; &nbsp; &nbsp; &nbsp; &nbsp; &nbsp; &nbsp; &nbsp; &nbsp;  | <font size=\"3\">Value of MLE</font> |\n",
        "|---------------------------------------|--------------|\n",
        "| $\\large{(9, 8, 6, 5)}$ | $\\large{7}$          |\n",
        "| $\\large{ (4, 11, 13, 6)}$ | $\\large{8.5}$        |\n",
        "\n",
        "-   Neither gives the correct value for $\\lambda$ which is actually 8.   -   One estimate is too small and the other is too large.\n",
        "-   We hope if we average all such MLE estimates together, we get the   actual value $8$.\n",
        "-   We have some sense of the variation, but generating many (10,000)   random samples and looking at the distribution of many more MLE   estimates will tell us more information about the variability.\n",
        "\n",
        "## <a name=\"13\">Analyzing a Distribution of MLE’s</a>\n",
        "\n",
        "---\n",
        "\n",
        "The for loop in the code cell below generates a distribution of MLE’s\n",
        "for $\\lambda$ based on 10,000 random samples size $n=4$ picked from\n",
        "$X \\sim \\mbox{Pois}(8)$. Inside the for loop we:\n",
        "\n",
        "-   Pick a random sample size $n=4$ stored in `temp.x`.\n",
        "-   Calculate the MLE based on `temp.x` that we store in the vector   `pois.mle`.\n",
        "\n",
        "Then we plot a histogram to display `pois.mle`, the distribution of\n",
        "MLE’s from the 10,000 random samples each size $n=4$\n",
        "\n",
        "-   Run the code cell below to generate and plot a distribution of   MLE’s."
      ],
      "id": "533a1526-3655-4a56-81c4-23c2a0075103"
    },
    {
      "cell_type": "code",
      "execution_count": 5,
      "metadata": {
        "colab": {
          "base_uri": "https://localhost:8080/",
          "height": 166
        },
        "id": "fec878d9-fdf4-46fb-be0f-00a01a976e1f",
        "outputId": "cdef4d7a-ee77-4529-cca0-2fd1b0c70f65"
      },
      "outputs": [
        {
          "output_type": "error",
          "ename": "ERROR",
          "evalue": "ignored",
          "traceback": [
            "Error in parse(text = x, srcfile = src): <text>:6:3: unexpected symbol\n5: { temp.x <- rpois(4, 8)  # given random sample like.pois <- function(lam){  # define likelihood function   pmf.pois <- dpois(temp.x, lam)     prod(pmf.pois)  \n6: } pois.mle\n     ^\nTraceback:\n"
          ]
        }
      ],
      "source": [
        "pois.mle <- numeric(10000)\n",
        "\n",
        "for (i in 1:10000)\n",
        "{ temp.x <- rpois(4, 8)  # given random sample like.pois <- function(lam){  # define likelihood function   pmf.pois <- dpois(temp.x, lam)     prod(pmf.pois)  \n",
        "} pois.mle[i] <- optimize(like.pois, c(0,100), maximum = TRUE)$maximum  # find max of likelihood function\n",
        "}\n",
        "\n",
        "hist(pois.mle,     breaks = 20,    xlab = \"MLE\",    main = \"Dist. of MLE's for Poisson Dist\")\n",
        "abline(v = 8, col = \"blue\", lwd = 2)  # plot at actual value of lambda"
      ],
      "id": "fec878d9-fdf4-46fb-be0f-00a01a976e1f"
    },
    {
      "cell_type": "markdown",
      "metadata": {
        "id": "eb34894f-cd03-4868-840f-f7e103c70d20"
      },
      "source": [
        "## <a name=\"13\">Question 5</a>\n",
        "\n",
        "---\n",
        "\n",
        "Calculate the mean and variance of the distribution of MLE’s stored in\n",
        "`mle.pois` and interpret the results. How would you describe the shape\n",
        "of the distribution? What would you expect to happen to the distribution\n",
        "as $n$ gets larger?\n",
        "\n",
        "### <a name=\"13\">Solution to Question 5</a>\n",
        "\n",
        "---"
      ],
      "id": "eb34894f-cd03-4868-840f-f7e103c70d20"
    },
    {
      "cell_type": "code",
      "execution_count": null,
      "metadata": {
        "id": "1ec71d3f-b41a-43a9-973a-fd1c3ecb2267"
      },
      "outputs": [],
      "source": [
        "# use code cell to answer questions above"
      ],
      "id": "1ec71d3f-b41a-43a9-973a-fd1c3ecb2267"
    },
    {
      "cell_type": "markdown",
      "metadata": {
        "id": "5c83ce78-30d2-48d8-8fa8-2ed872b4dea0"
      },
      "source": [
        "<br>  \n",
        "<br>  \n",
        "<br>\n",
        "\n",
        "# <a name=\"13\">Practice: Finding Formulas for $L(\\theta)$</a>\n",
        "\n",
        "---\n",
        "\n",
        "## <a name=\"13\">Question 6</a>\n",
        "\n",
        "---\n",
        "\n",
        "Give a formula the likelihood function given the sample\n",
        "$(x_1, x_2, x_3, x_4) = (1,3,3,2)$ is randomly selected from\n",
        "$X \\sim \\mbox{Binom}(3,p)$.\n",
        "\n",
        "### <a name=\"13\">Solution to Question 6</a>\n",
        "\n",
        "---\n",
        "\n",
        "<br>  \n",
        "<br>  \n",
        "<br>\n",
        "\n",
        "## <a name=\"13\">Question 7</a>\n",
        "\n",
        "---\n",
        "\n",
        "Give a formula the likelihood function given the sample\n",
        "$x_1, x_2, x_3, \\ldots, x_n$ is randomly selected from\n",
        "$X \\sim \\mbox{Exp}(\\lambda)$.\n",
        "\n",
        "### <a name=\"13\">Solution to Question 7</a>\n",
        "\n",
        "---\n",
        "\n",
        "<br>  \n",
        "<br>  \n",
        "<br>\n",
        "\n",
        "# <a name=\"13\">Practice: Maximizing the Likelihood Function</a>\n",
        "\n",
        "---\n",
        "\n",
        "## <a name=\"13\">Question 8</a>\n",
        "\n",
        "---\n",
        "\n",
        "Using your answer from [Question 6](#13q6), find the MLE for $p$ when\n",
        "$(x_1, x_2, x_3, x_4) = (1,3,3,2)$ comes from\n",
        "$X \\sim \\mbox{Binom}(3,p)$.\n",
        "\n",
        "### <a name=\"13\">Solution to Question 8</a>\n",
        "\n",
        "---\n",
        "\n",
        "<br>  \n",
        "<br>  \n",
        "<br>\n",
        "\n",
        "## <a name=\"13\">Steps for Finding MLE</a>\n",
        "\n",
        "---\n",
        "\n",
        "Steps for finding MLE, $\\hat{\\theta}_{\\rm MLE}$:\n",
        "\n",
        "1.  Find a formula the likelihood function.\n",
        "\n",
        "$$L(\\theta \\mid x_1, x_2, \\ldots , x_n) = f(x_1; \\theta) f(x_2; \\theta) \\ldots f(x_n; \\theta) = \\prod_{i=1}^n f(x_i; \\theta)$$\n",
        "\n",
        "1.  Maximize the likelihood function.   1.  Take the derivative of $L$ with respect to $\\theta$   2.  Find critical points of $L$ where $\\frac{dL}{d\\theta}=0$ (or is       undefined).   3.  Evaluate $L$ at each critical point and identify the MLE.\n",
        "2.  Check your work!\n",
        "\n",
        "## <a name=\"13\">Plotting the Likelihood Function for Question 8</a>\n",
        "\n",
        "---\n",
        "\n",
        "Running the code cell below will generate a plot of the likelihood\n",
        "function from [Question 8](#13q8). We should verify the maximum of the graph\n",
        "coincides with our answer to [Question 8](#13q8). There is nothing to edit in\n",
        "the code cell below."
      ],
      "id": "5c83ce78-30d2-48d8-8fa8-2ed872b4dea0"
    },
    {
      "cell_type": "code",
      "execution_count": null,
      "metadata": {
        "id": "78a7d8ad-c876-4de7-b0ea-dc5332e94758"
      },
      "outputs": [],
      "source": [
        "# #| eval: true\n",
        "p <- seq(0, 1, 0.01)  # values of p on x-axis\n",
        "like.binom <- 9 * p^9 * (1-p)^3  # values of L(p)\n",
        "cv <- 9 * (0.75)^9 * (1-0.75)^3\n",
        "\n",
        "plot(p, like.binom,  # plot p and likelihood on x and y axes    type = \"l\",  # connect plotted points with a curve    ylab = \"L(p)\",  # y-axis label    xlab = \"p\",  # x-axis label    main = \"Plot of Likelihood Function\")  # main label\n",
        "\n",
        "points(x = 0.75, y = cv, cex = 2, pch = 20, col = \"tomato\")  # point at max\n",
        "\n",
        "axis(1, at=c(0.75), col.axis = \"tomato\", pos=0)  # marking MLE estimate\n",
        "abline(v = 0.75, col = \"tomato\", lwd = 2, lty = 2)  # marking MLE estimate"
      ],
      "id": "78a7d8ad-c876-4de7-b0ea-dc5332e94758"
    },
    {
      "cell_type": "markdown",
      "metadata": {
        "id": "f1b949d3-879d-4abd-981f-c0a48de49ae1"
      },
      "source": [
        "## <a name=\"13\">Question 9</a>\n",
        "\n",
        "---\n",
        "\n",
        "Recall the sample from [Question 6](#13q6). Complete the code cell below to\n",
        "build a formula for the likelihood function and find the value of\n",
        "$\\hat{p}_{\\rm{MLE}}$. Run the completed code cell to check your answer\n",
        "in [Question 8](#13q8).\n",
        "\n",
        "-   *Hint: See earlier code for [constructing the likelihood   function](#sec-like-r) and [finding the maximum](#sec-opt-r).*\n",
        "-   *Hint: When considering the interval option for `optimize()`, keep   in mind we are estimating the value of a proportion, $p$.*\n",
        "\n",
        "### <a name=\"13\">Solution to Question 9</a>\n",
        "\n",
        "---\n",
        "\n",
        "Replace each of the four `??` in the code cell below with appropriate\n",
        "code. Then run the completed code to compute the MLE estimate\n",
        "$\\hat{p}_{\\rm{MLE}}$ for the sample `x` picked from\n",
        "$X \\sim \\mbox{Binom}(3,p)$."
      ],
      "id": "f1b949d3-879d-4abd-981f-c0a48de49ae1"
    },
    {
      "cell_type": "code",
      "execution_count": null,
      "metadata": {
        "id": "23361851-3dad-405d-8d92-39f349728c4e"
      },
      "outputs": [],
      "source": [
        "x <- c(1, 3, 3, 2)  # given random sample\n",
        "\n",
        "like.binom <- function(p){ pmf.binom <- ??  # replace ?? prod(??)  # replace ??\n",
        "}\n",
        "\n",
        "optimize(??, ??, maximum = TRUE)  # replace both ??"
      ],
      "id": "23361851-3dad-405d-8d92-39f349728c4e"
    },
    {
      "cell_type": "markdown",
      "metadata": {
        "id": "7f23e501-572d-47a8-aba7-bfc1a602a5c1"
      },
      "source": [
        "# <a name=\"13\">Using the Log-Likelihood Function</a>\n",
        "\n",
        "---\n",
        "\n",
        "Logarithmic functions such as $y = \\ln{x}$ are increasing functions. The\n",
        "larger the input $x$, the larger the output $y = \\ln{x}$ becomes. Thus,\n",
        "the value of $\\theta$ that gives the maximum value of $L(\\theta)$ will\n",
        "also correspond to the value of $\\theta$ that gives the maximum value of\n",
        "the function $y = \\ln{(L(\\theta))}$, and vice versa\n",
        "\n",
        "> <font color=\"dodgerblue\">The value of $\\theta$ that maximizes\n",
        "> functions $y=\\ln{(L(\\theta}))$ is the value of $\\theta$ that maximizes\n",
        "> $L(\\theta)$.</font>\n",
        "\n",
        "We call the the natural log of the likelihood function, $\\color{dodgerblue}{y=\\ln{(L(\\theta}))}$, the <font color=\"dodgerblue\">**log-likelihood function**</font>.\n",
        "\n",
        "In statistics, the term “log” usually means “natural log”. The notation\n",
        "$\\log{()}$ is often used to denote a natural log instead of using\n",
        "$\\ln{()}$. This can be confusing since you may have previously learned\n",
        "$\\log{()}$ implies “log base 10”. Similarly, in R\n",
        "\n",
        "-   The function `log(x)` is the natural log of x.\n",
        "-   The function `log10(x)` is the log base 10 of x.\n",
        "\n",
        "\n",
        "## <a name=\"13\">Why Maximize $y=\\ln{(L(\\theta}))$ Instead of $L(\\theta)$?</a>\n",
        "\n",
        "---\n",
        "\n",
        "Consider the likelihood function from [Question 7](#13q7),\n",
        "\n",
        "$$L({\\color{tomato}\\lambda}) = {\\color{\\tomato}\\lambda}^n e^{- {\\color{tomato}\\lambda} \\sum_i x_i}.$$\n",
        "To find the critical values, we first need to find an expression for the\n",
        "derivative $\\frac{d L}{d \\lambda}$.\n",
        "\n",
        "-   We need to apply the product rule.\n",
        "-   We need to apply the chain rule to compute the derivative of   $e^{- {\\color{tomato}\\lambda} \\sum_i x_i}$.\n",
        "-   After finding an expression for the derivative, we would then need   to solve a complicated equation.\n",
        "-   <font color=\"dodgerblue\">**We can use key properties of the   natural log to help make the differentiation easier!**</font>\n",
        "\n",
        "## <a name=\"13\">Useful Properties of the Natural Log</a>\n",
        "\n",
        "---\n",
        "\n",
        "The four properties of natural logs listed below will be helpful to\n",
        "recall when working with log-likelihood functions.\n",
        "\n",
        "1.  $\\ln{(A \\cdot B)} = \\ln{A} + \\ln{B}$\n",
        "2.  $\\ln{\\left( \\frac{A}{B} \\right)} = \\ln{A} - \\ln{B}$\n",
        "3.  $\\ln{(A^k)} = k \\ln{A}$\n",
        "4.  $\\ln{e^k} = k$\n",
        "\n",
        "Likelihood functions are by definition a product of functions and often\n",
        "involve $e$. Taking the natural log of the likelihood function converts\n",
        "a product to a sum. <font color=\"dodgerblue\">**It is much easier\n",
        "to take the derivative of sums than products!**</font>\n",
        "\n",
        "## <a name=\"13\">Question 10</a>\n",
        "\n",
        "---\n",
        "\n",
        "Give a simplified expression for the log-likelihood function\n",
        "corresponding to the likelihood function from the exponential\n",
        "distribution in [Question 7](#13q7),\n",
        "\n",
        "$$L({\\color{tomato}\\lambda}) = {\\color{\\tomato}\\lambda}^n e^{- {\\color{tomato}\\lambda} \\sum_i x_i}.$$\n",
        "\n",
        "### <a name=\"13\">Solution to Question 10</a>\n",
        "\n",
        "---\n",
        "\n",
        "<br>  \n",
        "<br>  \n",
        "<br>\n",
        "\n",
        "# <a name=\"13\">Steps for Finding MLE Using a Log-Likelihood Function</a>\n",
        "\n",
        "---\n",
        "\n",
        "Steps for finding MLE, $\\hat{\\theta}_{\\rm MLE}$, using a log-likelihood\n",
        "function:\n",
        "\n",
        "1.  Find a formula the likelihood function.\n",
        "\n",
        "$$L(\\theta \\mid x_1, x_2, \\ldots , x_n) = f(x_1; \\theta) f(x_2; \\theta) \\ldots f(x_n; \\theta) = \\prod_{i=1}^n f(x_i; \\theta)$$\n",
        "2. Apply the natural log to $L(\\theta)$ to derive the log-likelihood\n",
        "function $y = \\ln{(L(\\theta))}$. Simplify using [properties of the\n",
        "natural log](#sec-log-prop) before moving to the next step.\n",
        "\n",
        "1.  Maximize the log-likelihood function.   1.  Take the derivative of $y=\\ln{(L(\\theta))}$ with respect to       $\\theta$   2.  Find critical points of the log-likelihood function where       $\\frac{dy}{d\\theta}=0$ (or is undefined).   3.  Evaluate the log-likelihood function $y=\\ln{(L(\\theta))}$ at       each critical point and identify the MLE.\n",
        "2.  Check your work!\n",
        "\n",
        "## <a name=\"13\">Question 11</a>\n",
        "\n",
        "---\n",
        "\n",
        "Find a general formula for the MLE of $\\lambda$ when\n",
        "$x_1, x_2, x_3, \\ldots, x_n$ comes from $X \\sim \\mbox{Exp}(\\lambda)$.\n",
        "Your answer will depend on the $x_i$’s.\n",
        "\n",
        "-   *Hint: Maximize the log-likelihood function from [Question 10](#13q10).*\n",
        "-   *Hint: Be sure you simplify the log-likelihood before taking the   derivative.*\n",
        "-   *Hint: Recall $\\lambda$ is the variable when differentiating, and   treat each $x_i$ as a constant.*\n",
        "\n",
        "## <a name=\"13\">Solution to Question 11</a>\n",
        "\n",
        "---\n",
        "\n",
        "<br>  \n",
        "<br>  \n",
        "<br>\n",
        "\n",
        "## <a name=\"13\">Analytic Results</a>\n",
        "\n",
        "---\n",
        "\n",
        "In [Question 11](#13q11), we found a general formula for\n",
        "$\\hat{\\lambda}_{\\rm{MLE}}$, the MLE of exponential distributions in\n",
        "general. We cannot use R to numerically check our analytic results since\n",
        "our result is a formula that depends on the values of the $x_i$’s. We\n",
        "can test our formula on with many different random samples and check to\n",
        "make sure our formula gives consistent answers with numeric solutions in\n",
        "R. Using calculus to derive the general formula for\n",
        "$\\hat{\\lambda}_{\\rm{MLE}}$ in [Question 11](#13q11) is incredibly convenient\n",
        "since now we have a “shortcut” formula that we can use for finding MLE\n",
        "estimates for any random sample from an exponential distributions.\n",
        "\n",
        "> <font color=\"dodgerblue\">It is really important to practice\n",
        "> deriving general formulas for MLE estimates even though we can use R\n",
        "> to numerically solve some MLE examples.</font>\n",
        "\n",
        "## <a name=\"13\">Question12</a>\n",
        "\n",
        "---\n",
        "\n",
        "Find a general formula for the MLE of $\\lambda$ when\n",
        "$x_1, x_2, x_3, \\ldots, x_n$ comes from $X \\sim \\mbox{Pois}(\\lambda)$.\n",
        "Your answer will depend on the $x_i$’s.\n",
        "\n",
        "### <a name=\"13\">Solution to Question 12</a>\n",
        "\n",
        "---\n",
        "\n",
        "<br>  \n",
        "<br>  \n",
        "<br>\n",
        "\n",
        "## <a name=\"13\">Question 13</a>\n",
        "\n",
        "---\n",
        "\n",
        "Suppose a random variable with $X_1=5$, $X_2=9$, $X_3=9$, and $X_4=10$\n",
        "is drawn from a distribution with pdf\n",
        "\n",
        "$$f(x; \\theta) = \\frac{\\theta}{2\\sqrt{x}}e^{-\\theta \\sqrt{x}}, \\quad \\mbox{where x $>0$}.$$\n",
        "\n",
        "Find an MLE for $\\theta$.\n",
        "\n",
        "### <a name=\"13\">Solution to Question 13</a>\n",
        "\n",
        "---\n",
        "\n",
        "<br>  \n",
        "<br>  \n",
        "<br>\n",
        "\n",
        "## <a name=\"13\">Question 13</a>\n",
        "\n",
        "---\n",
        "\n",
        "Consider the random sample of $n=40$ values picked from a geometric\n",
        "distribution $X \\sim \\mbox{Geom}(p)$ that are stored in the vector\n",
        "`x.geom`. Note the proportion `true.p` is unknown for now.\n",
        "\n",
        "-   Run the code cell below to generate a random value for `true.p`   (which is hidden) and create `x.geom` which is printed to the   screen."
      ],
      "id": "7f23e501-572d-47a8-aba7-bfc1a602a5c1"
    },
    {
      "cell_type": "code",
      "execution_count": null,
      "metadata": {
        "id": "7cfc23ec-6308-4eb8-92fc-73ab5ebab6f4"
      },
      "outputs": [],
      "source": [
        "# #| eval: true\n",
        "set.seed(117)  # fixes randomization of true.p and x.geom\n",
        "true.p <- sample(seq(0.1, 0.9, 0.1), size=1)  # true.p hidden for now\n",
        "\n",
        "x.geom <- rgeom(40, true.p)  # generate a random sample n=40  \n",
        "x.geom"
      ],
      "id": "7cfc23ec-6308-4eb8-92fc-73ab5ebab6f4"
    },
    {
      "cell_type": "markdown",
      "metadata": {
        "id": "9e87c96a-eaba-4a4f-b1bf-ced16d9b7430"
      },
      "source": [
        "### <a name=\"13\">Question 13a</a>\n",
        "\n",
        "---\n",
        "\n",
        "Based on the sample stored in `x.geom` in the previous code cell, find\n",
        "the MLE estimate for $\\hat{p}_{\\rm{MLE}}$.\n",
        "\n",
        "-   *Hint: Use the partially complete R code cell below to help!*\n",
        "\n",
        "#### Solution to Question 13a\n",
        "\n",
        "---\n",
        "\n",
        "Replace each of the four `??` in the code cell below with appropriate\n",
        "code. Then run the completed code to compute the MLE estimate\n",
        "$\\hat{p}_{\\rm{MLE}}$ for the sample (size $n=40)$ `x.geom` randomly\n",
        "selected from $X \\sim \\mbox{Geom}(p)$."
      ],
      "id": "9e87c96a-eaba-4a4f-b1bf-ced16d9b7430"
    },
    {
      "cell_type": "code",
      "execution_count": null,
      "metadata": {
        "id": "946f9219-ade4-46cd-833e-07a34b3620bf"
      },
      "outputs": [],
      "source": [
        "like.geom <- function(p){ pmf.geom <- ??  # replace ?? prod(??)  # replace ??\n",
        "}\n",
        "\n",
        "\n",
        "optimize(??, ??, maximum = TRUE)  # replace both ??"
      ],
      "id": "946f9219-ade4-46cd-833e-07a34b3620bf"
    },
    {
      "cell_type": "markdown",
      "metadata": {
        "id": "013b68bf-55d0-4f10-818c-2f3c2ac217f3"
      },
      "source": [
        "### <a name=\"13\">Question 13b</a>\n",
        "\n",
        "---\n",
        "\n",
        "Complete the partially completed code cell below to generate a plot of a\n",
        "distribution of MLE’s for $\\hat{p}_{\\rm{MLE}}$ based on 10,000 randomly\n",
        "selected samples from $X \\sim \\mbox{Geom}(p)$.\n",
        "\n",
        "#### <a name=\"13\">Solution to Question 13b</a>\n",
        "\n",
        "---\n",
        "\n",
        "Replace each of the four `??` in the code cell below with appropriate\n",
        "code. Then run the completed code to create and plot a distribution of\n",
        "MLE’s for samples size $n=40$ from $X \\sim \\mbox{Geom}(p)$."
      ],
      "id": "013b68bf-55d0-4f10-818c-2f3c2ac217f3"
    },
    {
      "cell_type": "code",
      "execution_count": null,
      "metadata": {
        "id": "7c11476a-83db-47e5-83d4-20304efe2b54"
      },
      "outputs": [],
      "source": [
        "mle.geom <- numeric(10000)\n",
        "\n",
        "for (i in 1:10000)\n",
        "{ x.temp <- rgeom(40, true.p)  # pick random sample size n=40 geom.like <- function(p){   geom.pmf <- ??  # replace ??   prod(??)  # replace ??\n",
        "} mle.geom[i] <- optimize(??, ??, maximum = TRUE)$maximum  # replace both ??\n",
        "}\n",
        "\n",
        "hist(mle.geom,     breaks = 20,    xlab = \"MLE\",    main = \"Dist. of MLE's\")\n",
        "abline(v = true.p, col = \"dodgerblue\", lwd = 2)  # actual value of p\n",
        "abline(v = true.p, col = \"tomato\", lwd = 2)  # expected value of MLE"
      ],
      "id": "7c11476a-83db-47e5-83d4-20304efe2b54"
    },
    {
      "cell_type": "markdown",
      "metadata": {
        "id": "fc225cd3-4be3-4341-b39c-8e43e0a7fb7d"
      },
      "source": [
        "### <a name=\"13\">Question 13c</a>\n",
        "\n",
        "---\n",
        "\n",
        "Based on the distribution of MLE’s in [Question 13b\\], do you believe\n",
        "the estimator $\\hat{p}_{\\rm{MLE}}$ is unbiased or biased? Explain why or\n",
        "why not.\n",
        "\n",
        "### <a name=\"13\">Solution to Question 13c</a>\n",
        "\n",
        "---\n",
        "\n",
        "<br>  \n",
        "<br>  \n",
        "<br>\n",
        "\n",
        "# <a name=\"13\">Summary of Results from Common Distributions</a>\n",
        "\n",
        "---\n",
        "\n",
        "So far we have observed:\n",
        "\n",
        "-   **Poisson distributions:** $X \\sim \\mbox{Pois}(\\lambda)$ have   $\\displaystyle \\hat{\\lambda}_{\\rm MLE} = \\bar{x}$\n",
        "-   **Binomial distributions:** $X \\sim \\mbox{Binom}(n,p)$ have   $\\displaystyle \\hat{p}_{\\rm MLE} = \\hat{p}$.\n",
        "-   **Exponential distributions:** $X \\sim \\mbox{Exp}(\\lambda)$ have   $\\displaystyle \\hat{\\lambda}_{\\rm MLE} = \\frac{1}{\\bar{x}}$.\n",
        "-   **Geometric distributions:** $X \\sim \\mbox{Geom}(p)$ have   $\\displaystyle \\hat{p}_{\\rm MLE} = \\frac{1}{\\bar{x}}$.\n",
        "\n",
        "For **normal distributions** $X \\sim N(\\mu, \\sigma)$, the maximum\n",
        "likelihood estimates of $\\mu$ and $\\theta$ are\n",
        "$$\\hat{\\mu}_{\\rm{MLE}} = \\frac{1}{n} \\sum_{i=1}^n x_i = \\bar{x} \\quad \\mbox{ and } \\quad \\hat{\\sigma}_{\\rm{MLE}} = \\sqrt{\\frac{1}{n} \\sum_{i=1}^n (x_i - \\bar{x})^2}.$$\n",
        "\n",
        "-   See [this   post](https://towardsdatascience.com/maximum-likelihood-estimation-explained-normal-distribution-6207b322e47f)   for a derivation of the MLE formulas for $\\hat{\\mu}_{\\rm{MLE}}$ and   $\\hat{\\sigma}_{\\rm{MLE}}$.\n",
        "-   [These materials from Penn   State](https://online.stat.psu.edu/stat415/lesson/1/1.2) also   explain how to derive the MLE formulas for $\\hat{\\mu}_{\\rm{MLE}}$   and $\\hat{\\sigma}_{\\rm{MLE}}$.\n",
        "\n",
        "# <a name=\"13\">Recap of Maximum Likelihood Estimates</a>\n",
        "\n",
        "---\n",
        "\n",
        "-   <font color=\"dodgerblue\">**MLE’s give reasonable estimates   that make sense!**</font>\n",
        "-   MLE’s are often good estimators since they satisfy several nice   properties   -   <font color=\"dodgerblue\">*Consistency*</font>: As we get       more data (sample size goes to infinity), the estimator becomes       more and more accurate and converges to the actual value of       $\\theta$.   -   <font color=\"dodgerblue\">*Normality*</font>: As we get       more data, the distribution of MLE’s converge to a normal       distribution.   -   <font color=\"dodgerblue\">*Efficiency*</font>: They have       the smallest possible variance for a consistent estimator.\n",
        "-   <font color=\"tomato\">**The downside is finding MLE’s are not   always easy (or possible).**</font>\n",
        "\n",
        "---\n",
        "\n",
        "![Creative Commons\n",
        "License](https://i.creativecommons.org/l/by-nc-sa/4.0/88x31.png) <nbsp>\n",
        "\n",
        "*Statistical Methods: Exploring the Uncertain* by [Adam\n",
        "Spiegler](https://github.com/CU-Denver-MathStats-OER/Statistical-Theory)\n",
        "is licensed under a [Creative Commons\n",
        "Attribution-NonCommercial-ShareAlike 4.0 International\n",
        "License](http://creativecommons.org/licenses/by-nc-sa/4.0/)."
      ],
      "id": "fc225cd3-4be3-4341-b39c-8e43e0a7fb7d"
    }
  ],
  "nbformat": 4,
  "nbformat_minor": 5,
  "metadata": {
    "kernelspec": {
      "name": "ir",
      "display_name": "R",
      "language": "R"
    },
    "colab": {
      "provenance": []
    }
  }
}