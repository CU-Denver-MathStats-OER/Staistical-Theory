{
 "cells": [
  {
   "cell_type": "markdown",
   "metadata": {},
   "source": [
    "# Section 1.2: Exploring Categorical Data\n",
    "\n",
    "------------------------------------------------------------------------\n",
    "\n",
    "Additional Reading:\n",
    "\n",
    "-   See [Overview of Plotting Data in\n",
    "    R](https://githubtocolab.com/CU-Denver-MathStats-OER/Statistical-Theory/blob/main/Appendix/Overview-of-Plots.ipynb)\n",
    "    for further reading and examples about plotting in R.\n",
    "\n",
    "-   See [Fundamentals of Working with\n",
    "    Data](https://githubtocolab.com/CU-Denver-MathStats-OER/Statistical-Theory/blob/main/Appendix/Intro-to-Vectors-Dataframes.ipynb)\n",
    "    for further details about data types and structures in R.\n",
    "\n",
    "-   [R Graph Gallery](https://r-graph-gallery.com/) has examples of many\n",
    "    other types of graphs.\n",
    "\n",
    "# An Overview of Exploratory Data Analysis\n",
    "\n",
    "------------------------------------------------------------------------\n",
    "\n",
    "<span style=\"color: dodgerblue;\">**Exploratory data analysis**</span>,\n",
    "or <span style=\"color: dodgerblue;\">**EDA**</span> for short, can be\n",
    "thought of as a cycle:\n",
    "\n",
    "-   Generate questions about our data.\n",
    "-   Search for answers by visualizing, transforming, and modeling our\n",
    "    data.\n",
    "-   Use what we learn to refine your questions and/or generate new\n",
    "    questions.\n",
    "\n",
    "The main goal of EDA is to develop an understanding of your data. When\n",
    "we ask a question, the question focuses our attention on a specific part\n",
    "of the data set and helps us decide which graphs, models, or\n",
    "transformations to make.\n",
    "\n",
    "# Loading the `dplyr` Package\n",
    "\n",
    "------------------------------------------------------------------------\n",
    "\n",
    "The `dplyr` packages is perhaps one of the most useful R packages for\n",
    "<span style=\"color: dodgerblue;\">**data wrangling**</span> and EDA. Data\n",
    "wrangling is generally the cleaning, reorganizing, and transforming data\n",
    "so it can be more easily analyzed. `dplyr` also contains data sets that\n",
    "we can use to practice our wrangling and visualization skills. In this\n",
    "lab, we will work with the data set called `storms`.\n",
    "\n",
    "-   See [official dplyr\n",
    "    documentation](https://dplyr.tidyverse.org/articles/dplyr.html) for\n",
    "    a comprehensive tutorial.\n",
    "-   **Run the code cell below to load the `dplyr` package.**"
   ],
   "id": "71171f8b-2ab4-4152-a673-edf8f330ed33"
  },
  {
   "cell_type": "code",
   "execution_count": null,
   "metadata": {},
   "outputs": [],
   "source": [
    "# loads dplyr package\n",
    "library(dplyr)"
   ],
   "id": "f6594a42-04c5-4ec7-979e-46220a59d39f"
  },
  {
   "cell_type": "markdown",
   "metadata": {},
   "source": [
    "## Finding Help Documentation\n",
    "\n",
    "------------------------------------------------------------------------\n",
    "\n",
    "-   The code cell below opens a glossary tab of all (most?) functions\n",
    "    and data in the package `dplyr`."
   ],
   "id": "33e8970d-c4a0-457a-8657-4da4029903a4"
  },
  {
   "cell_type": "code",
   "execution_count": null,
   "metadata": {},
   "outputs": [],
   "source": [
    "# open glossary of dplyr functions\n",
    "help(package = \"dplyr\")"
   ],
   "id": "ef2741d4-68bb-4b57-9d26-996fbc867826"
  },
  {
   "cell_type": "markdown",
   "metadata": {},
   "source": [
    "-   The code cell below opens a help tab with information about the\n",
    "    `storms` data set."
   ],
   "id": "6d93ba12-33c7-4e3f-a644-35e8fd26c816"
  },
  {
   "cell_type": "code",
   "execution_count": null,
   "metadata": {},
   "outputs": [],
   "source": [
    "# opens help tab with info about storms data set\n",
    "?storms"
   ],
   "id": "c59097fd-acd4-4e3b-97b8-fd9c2111556e"
  },
  {
   "cell_type": "markdown",
   "metadata": {},
   "source": [
    "# The Structure of Data\n",
    "\n",
    "------------------------------------------------------------------------\n",
    "\n",
    "<span style=\"color: dodgerblue;\">**Data frames**</span> are\n",
    "two-dimensional data objects and are the **fundamental** data structure\n",
    "used by most of R’s libraries of functions and data sets.\n",
    "\n",
    "-   Tabular data is <span style=\"color: dodgerblue;\">**tidy**</span> if\n",
    "    each row corresponds to a different observation and each column\n",
    "    corresponds to a different variable.\n",
    "\n",
    "Each column of a data frame is a <span\n",
    "style=\"color: dodgerblue;\">**variable**</span> (stored as a **vector**)\n",
    "of possibly different data types.\n",
    "\n",
    "-   If a variable is measured or counted by a number, it is called a\n",
    "    <span style=\"color: dodgerblue;\">**quantitative**</span> or <span\n",
    "    style=\"color: dodgerblue;\">**numerical**</span> variable.\n",
    "-   Quantitative variables may be <span\n",
    "    style=\"color: dodgerblue;\">**discrete**</span> (integers) or <span\n",
    "    style=\"color: dodgerblue;\">**continuous**</span> (decimals).\n",
    "-   If a variable groups observations into different categories or\n",
    "    rankings, it is a <span\n",
    "    style=\"color: dodgerblue;\">**qualitative**</span> or <span\n",
    "    style=\"color: dodgerblue;\">**categorical**</span> variable.\n",
    "-   The different categories of a qualitative variable are called <span\n",
    "    style=\"color: dodgerblue;\">**levels**</span> or <span\n",
    "    style=\"color: dodgerblue;\">**classes**</span>.\n",
    "-   Levels may be labeled as character strings without any implicit\n",
    "    order.\n",
    "-   Levels may be labeled as character strings, and there may be a\n",
    "    ranking of the levels.\n",
    "-   Levels may be labeled with a integer without any implicit order.\n",
    "-   Levels may be labeled with an integer that does indicate an order or\n",
    "    ranking.\n",
    "\n",
    "# Exploring Our Data\n",
    "\n",
    "------------------------------------------------------------------------\n",
    "\n",
    "Below are some common functions used to get a first introduction to our\n",
    "data:\n",
    "\n",
    "-   `summary(df)` gives numerical summary of all variables in data frame\n",
    "    with generic name `df`.\n",
    "-   `glimpse(df)` gives a glimpse of the data frame `df`.\n",
    "-   `str(df)` summarizes the structure of all variables in data frame\n",
    "    `df`\n",
    "-   `head(df)` view first 6 rows in data frame.\n",
    "-   `tail(df)` view last 6 rows in data frame.\n",
    "-   `View(df)` to view the full data frame.\n",
    "-   <span style=\"color: tomato;\">It typically is not recommended to\n",
    "    include a `View()` command in your work</span> since that opens the\n",
    "    entire data set.\n",
    "-   The goal of EDA is to provide nice summaries of a data set so we do\n",
    "    not need to look at all the raw data!\n",
    "\n",
    "## Question 1\n",
    "\n",
    "------------------------------------------------------------------------\n",
    "\n",
    "Let’s get to know the `storms` data set. Using some (or all) of the\n",
    "commands above, answer the following questions:\n",
    "\n",
    "-   How many observations are in data set `storms`?\n",
    "-   How many variables are `storms`?\n",
    "    -   Which variables are quantitative and which are categorical?\n",
    "    -   Which categorical variables have a ranking? Which do not?\n",
    "-   Hint: Avoid using the `View()` function. Instead, use `head()` or\n",
    "    `tail()` if you want to get a sense of what the raw data looks like.\n",
    "\n",
    "<span style=\"color: dodgerblue;\">**Experiment with some of the functions\n",
    "in the code cell below to answer the questions. Then type your answer in\n",
    "the space below.**</span>"
   ],
   "id": "d8dc448b-8d1e-4ea7-a3ee-722c9b9db451"
  },
  {
   "cell_type": "code",
   "execution_count": null,
   "metadata": {},
   "outputs": [],
   "source": [
    "summary(storms)  # summary of each variable in storms\n",
    "#head(storms)  # prints first 6 rows to screen\n",
    "#tail(storms)  # prints last 6 rows to screen\n",
    "#glimpse(storms)  # gives a glimpse of the data set\n",
    "#str(storms)   # summary of data structure"
   ],
   "id": "6ddf04e3-2384-42c1-8e86-0c8fc94d0cab"
  },
  {
   "cell_type": "markdown",
   "metadata": {},
   "source": [
    "### Solution to Question 1\n",
    "\n",
    "------------------------------------------------------------------------\n",
    "\n",
    "  \n",
    "  \n",
    "  \n",
    "\n",
    "## Question 2:\n",
    "\n",
    "------------------------------------------------------------------------\n",
    "\n",
    "What additional information would you like to know about the `storms`\n",
    "data set that you were unable to find? What questions do you have about\n",
    "the data? In particular, what data is missing and why?\n",
    "\n",
    "### Solution to Question 2:\n",
    "\n",
    "------------------------------------------------------------------------\n",
    "\n",
    "  \n",
    "  \n",
    "  \n",
    "\n",
    "# Data Types\n",
    "\n",
    "------------------------------------------------------------------------\n",
    "\n",
    "R has 6 basic [data\n",
    "types](https://cran.r-project.org/doc/manuals/r-release/R-lang.html#Basic-types):\n",
    "\n",
    "1.  <span style=\"color: dodgerblue;\">**character**</span>: collections\n",
    "    of characters. E.g., `\"a\"`, `\"hello world!\"`\n",
    "2.  <span style=\"color: dodgerblue;\">**double**</span>: decimal numbers.\n",
    "    e.g., `1.2`, `1.0`\n",
    "3.  <span style=\"color: dodgerblue;\">**integer**</span>: whole numbers.\n",
    "    In R, you must add `L` to the end of a number to specify it as an\n",
    "    integer. E.g., `1L` is an integer but `1` is a double.\n",
    "4.  <span style=\"color: dodgerblue;\">**logical**</span>: Boolean values,\n",
    "    `TRUE` and `FALSE`\n",
    "5.  <span style=\"color: dodgerblue;\">**complex**</span>: complex\n",
    "    numbers. E.g., `1+3i`\n",
    "6.  <span style=\"color: dodgerblue;\">**raw**</span>: a type to hold raw\n",
    "    bytes.\n",
    "\n",
    "See the Appendix for an [Fundamentals of Working with\n",
    "Data](https://githubtocolab.com/CU-Denver-MathStats-OER/Statistical-Theory/blob/main/Appendix/Intro-to-Vectors-Dataframes.ipynb)\n",
    "for more information.\n",
    "\n",
    "## Checking Data Types Using `typeof()`\n",
    "\n",
    "------------------------------------------------------------------------\n",
    "\n",
    "-   The `typeof()` function returns the R internal type or storage mode\n",
    "    of any object."
   ],
   "id": "d073616a-3477-4d67-8c24-fcea0917a70a"
  },
  {
   "cell_type": "code",
   "execution_count": null,
   "metadata": {},
   "outputs": [],
   "source": [
    "typeof(1.0)\n",
    "typeof(2)\n",
    "typeof(3L)\n",
    "typeof(\"hello\")\n",
    "typeof(TRUE)\n",
    "typeof(storms$status)\n",
    "typeof(storms$year)\n",
    "typeof(storms$name)"
   ],
   "id": "76327396-a75e-4593-8738-5bce87c6e0de"
  },
  {
   "cell_type": "markdown",
   "metadata": {},
   "source": [
    "## Extracting a Variable By Name with `$`\n",
    "\n",
    "------------------------------------------------------------------------\n",
    "\n",
    "In the command `typeof(storms$status)`, notice we refer to just the\n",
    "`status` variable of the `storms` data frame. <span\n",
    "style=\"color: dodgerblue;\">**A variable from a data frame may be\n",
    "extracted using `$` and then specifying the name of the desired\n",
    "variable**.</span>\n",
    "\n",
    "-   First indicate the name of the data frame, `storms`.\n",
    "-   Followed by a dollar sign `$`.\n",
    "-   Then indicate the name of the variable, for example `wind`.\n",
    "-   The `storms$wind` is a vector that contains the wind speed of each\n",
    "    storm."
   ],
   "id": "e6a1f3c5-86b9-45a5-8976-5844edccdcc2"
  },
  {
   "cell_type": "code",
   "execution_count": null,
   "metadata": {},
   "outputs": [],
   "source": [
    "is.vector(storms)  # storms is not a vector\n",
    "is.data.frame(storms)  # storms is a data frame\n",
    "is.data.frame(storms$wind)  # status is not a data frame\n",
    "is.vector(storms$wind)  # status is a vector"
   ],
   "id": "4dc89878-f7ee-4b9b-83ce-2f13f9b60269"
  },
  {
   "cell_type": "markdown",
   "metadata": {},
   "source": [
    "## Investigating Data Types with `is.numeric()`\n",
    "\n",
    "------------------------------------------------------------------------\n",
    "\n",
    "-   The `is.numeric(x)` function tests whether or not an object `x` is\n",
    "    numeric.\n",
    "-   The `is.character(x)` function tests whether `x` is a character or\n",
    "    not.\n",
    "-   The `is.factor(x)` function tests whether `x` is a factor or not.\n",
    "-   <span style=\"color: dodgerblue;\">**Note: Categorical data is\n",
    "    typically stored as a `factor` in R.**</span>"
   ],
   "id": "c39c373a-8001-4126-8222-bac7bda9d628"
  },
  {
   "cell_type": "code",
   "execution_count": null,
   "metadata": {},
   "outputs": [],
   "source": [
    "is.numeric(storms$year)  # year is numeric\n",
    "is.numeric(storms$category)  # category is also numeric\n",
    "is.numeric(storms$name)  # name is not numeric\n",
    "is.character(storms$name)  # name is character string"
   ],
   "id": "9fde6a9f-03cf-4841-9538-1f81c21c1449"
  },
  {
   "cell_type": "code",
   "execution_count": null,
   "metadata": {},
   "outputs": [],
   "source": [
    "is.numeric(storms$status)  # status is not numeric\n",
    "is.character(storms$status)  # status is not a character\n",
    "is.factor(storms$status)  # status is a factor which is categorical"
   ],
   "id": "2828a883-877f-442f-b91c-184000bf6b55"
  },
  {
   "cell_type": "markdown",
   "metadata": {},
   "source": [
    "## Converting Data Types\n",
    "\n",
    "------------------------------------------------------------------------\n",
    "\n",
    "## Converting Decimals to Integers\n",
    "\n",
    "------------------------------------------------------------------------\n",
    "\n",
    "From the summary of the `storms` data set we first found above, we see\n",
    "that the variables `year` and `month` are being stored as `double`.\n",
    "These variables actually are integer values.\n",
    "\n",
    "We can convert another variable of one format into another format using\n",
    "`as.[new_datatype]()`\n",
    "\n",
    "-   For example, to convert to year to `integer`, we use\n",
    "    `as.integer(storms$year)`.\n",
    "-   To convert a data type to character, we can use `as.character(x)`.\n",
    "-   To convert to a decimal (`double`), we can use `as.numeric(x)`"
   ],
   "id": "63cfbdc3-3ce2-4d7c-adf7-7cafaa3e6f55"
  },
  {
   "cell_type": "code",
   "execution_count": null,
   "metadata": {},
   "outputs": [],
   "source": [
    "typeof(storms$year)\n",
    "typeof(storms$month)\n",
    "storms$year <- as.integer(storms$year)\n",
    "storms$month <- as.integer(storms$month)\n",
    "typeof(storms$year)\n",
    "typeof(storms$month)"
   ],
   "id": "10d5a68a-e070-41bf-9ee7-b1c8653e5a5e"
  },
  {
   "cell_type": "markdown",
   "metadata": {},
   "source": [
    "## Converting to Categorical Data with `factor()`\n",
    "\n",
    "------------------------------------------------------------------------\n",
    "\n",
    "-   Sometimes we think a variable is one data type, but it is actually\n",
    "    being stored (and thus interpreted by R) as a different data type.\n",
    "-   One common issue is categorical data is stored as characters or\n",
    "    integers. We would like observations with the same values to be\n",
    "    group together.\n",
    "-   The `status` variable in `storms` is being properly stored as a\n",
    "    `factor`.\n",
    "-   The `category` variable in `storms` is being stored as a `numeric`\n",
    "    since it is ordinal.\n",
    "-   With ordinal categories, we may choose to keep it stored as\n",
    "    `numeric`, or we may prefer to treat them as factors."
   ],
   "id": "62797f9e-6eae-4f92-9487-3fbc7523af0a"
  },
  {
   "cell_type": "code",
   "execution_count": null,
   "metadata": {},
   "outputs": [],
   "source": [
    "summary(storms$category)"
   ],
   "id": "0ffbd2e7-431e-4806-baf0-0a5ce857f87d"
  },
  {
   "cell_type": "markdown",
   "metadata": {},
   "source": [
    "-   The summary of `category` computes statistics such as mean and\n",
    "    median.\n",
    "-   <span style=\"color: dodgerblue;\">**Typically with categorical data,\n",
    "    we prefer to count how many observations are in each class of the\n",
    "    variable.**</span>\n",
    "-   In the code cell below, we convert `category` to a factor, and then\n",
    "    observe the resulting summary."
   ],
   "id": "515767a2-035a-4472-972f-4b987a8723d1"
  },
  {
   "cell_type": "code",
   "execution_count": null,
   "metadata": {},
   "outputs": [],
   "source": [
    "storms$category <- factor(storms$category)\n",
    "summary(storms$category)"
   ],
   "id": "b65bee76-b0ae-469a-9554-fd4d590aca67"
  },
  {
   "cell_type": "markdown",
   "metadata": {},
   "source": [
    "## Assignment of New Objects\n",
    "\n",
    "------------------------------------------------------------------------\n",
    "\n",
    "Notice in the code cell above, we replace the original integers in the\n",
    "`category` column with a integers that are now stored as different\n",
    "levels of a categorical variable.\n",
    "\n",
    "-   To store a data structure in the computer’s memory we must assign it\n",
    "    a name.\n",
    "    -   In this case, we choose to give the variable the same name, an\n",
    "        therefore overwrite the original `category` column.\n",
    "-   <span style=\"color: dodgerblue;\">**Data structures can be stored\n",
    "    using the assignment operator `<-`.**</span>\n",
    "\n",
    "# Frequency and Relative Frequency Tables\n",
    "\n",
    "------------------------------------------------------------------------\n",
    "\n",
    "-   `table(x)` creates a frequency table for categorical variable `x`.\n",
    "-   `table(x, y)` creates a two-way (or contingency) table for two\n",
    "    categorical variables `x` and `y`\n",
    "-   `prop.table([table])` creates a relative frequency table relative to\n",
    "    the grand total.\n",
    "    -   The input of `prop.table()` must be a table.\n",
    "    -   `prop.table([table], 1)` creates a relative frequency table\n",
    "        relative to total in each row.\n",
    "    -   `prop.table([table], 2)` creates a relative frequency table\n",
    "        relative to total in each column.\n",
    "-   `barplot()` creates a bar chart from a table of counts of relative\n",
    "    frequencies.\n",
    "\n",
    "## Question 3\n",
    "\n",
    "------------------------------------------------------------------------\n",
    "\n",
    "1.  Which month over the period from 1975-2021 had the greatest number\n",
    "    of **subtropical** storms? Which table did you use to help answer\n",
    "    your question?\n",
    "\n",
    "2.  Which month over the period from 1975-2021 had the greatest\n",
    "    proportion of **subtropical** storms? Which table did you use to\n",
    "    help answer your question?\n",
    "\n",
    "**Run each of the four code cells below, and after interpreting the\n",
    "output of each, answer the questions in the space below.**"
   ],
   "id": "4466b981-700e-4b53-a16a-11f7193ee84b"
  },
  {
   "cell_type": "code",
   "execution_count": null,
   "metadata": {},
   "outputs": [],
   "source": [
    "my.table <- table(storms$month, storms$status)  # gives counts\n",
    "my.table"
   ],
   "id": "fc31b07b-8d37-460e-9f25-0bb272338bc4"
  },
  {
   "cell_type": "code",
   "execution_count": null,
   "metadata": {},
   "outputs": [],
   "source": [
    "prop.grand <- prop.table(my.table)  # gives proportions relative to grand total\n",
    "round(prop.grand, 4)"
   ],
   "id": "08e42e4e-5567-4535-be56-7a5ef7bad343"
  },
  {
   "cell_type": "code",
   "execution_count": null,
   "metadata": {},
   "outputs": [],
   "source": [
    "prop.row <- prop.table(my.table, 1)  # gives proportions relative to row totals\n",
    "round(prop.row, 4)"
   ],
   "id": "1673bd10-f798-4cd7-9977-50df96f26d40"
  },
  {
   "cell_type": "code",
   "execution_count": null,
   "metadata": {},
   "outputs": [],
   "source": [
    "prop.col <- prop.table(my.table, 2)  # gives proportions relative to column totals\n",
    "round(prop.col, 4)"
   ],
   "id": "3ed55574-c56e-4990-8901-dbc91a1ce1f6"
  },
  {
   "cell_type": "markdown",
   "metadata": {},
   "source": [
    "### Solution to Question 3\n",
    "\n",
    "------------------------------------------------------------------------\n",
    "\n",
    "  \n",
    "  \n",
    "  \n",
    "\n",
    "# Visualizing Categorical Data\n",
    "\n",
    "------------------------------------------------------------------------\n",
    "\n",
    "There are many different ways we can great visualizations to gain\n",
    "insight into our data and search for possible patterns and relations\n",
    "between different variables.\n",
    "\n",
    "-   **For one categorical variable:** Bar charts (or bar plots) and pie\n",
    "    charts are commonly used.\n",
    "-   **For two categorical variables:** Grouped and stacked bar charts.\n",
    "\n",
    "## Creating Bar Charts with `plot()`\n",
    "\n",
    "------------------------------------------------------------------------\n",
    "\n",
    "-   The `plot()` function is the most broadly used function for plotting\n",
    "    different data types.\n",
    "-   The type of plot generated by `plot()` depends on the data type(s)\n",
    "    of the input(s).\n",
    "    -   If we input one categorical variable that is stored as `factor`,\n",
    "        we get a bar chart.\n",
    "    -   If we input one quantitative variable, the plot is typically not\n",
    "        very useful.\n",
    "    -   If a categorical variable is stored incorrectly as quantitative,\n",
    "        we do not get an appropriate plot.\n",
    "-   If we use `plot()` to display a categorical variable, the variable\n",
    "    must be stored as a factor!\n",
    "    -   Recall we converted `category` to a `factor` in a previous code\n",
    "        cell.\n",
    "    -   The variable `month` is a quantitative variable."
   ],
   "id": "bb69ad00-1542-4dfd-bfaa-ad6942739924"
  },
  {
   "cell_type": "code",
   "execution_count": null,
   "metadata": {},
   "outputs": [],
   "source": [
    "# plots appear in an array with 1 row and 2 columns\n",
    "par(mfrow = c(1, 2))  # create an array of plots\n",
    "\n",
    "plot(storms$category,  # categorical data\n",
    "     main = \"Hurricanes by Category\",  # main title\n",
    "     xlab = \"Hurricane Category\",  # horizontal axis label\n",
    "     ylab = \"Frequency\",  # vertical axis label\n",
    "     col = \"steelblue\")  # fill color of bars)\n",
    "\n",
    "plot(storms$month,  # quantitative data\n",
    "     main = \"Not Number of Storms in Month\",  # main title\n",
    "     xlab = \"Index (Row of Observation)\",  # horizontal axis label\n",
    "     ylab = \"Month\")  # vertical axis label"
   ],
   "id": "aa8d537c-1932-4515-a86c-0a35e49c1a3e"
  },
  {
   "cell_type": "code",
   "execution_count": null,
   "metadata": {},
   "outputs": [],
   "source": [
    "# resets plot window to a 1 by 1 array  \n",
    "par(mfrow = c(1, 1))"
   ],
   "id": "8d845896-3d9a-4dd9-ace9-5edaf632fa9e"
  },
  {
   "cell_type": "markdown",
   "metadata": {},
   "source": [
    "## Creating Bar Charts and Pie Charts from a Table\n",
    "\n",
    "------------------------------------------------------------------------\n",
    "\n",
    "If we want to keep `month` stored as an integer, but would like to\n",
    "create a visualization to display the number of storms that occurred in\n",
    "each month, we can:\n",
    "\n",
    "1.  First use the `table()` function to count how many storms occurred\n",
    "    in each month.\n",
    "2.  Then create a bar chart using the `barplot()` function or pie chart\n",
    "    using `pie()`."
   ],
   "id": "a45ed021-08ed-45cb-824d-f8e059a92006"
  },
  {
   "cell_type": "code",
   "execution_count": null,
   "metadata": {},
   "outputs": [],
   "source": [
    "# plots appear in an array with 1 row and 2 columns\n",
    "par(mfrow = c(1, 2))  # create an array of plots\n",
    "\n",
    "month.table <- table(storms$month)  # create table of month counts\n",
    "category.table <- table(storms$category)  # create table of category counts\n",
    "\n",
    "barplot(month.table,  # input table of month counts\n",
    "        main = \"Storms in Each Month\",  # main title\n",
    "        xlab = \"Month\",  # horizontal axis label\n",
    "        ylab = \"Frequency\",  # vertical axis label\n",
    "        col = \"seagreen\")  # fill color of bars\n",
    "\n",
    "pie(category.table,  # input table of category counts\n",
    "    main = \"Hurricanes by Category\")  # main title"
   ],
   "id": "50099145-4d71-4e96-8c16-2b48ce94bc05"
  },
  {
   "cell_type": "code",
   "execution_count": null,
   "metadata": {},
   "outputs": [],
   "source": [
    "# resets plot window to a 1 by 1 array  \n",
    "par(mfrow = c(1, 1))"
   ],
   "id": "e5c48223-c1d6-4434-8dff-b46804bd6687"
  },
  {
   "cell_type": "markdown",
   "metadata": {},
   "source": [
    "Note, `pie()` and `barplot()` both take tables as inputs. Even if a\n",
    "variable is stored as a `factor`, we need to store the counts in a table\n",
    "first.\n",
    "\n",
    "-   The `category` variable in `storms` is stored as a factor, but the\n",
    "    code below still crashes."
   ],
   "id": "5242c5c3-04d4-4863-8758-5fedb8a6a616"
  },
  {
   "cell_type": "code",
   "execution_count": null,
   "metadata": {},
   "outputs": [],
   "source": [
    "# see what happens if input is not a table\n",
    "pie(storms$category)"
   ],
   "id": "8fdb85bb-e0f0-4cc0-b9cd-b4cf72cc9acf"
  },
  {
   "cell_type": "markdown",
   "metadata": {},
   "source": [
    "# Relationship Between Two Categorical Variables\n",
    "\n",
    "------------------------------------------------------------------------\n",
    "\n",
    "Imagine we would like to compare the number of different category\n",
    "hurricanes that occurred in each month. In this case, we would like to\n",
    "compare two qualitative variables, namely `category` and `month`.\n",
    "\n",
    "## Grouped Frequency Bar Charts\n",
    "\n",
    "------------------------------------------------------------------------\n",
    "\n",
    "To create a bar chart displaying the number of category hurricanes that\n",
    "occurred in each month:\n",
    "\n",
    "1.  First create a two-way table of counts.\n",
    "\n",
    "-   The second variable (`month`) is displayed on horizontal axis.\n",
    "-   We get a separate bar for each level of the first variable\n",
    "    (`cagegory`).\n",
    "\n",
    "1.  Input the table into the `barplot()` function.\n",
    "\n",
    "-   Note the option `beside = TRUE` groups the bars for each month.\n",
    "-   The default option `beside = FALSE` stacks the bars."
   ],
   "id": "e7e45852-3fd5-4ebe-aa27-cd3f7ea110b4"
  },
  {
   "cell_type": "code",
   "execution_count": null,
   "metadata": {},
   "outputs": [],
   "source": [
    "# two-way table of counts of category in each month\n",
    "cat.table <- table(storms$category, storms$month)  # gives counts"
   ],
   "id": "00208948-6f01-469f-8ed0-b0c7c9807a66"
  },
  {
   "cell_type": "code",
   "execution_count": null,
   "metadata": {},
   "outputs": [],
   "source": [
    "# create a vector of colors\n",
    "my.colors <- c(\"green\", \"purple\", \"grey\", \"red\", \"blue\") \n",
    "\n",
    "# create side by side bar chart\n",
    "barplot(cat.table,  # use counts from contingency table\n",
    "        beside = TRUE,  # groups side-by-side\n",
    "        main = \"Category Hurricanes By Month\",  # main title\n",
    "        xlab = \"Month\",  # horizontal axis label\n",
    "        col = my.colors,  # fill color of bars\n",
    "        ylab = \"Frequency\")  # vertical axis label\n",
    "\n",
    "# add a legend to plot\n",
    "legend(x=\"topleft\",  # place legend in top left\n",
    "       legend=rownames(cat.table),  # get labels from row name in contingency table\n",
    "       fill = my.colors)  # use same fill colors"
   ],
   "id": "5d3ef238-e23f-4f79-96a0-74adaa945cea"
  },
  {
   "cell_type": "markdown",
   "metadata": {},
   "source": [
    "## Stacked Relative Frequency Bar Charts\n",
    "\n",
    "------------------------------------------------------------------------\n",
    "\n",
    "To create a bar chart displaying the relative frequency (or proportion)\n",
    "of category hurricanes that occurred in each month:\n",
    "\n",
    "1.  First create a two-way table of relative frequencies.\n",
    "\n",
    "-   Pay attention to whether you want the proportions relative to grand,\n",
    "    row, or column totals.\n",
    "\n",
    "1.  Input the table into the `barplot()` function.\n",
    "\n",
    "-   The default option `beside = FALSE` stacks the bars."
   ],
   "id": "79b1193c-e431-49c7-93c7-a834b405ee0d"
  },
  {
   "cell_type": "code",
   "execution_count": null,
   "metadata": {},
   "outputs": [],
   "source": [
    "cat.grand <- prop.table(cat.table)  # gives proportions relative to grand total\n",
    "cat.row <- prop.table(cat.table, 1)  # gives proportions relative to row totals\n",
    "cat.col <- prop.table(cat.table, 2)  # gives proportions relative to column totals"
   ],
   "id": "1b1e21a7-1843-4856-b17c-52298699fa3e"
  },
  {
   "cell_type": "code",
   "execution_count": null,
   "metadata": {},
   "outputs": [],
   "source": [
    "par(mfrow = c(1, 3))  # create an array of plots\n",
    "\n",
    "# create stacked bar chart\n",
    "barplot(cat.grand,  # use counts from contingency table\n",
    "        main = \"Category Hurricanes By Month\",  # main title\n",
    "        xlab = \"Month\",  # horizontal axis label\n",
    "        col = my.colors,  # color of bars\n",
    "        ylab = \"Frequency\")  # vertical axis label\n",
    "\n",
    "# add legend to plot\n",
    "legend(x=\"topleft\",  # place legend in top left\n",
    "       legend=rownames(cat.grand),  # get labels\n",
    "       fill = my.colors)  # use same colors\n",
    "\n",
    "##########\n",
    "\n",
    "# create stacked bar chart\n",
    "barplot(cat.row,  # use counts from contingency table\n",
    "        main = \"Category Hurricanes By Month\",  # main title\n",
    "        xlab = \"Month\",  # horizontal axis label\n",
    "        col = my.colors,  # color of bars\n",
    "        ylab = \"Frequency\")  # vertical axis label\n",
    "\n",
    "# add legend to plot\n",
    "legend(x=\"topleft\",  # place legend in top left\n",
    "       legend=rownames(cat.row),  # get labels\n",
    "       fill = my.colors)  # use same colors\n",
    "###########\n",
    "\n",
    "# create stacked bar chart\n",
    "barplot(cat.col,  # use counts from contingency table\n",
    "        main = \"Category Hurricanes By Month\",  # main title\n",
    "        xlab = \"Month\",  # horizontal axis label\n",
    "        col = my.colors,  # color of bars\n",
    "        ylab = \"Frequency\")  # vertical axis label\n",
    "\n",
    "# add legend to plot\n",
    "legend(x=\"topleft\",  # place legend in top left\n",
    "       legend=rownames(cat.col),  # get labels\n",
    "       fill = my.colors)  # use same colors"
   ],
   "id": "b214605f-0650-4d2d-8f4a-eeb39b2772ba"
  },
  {
   "cell_type": "code",
   "execution_count": null,
   "metadata": {},
   "outputs": [],
   "source": [
    "par(mfrow = c(1, 1))  # create an array of plots"
   ],
   "id": "e5b77181-166f-4d0b-9cb0-9fe0f17a936e"
  },
  {
   "cell_type": "markdown",
   "metadata": {},
   "source": [
    "## Question 4\n",
    "\n",
    "------------------------------------------------------------------------\n",
    "\n",
    "Based on the three plots generated in the previous code cell, answer the\n",
    "questions below.\n",
    "\n",
    "1.  Which month has the most hurricanes?\n",
    "\n",
    "2.  In which month is proportion of category 1 hurricanes greatest?\n",
    "\n",
    "### Solution to Question 4\n",
    "\n",
    "------------------------------------------------------------------------\n",
    "\n",
    "  \n",
    "  \n",
    "  \n",
    "\n",
    "## Question 5\n",
    "\n",
    "------------------------------------------------------------------------\n",
    "\n",
    "What are the the differences in the three plots in the output of the\n",
    "previous code cell? Which of the three bar plots above do you believe\n",
    "best visualizes the occurrence of different category hurricanes by\n",
    "month? Which plot do you think is the least useful overall? Explain why.\n",
    "\n",
    "### Solution to Question 5\n",
    "\n",
    "------------------------------------------------------------------------"
   ],
   "id": "b7ee7409-849a-42b3-a4ea-8509c148d29a"
  },
  {
   "cell_type": "code",
   "execution_count": null,
   "metadata": {},
   "outputs": [],
   "source": [
    "data(package = .packages(all.available = TRUE))"
   ],
   "id": "90e2b2ee-7973-4543-a5c8-87dfff9c645b"
  },
  {
   "cell_type": "markdown",
   "metadata": {},
   "source": [
    "# Exploring the General Social Survey Data Set\n",
    "\n",
    "------------------------------------------------------------------------\n",
    "\n",
    "The data set `gss_cat` can be accessed from the `forcats` package. Below\n",
    "is a quote taken from the website of the [GSS Data Explorer\n",
    "website](https://gssdataexplorer.norc.org/about) maintained by NORC at\n",
    "the University of Chicago\n",
    "\n",
    "> The General Social Survey (GSS) is a project of NORC at the University\n",
    "> of Chicago, with principal funding from the National Science\n",
    "> Foundation. Since 1972, the GSS has been monitoring societal change\n",
    "> and studying the growing complexity of American society.\n",
    "\n",
    "> The GSS is a publicly available national resource, and is one of the\n",
    "> most frequently analyzed sources of information in the social\n",
    "> sciences. GSS Data Explorer is one of many ways that NORC supports the\n",
    "> dissemination of GSS data for use by legislators, policymakers,\n",
    "> researchers, educators and others."
   ],
   "id": "a453f72d-3fa7-48b2-b90b-e3ae1e941879"
  },
  {
   "cell_type": "code",
   "execution_count": null,
   "metadata": {},
   "outputs": [],
   "source": [
    "# load the forcats package\n",
    "library(forcats)"
   ],
   "id": "df449420-5ace-4dda-9f4e-1e5f0c76ee42"
  },
  {
   "cell_type": "code",
   "execution_count": null,
   "metadata": {},
   "outputs": [],
   "source": [
    "# open help documentation for gss_cat\n",
    "?gss_cat"
   ],
   "id": "d50003bd-b15f-4bad-a4de-fc2323a9a3eb"
  },
  {
   "cell_type": "code",
   "execution_count": null,
   "metadata": {},
   "outputs": [],
   "source": [
    "# get numerical summary of variables\n",
    "summary(gss_cat)"
   ],
   "id": "30227b4d-cc96-46d5-9a0b-77a3653a7fb9"
  },
  {
   "cell_type": "markdown",
   "metadata": {},
   "source": [
    "## Question 6\n",
    "\n",
    "------------------------------------------------------------------------\n",
    "\n",
    "Create a plot to visualize one categorical variable in the `gss_cat`\n",
    "data set. Based on your plot, comment on any interesting features of the\n",
    "variable you plotted."
   ],
   "id": "3ef8bdfb-c80b-4dc9-991d-12d059541373"
  },
  {
   "cell_type": "code",
   "execution_count": null,
   "metadata": {},
   "outputs": [],
   "source": [
    "# create a visualization for one categorical variable"
   ],
   "id": "eaefefce-9bbc-4ed2-ad8a-3ab948595219"
  },
  {
   "cell_type": "markdown",
   "metadata": {},
   "source": [
    "### Solution to Question 6\n",
    "\n",
    "------------------------------------------------------------------------\n",
    "\n",
    "  \n",
    "  \n",
    "  \n",
    "\n",
    "## Question 7\n",
    "\n",
    "------------------------------------------------------------------------\n",
    "\n",
    "Create a plot to visualize the relationship between two categorical\n",
    "variables in the `gss_cat` data set. Based on your plot, comment on any\n",
    "interesting features or relations between two the variables you plotted."
   ],
   "id": "65a19c74-4047-43de-94ef-4c7c1132b074"
  },
  {
   "cell_type": "code",
   "execution_count": null,
   "metadata": {},
   "outputs": [],
   "source": [
    "# create a visualization to illustrate the relation\n",
    "# between two categorical variables"
   ],
   "id": "09cf175e-67ee-4258-b0fe-7a891fc42d53"
  },
  {
   "cell_type": "markdown",
   "metadata": {},
   "source": [
    "### Solution to Question 7\n",
    "\n",
    "------------------------------------------------------------------------\n",
    "\n",
    "  \n",
    "  \n",
    "  \n",
    "\n",
    "# Creative Commons License Information\n",
    "\n",
    "------------------------------------------------------------------------\n",
    "\n",
    "![Creative Commons\n",
    "License](https://i.creativecommons.org/l/by-nc-sa/4.0/80x15.png)\n",
    "\n",
    "*Inquiry Oriented Statistics* by [Adam\n",
    "Spiegler](https://github.com/CU-Denver-MathStats-OER/Statistical-Theory)\n",
    "is licensed under a [Creative Commons\n",
    "Attribution-NonCommercial-ShareAlike 4.0 International\n",
    "License](http://creativecommons.org/licenses/by-nc-sa/4.0/)"
   ],
   "id": "6be1f03d-f64a-4801-8327-dbe4fafe960c"
  }
 ],
 "nbformat": 4,
 "nbformat_minor": 5,
 "metadata": {
  "kernelspec": {
   "name": "ir",
   "display_name": "R",
   "language": "R"
  }
 }
}
