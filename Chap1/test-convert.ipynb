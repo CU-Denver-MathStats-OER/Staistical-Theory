{
 "cells": [
  {
   "cell_type": "markdown",
   "metadata": {},
   "source": [
    "# <a name=\"03\">Header 1</a>\n",
    "\n",
    "blah In statistics,\n",
    "<span style=\"color: dodgerblue;\">**variables**</span> are the attributes\n",
    "measured or collected in data. We refer to them as variables since the\n",
    "values or classes of attributes typically vary from observation to\n",
    "observation. The term variable is used differently in statistics from\n",
    "the notation of a variable in algebra. There are two types of variables\n",
    "in statistics:\n",
    "\n",
    "-   If a variable is measured or counted by a number, it is called a\n",
    "    <span style=\"color: dodgerblue;\">**quantitative**</span> or\n",
    "    <span style=\"color: dodgerblue;\">**numerical**</span> variable.\n",
    "\n",
    "-   Quantitative variables may be discrete (integers) or continuous\n",
    "    (decimals).\n",
    "\n",
    "-   If a variable groups observations into different categories or\n",
    "    rankings, it is a\n",
    "    <span style=\"color: dodgerblue;\">**qualitative**</span> or\n",
    "    <span style=\"color: dodgerblue;\">**categorical**</span> variable.\n",
    "\n",
    "-   The different categories of a qualitative variable are called\n",
    "    <span style=\"color: dodgerblue;\">**levels**</span> or\n",
    "    <span style=\"color: dodgerblue;\">**classes**</span>.\n",
    "\n",
    "The type of statistical analysis we can do depends on whether:\n",
    "\n",
    "-   We are investigating a single variable, or looking for an\n",
    "    association between multiple variables.\n",
    "-   The variable(s) are quantitative or categorical.\n",
    "-   The data satisfies certain assumptions.\n",
    "\n",
    "In our work with [Exploring Categorical\n",
    "Data](https://githubtocolab.com/CU-Denver-MathStats-OER/Statistical-Theory/blob/main/Chap1/02-EDA-Categorical.ipynb),\n",
    "we performed an initial summary of the categorical variables in the\n",
    "`storms` data set. Today, we will investigate how to numerically and\n",
    "visually summarize quantitative variables."
   ],
   "id": "57e22a49-c71f-4bee-9577-3c75140baf3d"
  }
 ],
 "nbformat": 4,
 "nbformat_minor": 5,
 "metadata": {
  "kernelspec": {
   "name": "ir",
   "display_name": "R",
   "language": "R"
  }
 }
}
