{
 "cells": [
  {
   "cell_type": "markdown",
   "metadata": {},
   "source": [
    "[![Open In\n",
    "Colab](https://colab.research.google.com/assets/colab-badge.svg)](https://githubtocolab.com/CU-Denver-MathStats-OER/Statistical-Theory/blob/main/Chap6/25-Error-Types-and-Power-of-Tests.ipynb)\n",
    "<nbsp>"
   ],
   "id": "896b225c-9e40-4b8d-8291-92aa1e11b703"
  },
  {
   "cell_type": "code",
   "execution_count": null,
   "metadata": {},
   "outputs": [],
   "source": [
    "#section break"
   ],
   "id": "4ea064cf-1d11-4ec4-970b-a15b9d672cc9"
  },
  {
   "cell_type": "markdown",
   "metadata": {},
   "source": [
    "# <a name=\"25intro\">Potential Errors with Hypothesis Tests</a>\n",
    "\n",
    "------------------------------------------------------------------------\n",
    "\n",
    "<figure>\n",
    "<img\n",
    "src=\"https://raw.githubusercontent.com/CU-Denver-MathStats-OER/Statistical-Theory/main/Images/25fig-man.png\"\n",
    "data-fig-alt=\"Doctor with Patient Cartoon\" alt=\"A False Positive?\" />\n",
    "<figcaption aria-hidden=\"true\">A False Positive?</figcaption>\n",
    "</figure>\n",
    "\n",
    "<figure>\n",
    "<img\n",
    "src=\"https://raw.githubusercontent.com/CU-Denver-MathStats-OER/Statistical-Theory/main/Images/25fig-woman.png\"\n",
    "data-fig-alt=\"Medical Doctor and Pregnant Patient clipart\"\n",
    "alt=\"A False Negative?\" />\n",
    "<figcaption aria-hidden=\"true\">A False Negative?</figcaption>\n",
    "</figure>\n",
    "\n",
    "Type I (on left) and Type II (on right) Errors\n",
    "\n",
    "The result of a hypothesis test has one of two possibilities:\n",
    "\n",
    "-   If <span style=\"color:mediumseagreen\">**p-value $\\leq \\alpha$, we\n",
    "    reject $H_0$**</span>, and we have enough evidence to support the\n",
    "    claim in $H_a$.\n",
    "-   If <span style=\"color:tomato\">**p-value $> \\alpha$, we fail to\n",
    "    reject $H_0$**</span>. However, in this case we do not accept $H_0$.\n",
    "    The test is inconclusive.\n",
    "\n",
    "As with confidence intervals, it is possible we do all of our analysis\n",
    "perfectly without any mistakes, but our conclusion is incorrect due to\n",
    "the randomness in sampling. Rarely, we are unlucky and dealt a biased\n",
    "sample, in which case we arrive at an incorrect conclusion.\n",
    "\n",
    "In this section, we explore the following questions:\n",
    "\n",
    "-   What type of errors are possible with hypothesis testing?\n",
    "-   What are the practical implications of making errors?\n",
    "-   How can we calculate the probability *correctly* rejecting $H_0$?"
   ],
   "id": "9a2d4a8a-f07b-419b-ac52-441accf5032f"
  },
  {
   "cell_type": "code",
   "execution_count": null,
   "metadata": {},
   "outputs": [],
   "source": [
    "#section break"
   ],
   "id": "65086bdd-a762-4f64-8eb4-018f6955700c"
  },
  {
   "cell_type": "markdown",
   "metadata": {},
   "source": [
    "## <a name=\"25q1\">Question 1</a>\n",
    "\n",
    "------------------------------------------------------------------------\n",
    "\n",
    "Give an example in any setting (not necessarily a hypothesis test) to\n",
    "illustrate the distinction between failing to reject a claim versus\n",
    "accepting a claim. One possible example is when a jury is deciding a\n",
    "case in court, the hypotheses would be:\n",
    "\n",
    "-   $H_0$: The accused person is innocent.\n",
    "-   $H_a$: The accused person is guilty.\n",
    "\n",
    "Deciding there is not enough evidence to say whether or not the accused\n",
    "is guilty (failing to reject $H_0$) is different from deciding that the\n",
    "accused is innocent (accepting $H_0$). **Give another example to\n",
    "illustrate the distinction between failing to reject a claim compared to\n",
    "accepting a claim.**\n",
    "\n",
    "### <a name=\"25sol1\">Solution to Question 1</a>\n",
    "\n",
    "------------------------------------------------------------------------\n",
    "\n",
    "<br>  \n",
    "<br>  \n",
    "<br>"
   ],
   "id": "efcce899-8a2a-4d4e-85f4-2ad9599483ff"
  },
  {
   "cell_type": "code",
   "execution_count": null,
   "metadata": {},
   "outputs": [],
   "source": [
    "#section break"
   ],
   "id": "98be29c7-d3e1-4521-b27a-79969c2054e8"
  },
  {
   "cell_type": "markdown",
   "metadata": {},
   "source": [
    "# <a name=\"25error-types\">Type I and Type II Errors</a>\n",
    "\n",
    "------------------------------------------------------------------------\n",
    "\n",
    "There are two possible errors in a hypothesis test:\n",
    "\n",
    "-   A <span style=\"color:dodgerblue\">**Type I Error**</span> occurs if\n",
    "    we incorrectly reject $H_0$ when it is true.\n",
    "    -   This is known as a <span style=\"color:dodgerblue\">**false\n",
    "        positive**</span>.\n",
    "    -   For example, a jury falsely convicts an innocent person.\n",
    "-   A <span style=\"color:tomato\">**Type II Error**</span> occurs if we\n",
    "    incorrectly fail to reject $H_0$ when it is false.\n",
    "    -   This is known as a <span style=\"color:tomato\">**false\n",
    "        negative**</span>.\n",
    "    -   For example, a jury fails to convict a guilty person."
   ],
   "id": "b5a3e1af-a5dc-4893-8199-0e24c81d68f1"
  },
  {
   "cell_type": "code",
   "execution_count": null,
   "metadata": {},
   "outputs": [],
   "source": [
    "#section break"
   ],
   "id": "f78ae49a-4320-4583-aa05-103468cf21fb"
  },
  {
   "cell_type": "markdown",
   "metadata": {},
   "source": [
    "## <a name=\"25q2\">Question 2</a>\n",
    "\n",
    "------------------------------------------------------------------------\n",
    "\n",
    "A hospital is testing to see whether a donated organ is a match for a\n",
    "recipient in need of an organ transplant.\n",
    "\n",
    "-   $H_0$: The organ is not a match (boring).\n",
    "-   $H_a$: The organ is a match (interesting).\n",
    "\n",
    "Describe the Type I and Type II errors in this context. What are the\n",
    "practical consequences of making these errors?\n",
    "\n",
    "### <a name=\"25sol2\">Solution to Question 2</a>\n",
    "\n",
    "------------------------------------------------------------------------\n",
    "\n",
    "<br>  \n",
    "<br>  \n",
    "<br>"
   ],
   "id": "589c1d9f-7fa3-489f-89d0-07e39c413026"
  },
  {
   "cell_type": "code",
   "execution_count": null,
   "metadata": {},
   "outputs": [],
   "source": [
    "#section break"
   ],
   "id": "18cbfb7f-867a-4d47-934c-cbf3e3e51a70"
  },
  {
   "cell_type": "markdown",
   "metadata": {},
   "source": [
    "## <a name=\"25q3\">Question 3</a>\n",
    "\n",
    "------------------------------------------------------------------------\n",
    "\n",
    "A lab runs viral tests to see whether a person is currently infected\n",
    "with COVID-19.\n",
    "\n",
    "-   $H_0$: The person is not currently infected with COVID-19 (boring).\n",
    "-   $H_a$: The person is currently infected with COVID-19 (interesting).\n",
    "\n",
    "Describe the Type I and Type II errors in this context. What are the\n",
    "practical consequences of making these errors?\n",
    "\n",
    "### <a name=\"25sol3\">Solution to Question 3</a>\n",
    "\n",
    "------------------------------------------------------------------------\n",
    "\n",
    "<br>  \n",
    "<br>  \n",
    "<br>"
   ],
   "id": "a7ca3448-01d2-4df4-b0dc-5e2dc9474958"
  },
  {
   "cell_type": "code",
   "execution_count": null,
   "metadata": {},
   "outputs": [],
   "source": [
    "#section break"
   ],
   "id": "ac89f89e-c56e-4a93-81d3-c6dbce6a0313"
  },
  {
   "cell_type": "markdown",
   "metadata": {},
   "source": [
    "## <a name=\"25q4\">Question 4</a>\n",
    "\n",
    "------------------------------------------------------------------------\n",
    "\n",
    "The cholesterol level of healthy men is normally distributed with a mean\n",
    "of 180 mg/dL and a standard deviation of 20 mg/dL, whereas men\n",
    "predisposed to heart disease have a mean cholesterol level of 300 mg/dL\n",
    "with a standard deviation of 30 mg/dL. The cholesterol level 225 mg/dL\n",
    "is used to demarcate healthy from predisposed men."
   ],
   "id": "7a5a1a81-a7e7-4cea-9873-da62e0261fd1"
  },
  {
   "cell_type": "code",
   "execution_count": null,
   "metadata": {},
   "outputs": [],
   "source": [
    "#section break"
   ],
   "id": "5f827032-dea1-4dcd-93e5-aec15a8ab440"
  },
  {
   "cell_type": "markdown",
   "metadata": {},
   "source": [
    "### <a name=\"25q4a\">Question 4a</a>\n",
    "\n",
    "------------------------------------------------------------------------\n",
    "\n",
    "Given that a man is healthy, what is the probability they are diagnosed\n",
    "as predisposed?\n",
    "\n",
    "#### <a name=\"25sol4a\">Solution to Question 4a</a>\n",
    "\n",
    "------------------------------------------------------------------------"
   ],
   "id": "7593261f-8297-4aa3-a1f9-b55617667079"
  },
  {
   "cell_type": "code",
   "execution_count": null,
   "metadata": {},
   "outputs": [],
   "source": [
    "# code cell to help with calculations"
   ],
   "id": "f1ed4d93-13c9-466d-a25f-b880cb7f58d5"
  },
  {
   "cell_type": "markdown",
   "metadata": {},
   "source": [
    "<br>  \n",
    "<br>"
   ],
   "id": "39c23376-b7de-44ca-a4f1-ee5b8d51e744"
  },
  {
   "cell_type": "code",
   "execution_count": null,
   "metadata": {},
   "outputs": [],
   "source": [
    "#section break"
   ],
   "id": "e191968d-ed1f-4172-ac67-d4825d2193de"
  },
  {
   "cell_type": "markdown",
   "metadata": {},
   "source": [
    "### <a name=\"25q4b\">Question 4b</a>\n",
    "\n",
    "------------------------------------------------------------------------\n",
    "\n",
    "Given that a man is not healthy, what is the probability they are not\n",
    "diagnosed as predisposed?\n",
    "\n",
    "#### <a name=\"25sol4b\">Solution to Question 4b</a>\n",
    "\n",
    "------------------------------------------------------------------------"
   ],
   "id": "ac021659-40d0-4fac-93c9-acb7b31cabdd"
  },
  {
   "cell_type": "code",
   "execution_count": null,
   "metadata": {},
   "outputs": [],
   "source": [
    "# code cell to help with calculations"
   ],
   "id": "b18018f3-5e9c-414b-a69e-d1d8fbd88e7e"
  },
  {
   "cell_type": "markdown",
   "metadata": {},
   "source": [
    "<br>  \n",
    "<br>"
   ],
   "id": "546f5328-e136-458d-842c-3558e835714c"
  },
  {
   "cell_type": "code",
   "execution_count": null,
   "metadata": {},
   "outputs": [],
   "source": [
    "#section break"
   ],
   "id": "fb5adaec-10f2-4cd7-8f8a-bfd56e919d3c"
  },
  {
   "cell_type": "markdown",
   "metadata": {},
   "source": [
    "### <a name=\"25q4c\">Question 4c</a>\n",
    "\n",
    "------------------------------------------------------------------------\n",
    "\n",
    "Which of the previous answers gives the probability of Type I error and\n",
    "which is for Type II error? Explain.\n",
    "\n",
    "#### <a name=\"25sol4c\">Solution to Question 4c</a>\n",
    "\n",
    "------------------------------------------------------------------------\n",
    "\n",
    "<br>  \n",
    "<br>  \n",
    "<br>"
   ],
   "id": "95516ccf-6ad5-48c3-9d7c-2990bf4330b9"
  },
  {
   "cell_type": "code",
   "execution_count": null,
   "metadata": {},
   "outputs": [],
   "source": [
    "#section break"
   ],
   "id": "278c33a3-6f48-433e-a6ff-5bd0a29bc880"
  },
  {
   "cell_type": "markdown",
   "metadata": {},
   "source": [
    "## <a name=\"25q5\">Question 5</a>\n",
    "\n",
    "------------------------------------------------------------------------\n",
    "\n",
    "Suppose we want to test whether a ten-sided die is fair (with sides\n",
    "numbered 0 to 9). Let $p$ be the proportion of all rolls that land on an\n",
    "even number."
   ],
   "id": "4b1648f7-3161-43ba-b635-304b9f3cbe70"
  },
  {
   "cell_type": "code",
   "execution_count": null,
   "metadata": {},
   "outputs": [],
   "source": [
    "#section break"
   ],
   "id": "f571f661-b392-4862-9960-0a2b7283eee9"
  },
  {
   "cell_type": "markdown",
   "metadata": {},
   "source": [
    "### <a name=\"25q5a\">Question 5a</a>\n",
    "\n",
    "------------------------------------------------------------------------\n",
    "\n",
    "Set up the hypotheses to test our claim.\n",
    "\n",
    "#### <a name=\"25sol5a\">Solution to Question 5a</a>\n",
    "\n",
    "------------------------------------------------------------------------\n",
    "\n",
    "-   $H_0$:\n",
    "\n",
    "-   $H_a$:\n",
    "\n",
    "<br>  \n",
    "<br>"
   ],
   "id": "6e441206-7995-4a5f-b9fe-fe803bb24229"
  },
  {
   "cell_type": "code",
   "execution_count": null,
   "metadata": {},
   "outputs": [],
   "source": [
    "#section break"
   ],
   "id": "4cbc75f7-3d31-49a1-8960-08aeaf8bdde1"
  },
  {
   "cell_type": "markdown",
   "metadata": {},
   "source": [
    "### <a name=\"25q5b\">Question 5b</a>\n",
    "\n",
    "------------------------------------------------------------------------\n",
    "\n",
    "Roll the die 20 times, and record how many times it lands on an even\n",
    "number (0, 2, 4, 6, or 8).\n",
    "\n",
    "#### <a name=\"25sol5b\">Solution to Question 5b</a>\n",
    "\n",
    "------------------------------------------------------------------------\n",
    "\n",
    "<br>  \n",
    "<br>"
   ],
   "id": "c79160f5-acc9-416b-85e3-cabf641a5c66"
  },
  {
   "cell_type": "code",
   "execution_count": null,
   "metadata": {},
   "outputs": [],
   "source": [
    "#section break"
   ],
   "id": "55c7cfa4-1c4a-4006-a453-9c1945ba82e6"
  },
  {
   "cell_type": "markdown",
   "metadata": {},
   "source": [
    "### <a name=\"25q5c\">Question 5c</a>\n",
    "\n",
    "------------------------------------------------------------------------\n",
    "\n",
    "Calculate the p-value of your sample.\n",
    "\n",
    "#### <a name=\"25sol5c\">Solution to Question 5c</a>\n",
    "\n",
    "------------------------------------------------------------------------"
   ],
   "id": "5617827b-a4d0-425e-bf73-f6462d23cf96"
  },
  {
   "cell_type": "code",
   "execution_count": null,
   "metadata": {},
   "outputs": [],
   "source": [
    "# code cell to help with calculations"
   ],
   "id": "74641e26-c971-4256-9b92-d5a42abb2c5a"
  },
  {
   "cell_type": "markdown",
   "metadata": {},
   "source": [
    "<br>  \n",
    "<br>"
   ],
   "id": "3a3dce5e-7555-4cca-b528-3e30b644cceb"
  },
  {
   "cell_type": "code",
   "execution_count": null,
   "metadata": {},
   "outputs": [],
   "source": [
    "#section break"
   ],
   "id": "d47bd2fb-b0ab-4b56-b431-172f99482662"
  },
  {
   "cell_type": "markdown",
   "metadata": {},
   "source": [
    "### <a name=\"25q5d\">Question 5d</a>\n",
    "\n",
    "------------------------------------------------------------------------\n",
    "\n",
    "What (if anything) can you conclude about the hypothesis at 10%\n",
    "significance level?\n",
    "\n",
    "#### <a name=\"25sol5d\">Solution to Question 5d</a>\n",
    "\n",
    "------------------------------------------------------------------------\n",
    "\n",
    "<br>  \n",
    "<br>  \n",
    "<br>"
   ],
   "id": "b4f01478-3776-4018-9edc-8ae0c3c5e676"
  },
  {
   "cell_type": "code",
   "execution_count": null,
   "metadata": {},
   "outputs": [],
   "source": [
    "#section break"
   ],
   "id": "0b592ef3-8483-4134-a44b-65b302d8f785"
  },
  {
   "cell_type": "markdown",
   "metadata": {},
   "source": [
    "# <a name=\"25sig\">The Significance Level Revisited</a>\n",
    "\n",
    "------------------------------------------------------------------------\n",
    "\n",
    "The <span style=\"color:dodgerblue\">**significance level**</span> of a\n",
    "hypothesis test is therefore the **largest value of $\\mathbf{\\alpha}$ we\n",
    "find acceptable for the probability for a Type I error**."
   ],
   "id": "c2ff4efd-a94b-431f-aafb-45e40e21315b"
  },
  {
   "cell_type": "code",
   "execution_count": null,
   "metadata": {},
   "outputs": [],
   "source": [
    "#section break"
   ],
   "id": "0d2df800-c1c5-441d-ba03-449681243079"
  },
  {
   "cell_type": "markdown",
   "metadata": {},
   "source": [
    "## <a name=\"25q6\">Question 6</a>\n",
    "\n",
    "------------------------------------------------------------------------\n",
    "\n",
    "<figure>\n",
    "<img\n",
    "src=\"https://www.seobility.net/en/wiki/images/5/54/Social-Sharing.png\"\n",
    "style=\"width:45.0%\" data-fig-align=\"left\" data-fig-alt=\"Social Sharing\"\n",
    "alt=\"Credit: Seobility CC BY-SA 4.0\" />\n",
    "<figcaption aria-hidden=\"true\">Credit: Seobility <a\n",
    "href=\"https://creativecommons.org/licenses/by-sa/4.0/deed.en\">CC BY-SA\n",
    "4.0</a></figcaption>\n",
    "</figure>\n",
    "\n",
    "A company claims that only 3% of people who use their facial lotion\n",
    "develop an allergic reaction (a rash). You are suspicious of their claim\n",
    "based on hearing some of your friends had an allergic reaction, and you\n",
    "believe it is more than 3%. You pick a random sample of 50 people and\n",
    "have them try the lotion. **If more than 3 out of the 50 people develop\n",
    "the rash, you will blow up social media with posts about the dishonesty\n",
    "of the company’s claim.**"
   ],
   "id": "07a13b62-11d9-4b21-990b-b760ff20bcba"
  },
  {
   "cell_type": "code",
   "execution_count": null,
   "metadata": {},
   "outputs": [],
   "source": [
    "#section break"
   ],
   "id": "d823bff6-b396-44bc-b0c5-87e90c2b4c0b"
  },
  {
   "cell_type": "markdown",
   "metadata": {},
   "source": [
    "### <a name=\"25q6a\">Question 6a</a>\n",
    "\n",
    "------------------------------------------------------------------------\n",
    "\n",
    "Set up hypotheses for this test.\n",
    "\n",
    "#### <a name=\"25sol6a\">Solution to Question 6a</a>\n",
    "\n",
    "------------------------------------------------------------------------\n",
    "\n",
    "-   $H_0$:\n",
    "\n",
    "-   $H_a$:\n",
    "\n",
    "<br>  \n",
    "<br>"
   ],
   "id": "7363e9d4-869c-439f-9446-ea1ab1b84687"
  },
  {
   "cell_type": "code",
   "execution_count": null,
   "metadata": {},
   "outputs": [],
   "source": [
    "#section break"
   ],
   "id": "792a9563-391c-42b5-9217-ff6ca2d4ae1d"
  },
  {
   "cell_type": "markdown",
   "metadata": {},
   "source": [
    "### <a name=\"25q6b\">Question 6b</a>\n",
    "\n",
    "------------------------------------------------------------------------\n",
    "\n",
    "Explain what Type I and Type II errors are in this case. Make sure you\n",
    "explain in the context of this example.\n",
    "\n",
    "#### <a name=\"25sol6b\">Solution to Question 6b</a>\n",
    "\n",
    "------------------------------------------------------------------------\n",
    "\n",
    "<br>  \n",
    "<br>  \n",
    "<br>"
   ],
   "id": "9865f951-0ffb-41c1-8eaa-edc891fa1c7e"
  },
  {
   "cell_type": "code",
   "execution_count": null,
   "metadata": {},
   "outputs": [],
   "source": [
    "#section break"
   ],
   "id": "49c86c2f-32b4-4c1a-99d0-c20f2e2f4ac2"
  },
  {
   "cell_type": "markdown",
   "metadata": {},
   "source": [
    "### <a name=\"25q6c\">Question 6c</a>\n",
    "\n",
    "------------------------------------------------------------------------\n",
    "\n",
    "What is the probability of making a Type I error?\n",
    "\n",
    "#### <a name=\"25sol6c\">Solution to Question 6c</a>\n",
    "\n",
    "------------------------------------------------------------------------"
   ],
   "id": "7c14609c-5237-44f7-907b-bf0b11d53f18"
  },
  {
   "cell_type": "code",
   "execution_count": null,
   "metadata": {},
   "outputs": [],
   "source": [
    "# code cell to help with calculations"
   ],
   "id": "f3b142e1-ad0d-44bf-894d-ad9ebbafac4c"
  },
  {
   "cell_type": "markdown",
   "metadata": {},
   "source": [
    "<br>  \n",
    "<br>  \n",
    "<br>"
   ],
   "id": "3eadcf48-e380-460e-901c-eb7621c09125"
  },
  {
   "cell_type": "code",
   "execution_count": null,
   "metadata": {},
   "outputs": [],
   "source": [
    "#section break"
   ],
   "id": "9ba39a67-a6e4-4c1b-871a-fade8c949514"
  },
  {
   "cell_type": "markdown",
   "metadata": {},
   "source": [
    "### <a name=\"25q6d\">Question 6d</a>\n",
    "\n",
    "------------------------------------------------------------------------\n",
    "\n",
    "If you were to perform the hypothesis test at a 5% significance level,\n",
    "and you observe $X=4$, what would be the result of the test?\n",
    "\n",
    "#### <a name=\"25so6dl\">Solution to Question 6d</a>\n",
    "\n",
    "------------------------------------------------------------------------\n",
    "\n",
    "<br>  \n",
    "<br>  \n",
    "<br>"
   ],
   "id": "f84ec411-2e59-437c-936f-1a290df8d1e2"
  },
  {
   "cell_type": "code",
   "execution_count": null,
   "metadata": {},
   "outputs": [],
   "source": [
    "#section break"
   ],
   "id": "f64f417b-9d83-48eb-8600-77712d46989a"
  },
  {
   "cell_type": "markdown",
   "metadata": {},
   "source": [
    "### <a name=\"25q6e\">Question 6e</a>\n",
    "\n",
    "------------------------------------------------------------------------\n",
    "\n",
    "For what values of $X$ would you reject $H_0$ at a 5% significance\n",
    "level?\n",
    "\n",
    "#### <a name=\"25sol6e\">Solution to Question 6e</a>\n",
    "\n",
    "------------------------------------------------------------------------\n",
    "\n",
    "<br>  \n",
    "<br>  \n",
    "<br>"
   ],
   "id": "47f8b190-aac2-4dd0-a99d-c6f36742c9c2"
  },
  {
   "cell_type": "code",
   "execution_count": null,
   "metadata": {},
   "outputs": [],
   "source": [
    "#section break"
   ],
   "id": "6ad47ea2-e8d8-460d-9122-d890cb429607"
  },
  {
   "cell_type": "markdown",
   "metadata": {},
   "source": [
    "# <a name=\"25reject\">Rejection Regions</a>\n",
    "\n",
    "------------------------------------------------------------------------\n",
    "\n",
    "When performing a hypothesis test at a significance level of $\\alpha$,\n",
    "the <span style=\"color:dodgerblue\">**rejection or critical\n",
    "region**</span>, $\\mathcal{R}$ is the set of all values of the test\n",
    "statistic for which we reject $H_0$. The endpoint(s) of the region are\n",
    "called <span style=\"color:dodgerblue\">**critical values**</span>."
   ],
   "id": "34ce2077-a905-423a-a62b-24b37f53ab84"
  },
  {
   "cell_type": "code",
   "execution_count": null,
   "metadata": {},
   "outputs": [],
   "source": [
    "#section break"
   ],
   "id": "300d5f25-19a8-4614-a93c-8e04edfb12b1"
  },
  {
   "cell_type": "markdown",
   "metadata": {},
   "source": [
    "## <a name=\"25q7\">Question 7</a>\n",
    "\n",
    "------------------------------------------------------------------------\n",
    "\n",
    "We tested to whether if the ten-sided die is fair or not by rolling it\n",
    "20 times, and counting the number of rolls that land on an even number.\n",
    "If $p$ is the proportion of all rolls that land on an even number, then\n",
    "we had\n",
    "\n",
    "$$H_0: p = 0.5 \\qquad \\mbox{vs.} \\qquad H_a: p \\ne 0.5.$$"
   ],
   "id": "a963d509-ae57-40c5-b3dd-112f23607f6d"
  },
  {
   "cell_type": "code",
   "execution_count": null,
   "metadata": {},
   "outputs": [],
   "source": [
    "#section break"
   ],
   "id": "83af103f-22d0-4426-b438-5ebdc90d87b3"
  },
  {
   "cell_type": "markdown",
   "metadata": {},
   "source": [
    "### <a name=\"25q7a\">Question 7a</a>\n",
    "\n",
    "------------------------------------------------------------------------\n",
    "\n",
    "If you found only $X=7$ rolls landed on an even number, what is the\n",
    "p-value?\n",
    "\n",
    "#### <a name=\"25sol7a\">Solution to Question 7a</a>\n",
    "\n",
    "------------------------------------------------------------------------"
   ],
   "id": "fc8eb299-285a-41ac-ab4d-581a3d0db7a9"
  },
  {
   "cell_type": "code",
   "execution_count": null,
   "metadata": {},
   "outputs": [],
   "source": [
    "# code cell to help with calculations"
   ],
   "id": "f20f96d1-e761-42bf-9a0b-ee555ffad4b4"
  },
  {
   "cell_type": "markdown",
   "metadata": {},
   "source": [
    "<br>  \n",
    "<br>"
   ],
   "id": "59b61b33-067b-4f86-921f-e9d65569bb56"
  },
  {
   "cell_type": "code",
   "execution_count": null,
   "metadata": {},
   "outputs": [],
   "source": [
    "#section break"
   ],
   "id": "06ca4c21-6866-48c7-8135-f7443a21021d"
  },
  {
   "cell_type": "markdown",
   "metadata": {},
   "source": [
    "### <a name=\"25q7b\">Question 7b</a>\n",
    "\n",
    "------------------------------------------------------------------------\n",
    "\n",
    "Find the critical values and rejection region if we use a significance\n",
    "level of 10%.\n",
    "\n",
    "#### <a name=\"25sol7b\">Solution to Question 7b</a>\n",
    "\n",
    "------------------------------------------------------------------------"
   ],
   "id": "079a0bfe-a2ff-4010-bc13-e3a4dd6496ba"
  },
  {
   "cell_type": "code",
   "execution_count": null,
   "metadata": {},
   "outputs": [],
   "source": [
    "# code cell to help with calculations"
   ],
   "id": "cf379691-ff91-4190-8a1f-8377575132e7"
  },
  {
   "cell_type": "markdown",
   "metadata": {},
   "source": [
    "<br>  \n",
    "<br>"
   ],
   "id": "128f26da-85a7-4dbb-a3bd-d013f4af9fd1"
  },
  {
   "cell_type": "code",
   "execution_count": null,
   "metadata": {},
   "outputs": [],
   "source": [
    "#section break"
   ],
   "id": "4959701a-1ec8-4c43-9d49-9e2abaf3a7f4"
  },
  {
   "cell_type": "markdown",
   "metadata": {},
   "source": [
    "# <a name=\"25power\">The Power of a Test</a>\n",
    "\n",
    "------------------------------------------------------------------------"
   ],
   "id": "126dca9c-f0cd-40fc-bc1f-10145e3eaede"
  },
  {
   "cell_type": "code",
   "execution_count": null,
   "metadata": {},
   "outputs": [],
   "source": [
    "#section break"
   ],
   "id": "da926e26-57a4-4d8e-9c68-d36435cc6594"
  },
  {
   "cell_type": "markdown",
   "metadata": {},
   "source": [
    "## <a name=\"25q8\">Question 8</a>\n",
    "\n",
    "------------------------------------------------------------------------\n",
    "\n",
    "Suppose you are interested in the lengths of a certain species of snake\n",
    "in an ecosystem. Assume the lengths (in cm.) are normally distributed\n",
    "with unknown mean $\\mu$, but the standard deviation of the population is\n",
    "known to be $\\sigma = 4$ cm. It has been claimed that the mean length of\n",
    "this species is 25 cm. You believe the actual mean length is greater\n",
    "than 25 cm. You collect a random sample of 30 snakes. You will test\n",
    "using a significance level of $\\alpha = 0.05$."
   ],
   "id": "7f803948-7552-41e0-a6a5-eb61ad86f5ae"
  },
  {
   "cell_type": "code",
   "execution_count": null,
   "metadata": {},
   "outputs": [],
   "source": [
    "#section break"
   ],
   "id": "032b64bb-cb97-4cc5-9383-fc2744abdbdc"
  },
  {
   "cell_type": "markdown",
   "metadata": {},
   "source": [
    "### <a name=\"25q8a\">Question 8a</a>\n",
    "\n",
    "------------------------------------------------------------------------\n",
    "\n",
    "Set up hypotheses for the test.\n",
    "\n",
    "#### <a name=\"25sol8a\">Solution to Question 8a</a>\n",
    "\n",
    "------------------------------------------------------------------------\n",
    "\n",
    "-   $H_0$:\n",
    "\n",
    "-   $H_a$:\n",
    "\n",
    "<br>  \n",
    "<br>"
   ],
   "id": "797e661b-d5c6-4bba-b437-68b4929e3b59"
  },
  {
   "cell_type": "code",
   "execution_count": null,
   "metadata": {},
   "outputs": [],
   "source": [
    "#section break"
   ],
   "id": "fded8204-384b-429e-9f66-95c4b699877b"
  },
  {
   "cell_type": "markdown",
   "metadata": {},
   "source": [
    "### <a name=\"25q8b\">Question 8b</a>\n",
    "\n",
    "------------------------------------------------------------------------\n",
    "\n",
    "Find the critical value, and give the rejection region.\n",
    "\n",
    "#### <a name=\"25sol8b\">Solution to Question 8b</a>\n",
    "\n",
    "------------------------------------------------------------------------"
   ],
   "id": "28610a7a-06b4-4bce-8137-36c0e88d6ced"
  },
  {
   "cell_type": "code",
   "execution_count": null,
   "metadata": {},
   "outputs": [],
   "source": [
    "# code cell to help with calculations"
   ],
   "id": "920e2e2c-09a6-4238-8344-66305d911390"
  },
  {
   "cell_type": "markdown",
   "metadata": {},
   "source": [
    "<br>  \n",
    "<br>"
   ],
   "id": "e88087f3-93c1-4e42-8a2a-16788552fc19"
  },
  {
   "cell_type": "code",
   "execution_count": null,
   "metadata": {},
   "outputs": [],
   "source": [
    "#section break"
   ],
   "id": "e7bb669e-cf17-4f24-9a7f-9516ddc82548"
  },
  {
   "cell_type": "markdown",
   "metadata": {},
   "source": [
    "### <a name=\"25q8c\">Question 8c</a>\n",
    "\n",
    "------------------------------------------------------------------------\n",
    "\n",
    "If in fact $\\mu = 27$ cm, what is the probability of making a Type II\n",
    "error?\n",
    "\n",
    "#### <a name=\"25sol8c\">Solution to Question 8c</a>\n",
    "\n",
    "------------------------------------------------------------------------"
   ],
   "id": "270e35ad-6a4b-4fd8-a40b-2c6b06190549"
  },
  {
   "cell_type": "code",
   "execution_count": null,
   "metadata": {},
   "outputs": [],
   "source": [
    "# code cell to help with calculations"
   ],
   "id": "6723dba6-5614-489b-8bfe-1e34938d23c9"
  },
  {
   "cell_type": "markdown",
   "metadata": {},
   "source": [
    "<br>  \n",
    "<br>"
   ],
   "id": "efc2b621-b29b-4b98-850d-594e24e79967"
  },
  {
   "cell_type": "code",
   "execution_count": null,
   "metadata": {},
   "outputs": [],
   "source": [
    "#section break"
   ],
   "id": "e3b40bb2-dcb9-40cf-bc1d-789ca09d8dd2"
  },
  {
   "cell_type": "markdown",
   "metadata": {},
   "source": [
    "### <a name=\"25q8d\">Question 8d</a>\n",
    "\n",
    "------------------------------------------------------------------------\n",
    "\n",
    "What is the probability of correctly rejecting $H_0$ when $H_a$ is true?\n",
    "\n",
    "#### <a name=\"25sol8d\">Solution to Question 8d</a>\n",
    "\n",
    "------------------------------------------------------------------------\n",
    "\n",
    "<br>  \n",
    "<br>  \n",
    "<br>"
   ],
   "id": "88d59395-7bc9-448a-b366-4279ae9da1c4"
  },
  {
   "cell_type": "code",
   "execution_count": null,
   "metadata": {},
   "outputs": [],
   "source": [
    "#section break"
   ],
   "id": "ea882181-ef00-4b2a-a41a-a7c28379615e"
  },
  {
   "cell_type": "markdown",
   "metadata": {},
   "source": [
    "## <a name=\"25def-power\">Definition of the Power of a Test</a>\n",
    "\n",
    "------------------------------------------------------------------------\n",
    "\n",
    "The <span style=\"color:dodgerblue\">**power**</span> of a test is the\n",
    "**probability of correctly rejecting $H_0$**.\n",
    "\n",
    "$$\\mbox{power} = P(\\mbox{Reject } H_0 \\  | \\  H_a \\mbox{ is true}) = 1 - \\beta,$$\n",
    "\n",
    "where $\\beta$ denotes the probability of a Type II error."
   ],
   "id": "496950dc-6f2d-4e81-a0cf-d30bc25cd9e4"
  },
  {
   "cell_type": "code",
   "execution_count": null,
   "metadata": {},
   "outputs": [],
   "source": [
    "#section break"
   ],
   "id": "dd4b29a6-b834-4414-8fb9-60b80b393112"
  },
  {
   "cell_type": "markdown",
   "metadata": {},
   "source": [
    "# <a name=\"25prac\">Additional Practice</a>\n",
    "\n",
    "------------------------------------------------------------------------"
   ],
   "id": "3bd71be7-7683-4a93-b63a-2de0bbfd26d1"
  },
  {
   "cell_type": "code",
   "execution_count": null,
   "metadata": {},
   "outputs": [],
   "source": [
    "#section break"
   ],
   "id": "e0c1cfff-121e-436f-addc-b63446c10799"
  },
  {
   "cell_type": "markdown",
   "metadata": {},
   "source": [
    "## <a name=\"25q9\">Question 9</a>\n",
    "\n",
    "------------------------------------------------------------------------\n",
    "\n",
    "Let $X_1$, $X_2$, $X_{12}$ be a random variable from a Bernoulli\n",
    "distribution with unknown probability $p$. We test\n",
    "\n",
    "$$H_0: p=0.3 \\qquad \\mbox{versus} \\qquad H_a: p < 0.3.$$\n",
    "\n",
    "We will reject the null if the number of success\n",
    "$Y= X_1 + X_2 + \\ldots + X_{12} \\leq 1$."
   ],
   "id": "2312898c-5ea3-4c78-8ee0-f4c442eb934a"
  },
  {
   "cell_type": "code",
   "execution_count": null,
   "metadata": {},
   "outputs": [],
   "source": [
    "#section break"
   ],
   "id": "9c0faca2-dcfc-45ad-b323-7fb0ee2b4055"
  },
  {
   "cell_type": "markdown",
   "metadata": {},
   "source": [
    "### <a name=\"25q9a\">Question 9a</a>\n",
    "\n",
    "------------------------------------------------------------------------\n",
    "\n",
    "Find the probability of a Type I error."
   ],
   "id": "230244ac-320e-4ac1-8376-3104819465df"
  },
  {
   "cell_type": "code",
   "execution_count": null,
   "metadata": {},
   "outputs": [],
   "source": [
    "#section break"
   ],
   "id": "7e98bcc8-5629-415d-9744-359baa384a09"
  },
  {
   "cell_type": "markdown",
   "metadata": {},
   "source": [
    "#### <a name=\"25sol9a\">Solution to Question 9a</a>\n",
    "\n",
    "------------------------------------------------------------------------"
   ],
   "id": "272f910e-30b8-453e-a7fc-4118ebdb4533"
  },
  {
   "cell_type": "code",
   "execution_count": null,
   "metadata": {},
   "outputs": [],
   "source": [
    "# code cell to help with calculations"
   ],
   "id": "5ffa6c8c-f218-476b-8f57-b7cf8b651e37"
  },
  {
   "cell_type": "markdown",
   "metadata": {},
   "source": [
    "<br>  \n",
    "<br>"
   ],
   "id": "7c955571-cb7e-488c-8433-72ad2b7ca467"
  },
  {
   "cell_type": "code",
   "execution_count": null,
   "metadata": {},
   "outputs": [],
   "source": [
    "#section break"
   ],
   "id": "2b60a58a-8218-49b5-b5a4-7dd55d7f7be5"
  },
  {
   "cell_type": "markdown",
   "metadata": {},
   "source": [
    "### <a name=\"25q9b\">Question 9b</a>\n",
    "\n",
    "------------------------------------------------------------------------\n",
    "\n",
    "If the alternative hypothesis is true, find an expression for the power,\n",
    "$1-\\beta$, as a function of $p$.\n",
    "\n",
    "#### <a name=\"25sol9b\">Solution to Question 9b</a>\n",
    "\n",
    "------------------------------------------------------------------------"
   ],
   "id": "1df81076-2ec0-4b5b-9471-4596d06c0085"
  },
  {
   "cell_type": "code",
   "execution_count": null,
   "metadata": {},
   "outputs": [],
   "source": [
    "# code cell to help with calculations"
   ],
   "id": "bb1659aa-002a-4d8f-bdd9-2010e328069c"
  },
  {
   "cell_type": "markdown",
   "metadata": {},
   "source": [
    "<br>  \n",
    "<br>"
   ],
   "id": "c8d42745-1bf5-4609-91fe-119ba24f3ce8"
  },
  {
   "cell_type": "code",
   "execution_count": null,
   "metadata": {},
   "outputs": [],
   "source": [
    "#section break"
   ],
   "id": "a2d55fe8-70c2-48aa-b32e-77efd1ab3c9e"
  },
  {
   "cell_type": "markdown",
   "metadata": {},
   "source": [
    "## <a name=\"25q10\">Question 10</a>\n",
    "\n",
    "------------------------------------------------------------------------\n",
    "\n",
    "You draw a random sample $X_1, X_2, \\ldots , X_{10}$ from an exponential\n",
    "distribution $f(x; \\lambda) = \\lambda e^{-\\lambda x}$ (recall\n",
    "$\\mu = 1/\\lambda$). You will test\n",
    "\n",
    "$$H_0: \\lambda = 0.25 \\qquad \\mbox{versus} \\qquad H_a: \\lambda < 0.25.$$\n",
    "\n",
    "You decide you will reject the null hypothesis if at least 3 of the\n",
    "values of $X_i$ are greater than 9."
   ],
   "id": "3728bc37-97ab-4006-a6b5-e47cc9a387a8"
  },
  {
   "cell_type": "code",
   "execution_count": null,
   "metadata": {},
   "outputs": [],
   "source": [
    "#section break"
   ],
   "id": "1ebb04a8-6654-4987-a5bb-75c94e3f11af"
  },
  {
   "cell_type": "markdown",
   "metadata": {},
   "source": [
    "### <a name=\"25q10a\">Question 10a</a>\n",
    "\n",
    "------------------------------------------------------------------------\n",
    "\n",
    "Compute the probability of a Type I error.\n",
    "\n",
    "#### <a name=\"25sol10a\">Solution to Question 10a</a>\n",
    "\n",
    "------------------------------------------------------------------------"
   ],
   "id": "afba8fef-91dd-46ba-83f6-51760e182ece"
  },
  {
   "cell_type": "code",
   "execution_count": null,
   "metadata": {},
   "outputs": [],
   "source": [
    "# code cell to help with calculations"
   ],
   "id": "d9940a5f-03f1-4824-b01e-5d13fb96ddee"
  },
  {
   "cell_type": "markdown",
   "metadata": {},
   "source": [
    "<br>  \n",
    "<br>"
   ],
   "id": "3f0cec9b-4e9a-4909-81dc-4a22b5a2b309"
  },
  {
   "cell_type": "code",
   "execution_count": null,
   "metadata": {},
   "outputs": [],
   "source": [
    "#section break"
   ],
   "id": "c614a192-73d1-4f03-9ea0-932b6e834d0f"
  },
  {
   "cell_type": "markdown",
   "metadata": {},
   "source": [
    "### <a name=\"25q10b\">Question 10b</a>\n",
    "\n",
    "------------------------------------------------------------------------\n",
    "\n",
    "If actually $\\lambda = 0.15$, what is the power of this test?\n",
    "\n",
    "#### <a name=\"25sol10b\">Solution to Question 10b</a>\n",
    "\n",
    "------------------------------------------------------------------------"
   ],
   "id": "71013f80-0dde-470e-994f-295f7ae1ad6d"
  },
  {
   "cell_type": "code",
   "execution_count": null,
   "metadata": {},
   "outputs": [],
   "source": [
    "# code cell to help with calculations"
   ],
   "id": "dc9fe988-c4f7-46d2-b7c2-17d3fc642690"
  },
  {
   "cell_type": "markdown",
   "metadata": {},
   "source": [
    "<br>  \n",
    "<br>"
   ],
   "id": "516864c1-1799-41b0-bb2a-083c1405aaee"
  },
  {
   "cell_type": "code",
   "execution_count": null,
   "metadata": {},
   "outputs": [],
   "source": [
    "#section break"
   ],
   "id": "88340d5e-fb8c-4bcb-ae4d-2ffe4bd89a10"
  },
  {
   "cell_type": "markdown",
   "metadata": {},
   "source": [
    "# <a name=\"25append\">Appendix: Summary of Hypothesis Testing</a>\n",
    "\n",
    "------------------------------------------------------------------------\n",
    "\n",
    "1.  State the <span style=\"color:dodgerblue\">**hypotheses**</span> and\n",
    "    identify (from the alternative claim in $H_a$) if it is a one or\n",
    "    two-tailed test.\n",
    "\n",
    "    -   $H_0$ is the “boring” claim. Express using an equal sign $=$.\n",
    "    -   $H_a$ is the claim we want to show is likely true. Use\n",
    "        inequality sign ($>$, $<$, or $\\ne$).\n",
    "    -   State both $H_0$ and $H_a$ in terms of population parameters\n",
    "        such as $\\mu_1-\\mu_2$ and $p_1-p_2$.\n",
    "\n",
    "2.  Compute the <span style=\"color:dodgerblue\">**test\n",
    "    statistic**</span>.\n",
    "\n",
    "    -   If the observed sample contradicts the null claim, the result is\n",
    "        significant.\n",
    "    -   A standardized test statistic measures how many SE’s the\n",
    "        observed stat is from the null claim.\n",
    "    -   A standardized test statistic with a large absolute value is\n",
    "        supporting evidence to reject $H_0$.\n",
    "\n",
    "3.  Using the null distribution, compute the\n",
    "    <span style=\"color:dodgerblue\">**p-value**</span>. The p-value is\n",
    "    the probability of getting a sample with a test statistic as or more\n",
    "    extreme than the observed sample assuming $H_0$ is true.\n",
    "\n",
    "    -   The p-value is the area in one or both tails beyond the test\n",
    "        statistic.\n",
    "    -   The p-value is a probability, so we have\n",
    "        $0 < \\mbox{p-value} < 1$.\n",
    "    -   The smaller the p-value, the stronger the evidence to reject\n",
    "        $H_0$.\n",
    "\n",
    "4.  Based on the <span style=\"color:dodgerblue\">**significance\n",
    "    level**</span>, $\\alpha$, make a decision to reject or not reject\n",
    "    the null hypothesis\n",
    "\n",
    "    -   If p-value $\\leq \\alpha$, we reject $H_0$.\n",
    "    -   If p-value $> \\alpha$, we do not reject $H_0$.\n",
    "\n",
    "5.  <span style=\"color:dodgerblue\">**Summarize the results**</span> in\n",
    "    practical terms, **in the context of the example**.\n",
    "\n",
    "    -   If we reject $H_0$, this means there is enough evidence to\n",
    "        support the claim in $H_a$.\n",
    "    -   If we do not reject $H_0$, this means there is not evidence to\n",
    "        reject $H_0$ nor support $H_a$. The test is inconclusive."
   ],
   "id": "64090734-5cb8-44ca-8b66-ed5d90fa8a9e"
  },
  {
   "cell_type": "code",
   "execution_count": null,
   "metadata": {},
   "outputs": [],
   "source": [
    "#section break"
   ],
   "id": "8116c864-798f-4766-a010-8f1a1f1a65d5"
  },
  {
   "cell_type": "markdown",
   "metadata": {},
   "source": [
    "------------------------------------------------------------------------\n",
    "\n",
    "![Creative Commons\n",
    "License](https://i.creativecommons.org/l/by-nc-sa/4.0/88x31.png) <nbsp>\n",
    "\n",
    "*Statistical Methods: Exploring the Uncertain* by [Adam\n",
    "Spiegler](https://github.com/CU-Denver-MathStats-OER/Statistical-Theory)\n",
    "is licensed under a [Creative Commons\n",
    "Attribution-NonCommercial-ShareAlike 4.0 International\n",
    "License](http://creativecommons.org/licenses/by-nc-sa/4.0/)."
   ],
   "id": "8caaeb51-8045-4f44-85bd-fe382a7a42dc"
  }
 ],
 "nbformat": 4,
 "nbformat_minor": 5,
 "metadata": {
  "kernelspec": {
   "name": "ir",
   "display_name": "R",
   "language": "R"
  }
 }
}
