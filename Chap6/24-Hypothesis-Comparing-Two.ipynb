{
 "cells": [
  {
   "cell_type": "markdown",
   "metadata": {},
   "source": [
    "[![Open In\n",
    "Colab](https://colab.research.google.com/assets/colab-badge.svg)](https://githubtocolab.com/CU-Denver-MathStats-OER/Statistical-Theory/blob/main/Chap6/24-Hypothesis-Comparing-Two.ipynb)\n",
    "<nbsp>"
   ],
   "id": "318d06fd-8fb3-425c-b353-828af0f9f7c5"
  },
  {
   "cell_type": "code",
   "execution_count": null,
   "metadata": {},
   "outputs": [],
   "source": [
    "# section break"
   ],
   "id": "bacdbe87-1823-4a18-a145-0fdbbd65cd4b"
  },
  {
   "cell_type": "markdown",
   "metadata": {},
   "source": [
    "# <a name=\"24intro\">6.4: Parametric Tests for Two Populations</a>\n",
    "\n",
    "------------------------------------------------------------------------\n",
    "\n",
    "<figure>\n",
    "<img\n",
    "src=\"https://raw.githubusercontent.com/CU-Denver-MathStats-OER/Statistical-Theory/main/Images/24fig-storms.png\"\n",
    "style=\"width:60.0%\" data-fig-align=\"left\"\n",
    "data-fig-alt=\"Map of North Atlantic Storms\"\n",
    "alt=\"Map of North Atlantic Storms\" />\n",
    "<figcaption aria-hidden=\"true\">Map of North Atlantic Storms</figcaption>\n",
    "</figure>\n",
    "\n",
    "When we [discussed parametric\n",
    "methods](23-Hypothesis-Single-Population.qmd) for modeling null\n",
    "distributions that we used to calculate p-values, we focused on tests\n",
    "involving a **single population**, such as claims about a single mean or\n",
    "a single proportion. Often in statistics we would like to investigate\n",
    "whether one variable is associated to another. For example:\n",
    "\n",
    "-   Q1: Is a new medication more effective at preventing disease than\n",
    "    current treatments?\n",
    "-   Q2: Is there a gender pay gap in the US?\n",
    "-   Q3: Is there a region in the North Atlantic where storm strength is\n",
    "    greatest?\n",
    "\n",
    "If we are using one variable to help us understand or predict the values\n",
    "(or category) of another variable:\n",
    "\n",
    "-   We call the first variable the\n",
    "    <span style=\"color:dodgerblue\">**explanatory, independent, or\n",
    "    predictor variable**</span>.\n",
    "-   The second the <span style=\"color:dodgerblue\">**response or\n",
    "    dependent variable**</span>.\n",
    "-   Different categories of a predictor variable are called\n",
    "    <span style=\"color:dodgerblue\">**treatments or levels**</span>.\n",
    "\n",
    "In this section, we develop a parametric method to perform hypothesis\n",
    "tests that compare the response of one variable for two different levels\n",
    "of an explanatory variable.\n",
    "\n",
    "-   The **explanatory variable** is **categorical**, and we compare\n",
    "    **two levels** to each other.\n",
    "-   The response variable may be a categorical or a quantitative\n",
    "    variable.\n",
    "    -   For a **quantitative response**, we make claims about a\n",
    "        **difference in means**.\n",
    "    -   For a **categorical response**, we make claims about a\n",
    "        **difference in proportions**."
   ],
   "id": "a6fd795f-6e61-40bf-8dd9-0cd5f6cdbf55"
  },
  {
   "cell_type": "code",
   "execution_count": null,
   "metadata": {},
   "outputs": [],
   "source": [
    "# section break"
   ],
   "id": "f7978393-8215-4fa2-b91a-5bbcb1ea9c8a"
  },
  {
   "cell_type": "markdown",
   "metadata": {},
   "source": [
    "# <a name=\"24two-q\">Questions that Compare Two Populations</a>\n",
    "\n",
    "------------------------------------------------------------------------\n",
    "\n",
    "In many cases, the explanatory variable of interest in our question has\n",
    "more than just two levels. We can apply hypothesis tests on two\n",
    "populations to compare **two levels of the explanatory variable**. Often\n",
    "the researchers have a goal in mind, and they choose which two levels\n",
    "they would like to compare and/or how the levels are defined. Another\n",
    "group of researchers might approach the same statistical question from a\n",
    "different perspective and choose a different set up."
   ],
   "id": "acad2679-19be-4393-923b-1d9b7d780d13"
  },
  {
   "cell_type": "code",
   "execution_count": null,
   "metadata": {},
   "outputs": [],
   "source": [
    "# section break"
   ],
   "id": "d495e143-5085-4482-8e35-e6e8c8948c22"
  },
  {
   "cell_type": "markdown",
   "metadata": {},
   "source": [
    "## <a name=\"24q1\">Question 1</a>\n",
    "\n",
    "------------------------------------------------------------------------\n",
    "\n",
    "Suppose the explanatory variable for statistical questions Q1, Q2, and\n",
    "Q3 are:\n",
    "\n",
    "-   Q1: *Medication Type*\n",
    "-   Q2: *Gender*\n",
    "-   Q3: *Latitude*\n",
    "\n",
    "In the questions below, set up null and alternative hypothesis (in words\n",
    "and symbolically) to perform a hypothesis test to answer the statistical\n",
    "question."
   ],
   "id": "1d404bae-dad2-44c3-9043-40683aa5f177"
  },
  {
   "cell_type": "code",
   "execution_count": null,
   "metadata": {},
   "outputs": [],
   "source": [
    "# section break"
   ],
   "id": "d537a166-d50d-43d8-ae58-0ac7ef711631"
  },
  {
   "cell_type": "markdown",
   "metadata": {},
   "source": [
    "### <a name=\"24q1a\">Question 1a</a>\n",
    "\n",
    "------------------------------------------------------------------------\n",
    "\n",
    "Q1: **Is a new medication more effective at preventing disease than\n",
    "current treatments?**\n",
    "\n",
    "In general, we might be interested in comparing several treatments. For\n",
    "example, the variable *Medication Type* could have four different\n",
    "levels: Treatment A, Treatment B, Treatment C, or No Treatment. Within\n",
    "our hypothesis test framework, we can compare two different treatments\n",
    "types. Set up hypotheses for the following question:\n",
    "\n",
    "> <span style=\"color:dodgerblue\">Does xylitol (a sweetener) reduce ear\n",
    "> infections in children compared to no treatment (control)?</span>\n",
    "\n",
    "#### <a name=\"24sol1a\">Solution to Question 1a</a>\n",
    "\n",
    "------------------------------------------------------------------------\n",
    "\n",
    "-   $H_0$:\n",
    "\n",
    "-   $H_a$:\n",
    "\n",
    "<br>  \n",
    "<br>"
   ],
   "id": "7484fd24-97d5-43fe-a377-425d8c9c0950"
  },
  {
   "cell_type": "code",
   "execution_count": null,
   "metadata": {},
   "outputs": [],
   "source": [
    "# section break"
   ],
   "id": "c2003ad9-7bd7-47de-9990-f1083c2611f0"
  },
  {
   "cell_type": "markdown",
   "metadata": {},
   "source": [
    "### <a name=\"24q1b\">Question 1b</a>\n",
    "\n",
    "------------------------------------------------------------------------\n",
    "\n",
    "Q2: **Is there a gender pay gap in the US?**\n",
    "\n",
    "The explanatory variable *Gender* may be gathered using different\n",
    "methods: free response question, multiple choice question (with various\n",
    "ways of defining the choices), or pulled directly from available\n",
    "records. Suppose we would like to focus on identifying if there is a pay\n",
    "gap between men and women that have just completed a bachelor’s degree\n",
    "in the US. Set up hypothesis for the following question:\n",
    "\n",
    "> <span style=\"color:dodgerblue\">Do women that have recently completed a\n",
    "> bachelor’s degree in the US get paid less, on average, compared to men\n",
    "> that have recently completed a bachelor’s degree?</span>\n",
    "\n",
    "The **median** is often used as the measure of center to summarize\n",
    "income since the distribution of income is typically heavily skewed.\n",
    "Outliers will have a bigger influence in the analysis if we compare\n",
    "means. With the median, outliers have as much influence as any other\n",
    "observation. However, there is no parametric method for testing claims\n",
    "about medians.\n",
    "\n",
    "#### <a name=\"24sol1b\">Solution to Question 1b</a>\n",
    "\n",
    "------------------------------------------------------------------------\n",
    "\n",
    "-   $H_0$:\n",
    "\n",
    "-   $H_a$:\n",
    "\n",
    "<br>  \n",
    "<br>"
   ],
   "id": "19e43e93-3e57-4694-b05f-dbdf5fa5f670"
  },
  {
   "cell_type": "code",
   "execution_count": null,
   "metadata": {},
   "outputs": [],
   "source": [
    "# section break"
   ],
   "id": "383ad7c4-ca14-4cf7-8115-8cb061831329"
  },
  {
   "cell_type": "markdown",
   "metadata": {},
   "source": [
    "### <a name=\"24q1c\">Question 1c</a>\n",
    "\n",
    "------------------------------------------------------------------------\n",
    "\n",
    "Q3: **Is there a region in the North Atlantic where storm strength is\n",
    "greatest?**\n",
    "\n",
    "The explanatory variable *Latitude* is typically a quantitative variable\n",
    "given in degrees north or south of the equator. There are many different\n",
    "ways a researcher can define different regions, and how they define\n",
    "those regions depends on the data available and their research goals.\n",
    "Set up hypothesis for the following question:\n",
    "\n",
    "> <span style=\"color:dodgerblue\">Is the storm pressure different, on\n",
    "> average, for storms in the North Atlantic above the Tropic of Cancer\n",
    "> compared to those below the Tropic of Cancer?</span>\n",
    "\n",
    "#### <a name=\"24sol1c\">Solution to Question 1c</a>\n",
    "\n",
    "------------------------------------------------------------------------\n",
    "\n",
    "-   $H_0$:\n",
    "\n",
    "-   $H_a$:\n",
    "\n",
    "<br>  \n",
    "<br>"
   ],
   "id": "c0dad00a-10a2-41c1-9ab8-d3aac4981f95"
  },
  {
   "cell_type": "code",
   "execution_count": null,
   "metadata": {},
   "outputs": [],
   "source": [
    "# section break"
   ],
   "id": "4a792178-e861-4ce2-ac68-a99eb5aae772"
  },
  {
   "cell_type": "markdown",
   "metadata": {},
   "source": [
    "# <a name=\"24test-compare\">Hypothesis Tests for Comparing Two Populations</a>\n",
    "\n",
    "------------------------------------------------------------------------\n",
    "\n",
    "When doing a hypothesis test for a difference between population means\n",
    "or two population proportions, we apply the same steps as with previous\n",
    "tests. See [Appendix A](#sec-appenda) for a summary of the steps below.\n",
    "\n",
    "1.  Set up hypotheses.\n",
    "    -   <span style=\"color:tomato\">$H_0$: There is no difference between\n",
    "        the two levels.</span>\n",
    "    -   <span style=\"color:mediumseagreen\">$H_a$: There is a difference\n",
    "        between the two levels.</span>\n",
    "2.  Collect data, calculate the difference in sample statistics, and\n",
    "    find a test statistic.\n",
    "3.  Calculate the p-value. Two possible methods are:\n",
    "4.  Based on the significance level, $\\alpha$, make a conclusion.\n",
    "5.  Clearly summarize the results.\n",
    "\n",
    "In our previous work with hypothesis tests on two populations, we used\n",
    "[two-sample permutations tests](22-Permutation-Tests.qmd) to find\n",
    "standardized test statistics and p-values in steps 2 and 3. We now\n",
    "devise parametric methods for hypothesis tests that compare two\n",
    "populations."
   ],
   "id": "29876572-834b-4799-aa61-7660a5757c8b"
  },
  {
   "cell_type": "code",
   "execution_count": null,
   "metadata": {},
   "outputs": [],
   "source": [
    "# section break"
   ],
   "id": "a93f44ad-1397-40f6-9854-c30dac0d50d8"
  },
  {
   "cell_type": "markdown",
   "metadata": {},
   "source": [
    "## <a name=\"24general\">A General Test Statistic</a>\n",
    "\n",
    "------------------------------------------------------------------------\n",
    "\n",
    "We can apply the Central Limit Theorem, CLT, to standardize the test\n",
    "statistic and calculate p-values using the same strategy as the\n",
    "parametric approach for testing claims about a [single\n",
    "population](23-Hypothesis-Single-Population.qmd). We begin by assuming\n",
    "the claim in the null hypothesis is true:\n",
    "\n",
    "-   <span style=\"color:tomato\">$H_0$: There is no difference. For\n",
    "    example, $\\mu_1 - \\mu_2 =0$ or $p_1 -p_2 = 0$.</span>\n",
    "\n",
    "The <span style=\"color:dodgerblue\">**standardized test\n",
    "statistic**</span> is the $z$-score or t-test statistic corresponding to\n",
    "the observed difference in sample statistics:\n",
    "\n",
    "$${\\color{dodgerblue}{\\mbox{stand test stat} = \\frac{ (\\mbox{diff in sample stats}) - ({\\color{tomato}{\\mbox{diff in null claim}}})}{\\mbox{SE of Null Dist}} = \\frac{ (\\mbox{diff in sample stats}) - {\\color{tomato}{0}}}{\\mbox{SE of Null Dist}}}}.$$\n",
    "\n",
    "To calculate the standardized test statistic, we consider the following\n",
    "questions:\n",
    "\n",
    "1.  Do the samples satisfies [conditions for CLT](#sec-samp-size)?\n",
    "2.  What is the correct probability distribution to use, a\n",
    "    **t-distribution or a normal distribution**?\n",
    "3.  What is the **difference in observed sample statistics**?\n",
    "4.  What is an estimate for the **standard error** of the null\n",
    "    distribution?"
   ],
   "id": "ee9ffe2a-d1bf-4feb-b9d8-d6a49aacc011"
  },
  {
   "cell_type": "code",
   "execution_count": null,
   "metadata": {},
   "outputs": [],
   "source": [
    "# section break"
   ],
   "id": "4319cc19-d80a-411f-a63e-898cc3cade56"
  },
  {
   "cell_type": "markdown",
   "metadata": {},
   "source": [
    "# <a name=\"24diff-means\">Difference in Two Means: Parametric Method</a>\n",
    "\n",
    "------------------------------------------------------------------------"
   ],
   "id": "e4f6479c-05e0-4552-9940-45cf2134bb71"
  },
  {
   "cell_type": "code",
   "execution_count": null,
   "metadata": {},
   "outputs": [],
   "source": [
    "# section break"
   ],
   "id": "652dcb6f-cc67-4ffa-b0bd-044ce394ef54"
  },
  {
   "cell_type": "markdown",
   "metadata": {},
   "source": [
    "## <a name=\"24q2\">Question 2</a>\n",
    "\n",
    "------------------------------------------------------------------------\n",
    "\n",
    "If we are doing a test on a difference of means from two independent\n",
    "populations, then the null claim is <span style=\"color:tomato\">$H_0$:\n",
    "$\\mu_1 - \\mu_2=0$</span> and recall the [CLT for a difference in\n",
    "means](19-Parametric-CI-Means.qmd#sec-clt-diff-means) is\n",
    "\n",
    "$$\\overline{X}_1 - \\overline{X}_2  \\sim N \\left( {\\color{tomato}{\\mu_1 - \\mu_2}} , {\\color{dodgerblue}{\\mbox{SE}}} \\right) = N \\left( {\\color{tomato}{0}} , {\\color{dodgerblue}{\\sqrt{\\frac{\\sigma_1^2}{n_1} + \\frac{\\sigma_2^2}{n_2}}} } \\right).$$\n",
    "Suppose we are performing a test on the difference of two independent\n",
    "means, $\\mu_1 - \\mu_2$, and the **population variances $\\sigma_1^2$ and\n",
    "$\\sigma_2^2$ are unknown**.\n",
    "\n",
    "-   What are reasonable estimates to use in place of $\\sigma_1^2$ and\n",
    "    $\\sigma_2^2$?\n",
    "-   What is a formula for estimating the standard error of the null\n",
    "    distribution?\n",
    "-   Should we use a t-distribution or normal distribution to approximate\n",
    "    the null distribution?\n",
    "\n",
    "Based on your answers to the previous questions, fill in the blanks\n",
    "label (i), (ii), (iii), and (iv) to give a formula for standardized test\n",
    "statistic. *In blank (i), enter either $z$ or $t$ depending on whether a\n",
    "normal or t-distribution is appropriate.*\n",
    "\n",
    "$${\\color{dodgerblue}{\\mbox{(i)} = \\frac{ (\\mbox{diff in sample stats}) - ({\\color{tomato}{\\mbox{diff in null claim}}})}{\\mbox{SE of Null Dist}} = \\frac{ \\mbox{(ii)} - {\\color{tomato}{\\mbox{(iii)}}}}{\\mbox{(iv)}}}}.$$\n",
    "\n",
    "### <a name=\"24sol2\">Solution to Question 2</a>\n",
    "\n",
    "------------------------------------------------------------------------\n",
    "\n",
    "Complete the formula for the standardized test statistic:\n",
    "\n",
    "-   Choose either $z$ or $t$ for blank (i).\n",
    "\n",
    "-   Blank (ii) is ??\n",
    "\n",
    "-   Blank (iii) is ??\n",
    "\n",
    "-   Blank (iv) is ??\n",
    "\n",
    "<br>  \n",
    "<br>"
   ],
   "id": "e69b6890-0ec4-406b-98ee-1334e33a3d91"
  },
  {
   "cell_type": "code",
   "execution_count": null,
   "metadata": {},
   "outputs": [],
   "source": [
    "# section break"
   ],
   "id": "ac98ab6a-dcb9-4075-bb93-0c6389405582"
  },
  {
   "cell_type": "markdown",
   "metadata": {},
   "source": [
    "## <a name=\"24q3\">Question 3</a>\n",
    "\n",
    "------------------------------------------------------------------------\n",
    "\n",
    "We return to our statistical question and hypothesis from \\[Question\n",
    "1b\\] regarding a possible gender pay gap in the US. We collect data from\n",
    "a random sample of people that completed their bachelor’s degree in 2021\n",
    "and compare the starting salaries of men and women in the sample. A\n",
    "sample of 154 women have a mean income of $\\$52,\\!266$ with standard\n",
    "deviation $\\$15,\\!510$ A sample of 122 men have a mean income of\n",
    "$\\$64,\\!022$ with a standard deviation of $\\$16,\\!890$.\n",
    "\n",
    "Is there enough evidence to support the claim that women who have\n",
    "recently completed a bachelor’s degree in the US get paid less, on\n",
    "average, compared to men who have recently completed a bachelor’s\n",
    "degree? Test using a significance level of $\\alpha=0.05$.\n",
    "\n",
    "The statistical question in this example as well as the data are\n",
    "motivated by an analysis of students that earned a bachelor’s degree in\n",
    "the US in 2021 by the [National Association of Colleges and Employers\n",
    "(NACE)](https://www.naceweb.org/job-market/graduate-outcomes/first-destination/).\n",
    "\n",
    "### <a name=\"24sol3\">Solution to Question 3</a>\n",
    "\n",
    "------------------------------------------------------------------------\n",
    "\n",
    "Using the hypotheses you set up in \\[Question 1b\\], answer the\n",
    "following:\n",
    "\n",
    "1.  Based on the sample data, compute the standardized test statistic."
   ],
   "id": "23e2809c-993e-43df-8f1e-a1c19d049b2c"
  },
  {
   "cell_type": "code",
   "execution_count": null,
   "metadata": {},
   "outputs": [],
   "source": [
    "# calculate standardized test statistic\n",
    "#\n",
    "#\n",
    "#\n",
    "#"
   ],
   "id": "136acf9d-e532-4d88-be85-75fdf3fde106"
  },
  {
   "cell_type": "markdown",
   "metadata": {},
   "source": [
    "<br>  \n",
    "<br>\n",
    "\n",
    "1.  Based on your standardized test statistic, compute the p-value."
   ],
   "id": "412f4d09-e107-478c-9f79-90436ffc9b76"
  },
  {
   "cell_type": "code",
   "execution_count": null,
   "metadata": {},
   "outputs": [],
   "source": [
    "# compute p-value\n",
    "#\n",
    "#\n",
    "#"
   ],
   "id": "2a6864ea-e123-4f11-83b3-b90ac4c023d2"
  },
  {
   "cell_type": "markdown",
   "metadata": {},
   "source": [
    "<br>  \n",
    "<br>\n",
    "\n",
    "1.  Make a decision and summarize the results in the context of this\n",
    "    example.\n",
    "\n",
    "<br>  \n",
    "<br>  \n",
    "<br>"
   ],
   "id": "06fec55d-fdd6-4e81-948b-d2f8bdb15432"
  },
  {
   "cell_type": "code",
   "execution_count": null,
   "metadata": {},
   "outputs": [],
   "source": [
    "# section break"
   ],
   "id": "6fa24744-c7e6-4732-aa89-b0b6884527bb"
  },
  {
   "cell_type": "markdown",
   "metadata": {},
   "source": [
    "## <a name=\"24ttest\">Using `t.test()` to Compare Two Populations</a>\n",
    "\n",
    "------------------------------------------------------------------------\n",
    "\n",
    "To calculate a p-value for a test on the difference of means from two\n",
    "independent populations with unknown variances, we can calculate the\n",
    "<span style=\"color:dodgerblue\">**t-test statistic**</span>\n",
    "\n",
    "$${\\boxed{\\color{dodgerblue}{{\\color{tomato}{t}} = \\frac{ \\mbox{diff in sample stats} - 0}{\\mbox{SE of Null Dist}} = \\dfrac{(\\bar{x}_1 - \\bar{x}_2) - 0 }{\\sqrt{\\frac{{\\color{tomato}{s_1}}^2}{n_1} + \\frac{{\\color{tomato}{s_2}}^2}{n_2}}}}}}.$$\n",
    "\n",
    "In \\[Question 3\\], you were conveniently provided numerical summaries of\n",
    "each sample that we substituted into the formula for the t-test\n",
    "statistic. Then we can err on the side caution and choose the **degrees\n",
    "of freedom**, $df$, to be the **smaller of either** $\\mathbf{n_1-1}$ or\n",
    "$\\mathbf{n_2-1}$.\n",
    "\n",
    "If we have access to all the sample data (not just summaries), then we\n",
    "can load the sample data into R and use the `t.test()` function to\n",
    "calculates both the t-test statistic and p-value using a more accurate\n",
    "approximation for $df$ obtained using [Welch’s\n",
    "approximation](19-Parametric-CI-Means.qmd#sec-informal)."
   ],
   "id": "2ba37db3-8319-4df0-92e3-fe2c73d7ab4e"
  },
  {
   "cell_type": "code",
   "execution_count": null,
   "metadata": {},
   "outputs": [],
   "source": [
    "# section break"
   ],
   "id": "4b21cb84-ef4e-4b73-ad00-2ccd27cade0e"
  },
  {
   "cell_type": "markdown",
   "metadata": {},
   "source": [
    "### <a name=\"24ttest-sep\">Samples Stored as Separate Vectors</a>\n",
    "\n",
    "------------------------------------------------------------------------\n",
    "\n",
    "In R, we can use the command `t.test(x1, x2, alt = [direction])`.\n",
    "\n",
    "-   Samples are stored in independent vectors `x1` and `x2`.\n",
    "-   Set the option `alt` based on the inequality used in $H_a$.\n",
    "    -   Use `\"greater\"` for right-tail test.\n",
    "    -   Use `\"less\"` for left-tail test.\n",
    "    -   Use `\"two.sided\"` for a two-tail test.\n",
    "    -   If you do not indicate any `alt` option, the default is a\n",
    "        two-tailed test.\n",
    "-   The default is `mu=0` which is exactly what we want, so we do not\n",
    "    specify this option."
   ],
   "id": "de4c1e90-865a-4d63-ba1c-bd3be9bd0c42"
  },
  {
   "cell_type": "code",
   "execution_count": null,
   "metadata": {},
   "outputs": [],
   "source": [
    "# section break"
   ],
   "id": "9e3ca361-4cbb-498f-ab60-118a4c3db4f6"
  },
  {
   "cell_type": "markdown",
   "metadata": {},
   "source": [
    "### <a name=\"24ttest-subset\">Subsetting Samples Inside `t.test()`</a>\n",
    "\n",
    "------------------------------------------------------------------------\n",
    "\n",
    "Frequently, we would like to compare the means of a quantitative\n",
    "response variable, denoted `quant`, for two different levels of a\n",
    "categorical explanatory variable, denoted `categorical`, both in the\n",
    "same data frame, called `data.name`. The `t.test()` function can\n",
    "simultaneously subset the `quant` data into independent samples and then\n",
    "perform a hypothesis test for the difference in two means:\n",
    "\n",
    "<center>\n",
    "`t.test(quant ~ categorical, data = data.name, alt = [direction])`\n",
    "</center>\n",
    "\n",
    "If the `categorical` variable has exactly two levels, then the command\n",
    "`t.test(quant ~ categorical, data = data.name, alt = [direction])` works\n",
    "as desired. However, if `categorical` has more than two levels, this\n",
    "results in an error. If there are more than two levels, you can first\n",
    "subset or filter the data and then use `t.test()`."
   ],
   "id": "25ebe751-2cc2-464e-88dd-60a3adce021a"
  },
  {
   "cell_type": "code",
   "execution_count": null,
   "metadata": {},
   "outputs": [],
   "source": [
    "# section break"
   ],
   "id": "d87e6ea9-ae89-4f05-8663-5b8dd04cf30b"
  },
  {
   "cell_type": "markdown",
   "metadata": {},
   "source": [
    "## <a name=\"24q4\">Question 4</a>\n",
    "\n",
    "------------------------------------------------------------------------\n",
    "\n",
    "We use the `storms` data set from the [NOAA Hurricane Best Track\n",
    "Data](https://www.nhc.noaa.gov/data/#hurdat) in the `dplyr` package to\n",
    "test if the storm pressure different, on average, for storms in the\n",
    "North Atlantic above the Tropic of Cancer compared to those below the\n",
    "Tropic of Cancer.\n",
    "\n",
    "-   Run the code cell below to load the `dplyr` package (which should\n",
    "    already be installed)."
   ],
   "id": "de815a76-3779-4de2-8a02-e9f69e0989d0"
  },
  {
   "cell_type": "code",
   "execution_count": null,
   "metadata": {},
   "outputs": [],
   "source": [
    "library(dplyr)  # load dplyr package"
   ],
   "id": "ccba595e-936c-41dc-be87-c22dd2154187"
  },
  {
   "cell_type": "markdown",
   "metadata": {},
   "source": [
    "### <a name=\"24q4a\">Question 4a</a>\n",
    "\n",
    "------------------------------------------------------------------------\n",
    "\n",
    "Run the code cell below to calculate the p-value of the sample data in\n",
    "`storms`. Interpret the meaning of the output."
   ],
   "id": "1eafcf0c-9eeb-40b3-8ace-3cdf16732e26"
  },
  {
   "cell_type": "code",
   "execution_count": null,
   "metadata": {},
   "outputs": [],
   "source": [
    "#t.test(pressure ~ lat, data = storms, alt = \"two.tail\")\n",
    "#\n",
    "#\n",
    "#"
   ],
   "id": "ff132ca8-866c-45e7-8920-3185ea076be5"
  },
  {
   "cell_type": "markdown",
   "metadata": {},
   "source": [
    "#### <a name=\"24sol4a\">Solution to Question 4a</a>\n",
    "\n",
    "------------------------------------------------------------------------\n",
    "\n",
    "<br>  \n",
    "<br>  \n",
    "<br>"
   ],
   "id": "e5cf9fbe-6514-48dc-9e92-30ef1fe0f23d"
  },
  {
   "cell_type": "code",
   "execution_count": null,
   "metadata": {},
   "outputs": [],
   "source": [
    "# section break"
   ],
   "id": "b1f493f1-f72e-463f-a397-6a9300188652"
  },
  {
   "cell_type": "markdown",
   "metadata": {},
   "source": [
    "### <a name=\"24q4b\">Question 4b</a>\n",
    "\n",
    "------------------------------------------------------------------------\n",
    "\n",
    "The Tropic of Cancer is the most northerly circle of latitude on Earth\n",
    "at which the Sun can be directly overhead. The position of this circle\n",
    "is constantly wobbling just slightly. The Tropic of Cancer is currently\n",
    "located at $23.43623^{\\circ}$ north of the Equator.\n",
    "\n",
    "#### <a name=\"24mutate\">Creating Levels for the Explanatory Variable with `mutate()`</a>\n",
    "\n",
    "------------------------------------------------------------------------\n",
    "\n",
    "The code cell use the [`mutate()`\n",
    "function](https://www.r-bloggers.com/2022/07/how-to-use-mutate-function-in-r/)\n",
    "that is in the `dplyr` package to create and add a new categorical\n",
    "variable, we name `tropic`, consisting of two levels (`above` and\n",
    "`below`) depending on whether the storm’s location is above or below the\n",
    "Tropic of Cancer. Then the `tapply()` function is used to calculate\n",
    "separate means for the sample of storms above and below the Tropic of\n",
    "Cancer.\n",
    "\n",
    "The data frame `storms` and `mutate()` script are both in the `dplyr`\n",
    "package. Be sure you have already run `library(dplyr)` before running\n",
    "the code cell below."
   ],
   "id": "4afaa3c1-ef9a-4bce-a5c1-09b16f02580c"
  },
  {
   "cell_type": "code",
   "execution_count": null,
   "metadata": {},
   "outputs": [],
   "source": [
    "# create and add new variable tropic to storms\n",
    "storms <- mutate(storms, \n",
    "                 tropic = case_when(lat < 23.43623 ~ 'below',  # below is assigned if lat < 23.43623\n",
    "                                    lat > 23.43623 ~ 'above'))  # above is assigned if lat > 23.43623\n",
    "\n",
    "storms$tropic <- factor(storms$tropic)  # ensure tropic stored as categorical factor\n",
    "tapply(storms$pressure, storms$tropic, mean)  # compare mean pressures"
   ],
   "id": "e57d0757-ba48-4122-9aa9-1bd7d29b6c0a"
  },
  {
   "cell_type": "markdown",
   "metadata": {},
   "source": [
    "**After running the code cell above, complete the code cell below to\n",
    "create side-by-side box plots of the distributions of storm pressures\n",
    "above and below the Tropic of Cancer.**\n",
    "\n",
    "#### <a name=\"24sol4b\">Solution to Question 4b</a>\n",
    "\n",
    "------------------------------------------------------------------------\n",
    "\n",
    "Replace each ?? with an appropriate variable or data frame name."
   ],
   "id": "10bd9ed6-f8d9-49c0-8626-302c4710a157"
  },
  {
   "cell_type": "code",
   "execution_count": null,
   "metadata": {},
   "outputs": [],
   "source": [
    "#boxplot(?? ~ ??, data = ??)\n",
    "#\n",
    "#\n",
    "#\n",
    "#"
   ],
   "id": "b4055225-35b1-4ffb-b4d4-fb337896666f"
  },
  {
   "cell_type": "markdown",
   "metadata": {},
   "source": [
    "<br>  \n",
    "<br>"
   ],
   "id": "af608628-7b0a-4844-acef-300f364325ee"
  },
  {
   "cell_type": "code",
   "execution_count": null,
   "metadata": {},
   "outputs": [],
   "source": [
    "# section break"
   ],
   "id": "53a77902-e402-457b-b6ff-7ae8bc2f2063"
  },
  {
   "cell_type": "markdown",
   "metadata": {},
   "source": [
    "### <a name=\"24q4c\">Question 4c</a>\n",
    "\n",
    "------------------------------------------------------------------------\n",
    "\n",
    "Fill in the `t.test()` function below to compute the test statistic and\n",
    "corresponding p-value based on the sample data in `storms` to test the\n",
    "hypothesis in \\[Question 1c\\]\n",
    "\n",
    "#### <a name=\"24sol\">Solution to Question 4c</a>\n",
    "\n",
    "------------------------------------------------------------------------\n",
    "\n",
    "Complete and run the code cell below."
   ],
   "id": "496aeedd-f7b4-4adc-8187-6b6cf7cca80e"
  },
  {
   "cell_type": "code",
   "execution_count": null,
   "metadata": {},
   "outputs": [],
   "source": [
    "#t.test(?? ~ ??, data = ??, alt = ??)\n",
    "#\n",
    "#\n",
    "#\n",
    "#"
   ],
   "id": "6c46ae58-77a7-4229-8d1e-cfd47862112f"
  },
  {
   "cell_type": "markdown",
   "metadata": {},
   "source": [
    "<br>  \n",
    "<br>"
   ],
   "id": "03875d68-60ff-4c56-8f12-cfa1ae154445"
  },
  {
   "cell_type": "code",
   "execution_count": null,
   "metadata": {},
   "outputs": [],
   "source": [
    "# section break"
   ],
   "id": "9b71a52a-188a-41c8-8afb-b801ecc1a78b"
  },
  {
   "cell_type": "markdown",
   "metadata": {},
   "source": [
    "### <a name=\"24q4d\">Question 4d</a>\n",
    "\n",
    "------------------------------------------------------------------------\n",
    "\n",
    "Based on the output in \\[Question 4c\\], summarize the result of this\n",
    "test in practical terms.\n",
    "\n",
    "#### <a name=\"24sol4d\">Solution to Question 4d</a>\n",
    "\n",
    "------------------------------------------------------------------------\n",
    "\n",
    "<br>  \n",
    "<br>  \n",
    "<br>"
   ],
   "id": "552d2b59-5b76-4891-9493-8ed3b414f693"
  },
  {
   "cell_type": "code",
   "execution_count": null,
   "metadata": {},
   "outputs": [],
   "source": [
    "# section break"
   ],
   "id": "7926f650-fbe3-4fd3-9547-62731fc24f35"
  },
  {
   "cell_type": "markdown",
   "metadata": {},
   "source": [
    "# <a name=\"24diff-prop\">Difference in Proportions: A Parametric Method</a>\n",
    "\n",
    "------------------------------------------------------------------------\n",
    "\n",
    "If we are doing a test on a difference of two proportions, then the null\n",
    "claim is <span style=\"color:tomato\">$H_0$: $p_1 - p_2=0$</span>. We use\n",
    "the difference in sample means,\n",
    "${\\color{dodgerblue}{\\hat{p}_1 - \\hat{p}_2}}$, as the test statistic:\n",
    "\n",
    "$${\\color{dodgerblue}{\\mbox{stand test stat} = \\frac{ (\\mbox{diff in sample stats}) - ({\\color{tomato}{\\mbox{diff in null claim}}})}{\\mbox{SE of Null Dist}} = \\frac{ (\\hat{p}_1 - \\hat{p}_2) - {\\color{tomato}{0}}}{\\mbox{SE of Null Dist}}}}.$$\n",
    "\n",
    "From the [CLT for a difference in\n",
    "proportions](20-Parametric-CI-Proportions.qmd#sec-clt-diffprop) we have\n",
    "\n",
    "$$\\widehat{P}_1 - \\widehat{P}_2  \\sim N \\left( {\\color{tomato}{p_1 - p_2}} , {\\color{dodgerblue}{\\mbox{SE}}} \\right) = N \\left( {\\color{tomato}{0}} , {\\color{dodgerblue}{\\sqrt{\\frac{p_1(1-p_1)}{n_1} + \\frac{p_2(1-p_2)}{n_2}}} } \\right).$$"
   ],
   "id": "ba0d38a6-b0d5-475b-b8ce-a8e53fe542c5"
  },
  {
   "cell_type": "code",
   "execution_count": null,
   "metadata": {},
   "outputs": [],
   "source": [
    "# section break"
   ],
   "id": "596e3a60-cfb8-4d80-a92f-1fea2fee56a0"
  },
  {
   "cell_type": "markdown",
   "metadata": {},
   "source": [
    "## <a name=\"24q5\">Question 5</a>\n",
    "\n",
    "------------------------------------------------------------------------\n",
    "\n",
    "When doing a test on the difference of two proportions, the null\n",
    "hypothesis is the claim $p_1 - p_2 = 0$ or $p_1 = p_2$.\n",
    "\n",
    "-   We have not claimed anything about the value of $p_1$ on its own.\n",
    "-   We have not claimed anything about the value of $p_2$ on its own.\n",
    "\n",
    "**What is a reasonable estimate to plug in place of $p_1$ and $p_2$ in\n",
    "the formula for the standard error?**\n",
    "\n",
    "### <a name=\"24sol5\">Solution ot Question 5</a>\n",
    "\n",
    "------------------------------------------------------------------------\n",
    "\n",
    "<br>  \n",
    "<br>  \n",
    "<br>"
   ],
   "id": "2bab33f5-254c-473e-9e34-b586e66b5b96"
  },
  {
   "cell_type": "code",
   "execution_count": null,
   "metadata": {},
   "outputs": [],
   "source": [
    "# section break"
   ],
   "id": "9f75f51a-0c90-41db-8697-c0a8f4152de3"
  },
  {
   "cell_type": "markdown",
   "metadata": {},
   "source": [
    "## <a name=\"24prop-stat\">Defining a Test Statistic</a>\n",
    "\n",
    "------------------------------------------------------------------------\n",
    "\n",
    "Let $X_1$ and $X_2$ denote the number of successes in samples 1 and 2\n",
    "with sizes $n_1$ and $n_2$, respectively.\n",
    "\n",
    "-   We use a <span style=\"color:dodgerblue\">**normal\n",
    "    distribution**</span> to model the null distribution (as long as\n",
    "    both samples are [large enough](#sec-samp-size)).\n",
    "-   In $H_0$ we assume there is no difference in the two groups, so we\n",
    "    pool the samples together and calculate the\n",
    "    <span style=\"color:dodgerblue\">**sample pooled proportion**</span>:\n",
    "\n",
    "$${\\color{tomato}{\\mbox{sample pooled proportion} = \\hat{p}_p = \\frac{X_1 + X_2}{n_1 + n_2}}}.$$\n",
    "\n",
    "-   To estimate the standard error, we use ${\\color{tomato}{\\hat{p}_p}}$\n",
    "    in place of both $p_1$ and $p_2$.\n",
    "-   The standardized test statistic is the z-score of the difference in\n",
    "    sample proportions:\n",
    "\n",
    "$$\\boxed{{\\color{dodgerblue}{z = \\dfrac{(\\hat{p}_1 - \\hat{p}_2) - 0}{\\mbox{SE of Null Dist}}= \\dfrac{(\\hat{p}_1 - \\hat{p}_2) - 0 }{\\sqrt{{\\color{tomato}{\\hat{p}_p}}(1 -{\\color{tomato}{\\hat{p}_p}})\\left( \\frac{1}{n_1} + \\frac{1}{n_2} \\right)}}}}}.$$"
   ],
   "id": "07e5a52f-ecad-434c-992e-1b2d9e6f8f73"
  },
  {
   "cell_type": "code",
   "execution_count": null,
   "metadata": {},
   "outputs": [],
   "source": [
    "# section break"
   ],
   "id": "0a08038a-5def-498b-abf6-ce0a3ff4f0c9"
  },
  {
   "cell_type": "markdown",
   "metadata": {},
   "source": [
    "## <a name=\"24prop-pvalue\">Calculating the p-Value</a>\n",
    "\n",
    "------------------------------------------------------------------------\n",
    "\n",
    "When doing a hypothesis test on a difference of two proportions, we use\n",
    "a normal distribution to estimate the null distribution and calculate\n",
    "p-values. We can find the z-score of the observed difference in sample\n",
    "proportions, $\\hat{p}_1 - \\hat{p}_2$, and then use a standard normal\n",
    "distribution to calculate the area in one or both of the tails. If we\n",
    "denote the z-score as `z`, then\n",
    "\n",
    "-   For a left-tailed test, p-value = `pnorm(z, 0, 1)`\n",
    "-   For a right-tailed test, p-value = `1 - pnorm(z, 0, 1)`\n",
    "-   For a two-tailed test, p-value = `2 * pnorm(-1*abs(z), 0 , 1)`"
   ],
   "id": "afe92b9b-5f1d-4c89-b185-daf2dc090d1d"
  },
  {
   "cell_type": "code",
   "execution_count": null,
   "metadata": {},
   "outputs": [],
   "source": [
    "# section break"
   ],
   "id": "53d4bea2-845a-4cff-b5bb-bc8d5775d785"
  },
  {
   "cell_type": "markdown",
   "metadata": {},
   "source": [
    "## <a name=\"24q6\">Question 6</a>\n",
    "\n",
    "------------------------------------------------------------------------\n",
    "\n",
    "<figure>\n",
    "<img\n",
    "src=\"https://pix4free.org/assets/library/2021-03-25/originals/ear_infection.jpg\"\n",
    "style=\"width:50.0%\" data-fig-align=\"left\"\n",
    "data-fig-alt=\"Ear Infection Research\"\n",
    "alt=\"Credit: Nick Youngson CC BY-SA 3.0 via Pix4free.org\" />\n",
    "<figcaption aria-hidden=\"true\">Credit: Nick Youngson <a\n",
    "href=\"http://creativecommons.org/licenses/by-sa/3.0/\">CC BY-SA 3.0</a>\n",
    "via <a href=\"https://pix4free.org/\">Pix4free.org</a></figcaption>\n",
    "</figure>\n",
    "\n",
    "It is believed that a sweetener called xylitol helps prevent ear\n",
    "infections. In a randomized experiment[1] $n_1 = 165$ children took a\n",
    "placebo and $68$ of them got ear infections. Another $n_2 = 159$\n",
    "children took xylitol and $46$ of them got ear infections. We believe\n",
    "that the proportion of ear infections in the placebo group will be\n",
    "greater than the xylitol group. Use $\\alpha=0.01$.\n",
    "\n",
    "### <a name=\"24sol6\">Solution to Question 6</a>\n",
    "\n",
    "------------------------------------------------------------------------\n",
    "\n",
    "1.  State the hypotheses.\n",
    "\n",
    "-   $H_0$:\n",
    "\n",
    "-   $H_a$:\n",
    "\n",
    "<br>  \n",
    "<br>\n",
    "\n",
    "1.  Estimate the standard error of the null distribution.\n",
    "\n",
    "[1] This example is based on research by [University of Toronto Faculty\n",
    "of Dentistry](https://www.ncbi.nlm.nih.gov/pmc/articles/PMC8485974/).\n",
    "The data provided in this question has been modified from the original\n",
    "research."
   ],
   "id": "21d90f48-c8a3-4570-b6b8-93f1a78a2853"
  },
  {
   "cell_type": "code",
   "execution_count": null,
   "metadata": {},
   "outputs": [],
   "source": [
    "# estimate of SE\n",
    "#\n",
    "#\n",
    "#\n",
    "#"
   ],
   "id": "538f940f-7feb-4e38-8010-c9fc60eecdf4"
  },
  {
   "cell_type": "markdown",
   "metadata": {},
   "source": [
    "<br> <br>\n",
    "\n",
    "1.  Based on your answer to part (b), use the parametric formula to find\n",
    "    the z-score of the observed difference in sample proportions."
   ],
   "id": "6a84c6d3-86f1-42dc-b680-e8edd79e5448"
  },
  {
   "cell_type": "code",
   "execution_count": null,
   "metadata": {},
   "outputs": [],
   "source": [
    "# calculate standardized test statistic\n",
    "#\n",
    "#\n",
    "#\n",
    "#"
   ],
   "id": "c97a6758-8a49-4f1b-be04-bd7f05081731"
  },
  {
   "cell_type": "markdown",
   "metadata": {},
   "source": [
    "<br> <br>\n",
    "\n",
    "1.  Based on your answer to part (c), compute the p-value."
   ],
   "id": "f4227d88-6c30-4870-9dbc-f762b968924d"
  },
  {
   "cell_type": "code",
   "execution_count": null,
   "metadata": {},
   "outputs": [],
   "source": [
    "# calculate p-value\n",
    "#\n",
    "#\n",
    "#\n",
    "#"
   ],
   "id": "7b1ce459-3b25-44c5-b699-60df100c4371"
  },
  {
   "cell_type": "markdown",
   "metadata": {},
   "source": [
    "<br> <br>\n",
    "\n",
    "1.  Make a decision and summarize the results in the context of this\n",
    "    problem.\n",
    "\n",
    "<br>  \n",
    "<br>  \n",
    "<br>"
   ],
   "id": "ca700c8e-bfe8-4860-bafc-fdf7c9ecb014"
  },
  {
   "cell_type": "code",
   "execution_count": null,
   "metadata": {},
   "outputs": [],
   "source": [
    "# section break"
   ],
   "id": "35e3cb92-7b58-4e3e-a96d-db4d306bc113"
  },
  {
   "cell_type": "markdown",
   "metadata": {},
   "source": [
    "## <a name=\"24cont-corr\">Applying a Continuity Correction</a>\n",
    "\n",
    "------------------------------------------------------------------------\n",
    "\n",
    "-   The CLT approximation uses a continuous normal distribution to\n",
    "    estimate a discrete distribution.\n",
    "-   We can improve the approximation using a\n",
    "    <span style=\"color:dodgerblue\">**continuity correction**</span> that\n",
    "    [we saw earlier](11-Sampling-Dist-Prop.qmd#sec-cont-corr).\n",
    "-   **Add or subtract $0.5$ from each success count** so the\n",
    "    **difference in proportions becomes closer to 0**, and thus gives a\n",
    "    larger p-value."
   ],
   "id": "f43ed411-99b8-4775-9e0e-084b4f9e4b4d"
  },
  {
   "cell_type": "code",
   "execution_count": null,
   "metadata": {},
   "outputs": [],
   "source": [
    "# section break"
   ],
   "id": "30b96f6e-0f80-46a5-bcb0-93a76a898eca"
  },
  {
   "cell_type": "markdown",
   "metadata": {},
   "source": [
    "## <a name=\"24q7\">Question 7</a>\n",
    "\n",
    "------------------------------------------------------------------------\n",
    "\n",
    "Redo the solution to \\[Question 6\\] by applying a continuity correction.\n",
    "\n",
    "### <a name=\"24sol7\">Solution to Question 7</a>\n",
    "\n",
    "------------------------------------------------------------------------\n",
    "\n",
    "1.  Hypotheses are the same as in \\[Question 6\\].\n",
    "\n",
    "2.  Standard error is the same as in \\[Question 6\\]\n",
    "\n",
    "3.  Based on the SE in (b), use the parametric formula **along with a\n",
    "    continuity correction** to find the z-score of the observed\n",
    "    difference in sample proportions."
   ],
   "id": "c4261714-f53d-4efd-bc70-2b0247c1d1b7"
  },
  {
   "cell_type": "code",
   "execution_count": null,
   "metadata": {},
   "outputs": [],
   "source": [
    "# calculate standardized test statistic\n",
    "#\n",
    "#\n",
    "#\n",
    "#"
   ],
   "id": "af1947fb-1a49-419c-a272-9821a642e768"
  },
  {
   "cell_type": "markdown",
   "metadata": {},
   "source": [
    "<br> <br>\n",
    "\n",
    "1.  Based on your answer to part (c), compute the p-value."
   ],
   "id": "43997469-7970-4c6d-bd59-70baa948f7fa"
  },
  {
   "cell_type": "code",
   "execution_count": null,
   "metadata": {},
   "outputs": [],
   "source": [
    "# calculate p-value"
   ],
   "id": "369650df-0c20-4e5d-a60c-3e0bbc23fa9a"
  },
  {
   "cell_type": "markdown",
   "metadata": {},
   "source": [
    "<br> <br>\n",
    "\n",
    "1.  Does the p-value in part (d) lead to a different result than in\n",
    "    \\[Question 6\\]? Explain.\n",
    "\n",
    "<br>  \n",
    "<br>  \n",
    "<br>"
   ],
   "id": "ceb328a5-a585-441c-9d3d-91da134dc697"
  },
  {
   "cell_type": "code",
   "execution_count": null,
   "metadata": {},
   "outputs": [],
   "source": [
    "# section break"
   ],
   "id": "05eb2cc9-15ec-4452-a87f-b33cc902112f"
  },
  {
   "cell_type": "markdown",
   "metadata": {},
   "source": [
    "## <a name=\"24prop-test\">Using the `prop.test()` Function</a>\n",
    "\n",
    "------------------------------------------------------------------------\n",
    "\n",
    "If one sample has size $n_1$ with $X_1$ successes and the other sample\n",
    "has size $n_2$ with $X_2$ successes, then we can use the `prop.test()`\n",
    "function in R:\n",
    "\n",
    "<center>\n",
    "`prop.test(c(X1, X2), c(n1, n2), alt = [direction], correct = [option])`\n",
    "</center>\n",
    "\n",
    "<br>\n",
    "\n",
    "-   The `alt` option works the [same as with `t.test()`](#sec-alt).\n",
    "-   We can turn the continuity correction on or off with the `correct`\n",
    "    option.\n",
    "    -   Use `correct = TRUE` to apply a continuity correction.\n",
    "    -   Use `corret = FALSE` if you do not want to apply a correction.\n",
    "    -   If you do not indicate any `correct` option, the default is\n",
    "        `TRUE`."
   ],
   "id": "0b6ff7c9-cc39-4fd6-8577-04b1988a691f"
  },
  {
   "cell_type": "code",
   "execution_count": null,
   "metadata": {},
   "outputs": [],
   "source": [
    "# section break"
   ],
   "id": "3ea1fd3c-6fa7-41c6-ac65-818c834db55d"
  },
  {
   "cell_type": "markdown",
   "metadata": {},
   "source": [
    "## <a name=\"24q8\">Question 8</a>\n",
    "\n",
    "------------------------------------------------------------------------\n",
    "\n",
    "Use the `prop.test()` function to verify your work in \\[Question 6\\] and\n",
    "in \\[Question 7\\].\n",
    "\n",
    "### <a name=\"24sol8\">Solution to Question 8</a>\n",
    "\n",
    "------------------------------------------------------------------------"
   ],
   "id": "3a092a5b-afce-416d-8db3-fac36cc76dce"
  },
  {
   "cell_type": "code",
   "execution_count": null,
   "metadata": {},
   "outputs": [],
   "source": [
    "#verify answers to question 6\n",
    "#prop.test(??, ??, alt = ??, correct = ??)\n",
    "#\n",
    "#\n",
    "#"
   ],
   "id": "434654c9-203a-4c76-b329-44dd61bd8f49"
  },
  {
   "cell_type": "code",
   "execution_count": null,
   "metadata": {},
   "outputs": [],
   "source": [
    "#verify answers to question 7\n",
    "#prop.test(??, ??, alt = ??, correct = ??)\n",
    "#\n",
    "#\n",
    "#"
   ],
   "id": "1a9803de-6f74-4c53-b214-58caef3bf631"
  },
  {
   "cell_type": "markdown",
   "metadata": {},
   "source": [
    "<br>  \n",
    "<br>"
   ],
   "id": "bbd104c4-ee34-439f-85a4-0f82c87873fc"
  },
  {
   "cell_type": "code",
   "execution_count": null,
   "metadata": {},
   "outputs": [],
   "source": [
    "# section break"
   ],
   "id": "154543d8-b2ea-4a83-87df-3fc96225a752"
  },
  {
   "cell_type": "markdown",
   "metadata": {},
   "source": [
    "# <a name=\"24matched\">Matched Pairs: A Parametric Approach</a>\n",
    "\n",
    "------------------------------------------------------------------------"
   ],
   "id": "372a6e96-f2fe-428f-bcfd-437bbf93b836"
  },
  {
   "cell_type": "code",
   "execution_count": null,
   "metadata": {},
   "outputs": [],
   "source": [
    "# section break"
   ],
   "id": "c6aed4ed-9d65-4fce-bf9c-8c419f872c0a"
  },
  {
   "cell_type": "markdown",
   "metadata": {},
   "source": [
    "## <a name=\"24q9\">Question 9</a>\n",
    "\n",
    "------------------------------------------------------------------------\n",
    "\n",
    "In this example, we use data collected from a matched pair designed\n",
    "study to determine whether smoking during pregnancy is associated with\n",
    "lower birth weight. In our study, we solicit volunteers that have\n",
    "already given birth to two babies. During one of the pregnancies, the\n",
    "parent smoked. During the other pregnancy, they did not smoke. Below is\n",
    "hypothetical data from such a study. A sample of $n=10$ people volunteer\n",
    "to share their data with the researchers from which we have 10 different\n",
    "pairs of birth weights (in grams) summarized in the table below.\n",
    "\n",
    "|            | 1    | 2    | 3    | 4    | 5    | 6    | 7    | 8    | 9    | 10   |\n",
    "|------------|------|------|------|------|------|------|------|------|------|------|\n",
    "| No Smoking | 2750 | 2920 | 3860 | 3402 | 2282 | 3790 | 3586 | 3487 | 2920 | 2835 |\n",
    "| Smoked     | 1790 | 2381 | 3940 | 3317 | 2125 | 2665 | 3572 | 3156 | 2721 | 2225 |"
   ],
   "id": "b4613507-2d1a-43df-a702-3259984a93cd"
  },
  {
   "cell_type": "code",
   "execution_count": null,
   "metadata": {},
   "outputs": [],
   "source": [
    "# data from study\n",
    "no <- c(2750, 2920, 3860, 3402, 2282, \n",
    "        3790, 3586, 3487, 2920, 2835)  # non-smoking births weights\n",
    "\n",
    "smoker <- c(1790, 2381, 3940, 3317, 2125, \n",
    "            2665, 3572, 3156, 2721, 2225)  # matching smoking birth weight\n",
    "\n",
    "diff <- no - smoker  # vector of matched pair differences"
   ],
   "id": "b56ebf8e-0a9a-430f-b23a-20a3c00bfad7"
  },
  {
   "cell_type": "markdown",
   "metadata": {},
   "source": [
    "Researchers will perform a hypothesis test to determine if the birth\n",
    "weight of babies born to a parent that smoked while pregnant is less, on\n",
    "average, compared to a babies whose parent did not smoke while they were\n",
    "pregnant.\n",
    "\n",
    "### <a name=\"24sol9\">Solution to Question 9</a>\n",
    "\n",
    "------------------------------------------------------------------------\n",
    "\n",
    "1.  Set up the hypothesis for the test both in words and using\n",
    "    appropriate notation.\n",
    "\n",
    "-   $H_0$:\n",
    "\n",
    "-   $H_a$:\n",
    "\n",
    "<br>  \n",
    "<br>\n",
    "\n",
    "1.  Use the data stored in `no`, `smoker`, and/or `diff` to calculate a\n",
    "    reasonable test statistic."
   ],
   "id": "62fbc89b-e21f-4a4b-a7ea-2047c61141a8"
  },
  {
   "cell_type": "code",
   "execution_count": null,
   "metadata": {},
   "outputs": [],
   "source": [
    "# compute a test statistic\n",
    "#\n",
    "#\n",
    "#\n",
    "#"
   ],
   "id": "8f9aa67f-be02-4c75-a5af-974b190c72f0"
  },
  {
   "cell_type": "markdown",
   "metadata": {},
   "source": [
    "<br>  \n",
    "<br>  \n",
    "<br>\n",
    "\n",
    "1.  Calculate the p-value of the observed sample."
   ],
   "id": "5c599e90-4be2-4dba-83ed-d136e5cf2778"
  },
  {
   "cell_type": "code",
   "execution_count": null,
   "metadata": {},
   "outputs": [],
   "source": [
    "# compute p-value\n",
    "#\n",
    "#\n",
    "#\n",
    "#"
   ],
   "id": "6acf23dc-fefe-4d82-a2af-3625acbf8c5f"
  },
  {
   "cell_type": "markdown",
   "metadata": {},
   "source": [
    "1.  What would the conclusion be at a 5% significance level? Summarize\n",
    "    the result in the context of this problem.\n",
    "\n",
    "<br>  \n",
    "<br>  \n",
    "<br>"
   ],
   "id": "6b3891bc-9737-4cd5-9fd1-121ca96050da"
  },
  {
   "cell_type": "code",
   "execution_count": null,
   "metadata": {},
   "outputs": [],
   "source": [
    "# section break"
   ],
   "id": "9d3bc269-3778-4feb-8c9c-a06ab86eac94"
  },
  {
   "cell_type": "markdown",
   "metadata": {},
   "source": [
    "# <a name=\"24own-q\">Test Your Own Questions</a>\n",
    "\n",
    "------------------------------------------------------------------------"
   ],
   "id": "3ac341ba-9371-4584-a64c-e3c2a891db2a"
  },
  {
   "cell_type": "code",
   "execution_count": null,
   "metadata": {},
   "outputs": [],
   "source": [
    "# section break"
   ],
   "id": "155465bb-0213-458b-bf83-ab0ab20be24d"
  },
  {
   "cell_type": "markdown",
   "metadata": {},
   "source": [
    "## <a name=\"24q10\">Question 10</a>\n",
    "\n",
    "------------------------------------------------------------------------\n",
    "\n",
    "The data set `storms` in the `dplyr` package is summarized below."
   ],
   "id": "6a3a0cee-3ee8-4e74-bc09-6a11e470b876"
  },
  {
   "cell_type": "code",
   "execution_count": null,
   "metadata": {},
   "outputs": [],
   "source": [
    "library(dplyr) \n",
    "summary(storms)"
   ],
   "id": "b86fecef-e9fe-40ba-92a9-a1638c07d21b"
  },
  {
   "cell_type": "code",
   "execution_count": null,
   "metadata": {},
   "outputs": [],
   "source": [
    "# section break"
   ],
   "id": "74abc321-d501-4031-a7a2-209a7769e279"
  },
  {
   "cell_type": "markdown",
   "metadata": {},
   "source": [
    "### <a name=\"24q10a\">Question 10a</a>\n",
    "\n",
    "------------------------------------------------------------------------\n",
    "\n",
    "Write one possible claim that could be tested by a hypothesis test for a\n",
    "**difference in two means**. Then write the corresponding hypotheses and\n",
    "calculate the p-value of the observed samples using the `t.test()`\n",
    "function. What is the result of your test?\n",
    "\n",
    "#### <a name=\"24sol10a\">Solution to Question 10a</a>\n",
    "\n",
    "------------------------------------------------------------------------\n",
    "\n",
    "-   $H_0$:\n",
    "-   $H_a$:"
   ],
   "id": "0627a8a2-515d-4352-8c8e-563ceb5f7e26"
  },
  {
   "cell_type": "code",
   "execution_count": null,
   "metadata": {},
   "outputs": [],
   "source": [
    "# find p-value \n",
    "#t.test(??)\n",
    "#\n",
    "#"
   ],
   "id": "41de3edc-6bb9-4930-9028-a9c6e79d2255"
  },
  {
   "cell_type": "markdown",
   "metadata": {},
   "source": [
    "<br>\n",
    "\n",
    "**Summarize Result:**\n",
    "\n",
    "<br>  \n",
    "<br>"
   ],
   "id": "0811a09b-c970-4ae6-b995-e84a43eae4cf"
  },
  {
   "cell_type": "code",
   "execution_count": null,
   "metadata": {},
   "outputs": [],
   "source": [
    "# section break"
   ],
   "id": "56996325-13d4-4e32-a988-0685c848b26f"
  },
  {
   "cell_type": "markdown",
   "metadata": {},
   "source": [
    "### <a name=\"24q10b\">Question 10b</a>\n",
    "\n",
    "------------------------------------------------------------------------\n",
    "\n",
    "Write one possible claim that could be tested by a hypothesis test for a\n",
    "**difference in two proportions**. Then write the corresponding\n",
    "hypotheses and calculate the p-value of the observed samples using the\n",
    "`prop.test()` function. What is the result of your test?\n",
    "\n",
    "#### <a name=\"24sol10b\">Solution to Question 10b</a>\n",
    "\n",
    "------------------------------------------------------------------------\n",
    "\n",
    "-   $H_0$:\n",
    "-   $H_a$:"
   ],
   "id": "596322e3-82c8-455d-bfe9-adf40e34a6a2"
  },
  {
   "cell_type": "code",
   "execution_count": null,
   "metadata": {},
   "outputs": [],
   "source": [
    "# find p-value \n",
    "#prop.test(??)\n",
    "#\n",
    "#"
   ],
   "id": "7577aabf-1491-4b95-ac17-7ecf953d5720"
  },
  {
   "cell_type": "markdown",
   "metadata": {},
   "source": [
    "<br>\n",
    "\n",
    "**Summarize Result:**\n",
    "\n",
    "<br>  \n",
    "<br>"
   ],
   "id": "ab2577ad-a80b-411f-9644-833e7429d53c"
  },
  {
   "cell_type": "code",
   "execution_count": null,
   "metadata": {},
   "outputs": [],
   "source": [
    "# section break"
   ],
   "id": "a3e67f9a-3ba7-443d-8e17-69e691972f80"
  },
  {
   "cell_type": "markdown",
   "metadata": {},
   "source": [
    "### <a name=\"24q10c\">Question 10c</a>\n",
    "\n",
    "------------------------------------------------------------------------\n",
    "\n",
    "Write one possible claim that could be tested by a hypothesis test for a\n",
    "**single mean**. Then write the corresponding hypotheses and calculate\n",
    "the p-value of the observed samples using the `t.test()` function. What\n",
    "is the result of your test?\n",
    "\n",
    "#### <a name=\"24sol10c\">Solution to Question 10c</a>\n",
    "\n",
    "------------------------------------------------------------------------\n",
    "\n",
    "-   $H_0$:\n",
    "-   $H_a$:"
   ],
   "id": "00dd1fd7-a246-4e0b-9cbd-7edb609c4581"
  },
  {
   "cell_type": "code",
   "execution_count": null,
   "metadata": {},
   "outputs": [],
   "source": [
    "# find p-value \n",
    "#t.test(??)\n",
    "#\n",
    "#"
   ],
   "id": "2ee33bf1-919c-4431-90f0-0f71c1421685"
  },
  {
   "cell_type": "markdown",
   "metadata": {},
   "source": [
    "<br>\n",
    "\n",
    "**Summarize Result:**\n",
    "\n",
    "<br>  \n",
    "<br>"
   ],
   "id": "a841ef88-3a1b-4c4e-87b3-370ba6a23a9e"
  },
  {
   "cell_type": "code",
   "execution_count": null,
   "metadata": {},
   "outputs": [],
   "source": [
    "# section break"
   ],
   "id": "da8c1d8e-9078-46f1-ac98-5ef59b893769"
  },
  {
   "cell_type": "markdown",
   "metadata": {},
   "source": [
    "### <a name=\"24q10d\">Question 10d</a>\n",
    "\n",
    "------------------------------------------------------------------------\n",
    "\n",
    "Write one possible claim that could be tested by a hypothesis test for a\n",
    "**single proportion**. Then write the corresponding hypotheses and\n",
    "calculate the p-value of the observed sample using a binomial\n",
    "distribution. What is the result of your test?\n",
    "\n",
    "#### <a name=\"24sol10d\">Solution to Question 10d</a>\n",
    "\n",
    "------------------------------------------------------------------------\n",
    "\n",
    "-   $H_0$:\n",
    "-   $H_a$:"
   ],
   "id": "8b7ac6ae-c11e-4448-8e59-ae87b9759ef8"
  },
  {
   "cell_type": "code",
   "execution_count": null,
   "metadata": {},
   "outputs": [],
   "source": [
    "# find p-value \n",
    "#\n",
    "#\n",
    "#"
   ],
   "id": "e7a5e8de-f85d-4397-995f-f02d1e23de6c"
  },
  {
   "cell_type": "markdown",
   "metadata": {},
   "source": [
    "<br>\n",
    "\n",
    "**Summarize Result:**\n",
    "\n",
    "<br>  \n",
    "<br>"
   ],
   "id": "b9097fcd-1537-4d89-ab8c-e10f7d570035"
  },
  {
   "cell_type": "code",
   "execution_count": null,
   "metadata": {},
   "outputs": [],
   "source": [
    "# section break"
   ],
   "id": "f3d2a9e5-784b-47e6-83a9-f9875f5d3204"
  },
  {
   "cell_type": "markdown",
   "metadata": {},
   "source": [
    "# \\<a name=“24”append”\\>Appendix</a>\n",
    "\n",
    "------------------------------------------------------------------------"
   ],
   "id": "d1ebb857-e8dc-41d4-aa57-c85c4cac5472"
  },
  {
   "cell_type": "code",
   "execution_count": null,
   "metadata": {},
   "outputs": [],
   "source": [
    "# section break"
   ],
   "id": "17be152f-0bec-4f8d-968b-4ab7225e61cb"
  },
  {
   "cell_type": "markdown",
   "metadata": {},
   "source": [
    "## <a name=\"24appenda\">Appendix A: Summary of Hypothesis Testing</a>\n",
    "\n",
    "------------------------------------------------------------------------\n",
    "\n",
    "1.  State the <span style=\"color:dodgerblue\">**hypotheses**</span> and\n",
    "    identify (from the alternative claim in $H_a$) if it is a one or\n",
    "    two-tailed test.\n",
    "\n",
    "    -   $H_0$ is the “boring” claim. Express using an equal sign $=$.\n",
    "    -   $H_a$ is the claim we want to show is likely true. Use\n",
    "        inequality sign ($>$, $<$, or $\\ne$).\n",
    "    -   State both $H_0$ and $H_a$ in terms of population parameters\n",
    "        such as $\\mu_1-\\mu_2$ and $p_1-p_2$.\n",
    "\n",
    "2.  Compute the <span style=\"color:dodgerblue\">**test\n",
    "    statistic**</span>.\n",
    "\n",
    "    -   If the observed sample contradicts the null claim, the result is\n",
    "        significant.\n",
    "    -   A standardized test statistic measures how many SE’s the\n",
    "        observed stat is from the null claim.\n",
    "    -   A standardized test statistic with a large absolute value is\n",
    "        supporting evidence to reject $H_0$.\n",
    "\n",
    "3.  Using the null distribution, compute the\n",
    "    <span style=\"color:dodgerblue\">**p-value**</span>. The p-value is\n",
    "    the probability of getting a sample with a test statistic as or more\n",
    "    extreme than the observed sample assuming $H_0$ is true.\n",
    "\n",
    "    -   The p-value is the area in one or both tails beyond the test\n",
    "        statistic.\n",
    "    -   The p-value is a probability, so we have\n",
    "        $0 < \\mbox{p-value} < 1$.\n",
    "    -   The smaller the p-value, the stronger the evidence to reject\n",
    "        $H_0$.\n",
    "\n",
    "4.  Based on the <span style=\"color:dodgerblue\">**significance\n",
    "    level**</span>, $\\alpha$, make a decision to reject or not reject\n",
    "    the null hypothesis\n",
    "\n",
    "    -   If p-value $\\leq \\alpha$, we reject $H_0$.\n",
    "    -   If p-value $> \\alpha$, we do not reject $H_0$.\n",
    "\n",
    "5.  <span style=\"color:dodgerblue\">**Summarize the results**</span> in\n",
    "    practical terms, **in the context of the problem**.\n",
    "\n",
    "    -   If we reject $H_0$, this means there is enough evidence to\n",
    "        support the claim in $H_a$.\n",
    "    -   If we do not reject $H_0$, this means there is not evidence to\n",
    "        reject $H_0$ nor support $H_a$. The test is inconclusive."
   ],
   "id": "c9c225eb-ce2b-433e-b8f4-2a5af9a8c539"
  },
  {
   "cell_type": "code",
   "execution_count": null,
   "metadata": {},
   "outputs": [],
   "source": [
    "# section break"
   ],
   "id": "d514bbb9-3a25-4b04-8783-13d963029d0d"
  },
  {
   "cell_type": "markdown",
   "metadata": {},
   "source": [
    "## <a name=\"24appendb\">Appendix B: Sample Sizes and the CLT </a>\n",
    "\n",
    "------------------------------------------------------------------------\n",
    "\n",
    "-   For a **single mean**, we can use the CTL to perform a hypothesis\n",
    "    test as long as:\n",
    "\n",
    "    -   Either the population is symmetric or $n \\geq 30$.\n",
    "    -   If the sample is symmetric, we can assume the population is\n",
    "        symmetric.\n",
    "\n",
    "-   For a **difference in two means** , we can use the CTL to perform a\n",
    "    hypothesis test as long as:\n",
    "\n",
    "    -   Population 1 is either symmetric or $n_1 \\geq 30$, and\n",
    "    -   Population 2 is either symmetric or $n_2 \\geq 30$.\n",
    "\n",
    "-   For a **single proportion**, we can use the CTL to perform a\n",
    "    hypothesis test as long as:\n",
    "\n",
    "    -   Both $n\\hat{p} \\geq 10$ and $n(1-\\hat{p}) \\geq 10$.\n",
    "\n",
    "-   For a **difference in two proportions**, we can use the CTL to\n",
    "    perform a hypothesis test as long as:\n",
    "\n",
    "    -   All of $n_1\\hat{p}_1 \\geq 10$, $n_1(1-\\hat{p}_1) \\geq 10$,\n",
    "        $n_2\\hat{p}_2 \\geq 10$, and $n_2(1-\\hat{p}_2) \\geq 10$ are\n",
    "        satisfied."
   ],
   "id": "307196a1-222d-425f-8d3b-f24f8aad2ba6"
  },
  {
   "cell_type": "code",
   "execution_count": null,
   "metadata": {},
   "outputs": [],
   "source": [
    "# section break"
   ],
   "id": "9e1b6db1-ead7-4261-8ef6-e9d09e36bcbc"
  },
  {
   "cell_type": "markdown",
   "metadata": {},
   "source": [
    "## <a name=\"24appendc\">Appendix C: Parametric Formulas</a>\n",
    "\n",
    "------------------------------------------------------------------------\n",
    "\n",
    "| Parameter(s)                                                      | Sample Stat             | Standard Error                                                                                                   | Distribution                          |\n",
    "|---------------------|---------------|--------------------|-----------------|\n",
    "| A single mean <br> ($\\sigma^2$ known)                             | $\\bar{x}$               | $\\dfrac{\\sigma}{\\sqrt{n}}$                                                                                       | $N(0,1)$                              |\n",
    "| A single mean <br> ($\\sigma^2$ unknown)                           | $\\bar{x}$               | $\\dfrac{{\\color{tomato}{s}}}{\\sqrt{n}}$                                                                          | ${\\color{tomato}{t_{n-1}}}$           |\n",
    "| A single proportion                                               | $\\hat{p}$               | Not Applicable                                                                                                   | $\\mbox{Binom}(n, p_0)$                |\n",
    "| A difference in two means (unknown $\\sigma_1^2$ and $\\sigma_2^2$) | $\\bar{x}_1 - \\bar{x}_2$ | $\\sqrt{\\dfrac{{\\color{tomato}{s_1}}^2}{n_1} + \\dfrac{{\\color{tomato}{s_2}}^2}{n_2}}$                             | ${\\color{tomato}{t_{n_{\\rm min}-1}}}$ |\n",
    "| A difference in two proportions                                   | $\\hat{p}_1 - \\hat{p}_2$ | $\\sqrt{{\\color{tomato}{\\hat{p}_p}}(1 -{\\color{tomato}{\\hat{p}_p}})\\left( \\frac{1}{n_1} + \\frac{1}{n_2} \\right)}$ | $N(0,1)$                              |\n",
    "| Mean difference between matched-pairs                             | $\\bar{x}_{\\rm diff}$    | $\\dfrac{{\\color{tomato}{s_{\\rm diff}}}}{\\sqrt{n}}$                                                               | ${\\color{tomato}{t_{n-1}}}$           |"
   ],
   "id": "66dcdd4a-53a0-4cac-918b-7fff78642884"
  },
  {
   "cell_type": "code",
   "execution_count": null,
   "metadata": {},
   "outputs": [],
   "source": [
    "# section break"
   ],
   "id": "00d58266-9e82-4793-9dfe-6f41fca2b9c4"
  },
  {
   "cell_type": "markdown",
   "metadata": {},
   "source": [
    "------------------------------------------------------------------------\n",
    "\n",
    "![Creative Commons\n",
    "License](https://i.creativecommons.org/l/by-nc-sa/4.0/88x31.png) <nbsp>\n",
    "\n",
    "*Statistical Methods: Exploring the Uncertain* by [Adam\n",
    "Spiegler](https://github.com/CU-Denver-MathStats-OER/Statistical-Theory)\n",
    "is licensed under a [Creative Commons\n",
    "Attribution-NonCommercial-ShareAlike 4.0 International\n",
    "License](http://creativecommons.org/licenses/by-nc-sa/4.0/)."
   ],
   "id": "a5e3181d-993f-482a-ad20-b1d9107041ac"
  }
 ],
 "nbformat": 4,
 "nbformat_minor": 5,
 "metadata": {
  "kernelspec": {
   "name": "ir",
   "display_name": "R",
   "language": "R"
  }
 }
}
