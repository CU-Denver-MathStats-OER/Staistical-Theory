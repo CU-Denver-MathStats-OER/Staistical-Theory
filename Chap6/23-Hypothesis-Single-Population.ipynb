{
 "cells": [
  {
   "cell_type": "markdown",
   "metadata": {},
   "source": [
    "[![Open In\n",
    "Colab](https://colab.research.google.com/assets/colab-badge.svg)](https://githubtocolab.com/CU-Denver-MathStats-OER/Statistical-Theory/blob/main/Chap6/22-Permutation-Tests.ipynb)\n",
    "<nbsp>"
   ],
   "id": "cdd4a433-47a7-4951-a274-c37c922ab314"
  },
  {
   "cell_type": "code",
   "execution_count": null,
   "metadata": {},
   "outputs": [],
   "source": [
    "##### section break"
   ],
   "id": "321e4e10-7d07-4ebd-ba3f-034faab9528b"
  },
  {
   "cell_type": "markdown",
   "metadata": {},
   "source": [
    "# <a name=\"23intro\">6.3: Parametric Hypothesis Tests</a>\n",
    "\n",
    "------------------------------------------------------------------------\n",
    "\n",
    "Hypothesis tests and confidence intervals are two examples of\n",
    "statistical inference. There is an unknown population parameter, and we\n",
    "would like estimate or assess claims about the parameter. We collect\n",
    "sample data, and:\n",
    "\n",
    "-   With **confidence intervals (CI)**, we **estimate** the value of a\n",
    "    population parameter building in a **margin of error** that is\n",
    "    derived from a sampling distribution.\n",
    "-   With **hypothesis tests**, we use a null distribution to measure\n",
    "    whether a sample test statistic sufficiently contradicts the null\n",
    "    claim. Then we **assess the competing claims** in $H_0$ and $H_a$.\n",
    "\n",
    "We can apply [Monte Carlo resampling\n",
    "(bootstrapping)methods](17-Bootstrap-Confidence-Int.qmd) and/or\n",
    "[parametric methods](19-Parametric-CI-Means.qmd) (using the Central\n",
    "Limit Theorem) to model a sampling distribution that is the foundation\n",
    "for constructing a confidence interval. Similarly, for hypothesis tests\n",
    "we have both resampling and parametric methods for measuring the\n",
    "significance of test statistics.\n",
    "\n",
    "-   We explored [permutation distributions](22-Permutation-Tests.qmd) as\n",
    "    one resampling method for calculating p-values.\n",
    "-   We can use the Central Limit Theorem (CLT) to model null\n",
    "    distributions and calculate p-values."
   ],
   "id": "974942e0-89ba-4448-afb8-cabbc23e5ea0"
  },
  {
   "cell_type": "code",
   "execution_count": null,
   "metadata": {},
   "outputs": [],
   "source": [
    "##### section break"
   ],
   "id": "81d5b473-dc8a-4ade-bd5b-f7c33ce5aa5b"
  },
  {
   "cell_type": "markdown",
   "metadata": {},
   "source": [
    "# <a name=\"23what-sig\">What is Significant Enough?</a>\n",
    "\n",
    "------------------------------------------------------------------------\n",
    "\n",
    "The general process form performing a hypothesis test is informally:\n",
    "\n",
    "1.  State the null and alternative hypotheses in terms of population\n",
    "    parameter(s).\n",
    "2.  Collect data from a sample and calculate a test statistic.\n",
    "3.  Calculate the p-value to measure the significance of the test\n",
    "    statistic.\n",
    "4.  Make a conclusion (if possible).\n",
    "5.  Clearly summarize the results for a general audience.\n",
    "\n",
    "We have discussed [Steps 1 and 2](21-Intro-Hypothesis-Tests.qmd) and\n",
    "used [resampling methods](22-Permutation-Tests.qmd) as one method to\n",
    "calculate p-values in Step 3. Refer to the [Appendix A](#sec-appenda)\n",
    "for a summary of the steps outlined above. Before investigating\n",
    "parametric methods for computing p-values, let’s discuss steps and 4 and\n",
    "5:\n",
    "\n",
    "> How do we use p-values to decide whether the evidence is significant\n",
    "> enough to reject $H_0$ and accept the claim we hoped to prove in\n",
    "> $H_a$?\n",
    "\n",
    "-   The **smaller the p-value**, the **stronger the evidence**\n",
    "    contradicting $H_0$.\n",
    "-   How small does the p-value need to be in order to claim the evidence\n",
    "    is strong enough to reject $H_0$?"
   ],
   "id": "24fb2d2f-841e-4acc-8190-2fa2fb181b9a"
  },
  {
   "cell_type": "code",
   "execution_count": null,
   "metadata": {},
   "outputs": [],
   "source": [
    "##### section break"
   ],
   "id": "4d174849-cd0c-4a7d-acd3-6f3401bde110"
  },
  {
   "cell_type": "markdown",
   "metadata": {},
   "source": [
    "## <a name=\"23sig-level\">The Significance Level</a>\n",
    "\n",
    "------------------------------------------------------------------------\n",
    "\n",
    "The <span style=\"color:dodgerblue\">**significance level**</span> of a\n",
    "test, denoted ${\\color{dodgerblue}{\\alpha}}$, is the value **we choose**\n",
    "that is used to **determine whether the p-value is small enough** to\n",
    "claim the result is statistically significant and reject $H_0$.\n",
    "\n",
    "-   <span style=\"color:mediumseagreen\">If p-value $\\leq \\alpha$, we\n",
    "    reject $H_0$.</span>\n",
    "-   <span style=\"color:tomato\">If p-value $> \\alpha$, we do not reject\n",
    "    $H_0$.</span>\n",
    "\n",
    "Generally speaking, $H_0$ is a claim we currently accept as true. $H_a$\n",
    "is some new and interesting result that if true would contradict the\n",
    "currently accepted belief in $H_0$. We typically require compelling\n",
    "evidence, beyond a “reasonable doubt”, to reject the currently accepted\n",
    "claim in $H_0$ in favor of a new and competing claim in $H_a$.\n",
    "\n",
    "-   The default significance level is typically 5% (or $\\alpha = 0.05$).\n",
    "-   Some other (less) common significance levels are $\\alpha = 0.1$,\n",
    "    $0.01$ or $0.001$.\n",
    "-   The smaller we set $\\alpha$, the more certainty we require to reject\n",
    "    $H_0$.\n",
    "\n",
    "The significance level is not something we compute. We choose the\n",
    "significance level for the test, and the significance level should be\n",
    "determined prior to our analysis. Do not first calculate the p-value,\n",
    "and then retroactively choose the significance level to ensure the\n",
    "result is significant."
   ],
   "id": "9fc3ef6f-c7b7-4763-a07b-b6a67447dc1b"
  },
  {
   "cell_type": "code",
   "execution_count": null,
   "metadata": {},
   "outputs": [],
   "source": [
    "##### section break"
   ],
   "id": "7005ee4b-7b25-43ea-9209-c8941aec990b"
  },
  {
   "cell_type": "markdown",
   "metadata": {},
   "source": [
    "## <a name=\"23sum-results\">Summarizing the Results</a>\n",
    "\n",
    "------------------------------------------------------------------------\n",
    "\n",
    "There are two possible results with hypothesis tests:\n",
    "\n",
    "-   If <span style=\"color:mediumseagreen\">p-value $\\leq \\alpha$</span>,\n",
    "    the test is <span style=\"color:mediumseagreen\">statistically\n",
    "    significant</span>.\n",
    "\n",
    "    -   There is strong enough evidence to reject $H_0$.\n",
    "    -   And thus, we accept the competing claim in $H_a$.\n",
    "\n",
    "-   If <span style=\"color:tomato\">p-value $> \\alpha$</span>, the test is\n",
    "    <span style=\"color:tomato\">not statistically significant</span> and\n",
    "    there is not sufficient evidence to reject $H_0$:\n",
    "\n",
    "    -   We fail to reject $H_0$ (which is different from accepting\n",
    "        $H_0$).\n",
    "    -   The test is inconclusive regarding the claims in $H_0$ and\n",
    "        $H_a$.\n",
    "\n",
    "In the end, we want to be sure we communicate the results **clearly**,\n",
    "in **proper context**, to a more **general audience** that may not have\n",
    "an advanced background in statistics and mathematics."
   ],
   "id": "91f8f884-1875-4659-9475-d6452a3fe4a0"
  },
  {
   "cell_type": "code",
   "execution_count": null,
   "metadata": {},
   "outputs": [],
   "source": [
    "##### section break"
   ],
   "id": "72122a4b-0ead-4d42-be95-4af44eee16e0"
  },
  {
   "cell_type": "markdown",
   "metadata": {},
   "source": [
    "## <a name=\"23q1\">Question 1</a>\n",
    "\n",
    "------------------------------------------------------------------------\n",
    "\n",
    "<figure>\n",
    "<img\n",
    "src=\"https://upload.wikimedia.org/wikipedia/commons/4/4f/Hurricane-en.svg\"\n",
    "style=\"width:60.0%\" data-fig-align=\"left\"\n",
    "data-fig-alt=\"Tropical Cyclone Structure\"\n",
    "alt=\"Credit: Kelvinsong, CC BY 3.0, via Wikimedia Commons\" />\n",
    "<figcaption aria-hidden=\"true\">Credit: Kelvinsong, <a\n",
    "href=\"https://creativecommons.org/licenses/by/3.0\">CC BY 3.0</a>, via\n",
    "Wikimedia Commons</figcaption>\n",
    "</figure>\n",
    "\n",
    "Pressure is a common measurement used to characterize the strength of a\n",
    "storm. The lower the storm pressure, the higher the wind speeds, and the\n",
    "more dangerous the storm. Let $\\mu$ denote the mean pressure (in\n",
    "millibars) of all storms in the North Atlantic. Suppose we set up the\n",
    "following hypothesis to test claims about the value of $\\mu$.\n",
    "\n",
    "-   $H_0$: $\\mu = 1000$. The mean pressure of all storms in the North\n",
    "    Atlantic is 1000 millibars.\n",
    "-   $H_a$: $\\mu \\ne 1000$. The mean pressure of all storms in the North\n",
    "    Atlantic is not 1000 millibars.\n",
    "\n",
    "We collect a random sample of $n$ storm pressure observation. We find\n",
    "the sample mean pressure is $\\bar{x} = 992$ millibars has a p-value\n",
    "$= 0.012$."
   ],
   "id": "b0d441cd-2baa-4a40-a555-0257864a28ed"
  },
  {
   "cell_type": "code",
   "execution_count": null,
   "metadata": {},
   "outputs": [],
   "source": [
    "##### section break"
   ],
   "id": "9faf2ffa-61ae-42a3-8dea-45be338eb47f"
  },
  {
   "cell_type": "markdown",
   "metadata": {},
   "source": [
    "### <a name=\"23q1a1a\">Question 1a</a>\n",
    "\n",
    "------------------------------------------------------------------------\n",
    "\n",
    "Summarize the results if we perform the hypothesis test using a 5%\n",
    "significance level. Be sure to explain in the context of the problem\n",
    "using terminology a more general audience would understand.\n",
    "\n",
    "#### <a name=\"23sol1a\">Solution to Question 1a</a>\n",
    "\n",
    "------------------------------------------------------------------------\n",
    "\n",
    "<br>  \n",
    "<br> <br>"
   ],
   "id": "3da49c18-dae3-411b-a620-ba1960ad97ce"
  },
  {
   "cell_type": "code",
   "execution_count": null,
   "metadata": {},
   "outputs": [],
   "source": [
    "##### section break"
   ],
   "id": "2e052c5a-8133-416f-bdc8-e4f776bda12b"
  },
  {
   "cell_type": "markdown",
   "metadata": {},
   "source": [
    "### <a name=\"23q1b\">Question 1b</a>\n",
    "\n",
    "------------------------------------------------------------------------\n",
    "\n",
    "Summarize the results if we perform the hypothesis test using a 10%\n",
    "significance level. Be sure to explain in the context of the problem\n",
    "using terminology a more general audience would understand.\n",
    "\n",
    "#### <a name=\"23sol1b\">Solution to Question 1b</a>\n",
    "\n",
    "------------------------------------------------------------------------\n",
    "\n",
    "<br>  \n",
    "<br> <br>"
   ],
   "id": "aba97305-eebb-4f18-afa3-4c96d78e428b"
  },
  {
   "cell_type": "code",
   "execution_count": null,
   "metadata": {},
   "outputs": [],
   "source": [
    "##### section break"
   ],
   "id": "0635c2d4-5d1e-411d-a0e8-7c7a8f7b25ab"
  },
  {
   "cell_type": "markdown",
   "metadata": {},
   "source": [
    "### <a name=\"23q1c\">Question 1c</a>\n",
    "\n",
    "------------------------------------------------------------------------\n",
    "\n",
    "Summarize the results if we perform the hypothesis test using a 1%\n",
    "significance level. Be sure to explain in the context of the problem\n",
    "using terminology a more general audience would understand.\n",
    "\n",
    "#### <a name=\"23sol1c\">Solution to Question 1c</a>\n",
    "\n",
    "------------------------------------------------------------------------\n",
    "\n",
    "<br>  \n",
    "<br> <br>"
   ],
   "id": "608e41be-835f-46e4-a6b1-13397b63c42f"
  },
  {
   "cell_type": "code",
   "execution_count": null,
   "metadata": {},
   "outputs": [],
   "source": [
    "##### section break"
   ],
   "id": "8f3b9661-0c52-49fe-bc41-bbd39ea1ac12"
  },
  {
   "cell_type": "markdown",
   "metadata": {},
   "source": [
    "### <a name=\"23q1d\">Question 1d</a>\n",
    "\n",
    "------------------------------------------------------------------------\n",
    "\n",
    "Suppose we instead we want to show the mean storm pressure is less than\n",
    "1000 millibars.\n",
    "\n",
    "-   $H_0$: $\\mu = 1000$. The mean pressure of all storms in the North\n",
    "    Atlantic is 1000 millibars.\n",
    "-   $H_a$: $\\mu < 1000$. The mean pressure of all storms in the North\n",
    "    Atlantic is less than 1000 millibars.\n",
    "\n",
    "We still have the sample of the same size $n$ and sample mean\n",
    "$\\bar{x} = 992$ millibars as in \\[Question 1\\]. For the two-tailed test,\n",
    "this sample had a p-value $= 0.012$.\n",
    "\n",
    "-   What would be the p-value for this same sample be if we use this\n",
    "    one-tailed test instead?\n",
    "-   Summarize the result of the one-tailed test in practical terms if we\n",
    "    use a significance level of 5%.\n",
    "-   Summarize the result of the one-tailed test in practical terms if we\n",
    "    use a significance level of 1%.\n",
    "\n",
    "#### <a name=\"23sol1d\">Solution to Question 1d</a>\n",
    "\n",
    "------------------------------------------------------------------------\n",
    "\n",
    "<br>  \n",
    "<br> <br>"
   ],
   "id": "19065c4d-0c27-4d41-b488-7ff4b2d2ba7a"
  },
  {
   "cell_type": "code",
   "execution_count": null,
   "metadata": {},
   "outputs": [],
   "source": [
    "##### section break"
   ],
   "id": "f003ae3b-ef27-4064-ad7f-8e5475c98b4a"
  },
  {
   "cell_type": "markdown",
   "metadata": {},
   "source": [
    "# <a name=\"23test-prop\">Test For a Single Proportion</a>\n",
    "\n",
    "------------------------------------------------------------------------"
   ],
   "id": "58ca3f94-0f36-45b1-967b-ee57308d7d92"
  },
  {
   "cell_type": "code",
   "execution_count": null,
   "metadata": {},
   "outputs": [],
   "source": [
    "##### section break"
   ],
   "id": "a24950a8-643d-4d67-b5fa-02e1cbb41dfe"
  },
  {
   "cell_type": "markdown",
   "metadata": {},
   "source": [
    "## <a name=\"23q2\">Question 2</a>\n",
    "\n",
    "------------------------------------------------------------------------\n",
    "\n",
    "<figure>\n",
    "<img\n",
    "src=\"https://upload.wikimedia.org/wikipedia/commons/8/8c/Paul_the_Octopus.jpg\"\n",
    "style=\"width:40.0%\" data-fig-align=\"left\"\n",
    "data-fig-alt=\"Paul the Oracle Octopus\"\n",
    "alt=\"Credit: Mbz1, CC BY-SA 3.0, via Wikimedia Commons\" />\n",
    "<figcaption aria-hidden=\"true\">Credit: Mbz1, <a\n",
    "href=\"https://creativecommons.org/licenses/by-sa/3.0/\">CC BY-SA 3.0</a>,\n",
    "via Wikimedia Commons</figcaption>\n",
    "</figure>\n",
    "\n",
    "In the 2010 World Cup in Germany, Paul the octopus (aka the Oracle\n",
    "Octopus) correctly predicted the correct outcome in all 8 of the matches\n",
    "he predicted. Paul beat out his rival Mani, Singapore’s psychic\n",
    "parakeet, who predicted six matches in a row before missing a\n",
    "prediction. Below is an excerpt from a recent article[1] about animal\n",
    "clairvoyance and the World Cup.\n",
    "\n",
    "> No FIFA World Cup would be complete without “psychic” animals\n",
    "> predicting the winners, and Qatar 2022 has been no exception. From\n",
    "> “clairvoyant” camels to “mystic” elephants and “cryptic” rats, a range\n",
    "> of animals – big and small – have tried their paws, hooves and\n",
    "> tentacles at predicting the score line. <br> <br> It all started with\n",
    "> Paul, the “psychic” octopus. The eight-tentacled icon put TV pundits\n",
    "> to shame with an incredible string of correct World Cup winner\n",
    "> predictions from his glass tank at the Aquarium Sea Life Centre in\n",
    "> Oberhausen, Germany. The tentacled tipster had an incredible success\n",
    "> rate: he correctly predicted eight world cup matches at South Africa’s\n",
    "> tournament in 2010, including Spain beating the Netherlands in the\n",
    "> World Cup final.\n",
    "\n",
    "In 2010, Paul the Octopus “predicted” 8 matches and made 8 correct\n",
    "predictions. **Is this evidence that Paul actually has psychic powers?**\n",
    "\n",
    "[1] “The ‘psychic’ animals predicting who will win the World Cup”, [ABC\n",
    "News](https://abcnews.go.com/International/psychic-animals-predicting-win-world-cup/story?id=93915441),\n",
    "accessed July 13, 2023"
   ],
   "id": "9570e735-12c3-4555-9c20-75b6e258d3b3"
  },
  {
   "cell_type": "code",
   "execution_count": null,
   "metadata": {},
   "outputs": [],
   "source": [
    "##### section break"
   ],
   "id": "b005a8d6-0097-4e1c-9937-0d08719f31b7"
  },
  {
   "cell_type": "markdown",
   "metadata": {},
   "source": [
    "### <a name=\"23q2a\">Question 2a</a>\n",
    "\n",
    "------------------------------------------------------------------------\n",
    "\n",
    "Set up the null and alternative hypotheses in terms of the proportion of\n",
    "all World Cup matches ever played that Paul correctly predicts. State\n",
    "hypotheses both in words and using appropriate notation.\n",
    "\n",
    "#### <a name=\"23sol2a\">Solution to Question 2a</a>\n",
    "\n",
    "------------------------------------------------------------------------\n",
    "\n",
    "<br>  \n",
    "<br>  \n",
    "<br>"
   ],
   "id": "46087dc8-9b8d-41bf-9545-fdbec789b3fe"
  },
  {
   "cell_type": "code",
   "execution_count": null,
   "metadata": {},
   "outputs": [],
   "source": [
    "##### section break"
   ],
   "id": "c6207839-67eb-4e2f-a7a4-ff86baf68902"
  },
  {
   "cell_type": "markdown",
   "metadata": {},
   "source": [
    "### <a name=\"23q2b\">Question 2b</a>\n",
    "\n",
    "------------------------------------------------------------------------\n",
    "\n",
    "How unusual would this be if Paul was just randomly guessing? Compute\n",
    "the p-value corresponding to this sample of $n=8$ predictions all which\n",
    "were correct.\n",
    "\n",
    "#### <a name=\"23sol2b\">Solution to Question 2b</a>\n",
    "\n",
    "------------------------------------------------------------------------\n",
    "\n",
    "<br>  \n",
    "<br>  \n",
    "<br>"
   ],
   "id": "cd2aa5a0-d67c-4c75-bc16-c00f4887c19c"
  },
  {
   "cell_type": "code",
   "execution_count": null,
   "metadata": {},
   "outputs": [],
   "source": [
    "##### section break"
   ],
   "id": "cec0141a-3115-4f0e-8270-f1f59fce0b0c"
  },
  {
   "cell_type": "markdown",
   "metadata": {},
   "source": [
    "### <a name=\"23q2c\">Question 2c</a>\n",
    "\n",
    "------------------------------------------------------------------------\n",
    "\n",
    "Summarize the result of the test to a general audience if a 5%\n",
    "significance level is chosen.\n",
    "\n",
    "#### <a name=\"23sol2c\">Solution to Question 2c</a>\n",
    "\n",
    "------------------------------------------------------------------------\n",
    "\n",
    "<br>  \n",
    "<br>  \n",
    "<br>"
   ],
   "id": "92bd533e-1733-445e-bc77-74f704bd6ddb"
  },
  {
   "cell_type": "code",
   "execution_count": null,
   "metadata": {},
   "outputs": [],
   "source": [
    "##### section break"
   ],
   "id": "11cb6992-9df3-46a9-990b-4d1fbf1eb2d6"
  },
  {
   "cell_type": "markdown",
   "metadata": {},
   "source": [
    "## <a name=\"23p-prop\">p-value for a Single Proportion</a>\n",
    "\n",
    "------------------------------------------------------------------------\n",
    "\n",
    "Let $X$ be a binomial random variable and let $p_0$ denote the value of\n",
    "$p$ claimed in $H_0$. If we observe $X=x$ successes out of a sample of\n",
    "$n$ independent and identical trials, then we can find the p-value using\n",
    "the <span style=\"color:dodgerblue\">**binomial null distribution**</span>\n",
    "${\\color{dodgerblue}{X \\sim \\mbox{Binom}(n, p_0)}}$, where $p_0$ denotes\n",
    "the null claim."
   ],
   "id": "3b95baa8-a323-4100-bfb8-bb39f750dfa9"
  },
  {
   "cell_type": "code",
   "execution_count": null,
   "metadata": {},
   "outputs": [],
   "source": [
    "##### section break"
   ],
   "id": "37800409-37f2-470d-9237-1f6d8a2477c8"
  },
  {
   "cell_type": "markdown",
   "metadata": {},
   "source": [
    "# <a name=\"23test-known\">Test for a Single Mean: Known $\\sigma^2$</a>\n",
    "\n",
    "------------------------------------------------------------------------"
   ],
   "id": "e95d5a15-3e39-4eee-97bd-0cb84e7bc15d"
  },
  {
   "cell_type": "code",
   "execution_count": null,
   "metadata": {},
   "outputs": [],
   "source": [
    "##### section break"
   ],
   "id": "afbd14b6-b63b-4aca-badf-fd4dec2c906c"
  },
  {
   "cell_type": "markdown",
   "metadata": {},
   "source": [
    "## <a name=\"23q3\">Question 3</a>\n",
    "\n",
    "------------------------------------------------------------------------\n",
    "\n",
    "The mean height of all adult males in the United Kingdom is claimed[1]\n",
    "to be the $68.5$ inches ($5$ foot $8.5$ inches or $173.9$ cm) with a\n",
    "standard deviation of $2.5$ inches (or $6.35$ cm). A physician suspects\n",
    "males in her town seem to be taller than average when compared to the\n",
    "population of all adult males in the UK. She collects data from a random\n",
    "sample of $n=25$ adult males from the town and calculates the mean\n",
    "height of the sample is $69.25$ inches.\n",
    "\n",
    "[1] [“Height, Weight, and Body Mass of the British Population Since\n",
    "1820”](https://www.nber.org/system/files/working_papers/h0108/h0108.pdf)\n",
    "by Roderick Floud, National Bureau of of Economic Research, October\n",
    "1998."
   ],
   "id": "683d8744-54cf-4a9c-a862-9ac9ad9b116b"
  },
  {
   "cell_type": "code",
   "execution_count": null,
   "metadata": {},
   "outputs": [],
   "source": [
    "##### section break"
   ],
   "id": "dbc6afe8-8a21-4733-ade6-ed2847e7c522"
  },
  {
   "cell_type": "markdown",
   "metadata": {},
   "source": [
    "### <a name=\"23q3a\">Question 3a</a>\n",
    "\n",
    "------------------------------------------------------------------------\n",
    "\n",
    "Set up the null and alternative hypotheses (both in words and using\n",
    "appropriate notation) to test the physician’s claim that adult males in\n",
    "the town are taller than the national average height for all adult males\n",
    "in the UK.\n",
    "\n",
    "#### <a name=\"23sol3a\">Solution to Question 3a</a>\n",
    "\n",
    "------------------------------------------------------------------------\n",
    "\n",
    "-   $H_0$: ??\n",
    "\n",
    "-   $H_a$: ??\n",
    "\n",
    "<br>  \n",
    "<br>"
   ],
   "id": "1d8222b9-4aaf-4703-86fe-00cc5b6fac26"
  },
  {
   "cell_type": "code",
   "execution_count": null,
   "metadata": {},
   "outputs": [],
   "source": [
    "##### section break"
   ],
   "id": "14d6eac6-fea9-4bd3-9451-fbac04760ea5"
  },
  {
   "cell_type": "markdown",
   "metadata": {},
   "source": [
    "### <a name=\"23q3b\">Question 3b</a>\n",
    "\n",
    "------------------------------------------------------------------------\n",
    "\n",
    "Compute the test statistic.\n",
    "\n",
    "#### <a name=\"23sol3b\">Solution to Question 3b</a>\n",
    "\n",
    "------------------------------------------------------------------------\n",
    "\n",
    "<br>  \n",
    "<br>  \n",
    "<br>"
   ],
   "id": "da13cccd-c4c4-45a4-b850-d5aaabd209f2"
  },
  {
   "cell_type": "code",
   "execution_count": null,
   "metadata": {},
   "outputs": [],
   "source": [
    "##### section break"
   ],
   "id": "7d4b8088-9616-43fd-838e-da65f8337e3e"
  },
  {
   "cell_type": "markdown",
   "metadata": {},
   "source": [
    "### <a name=\"23q3c3c\">Question 3c</a>\n",
    "\n",
    "------------------------------------------------------------------------\n",
    "\n",
    "What is a reasonable null distribution to use to perform this test?\n",
    "Standardize the test statistic (give the $z$-score) from \\[Question\n",
    "3b\\]. Interpret the meaning of the standardized test statistic.\n",
    "\n",
    "#### <a name=\"23sol3c\">Solution to Question 3c</a>\n",
    "\n",
    "------------------------------------------------------------------------\n",
    "\n",
    "<br>  \n",
    "<br>  \n",
    "<br>"
   ],
   "id": "69f385e4-d430-4335-8074-496536da8147"
  },
  {
   "cell_type": "code",
   "execution_count": null,
   "metadata": {},
   "outputs": [],
   "source": [
    "##### section break"
   ],
   "id": "2a5085e9-15f0-459a-b7f1-a4889ab4f901"
  },
  {
   "cell_type": "markdown",
   "metadata": {},
   "source": [
    "### <a name=\"23q3d\">Question 3d</a>\n",
    "\n",
    "------------------------------------------------------------------------\n",
    "\n",
    "Compute the p-value and interpret the meaning in practical terms.\n",
    "\n",
    "#### <a name=\"23sol3d\">Solution to Question 3d</a>\n",
    "\n",
    "------------------------------------------------------------------------\n",
    "\n",
    "<br>  \n",
    "<br>  \n",
    "<br>"
   ],
   "id": "011541e7-0b0e-47fe-b170-8361e269c5fb"
  },
  {
   "cell_type": "code",
   "execution_count": null,
   "metadata": {},
   "outputs": [],
   "source": [
    "##### section break"
   ],
   "id": "ed10a0f8-f828-4f51-be97-fbd572664970"
  },
  {
   "cell_type": "markdown",
   "metadata": {},
   "source": [
    "### <a name=\"23q3e\">Question 3e</a>\n",
    "\n",
    "------------------------------------------------------------------------\n",
    "\n",
    "Shade area(s) under the graph of a null distribution corresponding to\n",
    "the p-value. Either make an informal sketch on paper or see [Appendix\n",
    "B](#sec-appendb-known) to plot in R.\n",
    "\n",
    "#### <a name=\"23sol3e\">Solution to Question 3e</a>\n",
    "\n",
    "------------------------------------------------------------------------\n",
    "\n",
    "<br>  \n",
    "<br>  \n",
    "<br>"
   ],
   "id": "203bbe84-0ebc-4d2d-a0db-28b5f30442be"
  },
  {
   "cell_type": "code",
   "execution_count": null,
   "metadata": {},
   "outputs": [],
   "source": [
    "##### section break"
   ],
   "id": "581f6c24-1342-4972-af92-9d24bafe4475"
  },
  {
   "cell_type": "markdown",
   "metadata": {},
   "source": [
    "### <a name=\"23q3f\">Question 3f</a>\n",
    "\n",
    "------------------------------------------------------------------------\n",
    "\n",
    "-   If a 5% significance level is chosen, summarize the result in\n",
    "    practical terms.\n",
    "-   If a 1% significance level is chosen, summarize the result in\n",
    "    practical terms.\n",
    "\n",
    "#### <a name=\"23sol3f\">Solution to Question 3f</a>\n",
    "\n",
    "------------------------------------------------------------------------\n",
    "\n",
    "<br>  \n",
    "<br>  \n",
    "<br>"
   ],
   "id": "d3b92c3f-3625-4d77-af30-1d0b959e83aa"
  },
  {
   "cell_type": "code",
   "execution_count": null,
   "metadata": {},
   "outputs": [],
   "source": [
    "##### section break"
   ],
   "id": "bbc7849d-b274-4da3-b615-26f37113c567"
  },
  {
   "cell_type": "markdown",
   "metadata": {},
   "source": [
    "## \\<a name=“23p-known\\>p-value for a Single Mean: Known $\\sigma^2$</a>\n",
    "\n",
    "------------------------------------------------------------------------\n",
    "\n",
    "Suppose a random sample size $n$ is picked from a population with known\n",
    "population variance $\\sigma^2$ but unknown mean $\\mu$. If we are doing a\n",
    "hypothesis test on a single mean with null claim\n",
    "${\\color{tomato}{H_0: \\mu = \\mu_0}}$, then as long as the population is\n",
    "symmetric or the sample size is large enough $(n \\geq 30)$, then we can\n",
    "use the Central Limit Theorem for means to:\n",
    "\n",
    "-   Model the **null distribution** with the sampling distribution\n",
    "    ${\\color{dodgerblue}{\\overline{X} \\sim N \\left( {\\color{tomato}{\\mu_0}}, \\frac{\\sigma}{\\sqrt{n}} \\right)}}$.\n",
    "-   Calculate the **standardized test statistic** which is the $z$-score\n",
    "    of the sample mean:\n",
    "\n",
    "$${\\color{dodgerblue}{z = \\frac{\\mbox{sample stat}- {\\color{tomato}{\\mbox{null claim}}}}{\\mbox{SE}(\\overline{X})} = \\dfrac{\\bar{x} - {\\color{tomato}{\\mu_0}}}{\\frac{\\sigma}{\\sqrt{n}}}}}.$$"
   ],
   "id": "853a3471-13e1-4d52-93b7-24182fb7f1d9"
  },
  {
   "cell_type": "code",
   "execution_count": null,
   "metadata": {},
   "outputs": [],
   "source": [
    "##### section break"
   ],
   "id": "f7779612-b996-47cf-8831-96967f1e148c"
  },
  {
   "cell_type": "markdown",
   "metadata": {},
   "source": [
    "# <a name=\"23test-unknown\">Test for a Single Mean: Unknown $\\sigma^2$</a>\n",
    "\n",
    "------------------------------------------------------------------------\n",
    "\n",
    "As with confidence intervals, when estimating an unknown population\n",
    "mean, we often do not know the population variance. Nevertheless, we can\n",
    "still conduct a hypothesis test on a single mean, but there will be some\n",
    "additional uncertainty due to our need to estimate $\\sigma^2$ if it is\n",
    "unknown . Below we work through an example using the `storms` data frame\n",
    "in the `dplyr` package to devise a method for computing p-values under\n",
    "these circumstances."
   ],
   "id": "91068018-a543-4662-ab7d-e768ebdbe73a"
  },
  {
   "cell_type": "code",
   "execution_count": null,
   "metadata": {},
   "outputs": [],
   "source": [
    "##### section break"
   ],
   "id": "e6d2874f-7812-4353-9040-cb558ebd3456"
  },
  {
   "cell_type": "markdown",
   "metadata": {},
   "source": [
    "## <a name=\"23sample-press\">Picking a Random Sample of Storm Pressures</a>\n",
    "\n",
    "------------------------------------------------------------------------\n",
    "\n",
    "The `storms` data set is from the [NOAA Hurricane Best Track\n",
    "Data](https://www.nhc.noaa.gov/data/#hurdat). We will perform a\n",
    "hypothesis test to test claims about the mean storm pressure, so we will\n",
    "need to analyze the variable `pressure`.\n",
    "\n",
    "-   Run the code cell below to load the `dplyr` package (which should\n",
    "    already be installed)"
   ],
   "id": "eaf5eee0-9a41-4f50-a3fa-b14f2d1918fd"
  },
  {
   "cell_type": "code",
   "execution_count": null,
   "metadata": {},
   "outputs": [],
   "source": [
    "library(dplyr)  # load dplyr package"
   ],
   "id": "87bd63e0-9f3d-4005-863b-56ed79823850"
  },
  {
   "cell_type": "markdown",
   "metadata": {},
   "source": [
    "-   Run the code cell below to pick a random sample of $n=32$ storm\n",
    "    pressures from `storms`."
   ],
   "id": "337e2b0d-8d94-4ae3-8cce-7b19b16d2312"
  },
  {
   "cell_type": "code",
   "execution_count": null,
   "metadata": {},
   "outputs": [],
   "source": [
    "my.sample <- sample(storms$pressure, size=32, replace=FALSE)"
   ],
   "id": "5898b53f-741f-4b09-8125-0efff6677ee6"
  },
  {
   "cell_type": "markdown",
   "metadata": {},
   "source": [
    "## <a name=\"23q4\">Question 4</a>\n",
    "\n",
    "------------------------------------------------------------------------\n",
    "\n",
    "It is claimed[1] that the average pressure of all North Atlantic storms\n",
    "is 950 millibars. You believe this claim is inaccurate and would like to\n",
    "show the average pressure of all storms is not 950 millibars.\n",
    "\n",
    "[1] [The University of Arizona Hydrology and Atmospheric\n",
    "Sciences](http://www.atmo.arizona.edu/students/courselinks/fall10/atmo336/lectures/sec2/hurricanes.html),\n",
    "accessed July 13, 2023."
   ],
   "id": "d7e59a6b-d225-47c8-ab13-3215f521ddda"
  },
  {
   "cell_type": "code",
   "execution_count": null,
   "metadata": {},
   "outputs": [],
   "source": [
    "##### section break"
   ],
   "id": "2f07de33-001a-4313-93d1-e16a5e0da7ef"
  },
  {
   "cell_type": "markdown",
   "metadata": {},
   "source": [
    "### <a name=\"23q4a\">Question 4a</a>\n",
    "\n",
    "------------------------------------------------------------------------\n",
    "\n",
    "Set up the null and alternative hypotheses both in words and using\n",
    "appropriate notation.\n",
    "\n",
    "#### <a name=\"23sol4a\">Solution to Question 4a</a>\n",
    "\n",
    "------------------------------------------------------------------------\n",
    "\n",
    "-   $H_0$: ??\n",
    "\n",
    "-   $H_a$: ??\n",
    "\n",
    "<br>  \n",
    "<br>"
   ],
   "id": "5c8b7fa8-9a22-4e9a-864d-82e54e39b6b2"
  },
  {
   "cell_type": "code",
   "execution_count": null,
   "metadata": {},
   "outputs": [],
   "source": [
    "##### section break"
   ],
   "id": "bf00ec1e-5307-404d-b84a-5e4fab1ad80b"
  },
  {
   "cell_type": "markdown",
   "metadata": {},
   "source": [
    "### <a name=\"23q4b\">Question 4b</a>\n",
    "\n",
    "------------------------------------------------------------------------\n",
    "\n",
    "Compute the test statistic.\n",
    "\n",
    "#### <a name=\"23sol4b\">Solution to Question 4b</a>\n",
    "\n",
    "------------------------------------------------------------------------\n",
    "\n",
    "<br>  \n",
    "<br>  \n",
    "<br>"
   ],
   "id": "ffab0db5-bcd5-44e4-a6a0-6313edd7d3b0"
  },
  {
   "cell_type": "code",
   "execution_count": null,
   "metadata": {},
   "outputs": [],
   "source": [
    "##### section break"
   ],
   "id": "c794abaa-945c-4ceb-aa1a-63be890b518c"
  },
  {
   "cell_type": "markdown",
   "metadata": {},
   "source": [
    "### <a name=\"23q4c\">Question 4c</a>\n",
    "\n",
    "------------------------------------------------------------------------\n",
    "\n",
    "What is a reasonable standardized null distribution to use to perform\n",
    "this test? Standardize the test statistic from \\[Question 4b\\] and\n",
    "interpret its meaning.\n",
    "\n",
    "#### <a name=\"23sol4c\">Solution to Question 4c</a>\n",
    "\n",
    "------------------------------------------------------------------------\n",
    "\n",
    "<br>  \n",
    "<br>  \n",
    "<br>"
   ],
   "id": "74ba2c51-a851-40af-971a-ea1ead7c40c1"
  },
  {
   "cell_type": "code",
   "execution_count": null,
   "metadata": {},
   "outputs": [],
   "source": [
    "##### section break"
   ],
   "id": "0b42158d-4381-472d-a6f9-9ca16abffdc9"
  },
  {
   "cell_type": "markdown",
   "metadata": {},
   "source": [
    "### <a name=\"23q4d\">Question 4d</a>\n",
    "\n",
    "------------------------------------------------------------------------\n",
    "\n",
    "Compute the p-value and interpret the meaning in practical terms.\n",
    "\n",
    "#### <a name=\"23sol4d\">Solution to Question 4d</a>\n",
    "\n",
    "------------------------------------------------------------------------\n",
    "\n",
    "<br>  \n",
    "<br>  \n",
    "<br>"
   ],
   "id": "ca2c870a-b0a7-498f-b498-4f978950a973"
  },
  {
   "cell_type": "code",
   "execution_count": null,
   "metadata": {},
   "outputs": [],
   "source": [
    "##### section break"
   ],
   "id": "db4a2c41-5830-40ad-ada4-5e9e7e3f3f59"
  },
  {
   "cell_type": "markdown",
   "metadata": {},
   "source": [
    "### <a name=\"23q4e\">Question 4e</a>\n",
    "\n",
    "------------------------------------------------------------------------\n",
    "\n",
    "Shade area(s) under the graph of a null distribution corresponding to\n",
    "the p-value in \\[Question 4d\\]. Either make an informal sketch on paper\n",
    "or see [Appendix B](#sec-appendb-unknown) to plot in R.\n",
    "\n",
    "#### <a name=\"23sol4e\">Solution to Question 4e</a>\n",
    "\n",
    "------------------------------------------------------------------------\n",
    "\n",
    "<br>  \n",
    "<br>  \n",
    "<br>"
   ],
   "id": "9a92bf6d-0aec-44c2-803a-4c0afc99ff42"
  },
  {
   "cell_type": "code",
   "execution_count": null,
   "metadata": {},
   "outputs": [],
   "source": [
    "##### section break"
   ],
   "id": "ea3850fc-c45c-4f3e-8744-c3a42a600e5d"
  },
  {
   "cell_type": "markdown",
   "metadata": {},
   "source": [
    "### <a name=\"23q4f\">Question 4f</a>\n",
    "\n",
    "------------------------------------------------------------------------\n",
    "\n",
    "If a 5% significance level is chosen, summarize the result in practical\n",
    "terms.\n",
    "\n",
    "#### <a name=\"23sol4f\">Solution to Question 4f</a>\n",
    "\n",
    "------------------------------------------------------------------------\n",
    "\n",
    "<br>  \n",
    "<br>  \n",
    "<br>"
   ],
   "id": "bb5bc365-35db-4e81-973c-6f98a724cae1"
  },
  {
   "cell_type": "code",
   "execution_count": null,
   "metadata": {},
   "outputs": [],
   "source": [
    "##### section break"
   ],
   "id": "3eb0cd61-3db9-4227-862a-e23920a5775b"
  },
  {
   "cell_type": "markdown",
   "metadata": {},
   "source": [
    "## <a name=\"23p-unknown\">p-value for a Single Mean: Unknown $\\sigma^2$</a>\n",
    "\n",
    "------------------------------------------------------------------------\n",
    "\n",
    "Suppose a random sample size $n$ is picked from a population with\n",
    "unknown population mean and variance. If we are doing a hypothesis test\n",
    "on a single mean with null claim $H_0: \\mu = \\mu_0$, then as long as the\n",
    "population is symmetric or the sample size is large enough\n",
    "$(n \\geq 30)$, then we can:\n",
    "\n",
    "-   Calculate the **standardized test statistic** that is called the\n",
    "    <span style=\"color:dodgerblue\">**t-test statistic**</span>,\n",
    "\n",
    "$${\\large \\boxed{{\\color{dodgerblue}{{\\color{tomato}{t}} = \\frac{\\mbox{sample stat}-\\mbox{null claim}}{\\mbox{SE}(\\overline{X})} = \\dfrac{\\bar{x} - \\mu_0}{\\frac{{\\color{tomato}{s}}}{\\sqrt{n}}}}}}}.$$\n",
    "\n",
    "-   The **null distribution** is the distribution of t-test statistics\n",
    "    that we model using a\n",
    "    <span style=\"color:dodgerblue\">**$t$-distribution**</span> with\n",
    "    <span style=\"color:dodgerblue\">**$n-1$ degrees of freedom**</span>.\n",
    "\n",
    "In R, we can use the command\n",
    "`t.test(x, mu = [null], alt = [direction])`.\n",
    "\n",
    "-   Sample data is stored in the vector `x`.\n",
    "-   Set the option `mu` equal to the value, $\\mu_0$, claimed in $H_0$.\n",
    "-   Set the option `alt` based on the inequality used in $H_a$.\n",
    "    -   Use `\"greater\"` for right-tail test.\n",
    "    -   Use `\"less\"` for left-tail test.\n",
    "    -   Use `\"two.sided\"` for a two-tail test.\n",
    "    -   If you do not indicate any `alt` option, the default is a\n",
    "        two-tailed test."
   ],
   "id": "c493a81a-9d59-48b7-bbef-b3ecaebe533c"
  },
  {
   "cell_type": "code",
   "execution_count": null,
   "metadata": {},
   "outputs": [],
   "source": [
    "##### section break"
   ],
   "id": "ae465eee-d6fd-4e89-a758-fb2b016ca4b7"
  },
  {
   "cell_type": "markdown",
   "metadata": {},
   "source": [
    "## <a name=\"23q5\">Question 5</a>\n",
    "\n",
    "------------------------------------------------------------------------\n",
    "\n",
    "Check your results for the hypothesis test in \\[Question 4\\] using the\n",
    "`t.test()` function.\n",
    "\n",
    "### <a name=\"23sol5\">Solution to Question 5</a>\n",
    "\n",
    "------------------------------------------------------------------------\n",
    "\n",
    "Fill in the options for the `t.test()` function in the code cell below."
   ],
   "id": "70833e55-3e15-4f09-8726-dc6241b9a8e8"
  },
  {
   "cell_type": "code",
   "execution_count": null,
   "metadata": {},
   "outputs": [],
   "source": [
    "#\n",
    "#t.test(??)\n",
    "#"
   ],
   "id": "a0c3cf7e-d2e4-4f3a-b2fc-168cd42c32e4"
  },
  {
   "cell_type": "markdown",
   "metadata": {},
   "source": [
    "<br>  \n",
    "<br>"
   ],
   "id": "6ad77f35-7ed7-48d9-ae71-dd170ede2d95"
  },
  {
   "cell_type": "code",
   "execution_count": null,
   "metadata": {},
   "outputs": [],
   "source": [
    "##### section break"
   ],
   "id": "67f00d41-107b-43cb-a384-ccce96215d87"
  },
  {
   "cell_type": "markdown",
   "metadata": {},
   "source": [
    "## <a name=\"23q6\">Question 6</a>\n",
    "\n",
    "------------------------------------------------------------------------\n",
    "\n",
    "The output of `t.test()` gives both a p-value and a 95% confidence\n",
    "interval (by default). Let’s interpret the confidence interval and see\n",
    "if we obtain a result that is consistent with our summary in \\[Question\n",
    "4f\\]."
   ],
   "id": "021f92a0-9a7b-40e8-ab55-a147d6e601c7"
  },
  {
   "cell_type": "code",
   "execution_count": null,
   "metadata": {},
   "outputs": [],
   "source": [
    "##### section break"
   ],
   "id": "c4540c2f-3c1f-42f1-8c88-171917d865ec"
  },
  {
   "cell_type": "markdown",
   "metadata": {},
   "source": [
    "### <a name=\"23q6a\">Question 6a</a>\n",
    "\n",
    "------------------------------------------------------------------------\n",
    "\n",
    "Based on the output of your code in \\[Question 5\\], what is a 95%\n",
    "confidence interval for the mean pressure of all North Atlantic storms?\n",
    "\n",
    "#### <a name=\"23sol6a\">Solution to Question 6a</a>\n",
    "\n",
    "------------------------------------------------------------------------\n",
    "\n",
    "A 95% confidence interval for the mean pressure of all storms is from ??\n",
    "millibars to ?? millibars.\n",
    "\n",
    "<br> <br>"
   ],
   "id": "16c2389e-9862-4f50-8535-0583efa994de"
  },
  {
   "cell_type": "code",
   "execution_count": null,
   "metadata": {},
   "outputs": [],
   "source": [
    "##### section break"
   ],
   "id": "9cf07c68-8fd2-4194-9580-90d6714146dc"
  },
  {
   "cell_type": "markdown",
   "metadata": {},
   "source": [
    "### <a name=\"23q6b\">Question 6b</a>\n",
    "\n",
    "------------------------------------------------------------------------\n",
    "\n",
    "Based on the 95% confidence interval \\[Question 6a\\], is 950 millibars\n",
    "(the null claim for $\\mu$ in $H_0$) a plausible estimate for $\\mu$? Is\n",
    "this consistent with your answer in \\[Question 4e\\]? Explain why or why\n",
    "not.\n",
    "\n",
    "#### <a name=\"23sol6b\">Solution to Question 6b</a>\n",
    "\n",
    "------------------------------------------------------------------------\n",
    "\n",
    "<br> <br> <br>"
   ],
   "id": "9000b812-39c4-459d-b388-90e6f591126b"
  },
  {
   "cell_type": "code",
   "execution_count": null,
   "metadata": {},
   "outputs": [],
   "source": [
    "##### section break"
   ],
   "id": "d1a1c8c7-b670-42d1-b6b2-ffca237e5063"
  },
  {
   "cell_type": "markdown",
   "metadata": {},
   "source": [
    "# <a name=\"23ci-test\">Connection Between CI’s and Two-Tailed Tests</a>\n",
    "\n",
    "------------------------------------------------------------------------\n",
    "\n",
    "If we are performing a two-tailed hypothesis test using a significance\n",
    "level $\\alpha=0.05$, then we can reject the null hypothesis if either:\n",
    "\n",
    "-   The $p$-value of our sample is less than or equal to $\\alpha=0.05$,\n",
    "    or\n",
    "-   The value $\\mu_0$ claimed in $H_0$ is NOT inside a 95% confidence\n",
    "    interval.\n",
    "-   The two statements above are equivalent to one another. We do not\n",
    "    need to check both!\n",
    "\n",
    "We can adjust the statements above for a hypothesis test performed at\n",
    "other significance levels. For example, if we are conducting a\n",
    "two-tailed test at a 1% significance level, we can use 99% confidence\n",
    "interval instead of calculating a p-value.\n",
    "\n",
    "Confidence intervals include the middle 95% of samples by excluding the\n",
    "most extreme values in both tails, each with area $\\frac{\\alpha}{2}$. If\n",
    "we are performing a one-tailed test, then we only focus on area in one\n",
    "tail of the null distribution and if the area in one tail is less than\n",
    "or equal to $\\alpha$. Thus, <span style=\"color:tomato\">**we cannot\n",
    "interpret confidence intervals in the same fashion for one-tailed\n",
    "tests.**</span>"
   ],
   "id": "8578b059-aac2-4871-ba2c-40dd86ad47b2"
  },
  {
   "cell_type": "code",
   "execution_count": null,
   "metadata": {},
   "outputs": [],
   "source": [
    "##### section break"
   ],
   "id": "23b7174e-c50e-4718-b59b-2ccb10804ce2"
  },
  {
   "cell_type": "markdown",
   "metadata": {},
   "source": [
    "# <a name=\"23appenda\">Appendix A: Summary of Hypothesis Tests</a>\n",
    "\n",
    "------------------------------------------------------------------------\n",
    "\n",
    "1.  State the <span style=\"color:dodgerblue\">**hypotheses**</span> and\n",
    "    identify (from the alternative claim in $H_a$) if it is a one or\n",
    "    two-tailed test.\n",
    "\n",
    "    -   $H_0$ is the “boring” claim. Express using an equal sign $=$.\n",
    "    -   $H_a$ is the claim we want to show is likely true. Use\n",
    "        inequality sign ($>$, $<$, or $\\ne$).\n",
    "    -   State both $H_0$ and $H_a$ in terms of population parameters\n",
    "        such as $\\mu$ and $p$.\n",
    "\n",
    "2.  Compute the <span style=\"color:dodgerblue\">**test\n",
    "    statistic**</span>.\n",
    "\n",
    "    -   If the observed sample contradicts the null claim, the result is\n",
    "        significant.\n",
    "    -   A standardized test statistic measures how many SE’s the\n",
    "        observed stat is from the null claim.\n",
    "    -   A standardized test statistic with a large absolute value is\n",
    "        supporting evidence to reject $H_0$.\n",
    "\n",
    "3.  Using the null distribution, compute the\n",
    "    <span style=\"color:dodgerblue\">**p-value**</span>. The p-value is\n",
    "    the probability of getting a sample with a test statistic as or more\n",
    "    extreme than the observed sample assuming $H_0$ is true.\n",
    "\n",
    "    -   The p-value is the area in one or both tails beyond the test\n",
    "        statistic.\n",
    "    -   The p-value is a probability, so we have\n",
    "        $0 < \\mbox{p-value} < 1$.\n",
    "    -   The smaller the p-value, the stronger the evidence to reject\n",
    "        $H_0$.\n",
    "\n",
    "4.  Based on the <span style=\"color:dodgerblue\">**significance\n",
    "    level**</span>, $\\alpha$, make a decision to reject or not reject\n",
    "    the null hypothesis\n",
    "\n",
    "    -   If p-value $\\leq \\alpha$, we reject $H_0$.\n",
    "    -   If p-value $> \\alpha$, we do not reject $H_0$.\n",
    "\n",
    "5.  <span style=\"color:dodgerblue\">**Summarize the results**</span> in\n",
    "    practical terms, **in the context of the problem**.\n",
    "\n",
    "    -   If we reject $H_0$, this means there is enough evidence to\n",
    "        support the claim in $H_a$.\n",
    "    -   If we do not reject $H_0$, this means there is not evidence to\n",
    "        reject $H_0$ nor support $H_a$. The test is inconclusive."
   ],
   "id": "f84b4ec0-b6c6-48d3-b37b-503247fcca77"
  },
  {
   "cell_type": "code",
   "execution_count": null,
   "metadata": {},
   "outputs": [],
   "source": [
    "##### section break"
   ],
   "id": "3afb7054-f95c-467d-8897-9296fc3004b5"
  },
  {
   "cell_type": "markdown",
   "metadata": {},
   "source": [
    "# <a name=\"23appendb\">Appendix B: Illustrating p-values in R</a>\n",
    "\n",
    "------------------------------------------------------------------------\n",
    "\n",
    "The plots below require the package `ggplot2` that is loaded in the code\n",
    "cell below. **Be sure to first run the code cell below to load `ggplot2`\n",
    "before running any of the code cells that follow.**\n",
    "\n",
    "If you receive an error running the code cells below, it is possible you\n",
    "have not installed the `ggplot2` package. Run the command\n",
    "`install.packages(\"ggplot2\")` in the R console and try running the code\n",
    "cells below again."
   ],
   "id": "d2f5a352-fd7e-497f-af65-28953ee0477f"
  },
  {
   "cell_type": "code",
   "execution_count": null,
   "metadata": {},
   "outputs": [],
   "source": [
    "library(ggplot2)"
   ],
   "id": "1f9f981e-0cb1-4105-8416-208af546d552"
  },
  {
   "cell_type": "code",
   "execution_count": null,
   "metadata": {},
   "outputs": [],
   "source": [
    "##### section break"
   ],
   "id": "e08daefe-4ca3-48f6-b2f9-2d41887d6364"
  },
  {
   "cell_type": "markdown",
   "metadata": {},
   "source": [
    "## <a name=\"23appendb-known\">Illustrating p-values: Known Population Variance</a>\n",
    "\n",
    "------------------------------------------------------------------------\n",
    "\n",
    "If we are performing a hypothesis test on a single mean for a population\n",
    "whose variance is known, then we can either use:\n",
    "\n",
    "-   The null distribution is\n",
    "    ${\\color{dodgerblue}{\\overline{X} \\sim N \\left( \\mu_0, \\frac{\\sigma}{\\sqrt{n}} \\right)}}$\n",
    "    with test statistic is $\\bar{x}$, or\n",
    "-   The standardized normal distribution $Z \\sim N(0,1)$ with\n",
    "    standardized test statistic\n",
    "\n",
    "$${\\color{dodgerblue}{z =  \\dfrac{\\bar{x} - \\mu_0}{\\frac{\\sigma}{\\sqrt{n}}}}}.$$\n",
    "\n",
    "-   In the code cell below, enter values for the mean and standard error\n",
    "    of the null distribution as well as the test statistic."
   ],
   "id": "12af8d5d-ee3d-4443-89b2-263d9fec29aa"
  },
  {
   "cell_type": "code",
   "execution_count": null,
   "metadata": {},
   "outputs": [],
   "source": [
    "null.mean <- ??  # mean of the null distribution\n",
    "null.se <- ??  # standard error of the null distribution\n",
    "test.stat <- ??  # test statistic"
   ],
   "id": "1fe4f4a6-0e42-4814-ba8e-aaae76ee296d"
  },
  {
   "cell_type": "code",
   "execution_count": null,
   "metadata": {},
   "outputs": [],
   "source": [
    "##### section break"
   ],
   "id": "5370b6fc-8d95-439c-9ccf-d06761fc52fb"
  },
  {
   "cell_type": "markdown",
   "metadata": {},
   "source": [
    "### <a name=\"23two-known\">Two-Tailed Test: Known Variance</a>\n",
    "\n",
    "------------------------------------------------------------------------\n",
    "\n",
    "To illustrate the p-value for a two-tailed test:\n",
    "\n",
    "-   Be sure you have already loaded the `ggplot2` package and defined\n",
    "    `null.mean`, `null.se` and `test.stat`.\n",
    "-   Run the code cell below. No edits are needed."
   ],
   "id": "441d043b-507a-4ea9-b7a6-f45ab49dd788"
  },
  {
   "cell_type": "code",
   "execution_count": null,
   "metadata": {},
   "outputs": [],
   "source": [
    "################################################\n",
    "# for a two-tailed test run the code cell below\n",
    "################################################\n",
    "x.test <- abs(test.stat)\n",
    "xmax <- max(null.mean + 4*null.se, x.test)\n",
    "xmin <- -1*xmax\n",
    "\n",
    "\n",
    "ggplot(NULL, aes(c(-xmin, xmax))) + \n",
    "  geom_area(stat = \"function\",   fun = dnorm, \n",
    "            args = list(mean = null.mean, sd = null.se),\n",
    "            color = \"black\", fill = NA, \n",
    "            xlim = c(-x.test, x.test)) +\n",
    "  geom_area(stat = \"function\",   fun = dnorm, \n",
    "            args = list(mean = null.mean, sd = null.se),\n",
    "            color = \"black\", fill = \"firebrick2\", \n",
    "            xlim = c(xmin, -x.test)) +\n",
    "  geom_area(stat = \"function\",   fun = dnorm, \n",
    "            args = list(mean = null.mean, sd = null.se),\n",
    "            color = \"black\", fill = \"firebrick2\", \n",
    "            xlim = c(x.test, xmax)) +\n",
    "  geom_vline(xintercept = c(-x.test, x.test), linetype=\"dashed\", \n",
    "                color = \"firebrick2\", linewidth = 1) + \n",
    "  labs(x = \"test statistic\", y = \"\") +\n",
    "  scale_y_continuous(breaks = NULL) +\n",
    "  scale_x_continuous(breaks=c(-x.test,  x.test)) + \n",
    "  geom_hline(yintercept=0) + \n",
    "  theme_bw() + \n",
    "  theme(axis.text.x=element_text(size=15, color = \"firebrick2\"))"
   ],
   "id": "d5a1ed65-1e04-4d45-9cc8-995b5c75462f"
  },
  {
   "cell_type": "code",
   "execution_count": null,
   "metadata": {},
   "outputs": [],
   "source": [
    "##### section break"
   ],
   "id": "2bd8f35a-c72e-4af9-b347-9fe97db2f4c9"
  },
  {
   "cell_type": "markdown",
   "metadata": {},
   "source": [
    "### <a name=\"23left-known\">Left-Tailed Test: Known Variance</a>\n",
    "\n",
    "------------------------------------------------------------------------\n",
    "\n",
    "To illustrate the p-value for a left-tailed test:\n",
    "\n",
    "-   Be sure you have already loaded the `ggplot2` package and defined\n",
    "    `null.mean`, `null.se` and `test.stat`.\n",
    "-   Run the code cell below. No edits are needed."
   ],
   "id": "21038ec3-7155-4b5b-b716-e8f3e618f950"
  },
  {
   "cell_type": "code",
   "execution_count": null,
   "metadata": {},
   "outputs": [],
   "source": [
    "################################################\n",
    "# for a left-tailed test run the code cell below\n",
    "################################################\n",
    "x.test <- abs(test.stat)\n",
    "xmax <- max(null.mean + 4*null.se, x.test)\n",
    "xmin <- -1*xmax\n",
    "\n",
    "ggplot(NULL, aes(c(-xmin, xmax))) + \n",
    "  geom_area(stat = \"function\",   fun = dnorm, \n",
    "            args = list(mean = null.mean, sd = null.se),\n",
    "            color = \"black\", fill = NA, \n",
    "            xlim = c(-x.test, xmax)) +\n",
    "  geom_area(stat = \"function\",   fun = dnorm, \n",
    "            args = list(mean = null.mean, sd = null.se),\n",
    "            color = \"black\", fill = \"firebrick2\", \n",
    "            xlim = c(xmin, -x.test)) +\n",
    "  geom_vline(xintercept = -x.test, linetype=\"dashed\", \n",
    "                color = \"firebrick2\", linewidth = 1) + \n",
    "  labs(x = \"test statistic\", y = \"\") +\n",
    "  scale_y_continuous(breaks = NULL) +\n",
    "  scale_x_continuous(breaks=-x.test) + \n",
    "  geom_hline(yintercept=0) + \n",
    "  theme_bw() + \n",
    "  theme(axis.text.x=element_text(size=15, color = \"firebrick2\"))"
   ],
   "id": "0300d31c-33fd-440d-9556-95eba8ea3a7a"
  },
  {
   "cell_type": "code",
   "execution_count": null,
   "metadata": {},
   "outputs": [],
   "source": [
    "##### section break"
   ],
   "id": "c1c66a8f-3029-4084-b264-880c8dc76fd6"
  },
  {
   "cell_type": "markdown",
   "metadata": {},
   "source": [
    "### <a name=\"23right-known\">Right-Tailed Test: Known Variance</a>\n",
    "\n",
    "------------------------------------------------------------------------\n",
    "\n",
    "To illustrate the p-value for a right-tailed test:\n",
    "\n",
    "-   Be sure you have already loaded the `ggplot2` package and defined\n",
    "    `null.mean`, `null.se` and `test.stat`.\n",
    "-   Run the code cell below. No edits are needed."
   ],
   "id": "68e0f0be-3da3-4d98-9635-a260949cc7d1"
  },
  {
   "cell_type": "code",
   "execution_count": null,
   "metadata": {},
   "outputs": [],
   "source": [
    "################################################\n",
    "# for a right-tailed test run the code cell below\n",
    "################################################\n",
    "x.test <- abs(test.stat)\n",
    "xmax <- max(null.mean + 4*null.se, x.test)\n",
    "xmin <- -1*xmax\n",
    "\n",
    "ggplot(NULL, aes(c(-xmin, xmax))) + \n",
    "  geom_area(stat = \"function\",   fun = dnorm, \n",
    "            args = list(mean = null.mean, sd = null.se),\n",
    "            color = \"black\", fill = NA, \n",
    "            xlim = c(xmin, x.test)) +\n",
    "  geom_area(stat = \"function\",   fun = dnorm, \n",
    "            args = list(mean = null.mean, sd = null.se),\n",
    "            color = \"black\", fill = \"firebrick2\", \n",
    "            xlim = c(x.test, xmax)) +\n",
    "  geom_vline(xintercept = x.test, linetype=\"dashed\", \n",
    "                color = \"firebrick2\", linewidth = 1) + \n",
    "  labs(x = \"test statistic\", y = \"\") +\n",
    "  scale_y_continuous(breaks = NULL) +\n",
    "  scale_x_continuous(breaks=x.test) + \n",
    "  geom_hline(yintercept=0) + \n",
    "  theme_bw() + \n",
    "  theme(axis.text.x=element_text(size=15, color = \"firebrick2\"))"
   ],
   "id": "f8f8f09b-49e7-4623-97be-570be6d85edf"
  },
  {
   "cell_type": "code",
   "execution_count": null,
   "metadata": {},
   "outputs": [],
   "source": [
    "##### section break"
   ],
   "id": "fa92557b-989b-4d2b-916a-de628a2486da"
  },
  {
   "cell_type": "markdown",
   "metadata": {},
   "source": [
    "## <a name=\"23appendb-unknown\">Illustrating p-values: Unknown Population Variance</a>\n",
    "\n",
    "------------------------------------------------------------------------\n",
    "\n",
    "If we are performing a hypothesis test on a single mean for a population\n",
    "whose variance is unknown, then we use\n",
    "<span style=\"color:dodgerblue\">**$\\mathbf{t_{n-1}}$, a $t$-distribution\n",
    "with $n-1$ degrees of freedoms**</span>, for the null distribution and\n",
    "have <span style=\"color:dodgerblue\">**t-test statistic**</span>\n",
    "\n",
    "$${\\color{dodgerblue}{{\\color{tomato}{t}} = \\dfrac{\\bar{x} - \\mu_0}{\\frac{{\\color{tomato}{s}}}{\\sqrt{n}}}}}.$$\n",
    "\n",
    "-   In the code cell below, enter the value of the t-test statistic and\n",
    "    the degrees of freedom."
   ],
   "id": "e750b5bd-d294-421c-8b8e-cabd00533597"
  },
  {
   "cell_type": "code",
   "execution_count": null,
   "metadata": {},
   "outputs": [],
   "source": [
    "test.stat <- ??  # t-test statistic\n",
    "deg.free <- ??  # degrees of freedom  "
   ],
   "id": "c9416c0f-8f2d-4f06-893c-d3679d2077f6"
  },
  {
   "cell_type": "code",
   "execution_count": null,
   "metadata": {},
   "outputs": [],
   "source": [
    "##### section break"
   ],
   "id": "0e43c2d9-40f8-4133-a385-9729e4eea106"
  },
  {
   "cell_type": "markdown",
   "metadata": {},
   "source": [
    "### <a name=\"23two-unknown\">Two-Tailed Test: Unknown Variance</a>\n",
    "\n",
    "------------------------------------------------------------------------\n",
    "\n",
    "To illustrate the p-value for a two-tailed test:\n",
    "\n",
    "-   Be sure you have already loaded the `ggplot2` package and defined\n",
    "    `test.stat` and `deg.free`.\n",
    "-   Run the code cell below. No edits are needed."
   ],
   "id": "f9631aa8-5a80-45f6-ae41-b8f7095b3263"
  },
  {
   "cell_type": "code",
   "execution_count": null,
   "metadata": {},
   "outputs": [],
   "source": [
    "################################################\n",
    "# for a two-tailed test run the code cell below\n",
    "################################################\n",
    "x.test <- abs(test.stat)\n",
    "xmax <- max(4, x.test)\n",
    "xmin <- -1*xmax\n",
    "v <- deg.free\n",
    "\n",
    "\n",
    "ggplot(NULL, aes(c(-xmin, xmax))) + \n",
    "  geom_area(stat = \"function\",   fun = dt, \n",
    "            args = list(df = v),\n",
    "            color = \"black\", fill = NA, \n",
    "            xlim = c(-x.test, x.test)) +\n",
    "  geom_area(stat = \"function\",   fun = dt, \n",
    "            args = list(df = v),\n",
    "            color = \"black\", fill = \"firebrick2\", \n",
    "            xlim = c(xmin, -x.test)) +\n",
    "  geom_area(stat = \"function\",   fun = dt, \n",
    "            args = list(df = v),\n",
    "            color = \"black\", fill = \"firebrick2\", \n",
    "            xlim = c(x.test, xmax)) +\n",
    "  geom_vline(xintercept = c(-x.test, x.test), linetype=\"dashed\", \n",
    "                color = \"firebrick2\", linewidth = 1) + \n",
    "  labs(x = \"test statistic\", y = \"\") +\n",
    "  scale_y_continuous(breaks = NULL) +\n",
    "  scale_x_continuous(breaks=c(-x.test,  x.test)) + \n",
    "  geom_hline(yintercept=0) + \n",
    "  theme_bw() + \n",
    "  theme(axis.text.x=element_text(size=15, color = \"firebrick2\"))"
   ],
   "id": "d113c135-7fb9-4517-9cac-aa162a608eb9"
  },
  {
   "cell_type": "code",
   "execution_count": null,
   "metadata": {},
   "outputs": [],
   "source": [
    "##### section break"
   ],
   "id": "de10b2a2-4e5f-4eef-b943-4d2a3a8336d4"
  },
  {
   "cell_type": "markdown",
   "metadata": {},
   "source": [
    "### <a name=\"23left-unknown\">Left-Tailed Test: Unknown Variance</a>\n",
    "\n",
    "------------------------------------------------------------------------\n",
    "\n",
    "To illustrate the p-value for a left-tailed test:\n",
    "\n",
    "-   Be sure you have already loaded the `ggplot2` package and defined\n",
    "    `test.stat` and `deg.free`.\n",
    "-   Run the code cell below. No edits are needed."
   ],
   "id": "a18187fb-a227-4801-9d71-b20c4466b628"
  },
  {
   "cell_type": "code",
   "execution_count": null,
   "metadata": {},
   "outputs": [],
   "source": [
    "################################################\n",
    "# for a left-tailed test run the code cell below\n",
    "################################################\n",
    "x.test <- abs(test.stat)\n",
    "xmax <- max(4, x.test)\n",
    "xmin <- -1*xmax\n",
    "v <- deg.free\n",
    "\n",
    "\n",
    "ggplot(NULL, aes(c(-xmin, xmax))) + \n",
    "  geom_area(stat = \"function\",   fun = dt, \n",
    "            args = list(df = v),\n",
    "            color = \"black\", fill = NA, \n",
    "            xlim = c(-x.test, xmax)) +\n",
    "  geom_area(stat = \"function\",   fun = dt, \n",
    "            args = list(df = v),\n",
    "            color = \"black\", fill = \"firebrick2\", \n",
    "            xlim = c(xmin, -x.test)) +\n",
    "  geom_vline(xintercept = -x.test, linetype=\"dashed\", \n",
    "                color = \"firebrick2\", linewidth = 1) + \n",
    "  labs(x = \"test statistic\", y = \"\") +\n",
    "  scale_y_continuous(breaks = NULL) +\n",
    "  scale_x_continuous(breaks=-x.test) + \n",
    "  geom_hline(yintercept=0) + \n",
    "  theme_bw() + \n",
    "  theme(axis.text.x=element_text(size=15, color = \"firebrick2\"))"
   ],
   "id": "9de8bd46-3c23-46ce-a560-87a6fa3e355f"
  },
  {
   "cell_type": "code",
   "execution_count": null,
   "metadata": {},
   "outputs": [],
   "source": [
    "##### section break"
   ],
   "id": "3dea8867-f87b-47ee-ab0c-9531f07ca2f8"
  },
  {
   "cell_type": "markdown",
   "metadata": {},
   "source": [
    "### <a name=\"23right-unknown\">Right-Tailed Test: Unknown Variance</a>\n",
    "\n",
    "------------------------------------------------------------------------\n",
    "\n",
    "To illustrate the p-value for a right-tailed test:\n",
    "\n",
    "-   Be sure you have already loaded the `ggplot2` package and defined\n",
    "    `test.stat` and `deg.free`.\n",
    "-   Run the code cell below. No edits are needed."
   ],
   "id": "45a3056d-08c9-4ad9-a943-a99bf99f52a4"
  },
  {
   "cell_type": "code",
   "execution_count": null,
   "metadata": {},
   "outputs": [],
   "source": [
    "################################################\n",
    "# for a right-tailed test run the code cell below\n",
    "################################################\n",
    "x.test <- abs(test.stat)\n",
    "xmax <- max(4, x.test)\n",
    "xmin <- -1*xmax\n",
    "v <- deg.free\n",
    "\n",
    "\n",
    "ggplot(NULL, aes(c(-xmin, xmax))) + \n",
    "  geom_area(stat = \"function\",   fun = dt, \n",
    "            args = list(df = v),\n",
    "            color = \"black\", fill = NA, \n",
    "            xlim = c(xmin, x.test)) +\n",
    "  geom_area(stat = \"function\",   fun = dt, \n",
    "            args = list(df = v),\n",
    "            color = \"black\", fill = \"firebrick2\", \n",
    "            xlim = c(x.test, xmax)) +\n",
    "  geom_vline(xintercept = x.test, linetype=\"dashed\", \n",
    "                color = \"firebrick2\", linewidth = 1) + \n",
    "  labs(x = \"test statistic\", y = \"\") +\n",
    "  scale_y_continuous(breaks = NULL) +\n",
    "  scale_x_continuous(breaks=x.test) + \n",
    "  geom_hline(yintercept=0) + \n",
    "  theme_bw() + \n",
    "  theme(axis.text.x=element_text(size=15, color = \"firebrick2\"))"
   ],
   "id": "024bdb5e-3b4a-43c0-b9e9-2418ad986d1c"
  },
  {
   "cell_type": "code",
   "execution_count": null,
   "metadata": {},
   "outputs": [],
   "source": [
    "##### section break"
   ],
   "id": "bffbefeb-3b21-4daf-88a1-13e1f647b1dd"
  },
  {
   "cell_type": "markdown",
   "metadata": {},
   "source": [
    "------------------------------------------------------------------------\n",
    "\n",
    "![Creative Commons\n",
    "License](https://i.creativecommons.org/l/by-nc-sa/4.0/88x31.png) <nbsp>\n",
    "\n",
    "*Statistical Methods: Exploring the Uncertain* by [Adam\n",
    "Spiegler](https://github.com/CU-Denver-MathStats-OER/Statistical-Theory)\n",
    "is licensed under a [Creative Commons\n",
    "Attribution-NonCommercial-ShareAlike 4.0 International\n",
    "License](http://creativecommons.org/licenses/by-nc-sa/4.0/)."
   ],
   "id": "7632b497-1ee0-4ba0-ac1e-60e893da83a3"
  }
 ],
 "nbformat": 4,
 "nbformat_minor": 5,
 "metadata": {
  "kernelspec": {
   "name": "ir",
   "display_name": "R",
   "language": "R"
  }
 }
}
