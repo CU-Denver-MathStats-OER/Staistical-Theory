{
 "cells": [
  {
   "cell_type": "markdown",
   "metadata": {},
   "source": [
    "[![Open In\n",
    "Colab](https://colab.research.google.com/assets/colab-badge.svg)](https://githubtocolab.com/CU-Denver-MathStats-OER/Statistical-Theory/blob/main/Chap6/21-Intro-Hypothesis-Tests.ipynb)\n",
    "<nbsp>\n",
    "\n",
    "<figure>\n",
    "<img\n",
    "src=\"https://cdn.pixabay.com/photo/2019/09/07/17/22/yes-4459344_1280.jpg\"\n",
    "style=\"width:50.0%\" data-fig-align=\"left\" data-fig-alt=\"Paying the Bill\"\n",
    "alt=\"Credit: neotam, via Pixabay\" />\n",
    "<figcaption aria-hidden=\"true\">Credit: neotam, via Pixabay</figcaption>\n",
    "</figure>\n",
    "\n",
    "In a statistical <span style=\"color:dodgerblue\">**hypothesis\n",
    "test**</span>:\n",
    "\n",
    "-   A researcher wants to determine which of **two competing claims** is\n",
    "    more likely true.\n",
    "-   Researchers collect data and compare statistics.\n",
    "-   Based on data collected, researchers assess which of the two claims\n",
    "    seems more likely.\n",
    "\n",
    "Some examples of questions that could be answered using a hypothesis\n",
    "test are:\n",
    "\n",
    "-   What is a better method to help smokers quit: give them money for\n",
    "    successfully quitting, or penalize them if they don’t stop?\n",
    "-   What is the better mailer to send in order to nudge voters into\n",
    "    actually voting?\n",
    "-   What is a more effective government assistance program, giving\n",
    "    people food stamps or cash?\n",
    "\n",
    "Note the difference in the how the statistical question is framed\n",
    "compared to our prior work with estimators and confidence intervals.\n",
    "\n",
    "-   **Confidence intervals** are used to estimate the value of an\n",
    "    unknown population parameter.\n",
    "-   **Hypothesis tests** are used to gauge competing claims related to\n",
    "    an unknown population parameter.\n",
    "\n",
    "Hypothesis testing will provide a statistical framework for analyzing\n",
    "data, determining significance, and drawing conclusions."
   ],
   "id": "236d2a33-8bd4-4b2d-95c3-aaa67cb99f24"
  },
  {
   "cell_type": "code",
   "execution_count": null,
   "metadata": {},
   "outputs": [],
   "source": [
    "#section break"
   ],
   "id": "11f27bc5-ae52-45bd-a13d-1cae4b15538f"
  },
  {
   "cell_type": "markdown",
   "metadata": {},
   "source": [
    "# <a name=\"21tele-intro\">An Experiment with Telepathy</a>\n",
    "\n",
    "------------------------------------------------------------------------\n",
    "\n",
    "We refer to the two competing hypotheses as the\n",
    "<span style=\"color:dodgerblue\">**null hypothesis**</span>, denoted by\n",
    "$\\color{dodgerblue}{H_0}$, and the\n",
    "<span style=\"color:tomato\">**alternative hypothesis**</span>, denoted by\n",
    "$\\color{tomato}{H_a}$.\n",
    "\n",
    "-   $\\color{dodgerblue}{H_0}$: <span style=\"color:dodgerblue\">The boring\n",
    "    claim that nothing interesting is happening.</span>\n",
    "-   $\\color{tomato}{H_a}$: <span style=\"color:tomato\">The new or\n",
    "    different result a researcher is trying to establish or find\n",
    "    evidence to support.</span>"
   ],
   "id": "d90d87ce-2d0d-44dc-bd06-bbbe8ce18640"
  },
  {
   "cell_type": "code",
   "execution_count": null,
   "metadata": {},
   "outputs": [],
   "source": [
    "#section break"
   ],
   "id": "611c3808-28ec-48a7-983e-84b417064b70"
  },
  {
   "cell_type": "markdown",
   "metadata": {},
   "source": [
    "## <a name=\"21q1\">Question 1</a>\n",
    "\n",
    "------------------------------------------------------------------------\n",
    "\n",
    "Telepathy is the ability of an individual to communicate thoughts and\n",
    "ideas by means other than the known senses. I claim that I do have\n",
    "telepathy. There are two possibilities: either I do or I do not. **Which\n",
    "claim is the null hypothesis and which is the alternative?**\n",
    "\n",
    "### <a name=\"21sol1\">Solution to Question 1</a>\n",
    "\n",
    "------------------------------------------------------------------------\n",
    "\n",
    "<br>  \n",
    "<br>  \n",
    "<br>"
   ],
   "id": "d720db30-8720-4bca-9444-3bbab405efdd"
  },
  {
   "cell_type": "code",
   "execution_count": null,
   "metadata": {},
   "outputs": [],
   "source": [
    "#section break"
   ],
   "id": "8eeb784b-51a3-41b6-944a-1b589a335355"
  },
  {
   "cell_type": "markdown",
   "metadata": {},
   "source": [
    "## <a name=\"21q2\">Question 2</a>\n",
    "\n",
    "------------------------------------------------------------------------\n",
    "\n",
    "There are many different studies we could design to test these competing\n",
    "claims. I will collect data as as follows:\n",
    "\n",
    "-   I will think of a letter A, B, C, or D.\n",
    "-   I will telepathically communicate this letter to everyone.\n",
    "-   Each person will tell me what letter they believed I was thinking\n",
    "    of.\n",
    "\n",
    "If I could collect responses from everyone in the population, I could\n",
    "calculate the parameter $p$, the proportion of all responses from\n",
    "everyone in the world that are the correct letter.\n",
    "\n",
    "-   If $H_0$ is true, what would you expect the value of $p$ to be?\n",
    "-   If $H_a$ is true, what would you expect the value of $p$ to be?\n",
    "\n",
    "### <a name=\"21sol2\">Solution to Question 2</a>\n",
    "\n",
    "------------------------------------------------------------------------\n",
    "\n",
    "<br>  \n",
    "<br>  \n",
    "<br>"
   ],
   "id": "7acc82f0-586d-4af4-a3c6-8dba99bde305"
  },
  {
   "cell_type": "code",
   "execution_count": null,
   "metadata": {},
   "outputs": [],
   "source": [
    "#section break"
   ],
   "id": "0695c0dc-7413-461c-9b6e-87b471ff1aef"
  },
  {
   "cell_type": "markdown",
   "metadata": {},
   "source": [
    "## <a name=\"21q3\">Question 3</a>\n",
    "\n",
    "------------------------------------------------------------------------\n",
    "\n",
    "I cannot conduct my study on everyone in the world. Instead, I pick a\n",
    "sample of people from which to collect data. Suppose I am in a room with\n",
    "15 other people who will participate in the study as designed in\n",
    "\\[Question 2\\]. Let $\\hat{p}$ denote the proportion of the people in the\n",
    "room that correctly say the letter I was thinking of.\n",
    "\n",
    "> What would be enough evidence to convince you that I do have\n",
    "> telepathy?\n",
    "\n",
    "State your answer in terms of the value of the sample proportion\n",
    "$\\hat{p}$.\n",
    "\n",
    "### <a name=\"21sol3\">Solution to Question 3</a>\n",
    "\n",
    "------------------------------------------------------------------------\n",
    "\n",
    "<br>  \n",
    "<br>  \n",
    "<br>"
   ],
   "id": "a37ef9ed-f437-472f-8632-6615e598b051"
  },
  {
   "cell_type": "code",
   "execution_count": null,
   "metadata": {},
   "outputs": [],
   "source": [
    "#section break"
   ],
   "id": "8d72d13c-65e3-4ea0-bdca-b6bb46aefb9f"
  },
  {
   "cell_type": "markdown",
   "metadata": {},
   "source": [
    "# <a name=\"21test-steps\">Performing a Hypothesis Test</a>\n",
    "\n",
    "------------------------------------------------------------------------\n",
    "\n",
    "The general process form performing a hypothesis test is informally:\n",
    "\n",
    "1.  State the null and alternative hypotheses in terms of population\n",
    "    parameter(s).\n",
    "2.  Collect data from a sample and calculate test statistic(s).\n",
    "3.  Assess which claim is more likely to be true.\n",
    "4.  What conclusions (if any) can we make about the two competing\n",
    "    claims?\n",
    "\n",
    "We will dive deeper into each step, but for now we take a tour through\n",
    "the process in the context of two different studies. Before considering\n",
    "our first example, we investigate setting up the hypotheses in Step 1."
   ],
   "id": "5e1fc197-b1ad-4b16-8ee9-419da8ac7dd6"
  },
  {
   "cell_type": "code",
   "execution_count": null,
   "metadata": {},
   "outputs": [],
   "source": [
    "#section break"
   ],
   "id": "5d081144-16da-4bc0-b96b-8d639da5f688"
  },
  {
   "cell_type": "markdown",
   "metadata": {},
   "source": [
    "## <a name=\"21state-hyp\">Stating the Hypotheses</a>\n",
    "\n",
    "------------------------------------------------------------------------\n",
    "\n",
    "Deciding on a clear and pertinent set of hypotheses is perhaps the most\n",
    "important step in hypothesis testing. Carefully setting up hypotheses\n",
    "helps keep our analysis on track so we achieve our goal."
   ],
   "id": "d33fa944-08ee-47cc-9aa2-2f9215a2a600"
  },
  {
   "cell_type": "code",
   "execution_count": null,
   "metadata": {},
   "outputs": [],
   "source": [
    "#section break"
   ],
   "id": "96d62afb-4fa3-4436-af1d-846c9a9cc129"
  },
  {
   "cell_type": "markdown",
   "metadata": {},
   "source": [
    "### <a name=\"21null-alt\">The Null and Alternative Hypotheses</a>\n",
    "\n",
    "------------------------------------------------------------------------\n",
    "\n",
    "-   The <span style=\"color:dodgerblue\">**null hypothesis**</span> is a\n",
    "    “boring” claim. If the null hypothesis is true, this would not\n",
    "    really affect or change what is currently believed.\n",
    "-   The <span style=\"color:tomato\">**alternative hypothesis**</span> is\n",
    "    the new or exciting claim a researcher is hoping to establish that\n",
    "    is in direct competition with the boring claim in the null\n",
    "    hypothesis.\n",
    "\n",
    "For example, we generally believe coins are “fair” in the sense that\n",
    "when you flip a coin it has a 50% chance of landing on heads and a 50%\n",
    "chance of landing on tails. It would be more interesting if somebody\n",
    "claimed that a coin was not fair."
   ],
   "id": "a250d8ef-6cd2-40fb-a84a-d3c6fdf0e86a"
  },
  {
   "cell_type": "code",
   "execution_count": null,
   "metadata": {},
   "outputs": [],
   "source": [
    "#section break"
   ],
   "id": "aea93178-8d8c-469f-a9cb-ea74a726f189"
  },
  {
   "cell_type": "markdown",
   "metadata": {},
   "source": [
    "#### <a name=\"21two-tailed\">Two-Tailed Tests</a>\n",
    "\n",
    "------------------------------------------------------------------------\n",
    "\n",
    "Let $p$ denote the proportion **of all flips** of a coin that land on\n",
    "heads. If our goal is to show a coin is not fair, without indicating a\n",
    "direction of the bias, we could set up hypotheses\n",
    "\n",
    "-   $H_0$: $p=0.5$. The coin is fair (boring).\n",
    "-   $H_a$: ${\\color{tomato}{p \\ne 0.5}}$. The coin is not fair (what we\n",
    "    want to prove).\n",
    "\n",
    "If we claim a coin is not fair **without specifying a direction of the\n",
    "bias**, we use a ${\\color{tomato}{\\ne}}$ sign in $H_a$, and we say the\n",
    "test is a <span style=\"color:tomato\">**two-tailed test**</span>. There\n",
    "are other ways we could claim a coin is biased."
   ],
   "id": "39de7d82-154f-4a97-9a71-363a4d2bfa50"
  },
  {
   "cell_type": "code",
   "execution_count": null,
   "metadata": {},
   "outputs": [],
   "source": [
    "#section break"
   ],
   "id": "a3623dda-d98a-4c8c-b0f1-7e34d2b950fe"
  },
  {
   "cell_type": "markdown",
   "metadata": {},
   "source": [
    "#### <a name=\"21one-tailed\">One-Tailed Tests</a>\n",
    "\n",
    "------------------------------------------------------------------------\n",
    "\n",
    "A coin might be more biased to land on heads ($p > 0.5$). A coin might\n",
    "be more biased to land on tails ($p < 0.5$).\n",
    "\n",
    "-   If we want to test the claim that a coin is **biased to land on\n",
    "    heads**:\n",
    "    -   $H_0$: $p=0.5$. The coin is fair (boring).\n",
    "    -   $H_a$: ${\\color{tomato}{p > 0.5}}$. The coin is biased to heads\n",
    "        (what we want to prove).\n",
    "-   If we want to test the claim that a coin is **biased to land on\n",
    "    tails**:\n",
    "    -   $H_0$: $p=0.5$. The coin is fair (boring).\n",
    "    -   $H_a$: ${\\color{tomato}{p < 0.5}}$. The coin is biased to tails\n",
    "        (what we want to prove).\n",
    "\n",
    "When we specify a direction of the inequality we use either\n",
    "<span style=\"color:tomato\">$>$ or $<$</span> in $H_a$, and we say the\n",
    "test is a <span style=\"color:tomato\">**one-tailed test**</span>."
   ],
   "id": "15a2d481-934a-4b1f-a3c7-a3ac2deda4e4"
  },
  {
   "cell_type": "code",
   "execution_count": null,
   "metadata": {},
   "outputs": [],
   "source": [
    "#section break"
   ],
   "id": "bfbef64b-035f-4e7c-b113-1f0d6b3e7d74"
  },
  {
   "cell_type": "markdown",
   "metadata": {},
   "source": [
    "### <a name=\"21hyp-guide\">Guidelines for Stating Hypotheses</a>\n",
    "\n",
    "------------------------------------------------------------------------\n",
    "\n",
    "From the examples above, we note some helpful guidelines for setting up\n",
    "hypotheses:\n",
    "\n",
    "-   We state hypotheses **both in words and using mathematical\n",
    "    notation**.\n",
    "    -   Clearly stating the hypothesis in words will help us interpret\n",
    "        results.\n",
    "    -   Using appropriate mathematical notation will help guide our\n",
    "        statistical analysis.\n",
    "-   The hypotheses must be **competing claims**.\n",
    "-   Be sure to clearly indicate the **population of interest**.\n",
    "-   When using notation to state the hypotheses:\n",
    "    -   Use **population parameters** such as $\\mathbf{\\mu}$ and $p$.\n",
    "    -   Do not state hypotheses using statistics such as $\\bar{x}$ or\n",
    "        $\\hat{p}$.\n",
    "    -   We always use an <span style=\"color:dodgerblue\">equality sign,\n",
    "        $=$, in $H_0$</span>.\n",
    "    -   We always use an <span style=\"color:tomato\">inequality sign\n",
    "        ($\\ne$, $>$, or $<$) in $H_a$.</span>"
   ],
   "id": "b276c51d-4de1-4a40-a02c-f15b1e5c3043"
  },
  {
   "cell_type": "code",
   "execution_count": null,
   "metadata": {},
   "outputs": [],
   "source": [
    "#section break"
   ],
   "id": "a809db34-d8be-4f9c-ad10-a8b971fa9842"
  },
  {
   "cell_type": "markdown",
   "metadata": {},
   "source": [
    "## <a name=\"21test-stat\">Computing a Test Statistic</a>\n",
    "\n",
    "------------------------------------------------------------------------\n",
    "\n",
    "Stating our hypotheses in mathematical notation is extremely helpful in\n",
    "helping us decide which sample statistics will be most helpful in\n",
    "assessing our hypotheses. Essentially, based on the population\n",
    "parameters we use in $H_0$ and $H_a$, we use the corresponding\n",
    "statistic(s) from the sample(s). For example:\n",
    "\n",
    "-   If we want to test claims about $p$, calculating $\\hat{p}$ will be\n",
    "    useful.\n",
    "-   If we want to test claims about $\\mu_1 - \\mu_2$, calculating\n",
    "    $\\bar{x}_1-\\bar{x}_2$ will be useful.\n",
    "\n",
    "Often we standardize statistics, for example using $z$-scores. We will\n",
    "explore this idea more deeply later."
   ],
   "id": "5faa3fac-183c-4246-aa83-fd594fefa3e7"
  },
  {
   "cell_type": "code",
   "execution_count": null,
   "metadata": {},
   "outputs": [],
   "source": [
    "#section break"
   ],
   "id": "cb77f42a-43e7-43b5-b520-acd18dd38434"
  },
  {
   "cell_type": "markdown",
   "metadata": {},
   "source": [
    "## <a name=\"21informal-p\">Assess Which Claim is More Likely</a>\n",
    "\n",
    "------------------------------------------------------------------------\n",
    "\n",
    "When we set up hypotheses, we use a boring claim for the null hypothesis\n",
    "the that is generally assumed to be true. The alternative hypothesis is\n",
    "a new claim, if true, would cause us to doubt and possibly reject the\n",
    "null claim.\n",
    "\n",
    "-   Our goal is not to prove anything about the null claim $H_0$.\n",
    "-   **Our goal is to show $H_a$ is very likely true by showing $H_0$ is\n",
    "    very unlikely to be true.**\n",
    "\n",
    "The logic in hypothesis testing is similar to a proof technique called\n",
    "proof by contradiction.\n",
    "\n",
    "-   **We assume the boring claim $H_0$ is true**.\n",
    "-   We hope to prove our assumption is unlikely, and thus the opposite\n",
    "    ($H_a)$ is true.\n",
    "\n",
    "Based on our test statistic(s) and whether the alternative hypothesis is\n",
    "two-tailed or one-tailed, we assess statistical significance as follows:\n",
    "\n",
    "-   If the <span style=\"color:tomato\">test statistic is likely if $H_0$\n",
    "    is true</span>, then we do not have evidence to reject $H_0$.\n",
    "    -   The test is <span style=\"color:tomato\">**not statistically\n",
    "        significant**</span>.\n",
    "    -   The test is inconclusive.\n",
    "    -   We neither reject nor accept $H_0$.\n",
    "-   If the <span style=\"color:mediumseagreen\">test statistic is unlikely\n",
    "    if $H_0$ is true in the direction of the claim in $H_a$</span>, then\n",
    "    we have evidence that refutes $H_0$ and supports $H_a$.\n",
    "    -   The test is <span style=\"color:mediumseagreen\">**statistically\n",
    "        significant**</span>.\n",
    "    -   We reject $H_0$ and accept $H_a$.\n",
    "\n",
    "What do we mean be “likely” and “unlikely”? We consider the concept\n",
    "informally at first, and we will [explore this concept more deeply\n",
    "later](#sec-p-formal) using\n",
    "<span style=\"color:dodgerblue\">**p-values**</span> as a measurement."
   ],
   "id": "3403f80a-04d0-452e-9ea1-2e67f1dd9c1e"
  },
  {
   "cell_type": "code",
   "execution_count": null,
   "metadata": {},
   "outputs": [],
   "source": [
    "#section break"
   ],
   "id": "c237e325-96d8-4950-aad5-20d2d0e96a6e"
  },
  {
   "cell_type": "markdown",
   "metadata": {},
   "source": [
    "## <a name=\"21make-concl\">Making a Conclusion</a>\n",
    "\n",
    "------------------------------------------------------------------------\n",
    "\n",
    "In the end, there are two possible results from a hypothesis test.\n",
    "Either:\n",
    "\n",
    "-   The test **is statistically significant**.\n",
    "    -   We reject $H_0$.\n",
    "    -   We accept the competing claim, $H_a$.\n",
    "-   The test **is not statistically significant**.\n",
    "    -   We fail to reject $H_0$. We do NOT accept $H_0$.\n",
    "    -   The test is inconclusive as far as $H_a$ is considered,\n",
    "\n",
    "We will more formally discuss just how unlikely or likely a sample must\n",
    "be in order to for the result to be statistically significant.\n",
    "Informally, we assume the null hypothesis is true and require **evidence\n",
    "beyond a reasonable doubt that $\\mathbf{H_0}$ is not true** in order to\n",
    "be convinced we should reject $H_0$.\n",
    "\n",
    "We do not want different researchers subjectively choosing what “beyond\n",
    "a reasonable doubt” means to them. We hope to control for confounding\n",
    "variables in our studies, and making this decision as objective as\n",
    "possible helps account for potential bias by the researchers. In\n",
    "statistical hypothesis testing, a\n",
    "<span style=\"color:dodgerblue\">**significance level**</span> is used to\n",
    "make this decision."
   ],
   "id": "dfe2f0d5-61ce-4bb8-a707-ff6de590245b"
  },
  {
   "cell_type": "code",
   "execution_count": null,
   "metadata": {},
   "outputs": [],
   "source": [
    "#section break"
   ],
   "id": "c37d557a-d4c8-452f-9aef-37acd0bfd23c"
  },
  {
   "cell_type": "markdown",
   "metadata": {},
   "source": [
    "## <a name=\"21q4\">Question 4: Unscrupulous Diner’s Dilemma</a>\n",
    "\n",
    "------------------------------------------------------------------------\n",
    "\n",
    "<figure>\n",
    "<img\n",
    "src=\"https://upload.wikimedia.org/wikipedia/commons/3/36/Pay_the_bill.JPG\"\n",
    "style=\"width:45.0%\" data-fig-align=\"left\" data-fig-alt=\"Paying the Bill\"\n",
    "alt=\"Credit: Benreis, CC BY 3.0, via Wikimedia Commons\" />\n",
    "<figcaption aria-hidden=\"true\">Credit: Benreis, <a\n",
    "href=\"https://creativecommons.org/licenses/by/3.0\">CC BY 3.0</a>, via\n",
    "Wikimedia Commons</figcaption>\n",
    "</figure>\n",
    "\n",
    "An article[1] from *The Economic Journal* studied the so called\n",
    "unscrupulous diner’s dilemma.\n",
    "\n",
    "> The unscrupulous diner’s dilemma is a problem faced frequently in\n",
    "> social settings. When a group of diners jointly enjoys a meal at a\n",
    "> restaurant, often an unspoken agreement exists to divide the check\n",
    "> equally. A selfish diner could thereby enjoy exceptional dinners at\n",
    "> bargain prices. This dilemma typifies a class of serious social\n",
    "> problems[2] from environmental protection and resource conservation to\n",
    "> eliciting charity donations and slowing arms races.\n",
    "\n",
    "Researchers wanted to test whether people order more food and beverages\n",
    "when they know the bill is going to split evenly, or do they order the\n",
    "same amount regardless of whether they are splitting the bill or paying\n",
    "individually.\n",
    "\n",
    "[1] Gneezy, U., E. Haruvy, and H. Yafe (2004), [“The Inefficiency of\n",
    "Splitting the\n",
    "Bill”](https://rady.ucsd.edu/_files/faculty-research/uri-gneezy/splitting-bill.pdf),\n",
    "*The Economic Journal* 114\n",
    "\n",
    "[2] Glance, N., and B. Huberman, [“The Dynamics of Social\n",
    "Dilemmas”](http://www.uvm.edu/~pdodds/files/papers/others/1994/glance1994a.pdf),\n",
    "*Scientific American*"
   ],
   "id": "54883626-d5f6-493c-9936-82fb91a916cf"
  },
  {
   "cell_type": "code",
   "execution_count": null,
   "metadata": {},
   "outputs": [],
   "source": [
    "#section break"
   ],
   "id": "9f3ac0ab-4668-4f37-8d42-546308602116"
  },
  {
   "cell_type": "markdown",
   "metadata": {},
   "source": [
    "### <a name=\"21q4a\">Question 4a</a>\n",
    "\n",
    "------------------------------------------------------------------------\n",
    "\n",
    "State the null and alternative hypotheses both in words and using\n",
    "mathematical notation.\n",
    "\n",
    "#### <a name=\"21sol4a\">Solution to Question 4a</a>\n",
    "\n",
    "------------------------------------------------------------------------\n",
    "\n",
    "<br>  \n",
    "<br>  \n",
    "<br>"
   ],
   "id": "5ef98730-5a63-47f3-a1da-361bdf6b9aae"
  },
  {
   "cell_type": "code",
   "execution_count": null,
   "metadata": {},
   "outputs": [],
   "source": [
    "#section break"
   ],
   "id": "413a8438-f6d6-4177-b28c-2b7a9561b881"
  },
  {
   "cell_type": "markdown",
   "metadata": {},
   "source": [
    "### <a name=\"21q4b\">Question 4b</a>\n",
    "\n",
    "------------------------------------------------------------------------\n",
    "\n",
    "To test the claims, participants were randomly assigned into two tables,\n",
    "each with four people. One table (even-split group) was randomly picked\n",
    "and told they were going to evenly-split the bill. The other table\n",
    "(control) was told each person was going to pay for what they ordered.\n",
    "The mean amount ordered by the control group was $\\$8.67$. Which of\n",
    "following samples for the even-split group is the **most statistically\n",
    "significant**? Support your answer with an explanation.\n",
    "\n",
    "| Test Stat 1 | Test Stat 2 | Test Stat 3 | Test Stat 4 |\n",
    "|-------------|-------------|-------------|-------------|\n",
    "| $\\$4.67$    | $\\$8.50$    | $\\$8.80$    | $\\$11.23$   |\n",
    "\n",
    "#### <a name=\"21sol4b\">Solution to Question 4b</a>\n",
    "\n",
    "------------------------------------------------------------------------\n",
    "\n",
    "<br>  \n",
    "<br>  \n",
    "<br>"
   ],
   "id": "23c4a9d2-1cce-41c8-bd88-8f1ce1681ef1"
  },
  {
   "cell_type": "code",
   "execution_count": null,
   "metadata": {},
   "outputs": [],
   "source": [
    "#section break"
   ],
   "id": "31ea139b-89fd-45df-be2d-caa4a7dae93a"
  },
  {
   "cell_type": "markdown",
   "metadata": {},
   "source": [
    "### <a name=\"21q4c\">Question 4c</a>\n",
    "\n",
    "------------------------------------------------------------------------\n",
    "\n",
    "If the table below gives the amounts ordered by each of the four people\n",
    "in each group, what is the value of the test statistic? Complete the R\n",
    "code cell below to calculate a test statistic.\n",
    "\n",
    "#### <a name=\"21even\">Even-Split Group</a>\n",
    "\n",
    "| Person 1  | Person 2 | Person 3 | Person 4  |\n",
    "|-----------|----------|----------|-----------|\n",
    "| $\\$15.00$ | $\\$8.00$ | $\\$8.75$ | $\\$13.17$ |\n",
    "\n",
    "#### <a name=\"21control\">Control Group</a>\n",
    "\n",
    "| Person 1 | Person 2 | Person 3  | Person 4 |\n",
    "|----------|----------|-----------|----------|\n",
    "| $\\$8.50$ | $\\$7.90$ | $\\$10.85$ | $\\$7.43$ |\n",
    "\n",
    "#### <a name=\"21sol4c\">Solution to Question 4c</a>\n",
    "\n",
    "------------------------------------------------------------------------"
   ],
   "id": "0001639b-39aa-4bfb-beeb-403ef73b0b4a"
  },
  {
   "cell_type": "code",
   "execution_count": null,
   "metadata": {},
   "outputs": [],
   "source": [
    "# enter each sample as a vector below\n",
    "even <- c(15, 8, 8.75, 13.17)   # even-split data\n",
    "#control <- c(??)  # control data\n",
    "\n",
    "# calculate an appropriate test statistic"
   ],
   "id": "fa2e3e3a-05da-4be6-a8b1-111ef4d5a30e"
  },
  {
   "cell_type": "markdown",
   "metadata": {},
   "source": [
    "<br>  \n",
    "<br>"
   ],
   "id": "c0056b69-268e-4807-b7c6-f637ebdbab2f"
  },
  {
   "cell_type": "code",
   "execution_count": null,
   "metadata": {},
   "outputs": [],
   "source": [
    "#section break"
   ],
   "id": "112c3323-f2b6-433d-9060-bcb2ccc8573e"
  },
  {
   "cell_type": "markdown",
   "metadata": {},
   "source": [
    "### <a name=\"21q4d\">Question 4d</a>\n",
    "\n",
    "------------------------------------------------------------------------\n",
    "\n",
    "Based on the test statistic, what do you think we can conclude about the\n",
    "two competing claims?\n",
    "\n",
    "#### <a name=\"21sol4d\">Solution to Question 4d</a>\n",
    "\n",
    "------------------------------------------------------------------------\n",
    "\n",
    "<br>  \n",
    "<br>  \n",
    "<br>"
   ],
   "id": "a318b70c-2559-44e7-8c28-3aec4ca25a49"
  },
  {
   "cell_type": "code",
   "execution_count": null,
   "metadata": {},
   "outputs": [],
   "source": [
    "#section break"
   ],
   "id": "65741e07-29c7-4352-b857-7451f43bb472"
  },
  {
   "cell_type": "markdown",
   "metadata": {},
   "source": [
    "## <a name=\"21q5\">Question 5: Social Pressure and Voter Turnout</a>\n",
    "\n",
    "------------------------------------------------------------------------\n",
    "\n",
    "A 2008 experiment[1] at Yale aimed to determine whether positive or\n",
    "negative pressure is more effective at improving voter turnout.\n",
    "\n",
    "> Voter turnout theories based on rational self-interested behavior\n",
    "> generally fail to predict significant turnout unless they account for\n",
    "> the utility that citizens receive from performing their civic duty. We\n",
    "> distinguish between two aspects of this type of utility,\n",
    "\n",
    "One group received a mailing emphasizing the\n",
    "<span style=\"color:mediumseagreen\">intrinsic (internal)\n",
    "satisfaction</span> for voting:\n",
    "\n",
    "<figure>\n",
    "<img\n",
    "src=\"https://raw.githubusercontent.com/CU-Denver-MathStats-OER/Statistical-Theory/main/Images/21fig-intrinsic.png\"\n",
    "style=\"width:75.0%\" alt=\"Intrinsic Mailing\" />\n",
    "<figcaption aria-hidden=\"true\">Intrinsic Mailing</figcaption>\n",
    "</figure>\n",
    "\n",
    "Another group received a mailing placing\n",
    "<span style=\"color:tomato\">extrinsic (outside) pressure</span> on people\n",
    "to vote:\n",
    "\n",
    "<figure>\n",
    "<img\n",
    "src=\"https://raw.githubusercontent.com/CU-Denver-MathStats-OER/Statistical-Theory/main/Images/21fig-extrinsic.png\"\n",
    "style=\"width:75.0%\" alt=\"Extrinsic Mailing\" />\n",
    "<figcaption aria-hidden=\"true\">Extrinsic Mailing</figcaption>\n",
    "</figure>\n",
    "\n",
    "[1] Gerber, A., D. Green, and C. Larimer, [“Social Pressure and Voter\n",
    "Turnout: Evidence from a Largescale Field\n",
    "Experiment”](http://isps.yale.edu/sites/default/files/publication/2012/12/ISPS08-001.pdf),\n",
    "American Political Science Review, Feb 2008"
   ],
   "id": "e536d41b-be00-4598-9110-837c7aea26db"
  },
  {
   "cell_type": "code",
   "execution_count": null,
   "metadata": {},
   "outputs": [],
   "source": [
    "#section break"
   ],
   "id": "4d895768-6a5a-4ba5-b557-081aaa683786"
  },
  {
   "cell_type": "markdown",
   "metadata": {},
   "source": [
    "### <a name=\"21q5a\">Question 5a</a>\n",
    "\n",
    "------------------------------------------------------------------------\n",
    "\n",
    "State the null and alternative hypotheses the researches can use to test\n",
    "whether positive or negative pressure is more effective at improving\n",
    "voter turnout. State the hypotheses both in words and using mathematical\n",
    "notation.\n",
    "\n",
    "#### <a name=\"21sol5a\">Solution to Question 5a</a>\n",
    "\n",
    "------------------------------------------------------------------------\n",
    "\n",
    "<br>  \n",
    "<br>  \n",
    "<br>"
   ],
   "id": "0922d0fc-9dbf-4c73-9d8c-14c91b9d6a91"
  },
  {
   "cell_type": "code",
   "execution_count": null,
   "metadata": {},
   "outputs": [],
   "source": [
    "#section break"
   ],
   "id": "82b2cf96-6c11-4545-95c6-256570dab0a0"
  },
  {
   "cell_type": "markdown",
   "metadata": {},
   "source": [
    "### <a name=\"21q5b\">Question 5b</a>\n",
    "\n",
    "------------------------------------------------------------------------\n",
    "\n",
    "What is a possible test statistic the researchers could use to assess\n",
    "the competing claims in your previous answer? *There is not specific\n",
    "value to give. Rather, explain how you could use sample data to compute\n",
    "a test statistic.*\n",
    "\n",
    "#### <a name=\"21sol5b\">Solution to Question 5b</a>\n",
    "\n",
    "------------------------------------------------------------------------\n",
    "\n",
    "<br>  \n",
    "<br>  \n",
    "<br>"
   ],
   "id": "79acfa04-fb7b-468d-b970-d594a07be9a2"
  },
  {
   "cell_type": "code",
   "execution_count": null,
   "metadata": {},
   "outputs": [],
   "source": [
    "#section break"
   ],
   "id": "a931ee9d-20cd-458c-9d80-72e460e70dfb"
  },
  {
   "cell_type": "markdown",
   "metadata": {},
   "source": [
    "# <a name=\"21p-formal\">Measuring Significance: p-Values</a>\n",
    "\n",
    "------------------------------------------------------------------------\n",
    "\n",
    "Earlier we informally discussed the [concept of\n",
    "significance](#sec-informal-p). Recall the logic of hypothesis tests, we\n",
    "assume $H_0$ is true and consider whether the sample data supports or\n",
    "refutes the null claim. $p$-values are more formal statistics used to\n",
    "measure significance in hypothesis testing.\n",
    "\n",
    "The\n",
    "$\\color{dodgerblue}{\\mathbf{p}}$<span style=\"color:dodgerblue\">**-value**</span>\n",
    "is the **probability that we would get a random sample** with a test\n",
    "statistic as or more extreme as the observed test statistic **if the\n",
    "null hypothesis were true**.\n",
    "\n",
    "$${\\large {\\color{dodgerblue}{p\\mbox{-value} = P( \\mbox{test statistic as ore more extreme than observed} \\ | \\ H_0 \\mbox{ is true} )}}}.$$\n",
    "\n",
    "-   The **smaller the $p$-value**, the **less likely the sample** is\n",
    "    assuming $H_0$ is true.\n",
    "-   There is evidence that **contradicts $H_0$ and supports $H_a$**.\n",
    "-   The **smaller the $p$-value**, the **more statistically\n",
    "    significant** the result.\n",
    "\n",
    "A $p$-value is a probability, so we have $0 < p\\mbox{-value} < 1$. The\n",
    "closer the $p$-value is to $0$, the more significant the result.\n",
    "\n",
    "$p$-values measure the probability of our observed sample (assuming\n",
    "$H_0$ is true). $p$-values do not measure the probability that either\n",
    "$H_0$ or $H_a$ is correct or not."
   ],
   "id": "7b11aecc-56d0-4718-9fab-7218f05e649c"
  },
  {
   "cell_type": "code",
   "execution_count": null,
   "metadata": {},
   "outputs": [],
   "source": [
    "#section break"
   ],
   "id": "33eab900-e8c4-42a1-902a-442819dc91c6"
  },
  {
   "cell_type": "markdown",
   "metadata": {},
   "source": [
    "## <a name=\"21q6\">Question 6</a>\n",
    "\n",
    "------------------------------------------------------------------------\n",
    "\n",
    "Recall the telepathy example in [Questions 1](#sec-q1), [2](#sec-q2),\n",
    "and [3](#sec-q3). Let $T$ be the number of people (out of the possible\n",
    "15 people in the room) that said the correct the letter I was thinking.\n",
    "**Suppose we observed that 12 out of 15 people correctly said the letter\n",
    "I was thinking.**"
   ],
   "id": "ec77aff7-cc9f-4d59-b419-4158950fd38d"
  },
  {
   "cell_type": "code",
   "execution_count": null,
   "metadata": {},
   "outputs": [],
   "source": [
    "#section break"
   ],
   "id": "22772a6d-f471-476c-9e02-700c8efca0cf"
  },
  {
   "cell_type": "markdown",
   "metadata": {},
   "source": [
    "### <a name=\"21q6a\">Question 6a</a>\n",
    "\n",
    "------------------------------------------------------------------------\n",
    "\n",
    "Calculate the $p$-value of the observed test statistic. Use the R code\n",
    "cell below to help with the calculation.\n",
    "\n",
    "In 15 identical and independent trials under the assumption $H_0$ is\n",
    "true, what is $P(T \\geq 12)$.\n",
    "\n",
    "#### <a name=\"21sol6a\">Solution to Question 6a</a>\n",
    "\n",
    "------------------------------------------------------------------------"
   ],
   "id": "32aacf71-11fb-4580-89e9-1e3cf4c73773"
  },
  {
   "cell_type": "code",
   "execution_count": null,
   "metadata": {},
   "outputs": [],
   "source": [
    "###########\n",
    "# p-value of the observed 12 out 15 successes\n",
    "#\n",
    "#\n",
    "#"
   ],
   "id": "65b27626-7237-4ddb-b6b5-f302dddbccd9"
  },
  {
   "cell_type": "markdown",
   "metadata": {},
   "source": [
    "<br>  \n",
    "<br>"
   ],
   "id": "1bf19c21-2dc3-486b-9c81-37cd6c56771d"
  },
  {
   "cell_type": "code",
   "execution_count": null,
   "metadata": {},
   "outputs": [],
   "source": [
    "#section break"
   ],
   "id": "5de00811-ccf5-45a8-a078-ca5db3da7f75"
  },
  {
   "cell_type": "markdown",
   "metadata": {},
   "source": [
    "### <a name=\"21q6b\">Question 6b</a>\n",
    "\n",
    "------------------------------------------------------------------------\n",
    "\n",
    "Based on the value of the $p$-value, what can we conclude about my\n",
    "telepathy ability?\n",
    "\n",
    "#### <a name=\"21sol6b\">Solution to Question 6b</a>\n",
    "\n",
    "------------------------------------------------------------------------\n",
    "\n",
    "<br>  \n",
    "<br>  \n",
    "<br>"
   ],
   "id": "30ef1927-7fdd-4088-89e0-5dbec53f88a5"
  },
  {
   "cell_type": "code",
   "execution_count": null,
   "metadata": {},
   "outputs": [],
   "source": [
    "#section break"
   ],
   "id": "9eb46aff-714b-488c-ae87-b04851543aa2"
  },
  {
   "cell_type": "markdown",
   "metadata": {},
   "source": [
    "# <a name=\"21null-dist\">The Null Distribution</a>\n",
    "\n",
    "------------------------------------------------------------------------\n",
    "\n",
    "The <span style=\"color:dodgerblue\">**null distribution**</span> is the\n",
    "distribution of the test statistic **if the null hypothesis is true**."
   ],
   "id": "c5e5649d-f1fc-4617-b2d2-1f7f05837e9f"
  },
  {
   "cell_type": "code",
   "execution_count": null,
   "metadata": {},
   "outputs": [],
   "source": [
    "#section break"
   ],
   "id": "c2fe5452-08ea-4005-8d49-71500cfcbb0d"
  },
  {
   "cell_type": "markdown",
   "metadata": {},
   "source": [
    "## <a name=\"21q7\">Question 7</a>\n",
    "\n",
    "------------------------------------------------------------------------\n",
    "\n",
    "What is the null distribution for the previous telepathy example?\n",
    "\n",
    "### <a name=\"21sol7\">Solution to Question 7</a>\n",
    "\n",
    "------------------------------------------------------------------------\n",
    "\n",
    "<br>  \n",
    "<br>  \n",
    "<br>"
   ],
   "id": "63ddd843-1aa1-4a4d-806b-b2f833bd84b7"
  },
  {
   "cell_type": "code",
   "execution_count": null,
   "metadata": {},
   "outputs": [],
   "source": [
    "#section break"
   ],
   "id": "7c9b4364-2ef1-4a3f-b432-3614105dbbfe"
  },
  {
   "cell_type": "markdown",
   "metadata": {},
   "source": [
    "------------------------------------------------------------------------\n",
    "\n",
    "![Creative Commons\n",
    "License](https://i.creativecommons.org/l/by-nc-sa/4.0/88x31.png) <nbsp>\n",
    "\n",
    "*Statistical Methods: Exploring the Uncertain* by [Adam\n",
    "Spiegler](https://github.com/CU-Denver-MathStats-OER/Statistical-Theory)\n",
    "is licensed under a [Creative Commons\n",
    "Attribution-NonCommercial-ShareAlike 4.0 International\n",
    "License](http://creativecommons.org/licenses/by-nc-sa/4.0/)."
   ],
   "id": "72be2007-e4dc-4207-ba10-7927fa2566ab"
  }
 ],
 "nbformat": 4,
 "nbformat_minor": 5,
 "metadata": {
  "kernelspec": {
   "name": "ir",
   "display_name": "R",
   "language": "R"
  }
 }
}
