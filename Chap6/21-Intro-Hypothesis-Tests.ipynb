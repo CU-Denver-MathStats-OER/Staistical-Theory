{
  "cells": [
    {
      "cell_type": "markdown",
      "metadata": {
        "id": "236d2a33-8bd4-4b2d-95c3-aaa67cb99f24"
      },
      "source": [
        "[![Open In\n",
        "Colab](https://colab.research.google.com/assets/colab-badge.svg)](https://githubtocolab.com/CU-Denver-MathStats-OER/Statistical-Theory/blob/main/Chap6/21-Intro-Hypothesis-Tests.ipynb)\n"
      ],
      "id": "236d2a33-8bd4-4b2d-95c3-aaa67cb99f24"
    },
    {
      "cell_type": "markdown",
      "source": [
        "# <a name=\"21intro\">6.1: Introduction to Hypothesis Tests</a>\n",
        "\n",
        "---\n",
        "\n",
        "<figure>\n",
        "<img\n",
        "src=\"https://cdn.pixabay.com/photo/2019/09/07/17/22/yes-4459344_1280.jpg\"\n",
        "alt=\"Balancing Yes and No\" width = \"40%\"/>\n",
        "<figcaption aria-hidden=\"true\">\n",
        "Credit: neotam, via Pixabay\n",
        "</figcaption>\n",
        "</figure>\n",
        "\n",
        "\n",
        "In a statistical <font color=\"dodgerblue\">**hypothesis\n",
        "test**</font>:\n",
        "\n",
        "-   A researcher wants to determine which of **two competing claims** is   more likely true.\n",
        "-   Researchers collect data and compare statistics.\n",
        "-   Based on data collected, researchers assess which of the two claims   seems more likely.\n",
        "\n",
        "Some examples of questions that could be answered using a hypothesis\n",
        "test are:\n",
        "\n",
        "-   What is a better method to help smokers quit: give them money for   successfully quitting, or penalize them if they don't stop?\n",
        "-   What is the better mailer to send in order to nudge voters into   actually voting?\n",
        "-   What is a more effective government assistance program, giving   people food stamps or cash?\n",
        "\n",
        "Note the difference in the how the statistical question is framed\n",
        "compared to our prior work with estimators and confidence intervals.\n",
        "\n",
        "-   **Confidence intervals** are used to estimate the value of an   unknown population parameter.\n",
        "-   **Hypothesis tests** are used to gauge competing claims related to   an unknown population parameter.\n",
        "\n",
        "Hypothesis testing will provide a statistical framework for analyzing\n",
        "data, determining significance, and drawing conclusions."
      ],
      "metadata": {
        "id": "4Qp5iPKjkf2b"
      },
      "id": "4Qp5iPKjkf2b"
    },
    {
      "cell_type": "markdown",
      "metadata": {
        "id": "d90d87ce-2d0d-44dc-bd06-bbbe8ce18640"
      },
      "source": [
        "# <a name=\"21tele-intro\">An Experiment with Telepathy</a>\n",
        "\n",
        "---\n",
        "\n",
        "We refer to the two competing hypotheses as the\n",
        "<font color=\"dodgerblue\">**null hypothesis**</font>, denoted by\n",
        "$\\color{dodgerblue}{H_0}$, and the\n",
        "<font color=\"tomato\">**alternative hypothesis**</font>, denoted by\n",
        "$\\color{tomato}{H_a}$.\n",
        "\n",
        "-   $\\color{dodgerblue}{H_0}$: <font color=\"dodgerblue\">The boring   claim that nothing interesting is happening.</font>\n",
        "-   $\\color{tomato}{H_a}$: <font color=\"tomato\">The new or   different result a researcher is trying to establish or find   evidence to support.</font>"
      ],
      "id": "d90d87ce-2d0d-44dc-bd06-bbbe8ce18640"
    },
    {
      "cell_type": "markdown",
      "metadata": {
        "id": "d720db30-8720-4bca-9444-3bbab405efdd"
      },
      "source": [
        "## <a name=\"21q1\">Question 1</a>\n",
        "\n",
        "---\n",
        "\n",
        "Telepathy is the ability of an individual to communicate thoughts and\n",
        "ideas by means other than the known senses. I claim that I do have\n",
        "telepathy. There are two possibilities: either I do or I do not. **Which\n",
        "claim is the null hypothesis and which is the alternative?**\n",
        "\n",
        "### <a name=\"21sol1\">Solution to Question 1</a>\n",
        "\n",
        "---\n",
        "\n",
        "<br>  \n",
        "<br>  \n",
        "<br>"
      ],
      "id": "d720db30-8720-4bca-9444-3bbab405efdd"
    },
    {
      "cell_type": "markdown",
      "metadata": {
        "id": "7acc82f0-586d-4af4-a3c6-8dba99bde305"
      },
      "source": [
        "## <a name=\"21q2\">Question 2</a>\n",
        "\n",
        "---\n",
        "\n",
        "There are many different studies we could design to test these competing\n",
        "claims. I will collect data as as follows:\n",
        "\n",
        "-   I will think of a letter A, B, C, or D.\n",
        "-   I will telepathically communicate this letter to everyone.\n",
        "-   Each person will tell me what letter they believed I was thinking   of.\n",
        "\n",
        "If I could collect responses from everyone in the population, I could\n",
        "calculate the parameter $p$, the proportion of all responses from\n",
        "everyone in the world that are the correct letter.\n",
        "\n",
        "-   If $H_0$ is true, what would you expect the value of $p$ to be?\n",
        "-   If $H_a$ is true, what would you expect the value of $p$ to be?\n",
        "\n",
        "### <a name=\"21sol2\">Solution to Question 2</a>\n",
        "\n",
        "---\n",
        "\n",
        "<br>  \n",
        "<br>  \n",
        "<br>"
      ],
      "id": "7acc82f0-586d-4af4-a3c6-8dba99bde305"
    },
    {
      "cell_type": "markdown",
      "metadata": {
        "id": "a37ef9ed-f437-472f-8632-6615e598b051"
      },
      "source": [
        "## <a name=\"21q3\">Question 3</a>\n",
        "\n",
        "---\n",
        "\n",
        "I cannot conduct my study on everyone in the world. Instead, I pick a\n",
        "sample of people from which to collect data. Suppose I am in a room with\n",
        "15 other people who will participate in the study as designed in\n",
        "[Question 2](#21q2). Let $\\hat{p}$ denote the proportion of the people in the\n",
        "room that correctly say the letter I was thinking of.\n",
        "\n",
        "> What would be enough evidence to convince you that I do have\n",
        "> telepathy?\n",
        "\n",
        "State your answer in terms of the value of the sample proportion\n",
        "$\\hat{p}$.\n",
        "\n",
        "### <a name=\"21sol3\">Solution to Question 3</a>\n",
        "\n",
        "---\n",
        "\n",
        "<br>  \n",
        "<br>  \n",
        "<br>"
      ],
      "id": "a37ef9ed-f437-472f-8632-6615e598b051"
    },
    {
      "cell_type": "markdown",
      "metadata": {
        "id": "5e1fc197-b1ad-4b16-8ee9-419da8ac7dd6"
      },
      "source": [
        "# <a name=\"21test-steps\">Performing a Hypothesis Test</a>\n",
        "\n",
        "---\n",
        "\n",
        "The general process form performing a hypothesis test is informally:\n",
        "\n",
        "1.  State the null and alternative hypotheses in terms of population   parameter(s).\n",
        "2.  Collect data from a sample and calculate test statistic(s).\n",
        "3.  Assess which claim is more likely to be true.\n",
        "4.  What conclusions (if any) can we make about the two competing   claims?\n",
        "\n",
        "We will dive deeper into each step, but for now we take a tour through\n",
        "the process in the context of two different studies. Before considering\n",
        "our first example, we investigate setting up the hypotheses in Step 1."
      ],
      "id": "5e1fc197-b1ad-4b16-8ee9-419da8ac7dd6"
    },
    {
      "cell_type": "markdown",
      "metadata": {
        "id": "d33fa944-08ee-47cc-9aa2-2f9215a2a600"
      },
      "source": [
        "## <a name=\"21state-hyp\">Stating the Hypotheses</a>\n",
        "\n",
        "---\n",
        "\n",
        "Deciding on a clear and pertinent set of hypotheses is perhaps the most\n",
        "important step in hypothesis testing. Carefully setting up hypotheses\n",
        "helps keep our analysis on track so we achieve our goal."
      ],
      "id": "d33fa944-08ee-47cc-9aa2-2f9215a2a600"
    },
    {
      "cell_type": "markdown",
      "metadata": {
        "id": "a250d8ef-6cd2-40fb-a84a-d3c6fdf0e86a"
      },
      "source": [
        "### <a name=\"21null-alt\">The Null and Alternative Hypotheses</a>\n",
        "\n",
        "---\n",
        "\n",
        "-   The <font color=\"dodgerblue\">**null hypothesis**</font> is a   “boring” claim. If the null hypothesis is true, this would not   really affect or change what is currently believed.\n",
        "-   The <font color=\"tomato\">**alternative hypothesis**</font> is   the new or exciting claim a researcher is hoping to establish that   is in direct competition with the boring claim in the null   hypothesis.\n",
        "\n",
        "For example, we generally believe coins are “fair” in the sense that\n",
        "when you flip a coin it has a 50% chance of landing on heads and a 50%\n",
        "chance of landing on tails. It would be more interesting if somebody\n",
        "claimed that a coin was not fair."
      ],
      "id": "a250d8ef-6cd2-40fb-a84a-d3c6fdf0e86a"
    },
    {
      "cell_type": "markdown",
      "metadata": {
        "id": "39de7d82-154f-4a97-9a71-363a4d2bfa50"
      },
      "source": [
        "#### <a name=\"21two-tailed\">Two-Tailed Tests</a>\n",
        "\n",
        "---\n",
        "\n",
        "Let $p$ denote the proportion **of all flips** of a coin that land on\n",
        "heads. If our goal is to show a coin is not fair, without indicating a\n",
        "direction of the bias, we could set up hypotheses\n",
        "\n",
        "-   $H_0$: $p=0.5$. The coin is fair (boring).\n",
        "-   $H_a$: ${\\color{tomato}{p \\ne 0.5}}$. The coin is not fair (what we   want to prove).\n",
        "\n",
        "If we claim a coin is not fair **without specifying a direction of the\n",
        "bias**, we use a ${\\color{tomato}{\\ne}}$ sign in $H_a$, and we say the\n",
        "test is a <font color=\"tomato\">**two-tailed test**</font>. There\n",
        "are other ways we could claim a coin is biased."
      ],
      "id": "39de7d82-154f-4a97-9a71-363a4d2bfa50"
    },
    {
      "cell_type": "markdown",
      "metadata": {
        "id": "15a2d481-934a-4b1f-a3c7-a3ac2deda4e4"
      },
      "source": [
        "#### <a name=\"21one-tailed\">One-Tailed Tests</a>\n",
        "\n",
        "---\n",
        "\n",
        "A coin might be more biased to land on heads ($p > 0.5$). A coin might\n",
        "be more biased to land on tails ($p < 0.5$).\n",
        "\n",
        "-   If we want to test the claim that a coin is **biased to land on   heads**:\n",
        "    -   $H_0$: $p=0.5$. The coin is fair (boring).\n",
        "    -   $H_a$: ${\\color{tomato}{p > 0.5}}$. The coin is biased to heads       (what we want to prove).\n",
        "-   If we want to test the claim that a coin is **biased to land on   tails**:\n",
        "    -   $H_0$: $p=0.5$. The coin is fair (boring).\n",
        "    -   $H_a$: ${\\color{tomato}{p < 0.5}}$. The coin is biased to tails       (what we want to prove).\n",
        "\n",
        "When we specify a direction of the inequality we use either\n",
        "<font color=\"tomato\">$>$ or $<$</font> in $H_a$, and we say the\n",
        "test is a <font color=\"tomato\">**one-tailed test**</font>."
      ],
      "id": "15a2d481-934a-4b1f-a3c7-a3ac2deda4e4"
    },
    {
      "cell_type": "markdown",
      "metadata": {
        "id": "b276c51d-4de1-4a40-a02c-f15b1e5c3043"
      },
      "source": [
        "### <a name=\"21hyp-guide\">Guidelines for Stating Hypotheses</a>\n",
        "\n",
        "---\n",
        "\n",
        "From the examples above, we note some helpful guidelines for setting up\n",
        "hypotheses:\n",
        "\n",
        "-   We state hypotheses **both in words and using mathematical   notation**.\n",
        "    -   Clearly stating the hypothesis in words will help us interpret       results.\n",
        "    -   Using appropriate mathematical notation will help guide our       statistical analysis.\n",
        "-   The hypotheses must be **competing claims**.\n",
        "-   Be sure to clearly indicate the **population of interest**.\n",
        "-   When using notation to state the hypotheses:\n",
        "    -   Use **population parameters** such as $\\mathbf{\\mu}$ and $p$.\n",
        "    -   Do not state hypotheses using statistics such as $\\bar{x}$ or       $\\hat{p}$.\n",
        "    -   We always use an <font color=\"dodgerblue\">equality sign,       $=$, in $H_0$</font>.\n",
        "    -   We always use an <font color=\"tomato\">inequality sign       ($\\ne$, $>$, or $<$) in $H_a$.</font>"
      ],
      "id": "b276c51d-4de1-4a40-a02c-f15b1e5c3043"
    },
    {
      "cell_type": "markdown",
      "metadata": {
        "id": "5faa3fac-183c-4246-aa83-fd594fefa3e7"
      },
      "source": [
        "## <a name=\"21test-stat\">Computing a Test Statistic</a>\n",
        "\n",
        "---\n",
        "\n",
        "Stating our hypotheses in mathematical notation is extremely helpful in\n",
        "helping us decide which sample statistics will be most helpful in\n",
        "assessing our hypotheses. Essentially, based on the population\n",
        "parameters we use in $H_0$ and $H_a$, we use the corresponding\n",
        "statistic(s) from the sample(s). For example:\n",
        "\n",
        "-   If we want to test claims about $p$, calculating $\\hat{p}$ will be   useful.\n",
        "-   If we want to test claims about $\\mu_1 - \\mu_2$, calculating   $\\bar{x}_1-\\bar{x}_2$ will be useful.\n",
        "\n",
        "Often we standardize statistics, for example using $z$-scores. We will\n",
        "explore this idea more deeply later."
      ],
      "id": "5faa3fac-183c-4246-aa83-fd594fefa3e7"
    },
    {
      "cell_type": "markdown",
      "metadata": {
        "id": "3403f80a-04d0-452e-9ea1-2e67f1dd9c1e"
      },
      "source": [
        "## <a name=\"21informal-p\">Assess Which Claim is More Likely</a>\n",
        "\n",
        "---\n",
        "\n",
        "When we set up hypotheses, we use a boring claim for the null hypothesis\n",
        "the that is generally assumed to be true. The alternative hypothesis is\n",
        "a new claim, if true, would cause us to doubt and possibly reject the\n",
        "null claim.\n",
        "\n",
        "-   Our goal is not to prove anything about the null claim $H_0$.\n",
        "-   **Our goal is to show $H_a$ is very likely true by showing $H_0$ is   very unlikely to be true.**\n",
        "\n",
        "The logic in hypothesis testing is similar to a proof technique called\n",
        "proof by contradiction.\n",
        "\n",
        "-   **We assume the boring claim $H_0$ is true**.\n",
        "-   We hope to prove our assumption is unlikely, and thus the opposite   ($H_a)$ is true.\n",
        "\n",
        "Based on our test statistic(s) and whether the alternative hypothesis is\n",
        "two-tailed or one-tailed, we assess statistical significance as follows:\n",
        "\n",
        "-   If the <font color=\"tomato\">test statistic is likely if $H_0$   is true</font>, then we do not have evidence to reject $H_0$.\n",
        "    -   The test is <font color=\"tomato\">**not statistically       significant**</font>.\n",
        "    -   The test is inconclusive.\n",
        "    -   We neither reject nor accept $H_0$.\n",
        "-   If the <font color=\"mediumseagreen\">test statistic is unlikely   if $H_0$ is true in the direction of the claim in $H_a$</font>, then   we have evidence that refutes $H_0$ and supports $H_a$.\n",
        "    -   The test is <font color=\"mediumseagreen\">**statistically       significant**</font>.\n",
        "    -   We reject $H_0$ and accept $H_a$.\n",
        "\n",
        "What do we mean be “likely” and “unlikely”? We consider the concept\n",
        "informally at first, and we will [explore this concept more deeply\n",
        "later](#21p-formal) using\n",
        "<font color=\"dodgerblue\">**p-values**</font> as a measurement."
      ],
      "id": "3403f80a-04d0-452e-9ea1-2e67f1dd9c1e"
    },
    {
      "cell_type": "markdown",
      "metadata": {
        "id": "dfe2f0d5-61ce-4bb8-a707-ff6de590245b"
      },
      "source": [
        "## <a name=\"21make-concl\">Making a Conclusion</a>\n",
        "\n",
        "---\n",
        "\n",
        "In the end, there are two possible results from a hypothesis test.\n",
        "Either:\n",
        "\n",
        "-   The test **is statistically significant**.\n",
        "    -   We reject $H_0$.\n",
        "    -   We accept the competing claim, $H_a$.\n",
        "-   The test **is not statistically significant**.\n",
        "    -   We fail to reject $H_0$. We do NOT accept $H_0$.\n",
        "    -   The test is inconclusive as far as $H_a$ is considered,\n",
        "\n",
        "We will more formally discuss just how unlikely or likely a sample must\n",
        "be in order to for the result to be statistically significant.\n",
        "Informally, we assume the null hypothesis is true and require **evidence\n",
        "beyond a reasonable doubt that $\\mathbf{H_0}$ is not true** in order to\n",
        "be convinced we should reject $H_0$.\n",
        "\n",
        "We do not want different researchers subjectively choosing what “beyond\n",
        "a reasonable doubt” means to them. We hope to control for confounding\n",
        "variables in our studies, and making this decision as objective as\n",
        "possible helps account for potential bias by the researchers. In\n",
        "statistical hypothesis testing, a\n",
        "<font color=\"dodgerblue\">**significance level**</font> is used to\n",
        "make this decision."
      ],
      "id": "dfe2f0d5-61ce-4bb8-a707-ff6de590245b"
    },
    {
      "cell_type": "markdown",
      "metadata": {
        "id": "54883626-d5f6-493c-9936-82fb91a916cf"
      },
      "source": [
        "## <a name=\"21q4\">Question 4: Unscrupulous Diner's Dilemma</a>\n",
        "\n",
        "---\n",
        "\n",
        "<figure>\n",
        "<img\n",
        "src=\"https://upload.wikimedia.org/wikipedia/commons/3/36/Pay_the_bill.JPG\"\n",
        "alt=\"Paying the Bill\" width = \"40%\"/>\n",
        "<figcaption aria-hidden=\"true\">\n",
        "Credit: Benreis, <a\n",
        "href=\"https://creativecommons.org/licenses/by/3.0\">CC BY 3.0</a>, via Wikimedia Commons\n",
        "</figcaption>\n",
        "</figure>\n",
        "\n",
        "An article<sup>1</sup> from *The Economic Journal* studied the so called\n",
        "unscrupulous diner's dilemma.\n",
        "\n",
        "> The unscrupulous diner's dilemma is a problem faced frequently in social settings. When a group of diners jointly enjoys a meal at a restaurant, often an unspoken agreement exists to divide the check equally. A selfish diner could thereby enjoy exceptional dinners at bargain prices. This dilemma typifies a class of serious social problems<sup>2</sup> from environmental protection and resource conservation to eliciting charity donations and slowing arms races.\n",
        "\n",
        "Researchers wanted to test whether people order more food and beverages\n",
        "when they know the bill is going to split evenly, or do they order the\n",
        "same amount regardless of whether they are splitting the bill or paying\n",
        "individually.\n",
        "\n",
        "<br>\n",
        "\n",
        "<font size=2>1. Gneezy, U., E. Haruvy, and H. Yafe (2004), [“The Inefficiency of Splitting the Bill”](https://rady.ucsd.edu/_files/faculty-research/uri-gneezy/splitting-bill.pdf), *The Economic Journal* 114.</font>  \n",
        "<font size=2>2. Glance, N., and B. Huberman, [“The Dynamics of Social Dilemmas”](http://www.uvm.edu/~pdodds/files/papers/others/1994/glance1994a.pdf), *Scientific American*.</font>"
      ],
      "id": "54883626-d5f6-493c-9936-82fb91a916cf"
    },
    {
      "cell_type": "markdown",
      "metadata": {
        "id": "5ef98730-5a63-47f3-a1da-361bdf6b9aae"
      },
      "source": [
        "### <a name=\"21q4a\">Question 4a</a>\n",
        "\n",
        "---\n",
        "\n",
        "State the null and alternative hypotheses both in words and using\n",
        "mathematical notation.\n",
        "\n",
        "#### <a name=\"21sol4a\">Solution to Question 4a</a>\n",
        "\n",
        "---\n",
        "\n",
        "<br>  \n",
        "<br>  \n",
        "<br>"
      ],
      "id": "5ef98730-5a63-47f3-a1da-361bdf6b9aae"
    },
    {
      "cell_type": "markdown",
      "metadata": {
        "id": "23c4a9d2-1cce-41c8-bd88-8f1ce1681ef1"
      },
      "source": [
        "### <a name=\"21q4b\">Question 4b</a>\n",
        "\n",
        "---\n",
        "\n",
        "To test the claims, participants were randomly assigned into two tables,\n",
        "each with four people. One table (even-split group) was randomly picked\n",
        "and told they were going to evenly-split the bill. The other table\n",
        "(control) was told each person was going to pay for what they ordered.\n",
        "The mean amount ordered by the control group was $\\$8.67$. Which of\n",
        "following samples for the even-split group is the **most statistically\n",
        "significant**? Support your answer with an explanation.\n",
        "\n",
        "| <font size=3>Test Stat 1</font> | <font size=3>Test Stat 2</font> | <font size=3>Test Stat 3</font> | Test <font size=3>Stat 4</font> |\n",
        "|-------------|-------------|-------------|-------------|\n",
        "| <font size=3>$\\$4.67$</font>    | <font size=3>$\\$8.50$</font>    | <font size=3>$\\$8.80$</font>    | <font size=3>$\\$11.23$ </font>  |\n",
        "\n",
        "#### <a name=\"21sol4b\">Solution to Question 4b</a>\n",
        "\n",
        "---\n",
        "\n",
        "<br>  \n",
        "<br>  \n",
        "<br>"
      ],
      "id": "23c4a9d2-1cce-41c8-bd88-8f1ce1681ef1"
    },
    {
      "cell_type": "markdown",
      "metadata": {
        "id": "0001639b-39aa-4bfb-beeb-403ef73b0b4a"
      },
      "source": [
        "### <a name=\"21q4c\">Question 4c</a>\n",
        "\n",
        "---\n",
        "\n",
        "If the table below gives the amounts ordered by each of the four people\n",
        "in each group, what is the value of the test statistic? Complete the R\n",
        "code cell below to calculate a test statistic.\n",
        "\n",
        "#### <a name=\"21even\">Even-Split Group</a>\n",
        "\n",
        "| <font size=3>Person 1</font>  | <font size=3>Person 2</font> | <font size=3>Person 3</font> | <font size=3>Person 4</font>  |\n",
        "|-----------|----------|----------|-----------|\n",
        "| <font size=3>$\\$15.00$</font> | <font size=3>$\\$8.00$</font> | <font size=3>$\\$8.75$</font> | <font size=3>$\\$13.17$</font> |\n",
        "\n",
        "#### <a name=\"21control\">Control Group</a>\n",
        "\n",
        "| <font size=3>Person 1</font>  | <font size=3>Person 2</font> | <font size=3>Person 3</font> | <font size=3>Person 4</font>  |\n",
        "|----------|----------|-----------|----------|\n",
        "| <font size=3>$\\$8.50$</font> | <font size=3>$\\$7.90$</font> | <font size=3>$\\$10.85$</font> | <font size=3>$\\$7.43$</font> |\n",
        "\n",
        "#### <a name=\"21sol4c\">Solution to Question 4c</a>\n",
        "\n",
        "---"
      ],
      "id": "0001639b-39aa-4bfb-beeb-403ef73b0b4a"
    },
    {
      "cell_type": "code",
      "execution_count": null,
      "metadata": {
        "id": "fa2e3e3a-05da-4be6-a8b1-111ef4d5a30e"
      },
      "outputs": [],
      "source": [
        "# enter each sample as a vector below\n",
        "even <- c(15, 8, 8.75, 13.17)   # even-split data\n",
        "control <- c(??)  # control data\n",
        "\n",
        "# calculate an appropriate test statistic\n"
      ],
      "id": "fa2e3e3a-05da-4be6-a8b1-111ef4d5a30e"
    },
    {
      "cell_type": "markdown",
      "metadata": {
        "id": "c0056b69-268e-4807-b7c6-f637ebdbab2f"
      },
      "source": [
        "<br>  \n",
        "<br>"
      ],
      "id": "c0056b69-268e-4807-b7c6-f637ebdbab2f"
    },
    {
      "cell_type": "markdown",
      "metadata": {
        "id": "a318b70c-2559-44e7-8c28-3aec4ca25a49"
      },
      "source": [
        "### <a name=\"21q4d\">Question 4d</a>\n",
        "\n",
        "---\n",
        "\n",
        "Based on the test statistic, what do you think we can conclude about the\n",
        "two competing claims?\n",
        "\n",
        "#### <a name=\"21sol4d\">Solution to Question 4d</a>\n",
        "\n",
        "---\n",
        "\n",
        "<br>  \n",
        "<br>  \n",
        "<br>"
      ],
      "id": "a318b70c-2559-44e7-8c28-3aec4ca25a49"
    },
    {
      "cell_type": "markdown",
      "metadata": {
        "id": "e536d41b-be00-4598-9110-837c7aea26db"
      },
      "source": [
        "## <a name=\"21q5\">Question 5: Social Pressure and Voter Turnout</a>\n",
        "\n",
        "---\n",
        "\n",
        "A 2008 experiment<sup>3</sup> at Yale aimed to determine whether positive or\n",
        "negative pressure is more effective at improving voter turnout.\n",
        "\n",
        "> Voter turnout theories based on rational self-interested behavior generally fail to predict significant turnout unless they account for the utility that citizens receive from performing their civic duty. We distinguish between two aspects of this type of utility,\n",
        "\n",
        "One group received a mailing emphasizing the\n",
        "<font color=\"mediumseagreen\">intrinsic (internal)\n",
        "satisfaction</font> for voting:\n",
        "\n",
        "\n",
        "<figure>\n",
        "<img\n",
        "src=\"https://raw.githubusercontent.com/CU-Denver-MathStats-OER/Statistical-Theory/main/Images/21fig-intrinsic.png\"\n",
        "alt=\"Intrinsic Mailing\" width = \"55%\"/>\n",
        "<figcaption aria-hidden=\"true\">\n",
        "Intrinsic mailing\n",
        "</figcaption>\n",
        "</figure>\n",
        "\n",
        "\n",
        "Another group received a mailing placing\n",
        "<font color=\"tomato\">extrinsic (outside) pressure</font> on people\n",
        "to vote:\n",
        "\n",
        "<figure>\n",
        "<img\n",
        "src=\"https://raw.githubusercontent.com/CU-Denver-MathStats-OER/Statistical-Theory/main/Images/21fig-extrinsic.png\"\n",
        "alt=\"Extrinsic Mailing\" width = \"55%\"/>\n",
        "<figcaption aria-hidden=\"true\">\n",
        "Extrinsic mailing\n",
        "</figcaption>\n",
        "</figure>\n",
        "\n",
        "<br>\n",
        "\n",
        "<font size=2>3. Gerber, A., D. Green, and C. Larimer, [“Social Pressure and Voter\n",
        "Turnout: Evidence from a Largescale Field\n",
        "Experiment”](http://isps.yale.edu/sites/default/files/publication/2012/12/ISPS08-001.pdf),\n",
        "American Political Science Review, Feb 2008</font>"
      ],
      "id": "e536d41b-be00-4598-9110-837c7aea26db"
    },
    {
      "cell_type": "markdown",
      "metadata": {
        "id": "0922d0fc-9dbf-4c73-9d8c-14c91b9d6a91"
      },
      "source": [
        "### <a name=\"21q5a\">Question 5a</a>\n",
        "\n",
        "---\n",
        "\n",
        "State the null and alternative hypotheses the researches can use to test\n",
        "whether positive or negative pressure is more effective at improving\n",
        "voter turnout. State the hypotheses both in words and using mathematical\n",
        "notation.\n",
        "\n",
        "#### <a name=\"21sol5a\">Solution to Question 5a</a>\n",
        "\n",
        "---\n",
        "\n",
        "<br>  \n",
        "<br>  \n",
        "<br>"
      ],
      "id": "0922d0fc-9dbf-4c73-9d8c-14c91b9d6a91"
    },
    {
      "cell_type": "markdown",
      "metadata": {
        "id": "79acfa04-fb7b-468d-b970-d594a07be9a2"
      },
      "source": [
        "### <a name=\"21q5b\">Question 5b</a>\n",
        "\n",
        "---\n",
        "\n",
        "What is a possible test statistic the researchers could use to assess\n",
        "the competing claims in your previous answer? *There is not specific\n",
        "value to give. Rather, explain how you could use sample data to compute\n",
        "a test statistic.*\n",
        "\n",
        "#### <a name=\"21sol5b\">Solution to Question 5b</a>\n",
        "\n",
        "---\n",
        "\n",
        "<br>  \n",
        "<br>  \n",
        "<br>"
      ],
      "id": "79acfa04-fb7b-468d-b970-d594a07be9a2"
    },
    {
      "cell_type": "markdown",
      "metadata": {
        "id": "7b11aecc-56d0-4718-9fab-7218f05e649c"
      },
      "source": [
        "# <a name=\"21p-formal\">Measuring Significance: p-Values</a>\n",
        "\n",
        "---\n",
        "\n",
        "Earlier we informally discussed the [concept of\n",
        "significance](#21informal-p). Recall the logic of hypothesis tests, we\n",
        "assume $H_0$ is true and consider whether the sample data supports or\n",
        "refutes the null claim. $p$-values are more formal statistics used to\n",
        "measure significance in hypothesis testing.\n",
        "\n",
        "The\n",
        "$\\color{dodgerblue}{\\mathbf{p}}$<font color=\"dodgerblue\">**-value**</font>\n",
        "is the **probability that we would get a random sample** with a test\n",
        "statistic as or more extreme as the observed test statistic **if the\n",
        "null hypothesis were true**.\n",
        "\n",
        "$${\\large {\\color{dodgerblue}{p\\mbox{-value} = P( \\mbox{test statistic as ore more extreme than observed} \\ | \\ H_0 \\mbox{ is true} )}}}.$$\n",
        "\n",
        "-   The **smaller the $p$-value**, the **less likely the sample** is   assuming $H_0$ is true.\n",
        "-   There is evidence that **contradicts $H_0$ and supports $H_a$**.\n",
        "-   The **smaller the $p$-value**, the **more statistically   significant** the result.\n",
        "\n",
        "A $p$-value is a probability, so we have $0 < p\\mbox{-value} < 1$. The\n",
        "closer the $p$-value is to $0$, the more significant the result.\n",
        "\n",
        "$p$-values measure the probability of our observed sample (assuming\n",
        "$H_0$ is true). $p$-values do not measure the probability that either\n",
        "$H_0$ or $H_a$ is correct or not."
      ],
      "id": "7b11aecc-56d0-4718-9fab-7218f05e649c"
    },
    {
      "cell_type": "markdown",
      "metadata": {
        "id": "ec77aff7-cc9f-4d59-b419-4158950fd38d"
      },
      "source": [
        "## <a name=\"21q6\">Question 6</a>\n",
        "\n",
        "---\n",
        "\n",
        "Recall the telepathy example in [Questions 1](#21q1), [2](#21q2),\n",
        "and [3](#21q3). Let $T$ be the number of people (out of the possible\n",
        "15 people in the room) that said the correct the letter I was thinking.\n",
        "**Suppose we observed that 12 out of 15 people correctly said the letter\n",
        "I was thinking.**"
      ],
      "id": "ec77aff7-cc9f-4d59-b419-4158950fd38d"
    },
    {
      "cell_type": "markdown",
      "metadata": {
        "id": "32aacf71-11fb-4580-89e9-1e3cf4c73773"
      },
      "source": [
        "### <a name=\"21q6a\">Question 6a</a>\n",
        "\n",
        "---\n",
        "\n",
        "Calculate the $p$-value of the observed test statistic. Use the R code\n",
        "cell below to help with the calculation.\n",
        "\n",
        "In 15 identical and independent trials under the assumption $H_0$ is\n",
        "true, what is $P(T \\geq 12)$.\n",
        "\n",
        "#### <a name=\"21sol6a\">Solution to Question 6a</a>\n",
        "\n",
        "---"
      ],
      "id": "32aacf71-11fb-4580-89e9-1e3cf4c73773"
    },
    {
      "cell_type": "code",
      "execution_count": null,
      "metadata": {
        "id": "65b27626-7237-4ddb-b6b5-f302dddbccd9"
      },
      "outputs": [],
      "source": [
        "# p-value of the observed 12 out 15 successes\n"
      ],
      "id": "65b27626-7237-4ddb-b6b5-f302dddbccd9"
    },
    {
      "cell_type": "markdown",
      "metadata": {
        "id": "1bf19c21-2dc3-486b-9c81-37cd6c56771d"
      },
      "source": [
        "<br>  \n",
        "<br>"
      ],
      "id": "1bf19c21-2dc3-486b-9c81-37cd6c56771d"
    },
    {
      "cell_type": "markdown",
      "metadata": {
        "id": "30ef1927-7fdd-4088-89e0-5dbec53f88a5"
      },
      "source": [
        "### <a name=\"21q6b\">Question 6b</a>\n",
        "\n",
        "---\n",
        "\n",
        "Based on the value of the $p$-value, what can we conclude about my\n",
        "telepathy ability?\n",
        "\n",
        "#### <a name=\"21sol6b\">Solution to Question 6b</a>\n",
        "\n",
        "---\n",
        "\n",
        "<br>  \n",
        "<br>  \n",
        "<br>"
      ],
      "id": "30ef1927-7fdd-4088-89e0-5dbec53f88a5"
    },
    {
      "cell_type": "markdown",
      "metadata": {
        "id": "c5e5649d-f1fc-4617-b2d2-1f7f05837e9f"
      },
      "source": [
        "# <a name=\"21null-dist\">The Null Distribution</a>\n",
        "\n",
        "---\n",
        "\n",
        "The <font color=\"dodgerblue\">**null distribution**</font> is the\n",
        "distribution of the test statistic **if the null hypothesis is true**."
      ],
      "id": "c5e5649d-f1fc-4617-b2d2-1f7f05837e9f"
    },
    {
      "cell_type": "markdown",
      "metadata": {
        "id": "63ddd843-1aa1-4a4d-806b-b2f833bd84b7"
      },
      "source": [
        "## <a name=\"21q7\">Question 7</a>\n",
        "\n",
        "---\n",
        "\n",
        "What is the null distribution for the previous telepathy example?\n",
        "\n",
        "### <a name=\"21sol7\">Solution to Question 7</a>\n",
        "\n",
        "---\n",
        "\n",
        "<br>  \n",
        "<br>  \n",
        "<br>"
      ],
      "id": "63ddd843-1aa1-4a4d-806b-b2f833bd84b7"
    },
    {
      "cell_type": "markdown",
      "source": [
        "# <a name=\"21CC License\">Creative Commons License Information</a>\n",
        "---\n",
        "\n",
        "![Creative Commons\n",
        "License](https://i.creativecommons.org/l/by-nc-sa/4.0/88x31.png)\n",
        "\n",
        "*Statistical Methods: Exploring the Uncertain* by [Adam\n",
        "Spiegler (University of Colorado Denver)](https://github.com/CU-Denver-MathStats-OER/Statistical-Theory)\n",
        "is licensed under a [Creative Commons\n",
        "Attribution-NonCommercial-ShareAlike 4.0 International\n",
        "License](http://creativecommons.org/licenses/by-nc-sa/4.0/). This work is funded by an [Institutional OER Grant from the Colorado Department of Higher Education (CDHE)](https://cdhe.colorado.gov/educators/administration/institutional-groups/open-educational-resources-in-colorado).\n",
        "\n",
        "For similar interactive OER materials in other courses funded by this project in the Department of Mathematical and Statistical Sciences at the University of Colorado Denver, visit <https://github.com/CU-Denver-MathStats-OER>."
      ],
      "metadata": {
        "id": "o4bR8timX770"
      },
      "id": "o4bR8timX770"
    },
    {
      "cell_type": "code",
      "source": [],
      "metadata": {
        "id": "jmvIgSSLl4hs"
      },
      "id": "jmvIgSSLl4hs",
      "execution_count": null,
      "outputs": []
    }
  ],
  "nbformat": 4,
  "nbformat_minor": 5,
  "metadata": {
    "kernelspec": {
      "name": "ir",
      "display_name": "R",
      "language": "R"
    },
    "colab": {
      "provenance": []
    }
  }
}