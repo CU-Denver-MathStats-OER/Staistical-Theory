{
  "cells": [
    {
      "cell_type": "markdown",
      "metadata": {
        "id": "baa225cc-22c2-4fba-8dca-4acb9f872aff"
      },
      "source": [
        "[![Open In\n",
        "Colab](https://colab.research.google.com/assets/colab-badge.svg)](https://githubtocolab.com/CU-Denver-MathStats-OER/Statistical-Theory/blob/main/Chap6/22-Permutation-Tests.ipynb)\n",
        "\n"
      ],
      "id": "baa225cc-22c2-4fba-8dca-4acb9f872aff"
    },
    {
      "cell_type": "markdown",
      "metadata": {
        "id": "92d6ce13-7c92-4000-afcb-8cfbfe003f13"
      },
      "source": [
        "# <a name=\"22intro\">6.2 Permutation Tests</a>\n",
        "\n",
        "---\n",
        "\n",
        "\n",
        "\n",
        "<figure>\n",
        "<img\n",
        "src=\"https://upload.wikimedia.org/wikipedia/commons/b/b3/Permutation_generation_algorithms.svg\"\n",
        "alt=\"Permutation Illustration\" width = \"55%\"/>\n",
        "<figcaption aria-hidden=\"true\">\n",
        "Credit: Torsten Mütze, <a\n",
        "href=\"https://creativecommons.org/licenses/by-sa/4.0\">CC BY-SA 4.0</a>,\n",
        "via Wikimedia Commons\n",
        "</figcaption>\n",
        "</figure>\n",
        "\n",
        "\n",
        "# <a name=\"22summ\">A Summary of Hypothesis Testing</a>\n",
        "\n",
        "---\n",
        "\n",
        "In the section [Introduction to Hypothesis\n",
        "Tests](21-Intro-Hypothesis-Tests.ipynb), we walked through the process of\n",
        "performing a statistical hypothesis test:\n",
        "\n",
        "1.  State the <font color=\"dodgerblue\">**null and alternative   hypotheses**</font> in terms of population parameter(s).\n",
        "2.  Compute <font color=\"dodgerblue\">**test statistic(s)**</font>   from random sample(s).\n",
        "3.  Calculate the <font color=\"dodgerblue\">**p-value**</font> to   help assess which claim is more likely to be true.\n",
        "4.  What <font color=\"dodgerblue\">**conclusions**</font> (if any)   can we make about the two competing claims?\n",
        "\n",
        "See [Introduction to Hypothesis Tests](https://githubtocolab.com/CU-Denver-MathStats-OER/Statistical-Theory/blob/main/Chap6/21-Intro-Hypothesis-Tests.ipynb)\n",
        "for a refresher on Steps 1 and 2. We also informally explored the\n",
        "concept of [statistical significance](https://githubtocolab.com/CU-Denver-MathStats-OER/Statistical-Theory/blob/main/Chap6/21-Intro-Hypothesis-Tests.ipynb#21informal-p). Today, we\n",
        "will mainly focus on Step 3 and discuss a resampling method, called a\n",
        "<font color=\"dodgerblue\">**permutation test**</font>, that we can\n",
        "use to calculate p-value to assess significance."
      ],
      "id": "92d6ce13-7c92-4000-afcb-8cfbfe003f13"
    },
    {
      "cell_type": "markdown",
      "metadata": {
        "id": "dcfcbe3f-7345-4009-a164-63f92dffc7bd"
      },
      "source": [
        "## <a name=\"22null-dist\">The Null Distribution and p-values</a>\n",
        "\n",
        "---\n",
        "\n",
        "Recall the logic of hypothesis test. We want to assess which of two\n",
        "competing claims, the null hypothesis $H_0$ and the alternative\n",
        "hypothesis $H_a$, are more likely to be true. We assume $H_0$ is true\n",
        "and consider whether the sample data supports or refutes the null claim.\n",
        "\n",
        "-   The <font color=\"dodgerblue\">**null distribution**</font> is   the distribution of the test statistic **if the null hypothesis is   true**. We use the null distribution to calculate the p-value.\n",
        "-   The <font color=\"dodgerblue\">**p-value**</font> is the   **probability that we would get a random sample** with a test   statistic as or more extreme as the observed test statistic **if the   null hypothesis were true**.\n",
        "\n",
        "$${\\large {\\color{dodgerblue}{p\\mbox{-value} = P( \\mbox{test statistic as or more extreme than observed} \\ | \\ H_0 \\mbox{ is true} )}}}.$$\n",
        "\n",
        "-   The **smaller the $p$-value**, the **less likely the sample** is   assuming $H_0$ is true.\n",
        "-   There is evidence that **contradicts $H_0$ and supports $H_a$**.\n",
        "-   The **smaller the $p$-value**, the **more statistically   significant** the result."
      ],
      "id": "dcfcbe3f-7345-4009-a164-63f92dffc7bd"
    },
    {
      "cell_type": "markdown",
      "metadata": {
        "id": "3f143282-0ea3-4c42-a6ef-e326acd06801"
      },
      "source": [
        "# <a name=\"22diner\">Case Study: The Unscrupulous Diner's Dilemma</a>\n",
        "\n",
        "---\n",
        "\n",
        "We previously considered the [unscrupulous diner's\n",
        "dilemma](https://githubtocolab.com/CU-Denver-MathStats-OER/Statistical-Theory/blob/main/Chap6/21-Intro-Hypothesis-Tests.ipynb#21q4)<sup>1</sup>.\n",
        "\n",
        "> The unscrupulous diner's dilemma is a problem faced frequently in social settings. When a group of diners jointly enjoys a meal at a restaurant, often an unspoken agreement exists to divide the check equally. A selfish diner could thereby enjoy exceptional dinners at bargain prices. This dilemma typifies a class of serious social problems<sup>2</sup> from environmental protection and resource conservation to eliciting charity donations and slowing arms races.\n",
        "\n",
        "Researchers wanted to test whether people order more food and beverages\n",
        "when they know the bill is going to be split evenly compared to when\n",
        "each person only pays for what they ordered.\n",
        "\n",
        "<br>\n",
        "\n",
        "<font size=2>1. Gneezy, U., E. Haruvy, and H. Yafe (2004), [“The Inefficiency of\n",
        "Splitting the Bill”](https://rady.ucsd.edu/_files/faculty-research/uri-gneezy/splitting-bill.pdf), *The Economic Journal* 114.</font>\n",
        "\n",
        "<font size=2>2. Glance, N., and B. Huberman, [“The Dynamics of Social\n",
        "Dilemmas”](http://www.uvm.edu/~pdodds/files/papers/others/1994/glance1994a.pdf), *Scientific American*.\n",
        "</font>"
      ],
      "id": "3f143282-0ea3-4c42-a6ef-e326acd06801"
    },
    {
      "cell_type": "markdown",
      "metadata": {
        "id": "93aa5458-5299-4f60-a9f9-b771807bc1fb"
      },
      "source": [
        "## <a name=\"22test-step1\">Step 1: State the Hypotheses</a>\n",
        "\n",
        "---\n",
        "\n",
        "-   $H_0$: There is no difference in how much people order regardless of how the bill is split. ${\\color{dodgerblue}{\\mu_{\\rm even} - \\mu_{\\rm control}=0}}.$\n",
        "-   $H_a$: People order more when the bill is split evenly as opposed to when each person pays for what they order. ${\\color{dodgerblue}{\\mu_{\\rm even} - \\mu_{\\rm control}>0}}.$\n"
      ],
      "id": "93aa5458-5299-4f60-a9f9-b771807bc1fb"
    },
    {
      "cell_type": "markdown",
      "metadata": {
        "id": "ca296e11-02c0-4cfa-82d3-bae562d52df4"
      },
      "source": [
        "## <a name=\"22test-step2\">Step 2: Collect Sample Data and Define a Test Statistic</a>\n",
        "\n",
        "---\n",
        "\n",
        "8 people volunteered to take part in the study.\n",
        "\n",
        "-   4 people were randomly assigned to sit at a table where they were   told the bill would be evenly split between the 4 people.\n",
        "-   4 people were randomly assigned to sit at a table where they were   told each person would pay only for what they order themselves.\n",
        "\n",
        "The results of the study are given in the tables below:\n",
        "\n",
        "| <font size=3>Even Split Group</font>  | <font size=3>Pay for what you order (control) Group </font>   |\n",
        "|-------------------------|------------------------------|\n",
        "| <font size=3>$\\$15.00$, $\\$8.00$, $\\$8.75$, $\\$13.17$</font> &nbsp; &nbsp; &nbsp; &nbsp; &nbsp; &nbsp; &nbsp; &nbsp; &nbsp; &nbsp; &nbsp; &nbsp; | <font size=3>$\\$8.50$ , $\\$7.90$ , $\\$10.85$, $\\$7.43$</font> |\n",
        "| <font size=3>$\\bar{x}_{\\rm even} = 11.23$</font> | <font size=3>$\\bar{x}_{\\rm control} = 8.67$</font>  |\n",
        "\n",
        "-   **We can use the difference in the two sample means as a test   statistic:**\n",
        "\n",
        "$${\\color{dodgerblue}{T= \\bar{x}_{\\rm even} - \\bar{x}_{\\rm control} = 2.56}}$$"
      ],
      "id": "ca296e11-02c0-4cfa-82d3-bae562d52df4"
    },
    {
      "cell_type": "markdown",
      "metadata": {
        "id": "f04cb259-1abc-4118-8385-c071def7015a"
      },
      "source": [
        "## <a name=\"22test-step3\">Step 3: How Extreme Is the Observed Difference?</a>\n",
        "\n",
        "---\n",
        "\n",
        "The p-value is the probability of getting a difference in sample means\n",
        "between the even-split and self-pay groups as or more extreme than the\n",
        "observed test statistic,\n",
        "$\\bar{x}_{\\rm even} - \\bar{x}_{\\rm control} = 2.56$. In this case\n",
        "(one-tailed test), more extreme implies a difference that is even bigger\n",
        "than $\\$2.56$.\n",
        "\n",
        "$${\\color{dodgerblue}{\\mbox{p-value} = P(\\bar{x}_{\\rm even} - \\bar{x}_{\\rm control} \\geq 2.56 \\ | \\ H_0 \\mbox{ is true} )}}$$\n",
        "\n",
        "If $H_0$ is true, then $\\mu_{\\rm even} - \\mu_{\\rm control} =0$. Under\n",
        "this assumption, the center of the sampling distribution for the\n",
        "difference in sample means would be $0$. However, we do not know how\n",
        "much variability there is due to the sampling. **Is a difference in\n",
        "sample means equal to $\\$2.56$ a “big” difference, or is the difference\n",
        "within the margins we would expect due to the uncertainty of sampling?**\n",
        "\n",
        "> How can we calculate the p-value if we do not know the underlying\n",
        "> probability distribution for the test statistic\n",
        "> $T = \\mu_{\\rm{even}} - \\mu_{\\rm{control}}$ if $H_0$ is true?"
      ],
      "id": "f04cb259-1abc-4118-8385-c071def7015a"
    },
    {
      "cell_type": "markdown",
      "metadata": {
        "id": "8f4f5097-93e1-444c-8ebc-f3a6267b672b"
      },
      "source": [
        "## <a name=\"22q1\">Question 1</a>\n",
        "\n",
        "---\n",
        "\n",
        "If people order the same amount of food no matter how the bill is split\n",
        "(assuming $H_0$ is true), we assume each person would have order the\n",
        "same amount of food regardless of the table they were seated at.\n",
        "**Splitting by groups based on how the bill is split is no different\n",
        "than if the eight values were just randomly split into two groups of\n",
        "four people.**\n",
        "\n",
        "If each person would have ordered the same regardless of which table\n",
        "they were seated at, then another possible sample could have been:\n",
        "\n",
        "| <font size=3>Even Split Group</font>  | <font size=3>Pay for what you order (control) Group</font>  |\n",
        "|----------------------------------|-----------------------------|\n",
        "| <font size=3>$\\mathbf{\\color{dodgerblue}{\\$7.43}}$ , $\\$8.00$, $\\$8.75$, $\\$13.17$</font> &nbsp; &nbsp; &nbsp; &nbsp; &nbsp; &nbsp; &nbsp; &nbsp; &nbsp; &nbsp; &nbsp; &nbsp; | <font size=3>$\\$8.50$ , $\\$7.90$ , $\\$10.85$, $\\mathbf{\\color{dodgerblue}{\\$15.00}}$</font> |"
      ],
      "id": "8f4f5097-93e1-444c-8ebc-f3a6267b672b"
    },
    {
      "cell_type": "markdown",
      "metadata": {
        "id": "01e2d19b-6b7c-4a9d-82d7-6b79c62c88ce"
      },
      "source": [
        "### <a name=\"22q1a\">Question 1a</a>\n",
        "\n",
        "---\n",
        "\n",
        "What would be the test statistic for the two samples above?\n",
        "\n",
        "#### <a name=\"22sol1a\">Solution to Question 1a</a>\n",
        "\n",
        "---"
      ],
      "id": "01e2d19b-6b7c-4a9d-82d7-6b79c62c88ce"
    },
    {
      "cell_type": "code",
      "execution_count": null,
      "metadata": {
        "id": "435a6ab7-08fa-4a7c-8d3d-d08b04f4a0a2"
      },
      "outputs": [],
      "source": [
        "# find the test statistic for another possible sample\n"
      ],
      "id": "435a6ab7-08fa-4a7c-8d3d-d08b04f4a0a2"
    },
    {
      "cell_type": "markdown",
      "metadata": {
        "id": "3c9c04c0-6cfd-480b-937c-0d01b8d76271"
      },
      "source": [
        "<br>  \n",
        "<br>"
      ],
      "id": "3c9c04c0-6cfd-480b-937c-0d01b8d76271"
    },
    {
      "cell_type": "markdown",
      "metadata": {
        "id": "9197f8e7-56b6-4e60-a294-6542cc36feef"
      },
      "source": [
        "### <a name=\"22q1b\">Question 1b</a>\n",
        "\n",
        "---\n",
        "\n",
        "How many different ways can we divide the eight participants into two\n",
        "groups of four?\n",
        "\n",
        "#### <a name=\"22sol1b\">Solution to Question 1b</a>\n",
        "\n",
        "---"
      ],
      "id": "9197f8e7-56b6-4e60-a294-6542cc36feef"
    },
    {
      "cell_type": "code",
      "execution_count": null,
      "metadata": {
        "id": "01fd71c2-80d8-4bf0-8938-a12b9d2e8707"
      },
      "outputs": [],
      "source": [
        "# how many possible ways can we create two groups of 4\n"
      ],
      "id": "01fd71c2-80d8-4bf0-8938-a12b9d2e8707"
    },
    {
      "cell_type": "markdown",
      "metadata": {
        "id": "4cccaef1-e472-42a6-91b8-99170c6fa3af"
      },
      "source": [
        "<br>  \n",
        "<br>"
      ],
      "id": "4cccaef1-e472-42a6-91b8-99170c6fa3af"
    },
    {
      "cell_type": "markdown",
      "metadata": {
        "id": "dc4de388-97aa-405a-9ca9-529e2e1d2369"
      },
      "source": [
        "# <a name=\"22two-samp-perm\">Two-Sample Permutation Tests</a>\n",
        "\n",
        "---\n",
        "\n",
        "To perform a <font color=\"dodgerblue\">**two-sample permutation\n",
        "test**</font> on data collected from two samples size $m$ and $n$:\n",
        "\n",
        "1.  Pool the $m+n$ values together.\n",
        "2.  Draw a <font color=\"dodgerblue\">**permutation   resample**</font> of size $m$ (size of first sample), **without   replacement**.\n",
        "3.  Use the remaining $n$ (size of second sample) observations for the   other sample.\n",
        "4.  Calculate the difference in means or another statistic to compares   samples.\n",
        "5.  Repeat the resampling process many times and construct the   distribution of test statistics.\n",
        "\n",
        "<font color=\"dodgerblue\">**The p-value is the proportion of times\n",
        "the randomized statistics are as or more extreme than the observed\n",
        "difference.**</font>\n",
        "\n",
        "\n",
        "<figure>\n",
        "<img\n",
        "src=\"https://raw.githubusercontent.com/CU-Denver-MathStats-OER/Statistical-Theory/main/Images/22fig-meal-perm.png\"\n",
        "alt=\"Permutation resamples of the Unscrupulous Diners Dilemma Data\" width = \"95%\"/>\n",
        "<figcaption aria-hidden=\"true\">\n",
        "Permutation resamples of the Unscrupulous\n",
        "Diners Dilemma Data\n",
        "</figcaption>\n",
        "</figure>\n"
      ],
      "id": "dc4de388-97aa-405a-9ca9-529e2e1d2369"
    },
    {
      "cell_type": "markdown",
      "metadata": {
        "id": "c944aad7-1f91-4726-84b4-4a96abb73d4a"
      },
      "source": [
        "# <a name=\"22melanoma\">Case Study: Melanoma Lesion Thickness</a>\n",
        "\n",
        "---\n",
        "\n",
        "<figure>\n",
        "<img\n",
        "src=\"https://upload.wikimedia.org/wikipedia/commons/d/d0/Superficial_spreading_melanoma_in_situ_on_dermoscopy%2C_reflectance_confocal_microscopy_and_histopathology_2.jpg\"\n",
        "alt=\"Superficial spreading melanoma\" width = \"55%\"/>\n",
        "<figcaption aria-hidden=\"true\">Credit: Braga, Macedo, Pinto, et. al., <a\n",
        "href=\"https://creativecommons.org/licenses/by/4.0\">CC BY 4.0</a>, via\n",
        "Wikimedia Commons\n",
        "</figcaption>\n",
        "</figure>\n",
        "\n",
        "\n",
        "Skin is the largest organ in the human body. In the United States, skin\n",
        "cancer is the most common cancer. Current estimates are that one in five\n",
        "Americans will develop skin cancer in their lifetime<sup>3</sup>. There are\n",
        "different types of skin cancers, and melanoma is one form of skin cancer\n",
        "that is particularly dangerous if not detected early. However, if a skin\n",
        "lesion is detected early, it can be surgically removed before it\n",
        "spreads, and a patient generally has good long-term outcomes.\n",
        "\n",
        "The data set `melanoma` in the `boot` package contains measurements from\n",
        "a random sample of $205$ patients with malignant melanoma at the\n",
        "University Hospital of Odense in Denmark. Each patient had a skin lesion\n",
        "(or tumor) surgically removed and various attributes of the patient and\n",
        "tumors are recorded. Run the code cell below to load the `boot` package\n",
        "and summarize the variables in the `melanoma` data set.\n",
        "\n",
        "<br>\n",
        "\n",
        "<font size=2>3. American Academy of Dermatology, <https://www.aad.org/media/stats-skin-cancer>.</font>"
      ],
      "id": "c944aad7-1f91-4726-84b4-4a96abb73d4a"
    },
    {
      "cell_type": "code",
      "execution_count": null,
      "metadata": {
        "id": "ad26d370-2ed7-4bee-b5eb-e98424c8a519"
      },
      "outputs": [],
      "source": [
        "library(boot)\n",
        "summary(melanoma)"
      ],
      "id": "ad26d370-2ed7-4bee-b5eb-e98424c8a519"
    },
    {
      "cell_type": "markdown",
      "metadata": {
        "id": "f12f306b-416d-4e15-a194-1fc26fb25947"
      },
      "source": [
        "## <a name=\"22q2\">Question 2</a>\n",
        "\n",
        "---\n",
        "\n",
        "Based on the `summary(melanoma)` output, give a possible statistical\n",
        "question that could be analyzed using a hypothesis test. Which\n",
        "variable(s) in the `melanoma` data set would be involved in your\n",
        "analysis?\n",
        "\n",
        "Run `?melanoma` to access the help documentation and learn more about\n",
        "the data.\n",
        "\n",
        "### <a name=\"22sol2\">Solution to Question 2</a>\n",
        "\n",
        "---\n",
        "\n",
        "<br>  \n",
        "<br>  \n",
        "<br>"
      ],
      "id": "f12f306b-416d-4e15-a194-1fc26fb25947"
    },
    {
      "cell_type": "markdown",
      "metadata": {
        "id": "2be5a27a-1509-4f9f-9ef1-4eb9bf79f7ae"
      },
      "source": [
        "## <a name=\"22q3\">Question 3</a>\n",
        "\n",
        "---\n",
        "\n",
        "Which variables in `melanoma` are categorical? Are those variables being\n",
        "stored as categorical variables? If so, explain how you can tell. If\n",
        "not, in the code cell below, convert the categorical variables to a\n",
        "`factor`.\n",
        "\n",
        "### <a name=\"22sol3\">Solution to Question 3</a>\n",
        "\n",
        "---"
      ],
      "id": "2be5a27a-1509-4f9f-9ef1-4eb9bf79f7ae"
    },
    {
      "cell_type": "code",
      "execution_count": null,
      "metadata": {
        "id": "076de1e6-95c6-4ec0-a0de-17eb89c92023"
      },
      "outputs": [],
      "source": [
        "# if needed, convert each categorical variable to a factor\n"
      ],
      "id": "076de1e6-95c6-4ec0-a0de-17eb89c92023"
    },
    {
      "cell_type": "markdown",
      "metadata": {
        "id": "6da70306-efce-47c6-815f-9421db5ab10e"
      },
      "source": [
        "<br>  \n",
        "<br>"
      ],
      "id": "6da70306-efce-47c6-815f-9421db5ab10e"
    },
    {
      "cell_type": "markdown",
      "metadata": {
        "id": "00163e77-f68a-4305-8d40-d36125378de4"
      },
      "source": [
        "## <a name=\"22create-pool\">Creating a Pooled Sample</a>\n",
        "\n",
        "---\n",
        "\n",
        "One possible question we could ask: *“Is the mean tumor thickness\n",
        "greater for all people with fatal melanoma compared to the mean tumor\n",
        "thickness for all people that survive melanoma?”* The two variables of\n",
        "interest are `status` and `thickness`.\n",
        "\n",
        "-   `status`: The patients status at the end of the study. `1` indicates   that they had died from melanoma, `2` indicates that they were still   alive and `3` indicates that they had died from causes unrelated to   their melanoma.\n",
        "-   `thickness`: Tumor thickness in millimeters (mm).\n",
        "\n",
        "For our study, we are comparing two independent populations:\n",
        "\n",
        "-   People that have a melanoma tumor removed and survive. This is   `status` group `2`.\n",
        "-   People that have a melanoma tumor removed and died from melanoma.   This is `status` group `1`.\n",
        "-   The people in `status` group `3` we exclude from this analysis."
      ],
      "id": "00163e77-f68a-4305-8d40-d36125378de4"
    },
    {
      "cell_type": "markdown",
      "metadata": {
        "id": "f3c54ee7-bcc7-45bd-be1f-f7ba76e86185"
      },
      "source": [
        "## <a name=\"22q3\">Question 3</a>\n",
        "\n",
        "---\n",
        "\n",
        "Answer the questions below to state our hypotheses, organize our data,\n",
        "and calculate a test statistic to help determine whether the mean tumor\n",
        "thickness is greater for all people with fatal melanoma compared to the\n",
        "mean tumor thickness for all people that survive melanoma?"
      ],
      "id": "f3c54ee7-bcc7-45bd-be1f-f7ba76e86185"
    },
    {
      "cell_type": "markdown",
      "metadata": {
        "id": "10dc4c33-5211-42eb-a737-1e74e8f61adc"
      },
      "source": [
        "### <a name=\"22q3a\">Question 3a</a>\n",
        "\n",
        "---\n",
        "\n",
        "Create side-by-side box plots to display the distribution of tumor\n",
        "thickness for each of the three `status` groups `1` (died from\n",
        "melanoma), `2` (survived), and `3` (died from other causes).\n",
        "\n",
        "#### <a name=\"22sol3a\">Solution to Question 3a</a>\n",
        "\n",
        "---\n",
        "\n",
        "Fill in the `boxplot()` command to answer the question."
      ],
      "id": "10dc4c33-5211-42eb-a737-1e74e8f61adc"
    },
    {
      "cell_type": "code",
      "execution_count": null,
      "metadata": {
        "id": "22597eec-9855-4ed1-b43b-1e27552db1cf"
      },
      "outputs": [],
      "source": [
        "boxplot(??)"
      ],
      "id": "22597eec-9855-4ed1-b43b-1e27552db1cf"
    },
    {
      "cell_type": "markdown",
      "metadata": {
        "id": "d4dba684-ea6f-4390-8c5e-565f2a1f85d4"
      },
      "source": [
        "<br>  \n",
        "<br>"
      ],
      "id": "d4dba684-ea6f-4390-8c5e-565f2a1f85d4"
    },
    {
      "cell_type": "markdown",
      "metadata": {
        "id": "c72197e3-f839-4dcf-acff-8d0e13ac5cd9"
      },
      "source": [
        "### <a name=\"22q3b\">Question 3b</a>\n",
        "\n",
        "---\n",
        "\n",
        "The function `tapply(data, index, function)` has three inputs:\n",
        "\n",
        "-   The `data` is the data you want to summarize.\n",
        "-   The `index` is a categorical feature that will split the data into   two or more different classes or factors.\n",
        "-   The `function` is some function that you want to apply to the data.\n",
        "\n",
        "Interpret the output from the code cell below."
      ],
      "id": "c72197e3-f839-4dcf-acff-8d0e13ac5cd9"
    },
    {
      "cell_type": "code",
      "execution_count": null,
      "metadata": {
        "id": "0011b20b-0f22-4ec8-8a76-8804f3b46da0"
      },
      "outputs": [],
      "source": [
        "# run code and interpret output below\n",
        "tapply(melanoma$thickness, melanoma$status, length)  # nothing to edit"
      ],
      "id": "0011b20b-0f22-4ec8-8a76-8804f3b46da0"
    },
    {
      "cell_type": "markdown",
      "metadata": {
        "id": "e5b9d5ab-0d73-4cf0-a705-b229bafa074a"
      },
      "source": [
        "#### <a name=\"22sol3b\">Solution to Question 3b</a>\n",
        "\n",
        "---\n",
        "\n",
        "<br>  \n",
        "<br>  \n",
        "<br>"
      ],
      "id": "e5b9d5ab-0d73-4cf0-a705-b229bafa074a"
    },
    {
      "cell_type": "markdown",
      "metadata": {
        "id": "f3798ace-d903-4bbb-b349-eeb1a10087f7"
      },
      "source": [
        "### <a name=\"22q3c\">Question 3c</a>\n",
        "\n",
        "---\n",
        "\n",
        "We would like to use the data in `melanoma` to test the if the mean\n",
        "tumor thickness is greater for all people with fatal melanoma compared\n",
        "to the mean tumor thickness for all people that survive melanoma? State\n",
        "the corresponding null and alternative hypotheses for this test. Be sure\n",
        "to state each hypothesis both in words and using mathematical notation.\n",
        "\n",
        "#### <a name=\"22sol3c\">Solution to Question 3c</a>\n",
        "\n",
        "---\n",
        "\n",
        "-   $H_0$:\n",
        "\n",
        "-   $H_a$:\n",
        "\n",
        "<br>  \n",
        "<br>"
      ],
      "id": "f3798ace-d903-4bbb-b349-eeb1a10087f7"
    },
    {
      "cell_type": "markdown",
      "metadata": {
        "id": "c80b9c34-8f3c-466d-80f0-247edf7b39d7"
      },
      "source": [
        "### <a name=\"22q3d\">Question 3d</a>\n",
        "\n",
        "---\n",
        "\n",
        "Using the code cell below, subset the `melanoma` data to create three\n",
        "different vectors:\n",
        "\n",
        "1.  The vector `died` is the `thickness` values for `status` group 1.\n",
        "2.  The vector `survived` is the `thickness` values for `status` group   2.\n",
        "3.  The vector `pooled` is the `thickness` values for both `status`   groups 1 and 2 (excluding group 3).\n",
        "\n",
        "The logical operator `==` means “is equal to” while the logical operator\n",
        "`!=` means “is not equal to”.\n",
        "\n",
        "The option `drop = TRUE` means the output will be a vector of numerical\n",
        "values as opposed to a data frame that has a variable with the name\n",
        "`thickness`. For example, if we want to calculate the sample mean for\n",
        "the `pooled` data:\n",
        "\n",
        "-   Since the data is stored as a vector, we use `mean(pooled)`. There   are no headers in vectors.\n",
        "-   If the data is stored as a data frame, we do need to use headers and   have `mean(pooled$thickness)`.\n",
        "\n",
        "The output of the code cell below are vectors, so we do not use the\n",
        "`$var_name` convention when referring to the sample data which helps\n",
        "simplify the code a little.\n",
        "\n",
        "#### <a name=\"22sol3d\">Solution to Question 3d</a>\n",
        "\n",
        "---\n",
        "\n",
        "Replace each of the 9 `??` with an appropriate value or variable name."
      ],
      "id": "c80b9c34-8f3c-466d-80f0-247edf7b39d7"
    },
    {
      "cell_type": "code",
      "execution_count": null,
      "metadata": {
        "id": "ea187f21-ebf3-48d9-ac39-679bf7f268b3"
      },
      "outputs": [],
      "source": [
        "died <- subset(melanoma, select = ??, ?? == \"??\", drop = TRUE)\n",
        "survived <- subset(melanoma, select = ??, ?? == \"??\", drop = TRUE)\n",
        "pooled <- subset(melanoma, select = ??, ?? != \"??\", drop = TRUE)"
      ],
      "id": "ea187f21-ebf3-48d9-ac39-679bf7f268b3"
    },
    {
      "cell_type": "markdown",
      "metadata": {
        "id": "8b39f044-9339-450c-987b-de928100b257"
      },
      "source": [
        "<br>  \n",
        "<br>"
      ],
      "id": "8b39f044-9339-450c-987b-de928100b257"
    },
    {
      "cell_type": "markdown",
      "metadata": {
        "id": "78211100-0c75-40d5-bc82-aa97e92b7187"
      },
      "source": [
        "### <a name=\"22q3e\">Question 3e</a>\n",
        "\n",
        "---\n",
        "\n",
        "Using the vectors `died`, `survived`, and `pooled` from [Question 3d](#22q3d),\n",
        "calculate the sample size and the sample mean for each of the samples\n",
        "`died`, `survived`, and `pooled`.\n",
        "\n",
        "#### <a name=\"22sol3e\">Solution to Question 3e</a>\n",
        "\n",
        "---"
      ],
      "id": "78211100-0c75-40d5-bc82-aa97e92b7187"
    },
    {
      "cell_type": "code",
      "execution_count": null,
      "metadata": {
        "id": "d0aae4d0-5bf0-44e7-aaaa-cff74e2ae15c"
      },
      "outputs": [],
      "source": [
        "n.died <- ??  # size of sample of melanoma deaths\n",
        "n.survived <- ??  # size of sample of survivors\n",
        "n.pooled <- ??  # size of both samples pooled together\n",
        "xbar.died <- ??  # mean thickness of sample that died\n",
        "xbar.survived <- ??  # mean thickness of sample that survived\n",
        "xbar.pooled <- ??  # mean thickness of pooled sample\n",
        "\n",
        "# print each result to screen\n",
        "n.died\n",
        "n.survived\n",
        "n.pooled\n",
        "xbar.died\n",
        "xbar.survived\n",
        "xbar.pooled"
      ],
      "id": "d0aae4d0-5bf0-44e7-aaaa-cff74e2ae15c"
    },
    {
      "cell_type": "markdown",
      "metadata": {
        "id": "2e68a0e7-ea9b-4e33-b005-af891f6f8d32"
      },
      "source": [
        "<br>  \n",
        "<br>"
      ],
      "id": "2e68a0e7-ea9b-4e33-b005-af891f6f8d32"
    },
    {
      "cell_type": "markdown",
      "metadata": {
        "id": "8ab4c2f7-3cd3-4ae5-873b-cd732b2757bd"
      },
      "source": [
        "### <a name=\"22q3f\">Question 3f</a>\n",
        "\n",
        "---\n",
        "\n",
        "Based on the output in [Question 3e](#22q3e), calculate, store, and print the\n",
        "test statistic for this test to the screen.\n",
        "\n",
        "#### <a name=\"22sol3f\">Solution to Question 3f</a>\n",
        "\n",
        "---"
      ],
      "id": "8ab4c2f7-3cd3-4ae5-873b-cd732b2757bd"
    },
    {
      "cell_type": "code",
      "execution_count": null,
      "metadata": {
        "id": "6f55e788-630d-455b-9b57-63541fb2a525"
      },
      "outputs": [],
      "source": [
        "test.stat <- ??  # compute test statistic\n",
        "test.stat  # print test statistic to screen"
      ],
      "id": "6f55e788-630d-455b-9b57-63541fb2a525"
    },
    {
      "cell_type": "markdown",
      "metadata": {
        "id": "a355e4ad-1439-41c7-8076-f2d6d929d652"
      },
      "source": [
        "<br>  \n",
        "<br>"
      ],
      "id": "a355e4ad-1439-41c7-8076-f2d6d929d652"
    },
    {
      "cell_type": "markdown",
      "metadata": {
        "id": "bd5d1a2e-a723-4b69-bb90-2da55e094c40"
      },
      "source": [
        "# <a name=\"22perm-dist\">Constructing a Permutation Distribution</a>\n",
        "\n",
        "---"
      ],
      "id": "bd5d1a2e-a723-4b69-bb90-2da55e094c40"
    },
    {
      "cell_type": "markdown",
      "metadata": {
        "id": "1aa25758-6cc0-4e61-bad9-2f7651648600"
      },
      "source": [
        "## <a name=\"22perm-step1\">Step 1: Create a Vector of Pooled Data</a>\n",
        "\n",
        "---\n",
        "\n",
        "See the code used to create `pooled` in [Question 3d](#22q3d)."
      ],
      "id": "1aa25758-6cc0-4e61-bad9-2f7651648600"
    },
    {
      "cell_type": "markdown",
      "metadata": {
        "id": "d0991ef1-9e2a-4391-8d4e-76ebd5b13dac"
      },
      "source": [
        "## <a name=\"22perm-step2\">Step 2: Create Resamples for Each Treatment Group\n",
        "\n",
        "---\n",
        "\n",
        "For this step, it is important to note the size of each original sample.\n",
        "From [Question 3e](#22q3e) we know\n",
        "\n",
        "-   The sample `died` consists of 57 observations.\n",
        "-   The sample `survived` consists of 134 observations.\n",
        "-   The `pooled` sample consists of $57 + 134= 191$ observations."
      ],
      "id": "d0991ef1-9e2a-4391-8d4e-76ebd5b13dac"
    },
    {
      "cell_type": "markdown",
      "metadata": {
        "id": "e7b8545c-405a-4908-b2ae-5645c4580917"
      },
      "source": [
        "#### <a name=\"22step2-index\">Create an Index Vector</a>\n",
        "\n",
        "---\n",
        "\n",
        "We first create a vector called `index` that selects (without\n",
        "replacement) 57 random integers out of the integers\n",
        "$1, 2, \\ldots , 191$."
      ],
      "id": "e7b8545c-405a-4908-b2ae-5645c4580917"
    },
    {
      "cell_type": "code",
      "execution_count": null,
      "metadata": {
        "id": "06bc853d-8e4c-4158-a3f5-bc1c6332888d"
      },
      "outputs": [],
      "source": [
        "set.seed(3021)  # fix the randomization seeding\n",
        "index <- sample(191, size = 57, replace = FALSE)  # these are the 57 observations chosen for resample 1"
      ],
      "id": "06bc853d-8e4c-4158-a3f5-bc1c6332888d"
    },
    {
      "cell_type": "markdown",
      "metadata": {
        "id": "3dfc169a-fde5-4b6e-a510-e587373e7047"
      },
      "source": [
        "The command `head(index)` shows the first 6 values in the vector\n",
        "`index`."
      ],
      "id": "3dfc169a-fde5-4b6e-a510-e587373e7047"
    },
    {
      "cell_type": "code",
      "execution_count": null,
      "metadata": {
        "id": "d6cb0d24-e8cb-4562-98a1-aaef772e53db"
      },
      "outputs": [],
      "source": [
        "head(index)"
      ],
      "id": "d6cb0d24-e8cb-4562-98a1-aaef772e53db"
    },
    {
      "cell_type": "markdown",
      "metadata": {
        "id": "aa984f41-4b57-419d-990a-f359648cb275"
      },
      "source": [
        "The first `index` value 55 means observation 55 from the `pooled` vector\n",
        "is the first thickness value randomly assigned to the `died` sample.\n",
        "From the code cell below, we see the 55th observation in `pooled` is a\n",
        "thickness of $0.81$ mm."
      ],
      "id": "aa984f41-4b57-419d-990a-f359648cb275"
    },
    {
      "cell_type": "code",
      "execution_count": null,
      "metadata": {
        "id": "4b7c4248-11f1-4ccc-a5e5-d17adb2540dc"
      },
      "outputs": [],
      "source": [
        "pooled[55]"
      ],
      "id": "4b7c4248-11f1-4ccc-a5e5-d17adb2540dc"
    },
    {
      "cell_type": "markdown",
      "metadata": {
        "id": "02778b1e-d029-41f2-a53d-757f040b8323"
      },
      "source": [
        "The next `index` value 164 means observation 164 from the `pooled`\n",
        "vector is the second thickness value randomly assigned to the `died`\n",
        "sample. From the code cell below, we see the 164th observation in\n",
        "`pooled` is a thickness of $0.65$ mm."
      ],
      "id": "02778b1e-d029-41f2-a53d-757f040b8323"
    },
    {
      "cell_type": "code",
      "execution_count": null,
      "metadata": {
        "id": "7b27493c-9ada-43a1-8f77-10fe7f30240b"
      },
      "outputs": [],
      "source": [
        "pooled[164]"
      ],
      "id": "7b27493c-9ada-43a1-8f77-10fe7f30240b"
    },
    {
      "cell_type": "markdown",
      "metadata": {
        "id": "c40ea65d-628a-46bb-aef2-22743013034a"
      },
      "source": [
        "#### <a name=\"22step2-resample1\">Use `index` to Select Resample of Group 1</a>\n",
        "\n",
        "---\n",
        "\n",
        "The `index` vector is a vector of integers that tells us which values in\n",
        "`pooled` are randomly assigned to the `died` resample. However, `index`\n",
        "does not contain the corresponding thicknesses of the selected\n",
        "observations. The vector `pooled[index]` will contain the tumor\n",
        "thicknesses for all 57 randomly selected observations picked in `index`."
      ],
      "id": "c40ea65d-628a-46bb-aef2-22743013034a"
    },
    {
      "cell_type": "code",
      "execution_count": null,
      "metadata": {
        "id": "cae3dcfc-e94b-413f-affc-131fc6a5fda1"
      },
      "outputs": [],
      "source": [
        "died.resample <- pooled[index]"
      ],
      "id": "cae3dcfc-e94b-413f-affc-131fc6a5fda1"
    },
    {
      "cell_type": "markdown",
      "metadata": {
        "id": "ccd00c9e-a153-4d08-8d8e-3425ca97b392"
      },
      "source": [
        "#### <a name=\"22step2-resample2\">Use `-index` to Select the Remaining Values for Resample Group 2</a>\n",
        "\n",
        "---\n",
        "\n",
        "-   The vector `index` consists of 57 randomly selected integers out of   the integers $1, 2, \\ldots , 191$.\n",
        "-   The vector `-index` contains the remaining 134 integers that were   not selected for `index`.\n",
        "-   The vector `pooled[-index]` will contain thicknesses for the   remaining 134 observations in resample group 2."
      ],
      "id": "ccd00c9e-a153-4d08-8d8e-3425ca97b392"
    },
    {
      "cell_type": "code",
      "execution_count": null,
      "metadata": {
        "id": "8c9a5b82-d317-44bd-9ece-9869fa341256"
      },
      "outputs": [],
      "source": [
        "survived.resample <- pooled[-index]"
      ],
      "id": "8c9a5b82-d317-44bd-9ece-9869fa341256"
    },
    {
      "cell_type": "markdown",
      "metadata": {
        "id": "a042932e-8405-4482-98e1-292801b52481"
      },
      "source": [
        "## <a name=\"22perm-step3\">Step 3: Calculate the Test Statistic for the Resamples</a>\n",
        "\n",
        "---\n",
        "\n",
        "Calculate the difference in the sample means between the two resamples."
      ],
      "id": "a042932e-8405-4482-98e1-292801b52481"
    },
    {
      "cell_type": "code",
      "execution_count": null,
      "metadata": {
        "id": "23983dd4-e850-49c9-aed6-c9eea5dfa2e0"
      },
      "outputs": [],
      "source": [
        "perm.stat <- mean(died.resample) - mean(survived.resample)\n",
        "perm.stat"
      ],
      "id": "23983dd4-e850-49c9-aed6-c9eea5dfa2e0"
    },
    {
      "cell_type": "markdown",
      "metadata": {
        "id": "9a399675-714c-4493-b954-aca2e6a3fd47"
      },
      "source": [
        "## <a name=\"22perm-step4\">Step 4: Repeat this Many Times to Construct a Permutation Distribution</a>\n",
        "\n",
        "---\n",
        "\n",
        "-   In practice, it takes a lot of time and energy (and money) to   generate all possible resamples (without any duplicate resamples).\n",
        "    -   Instead we'll generate a lot of resamples rather than all       possible resamples.\n",
        "-   We'll use $N=10^5-1=99,\\!999$ as the default number of resamples.   <font color=\"tomato\">**Why use 99,999 resamples?**</font>\n",
        "    -   We may not generate the original sample as one of the resamples.\n",
        "    -   We want to be sure that we do include the original sample when       we calculate the p-value.\n",
        "    -   We will add the original sample back in with the $99,\\!999$       resamples giving $100,\\!000$ samples.\n",
        "-   The resulting distribution of test statistics of the permutation   resamples is called a <font color=\"dodgerblue\">**permutation   distribution**</font>.\n",
        "-   We use the permutation distribution as an estimate for the null   distribution to compute the p-value.\n",
        "\n",
        "## <a name=\"22q4\">Question 4</a>\n",
        "\n",
        "---\n",
        "\n",
        "Complete the first code cell below to create a permutation distribution\n",
        "for the difference in sample mean tumor thickness. Be sure you have\n",
        "already created the vector `pooled` in [Question 3d](#22q3d) and stored\n",
        "`test.stat` in [Question 3f](#22q3f).\n",
        "\n",
        "After generating a permutation distribution, run the second code cell\n",
        "below to create a histogram to display the distribution of resample\n",
        "statistics along with a red vertical line through the observed test\n",
        "statistic. There is nothing to edit in the second code cell.\n",
        "\n",
        "### <a name=\"22sol4\">Solution to Question 4</a>\n",
        "\n",
        "---"
      ],
      "id": "9a399675-714c-4493-b954-aca2e6a3fd47"
    },
    {
      "cell_type": "code",
      "execution_count": null,
      "metadata": {
        "id": "4bac9a9d-3437-4186-b315-d8f56979bd5c"
      },
      "outputs": [],
      "source": [
        "##########################################\n",
        "# save all 99,999 permutation resample\n",
        "# statistics to the vector perm.stat\n",
        "##########################################\n",
        "N <- 10^5 - 1\n",
        "perm.stat <- numeric(N)\n",
        "\n",
        "for (i in 1:N)\n",
        "{\n",
        "  index <- sample(??, size = ??, replace = ??)  # create index vector\n",
        "  x.died <- ??  # use index to select died resample\n",
        "  x.survived <- ??  # the rest of the values go to survived resample\n",
        "  perm.stat[i] <- ??  # calc difference in sample means\n",
        "}"
      ],
      "id": "4bac9a9d-3437-4186-b315-d8f56979bd5c"
    },
    {
      "cell_type": "code",
      "execution_count": null,
      "metadata": {
        "id": "b34da2db-9a6c-41d0-9a52-b4ceabc5a840"
      },
      "outputs": [],
      "source": [
        "##################################################\n",
        "# plot permutation distribution as a histogram\n",
        "# mark observed test stat with red vertical line\n",
        "##################################################\n",
        "hist(perm.stat, xlab = \"xbar.died - xbar.survived\",\n",
        "     main = \"Permutation Distribution\",\n",
        "     cex.lab=1.5, cex.axis=1.5, cex.main=1.5)  # increase font size on labels\n",
        "abline(v = test.stat, col = \"red\")"
      ],
      "id": "b34da2db-9a6c-41d0-9a52-b4ceabc5a840"
    },
    {
      "cell_type": "markdown",
      "metadata": {
        "id": "bb618586-ed72-47cf-a9c1-e5620d342df9"
      },
      "source": [
        "# <a name=\"22p-value\">p-values with Permutation Distributions</a>\n",
        "\n",
        "---\n",
        "\n",
        "We use the permutation distribution as an estimate for the null\n",
        "distribution. The p-value is the proportion of resampled test statistics\n",
        "that are as or more extreme than the observed test statistic. We can use\n",
        "a logical test to help compute this proportion."
      ],
      "id": "bb618586-ed72-47cf-a9c1-e5620d342df9"
    },
    {
      "cell_type": "markdown",
      "metadata": {
        "id": "b829acb2-d203-4721-88f0-e8d4c7621191"
      },
      "source": [
        "## <a name=\"22q5\">Question 5</a>\n",
        "\n",
        "---\n",
        "\n",
        "How likely is it to get resamples with a difference in means as or more\n",
        "extreme than the observed test statistic? Explain what the code below is\n",
        "doing in practical terms."
      ],
      "id": "b829acb2-d203-4721-88f0-e8d4c7621191"
    },
    {
      "cell_type": "code",
      "execution_count": null,
      "metadata": {
        "id": "7feafc58-b77e-4435-9a9f-95217adc37b8"
      },
      "outputs": [],
      "source": [
        "p.value <- sum(perm.stat >= test.stat)/N\n",
        "p.value"
      ],
      "id": "7feafc58-b77e-4435-9a9f-95217adc37b8"
    },
    {
      "cell_type": "markdown",
      "metadata": {
        "id": "bf01adf1-eeea-4de5-80e6-a72cd22c6786"
      },
      "source": [
        "### <a name=\"22sol5\">Solution to Question 5</a>\n",
        "\n",
        "---\n",
        "\n",
        "Interpret the code cell above.\n",
        "\n",
        "<br>  \n",
        "<br>  \n",
        "<br>"
      ],
      "id": "bf01adf1-eeea-4de5-80e6-a72cd22c6786"
    },
    {
      "cell_type": "markdown",
      "metadata": {
        "id": "2d9b386a-bf66-44a7-a487-3b3bde347679"
      },
      "source": [
        "## <a name=\"22q6\">Question 6</a>\n",
        "\n",
        "---\n",
        "\n",
        "The calculation from [Question 5](#22q5) used the $N=10^5-1=99,\\!999$\n",
        "permutation resamples, but recall we want to be sure to include the\n",
        "original, observed sample when computing the p-value. Explain how the\n",
        "code cell below accomplishes this goal."
      ],
      "id": "2d9b386a-bf66-44a7-a487-3b3bde347679"
    },
    {
      "cell_type": "code",
      "execution_count": null,
      "metadata": {
        "id": "827a20a3-6e31-4000-a27e-386ea8001cd8"
      },
      "outputs": [],
      "source": [
        "p.value <- (sum(perm.stat >= test.stat) + 1) / (N + 1)\n",
        "p.value"
      ],
      "id": "827a20a3-6e31-4000-a27e-386ea8001cd8"
    },
    {
      "cell_type": "markdown",
      "metadata": {
        "id": "64aa57f3-7b55-492a-8355-42e9141b4b15"
      },
      "source": [
        "### <a name=\"22sol6\">Solution to Question 6</a>\n",
        "\n",
        "---\n",
        "\n",
        "<br>  \n",
        "<br>  \n",
        "<br>"
      ],
      "id": "64aa57f3-7b55-492a-8355-42e9141b4b15"
    },
    {
      "cell_type": "markdown",
      "metadata": {
        "id": "71a88918-ad08-4c78-8dd6-b4ad4cb6da45"
      },
      "source": [
        "## <a name=\"22q7\">Question 7</a>\n",
        "\n",
        "---\n",
        "\n",
        "Interpret the practical meaning of the p-value from [Question 6](#22q6) to a\n",
        "person who is not very familiar with statistics.\n",
        "\n",
        "### <a name=\"22sol7\">Solution to Question 7</a>\n",
        "\n",
        "---\n",
        "\n",
        "<br>  \n",
        "<br>  \n",
        "<br>"
      ],
      "id": "71a88918-ad08-4c78-8dd6-b4ad4cb6da45"
    },
    {
      "cell_type": "markdown",
      "metadata": {
        "id": "beddca97-be94-4b0c-9326-e93de5dfea6c"
      },
      "source": [
        "# <a name=\"22perm-var\">Permutation Test for a Difference in Variances</a>\n",
        "\n",
        "---"
      ],
      "id": "beddca97-be94-4b0c-9326-e93de5dfea6c"
    },
    {
      "cell_type": "markdown",
      "metadata": {
        "id": "9933d44f-b7bc-491e-b082-5df53ec116bc"
      },
      "source": [
        "## <a name=\"22q8\">Question 8</a>\n",
        "\n",
        "---\n",
        "\n",
        "Ulceration is a breakdown of the skin over the melanoma tumor. Using the\n",
        "data set `melanoma` from the `boot` package, perform a permutation test\n",
        "to see if the variance of the tumor thickness for ulcerated tumors is\n",
        "different from the variance of the tumor thickness for non-ulcerated\n",
        "tumors.\n",
        "\n",
        "The variable `ulcer` indicates whether the removed tumor was ulcerated\n",
        "(`ulcer` group `1`) or not ulcerated (`ulcer` group `0`)."
      ],
      "id": "9933d44f-b7bc-491e-b082-5df53ec116bc"
    },
    {
      "cell_type": "markdown",
      "metadata": {
        "id": "9bb081e9-0617-4f67-937f-12d9cd80f044"
      },
      "source": [
        "### <a name=\"22q8a\">Question 8a</a>\n",
        "\n",
        "---\n",
        "\n",
        "Write out the null and alternative hypotheses using appropriate\n",
        "notation.\n",
        "\n",
        "#### <a name=\"22sol8a\">Solution to Question 8a</a>\n",
        "\n",
        "---\n",
        "\n",
        "-   $H_0$:\n",
        "\n",
        "-   $H_a$:\n",
        "\n",
        "<br>  \n",
        "<br>  \n",
        "<br>"
      ],
      "id": "9bb081e9-0617-4f67-937f-12d9cd80f044"
    },
    {
      "cell_type": "markdown",
      "metadata": {
        "id": "74729350-f9bb-4df1-ba09-341ab2c72eb0"
      },
      "source": [
        "### <a name=\"22q8b\">Question 8b</a>\n",
        "\n",
        "---\n",
        "\n",
        "What can we use as the test statistic? What is the value of the observed\n",
        "test statistic?\n",
        "\n",
        "#### <a name=\"22sol8b\">Solution to Question 8b</a>\n",
        "\n",
        "---"
      ],
      "id": "74729350-f9bb-4df1-ba09-341ab2c72eb0"
    },
    {
      "cell_type": "code",
      "execution_count": null,
      "metadata": {
        "id": "2d912f59-7f0f-4df2-81ff-581695f24ef5"
      },
      "outputs": [],
      "source": [
        "test.stat2 <- ??  # compute observed test statistic\n",
        "test.stat2  # print output to screen"
      ],
      "id": "2d912f59-7f0f-4df2-81ff-581695f24ef5"
    },
    {
      "cell_type": "markdown",
      "metadata": {
        "id": "470f1001-834a-457d-b60d-07db30070918"
      },
      "source": [
        "<br>  \n",
        "<br>"
      ],
      "id": "470f1001-834a-457d-b60d-07db30070918"
    },
    {
      "cell_type": "markdown",
      "metadata": {
        "id": "705e0e47-e547-4874-8dd0-6fd8f1d34a0d"
      },
      "source": [
        "### <a name=\"22q8c\">Question 8c</a>\n",
        "\n",
        "---\n",
        "\n",
        "Create a permutation distribution for the difference in sample\n",
        "variances.\n",
        "\n",
        "#### <a name=\"22sol8c\">Solution to Question 8c</a>\n",
        "\n",
        "---"
      ],
      "id": "705e0e47-e547-4874-8dd0-6fd8f1d34a0d"
    },
    {
      "cell_type": "code",
      "execution_count": null,
      "metadata": {
        "id": "ad0209d2-6cd0-47fd-8afe-a47f3e07d70e"
      },
      "outputs": [],
      "source": [
        "# nothing to edit in this cell\n",
        "pooled2 <- melanoma$thickness  # create pooled vector of all tumor thicknesses"
      ],
      "id": "ad0209d2-6cd0-47fd-8afe-a47f3e07d70e"
    },
    {
      "cell_type": "code",
      "execution_count": null,
      "metadata": {
        "id": "d1df9c42-379f-4583-982b-e4fcd51b5aa0"
      },
      "outputs": [],
      "source": [
        "# Save resamples to vector called result\n",
        "N <- 10^5 - 1\n",
        "result <- numeric(N)\n",
        "\n",
        "# Create permutation distribution\n",
        "for (i in 1:N)\n",
        "{\n",
        "  index <- sample(??, size = ??, replace = ??)\n",
        "  result[i] <- ??\n",
        "}\n",
        "\n",
        "# Display permutation distribution and observed sample diff\n",
        "hist(result, xlab = \"diff in sample variances\",\n",
        "     main = \"Permutation Distribution\",\n",
        "     cex.lab=1.5, cex.axis=1.5, cex.main=1.5)  # increase font size on labels\n",
        "abline(v = c(-test.stat2, test.stat2), col = c(\"blue\", \"red\"))"
      ],
      "id": "d1df9c42-379f-4583-982b-e4fcd51b5aa0"
    },
    {
      "cell_type": "markdown",
      "metadata": {
        "id": "e0796d06-fa6b-4a12-bd48-d5a56d5c9bd4"
      },
      "source": [
        "<br>  \n",
        "<br>"
      ],
      "id": "e0796d06-fa6b-4a12-bd48-d5a56d5c9bd4"
    },
    {
      "cell_type": "markdown",
      "metadata": {
        "id": "85d226c1-b995-4a3e-adb8-634e79f4c0bf"
      },
      "source": [
        "### <a name=\"22q8d\">Question 8d</a>\n",
        "\n",
        "---\n",
        "\n",
        "Calculate the p-value of the observed test statistic and interpret its\n",
        "meaning in practical terms.\n",
        "\n",
        "#### <a name=\"22sol8d\">Solution to Question 8d</a>\n",
        "\n",
        "---"
      ],
      "id": "85d226c1-b995-4a3e-adb8-634e79f4c0bf"
    },
    {
      "cell_type": "code",
      "execution_count": null,
      "metadata": {
        "id": "cc82727c-6172-4dd5-a0e0-3f2ed102746f"
      },
      "outputs": [],
      "source": [
        "# compute the p-value\n"
      ],
      "id": "cc82727c-6172-4dd5-a0e0-3f2ed102746f"
    },
    {
      "cell_type": "markdown",
      "metadata": {
        "id": "295dfb2d-a24c-49f9-a08a-c7f09a51868e"
      },
      "source": [
        "<br>  \n",
        "<br>  \n",
        "<br>"
      ],
      "id": "295dfb2d-a24c-49f9-a08a-c7f09a51868e"
    },
    {
      "cell_type": "markdown",
      "metadata": {
        "id": "9e187553-3698-4015-a111-815bd4a5ad76"
      },
      "source": [
        "# <a name=\"22perm-prop\">Permutation Test for a Difference in Proportions</a>\n",
        "\n",
        "---"
      ],
      "id": "9e187553-3698-4015-a111-815bd4a5ad76"
    },
    {
      "cell_type": "markdown",
      "metadata": {
        "id": "ccd261cc-2d60-475f-850e-7bad3c618e19"
      },
      "source": [
        "## <a name=\"22q9\">Question 9</a>\n",
        "\n",
        "---\n",
        "\n",
        "Is the proportion of females with ulcerated tumors less than the\n",
        "proportion of males with ulcerated tumors?"
      ],
      "id": "ccd261cc-2d60-475f-850e-7bad3c618e19"
    },
    {
      "cell_type": "markdown",
      "metadata": {
        "id": "36cc3369-1e5b-4ec4-aced-6e1c17dbf231"
      },
      "source": [
        "### <a name=\"22q9a\">Question 9a</a>\n",
        "\n",
        "---\n",
        "\n",
        "Write out the null and alternative hypotheses using appropriate\n",
        "notation.\n",
        "\n",
        "#### <a name=\"22sol9a\">Solution to Question 9a</a>\n",
        "\n",
        "---\n",
        "\n",
        "-   $H_0$:\n",
        "\n",
        "-   $H_a$:\n",
        "\n",
        "<br>  \n",
        "<br>  \n",
        "<br>"
      ],
      "id": "36cc3369-1e5b-4ec4-aced-6e1c17dbf231"
    },
    {
      "cell_type": "markdown",
      "metadata": {
        "id": "b18cd58a-277d-4226-a500-988c27d8cc36"
      },
      "source": [
        "### <a name=\"22q9b\">Question 9b</a>\n",
        "\n",
        "---\n",
        "\n",
        "What can we use as the test statistic? What is the value of the observed\n",
        "test statistic?\n",
        "\n",
        "#### <a name=\"22sol9b\">Solution to Question 9b</a>\n",
        "\n",
        "---"
      ],
      "id": "b18cd58a-277d-4226-a500-988c27d8cc36"
    },
    {
      "cell_type": "code",
      "execution_count": null,
      "metadata": {
        "id": "e780078f-90bf-4b7c-b618-fd991d69aa81"
      },
      "outputs": [],
      "source": [
        "# original ulceration data for female sample\n",
        "female <- subset(melanoma, select = \"ulcer\", sex == \"0\", drop = TRUE)\n",
        "\n",
        "# original ulceration data for male sample\n",
        "male <- subset(melanoma, select = \"ulcer\", sex == \"1\", drop = TRUE)\n",
        "\n",
        "# original ulceration data for both samples pooled together\n",
        "pooled.sex <- melanoma$ulcer\n",
        "\n",
        "# enter a formula to compute the test statistic\n",
        "test.diff.prop <- ??"
      ],
      "id": "e780078f-90bf-4b7c-b618-fd991d69aa81"
    },
    {
      "cell_type": "markdown",
      "metadata": {
        "id": "04668cd5-cdd7-41d0-9412-c65251d9d81a"
      },
      "source": [
        "<br>  \n",
        "<br>"
      ],
      "id": "04668cd5-cdd7-41d0-9412-c65251d9d81a"
    },
    {
      "cell_type": "markdown",
      "metadata": {
        "id": "1f50fe98-64b0-45c4-bc43-e2089fddb02a"
      },
      "source": [
        "### <a name=\"22q9c\">Question 9c</a>\n",
        "\n",
        "---\n",
        "\n",
        "Create a permutation distribution for the difference in sample\n",
        "proportions.\n",
        "\n",
        "#### <a name=\"22sol9c\">Solution to Question 9c</a>\n",
        "\n",
        "---\n",
        "\n",
        "Complete the code cell below."
      ],
      "id": "1f50fe98-64b0-45c4-bc43-e2089fddb02a"
    },
    {
      "cell_type": "code",
      "execution_count": null,
      "metadata": {
        "id": "58ebcf03-a3f7-4ca9-942e-ecc7344a729b"
      },
      "outputs": [],
      "source": [
        "N <- 10^5 - 1\n",
        "result.prop <- numeric(N)\n",
        "\n",
        "for (i in 1:N)\n",
        "{\n",
        "  index <- sample(??, size = ??, replace = ??)\n",
        "  result.prop[i] <- ??\n",
        "}\n",
        "\n",
        "hist(result.prop, xlab = \"phat1-phat2\",\n",
        "     main = \"Permutation Distribution\",\n",
        "     cex.lab=1.5, cex.axis=1.5, cex.main=1.5)  # increase font size on labels\n",
        "abline(v = test.diff.prop, col = \"red\")"
      ],
      "id": "58ebcf03-a3f7-4ca9-942e-ecc7344a729b"
    },
    {
      "cell_type": "markdown",
      "metadata": {
        "id": "0d352c84-57e4-4ee2-b868-82970145e035"
      },
      "source": [
        "<br>  \n",
        "<br>"
      ],
      "id": "0d352c84-57e4-4ee2-b868-82970145e035"
    },
    {
      "cell_type": "markdown",
      "metadata": {
        "id": "32cb21ec-9d97-4632-ad72-b8801255a103"
      },
      "source": [
        "### <a name=\"22q9d\">Question 9d</a>\n",
        "\n",
        "---\n",
        "\n",
        "Calculate the p-value of the observed test statistic and interpret its\n",
        "meaning in practical terms.\n",
        "\n",
        "#### <a name=\"22sol9d\">Solution to Question 9d</a>\n",
        "\n",
        "---"
      ],
      "id": "32cb21ec-9d97-4632-ad72-b8801255a103"
    },
    {
      "cell_type": "code",
      "execution_count": null,
      "metadata": {
        "id": "70f36386-6cfb-40e1-a5c3-47162df59fdc"
      },
      "outputs": [],
      "source": [
        "# compute the p-value\n"
      ],
      "id": "70f36386-6cfb-40e1-a5c3-47162df59fdc"
    },
    {
      "cell_type": "markdown",
      "metadata": {
        "id": "49a08fb1-b03a-448a-9d36-0ea7506f6c8c"
      },
      "source": [
        "<br>  \n",
        "<br>  \n",
        "<br>"
      ],
      "id": "49a08fb1-b03a-448a-9d36-0ea7506f6c8c"
    },
    {
      "cell_type": "markdown",
      "metadata": {
        "id": "d9f2333b-dc69-4a75-90eb-87e2d847fc71"
      },
      "source": [
        "# <a name=\"22perm-match\">Permutation Test for Matched Pairs</a>\n",
        "\n",
        "---"
      ],
      "id": "d9f2333b-dc69-4a75-90eb-87e2d847fc71"
    },
    {
      "cell_type": "markdown",
      "metadata": {
        "id": "c2a56ba3-5e76-456b-b62d-9dd1daddcd6e"
      },
      "source": [
        "## <a name=\"22q10\">Question 10</a>\n",
        "\n",
        "---\n",
        "\n",
        "In this example, we use data collected from a matched pair designed\n",
        "study to determine whether smoking during pregnancy is associated with\n",
        "lower birth weight. In our study, we solicit volunteers that have\n",
        "already given birth to two babies. During one of the pregnancies, the\n",
        "parent smoked. During the other pregnancy, they did not smoke. Below is\n",
        "hypothetical data from such a study. A sample of $n=10$ people volunteer\n",
        "to share their data with the researchers from which we have 10 different\n",
        "pairs of birth weights (in grams) summarized in the table below.\n",
        "\n",
        "|            |  <font size=3>1</font>    | <font size=3>2</font>    | <font size=3>3</font>    | <font size=3>4</font>    | <font size=3>5</font>    | <font size=3>6</font>    | <font size=3>7</font>    | <font size=3>8</font>    | <font size=3>9</font>    | <font size=3>10</font>  |\n",
        "|------------|------|------|------|------|------|------|------|------|------|------|\n",
        "| <font size=3>No Smoking</font> | <font size=3>2750</font> | <font size=3>2920</font> | <font size=3>3860</font> | <font size=3>3402</font> | <font size=3>2282</font> | <font size=3>3790</font> | <font size=3>3586</font> | <font size=3>3487</font> | <font size=3>2920</font> | <font size=3>2835</font> |\n",
        "| <font size=3>Smoked</font>    | <font size=3>1790</font> | <font size=3>2381</font> | <font size=3>3940</font> | <font size=3>3317</font> | <font size=3>2125</font> | <font size=3>2665</font> | <font size=3>3572</font> | <font size=3>3156</font> | <font size=3>2721</font> | <font size=3>2225</font> |"
      ],
      "id": "c2a56ba3-5e76-456b-b62d-9dd1daddcd6e"
    },
    {
      "cell_type": "markdown",
      "metadata": {
        "id": "c87014fe-245b-4590-8bac-0446d3dbb067"
      },
      "source": [
        "### <a name=\"22q10a\">Question 10a</a>\n",
        "\n",
        "---\n",
        "\n",
        "If researchers are testing to see whether a baby born to a parent that\n",
        "smokes while pregnant is less, on average, at birth compared to a baby\n",
        "born by the same parent when they do not smoke while pregnant. Write out\n",
        "the null and alternative hypotheses using appropriate notation.\n",
        "\n",
        "#### <a name=\"22sol10a\">Solution to Question 10a</a>\n",
        "\n",
        "---\n",
        "\n",
        "-   $H_0$:\n",
        "\n",
        "-   $H_a$:\n",
        "\n",
        "<br>  \n",
        "<br>  \n",
        "<br>"
      ],
      "id": "c87014fe-245b-4590-8bac-0446d3dbb067"
    },
    {
      "cell_type": "markdown",
      "metadata": {
        "id": "73edba18-2619-4006-b981-6d5941f628a8"
      },
      "source": [
        "### <a name=\"22q10b\">Question 10b</a>\n",
        "\n",
        "---\n",
        "\n",
        "What can we use as the test statistic? What is the value of the observed\n",
        "test statistic?\n",
        "\n",
        "#### <a name=\"22sol10b\">Solution to Question 10b</a>\n",
        "\n",
        "---"
      ],
      "id": "73edba18-2619-4006-b981-6d5941f628a8"
    },
    {
      "cell_type": "code",
      "execution_count": null,
      "metadata": {
        "id": "0c657c25-4533-4820-a7b1-f371b6fcff58"
      },
      "outputs": [],
      "source": [
        "# data from study\n",
        "no <- c(2750, 2920, 3860, 3402, 2282,\n",
        "        3790, 3586, 3487, 2920, 2835)  # non-smoking births weights\n",
        "\n",
        "smoker <- c(1790, 2381, 3940, 3317, 2125,\n",
        "            2665, 3572, 3156, 2721, 2225)  # matching smoking birth weight\n",
        "\n",
        "diff <- no - smoker  # differences between matched pairs\n",
        "\n",
        "# Calculate the observed test statistic\n"
      ],
      "id": "0c657c25-4533-4820-a7b1-f371b6fcff58"
    },
    {
      "cell_type": "markdown",
      "metadata": {
        "id": "1e3a64b5-c97c-4f35-8e72-c5934fdb5348"
      },
      "source": [
        "<br>  \n",
        "<br>"
      ],
      "id": "1e3a64b5-c97c-4f35-8e72-c5934fdb5348"
    },
    {
      "cell_type": "markdown",
      "metadata": {
        "id": "093161a1-0f30-4b8c-b257-ac60062e0b7e"
      },
      "source": [
        "### <a name=\"22q10c\">Question 10c</a>\n",
        "\n",
        "---\n",
        "\n",
        "When we construct a permutation distribution for the sample mean\n",
        "difference between matched pairs, we want to be sure the resampling we\n",
        "use **preserves each pairing**.\n",
        "\n",
        "-   We do not randomize how the pairs are formed.\n",
        "-   Each pair of values should remain paired after resampling.\n",
        "-   Instead, we randomly assign values in each pair to the smoker and   non-smoker positions.\n",
        "\n",
        "For example, our original sample of matched pair differences is\n",
        "\n",
        "|            |  <font size=3>1</font>    | <font size=3>2</font>    | <font size=3>3</font>    | <font size=3>4</font>    | <font size=3>5</font>    | <font size=3>6</font>    | <font size=3>7</font>    | <font size=3>8</font>    | <font size=3>9</font>    | <font size=3>10</font>  |\n",
        "|------------|------|------|------|------|------|------|------|------|------|------|\n",
        "| <font size=3>No Smoking</font> | <font size=3>2750</font> | <font size=3>2920</font> | <font size=3>3860</font> | <font size=3>3402</font> | <font size=3>2282</font> | <font size=3>3790</font> | <font size=3>3586</font> | <font size=3>3487</font> | <font size=3>2920</font> | <font size=3>2835</font> |\n",
        "| <font size=3>Smoked</font>    | <font size=3>1790</font> | <font size=3>2381</font> | <font size=3>3940</font> | <font size=3>3317</font> | <font size=3>2125</font> | <font size=3>2665</font> | <font size=3>3572</font> | <font size=3>3156</font> | <font size=3>2721</font> | <font size=3>2225</font> |\n",
        "| <font size=3>Difference</font> | <font size=3>960</font>  | <font size=3>539</font> | <font size=3>-80</font>  | <font size=3>85</font>   | <font size=3>157</font>  | <font size=3>1125</font> | <font size=3>14</font>   | <font size=3>331</font>  | <font size=3>199</font>  | <font size=3>610</font>  |\n",
        "\n",
        "One possible resample is given below.\n",
        "\n",
        "|            |  <font size=3>1</font>    | <font size=3>2</font>    | <font size=3>3</font>    | <font size=3>4</font>    | <font size=3>5</font>    | <font size=3>6</font>    | <font size=3>7</font>    | <font size=3>8</font>    | <font size=3>9</font>    | <font size=3>10</font>  |\n",
        "|------------|------|------|------|------|------|------|------|------|------|------|\n",
        "| <font size=3>No Smoking <br> Resample</font> | <font color=\"tomato\" size=3>1790</font> | <font size=3>2920</font> | <font size=3>3860</font> | <font color=\"tomato\" size=3>3317</font> | <font size=3>2282</font> | <font color=\"tomato\" size=3>2665</font> | <font size=3>3586</font> | <font size=3>3487</font> | <font size=3>2920</font> | <font size=3>2835</font> |\n",
        "| <font size=3>Smoked <br> Resample</font>    | <font color=\"tomato\" size=3>2750</font> | <font size=3>2381</font> | <font size=3>3940</font> | <font color=\"tomato\" size=3>3402</font> | <font size=3>2125</font> | <font color=\"tomato\" size=3>3790</font> | <font size=3>3572</font> | <font size=3>3156</font> | <font size=3>2721</font> | <font size=3>2225</font> |\n",
        "| <font size=3>Difference <br> Resample</font> | <font color=\"tomato\" size=3>-960</font>  | <font size=3>539</font> | <font size=3>-80</font>  | <font color=\"tomato\" size=3>-85</font>   | <font size=3>157</font>  | <font color=\"tomato\" size=3>-1125</font> | <font size=3>14</font>   | <font size=3>331</font>  | <font size=3>199</font>  | <font size=3>610</font>  |\n",
        "\n",
        "\n",
        "To create a permutation distribution for the sample mean difference\n",
        "between matched pairs, <font color=\"dodgerblue\">**we randomly\n",
        "choose a sign (positive or negative) for each observed matched-pair\n",
        "difference.**</font> Complete the code cell below to generate a\n",
        "permutation distribution for the sample mean difference between matched\n",
        "pairs.\n",
        "\n",
        "#### <a name=\"22sol10c\">Solution to Question 10c</a>\n",
        "\n",
        "---\n",
        "\n",
        "Complete and run the code cell below to create a permutation\n",
        "distribution."
      ],
      "id": "093161a1-0f30-4b8c-b257-ac60062e0b7e"
    },
    {
      "cell_type": "code",
      "execution_count": null,
      "metadata": {
        "id": "d9ab12ef-2c1a-4cee-bed4-e3c86e665f81"
      },
      "outputs": [],
      "source": [
        "N <- 10^5-1\n",
        "perm.match <-numeric(N)\n",
        "\n",
        "# for each pair, randomly assign the difference to be positive or negative.\n",
        "# then calculate the new mean of the paired differences\n",
        "for (i in 1:N)\n",
        "{\n",
        "  sign <-sample(c(-1,1), size = ??, replace = ??) # random choose a sign -1 or 1\n",
        "  diff.resample <- sign * diff\n",
        "  perm.match[i] <- ??\n",
        "}"
      ],
      "id": "d9ab12ef-2c1a-4cee-bed4-e3c86e665f81"
    },
    {
      "cell_type": "markdown",
      "metadata": {
        "id": "9b7876f5-b334-4b1a-b255-75ad6ff7962f"
      },
      "source": [
        "There is nothing to edit in the code cell below. Run the code cell below\n",
        "to plot the permutation distribution and test statistic."
      ],
      "id": "9b7876f5-b334-4b1a-b255-75ad6ff7962f"
    },
    {
      "cell_type": "code",
      "execution_count": null,
      "metadata": {
        "id": "ad61d683-afde-4c4f-90af-e2fd16127f53"
      },
      "outputs": [],
      "source": [
        "# create a histogram of the permutation distribution\n",
        "# and add a vertical line at the observed test statistic\n",
        "hist(perm.match,  xlab = \"xbar-diff\",\n",
        "     main = \"Permutation Distribution\",\n",
        "     cex.lab=1.5, cex.axis=1.5, cex.main=1.5)  # increase font size on labels\n",
        "abline(v = test.match, col =\"red\")"
      ],
      "id": "ad61d683-afde-4c4f-90af-e2fd16127f53"
    },
    {
      "cell_type": "markdown",
      "metadata": {
        "id": "48b30d57-00f7-429b-9e92-a94ef6b11ebc"
      },
      "source": [
        "<br>  \n",
        "<br>"
      ],
      "id": "48b30d57-00f7-429b-9e92-a94ef6b11ebc"
    },
    {
      "cell_type": "markdown",
      "metadata": {
        "id": "a09b6b91-4dee-44b0-b3b2-31609f2f101e"
      },
      "source": [
        "### <a name=\"22q10d\">Question 10d</a>\n",
        "\n",
        "---\n",
        "\n",
        "Calculate the p-value of the observed test statistic and interpret its\n",
        "meaning in practical terms.\n",
        "\n",
        "#### <a name=\"22sol10d\">Solution to Question 10d</a>\n",
        "\n",
        "---"
      ],
      "id": "a09b6b91-4dee-44b0-b3b2-31609f2f101e"
    },
    {
      "cell_type": "code",
      "execution_count": null,
      "metadata": {
        "id": "71c1009b-ef21-4ef8-8e35-01e27429f66d"
      },
      "outputs": [],
      "source": [
        "# compute the p-value\n"
      ],
      "id": "71c1009b-ef21-4ef8-8e35-01e27429f66d"
    },
    {
      "cell_type": "markdown",
      "metadata": {
        "id": "cda919d1-2950-40b6-89ad-7597a71ce70f"
      },
      "source": [
        "<br>  \n",
        "<br>"
      ],
      "id": "cda919d1-2950-40b6-89ad-7597a71ce70f"
    },
    {
      "cell_type": "markdown",
      "metadata": {
        "id": "78ad9e1f-b28d-4760-96d4-360fefcd8af6"
      },
      "source": [
        "## <a name=\"22q11\">Question 11</a>\n",
        "\n",
        "---\n",
        "\n",
        "**Is there a difference in the price of groceries sold by Target and\n",
        "Walmart?** The data set `Groceries` in the `resampledata` package\n",
        "contains a sample of $n=24$ different grocery items and a pair prices\n",
        "(price at Target and price at Walmart) advertised on their respective\n",
        "websites on a specific day.\n",
        "\n",
        "-   First we load the `resampledata` package."
      ],
      "id": "78ad9e1f-b28d-4760-96d4-360fefcd8af6"
    },
    {
      "cell_type": "code",
      "execution_count": null,
      "metadata": {
        "id": "ebdb5b1f-66ad-4715-9951-a90284b1bd67"
      },
      "outputs": [],
      "source": [
        "library(resampledata)  # load resampledata package"
      ],
      "id": "ebdb5b1f-66ad-4715-9951-a90284b1bd67"
    },
    {
      "cell_type": "markdown",
      "metadata": {
        "id": "9aaabeff-9f8e-458d-80c8-34246a28391c"
      },
      "source": [
        "-   Then we print the first six rows of the `Groceries` data.\n",
        "-   Notice this is matched pairs data!\n",
        "\n",
        "If you received an error when running the code cell below, it is\n",
        "possible you do not have the `resampledata` package installed. From the\n",
        "R console, run the command `install.packages(\"resampledata\")` to first\n",
        "install the `resampledata` packaged. Run the `library(resampledata)`\n",
        "command in the code cell above again. Then try running the code cell\n",
        "below again."
      ],
      "id": "9aaabeff-9f8e-458d-80c8-34246a28391c"
    },
    {
      "cell_type": "code",
      "execution_count": null,
      "metadata": {
        "id": "6033bd83-96b9-4550-87c8-a41c06eca3be"
      },
      "outputs": [],
      "source": [
        "head(Groceries)"
      ],
      "id": "6033bd83-96b9-4550-87c8-a41c06eca3be"
    },
    {
      "cell_type": "markdown",
      "metadata": {
        "id": "75dcd90b-0402-495c-ad54-ea784741adf4"
      },
      "source": [
        "-   Next, we save corresponding Target and Walmart prices to separate   vectors `target` and `walmart`.\n",
        "-   The first six values in each vector are printed to the screen.\n",
        "-   Notice the ordering of the values in each vector is very important   to preserve."
      ],
      "id": "75dcd90b-0402-495c-ad54-ea784741adf4"
    },
    {
      "cell_type": "code",
      "execution_count": null,
      "metadata": {
        "id": "7ab5a306-1e6a-47ff-a7cb-0dcf5acdafc2"
      },
      "outputs": [],
      "source": [
        "target <- Groceries$Target\n",
        "walmart <- Groceries$Walmart\n",
        "head(target)\n",
        "head(walmart)"
      ],
      "id": "7ab5a306-1e6a-47ff-a7cb-0dcf5acdafc2"
    },
    {
      "cell_type": "markdown",
      "metadata": {
        "id": "361059c2-4a83-41e6-a2a7-706241235075"
      },
      "source": [
        "Using the sample data stored in `target` and `walmart`, answer the\n",
        "questions below to perform a permutation test.\n",
        "\n",
        "1.  Set up hypotheses to test whether there a difference in the price of   groceries sold by Target and Walmart?\n",
        "\n",
        "2.  What is the observed test statistic?\n",
        "\n",
        "3.  Create a permutation distribution for the sample mean difference   between matched pairs.\n",
        "\n",
        "4.  Calculate the p-value.\n",
        "\n",
        "5.  Interpret the meaning of the p-value.\n",
        "\n",
        "### <a name=\"22sol11\">Solution to Question 11</a>\n",
        "\n",
        "---\n",
        "\n",
        "<br>  \n",
        "<br>  \n",
        "<br>\n"
      ],
      "id": "361059c2-4a83-41e6-a2a7-706241235075"
    },
    {
      "cell_type": "markdown",
      "source": [
        "# <a name=\"22CC License\">Creative Commons License Information</a>\n",
        "---\n",
        "\n",
        "![Creative Commons\n",
        "License](https://i.creativecommons.org/l/by-nc-sa/4.0/88x31.png)\n",
        "\n",
        "*Statistical Methods: Exploring the Uncertain* by [Adam\n",
        "Spiegler (University of Colorado Denver)](https://github.com/CU-Denver-MathStats-OER/Statistical-Theory)\n",
        "is licensed under a [Creative Commons\n",
        "Attribution-NonCommercial-ShareAlike 4.0 International\n",
        "License](http://creativecommons.org/licenses/by-nc-sa/4.0/). This work is funded by an [Institutional OER Grant from the Colorado Department of Higher Education (CDHE)](https://cdhe.colorado.gov/educators/administration/institutional-groups/open-educational-resources-in-colorado).\n",
        "\n",
        "For similar interactive OER materials in other courses funded by this project in the Department of Mathematical and Statistical Sciences at the University of Colorado Denver, visit <https://github.com/CU-Denver-MathStats-OER>."
      ],
      "metadata": {
        "id": "o4bR8timX770"
      },
      "id": "o4bR8timX770"
    },
    {
      "cell_type": "code",
      "source": [],
      "metadata": {
        "id": "XKlxm4Y1Xrfl"
      },
      "id": "XKlxm4Y1Xrfl",
      "execution_count": null,
      "outputs": []
    }
  ],
  "nbformat": 4,
  "nbformat_minor": 5,
  "metadata": {
    "kernelspec": {
      "name": "ir",
      "display_name": "R",
      "language": "R"
    },
    "colab": {
      "provenance": []
    }
  }
}