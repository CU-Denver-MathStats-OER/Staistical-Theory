{
  "cells": [
    {
      "cell_type": "markdown",
      "source": [
        "[![Open In Colab](https://colab.research.google.com/assets/colab-badge.svg)](https://githubtocolab.com/CU-Denver-MathStats-OER/Statistical-Theory/blob/main/Chap2/06-Expected-Value-and-Variance.ipynb)"
      ],
      "metadata": {
        "id": "4J7XOJEg1gMH"
      },
      "id": "4J7XOJEg1gMH"
    },
    {
      "cell_type": "markdown",
      "metadata": {
        "id": "20f6fd55-56e2-4031-8f85-8baca1711e36"
      },
      "source": [
        "# <a name=\"06intro\">2.3: Expected Value and Variance"
      ],
      "id": "20f6fd55-56e2-4031-8f85-8baca1711e36"
    },
    {
      "cell_type": "markdown",
      "source": [
        "</a>\n",
        "\n",
        "---\n",
        "\n",
        "Additional Reference: See [Introduction to Random\n",
        "Variables](https://githubtocolab.com/CU-Denver-MathStats-OER/Statistical-Theory/blob/main/Chap2/05-Intro-to-Random-Variables.ipynb)\n",
        "where we discovered some important properties for a random variable $X$ that are summarized in the [Appendix](#06append).\n",
        "\n"
      ],
      "metadata": {
        "id": "Fk1mJmYbcBFR"
      },
      "id": "Fk1mJmYbcBFR"
    },
    {
      "cell_type": "markdown",
      "source": [
        "# <a name=\"06raffle\">How Much is the Raffle Ticket Worth?</a>\n",
        "\n",
        "---\n",
        "\n",
        "A raffle sells 1,000 tickets with the following payouts:\n",
        "\n",
        "-   There is one winning randomly selected ticket that will win the grand prize of \\$5,000.\n",
        "-   Two tickets will be randomly selected to win a second prize each worth \\$1,000.\n",
        "-   Ten tickets will be randomly selected to win a third prize each worth \\$200.\n",
        "-   The remaining tickets do not win a prize.\n",
        "\n"
      ],
      "metadata": {
        "id": "wjq50bghcDLl"
      },
      "id": "wjq50bghcDLl"
    },
    {
      "cell_type": "markdown",
      "source": [
        "## <a name=\"06q1\">Question 1</a>\n",
        "\n",
        "---\n",
        "\n",
        "Let random variable $X$ be the amount of money won by a randomly\n",
        "selected raffle ticket. We let $p(x)$ denote the corresponding\n",
        "probability mass function of $X$.\n",
        "\n"
      ],
      "metadata": {
        "id": "TusUyjZucFuM"
      },
      "id": "TusUyjZucFuM"
    },
    {
      "cell_type": "markdown",
      "source": [
        "### <a name=\"06q1a\">Question 1a</a>\n",
        "\n",
        "---\n",
        "\n",
        "Fill in the values of $x$ and $p(x)$ in the table below.\n",
        "\n",
        "#### <a name=\"06sol1a\">Solution to Question 1a</a>\n",
        "\n",
        "---\n",
        "\n",
        "**Fill in the blanks to complete the table.**\n",
        "\n",
        "\n",
        "| $\\Large{x}$    | <font size=\"5\">??</font> | <font size=\"5\">??</font>  | <font size=\"5\">??</font>  | <font size=\"5\">??</font>  |\n",
        "|--------|-----|-----|-----|-----|\n",
        "| $\\Large{p(x)}$ | <font size=\"5\">??</font>  | <font size=\"5\">??</font>  | <font size=\"5\">??</font>  | <font size=\"5\">??</font>  |\n",
        "\n",
        "<br>\n",
        "\n"
      ],
      "metadata": {
        "id": "ToZ2m5ZwcIVx"
      },
      "id": "ToZ2m5ZwcIVx"
    },
    {
      "cell_type": "markdown",
      "source": [
        "### <a name=\"06q1b\">Question 1b</a>\n",
        "\n",
        "---\n",
        "\n",
        "If somebody offered to buy a raffle ticket from you, what do you think fair value is for the ticket?\n",
        "\n",
        "#### <a name=\"06sol1b\">Solution to Question 1b</a>\n",
        "\n",
        "---\n",
        "\n",
        "<br> <br> <br>\n",
        "\n"
      ],
      "metadata": {
        "id": "XK-i6RxMcJv1"
      },
      "id": "XK-i6RxMcJv1"
    },
    {
      "cell_type": "markdown",
      "source": [
        "### <a name=\"06q1c\">Question 1c</a>\n",
        "\n",
        "---\n",
        "\n",
        "Consider another ticket raffle. There 1,000 tickets with the following\n",
        "payouts:\n",
        "\n",
        "-   500 randomly selected tickets will win a grand prize of \\$15.\n",
        "-   The other 500 tickets do not win a prize.\n",
        "\n",
        "Let random variable $Y$ be the amount of money won by a randomly\n",
        "selected raffle ticket.\n",
        "\n",
        "Somebody offers one free ticket to either raffle $X$ or raffle $Y$ (but\n",
        "not both!), which would you prefer and why?\n",
        "\n",
        "#### <a name=\"06sol1c\">Solution to Question 1c</a>\n",
        "\n",
        "---\n",
        "\n",
        "<br> <br> <br>\n",
        "\n"
      ],
      "metadata": {
        "id": "Qarc4AZccLQr"
      },
      "id": "Qarc4AZccLQr"
    },
    {
      "cell_type": "markdown",
      "source": [
        "# <a name=\"06ex-dis\">The Expected Value of a Discrete Random Variable</a>\n",
        "\n",
        "---\n",
        "\n",
        "The <font color=\"dodgerblue\">**expected value**</font> for a discrete\n",
        "random variable $X$ is denoted $\\color{dodgerblue}{E(X)}$. We compute\n",
        "\n",
        "$$\\color{dodgerblue}{E(X) = \\mu_{X} =  \\sum_x \\left( x \\cdot p(x) \\right)}. $$ \n",
        "\n",
        "- $E(X)$ is the <font color=\"dodgerblue\">**average** or **mean**</font> value of random variable $X$. \n",
        "- The expected value of $X$ is denoted $\\color{dodgerblue}{E(X)}$ or $\\color{dodgerblue}{\\mu_X}$.\n",
        "- The expected value of $X$ might not be a possible value of $X$. \n",
        "\n"
      ],
      "metadata": {
        "id": "13PSu9gmcM3D"
      },
      "id": "13PSu9gmcM3D"
    },
    {
      "cell_type": "markdown",
      "source": [
        "# <a name=\"06var-dis\">The Variance of a Discrete Random Variable</a>\n",
        "\n",
        "---\n",
        "\n",
        "The <font color=\"dodgerblue\">**variance**</font> for a discrete random\n",
        "variable $X$ is one common way to measure how spread out (in relation to\n",
        "the expected value) are the values of $X$. We compute\n",
        "\n",
        "$$\\color{dodgerblue}{\\mbox{Var}(X) = \\sigma_X^2 =  E\\big( (x-\\mu_X)^2 \\big) = \\sum_x \\left( (x-\\mu_X)^2 \\cdot p(x) \\right)}. $$ \n",
        "\n",
        "- $\\mbox{Var}(X)$ is the expected value of the squared distance from the\n",
        "mean. \n",
        "- The variance is denoted $\\color{dodgerblue}{\\mbox{Var}(X)}$ or $\\color{dodgerblue}{\\sigma_X^2}$.\n",
        "\n"
      ],
      "metadata": {
        "id": "6AxiaLvdcOPs"
      },
      "id": "6AxiaLvdcOPs"
    },
    {
      "cell_type": "markdown",
      "source": [
        "# <a name=\"06sd-dis\">The Standard Deviation of a Discrete Random Variable</a>\n",
        "\n",
        "---\n",
        "\n",
        "The <font color=\"dodgerblue\">**standard deviation**</font> for a\n",
        "discrete random variable $X$ is the square root of the variance,\n",
        "\n",
        "$$ \\mbox{SD}(X) = \\sigma_X  =  \\sqrt{\\mbox{Var}(X)}. $$\n",
        "\n",
        "-   The standard deviation of random variable $X$ is denoted $\\color{dodgerblue}{\\sigma_X}$.\n",
        "-   The standard deviation essentially measures the average distance of the values of $X$ from its mean $\\mu_X$.\n",
        "-   The units of $\\sigma_X$ and $X$ are the same, and thus standard deviation is often a practical way to describe the spread of $X$.\n",
        "\n"
      ],
      "metadata": {
        "id": "hhVntKGvcPVo"
      },
      "id": "hhVntKGvcPVo"
    },
    {
      "cell_type": "markdown",
      "source": [
        "## <a name=\"06q2\">Question 2</a>\n",
        "\n",
        "---\n",
        "\n",
        "Using [properties of the pmf](#06append-discrete) $p(x)$, show that for any discrete random\n",
        "variable $X$ with expected value $E(X) = \\mu$, we have\n",
        "\n",
        "$$\\mbox{Var}(X) = E(X^2)  - \\mu^2.$$\n",
        "\n",
        "### <a name=\"06sol2\">Solution to Question 2</a>\n",
        "\n",
        "---\n",
        "\n",
        "**Finish the proof below!**\n",
        "\n",
        "Let $X$ be a discrete random variable with pmf $p(x)$ and expected value $E(X)=\\mu$. Then we have\n",
        "\n",
        "$$\\begin{array}{rcll}\n",
        "\\mbox{Var}(X) &=&  \\sum_x \\left( (x-\\mu)^2 \\cdot p(x) \\right) & \\mbox{(by definition)}\\\\\n",
        " &=& \\sum_x \\left( (x^2 -2 \\mu x + \\mu^2) \\cdot p(x) \\right) & \\mbox{(distributing squared term)}\\\\\n",
        " &=& \\sum_x \\left( x^2 \\cdot p(x) -2 \\mu x  \\cdot p(x)  + \\mu^2  \\cdot p(x)  \\right) & \\mbox{(distributing $p(x)$)}\\\\\n",
        " &=& \\sum_x \\left( x^2 \\cdot p(x) \\right) - \\sum_x \\left(2 \\mu x  \\cdot p(x) \\right)  + \\sum_x \\left( \\mu^2  \\cdot p(x)  \\right) & \\mbox{(properties of summation)}\\\\\n",
        " &=& ?? & \\mbox{(??)} \\\\\n",
        " &=& ?? & \\mbox{(??)} \\\\\n",
        " &=& ?? & \\mbox{(??)} \\\\\n",
        " &=& ?? & \\mbox{(??)} \\\\\n",
        "\\end{array}$$\n",
        "\n",
        "<br>\n",
        "\n",
        "Therefore, we see that $\\mbox{Var}(X) = E(X^2)  - \\mu^2$.\n",
        "\n",
        "<br> <br>\n",
        "\n"
      ],
      "metadata": {
        "id": "d_flDJHxcQqz"
      },
      "id": "d_flDJHxcQqz"
    },
    {
      "cell_type": "markdown",
      "source": [
        "## <a name=\"06q3\">Question 3</a>\n",
        "\n",
        "---\n",
        "\n",
        "Let $X$ and $Y$ denote the raffle ticket random variables from [Question\n",
        "1](#06q1).\n",
        "\n",
        "Calculate $E(X)$ and $\\mbox{Var}(X)$.\n",
        "\n"
      ],
      "metadata": {
        "id": "uOX00P-RcSUa"
      },
      "id": "uOX00P-RcSUa"
    },
    {
      "cell_type": "markdown",
      "source": [
        "### <a name=\"06q3a\">Question 3a</a>\n",
        "\n",
        "---\n",
        "\n",
        "Calculate $E(X)$ and $\\mbox{Var}(X)$.\n",
        "\n",
        "#### <a name=\"06sol3a\">Solution to Question 3a</a>\n",
        "\n",
        "---\n",
        "\n",
        "<br> <br> <br>\n",
        "\n"
      ],
      "metadata": {
        "id": "kd9Fq77ycUKr"
      },
      "id": "kd9Fq77ycUKr"
    },
    {
      "cell_type": "markdown",
      "source": [
        "### <a name=\"06q3b\">Question 3b</a>\n",
        "\n",
        "---\n",
        "\n",
        "Calculate $E(Y)$ and $\\mbox{Var}(Y)$.\n",
        "\n",
        "#### <a name=\"06sol3b\">Solution to Question 3b</a>\n",
        "\n",
        "---\n",
        "\n",
        "<br> <br> <br>\n",
        "\n"
      ],
      "metadata": {
        "id": "wh_inx92cVax"
      },
      "id": "wh_inx92cVax"
    },
    {
      "cell_type": "markdown",
      "source": [
        "# <a name=\"06prop-cont\">Mean, Median, and Variance of Continuous Random Variables</a>\n",
        "\n",
        "---\n",
        "\n",
        "Let $f(x)$ and $F(x)$ denote the probability density function and\n",
        "cumulative distribution function for a continuous random variable $X$.\n",
        "\n",
        "-   The <font color=\"dodgerblue\">**expected value**</font> or <font color=\"dodgerblue\">**mean**</font> is\n",
        "\n",
        "$$E(X) = \\mu_X = \\int_{-\\infty}^{\\infty} x \\cdot f(x) \\, dx.$$\n",
        "\n",
        "-   The <font color=\"dodgerblue\">**variance**</font> is \n",
        "\n",
        "$$\\mbox{Var}(X) = E(X-\\mu_X)^2 = E(X^2) - \\mu_X^2.$$\n",
        "\n",
        "-   The <font color=\"dodgerblue\">**median**</font> is the value $x$ such that $P(X < x) = 0.5$. Thus, to find the median we solve the equations below for $x$,\n",
        "\n",
        "$$\\int_{-\\infty}^x f(t) \\, dt = 0.5 \\qquad \\mbox{or equivalently} \\qquad F(x) =0.5.$$\n",
        "\n"
      ],
      "metadata": {
        "id": "1nweDd3ocWy2"
      },
      "id": "1nweDd3ocWy2"
    },
    {
      "cell_type": "markdown",
      "source": [
        "## <a name=\"06q4\">Question 4</a>\n",
        "\n",
        "---\n",
        "\n",
        "Consider the random variable $X$ with pdf\n",
        "\n",
        "$$ f_X(x) = \\left\\{ \\begin{array}{ll} \n",
        "\\frac{x}{8}, &  0 \\leq x \\leq 4 \\\\ \n",
        "0, &  \\mbox{otherwise} \n",
        "\\end{array} \\right. .$$\n",
        "\n"
      ],
      "metadata": {
        "id": "BgmxPxDhcYHZ"
      },
      "id": "BgmxPxDhcYHZ"
    },
    {
      "cell_type": "markdown",
      "source": [
        "### <a name=\"06q4a\">Question 4a</a>\n",
        "\n",
        "---\n",
        "\n",
        "On a separate piece of paper, sketch a graph of the pdf, $f_X$.\n",
        "\n",
        "#### <a name=\"06sol4a\">Solution to Question 4a</a>\n",
        "\n",
        "---\n",
        "\n",
        "Sketch a graph on a separate piece of paper.\n",
        "\n",
        "<br> <br>\n",
        "\n"
      ],
      "metadata": {
        "id": "-Uhpc5-6cZjn"
      },
      "id": "-Uhpc5-6cZjn"
    },
    {
      "cell_type": "markdown",
      "source": [
        "### <a name=\"06q4b\">Question 4b</a>\n",
        "\n",
        "---\n",
        "\n",
        "Enter the formula for $F_X$ below. Then on a separate piece of paper\n",
        "sketch the graph $F_X$.\n",
        "\n",
        "#### <a name=\"06sol4b\">Solution to Question 4b</a>\n",
        "\n",
        "---\n",
        "\n",
        "$$F_X(x) = \\left\\{ \\begin{array}{ll}\n",
        "0 & x < 0\\\\\n",
        "?? & 0 \\leq x \\leq 4 \\\\\n",
        "1 & x > 4 \n",
        "\\end{array} \\right.$$\n",
        "\n",
        "<br>\n",
        "\n",
        "Sketch a graph on a separate piece of paper.\n",
        "\n",
        "<br> <br>\n",
        "\n"
      ],
      "metadata": {
        "id": "x386u2Ajcb-m"
      },
      "id": "x386u2Ajcb-m"
    },
    {
      "cell_type": "markdown",
      "source": [
        "### <a name=\"06q4c\">Question 4c</a>\n",
        "\n",
        "---\n",
        "\n",
        "Calculate $P(X < 1)$ and illustrate this value on each of your graphs in\n",
        "the solutions to [Questions 1a](#06q4a) and [1b](#06q4b).\n",
        "\n",
        "#### <a name=\"06sol4c\">Solution to Question 4c</a>\n",
        "\n",
        "---\n",
        "\n",
        "<br> <br> <br>\n",
        "\n"
      ],
      "metadata": {
        "id": "xJB1k925ch92"
      },
      "id": "xJB1k925ch92"
    },
    {
      "cell_type": "markdown",
      "source": [
        "### <a name=\"06q4d\">Question 4d</a>\n",
        "\n",
        "---\n",
        "\n",
        "Calculate $E(X)$ and illustrate this on your graph in the solution to\n",
        "[Question 1a](#06q4a).\n",
        "\n",
        "#### <a name=\"06sol4d\">Solution to Question 4d</a>\n",
        "\n",
        "---\n",
        "\n",
        "<br> <br> <br>\n",
        "\n"
      ],
      "metadata": {
        "id": "ZtnsXFDccjBP"
      },
      "id": "ZtnsXFDccjBP"
    },
    {
      "cell_type": "markdown",
      "source": [
        "### <a name=\"06q4e\">Question 4e</a>\n",
        "\n",
        "---\n",
        "\n",
        "Give the median value and illustrate this value on both of your graphs\n",
        "in the solutions to [Questions 1a](#06q4a) and [1b](#06q4b).\n",
        "\n",
        "#### <a name=\"06sol4e\">Solution to Question 4e</a>\n",
        "\n",
        "---\n",
        "\n",
        "<br> <br> <br>\n",
        "\n"
      ],
      "metadata": {
        "id": "rHSRfG0wckhd"
      },
      "id": "rHSRfG0wckhd"
    },
    {
      "cell_type": "markdown",
      "source": [
        "### <a name=\"06q4f\">Question 4f</a>\n",
        "\n",
        "---\n",
        "\n",
        "Compute $\\mbox{Var}(X)$.\n",
        "\n",
        "#### <a name=\"06sol4f\">Solution to Question 4f</a>\n",
        "\n",
        "---\n",
        "\n",
        "<br> <br> <br>\n",
        "\n"
      ],
      "metadata": {
        "id": "7R4hfpOGcl28"
      },
      "id": "7R4hfpOGcl28"
    },
    {
      "cell_type": "markdown",
      "source": [
        "## <a name=\"06q5\">Question 5</a>\n",
        "\n",
        "---\n",
        "\n",
        "Let $X$ and $Y$ denote the raffle ticket random variables from [Question\n",
        "1](#06q1).\n",
        "\n"
      ],
      "metadata": {
        "id": "VPys6d6LcnG_"
      },
      "id": "VPys6d6LcnG_"
    },
    {
      "cell_type": "markdown",
      "source": [
        "### <a name=\"06q5a\">Question 5a</a>\n",
        "\n",
        "---\n",
        "\n",
        "Do you believe random variables $X$ and $Y$ are independent random\n",
        "variables? Explain why or why not.\n",
        "\n",
        "#### <a name=\"06sol5a\">Solution to Question 5a</a>\n",
        "\n",
        "---\n",
        "\n",
        "<br> <br> <br>\n",
        "\n"
      ],
      "metadata": {
        "id": "Rftm4sqOcoYe"
      },
      "id": "Rftm4sqOcoYe"
    },
    {
      "cell_type": "markdown",
      "source": [
        "### <a name=\"06q5b\">Question 5b</a>\n",
        "\n",
        "---\n",
        "\n",
        "If you purchase 3 raffle tickets from raffle $X$ and 2 raffle tickets\n",
        "from raffle $Y$, what is the expected value of your winnings?\n",
        "\n",
        "#### <a name=\"06sol5b\">Solution to Question 5b</a>\n",
        "\n",
        "---\n",
        "\n",
        "<br> <br> <br>\n",
        "\n"
      ],
      "metadata": {
        "id": "8lZSkcnLcpaO"
      },
      "id": "8lZSkcnLcpaO"
    },
    {
      "cell_type": "markdown",
      "source": [
        "### <a name=\"06q5c\">Question 5c</a>\n",
        "\n",
        "---\n",
        "\n",
        "If you purchase 3 raffle tickets from raffle $X$ and 2 raffle tickets\n",
        "from raffle $Y$, what is the variance of your winnings?\n",
        "\n",
        "#### <a name=\"06sol5c\">Solution to Question 5c</a>\n",
        "\n",
        "---\n",
        "\n",
        "<br> <br> <br>\n",
        "\n"
      ],
      "metadata": {
        "id": "Z_jLT8_ucqV-"
      },
      "id": "Z_jLT8_ucqV-"
    },
    {
      "cell_type": "markdown",
      "source": [
        "# <a name=\"06prop-ex\">Properties of Expected Value</a>\n",
        "\n",
        "---\n",
        "\n",
        "Let $X$ and $Y$ denote a random variables, and let $a$ and $b$ denote\n",
        "constants. Then we have the following properties.\n",
        "\n",
        "-   $E(a) = a$\n",
        "-   $E(aX + bY) = aE(X) + bE(Y)$\n",
        "\n"
      ],
      "metadata": {
        "id": "eRkxzy1pcrmZ"
      },
      "id": "eRkxzy1pcrmZ"
    },
    {
      "cell_type": "markdown",
      "source": [
        "# <a name=\"06prop-var\">Properties of Variance</a>\n",
        "\n",
        "---\n",
        "\n",
        "- For any random variable $X$, we have $\\mbox{Var}(X) = E(X^2) - \\mu_X^2$.\n",
        "\n",
        "-  If $X$ and $Y$ are independent random variables and $a$ and $b$ constants, then $\\mbox{Var}(aX + bY) = a^2 \\mbox{Var}(X) + b^2 \\mbox{Var}(Y)$.\n",
        "\n"
      ],
      "metadata": {
        "id": "JZLMWsrxcsnY"
      },
      "id": "JZLMWsrxcsnY"
    },
    {
      "cell_type": "markdown",
      "source": [
        "## <a name=\"06q6\">Question 6</a>\n",
        "\n",
        "---\n",
        "\n",
        "The data set *spotify-hits.csv*<a name=\"cite_ref-1\"></a>[<sup>[1]</sup>](#cite_note-1) contains audio statistics of the top 2000 tracks on Spotify from 2000-2019. The data is\n",
        "stored in a <font color=\"dodgerblue\">**comma separated file (csv)**</font>.\n",
        "\n",
        "-   We can use the function `read.csv()` to import the csv file into an R data frame we call `hits`.\n",
        "\n",
        "<a name=\"cite_note-1\"></a> [1.](#cite_ref-1) [\"Top Hits Spotify from 2000-2019\"](https://www.kaggle.com/datasets/paradisejoy/top-hits-spotify-from-20002019) from [Kaggle](https://www.kaggle.com).\n"
      ],
      "metadata": {
        "id": "wgH6AWzsctrJ"
      },
      "id": "wgH6AWzsctrJ"
    },
    {
      "cell_type": "code",
      "execution_count": null,
      "metadata": {
        "id": "bc1c84f6-5a5d-48ea-969d-2928c5303662"
      },
      "outputs": [],
      "source": [
        "hits <- read.csv(\"https://raw.githubusercontent.com/CU-Denver-MathStats-OER/Statistical-Theory/main/Data/spotify-hits.csv\")"
      ],
      "id": "bc1c84f6-5a5d-48ea-969d-2928c5303662"
    },
    {
      "cell_type": "markdown",
      "metadata": {
        "id": "03c087f1-251e-467d-b745-f4a17ccdf4c8"
      },
      "source": [
        "In the code cell below:\n",
        "\n",
        "-   We convert `artist`, `song`, and `genre` to categorical variables\n",
        "    using the `factor()` function.\n",
        "-   Extract the variables `artist`, `song`, `energy`, `acousticness`,\n",
        "    and `genre` (ignoring the rest).\n",
        "-   Print the first 6 rows to screen to get a glimpse of the resulting\n",
        "    data frame."
      ],
      "id": "03c087f1-251e-467d-b745-f4a17ccdf4c8"
    },
    {
      "cell_type": "code",
      "execution_count": null,
      "metadata": {
        "id": "72d6aa91-53b5-4b66-bd22-876bfaa2d0cd"
      },
      "outputs": [],
      "source": [
        "hits$artist <- factor(hits$artist)  # artist is categorical\n",
        "hits$song <- factor(hits$song)  # song is categorical\n",
        "hits$genre <- factor(hits$genre)  # genre is categorical\n",
        "hits <- hits[,c(\"artist\", \"song\", \"energy\", \"acousticness\", \"genre\")] \n",
        "head(hits)  # display first 6 rows of data frame"
      ],
      "id": "72d6aa91-53b5-4b66-bd22-876bfaa2d0cd"
    },
    {
      "cell_type": "markdown",
      "metadata": {
        "id": "66f63163-3d08-48a4-91d4-539dd4238dfc"
      },
      "source": [
        "-   **Energy**: A measure of how energetic a song is from $0.0$ to $1.0$\n",
        "    (least to most energy) of. Typically, energetic songs are fast,\n",
        "    loud, and noisy.\n",
        "-   **Acousticness**: A measure from $0.0$ to $1.0$ (least to most\n",
        "    acoustic) of depending on how significant the use of acoustic\n",
        "    instruments are in the song.\n",
        "\n",
        "Let $X$ denote the energy of a randomly selected song, and let $Y$\n",
        "denote the acousticness of a randomly selected song. We define a new\n",
        "song metric, $Z$, that is a weighted mean of score $X$ and $Y$:\n",
        "\n",
        "$$Z = \\frac{3X + 2Y}{5}$$\n",
        "\n"
      ],
      "id": "66f63163-3d08-48a4-91d4-539dd4238dfc"
    },
    {
      "cell_type": "markdown",
      "source": [
        "### <a name=\"06q6a\">Question 6a</a>\n",
        "\n",
        "---\n",
        "\n",
        "Do you believe $X$ and $Y$ are independent random variables? Explain why\n",
        "or why not.\n",
        "\n",
        "#### <a name=\"06sol6a\">Solution to Question 6a</a>\n",
        "\n",
        "---\n",
        "\n",
        "<br> <br> <br>\n",
        "\n"
      ],
      "metadata": {
        "id": "mG--mHbTcvdu"
      },
      "id": "mG--mHbTcvdu"
    },
    {
      "cell_type": "markdown",
      "source": [
        "### <a name=\"06q6b\">Question 6b</a>\n",
        "\n",
        "---\n",
        "\n",
        "Use R to compute $E(X)$, $E(Y)$, and $E(Z)$. Check whether or not the\n",
        "property $E(aX + bY) = aE(X) + bE(Y)$ holds in this context.\n",
        "\n",
        "-   Hint: Recall R, the function `mean(x)` calculates the mean (expected\n",
        "    value) of `x`.\n",
        "\n",
        "#### <a name=\"06sol6b\">Solution to Question 6b</a>\n",
        "\n",
        "---"
      ],
      "metadata": {
        "id": "L41xWWqwcwea"
      },
      "id": "L41xWWqwcwea"
    },
    {
      "cell_type": "code",
      "execution_count": null,
      "metadata": {
        "id": "bf5be480-6905-4c04-8988-104dcf8b48ad"
      },
      "outputs": [],
      "source": [
        "# use code cell to compare variances\n",
        "x <- hits$energy  # random variable x\n",
        "y <- hits$acousticness  # random variable y\n",
        "z <- (3*x + 2*y) / 5  # random variable z"
      ],
      "id": "bf5be480-6905-4c04-8988-104dcf8b48ad"
    },
    {
      "cell_type": "markdown",
      "metadata": {
        "id": "04c587e0-e87c-48bb-b18b-42db24f7b9fe"
      },
      "source": [
        "<br> <br> <br>\n",
        "\n"
      ],
      "id": "04c587e0-e87c-48bb-b18b-42db24f7b9fe"
    },
    {
      "cell_type": "markdown",
      "source": [
        "### <a name=\"06q6c\">Question 6c</a>\n",
        "\n",
        "---\n",
        "\n",
        "Use R to compute $\\mbox{Var}(X)$, $\\mbox{Var}(Y)$, and $\\mbox{Var}(Z)$.\n",
        "Check whether or not the property\n",
        "$\\mbox{Var}(aX + bY) = a^2\\mbox{Var}(X) + b^2\\mbox{Var}(Y)$ holds in\n",
        "this context. \n",
        "\n",
        "-   Hint: The function `var(x)` calculates the variance of `x`.\n",
        "\n",
        "#### <a name=\"06sol6c\">Solution to Question 6c</a>\n",
        "\n",
        "---"
      ],
      "metadata": {
        "id": "_wugZp-8cx-Q"
      },
      "id": "_wugZp-8cx-Q"
    },
    {
      "cell_type": "code",
      "execution_count": null,
      "metadata": {
        "id": "1bc04a5c-8c03-47dd-bf77-770fac112b59"
      },
      "outputs": [],
      "source": [
        "# use code cell to compare variances\n"
      ],
      "id": "1bc04a5c-8c03-47dd-bf77-770fac112b59"
    },
    {
      "cell_type": "markdown",
      "metadata": {
        "id": "9181819f-011e-41ad-9a98-599b032cdd62"
      },
      "source": [
        "<br> <br> <br>\n",
        "\n"
      ],
      "id": "9181819f-011e-41ad-9a98-599b032cdd62"
    },
    {
      "cell_type": "markdown",
      "source": [
        "### <a name=\"06q6d\">Question 6d</a>\n",
        "\n",
        "---\n",
        "\n",
        "Determine whether each of the statements below are true or false. If\n",
        "false, explain why.\n",
        "\n",
        "For any two random variables $X$ and $Y$ and constants $a$ and $b$:\n",
        "\n",
        "-   It always follows that $E(aX + bY) = aE(X) + bE(Y)$.\n",
        "-   It always follows that\n",
        "    $\\mbox{Var}(aX + bY) = a^2\\mbox{Var}(X) + b^2\\mbox{Var}(Y)$.\n",
        "\n",
        "#### <a name=\"06sol6d\">Question 6d</a>\n",
        "\n",
        "---\n",
        "\n",
        "<br> <br> <br>"
      ],
      "metadata": {
        "id": "0HJvKtLNczUY"
      },
      "id": "0HJvKtLNczUY"
    },
    {
      "cell_type": "markdown",
      "source": [
        "# <a name=\"06append\">Appendix: Properties of Random Variables</a>\n",
        "\n",
        "---\n",
        "\n",
        "In [Introduction to Random\n",
        "Variables](https://githubtocolab.com/CU-Denver-MathStats-OER/Statistical-Theory/blob/main/Chap2/05-Intro-to-Random-Variables.ipynb)\n",
        "we discovered the following properties for a random variable $X$.\n",
        "\n"
      ],
      "metadata": {
        "id": "BgK70q3pYpGx"
      },
      "id": "BgK70q3pYpGx"
    },
    {
      "cell_type": "markdown",
      "source": [
        "## <a name=\"06append-discrete\">Discrete Random Variables</a>\n",
        "\n",
        "---\n",
        "\n",
        "For a **discrete** random variable $X$, let $p(x)$ and $F(x)$ denote the pmf and cdf, respectively, we have:\n",
        "\n",
        "-   $0 \\leq p(x) \\leq 1$ for all $x$\n",
        "\n",
        "-   $\\displaystyle \\sum_{\\rm{all}\\  x} p(x) = 1$\n",
        "\n",
        "-   $F(x) = \\displaystyle P(X \\leq x) = \\sum_{k= x_{\\rm min}}^x p(k)$\n",
        "\n",
        "-   $0 \\leq F(x) \\leq 1$ for all $x$\n",
        "\n",
        "-   $\\displaystyle \\lim_{x \\to \\infty} F(x) = 1$\n",
        "\n",
        "-   $F(x)$ is nondecreasing.\n",
        "\n"
      ],
      "metadata": {
        "id": "e-M4siq2ZXlu"
      },
      "id": "e-M4siq2ZXlu"
    },
    {
      "cell_type": "markdown",
      "source": [
        "## <a name=\"06append-cont\">Continuous Random Variables</a>\n",
        "\n",
        "---\n",
        "\n",
        "For a **continuous** random variable $X$, let $f(x)$ and $F(x)$ denote the pdf and cdf, respectively, we have:\n",
        "\n",
        "-   $f(x) \\geq 0$ for all $x$\n",
        "\n",
        "-   $\\displaystyle \\int_{-\\infty}^{\\infty} f(x) = 1$\n",
        "\n",
        "-   $\\displaystyle P(a < x < b) = \\int_a^b f(x) \\, dx$\n",
        "\n",
        "-   $\\displaystyle F(x) = \\int_{-\\infty}^x f(t) \\, dt$\n",
        "\n",
        "-   The $F(x)$ is an antiderivative of $f$.\n",
        "\n",
        "-   The $f(x)$ is the derivative of $F(x)$.\n",
        "\n",
        "-   $0 \\leq F(x) \\leq 1$ for all $x$.\n",
        "\n",
        "-   $\\displaystyle \\lim_{x \\to \\infty} F(x) = 1$.\n",
        "\n",
        "-   $F(x)$ is nondecreasing."
      ],
      "metadata": {
        "id": "sO51Be6OZlm1"
      },
      "id": "sO51Be6OZlm1"
    },
    {
      "cell_type": "markdown",
      "source": [
        "# <a name=\"CC License\">Creative Commons License Information</a>\n",
        "---\n",
        "\n",
        "\n",
        "![Creative Commons\n",
        "License](https://i.creativecommons.org/l/by-nc-sa/4.0/88x31.png)\n",
        "\n",
        "*Statistical Methods: Exploring the Uncertain* by [Adam\n",
        "Spiegler (University of Colorado Denver)](https://github.com/CU-Denver-MathStats-OER/Statistical-Theory) \n",
        "is licensed under a [Creative Commons\n",
        "Attribution-NonCommercial-ShareAlike 4.0 International\n",
        "License](http://creativecommons.org/licenses/by-nc-sa/4.0/). This work is funded by an [Institutional OER Grant from the Colorado Department of Higher Education (CDHE)](https://cdhe.colorado.gov/educators/administration/institutional-groups/open-educational-resources-in-colorado). \n",
        "\n",
        "For similar interactive OER materials in other courses funded by this project in the Department of Mathematical and Statistical Sciences at the University of Colorado Denver, visit <https://github.com/CU-Denver-MathStats-OER>."
      ],
      "metadata": {
        "id": "XYaPzcSoGgEu"
      },
      "id": "XYaPzcSoGgEu"
    },
    {
      "cell_type": "code",
      "source": [],
      "metadata": {
        "id": "kLtjK-qRY2Bf"
      },
      "id": "kLtjK-qRY2Bf",
      "execution_count": null,
      "outputs": []
    }
  ],
  "nbformat": 4,
  "nbformat_minor": 5,
  "metadata": {
    "kernelspec": {
      "name": "ir",
      "display_name": "R",
      "language": "R"
    },
    "colab": {
      "provenance": [],
      "toc_visible": true
    }
  }
}