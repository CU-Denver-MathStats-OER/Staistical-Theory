{
  "cells": [
    {
      "cell_type": "markdown",
      "metadata": {
        "id": "a3dd826e-ead4-48b1-875a-5cb4fab465e8"
      },
      "source": [
        "[![Open In\n",
        "Colab](https://colab.research.google.com/assets/colab-badge.svg)](https://githubtocolab.com/CU-Denver-MathStats-OER/Statistical-Theory/blob/main/Chap2/09-Joint-Distributions.ipynb)\n",
        "\n"
      ],
      "id": "a3dd826e-ead4-48b1-875a-5cb4fab465e8"
    },
    {
      "cell_type": "markdown",
      "source": [
        "# <a name=\"09intro\">2.5: Joint Distributions</a>\n",
        "\n",
        "---\n",
        "\n",
        "Thus far we have been studying probability distributions for a single\n",
        "random variable. In many situations, we would like to incorporate\n",
        "multiple random variables in our analysis.\n",
        "\n"
      ],
      "metadata": {
        "id": "959i-0ekXNRF"
      },
      "id": "959i-0ekXNRF"
    },
    {
      "cell_type": "markdown",
      "source": [
        "## <a name=\"09q1\">Question 1</a>\n",
        "\n",
        "---\n",
        "\n",
        "A large insurance agency services a number of customers who have\n",
        "purchased both a homeowner’s policy and an automobile policy from the\n",
        "agency. For each type of policy, a deductible amount must be specified.\n",
        "For an automobile policy, the choices are $\\$100$ and $\\$250$, whereas\n",
        "for a homeowner’s policy, the choices are $\\$0$, $\\$100$, and $\\$200$.\n",
        "\n",
        "Suppose an individual with both types of policy is selected at random\n",
        "from the agency’s files. Let $A$ be the deductible amount on the auto\n",
        "policy and $H$ the deductible amount on the homeowner’s policy. The\n",
        "<font color=\"dodgerblue\">**joint probability mass\n",
        "function**</font> for $A$ and $H$ is denoted\n",
        "$\\color{dodgerblue}{p(a,h)=P(A=a \\mbox{ and } H=h)}$ and can be\n",
        "summarized in two-way tables.\n",
        "\n",
        "<br> \n",
        "\n",
        "<img src=\"https://raw.githubusercontent.com/CU-Denver-MathStats-OER/Statistical-Theory/main/Images/09fig-joint-table.png\" alt=\"Table of Insurance Deductibles\" width=\"40%\" />\n",
        "\n",
        "\n"
      ],
      "metadata": {
        "id": "QHPQJzbiXOtz"
      },
      "id": "QHPQJzbiXOtz"
    },
    {
      "cell_type": "markdown",
      "source": [
        "### <a name=\"09q1a\">Question 1a</a>\n",
        "\n",
        "---\n",
        "\n",
        "Interpret the meaning of the value $p(100,0)=0.2$ in this context.\n",
        "\n",
        "#### <a name=\"09sol1a\">Solution to Question 1a</a>\n",
        "\n",
        "---\n",
        "\n",
        "<br>  \n",
        "<br>  \n",
        "<br>\n",
        "\n"
      ],
      "metadata": {
        "id": "s4O8XcHyXQPb"
      },
      "id": "s4O8XcHyXQPb"
    },
    {
      "cell_type": "markdown",
      "source": [
        "### <a name=\"09q1b\">Question 1b</a>\n",
        "\n",
        "---\n",
        "\n",
        "Compute $P(A=250)$ and interpret the meaning in this context.\n",
        "\n",
        "#### <a name=\"09sol1b\">Solution to Question 1b</a>\n",
        "\n",
        "---\n",
        "\n",
        "<br>  \n",
        "<br>  \n",
        "<br>\n",
        "\n"
      ],
      "metadata": {
        "id": "4fQQJlIrXRja"
      },
      "id": "4fQQJlIrXRja"
    },
    {
      "cell_type": "markdown",
      "source": [
        "### <a name=\"09q1c\">Question 1c</a>\n",
        "\n",
        "---\n",
        "\n",
        "Compute $P(H=100)$ and interpret the meaning in this context.\n",
        "\n",
        "#### <a name=\"09sol1c\">Solution to Question 1c</a>\n",
        "\n",
        "---\n",
        "\n",
        "<br>  \n",
        "<br>  \n",
        "<br>\n",
        "\n"
      ],
      "metadata": {
        "id": "J4g4DbnMXSlr"
      },
      "id": "J4g4DbnMXSlr"
    },
    {
      "cell_type": "markdown",
      "source": [
        "# <a name=\"09pmf\">Marginal Probability Mass Functions</a>\n",
        "\n",
        "---\n",
        "\n",
        "-   The <font color=\"dodgerblue\">**marginal probability mass function of X**</font> is given by\n",
        "\n",
        "$$p_X(x) = P(X=x) = \\sum_y p(x,y). $$\n",
        "\n",
        "-   The <font color=\"dodgerblue\">**marginal probability mass function of Y**</font> is given by\n",
        "\n",
        "$$p_Y(y) = P(Y=y) = \\sum_x p(x,y).$$\n",
        "\n"
      ],
      "metadata": {
        "id": "sU4xi8LXXUKM"
      },
      "id": "sU4xi8LXXUKM"
    },
    {
      "cell_type": "markdown",
      "source": [
        "## <a name=\"09q2\">Question 2</a>\n",
        "\n",
        "---\n",
        "\n",
        "Using the pmf from the insurance example [Question 1](#09q1), write a\n",
        "piecewise formula for $p_A(a)$ and $p_H(h)$.\n",
        "\n",
        "### <a name=\"09sol2\">Solution to Question 2</a>\n",
        "\n",
        "---\n",
        "\n",
        "$$p_A(a) = \\left\\{ \\begin{array}{ll}\n",
        "?? & a=100 \\\\\n",
        "?? & a=250 \\\\\n",
        "0 & \\mbox{otherwise}\n",
        "\\end{array} \\right.$$\n",
        "\n",
        "$$p_H(h) = \\left\\{ \\begin{array}{ll}\n",
        "?? & h=0 \\\\\n",
        "?? & h=100 \\\\\n",
        "?? & h=200 \\\\\n",
        "0 & \\mbox{otherwise}\n",
        "\\end{array} \\right.$$\n",
        "\n",
        "<br>\n",
        "\n"
      ],
      "metadata": {
        "id": "y-iL7glXXX8L"
      },
      "id": "y-iL7glXXX8L"
    },
    {
      "cell_type": "markdown",
      "source": [
        "# <a name=\"09pdf\">Joint and Marginal Probability Density Functions</a>\n",
        "\n",
        "---\n",
        "\n",
        "Let $X$ and $Y$ be continuous random variables with <font color=\"dodgerblue\">**joint probability density function**</font>\n",
        "$\\color{dodgerblue}{f(x,y)}$.\n",
        "\n",
        "-   The <font color=\"dodgerblue\">**marginal probability density function of X**</font> is given by\n",
        "\n",
        "$$\\color{dodgerblue}{f_X(x) = \\int_{-\\infty}^{\\infty} f(x,y) \\, dy}. $$\n",
        "\n",
        "-   The <font color=\"dodgerblue\">**marginal probability density function of Y**</font> is given by\n",
        "\n",
        "$$\\color{dodgerblue}{f_Y(y) = \\int_{-\\infty}^{\\infty} f(x,y) \\, dx}. $$\n",
        "\n"
      ],
      "metadata": {
        "id": "ae-J1HMDXZ5U"
      },
      "id": "ae-J1HMDXZ5U"
    },
    {
      "cell_type": "markdown",
      "source": [
        "## <a name=\"09q3\">Question 3</a>\n",
        "\n",
        "---\n",
        "\n",
        "A grocery store has two types of checkout lines:\n",
        "\n",
        "-   Self-checkout registers where customers scan items, pay, and bag\n",
        "    their groceries on their own.\n",
        "-   Full-service registers where a cashier scans and bags items for the\n",
        "    customer.\n",
        "\n",
        "On a randomly selected day, let $X$ be the proportion of time that the\n",
        "self-checkout registers are in use, and let $Y$ be the proportion of\n",
        "time that the full-service cashiers are in use. Random variables $X$ and\n",
        "$Y$ are continuous each with values between 0 and 1. Then the set of\n",
        "possible values for the pair $(X, Y)$ is therefore rectangle\n",
        "$A= \\left\\{ (x, y): 0 \\leq x \\leq 1, 0 \\leq y \\leq 1 \\right\\}$ in\n",
        "$\\mathbb{R}^2$. Suppose the joint pdf of $(X,Y)$ is given by\n",
        "\n",
        "$$ f(x,y) = \\left\\{ \\begin{array}{ll}\n",
        "\\dfrac{3}{4} \\left( 2x+y^2 \\right), & 0 \\leq x \\leq 1, 0 \\leq y \\leq 1\\\\\n",
        "0 , & \\mbox{otherwise}\n",
        "\\end{array} \\right. .$$\n",
        "\n"
      ],
      "metadata": {
        "id": "LxWF_pNaXcIJ"
      },
      "id": "LxWF_pNaXcIJ"
    },
    {
      "cell_type": "markdown",
      "source": [
        "### <a name=\"09q3a\">Question 3a</a>\n",
        "\n",
        "---\n",
        "\n",
        "Give a formula for $f_X(x)$ (using integrals).\n",
        "\n",
        "#### <a name=\"09sol3a\">Solution to Question 3a</a>\n",
        "\n",
        "---\n",
        "\n",
        "<br>  \n",
        "<br>  \n",
        "<br>\n",
        "\n"
      ],
      "metadata": {
        "id": "4qWXL308Xd67"
      },
      "id": "4qWXL308Xd67"
    },
    {
      "cell_type": "markdown",
      "source": [
        "### <a name=\"09q3b\">Question 3b</a>\n",
        "\n",
        "---\n",
        "\n",
        "Use your answer from \\[Question 3a\\] to calculate and interpret the\n",
        "value of $P \\left( 0 \\leq X \\leq \\frac{1}{4} \\right)$.\n",
        "\n",
        "#### <a name=\"09sol3b\">Solution to Question 3b</a>\n",
        "\n",
        "---\n",
        "\n",
        "<br>  \n",
        "<br>  \n",
        "<br>\n",
        "\n"
      ],
      "metadata": {
        "id": "kSBb0pOVXgqb"
      },
      "id": "kSBb0pOVXgqb"
    },
    {
      "cell_type": "markdown",
      "source": [
        "### <a name=\"09q3c\">Question 3c</a>\n",
        "\n",
        "---\n",
        "\n",
        "Give a formula for $f_Y(y)$.\n",
        "\n",
        "#### <a name=\"09sol3c\">Solution to Question 3c</a>\n",
        "\n",
        "---\n",
        "\n",
        "<br>  \n",
        "<br>  \n",
        "<br>\n",
        "\n"
      ],
      "metadata": {
        "id": "K20l3q5NXh-c"
      },
      "id": "K20l3q5NXh-c"
    },
    {
      "cell_type": "markdown",
      "source": [
        "### <a name=\"09q3d\">Question 3d</a>\n",
        "\n",
        "---\n",
        "\n",
        "Calculate and interpret the value of\n",
        "$\\displaystyle P \\left( 0 \\leq X \\leq \\frac{1}{4} , \\ 0 \\leq Y \\leq \\frac{1}{2} \\right)$.\n",
        "\n",
        "#### <a name=\"09sol3d\">Solution to Question 3d</a>\n",
        "\n",
        "---\n",
        "\n",
        "<br>  \n",
        "<br>  \n",
        "<br>\n",
        "\n"
      ],
      "metadata": {
        "id": "4gyGIMXtXjux"
      },
      "id": "4gyGIMXtXjux"
    },
    {
      "cell_type": "markdown",
      "source": [
        "### <a name=\"09q3e\">Question 3e</a>\n",
        "\n",
        "---\n",
        "\n",
        "Set up and evaluate a double integral to compute the probability that\n",
        "the self-checkout registers are in use more than the full-service\n",
        "registers.\n",
        "\n",
        "#### <a name=\"09sol3e\">Solution to Question 3e</a>\n",
        "\n",
        "---\n",
        "\n",
        "<br>  \n",
        "<br>  \n",
        "<br>\n",
        "\n"
      ],
      "metadata": {
        "id": "AJqe1xd0XlKb"
      },
      "id": "AJqe1xd0XlKb"
    },
    {
      "cell_type": "markdown",
      "source": [
        "# <a name=\"09prob-pdf\">Computing Probabilities with Continuous Joint PDFs</a>\n",
        "\n",
        "---\n",
        "\n",
        "Let $X$ and $Y$ be continuous random variables with joint pdf $f(x,y)$.\n",
        "Then for any two dimensional subset $A \\subseteq \\mathbb{R}^2$,\n",
        "\n",
        "$$ P \\big( (X,Y) \\in A \\big) = \\int \\int_A f(x,y) \\, dx \\, dy .$$\n",
        "\n",
        "-   In particular if $A$ is a rectangular region $A= \\left\\{ (x, y): a \\leq x \\leq b, c \\leq y \\leq d \\right\\}$, then\n",
        "\n",
        "$$ P( a \\leq X \\leq b, \\ c \\leq Y \\leq d )= \\int_c^d \\int_a^b f(x,y) \\, dx \\, dy .$$\n",
        "\n",
        "-   If the region $A$ is not rectangular (as in [Question 3e](#09q3e)), then the limits of the inner integral will not all be constants.\n",
        "\n"
      ],
      "metadata": {
        "id": "WV_HuABHXmlN"
      },
      "id": "WV_HuABHXmlN"
    },
    {
      "cell_type": "markdown",
      "source": [
        "# <a name=\"09ind\">Independent Random Variables</a>\n",
        "\n",
        "---\n",
        "\n",
        "Two random variables $X$ and $Y$ are said to be <font color=\"dodgerblue\">**independent**</font> if for every pair of $x$\n",
        "and $y$ values,\n",
        "\n",
        "$$\\begin{aligned}\n",
        "\\color{dodgerblue}{f(x,y) = f_X(x) \\cdot f_Y(y)} & \\qquad \\mbox{when } X \\mbox{ and } Y \\mbox{ are continuous, or}\\\\\n",
        "\\color{dodgerblue}{p(x,y) = p_X(x) \\cdot p_Y(y)} & \\qquad \\mbox{when } X \\mbox{ and } Y \\mbox{ are discrete.}\n",
        "\\end{aligned}$$\n",
        "\n",
        "Notice this definition implies when $A$ and $B$ are <font color=\"dodgerblue\">**independent events**</font>, then $\\color{dodgerblue}{P(A \\cap B) = P(A)P(B)}$.\n",
        "\n"
      ],
      "metadata": {
        "id": "4Dfg6TpaXotN"
      },
      "id": "4Dfg6TpaXotN"
    },
    {
      "cell_type": "markdown",
      "source": [
        "## <a name=\"09q4\">Question 4</a>\n",
        "\n",
        "---\n",
        "\n",
        "In the insurance example in [Question 1](#09q1), are random variables $A$ and $H$ independent? Explain how you determined your answer, and then\n",
        "interpret the practical significance of your answer.\n",
        "\n",
        "### <a name=\"09sol4\">Solution to Question 4</a>\n",
        "\n",
        "---\n",
        "\n",
        "<br>  \n",
        "<br>  \n",
        "<br>\n",
        "\n"
      ],
      "metadata": {
        "id": "yG5ZtlKIXqOx"
      },
      "id": "yG5ZtlKIXqOx"
    },
    {
      "cell_type": "markdown",
      "source": [
        "## <a name=\"09\">Question 5</a>\n",
        "\n",
        "---\n",
        "\n",
        "In the grocery store example in [Question 3](#09q3), are random variables $X$ and $Y$ independent? Explain how you determined your answer, and then\n",
        "interpret the practical significance of your answer.\n",
        "\n",
        "### <a name=\"09\">Solution to Question 5</a>\n",
        "\n",
        "---\n",
        "\n",
        "<br> \n",
        "<br>  \n",
        "<br>  \n",
        "  "
      ],
      "metadata": {
        "id": "as1iKm9CXsSt"
      },
      "id": "as1iKm9CXsSt"
    },
    {
      "cell_type": "markdown",
      "source": [
        "# <a name=\"09exp\">Expected Values with Joint Distributions</a>\n",
        "\n",
        "---\n",
        "\n",
        "Let $X$ and $Y$ be two random variables with joint pdf $f(x,y)$. If\n",
        "$\\color{dodgerblue}{Z=h(X,Y)}$, then\n",
        "\n",
        "$$E(\\color{dodgerblue}{Z}) = E(\\color{dodgerblue}{h(X,Y)}) = \\left\\{ \\begin{array}{ll}\n",
        "\\displaystyle \\int_{-\\infty}^{\\infty} \\int_{-\\infty}^{\\infty} \\color{dodgerblue}{h(x,y)}\\cdot f(x,y) \\, dx \\, dy , & \\mbox{if X and Y are continuous} \\\\\n",
        " & \\\\\n",
        "\\displaystyle \\sum_y \\sum_x \\color{dodgerblue}{h(x,y)} \\cdot f(x,y) , &  \\mbox{if X and Y are discrete} \\end{array} \\right. .$$\n",
        "\n",
        "This is often referred to as the <font color=\"dodgerblue\">*Law of\n",
        "the Unconscious Statistician*</font> since\n",
        "we do not need to know the distribution $f_Z(z)$ in order to compute\n",
        "$E(Z)$.\n",
        "\n"
      ],
      "metadata": {
        "id": "zH3wnvDFXuF1"
      },
      "id": "zH3wnvDFXuF1"
    },
    {
      "cell_type": "markdown",
      "source": [
        "## <a name=\"09q6\">Question 6</a>\n",
        "\n",
        "---\n",
        "\n",
        "Let $X$ and $Y$ be the values ($1, 2, \\ldots ,6$) rolled by each of two\n",
        "die. Assume that $X$ and $Y$ are independent, and define the random\n",
        "variable $Z=h(x,y)=xy$ which is the product of the two rolls. Calculate\n",
        "$E(Z)$, the expected value of $Z$, the product of the two rolls.\n",
        "\n",
        "### <a name=\"09sol6\">Solution to Question 6</a>\n",
        "\n",
        "---\n",
        "\n",
        "<br>  \n",
        "<br>  \n",
        "<br>\n",
        "\n"
      ],
      "metadata": {
        "id": "QSpdpMJjXwDG"
      },
      "id": "QSpdpMJjXwDG"
    },
    {
      "cell_type": "markdown",
      "source": [
        "# <a name=\"09linear\">Linear Combinations of Random Variables</a>\n",
        "\n",
        "---\n",
        "\n",
        "Let $X$ and $Y$ be two random variables and consider a linear\n",
        "combination $aX+bY$ for $a$ and $b$ two constants. Then\n",
        "\n",
        "$$\\color{dodgerblue}{E(aX+bY)=aE(X)+bE(Y)}.$$\n",
        "\n",
        "<font color=\"mediumseagreen\">**Note: The property above is true regardless of whether $X$ and $Y$ are independent or dependent.**</font>\n",
        "\n"
      ],
      "metadata": {
        "id": "VgO4QS0wXxdy"
      },
      "id": "VgO4QS0wXxdy"
    },
    {
      "cell_type": "markdown",
      "source": [
        "## <a name=\"09\">Question 7</a>\n",
        "\n",
        "---\n",
        "\n",
        "Prove that expected value and property above.\n",
        "\n",
        "### <a name=\"09q7\">Solution to Question 7</a>\n",
        "\n",
        "---\n",
        "\n",
        "Let $X$ and $Y$ be two continuous random variables and let $a$ and $b$\n",
        "denote two constants. Then we have\n",
        "\n",
        "$$\\begin{aligned}\n",
        "E(aX+bY) &= \\int_{-\\infty}^{\\infty} \\int_{-\\infty}^{\\infty} (ax+by)f(x,y) \\, dx \\, dy  & \\mbox{Law of the Unconscious Statistician} \\\\\n",
        "&= \\int_{-\\infty}^{\\infty} \\int_{-\\infty}^{\\infty} \\color{dodgerblue}{axf(x,y)} \\, dx \\, dy  + \\int_{-\\infty}^{\\infty} \\int_{-\\infty}^{\\infty} \\color{dodgerblue}{byf(x,y)} \\, dx \\, dy & \\mbox{Explain step 1} \\\\\n",
        "&= \\color{dodgerblue}{a} \\int_{-\\infty}^{\\infty} \\int_{-\\infty}^{\\infty} xf(x,y) \\, dx \\, dy  + \\color{dodgerblue}{b} \\int_{-\\infty}^{\\infty} \\int_{-\\infty}^{\\infty} yf(x,y) \\, dx \\, dy & \\mbox{Explain step 2} \\\\\n",
        "&= a \\int_{-\\infty}^{\\infty} \\int_{-\\infty}^{\\infty} xf(x,y) \\, \\color{dodgerblue}{dy \\, dx}  + b \\int_{-\\infty}^{\\infty} \\int_{-\\infty}^{\\infty} yf(x,y) \\, dx \\, dy & \\mbox{Explain step 3} \\\\\n",
        "&= a \\int_{-\\infty}^{\\infty} \\color{dodgerblue}{x} \\left( \\int_{-\\infty}^{\\infty} f(x,y) \\, dy \\right) \\, dx  + b \\int_{-\\infty}^{\\infty} \\color{dodgerblue}{y} \\left( \\int_{-\\infty}^{\\infty} f(x,y) \\, dx \\right) \\, dy & \\mbox{Explain step 4} \\\\\n",
        "&= a \\int_{-\\infty}^{\\infty} x \\color{dodgerblue}{f_X(x)} \\, dx  + b \\int_{-\\infty}^{\\infty} y\\color{dodgerblue}{f_Y(y)} \\, dy & \\mbox{Explain step 5} \\\\\n",
        "&= a \\color{dodgerblue}{E(X)}  + b \\color{dodgerblue}{E(Y)} & \\mbox{Explain step 6} \\\\\n",
        "\\end{aligned}$$\n",
        "\n",
        "#### <a name=\"09explain7\">Explanation of Steps of Proof:\n",
        "\n",
        "Step 1:\n",
        "\n",
        "Step 2:\n",
        "\n",
        "Step 3:\n",
        "\n",
        "Step 4:\n",
        "\n",
        "Step 5:\n",
        "\n",
        "Step 6:\n",
        "\n"
      ],
      "metadata": {
        "id": "3lJZ1hcSXzHe"
      },
      "id": "3lJZ1hcSXzHe"
    },
    {
      "cell_type": "markdown",
      "source": [
        "# <a name=\"09prod\">Products of Independent Random Variables</a>\n",
        "\n",
        "---\n",
        "\n",
        "**A special case for products:** Let $X$ and $Y$ be two <font color=\"dodgerblue\">**independent random variables**</font>. Then\n",
        "additionally we have the following properties.\n",
        "\n",
        "-   Expected value: $\\color{dodgerblue}{E(XY) = E(X) \\cdot E(Y)}$\n",
        "-   Variance of linear combination:\n",
        "    $\\color{dodgerblue}{\\mbox{Var}(aX+bY)=a^2\\mbox{Var}(X)+b^2\\mbox{Var}(Y)}$\n",
        "-   Variance of product:\n",
        "    $\\color{dodgerblue}{\\mbox{Var}(XY) = E(X^2Y^2) - \\big( E(X)E(Y) \\big)^2}$.\n",
        "\n",
        "<font color=\"tomato\">**Caution: In general these properties do NOT hold if X and Y are dependent. We can\n",
        "only use the properties above if we know $X$ and $Y$ are independent\n",
        "random variables.**</font>\n",
        "\n"
      ],
      "metadata": {
        "id": "7olfNAIPX1EG"
      },
      "id": "7olfNAIPX1EG"
    },
    {
      "cell_type": "markdown",
      "source": [
        "## <a name=\"09q8\">Question 8</a>\n",
        "\n",
        "---\n",
        "\n",
        "Let $X$ and $Y$ be two independent random variables. Prove\n",
        "$\\mbox{Var}(aX+bY)=a^2\\mbox{Var}(X)+b^2\\mbox{Var}(Y)$.\n",
        "\n",
        "*An outline of the proof is provided below. Fill in the missing\n",
        "details.*\n",
        "\n",
        "### <a name=\"09sol8\">Solution to Question 8</a>\n",
        "\n",
        "---\n",
        "\n",
        "Let $X$ and $Y$ be two continuous, independent random variables. Then\n",
        "using the property $\\mbox{Var}(X) = E(X^2) - \\big( E(X) \\big)^2$, we\n",
        "have\n",
        "\n",
        "$$\\mbox{Var}(aX+bY) = E \\left( \\color{tomato}{??} \\right) - \\left( \\color{tomato}{??} \\right)^2.$$\n",
        "\n",
        "Using the previous result, we have\n",
        "\n",
        "$$\\left( E(aX+bY) \\right)^2 = \\color{tomato}{??}$$\n",
        "\n",
        "Next we simplify $E \\left( (aX+bY)^2 \\right)$ as follows\n",
        "\n",
        "$$E \\left( (aX+bY)^2 \\right) =\\color{tomato}{??}$$\n",
        "\n",
        "Since $X$ and $Y$ are independent, we can apply the property that\n",
        "$\\color{mediumseagreen}{E(XY) = E(X) E(Y)}$. This gives\n",
        "\n",
        "$$\\begin{aligned}\n",
        "\\mbox{Var}(aX+bY) &= E \\left( (aX+bY)^2 \\right) - \\left( E(aX+bY) \\right)^2\\\\\n",
        "&= \\left( \\color{dodgerblue}{a^2 E(X^2)} + \\color{mediumseagreen}{ab E(X)E(Y)} + \\color{tomato}{b^2 E(Y^2)} \\right) - \\left( \\color{dodgerblue}{a^2 \\big( E(X) \\big)^2} + \\color{mediumseagreen}{abE(X)E(Y)} + \\color{tomato}{b^2 \\big( E(Y) \\big)^2} \\right) \\\\\n",
        "&= \\color{dodgerblue}{\\left( a^2 E(X^2) - a^2 \\big( E(X) \\big)^2 \\right)} + \\color{tomato}{\\left( b^2 E(Y^2) - b^2 \\big( E(Y) \\big)^2 \\right)}\\\\\n",
        "&=  a^2 \\color{dodgerblue}{\\left(E(X^2) - \\big( E(X) \\big)^2 \\right)} + b^2 \\color{tomato}{\\left(  E(Y^2) - \\big( E(Y) \\big)^2 \\right)}\\\\\n",
        "&= a^2 \\color{dodgerblue}{\\mbox{Var}(X)} + b^2 \\color{tomato}{\\mbox{Var}(Y)} \n",
        "\\end{aligned}$$\n",
        "\n",
        "<font color=\"mediumseagreen\">**Note: We DID need to use the assumption that $X$ and $Y$ are independent!\n",
        "Without the assumption of independence, the proof above would not work.**</font>"
      ],
      "metadata": {
        "id": "A5DUxwu9X3C1"
      },
      "id": "A5DUxwu9X3C1"
    },
    {
      "cell_type": "markdown",
      "source": [
        "# <a name=\"08\">Creative Commons License Information\n",
        "\n",
        "---\n",
        "\n",
        "![Creative Commons\n",
        "License](https://i.creativecommons.org/l/by-nc-sa/4.0/88x31.png)\n",
        "\n",
        "*Statistical Methods: Exploring the Uncertain* by [Adam Spiegler\n",
        "(University of Colorado\n",
        "Denver)](https://github.com/CU-Denver-MathStats-OER/Statistical-Theory)\n",
        "is licensed under a [Creative Commons\n",
        "Attribution-NonCommercial-ShareAlike 4.0 International\n",
        "License](http://creativecommons.org/licenses/by-nc-sa/4.0/). This work\n",
        "is funded by an [Institutional OER Grant from the Colorado Department of\n",
        "Higher Education\n",
        "(CDHE)](https://cdhe.colorado.gov/educators/administration/institutional-groups/open-educational-resources-in-colorado).\n",
        "\n",
        "For similar interactive OER materials in other courses funded by this\n",
        "project in the Department of Mathematical and Statistical Sciences at\n",
        "the University of Colorado Denver, visit\n",
        "<https://github.com/CU-Denver-MathStats-OER>."
      ],
      "metadata": {
        "id": "o4bR8timX770"
      },
      "id": "o4bR8timX770"
    },
    {
      "cell_type": "code",
      "source": [],
      "metadata": {
        "id": "_7ezSHRmX8tf"
      },
      "id": "_7ezSHRmX8tf",
      "execution_count": null,
      "outputs": []
    }
  ],
  "nbformat": 4,
  "nbformat_minor": 5,
  "metadata": {
    "kernelspec": {
      "name": "ir",
      "display_name": "R",
      "language": "R"
    },
    "colab": {
      "provenance": []
    }
  }
}