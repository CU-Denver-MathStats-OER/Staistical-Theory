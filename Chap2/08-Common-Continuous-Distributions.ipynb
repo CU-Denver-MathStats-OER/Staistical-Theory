{
  "cells": [
    {
      "cell_type": "markdown",
      "metadata": {
        "id": "f45cfb25-6d03-45f8-9286-50dd4fb7937d"
      },
      "source": [
        "[![Open In\n",
        "Colab](https://colab.research.google.com/assets/colab-badge.svg)](https://githubtocolab.com/CU-Denver-MathStats-OER/Statistical-Theory/blob/main/Chap2/08-Common-Continuous-Distributions.ipynb)\n",
        "\n"
      ],
      "id": "f45cfb25-6d03-45f8-9286-50dd4fb7937d"
    },
    {
      "cell_type": "markdown",
      "metadata": {
        "id": "f64c07e8-5f10-460c-8dae-2a7001c73ab4"
      },
      "source": [
        "# <a name=\"08intro\">2.5: Common Continuous Random Variables</a>\n",
        "\n",
        "---\n",
        "\n",
        "As we did with [discrete random variables](https://githubtocolab.com/CU-Denver-MathStats-OER/Statistical-Theory/blob/main/Chap2/07-Common-Discrete-RandVar.ipynb), in this section we will take a look at several of the most common and useful distributions when working with continuous random variables.\n",
        "\n"
      ],
      "id": "f64c07e8-5f10-460c-8dae-2a7001c73ab4"
    },
    {
      "cell_type": "markdown",
      "source": [
        "# <a name=\"08normal-intro\">Normal Distributions</a>\n",
        "\n",
        "---\n",
        "\n",
        "<figure>\n",
        "<img\n",
        "src=\"https://upload.wikimedia.org/wikipedia/commons/2/21/Planche_de_Galton.jpg\"\n",
        "width=\"30%\"  data-fig-align=\"left\"\n",
        "data-fig-alt=\"Normal distribution from a Galton board\"\n",
        "alt=\"Image Credit: Antoine Taveneaux, CC BY-SA 3.0, via Wikimedia Commons\" />\n",
        "<figcaption aria-hidden=\"true\">Image Credit: Antoine Taveneaux, <a\n",
        "href=\"https://creativecommons.org/licenses/by-sa/3.0\">CC BY-SA 3.0</a>,\n",
        "via Wikimedia Commons</figcaption>\n",
        "</figure>\n",
        "\n",
        "There are many situations where data tends to be distributed\n",
        "symmetrically around a central value with no bias to the left or right\n",
        "such as the location of beads on a [Galton\n",
        "board](https://en.wikipedia.org/wiki/Galton_board) or heights of people.\n",
        "For example, if we randomly select an adult from the population:\n",
        "\n",
        "-   A person is mostly to be about average height.\n",
        "-   Otherwise, the person selected is equally likely to be either shorter or taller than average.\n",
        "-   It is unlikely the person picked is “extremely” tall or short. The more extreme the height, the less likely.\n",
        "-   The distribution of heights will be approximately symmetric about the mean and bell shaped.\n",
        "\n",
        "<font color=\"dodgerblue\">**Normal distributions**</font> arise in\n",
        "many settings: heights of people, size of items produced by machines,\n",
        "and most importantly in statistics data sets resulting from many\n",
        "independent random events. The shape of a normal distribution is\n",
        "determined by two parameters:\n",
        "\n",
        "-   The <font color=\"dodgerblue\">**mean**</font>, $\\color{dodgerblue}{\\mu}$, is center of the distribution.\n",
        "-   The <font color=\"dodgerblue\">**standard deviation**</font> $\\color{dodgerblue}{\\sigma}$, tells us how wide the distribution is.\n",
        "-   If $X$ is normally distributed with mean $\\mu$ and standard deviation $\\sigma$, we write $\\color{dodgerblue}{\\mathbf{X \\sim N(\\mu, \\sigma)}}$.\n",
        "-   The resulting distribution is symmetric and bell-shaped.\n",
        "\n"
      ],
      "metadata": {
        "id": "WOjhyEU2a5wP"
      },
      "id": "WOjhyEU2a5wP"
    },
    {
      "cell_type": "markdown",
      "source": [
        "## <a name=\"08q1\">Question 1</a>\n",
        "\n",
        "---\n",
        "\n",
        "What effect does increasing the standard deviation have on the shape of\n",
        "a normal distribution? What effect does increasing the mean have on the\n",
        "shape of a normal distribution?\n",
        "\n",
        "### <a name=\"08ans1\">Solution to Question 1</a>\n",
        "\n",
        "---\n",
        "\n",
        "<br>  \n",
        "<br>  \n",
        "<br>\n",
        "\n"
      ],
      "metadata": {
        "id": "Hh7Drg2wge6S"
      },
      "id": "Hh7Drg2wge6S"
    },
    {
      "cell_type": "markdown",
      "source": [
        "# <a name=\"08empirical\">The 68%-95%-99.7% Empirical Rule</a>\n",
        "\n",
        "---\n",
        "\n",
        "The <font color=\"dodgerblue\">**empirical rule**</font> for normal\n",
        "distributions states approximately:\n",
        "\n",
        "-   68% of all values fall within one standard deviation (both above and\n",
        "    below) from the mean.\n",
        "-   95% of all values fall within two standard deviations of the mean.\n",
        "-   99.7% of all values fall within three standard deviations of the\n",
        "    mean.\n",
        "\n",
        "<figure>\n",
        "<img\n",
        "src=\"https://upload.wikimedia.org/wikipedia/commons/d/df/08fig-empirical.png\"\n",
        "data-fig-alt=\"Illustration of Empirical Rule for Normal Distributions\"\n",
        "alt=\"Image Credit: Adam Spiegler, CC BY-SA 4.0, via Wikimedia Commons\" />\n",
        "<figcaption aria-hidden=\"true\">Image Credit: Adam Spiegler, <a\n",
        "href=\"https://creativecommons.org/licenses/by-sa/4.0\">CC BY-SA 4.0</a>,\n",
        "via Wikimedia Commons</figcaption>\n",
        "</figure>\n",
        "\n"
      ],
      "metadata": {
        "id": "Y6EsBWaDgwn3"
      },
      "id": "Y6EsBWaDgwn3"
    },
    {
      "cell_type": "markdown",
      "source": [
        "## <a name=\"08q2\">Question 2</a>\n",
        "\n",
        "---\n",
        "\n",
        "Cholesterol is a fat-like substance present in all cells in your body.\n",
        "Humans require some cholesterol to properly function and remain healthy.\n",
        "If a person’s blood has too much cholesterol, then they are at a higher\n",
        "risk of developing heart disease. A blood test is used to measure\n",
        "cholesterol levels. The distribution of cholesterol levels for adults\n",
        "age 20 or older is approximately normally distributed with a mean of 200\n",
        "mg/dL and standard deviation 40 mg/dL. Below is an excerpt from a\n",
        "study[1] on the distribution of cholesterol levels.\n",
        "\n",
        "> Cholesterol is a growing issue because of its impact on human health.\n",
        "> Cigarette smoking, high blood pressure, and high blood cholesterol are\n",
        "> the most clearly established risk factors that have been identified as\n",
        "> being strongly associated with coronary heart disease (CHD). Total\n",
        "> serum cholesterol level (SCL) is a major risk factor for CHD which is\n",
        "> the leading cause of death in the United States. CHD is responsible\n",
        "> for more deaths than all forms of cancer combined.\n",
        "\n",
        "Let $X \\sim N(200, 40)$ denote the total cholesterol level of a randomly\n",
        "selected adult age 20 or above.\n",
        "\n"
      ],
      "metadata": {
        "id": "eCfBS4v-hngE"
      },
      "id": "eCfBS4v-hngE"
    },
    {
      "cell_type": "markdown",
      "source": [
        "### <a name=\"08q2a\">Question 2a</a>\n",
        "\n",
        "---\n",
        "\n",
        "What proportion of adults age 20 or above have total cholesterol levels\n",
        "between 200 mg/dL and 240 mg/dL?\n",
        "\n",
        "#### <a name=\"08ans2a\">Solution to Question 2a</a>\n",
        "\n",
        "---\n",
        "\n",
        "<br>  \n",
        "<br>  \n",
        "<br>\n",
        "\n"
      ],
      "metadata": {
        "id": "wpieroZfhpTq"
      },
      "id": "wpieroZfhpTq"
    },
    {
      "cell_type": "markdown",
      "source": [
        "### <a name=\"08q2b\">Question 2b</a>\n",
        "\n",
        "---\n",
        "\n",
        "What proportion of adults age 20 or above have total cholesterol levels\n",
        "between 160 mg/dL and 280 mg/dL?\n",
        "\n",
        "#### <a name=\"08ans2b\">Solution to Question 2b</a>\n",
        "\n",
        "---\n",
        "\n",
        "<br>  \n",
        "<br>  \n",
        "<br>\n",
        "\n"
      ],
      "metadata": {
        "id": "aTusJNyghrFv"
      },
      "id": "aTusJNyghrFv"
    },
    {
      "cell_type": "markdown",
      "source": [
        "### <a name=\"08q2c\">Question 2c</a>\n",
        "\n",
        "---\n",
        "\n",
        "Individuals that have a total cholesterol level more than 240 mg/dL\n",
        "should be regarded as high risk for heart disease. What proportion of\n",
        "the adult population age 20 or above is at high risk for heart disease?\n",
        "\n",
        "#### <a name=\"08sol2c\">Solution to Question 2c</a>\n",
        "\n",
        "---\n",
        "\n",
        "<br>  \n",
        "<br>  \n",
        "<br>\n",
        "\n"
      ],
      "metadata": {
        "id": "M-WqJSp1hsbp"
      },
      "id": "M-WqJSp1hsbp"
    },
    {
      "cell_type": "markdown",
      "source": [
        "### <a name=\"08q2d\">Question 2d</a>\n",
        "\n",
        "---\n",
        "\n",
        "How many standard deviations from the mean is a total cholesterol level\n",
        "of 140 mg/dL?\n",
        "\n",
        "#### <a name=\"08ans2d\">Solution to Question 2d</a>\n",
        "\n",
        "---\n",
        "\n",
        "<br>  \n",
        "<br>  \n",
        "<br>\n",
        "\n"
      ],
      "metadata": {
        "id": "1ABZMSn5ht2B"
      },
      "id": "1ABZMSn5ht2B"
    },
    {
      "cell_type": "markdown",
      "source": [
        "# <a name=\"08z-score\">$Z$-Scores and the Standard Normal Distribution</a>\n",
        "\n",
        "---\n",
        "\n",
        "The number of standard deviations a data value $x$ is from the mean\n",
        "$\\mu$ is called the <font color=\"dodgerblue\">**z-score**</font>\n",
        "for the value $x$ and is calculated using the formula\n",
        "\n",
        "$$\\color{dodgerblue}{\\large z = \\frac{x-\\mu}{\\sigma}}.$$\n",
        "\n",
        "For example, the $z$-score of an adult with a total cholesterol level of\n",
        "140 mg/dL is $z=\\frac{140-200}{40} = -1.5$.\n",
        "\n",
        "<figure>\n",
        "<img\n",
        "src=\"https://upload.wikimedia.org/wikipedia/commons/a/a4/08fig-standardize.png\"\n",
        "data-fig-alt=\"Standardizing a normal distribution\"\n",
        "alt=\"Image Credit: Adam Spiegler, CC BY-SA 4.0, via Wikimedia Commons\" />\n",
        "<figcaption aria-hidden=\"true\">Image Credit: Adam Spiegler, <a\n",
        "href=\"https://creativecommons.org/licenses/by-sa/4.0\">CC BY-SA 4.0</a>,\n",
        "via Wikimedia Commons</figcaption>\n",
        "</figure>\n",
        "\n",
        "When we compute the $z$-score, we are <font color=\"dodgerblue\">**“standardizing”**</font> the normally\n",
        "distributed data. We describe values of random variable $X$ in terms of\n",
        "how many standard deviations each value $x$ is from the mean $\\mu$. The\n",
        "resulting distribution of $z$-scores is called the <font color=\"dodgerblue\">**standard normal distribution**</font> that\n",
        "has mean $0$ and standard deviation $1$. Comparing areas, we see that\n",
        "$P(X<140) = P(Z < -1.5)$.\n",
        "\n"
      ],
      "metadata": {
        "id": "OR-Qf7hZhvPm"
      },
      "id": "OR-Qf7hZhvPm"
    },
    {
      "cell_type": "markdown",
      "source": [
        "## <a name=\"08q3\">Question 3</a>\n",
        "\n",
        "---\n",
        "\n",
        "Body Mass Index (BMI) is often used as a measurement to determine\n",
        "whether a person’s weight is considered healthy. BMI is computed by\n",
        "dividing a person’s weight (in kilograms) by their height (in meters)\n",
        "squared . BMI is easy and inexpensive to measure, thus it is frequently\n",
        "used to screen for whether a person is malnourished, healthy, or\n",
        "overweight. For example, some countries have passed laws preventing\n",
        "companies from hiring models that are considered underweight based on\n",
        "BMI.\n",
        "\n",
        "> Israel became the first country ever to pass legislation banning the\n",
        "> use of ‘underweight’ models in local ads and publications. The new law\n",
        "> employs an interesting tactic: Models must prove that their Body Mass\n",
        "> Index (BMI) is higher than the World Health Organization’s indication\n",
        "> of malnourishment (a BMI of 18.5) by producing an up-to-date medical\n",
        "> report — no older than three months — at all shoots to be used in the\n",
        "> Israeli market[2].\n",
        "\n",
        "Like heights and cholesterol levels, BMI distribution is approximately\n",
        "normal. In Israel, adult women have a mean BMI of $26.5$ with a standard\n",
        "deviation $4.5$.\n",
        "\n"
      ],
      "metadata": {
        "id": "1T-i03XnhziT"
      },
      "id": "1T-i03XnhziT"
    },
    {
      "cell_type": "markdown",
      "source": [
        "### <a name=\"08q3a\">Question 3a</a>\n",
        "\n",
        "---\n",
        "\n",
        "Calculate the $z$-score of a Israeli woman with a BMI of $18.5$.\n",
        "\n",
        "#### <a name=\"08sol3a\">Solution to Question 3a</a>\n",
        "\n",
        "---\n",
        "\n",
        "<br>  \n",
        "<br>  \n",
        "<br>\n",
        "\n"
      ],
      "metadata": {
        "id": "3PEAwkWNh3IS"
      },
      "id": "3PEAwkWNh3IS"
    },
    {
      "cell_type": "markdown",
      "source": [
        "### <a name=\"08q3b\">Question 3b</a>\n",
        "\n",
        "---\n",
        "\n",
        "Interpret the meaning of the value in [Question 3a](#question-3a), and\n",
        "give an estimate for the proportion of women in Israel who are legally\n",
        "underweight.\n",
        "\n",
        "#### <a name=\"08ans3b\">Solution to Question 3b</a>\n",
        "\n",
        "---\n",
        "\n",
        "<br>  \n",
        "<br>  \n",
        "<br>\n",
        "\n"
      ],
      "metadata": {
        "id": "wAONnVI2h4ja"
      },
      "id": "wAONnVI2h4ja"
    },
    {
      "cell_type": "markdown",
      "source": [
        "# <a name=\"08normal-pdf\">The Probability Density Function for Normal Distributions</a>\n",
        "\n",
        "---\n",
        "\n",
        "The probability density function for a normal distribution\n",
        "$X \\sim N(\\mu,\\sigma)$ is called a <font color=\"dodgerblue\">**Gaussian function**</font> whose formula is\n",
        "\n",
        "$$\\color{dodgerblue}{\\large f(x; \\mu, \\sigma) = \\frac{1}{\\sigma\\sqrt{2\\pi}} e^{-\\frac{1}{2} \\left( \\frac{x-\\mu}{\\sigma} \\right)^2}}.$$\n",
        "\n",
        "The formula for a Gaussian depends on both irrational numbers $\\pi$ and\n",
        "$e$. How surprising and cool is that!\n",
        "\n"
      ],
      "metadata": {
        "id": "qLpt5gU0h61D"
      },
      "id": "qLpt5gU0h61D"
    },
    {
      "cell_type": "markdown",
      "source": [
        "# <a name=\"08normal-area\">Calculating Areas Under Normal Distributions</a>\n",
        "\n",
        "---\n",
        "\n",
        "To find the probability that an adult woman in Israel has a BMI less\n",
        "than $18.5$, we need to calculate the area to the left of $x=18.5$ under\n",
        "the normal curve with formula $f(x; 26.5, 4.5)$. We can try to evaluate\n",
        "\n",
        "$$P(\\mbox{BMI} < 18.5) = \\int_{0}^{18.5} \\frac{1}{4.5\\sqrt{2\\pi}} e^{-\\frac{1}{2} \\left( \\frac{x-26.5}{4.5} \\right)^2} \\, dx$$\n",
        "\n",
        "YIKES, good luck with that! We cannot find a formula for the\n",
        "antiderivative of $f(x; 26.5, 4.5)$, so we need to find other methods\n",
        "for calculating this area.\n",
        "\n"
      ],
      "metadata": {
        "id": "qwlHXtH8h8vS"
      },
      "id": "qwlHXtH8h8vS"
    },
    {
      "cell_type": "markdown",
      "source": [
        "## <a name=\"08normal-table\">Using a Standard Normal Distribution Table</a>\n",
        "\n",
        "---\n",
        "\n",
        "A standard normal distribution table can be used to determine the areas\n",
        "under the standard normal distribution, $N(0,1)$. There are different\n",
        "variations of standard normal distributions. The table in the figure\n",
        "below gives the area under the standard normal distribution to the left\n",
        "of a given $z$-score. For example, if we want to determine what\n",
        "proportion of adult women in Israel have a BMI less than $18.5$:\n",
        "\n",
        "1.  Find the corresponding $z$-score of the BMI measurement $x=18.5$. In\n",
        "    [Question 3a](#question-3a), we determined $z \\approx -1.78$.\n",
        "2.  Look down the first column of the table and identify the row\n",
        "    corresponding to the $z$-score to one decimal place of accuracy,\n",
        "    $z=-1.7$\n",
        "3.  Identify the column corresponding to the second decimal place of the\n",
        "    $z$-score, $0.08$.\n",
        "4.  The area to the left of $z=-1.78$ is the value located at the\n",
        "    intersection of the row in step 2 and column in step 3.\n",
        "\n",
        "From the figure below, we have\n",
        "$P(X < 18.5) = P(Z < -1.78) \\approx 0.0375$.\n",
        "\n",
        "<figure>\n",
        "<img\n",
        "src=\"https://raw.githubusercontent.com/CU-Denver-MathStats-OER/Statistical-Theory/main/Images/08fig-normal-table.png\"\n",
        "style=\"width:70.0%\" alt=\"Using a Standard Normal Distribution Table\" />\n",
        "<figcaption aria-hidden=\"true\">Using a Standard Normal Distribution\n",
        "Table</figcaption>\n",
        "</figure>\n",
        "\n"
      ],
      "metadata": {
        "id": "W-AZ50OTh-RB"
      },
      "id": "W-AZ50OTh-RB"
    },
    {
      "cell_type": "markdown",
      "source": [
        "## <a name=\"08normal-R\">Using R to Compute Areas</a>\n",
        "\n",
        "---\n",
        "\n",
        "Standard normal distribution tables were very useful prior to spread\n",
        "statistical software and technology. If we are working in R, we do not\n",
        "need to use tables to get approximations. Instead, we can use R\n",
        "functions to compute these areas more accurately.\n",
        "\n",
        "Similar to binomial, geometric, and Poisson distributions, R has built\n",
        "in functions to perform calculations with normal distributions. In\n",
        "particular, the function `pnorm()` calculates values of the cumulative\n",
        "distribution function for a normal distribution:\n",
        "\n",
        "-   `pnorm(x, mean, sd)`$=P(X<x)$ gives the area to the left of $x$\n",
        "    under $N(\\mu,\\sigma)$.\n",
        "-   `pnorm(x, mean,  sd, lower.tail=FALSE)`$=P(X>x)$ gives the area to\n",
        "    the right of $x$ under $N(\\mu,\\sigma)$.\n",
        "\n",
        "Or you can find the $z$-score and use the standard normal distribution\n",
        "in R as well:\n",
        "\n",
        "-   `pnorm(z, 0, 1)`$=P(Z<z)$ gives the area to the left of $x$ under\n",
        "    $N(0,1)$.\n",
        "-   `pnorm(z, 0,  1, lower.tail=FALSE)`$=P(Z>z)$ gives the area to the\n",
        "    right of $x$ under $N(0,1)$.\n",
        "\n",
        "Do not use the function `dnorm(x, mean, sd)` to compute probabilities\n",
        "related to normal distribution since `dnorm()` returns the height of the\n",
        "probability density function. For continuous random variables,\n",
        "$P(X < x)$ is the area to the left of $x$, not the height of the\n",
        "function. Be sure to use `pnorm(x, mean, sd)` to compute $P(X < x)$.\n",
        "\n"
      ],
      "metadata": {
        "id": "qDU97cnEiAGD"
      },
      "id": "qDU97cnEiAGD"
    },
    {
      "cell_type": "markdown",
      "source": [
        "## <a name=\"08q4\">Question 4</a>\n",
        "\n",
        "---\n",
        "\n",
        "Use R to compute the proportion of adult women in Israel that have a BMI\n",
        "below $18.5$.\n",
        "\n",
        "### <a name=\"08sol4\">Solution to Question 4</a>\n",
        "\n",
        "---\n",
        "\n",
        "[1] Prasad Tharu B, Tsokos CP. *A Statistical Study of Serum Cholesterol\n",
        "Level by Gender and Race*. J Res Health Sci. 2017 Jul 25.\n",
        "\n",
        "[2] “Israel Passes Law Requiring Models to Show Health Records and Meet\n",
        "Weight Standards”, *New York Magazine* by Charlotte Cowles on April 20,\n",
        "2012"
      ],
      "metadata": {
        "id": "SyAYbp--iB4V"
      },
      "id": "SyAYbp--iB4V"
    },
    {
      "cell_type": "code",
      "execution_count": null,
      "metadata": {
        "id": "f11fb8b6-1584-4e66-9d38-2140b333c389"
      },
      "outputs": [],
      "source": [
        "# <a name=\"08\">use code cell to help with calculation"
      ],
      "id": "f11fb8b6-1584-4e66-9d38-2140b333c389"
    },
    {
      "cell_type": "markdown",
      "metadata": {
        "id": "df00d9c1-74a3-4ee2-95d2-191fe1259286"
      },
      "source": [
        "## <a name=\"08q5\">Question 5</a>\n",
        "\n",
        "---\n",
        "\n",
        "Intelligence quotient (IQ) scores are normally distributed. The mean IQ\n",
        "score is 100 points and the standard deviation is 16 points.\n",
        "\n"
      ],
      "id": "df00d9c1-74a3-4ee2-95d2-191fe1259286"
    },
    {
      "cell_type": "markdown",
      "source": [
        "### <a name=\"08q5a\">Question 5a</a>\n",
        "\n",
        "---\n",
        "\n",
        "What proportion of people have an IQ score above 116?\n",
        "\n",
        "#### <a name=\"08sol5a\">Solution to Question 5a</a>\n",
        "\n",
        "---\n",
        "\n",
        "<br>  \n",
        "<br>  \n",
        "<br>\n",
        "\n"
      ],
      "metadata": {
        "id": "GxSnGPdghB3o"
      },
      "id": "GxSnGPdghB3o"
    },
    {
      "cell_type": "markdown",
      "source": [
        "### <a name=\"08q5b\">Question 5b</a>\n",
        "\n",
        "---\n",
        "\n",
        "Marilyn vos Savant has been known to have the highest recorded IQ in the\n",
        "world. The $z$-score of her test result is $z=5.4$. What is her IQ\n",
        "score?\n",
        "\n",
        "#### <a name=\"08sol5b\">Solution to Question 5b</a>\n",
        "\n",
        "---\n",
        "\n",
        "<br>  \n",
        "<br>  \n",
        "<br>\n",
        "\n"
      ],
      "metadata": {
        "id": "nolDscMyhFZw"
      },
      "id": "nolDscMyhFZw"
    },
    {
      "cell_type": "markdown",
      "source": [
        "### <a name=\"08q5c\">Question 5c</a>\n",
        "\n",
        "---\n",
        "\n",
        "What proportion of people have an IQ score between 75 and 90?\n",
        "\n",
        "#### <a name=\"08sol5c\">Solution to Question 5c</a>\n",
        "\n",
        "---\n",
        "\n",
        "<br>  \n",
        "<br>  \n",
        "<br>\n",
        "\n"
      ],
      "metadata": {
        "id": "AYYLVoE-hHTr"
      },
      "id": "AYYLVoE-hHTr"
    },
    {
      "cell_type": "markdown",
      "source": [
        "### <a name=\"08q5d\">Question 5d</a>\n",
        "\n",
        "---\n",
        "\n",
        "What is the 90th percentile for IQ? In other words, find the IQ score\n",
        "such that 90% of the people score less than that score?\n",
        "\n",
        "See [Appendix: Summary of Common Continuous Random\n",
        "Variables](#appendix-summary-of-common-continuous-random-variables) for\n",
        "a summary of key formulas, graphs, shortcuts, and R functions for normal\n",
        "distributions.\n",
        "\n",
        "#### <a name=\"08sol5d\">Solution to Question 5d</a>\n",
        "\n",
        "---\n",
        "\n",
        "<br>  \n",
        "<br>  \n",
        "<br>\n",
        "\n"
      ],
      "metadata": {
        "id": "pVsEzZJOhIRo"
      },
      "id": "pVsEzZJOhIRo"
    },
    {
      "cell_type": "markdown",
      "source": [
        "# <a name=\"08unif\">Continuous Uniform Distribution</a>\n",
        "\n",
        "---\n",
        "\n",
        "If a continuous random variable is <font color=\"dodgerblue\">**uniformly distributed**</font> on the\n",
        "interval $\\lbrack a , b \\rbrack$, then the pdf is\n",
        "\n",
        "$$f(x; a, b) = \\left\\{ \\begin{array}{ll} \\frac{1}{b-a}, & a \\leq x \\leq b\\\\ 0, & \\mbox{otherwise} \\end{array} \\right. .$$\n",
        "\n"
      ],
      "metadata": {
        "id": "3cvRDODPhKLQ"
      },
      "id": "3cvRDODPhKLQ"
    },
    {
      "cell_type": "markdown",
      "source": [
        "## <a name=\"08q6\">Question 6</a>\n",
        "\n",
        "---\n",
        "\n",
        "Let continuous random variable $X$ be uniformly distributed over the\n",
        "closed interval $\\lbrack a , b \\rbrack$. Derive a formula for\n",
        "$\\mbox{Var}(X)$. Your answer will depend on parameters $a$ and $b$.\n",
        "\n",
        "### <a name=\"08sol6\">Solution to Question 6</a>\n",
        "\n",
        "---\n",
        "\n",
        "<br>  \n",
        "<br>  \n",
        "<br>\n",
        "\n",
        "See [Appendix: Summary of Common Continuous Random\n",
        "Variables](#appendix-summary-of-common-continuous-random-variables) for\n",
        "a summary of key formulas, graphs, shortcuts, and R functions for\n",
        "continuous uniform distributions.\n",
        "\n"
      ],
      "metadata": {
        "id": "pp-Z8puRhLo4"
      },
      "id": "pp-Z8puRhLo4"
    },
    {
      "cell_type": "markdown",
      "source": [
        "## <a name=\"08q7\">Question 7</a>\n",
        "\n",
        "---\n",
        "\n",
        "Let $X$ denote the time (in minutes) spent waiting for the next\n",
        "light-rail to arrive at Union Station. On a separate piece of paper,\n",
        "sketch a possible graph for the probability distribution function of\n",
        "$X$. Explain how you determined the shape of your graph.\n",
        "\n",
        "### <a name=\"08sol7\">Solution to Question 7</a>\n",
        "\n",
        "---\n",
        "\n",
        "<br>  \n",
        "<br>  \n",
        "<br>\n",
        "\n"
      ],
      "metadata": {
        "id": "Wne-nswChPy4"
      },
      "id": "Wne-nswChPy4"
    },
    {
      "cell_type": "markdown",
      "source": [
        "# <a name=\"08exp\">Exponential Distributions</a>\n",
        "\n",
        "---\n",
        "\n",
        "Distributions come in all shapes in and sizes. For example:\n",
        "\n",
        "-   Uniform distributions model situations in which each outcome has an\n",
        "    equally likely chance to occur.\n",
        "-   Normal distributions model distributions that are bell shaped.\n",
        "-   <font color=\"dodgerblue\">**Exponential distributions**</font>\n",
        "    are often useful when considering the length of time between\n",
        "    successive occurrences of an event.\n",
        "-   Most of the time, you do not need to wait very long for the next\n",
        "    light rail.\n",
        "-   As the wait time $x$ increases, it gets less and less likely that\n",
        "    the next train has not already arrived.\n",
        "-   The distribution is shaped like the graph of an exponential\n",
        "    function.\n",
        "\n",
        "See [Appendix: Summary of Common Continuous Random\n",
        "Variables](#appendix-summary-of-common-continuous-random-variables) for\n",
        "a summary of key formulas, graphs, shortcuts, and R functions for\n",
        "exponential distributions.\n",
        "\n"
      ],
      "metadata": {
        "id": "pe0YggGKhROV"
      },
      "id": "pe0YggGKhROV"
    },
    {
      "cell_type": "markdown",
      "source": [
        "## <a name=\"08q8\">Question 8</a>\n",
        "\n",
        "---\n",
        "\n",
        "At a 911 call center, calls come in at an average rate of one call every\n",
        "two minutes. Let $X$ denote the time that elapses from one call to the\n",
        "next, and assume $X$ has an exponential distribution. See [Appendix:\n",
        "Summary of Common Continuous Random\n",
        "Variables](#appendix-summary-of-common-continuous-random-variables) for\n",
        "useful properties of exponential distributions.\n",
        "\n"
      ],
      "metadata": {
        "id": "e2lV5_7uhSaP"
      },
      "id": "e2lV5_7uhSaP"
    },
    {
      "cell_type": "markdown",
      "source": [
        "### <a name=\"08q8a\">Question 8a</a>\n",
        "\n",
        "---\n",
        "\n",
        "Give a formula and sketch the graph of the pdf $f$ (on a separate piece\n",
        "of paper).\n",
        "\n",
        "#### <a name=\"08sol8a\">Solution to 8a</a>\n",
        "\n",
        "---\n",
        "\n",
        "<br>  \n",
        "<br>  \n",
        "<br>\n",
        "\n"
      ],
      "metadata": {
        "id": "5jc7FdhphUS4"
      },
      "id": "5jc7FdhphUS4"
    },
    {
      "cell_type": "markdown",
      "source": [
        "### <a name=\"08q8b\">Question 8b</a>\n",
        "\n",
        "---\n",
        "\n",
        "Find the probability that after a call is received, it takes more than\n",
        "three minutes for the next call to occur. Illustrate this value on your\n",
        "graph in [Question 8a](#question-8a).\n",
        "\n",
        "#### <a name=\"08sol8b\">Solution to 8b</a>\n",
        "\n",
        "---\n",
        "\n",
        "<br>  \n",
        "<br>  \n",
        "<br>\n",
        "\n"
      ],
      "metadata": {
        "id": "68H_rmfHhWOo"
      },
      "id": "68H_rmfHhWOo"
    },
    {
      "cell_type": "markdown",
      "source": [
        "### <a name=\"08q8c\">Question 8c</a>\n",
        "\n",
        "---\n",
        "\n",
        "Find a formula for the cdf, $F$.\n",
        "\n",
        "#### <a name=\"08sol8c\">Solution to 8c</a>\n",
        "\n",
        "---\n",
        "\n",
        "<br>  \n",
        "<br>  \n",
        "<br>\n",
        "\n"
      ],
      "metadata": {
        "id": "BOtMzR3nhYSe"
      },
      "id": "BOtMzR3nhYSe"
    },
    {
      "cell_type": "markdown",
      "source": [
        "### <a name=\"08q8d\">Question 8d</a>\n",
        "\n",
        "---\n",
        "\n",
        "Find a formula for the inverse of the cdf, $F^{-1}$.\n",
        "\n",
        "#### <a name=\"08sol8d\">Solution to 8d</a>\n",
        "\n",
        "---\n",
        "\n",
        "<br>  \n",
        "<br>  \n",
        "<br>\n",
        "\n"
      ],
      "metadata": {
        "id": "9nLlkoMdhZtx"
      },
      "id": "9nLlkoMdhZtx"
    },
    {
      "cell_type": "markdown",
      "source": [
        "### <a name=\"08q8e\">Question 8e</a>\n",
        "\n",
        "---\n",
        "\n",
        "Ninety-percent of all calls occur within how many minutes of the\n",
        "previous call? Hint: Use your previous answer in [Question\n",
        "8d](#question-8d).\n",
        "\n",
        "#### <a name=\"08sol8e\">Solution to 8e</a>\n",
        "\n",
        "---\n",
        "\n",
        "<br>  \n",
        "<br>  \n",
        "<br>\n",
        "\n"
      ],
      "metadata": {
        "id": "DP8LeEcshapw"
      },
      "id": "DP8LeEcshapw"
    },
    {
      "cell_type": "markdown",
      "source": [
        "### <a name=\"08q8f\">Question 8f</a>\n",
        "\n",
        "---\n",
        "\n",
        "Suppose that two minutes have elapsed since the last call. Find the\n",
        "probability that the next call will occur within the next minute.\n",
        "\n",
        "#### <a name=\"08sol8f\">Solution to 8f</a>\n",
        "\n",
        "---\n",
        "\n",
        "<br>  \n",
        "<br>  \n",
        "<br>\n",
        "\n"
      ],
      "metadata": {
        "id": "8cURUA4Rhbq2"
      },
      "id": "8cURUA4Rhbq2"
    },
    {
      "cell_type": "markdown",
      "source": [
        "# <a name=\"08append\">Appendix: Summary of Common Continuous Random Variables</a>\n",
        "\n",
        "---\n",
        "\n"
      ],
      "metadata": {
        "id": "LenQuOexg8n8"
      },
      "id": "LenQuOexg8n8"
    },
    {
      "cell_type": "markdown",
      "source": [
        "## <a name=\"08append-normal\">Normal Distributions</a>\n",
        "\n",
        "---\n",
        "\n",
        "If $X$ is <font color=\"dodgerblue\">**normally distributed**</font>\n",
        "with mean $\\mu$ and standard deviation $\\sigma$, we write\n",
        "$\\color{dodgerblue}{X \\sim N( \\mu ,\\sigma)}$. The formula for the\n",
        "probability density is called the Gaussian and is given below.\n",
        "\n",
        "$$f(x; \\mu, \\sigma) = \\dfrac{1}{\\sigma\\sqrt{2\\pi}} e^{-\\frac{1}{2} \\left( \\frac{x-\\mu}{\\sigma} \\right)^2}$$\n",
        "\n",
        "-   Expected value $E(X) = \\mu$.\n",
        "-   Variance $\\mbox{Var} (X) = \\sigma^2$.\n",
        "-   Use `dnorm(x, mu, sigma)` to calculate $f(x)$.\n",
        "    -   <font color=\"tomato\">Recall for continuous distributions,\n",
        "        $f(x)$ gives the height of the pdf.</font>\n",
        "    -   <font color=\"tomato\">Probabilities are areas under $f(x)$\n",
        "        (not the heights).</font>\n",
        "    -   <font color=\"tomato\">**DO NOT use `dnorm()` to compute\n",
        "        probabilities.**</font>\n",
        "-   <font color=\"mediumseagreen\">**Use `pnorm(x, mu, sigma)` to\n",
        "    calculate $P(X \\leq x)$, the area to the left of $X=x$.**</font>\n",
        "-   Use `rnorm(n, mu, sigma)` to generate a random sample of size $n$\n",
        "    from population $X \\sim N(mu, sigma)$.\n",
        "-   Use `qnorm(q, mu, sigma)` to find the q<sup>th</sup> percentile.\n",
        "-   We have the <font color=\"dodgerblue\">**68%-95%-99.5% Empirical\n",
        "    Rule**</font>.\n",
        "-   We can standardize the normal distribution using <font color=\"dodgerblue\">**z-scores**</font>:\n",
        "    $$z = \\frac{x - \\mu}{\\sigma}$$\n",
        "\n"
      ],
      "metadata": {
        "id": "pRIBrgG4g6w3"
      },
      "id": "pRIBrgG4g6w3"
    },
    {
      "cell_type": "markdown",
      "source": [
        "# <a name=\"08append-unif\">Continuous Uniform Distributions</a>\n",
        "\n",
        "---\n",
        "\n",
        "$X$ is a <font color=\"dodgerblue\">**continuous uniform\n",
        "distribution**</font> when $X$ is equally likely to equal to any value\n",
        "on the closed, continuous interval $\\lbrack a , b \\rbrack$. If a\n",
        "continuous random variable is uniformly distributed on the interval\n",
        "$\\lbrack a , b \\rbrack$, the pdf is\n",
        "\n",
        "$$f(x; a,b) = \\left\\{ \\begin{array}{ll} \\dfrac{1}{b-a} & a \\leq x \\leq b\\\\ 0 & \\mbox{otherwise} \\end{array} \\right. .$$\n",
        "\n",
        "The corresponding cdf is\n",
        "\n",
        "$$F(x) = \\left\\{ \\begin{array}{ll} \n",
        "0, &  x<a \\\\ \n",
        "\\frac{x-a}{b-a}, &  a \\leq x \\leq b \\\\ \n",
        "1,  &  x>b \n",
        "\\end{array} \\right. .$$\n",
        "\n",
        "-   $E(X) = \\dfrac{a+b}{2}$\n",
        "-   $\\mbox{Var}(X) = \\dfrac{(b-a)^2}{12}$\n",
        "-   When working with uniform distributions, it is typically easier to\n",
        "    calculate probabilities “by hand” without the need for technology.\n",
        "    However, R does have functions to help!\n",
        "-   Use `dunif(x, a, b)` to find the height of the pdf function, which\n",
        "    is $\\frac{1}{b-a}$.\n",
        "    -   There is really no need to use the function since the pdf has a\n",
        "        constant height.\n",
        "    -   <font color=\"tomato\">**DO NOT use `dunif()` to compute\n",
        "        probabilities.**</font>\n",
        "-   Use `punif(x, a, b)` to calculate\n",
        "    $P(X \\leq x)=\\int_a^x \\frac{1}{b-a} \\, dt = \\frac{x-a}{b-a}$.\n",
        "    -   **Probabilities can be found by computing areas of rectangles\n",
        "        which may be easier!**\n",
        "-   Use `runif(n, a, b)` to generate a random sample of size $n$ from\n",
        "    population $X \\sim \\mbox{Unif}(a, b)$.\n",
        "-   Use `qunif(q, a, b)` to find the q<sup>th</sup> percentile.\n",
        "\n"
      ],
      "metadata": {
        "id": "2Xlisczng2Qe"
      },
      "id": "2Xlisczng2Qe"
    },
    {
      "cell_type": "markdown",
      "source": [
        "## <a name=\"08append-exp\">Exponential Distributions</a>\n",
        "\n",
        "---\n",
        "\n",
        "Let $X$ be the amount of time between the successive events if we know\n",
        "the average time between occurrences is $\\mu$. The <font color=\"dodgerblue\">**rate parameter**\n",
        "$\\lambda = \\frac{1}{\\mu}$</font> is the average number of times the\n",
        "event occurs per unit of time. Then $X$ is <font color=\"dodgerblue\">**exponentially distributed**</font> with rate\n",
        "parameter $\\lambda$, and we write\n",
        "$\\color{dodgerblue}{X \\sim \\mbox{Exp} (\\lambda)}$.\n",
        "\n",
        "The pdf for $X \\sim \\mbox{Exp} (\\lambda)$ is the exponential function\n",
        "\n",
        "$$f(x; \\lambda) = \\lambda e^{-\\lambda x} \\quad \\mbox{for } x >0 .$$\n",
        "\n",
        "-   $E(X) = \\dfrac{1}{\\lambda}=\\mu$\n",
        "-   $\\mbox{Var}(X) = \\dfrac{1}{\\lambda^2} = \\mu^2$.\n",
        "-   Use `dexp(x, lambda)` to find the height of the pdf function, which\n",
        "    is $\\lambda e^{-\\lambda x}$.\n",
        "    -   <font color=\"tomato\">**DO NOT use `dexp()` to compute\n",
        "        probabilities.**</font>\n",
        "-   Use `pexp(x, lambda)` to calculate\n",
        "    $P(X \\leq x)=\\int_0^x \\lambda e^{-\\lambda t} \\, dt$.\n",
        "    -   It never hurts to practice your integration and check with\n",
        "        `pexp()`!\n",
        "-   Use `rexp(n, lambda)` to generate a random sample of size $n$ from\n",
        "    population $X \\sim \\mbox{Exp}(\\lambda)$.\n",
        "-   Use `qexp(q, lambda)` to find the q<sup>th</sup> percentile.\n",
        "\n"
      ],
      "metadata": {
        "id": "qRCrSG-fg32r"
      },
      "id": "qRCrSG-fg32r"
    },
    {
      "cell_type": "markdown",
      "source": [
        "## <a name=\"08append-gamma\">Gamma Distributions</a>\n",
        "\n",
        "---\n",
        "\n",
        "A <font color=\"dodgerblue\">**gamma distribution**</font> is a\n",
        "distribution that arises naturally in processes for which the waiting\n",
        "times between events are relevant. Suppose we know that $\\mu$ is the\n",
        "mean amount of time between successive occurrences of an event. Let $X$\n",
        "be the amount of time it takes for the event to occur $r$ times.\n",
        "\n",
        "-   The <font color=\"dodgerblue\">**rate parameter**</font>\n",
        "    $\\color{dodgerblue}{\\lambda = \\frac{1}{\\mu}}$ tells us how many\n",
        "    times an event occurs per unit of time.\n",
        "-   The <font color=\"dodgerblue\">**shape parameter**</font>\n",
        "    $\\color{dodgerblue}{r}$ denotes the total number of occurrences we\n",
        "    will wait to occur.\n",
        "\n",
        "Then $X$ will follow a gamma distribution that we denote\n",
        "$\\color{dodgerblue}{X \\sim \\mbox{Gamma} ( r, \\lambda)}$. The pdf is\n",
        "given by\n",
        "\n",
        "$$f(x;r, \\lambda) = \\frac{1}{(r-1)!} \\lambda^r x^{r-1} e^{-\\lambda x} \\quad \\mbox{for } x >0 .$$\n",
        "\n",
        "-   $E(X) = \\dfrac{r}{\\lambda}$\n",
        "-   $\\mbox{Var}(X) = \\dfrac{r}{\\lambda^2}$.\n",
        "-   Use `dgamma(x, r, lambda)` to find the height of the pdf function\n",
        "    which is generally not too useful.\n",
        "    -   <font color=\"tomato\">**DO NOT use `dgamma()` to compute\n",
        "        probabilities.**</font>\n",
        "-   Use `pgamma(x, r, lambda)` to calculate $P(X \\leq x)$.\n",
        "-   Use `rgamma(n, r, lambda)` to generate a random sample of size $n$\n",
        "    from population $X \\sim \\mbox{Gamma}(r, \\lambda)$.\n",
        "-   Use `qgamma(q, r, lambda)` to find the q<sup>th</sup> percentile."
      ],
      "metadata": {
        "id": "DZjDShqxgzu3"
      },
      "id": "DZjDShqxgzu3"
    },
    {
      "cell_type": "markdown",
      "metadata": {
        "id": "d7df2a85-e362-4e23-916d-f230b529bb54"
      },
      "source": [
        "# <a name=\"08\">Creative Commons License Information\n",
        "\n",
        "---\n",
        "\n",
        "![Creative Commons\n",
        "License](https://i.creativecommons.org/l/by-nc-sa/4.0/88x31.png)\n",
        "\n",
        "*Statistical Methods: Exploring the Uncertain* by [Adam Spiegler\n",
        "(University of Colorado\n",
        "Denver)](https://github.com/CU-Denver-MathStats-OER/Statistical-Theory)\n",
        "is licensed under a [Creative Commons\n",
        "Attribution-NonCommercial-ShareAlike 4.0 International\n",
        "License](http://creativecommons.org/licenses/by-nc-sa/4.0/). This work\n",
        "is funded by an [Institutional OER Grant from the Colorado Department of\n",
        "Higher Education\n",
        "(CDHE)](https://cdhe.colorado.gov/educators/administration/institutional-groups/open-educational-resources-in-colorado).\n",
        "\n",
        "For similar interactive OER materials in other courses funded by this\n",
        "project in the Department of Mathematical and Statistical Sciences at\n",
        "the University of Colorado Denver, visit\n",
        "<https://github.com/CU-Denver-MathStats-OER>."
      ],
      "id": "d7df2a85-e362-4e23-916d-f230b529bb54"
    }
  ],
  "nbformat": 4,
  "nbformat_minor": 5,
  "metadata": {
    "kernelspec": {
      "name": "ir",
      "display_name": "R",
      "language": "R"
    },
    "colab": {
      "provenance": []
    }
  }
}