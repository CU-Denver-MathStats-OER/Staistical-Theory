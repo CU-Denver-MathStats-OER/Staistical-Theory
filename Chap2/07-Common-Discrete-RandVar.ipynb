{
  "cells": [
    {
      "cell_type": "markdown",
      "metadata": {
        "id": "f64c07e8-5f10-460c-8dae-2a7001c73ab4"
      },
      "source": [
        "# 2.4: <a name=\"07\">Common Discrete Random Variables</a>\n",
        "\n",
        "------------------------------------------------------------------------\n",
        "\n",
        "In statistics, we are typically using data from a sample to make\n",
        "inferences about characteristics of a population. We want to may have\n",
        "claims or questions to test. We may want to estimate some\n",
        "characteristics or <span style=\"color:dodgerblue\">**parameters**</span>\n",
        "of the population. By identifying patterns in the sample data and\n",
        "applying probability, we can build theoretical models to inform\n",
        "predictions about the population. These predictions depend on the level\n",
        "of uncertainty due to sampling, that may be flawed, biased, or simply\n",
        "unlikely. Data and models come in all shapes and levels of complexity.\n",
        "\n",
        "We will take a look at several of the most common and useful\n",
        "distributions when working with discrete random variables, such as\n",
        "counting the frequency of occurrences in certain classes of categorical\n",
        "variables. There are many more distributions for discrete random\n",
        "variables, some of which we will see later!\n",
        "\n",
        "# <a name=\"07\">A Case Study in Randomness: Jury Duty</a>\n",
        "\n",
        "------------------------------------------------------------------------\n",
        "\n",
        "<figure>\n",
        "<img\n",
        "src=\"https://live.staticflickr.com/7066/6882839119_0bbfbe8773_w.jpg\"\n",
        "alt=\"Illustration by Eric Molinsky from the &lt;a http://www.cali.org/&gt;CALI Lesson “Trial Practice, Bringing it to the Jury and Beyond.” CC BY-NC-SA 2.0\" />\n",
        "<figcaption aria-hidden=\"true\">Illustration by Eric Molinsky from the\n",
        "&lt;a <a href=\"http://www.cali.org/\"\n",
        "class=\"uri\">http://www.cali.org/</a>&gt;CALI</a> Lesson “Trial Practice,\n",
        "Bringing it to the Jury and Beyond.”\n",
        "<a href=\"https://creativecommons.org/licenses/by-nc-sa/2.0/\">CC BY-NC-SA\n",
        "2.0</a></figcaption>\n",
        "</figure>\n",
        "\n",
        "The jury plays the most crucial role in a trial, they determine how\n",
        "cases are ultimately resolved. The jury serves as an impartial reviewer\n",
        "of the facts presented in criminal and civil cases. The goal of randomly\n",
        "selecting the jury is to remove the bias in the jury selection process.\n",
        "\n",
        "> How can we measure whether a jury that has been selected is\n",
        "> “representative”?\n",
        "\n",
        "A random sample of 12 adults cannot be a perfect representative of the\n",
        "population in all ways. No two distinct random samples of 12 adults is\n",
        "going to be same, yet we hope different juries would rule similarly\n",
        "based on the same set of facts if they are truly impartial. The jury\n",
        "system plays a vital role in the system of justice in the United States,\n",
        "and randomness plays a central role in helping reduce bias in court\n",
        "rulings.\n",
        "\n",
        "## <a name=\"07\">How Jurors Are Selected</a>\n",
        "\n",
        "------------------------------------------------------------------------\n",
        "\n",
        "The federal judicial branch in the United States decides the\n",
        "constitutionality of federal laws and resolves disputes about federal\n",
        "laws. The federal court system is divided into 94 district courts. The\n",
        "US District Court in the District of Colorado randomly selects jurors\n",
        "from voter registration lists, driver license records, and state-issued\n",
        "adult identification records, by a computerized method. Below is an\n",
        "explanation of how juries are chosen in the District of Colorado. See\n",
        "[The District of Colorado Juror\n",
        "Information](http://www.cod.uscourts.gov/JurorInformation/HowJurorsAreSelected.aspx)\n",
        "for full details.\n",
        "\n",
        "> “This selection process creates the court’s”Master Jury Wheel”. (This\n",
        "> term originated in the days when names were placed into a large\n",
        "> barrel-type wheel and turned around to mix them up. Today, computers\n",
        "> are used to select names randomly.) From the “Master Jury Wheel,”\n",
        "> jurors are randomly selected for a one month term of service or\n",
        "> occasionally longer depending on the court’s jury needs.”\n",
        "\n",
        "## <a name=\"07\">Question 1</a>\n",
        "\n",
        "------------------------------------------------------------------------\n",
        "\n",
        "Consider the selection of a jury of 5 people. We want to see whether the\n",
        "jury is representative in terms of political party. Note we initially\n",
        "choose a jury of 5 people to more quickly recognize a pattern. After\n",
        "identifying a pattern, we can extend our results to juries of 12 people.\n",
        "Let $Y$ denote a jury member who identifies as an independent voter. Let\n",
        "$N$ denote a jury member who is not independent (identify as Democrat,\n",
        "Republican, or with another political party).\n",
        "\n",
        "-   There is one possible outcome in the event: 0 people on the jury\n",
        "    identify an Independent.\n",
        "-   We can represent that outcome as NNNNN.\n",
        "\n",
        "1.  List all possible outcomes in the event: Exactly 1 out of 5 jurors\n",
        "    is independent.\n",
        "\n",
        "2.  List all possible outcomes in the event: Exactly 2 out of 5 jurors\n",
        "    are independent.\n",
        "\n",
        "### <a name=\"07\">Solution to Question 1</a>\n",
        "\n",
        "------------------------------------------------------------------------\n",
        "\n",
        "1.  \n",
        "\n",
        "<br>\n",
        "\n",
        "1.  \n",
        "\n",
        "<br>  \n",
        "<br>\n",
        "\n",
        "# <a name=\"07\">Counting Outcomes</a>\n",
        "\n",
        "------------------------------------------------------------------------\n",
        "\n",
        "Consider a district with $n$ people eligible for jury duty. On the first\n",
        "of each month the court chooses a new pool of $k$ people from which\n",
        "juries will be selected. How many different juries can be selected?\n",
        "\n",
        "-   There are $n$ possible people that can be chosen first.\n",
        "-   Then there are $n-1$ remaining possible people that can be selected\n",
        "    as person 2.\n",
        "-   Then there are $n-2$ remaining possible people that can be selected\n",
        "    as person 3.\n",
        "-   And so until there are $n-(k-1)$ remaining people to select person\n",
        "    $k$.\n",
        "\n",
        "$$\\begin{array}{lclclcccl}\n",
        "\\mbox{choice 1} & & \\mbox{choice 2} &  & \\mbox{choice 3}  & & & & \\mbox{choice k} \\\\\n",
        " n & \\times & (n-1) & \\times  & (n-2) & \\times & \\ldots & \\times & (n-(k-1)) \n",
        " \\end{array}\n",
        " = \\frac{n!}{(n-k)!}.$$\n",
        "\n",
        "Note the <span style=\"color:dodgerblue\">**factorial**</span> of a\n",
        "non-negative integer $n$ is denoted $\\color{dodgerblue}{n!}$ and is the\n",
        "product of all positive integers less than or equal to $n$:\n",
        "\n",
        "$$\\color{dodgerblue}{n! = n \\times (n-1) \\times (n-2) \\times \\ldots \\times 3 \\times 2 \\times 1}$$\n",
        "\n",
        "## <a name=\"07\">Ignoring the Order of Selection: N Choose K</a>\n",
        "\n",
        "------------------------------------------------------------------------\n",
        "\n",
        "If we want to count the total number of possible jury pools, and we do\n",
        "not care about the order in which the people are selected, then we want\n",
        "to count the number of\n",
        "<span style=\"color:dodgerblue\">**combinations**</span>.\n",
        "\n",
        "-   First count the possible outcomes as we illustrated above, taking\n",
        "    into account the order in which the jury is selected.\n",
        "-   Then we take into account ordering using the result that there are\n",
        "    $k!$ ways of permuting the order of the $k$ people selected.\n",
        "\n",
        "Thus, the number of combinations of $k$ items out of a set of $n$,\n",
        "denoted $_nC_k$ also referred to as $n$ choose $k$, is\n",
        "\n",
        "$$\\color{dodgerblue}{\\begin{pmatrix} n \\\\ k \\end{pmatrix} = \\frac{n!}{k! (n-k)!}.}$$\n",
        "\n",
        "### <a name=\"07\">Why Divide By $k!$?</a>\n",
        "\n",
        "------------------------------------------------------------------------\n",
        "\n",
        "Where does $k!$ possible ways of permuting the order come from?\n",
        "\n",
        "-   The <span style=\"color:dodgerblue\">**symmetric group**</span>\n",
        "    $\\color{dodgerblue}{S_k}$ on $k$ items consists of all the possible\n",
        "    ways of permuting the order of the $k$ items.\n",
        "    -   The number of elements in the group is called the\n",
        "        <span style=\"color:dodgerblue\">**order of the group**</span>,\n",
        "        $\\color{dodgerblue}{|S_k|=k!}$.\n",
        "    -   For example, $S_3$ has $|S_3|=3!=6$ elements that can be\n",
        "        represented as $(1,2,3)$, $(1,3,2)$, $(2, 1, 3)$, $(2, 3, 1)$,\n",
        "        $(3, 2, 1)$, and $(3, 1, 2)$.\n",
        "        -   Each element corresponds to a permutation applied to the\n",
        "            group of 3 items.\n",
        "            -   $(1,2,3)$ is the identity element which does not change\n",
        "                the ordering of items $1, 2, 3$.\n",
        "            -   $(1, 3, 2)$ is the transpose of items 2 and 3.\n",
        "        -   We can use the composition of two permutations to define an\n",
        "            operation between elements in the group.\n",
        "            -   Transpose of 3 and 2 followed by transpose of 1 and 2\n",
        "                gives $(3, 1, 2)$\n",
        "            -   The operation of composition satisfies the conditions\n",
        "                for being a group.\n",
        "\n",
        "## <a name=\"07\">Question 2</a>\n",
        "\n",
        "------------------------------------------------------------------------\n",
        "\n",
        "Use the formula for $n$ choose $k$ to calculate the total number of\n",
        "outcomes in the event: Exactly 2 out of 5 jurors are independent.\n",
        "\n",
        "-   Hint: The function `factorial(x)` calculates $x!$ for a non-negative\n",
        "    integer $x$.\n",
        "\n",
        "### <a name=\"07\">Solution to Question 2</a>\n",
        "\n",
        "------------------------------------------------------------------------"
      ],
      "id": "f64c07e8-5f10-460c-8dae-2a7001c73ab4"
    },
    {
      "cell_type": "code",
      "execution_count": null,
      "metadata": {
        "id": "85868c48-a987-4c04-a95e-22a4ff469ea3"
      },
      "outputs": [],
      "source": [
        "# solution using factorial(x)"
      ],
      "id": "85868c48-a987-4c04-a95e-22a4ff469ea3"
    },
    {
      "cell_type": "markdown",
      "metadata": {
        "id": "82d25985-7df0-4de8-96f5-9403d42a1e58"
      },
      "source": [
        "<br>\n",
        "\n",
        "-   An Even Better Hint: The function `choose(n, k)` calculates\n",
        "    $\\begin{pmatrix} n \\\\ k \\end{pmatrix}$ non-negative integers $n$ and\n",
        "    $k$."
      ],
      "id": "82d25985-7df0-4de8-96f5-9403d42a1e58"
    },
    {
      "cell_type": "code",
      "execution_count": null,
      "metadata": {
        "id": "853046c6-2fdd-4eca-8b86-b7555b4f1e72"
      },
      "outputs": [],
      "source": [
        "# solution using choose(n, k)"
      ],
      "id": "853046c6-2fdd-4eca-8b86-b7555b4f1e72"
    },
    {
      "cell_type": "markdown",
      "metadata": {
        "id": "ac2f6fb5-05a9-4da1-a2c1-953810a4500e"
      },
      "source": [
        "<br>  \n",
        "<br>\n",
        "\n",
        "# <a name=\"07\">Using Random Variables</a>\n",
        "\n",
        "------------------------------------------------------------------------\n",
        "\n",
        "Recall random variables map outcomes in a sample space to a subset of\n",
        "the real numbers. In this example, an outcome is a randomly selected\n",
        "jury of 5 people. We define random variable $X$ to be the number of\n",
        "independent voters on a randomly selected jury of 5 people. For example,\n",
        "we have:\n",
        "\n",
        "-   The outcome NNNNN is mapped to $X=0$.\n",
        "-   The outcome YNNNN is mapped to $X=1$.\n",
        "-   The outcome NNNYN is also mapped to $X=1$.\n",
        "-   The outcome YNNYN is mapped to $X=2$.\n",
        "\n",
        "We map each outcome to an integer $X$, and then we can compute values of\n",
        "the corresponding probability mass function (pmf) $p(x) = P(X=x)$.\n",
        "\n",
        "## <a name=\"07\">Question 3</a>\n",
        "\n",
        "------------------------------------------------------------------------\n",
        "\n",
        "According to a recent article [“Why Independent Voters Are Key To\n",
        "Winning Colorado”, PBS News. Oct 3,\n",
        "2020](https://www.pbs.org/newshour/show/why-independent-voters-are-key-to-winning-colorado),\n",
        "approximately 42% of Colorado’s voters identify as independent.\n",
        "\n",
        "In solving [Question 2](#07q2), there is a general pattern we can model\n",
        "to compute the probability of choose exactly $x$ jurors that identify as\n",
        "an independent voters in a jury of 5 people.\n",
        "\n",
        "### <a name=\"07\">Question 3a</a>\n",
        "\n",
        "------------------------------------------------------------------------\n",
        "\n",
        "What is the probability of randomly selecting a jury of 12 people with\n",
        "exactly 0 jurors that identify as an independent voter?\n",
        "\n",
        "#### <a name=\"07\">Solution to Question 3a</a>\n",
        "\n",
        "------------------------------------------------------------------------"
      ],
      "id": "ac2f6fb5-05a9-4da1-a2c1-953810a4500e"
    },
    {
      "cell_type": "code",
      "execution_count": null,
      "metadata": {
        "id": "e03b4020-4edd-4b00-9dd6-1034eaf442d2"
      },
      "outputs": [],
      "source": [
        "# Use R to help compute P(X=0)"
      ],
      "id": "e03b4020-4edd-4b00-9dd6-1034eaf442d2"
    },
    {
      "cell_type": "markdown",
      "metadata": {
        "id": "243ab9d0-2443-427e-89d6-78c4b3ad5b98"
      },
      "source": [
        "### <a name=\"07\">Question 3b</a>\n",
        "\n",
        "------------------------------------------------------------------------\n",
        "\n",
        "What is the probability of randomly selecting a jury of 12 people with\n",
        "exactly 1 juror that identify as an independent voter?\n",
        "\n",
        "#### <a name=\"07\">Solution to Question 3b</a>\n",
        "\n",
        "------------------------------------------------------------------------"
      ],
      "id": "243ab9d0-2443-427e-89d6-78c4b3ad5b98"
    },
    {
      "cell_type": "code",
      "execution_count": null,
      "metadata": {
        "id": "033bf04e-24ff-4202-9f66-80142e848ac1"
      },
      "outputs": [],
      "source": [
        "# Use R to help compute P(X=1)"
      ],
      "id": "033bf04e-24ff-4202-9f66-80142e848ac1"
    },
    {
      "cell_type": "markdown",
      "metadata": {
        "id": "1f3af0c9-5d9d-4738-882e-d31b577cc739"
      },
      "source": [
        "### <a name=\"07\">Question 3c</a>\n",
        "\n",
        "------------------------------------------------------------------------\n",
        "\n",
        "What is the probability of randomly selecting a jury of 12 people with\n",
        "exactly 2 jurors that identify as independent voters?\n",
        "\n",
        "#### <a name=\"07\">Solution to Question 3c</a>\n",
        "\n",
        "------------------------------------------------------------------------"
      ],
      "id": "1f3af0c9-5d9d-4738-882e-d31b577cc739"
    },
    {
      "cell_type": "code",
      "execution_count": null,
      "metadata": {
        "id": "f674a225-2021-43b3-aaa5-472c755623c5"
      },
      "outputs": [],
      "source": [
        "# Use R to help compute P(X=2)"
      ],
      "id": "f674a225-2021-43b3-aaa5-472c755623c5"
    },
    {
      "cell_type": "markdown",
      "metadata": {
        "id": "eebb90ca-2d48-4dbd-91c1-c06ec3fceb15"
      },
      "source": [
        "### <a name=\"07\">Question 3d</a>\n",
        "\n",
        "------------------------------------------------------------------------\n",
        "\n",
        "What is the probability of randomly selecting a jury of 12 people with\n",
        "at most 2 jurors that identify as independent voters?\n",
        "\n",
        "#### <a name=\"07\">Solution to Question 3d</a>\n",
        "\n",
        "------------------------------------------------------------------------"
      ],
      "id": "eebb90ca-2d48-4dbd-91c1-c06ec3fceb15"
    },
    {
      "cell_type": "code",
      "execution_count": null,
      "metadata": {
        "id": "56d48beb-1923-4812-81bd-2546e35b848b"
      },
      "outputs": [],
      "source": [
        "# Use R to help compute probability X is at most 2"
      ],
      "id": "56d48beb-1923-4812-81bd-2546e35b848b"
    },
    {
      "cell_type": "markdown",
      "metadata": {
        "id": "e0e100b6-826d-46df-91bd-4bf920f45c89"
      },
      "source": [
        "### <a name=\"07\">Question 3e</a>\n",
        "\n",
        "------------------------------------------------------------------------\n",
        "\n",
        "What is the probability of randomly selecting a jury of 12 people with\n",
        "at least 2 jurors that identify as independent voters?\n",
        "\n",
        "#### <a name=\"07\">Solution to Question 3e</a>\n",
        "\n",
        "------------------------------------------------------------------------"
      ],
      "id": "e0e100b6-826d-46df-91bd-4bf920f45c89"
    },
    {
      "cell_type": "code",
      "execution_count": null,
      "metadata": {
        "id": "ce01c0db-39d2-4362-a5ec-b00e5af5ad12"
      },
      "outputs": [],
      "source": [
        "# Use R to help compute probability X is at least 2"
      ],
      "id": "ce01c0db-39d2-4362-a5ec-b00e5af5ad12"
    },
    {
      "cell_type": "markdown",
      "metadata": {
        "id": "c5d8e785-b8af-48a8-8d9a-2be1d2f42173"
      },
      "source": [
        "## <a name=\"07\">Question 4</a>\n",
        "\n",
        "------------------------------------------------------------------------\n",
        "\n",
        "A jury of 12 people is randomly selected from a population that is 42%\n",
        "independent voters. Let random variable $X$ denote the number of jurors\n",
        "that identify as an independent voter.\n",
        "\n",
        "### <a name=\"07\">Question 4a</a>\n",
        "\n",
        "------------------------------------------------------------------------\n",
        "\n",
        "Using your answers to [Question 3](#07q3), give the values for\n",
        "$p(0)=P(X=0)$, $p(1)=P(X=1)$, $p(2)=P(X=2)$, and $F(2) = P(X \\leq 2)$.\n",
        "\n",
        "#### <a name=\"07\">Solution to Question 4a</a>\n",
        "\n",
        "------------------------------------------------------------------------\n",
        "\n",
        "-   \\$p(0) = \\$??\n",
        "\n",
        "-   \\$p(1) = \\$??\n",
        "\n",
        "-   \\$p(2) = \\$??\n",
        "\n",
        "-   \\$F(2) = \\$??\n",
        "\n",
        "<br>  \n",
        "<br>\n",
        "\n",
        "### <a name=\"07\">Question 4b</a>\n",
        "\n",
        "------------------------------------------------------------------------\n",
        "\n",
        "Give a possible formula for the pmf of $X$, $p(x)=P(X=x)$.\n",
        "\n",
        "#### <a name=\"07\">Solution to Question 4b</a>\n",
        "\n",
        "------------------------------------------------------------------------\n",
        "\n",
        "A formula has been partially completed. Fill in the missing parts.\n",
        "\n",
        "$$P(X=x) = \\begin{pmatrix} ?? \\\\ ?? \\end{pmatrix} (0.42)^{??} (1-0.42)^{??}$$\n",
        "\n",
        "<br>  \n",
        "<br>\n",
        "\n",
        "# <a name=\"07\">The Binomial Distribution</a>\n",
        "\n",
        "------------------------------------------------------------------------\n",
        "\n",
        "## <a name=\"07\">A Trial with Two Possible Outcomes</a>\n",
        "\n",
        "------------------------------------------------------------------------\n",
        "\n",
        "A <span style=\"color:dodgerblue\">**Bernoulli trial**</span> is an\n",
        "experiment that has <span style=\"color:dodgerblue\">**exactly two\n",
        "possible outcomes**</span>:\n",
        "\n",
        "-   The probability that the outcome of a trial is a\n",
        "    <span style=\"color:dodgerblue\">success</span>\n",
        "    ($\\color{dodgerblue}{X=1}$) is denoted $\\color{dodgerblue}{p}$.\n",
        "-   Otherwise, the probability of a\n",
        "    <span style=\"color:tomato\">failure</span> ($\\color{tomato}{X=0}$) is\n",
        "    $\\color{tomato}{q=1-p}$.\n",
        "-   $X$ has a <span style=\"color:dodgerblue\">**Bernoulli\n",
        "    Distribution**</span> with probability mass function\n",
        "\n",
        "$$f(x) = \\left\\{ \\begin{array}{ll}\n",
        "p^x(1-p)^{1-x} & \\mbox{for } x \\in \\left\\{ 0, 1 \\right \\} \\\\\n",
        "0 , & \\mbox{otherwise}\n",
        "\\end{array} \\right.$$\n",
        "\n",
        "## <a name=\"07\">A Formula for the Binomial Distribution</a>\n",
        "\n",
        "------------------------------------------------------------------------\n",
        "\n",
        "Let random variable $X$ be the number of successes out of $n$ trials,\n",
        "where <span style=\"color:dodgerblue\">**each trial is identical and\n",
        "independent**</span>.\n",
        "\n",
        "-   $X$ has a <span style=\"color:dodgerblue\">**Binomial\n",
        "    Distribution**</span>, written $X \\sim \\mbox{Binomial}(n,p)$.\n",
        "-   The probability mass function is\n",
        "\n",
        "$$f(x) = \\left\\{ \\begin{array}{ll}\n",
        "\\left( \\begin{array}{c} n\\\\ x \\end{array} \\right) p^x(1-p)^{n-x} & \\mbox{for } x =0,1,2, \\ldots , n \\\\\n",
        "0 & \\mbox{otherwise} \n",
        "\\end{array} \\right. $$\n",
        "\n",
        "#### <a name=\"07\">Optional LaTeX Notes: Typsetting Arrays</a>\n",
        "\n",
        "------------------------------------------------------------------------\n",
        "\n",
        "-   The `array` environment is started with `\\begin{array}`\n",
        "-   Then we indicate how many columns by how each each is aligned.\n",
        "    -   `{ll}` means two columns aligned to the left.\n",
        "    -   `{lrc}` would be three columns the first aligned left, then\n",
        "        right, then the last is centered,\n",
        "    -   We use the `&` symbol to indicate a column break.\n",
        "    -   We use `\\\\` to indicate a row break.\n",
        "-   If we want a big curly brace on the left of the array, enter\n",
        "    `\\left\\{` before beginning the array.\n",
        "-   We do not want a brace on the other side of the array, so we right\n",
        "    `\\right.` to close off the left brace without using any symbol on\n",
        "    the right.\n",
        "-   We use `\\mbox{otherwise}` to type the text *otherwise* inside the\n",
        "    equation.\n",
        "-   In the LaTeX formulas below, we change the font color to blue with\n",
        "    `\\color{dodgerblue}{enter formula}`\n",
        "\n",
        "## <a name=\"07\">Expected Value and Variance of Binomial Distributions</a>\n",
        "\n",
        "------------------------------------------------------------------------\n",
        "\n",
        "-   The **expected value** can be calculated with the shortcut\n",
        "    $\\color{dodgerblue}{E(X) = np}$.\n",
        "-   The **variance** can be calculated with the shortcut\n",
        "    $\\color{dodgerblue}{\\mbox{Var}(X) = npq}$.\n",
        "\n",
        "## <a name=\"07\">Binomial Distribution Functions in R</a>\n",
        "\n",
        "------------------------------------------------------------------------\n",
        "\n",
        "In R, the we can use the functions:\n",
        "\n",
        "-   `dbinom(x, n, p)` calculates the probability of\n",
        "    <span style=\"color:dodgerblue\">exactly $x$ successes</span> out $n$\n",
        "    trials, $\\color{dodgerblue}{P(X=x)}$.\n",
        "-   `pbinom(x, n, p)` calculates the probability of\n",
        "    <span style=\"color:tomato\">at most $x$ successes</span> out $n$\n",
        "    trials, $\\color{tomato}{P(X \\leq x)}$.\n",
        "-   `rbinom(m, n, p)` <span style=\"color:dodgerblue\">randomly\n",
        "    sample</span> $m$ values from $X \\sim \\mbox{Binom}(\\mbox{size}, p)$\n",
        "    (with replacement).\n",
        "-   `qbinom(q, n, p)` compute the\n",
        "    <span style=\"color:dodgerblue\">q<sup>th</sup> quantile</span>.\n",
        "\n"
      ],
      "id": "c5d8e785-b8af-48a8-8d9a-2be1d2f42173"
    },
    {
      "cell_type": "code",
      "source": [
        "x <- 0:20  # vector of values 1, 2, ..., 20\n",
        "\n",
        "# plot pmf n=40 and p = 0.25\n",
        "plot(x, dbinom(x, size=40, prob=0.25), \n",
        "     type='p')  # point plot\n",
        "\n",
        "# plot cdf n=40 and p = 0.25\n",
        "plot(x ,pbinom(x, size=40, prob=0.25),\n",
        "     type='s',  # stairs plot\n",
        "     main='X ~ Binom(40, 0.25)',\n",
        "     ylab='Probability',\n",
        "     xlab ='At most x Successes',\n",
        "     lwd=3)"
      ],
      "metadata": {
        "id": "oFtVH5750AkI",
        "outputId": "cfdb908b-f973-40d4-8408-8ebb0b5378f6",
        "colab": {
          "base_uri": "https://localhost:8080/",
          "height": 857
        }
      },
      "id": "oFtVH5750AkI",
      "execution_count": 4,
      "outputs": [
        {
          "output_type": "display_data",
          "data": {
            "text/plain": [
              "plot without title"
            ],
            "image/png": "[encoded data removed]"
          },
          "metadata": {
            "image/png": {
              "width": 420,
              "height": 420
            }
          }
        },
        {
          "output_type": "display_data",
          "data": {
            "text/plain": [
              "Plot with title “X ~ Binom(40, 0.25)”"
            ],
            "image/png": "[encoded data removed]"
          },
          "metadata": {
            "image/png": {
              "width": 420,
              "height": 420
            }
          }
        }
      ]
    },
    {
      "cell_type": "markdown",
      "source": [
        "## <a name=\"07\">Question 5</a>\n",
        "\n",
        "------------------------------------------------------------------------\n",
        "\n",
        "Suppose a manufacturer of electronic chargers knows that 5% of the\n",
        "chargers it produces are defective. The manufacturer sends a shipment of\n",
        "20 randomly selected chargers to a customer. Write an R command to\n",
        "compute the probability of the event.\n",
        "\n",
        "### <a name=\"07\">Question 5a</a>\n",
        "\n",
        "------------------------------------------------------------------------\n",
        "\n",
        "All 20 chargers sent are good (not defective).\n",
        "\n",
        "#### <a name=\"07\">Solution to Question 5a</a>\n",
        "\n",
        "------------------------------------------------------------------------"
      ],
      "metadata": {
        "id": "VvuVbvLKz-OK"
      },
      "id": "VvuVbvLKz-OK"
    },
    {
      "cell_type": "code",
      "execution_count": null,
      "metadata": {
        "id": "089593ab-5125-4e13-b1fb-88bb31f30f10"
      },
      "outputs": [],
      "source": [
        "# solution to 5a"
      ],
      "id": "089593ab-5125-4e13-b1fb-88bb31f30f10"
    },
    {
      "cell_type": "markdown",
      "metadata": {
        "id": "4dd01ac0-65aa-48cf-b881-033576389962"
      },
      "source": [
        "### <a name=\"07\">Question 5b</a>\n",
        "\n",
        "------------------------------------------------------------------------\n",
        "\n",
        "At most 18 batteries are good.\n",
        "\n",
        "#### <a name=\"07\">Solution to Question 5b</a>\n",
        "\n",
        "------------------------------------------------------------------------"
      ],
      "id": "4dd01ac0-65aa-48cf-b881-033576389962"
    },
    {
      "cell_type": "code",
      "execution_count": null,
      "metadata": {
        "id": "01a02cb5-7348-4237-8f07-7e081648cbd6"
      },
      "outputs": [],
      "source": [
        "# solution to 5b"
      ],
      "id": "01a02cb5-7348-4237-8f07-7e081648cbd6"
    },
    {
      "cell_type": "markdown",
      "metadata": {
        "id": "496b3f59-650c-474c-ae90-909cfd1adcc2"
      },
      "source": [
        "### <a name=\"07\">Question 5c</a>\n",
        "\n",
        "------------------------------------------------------------------------\n",
        "\n",
        "At most 2 batteries are defective.\n",
        "\n",
        "#### <a name=\"07\">Solution to Question 5c</a>\n",
        "\n",
        "------------------------------------------------------------------------"
      ],
      "id": "496b3f59-650c-474c-ae90-909cfd1adcc2"
    },
    {
      "cell_type": "code",
      "execution_count": null,
      "metadata": {
        "id": "e8aa006d-6ee3-42f5-a527-2c7ba2782e2f"
      },
      "outputs": [],
      "source": [
        "# solution to 5c"
      ],
      "id": "e8aa006d-6ee3-42f5-a527-2c7ba2782e2f"
    },
    {
      "cell_type": "markdown",
      "metadata": {
        "id": "2e4a9c6e-abe8-48fb-91ef-cdb945cde295"
      },
      "source": [
        "# <a name=\"07\">The Discrete Uniform Distribution</a>\n",
        "\n",
        "------------------------------------------------------------------------\n",
        "\n",
        "## <a name=\"07\">Question 6</a>\n",
        "\n",
        "------------------------------------------------------------------------\n",
        "\n",
        "Let $X$ be the value of the result of rolling a fair six-sided die.\n",
        "\n",
        "### <a name=\"07\">Question 6a</a>\n",
        "\n",
        "------------------------------------------------------------------------\n",
        "\n",
        "Write out the probability mass function $f(x)$.\n",
        "\n",
        "#### <a name=\"07\">Solution to Question 6a</a>\n",
        "\n",
        "------------------------------------------------------------------------\n",
        "\n",
        "<br>\n",
        "\n",
        "$$f(x) = \\left\\{ \\begin{array}{ll} \n",
        "?? & x = 1, 2, 3, 4, 5, 6 \\\\\n",
        "0 & \\mbox{otherwise} \n",
        "\\end{array} \\right.$$\n",
        "\n",
        "<br>  \n",
        "<br>\n",
        "\n",
        "### <a name=\"07\">Question 6b</a>\n",
        "\n",
        "------------------------------------------------------------------------\n",
        "\n",
        "What is the expected value of rolling a fair-six sided die?\n",
        "\n",
        "#### <a name=\"07\">Solution to Question 6b</a>\n",
        "\n",
        "------------------------------------------------------------------------\n",
        "\n",
        "<br>  \n",
        "<br>  \n",
        "<br>\n",
        "\n",
        "### <a name=\"07\">Question 6c</a>\n",
        "\n",
        "------------------------------------------------------------------------\n",
        "\n",
        "What is the expected value of rolling a fair die with sides\n",
        "$1, 2, 3, \\ldots , k$? *Hint: Recall the sum of the first $k$ integers\n",
        "is $\\displaystyle \\sum_{n=1}^k n = \\frac{k(k+1)}{2}$*.\n",
        "\n",
        "#### <a name=\"07\">Solution to Question 6c</a>\n",
        "\n",
        "------------------------------------------------------------------------\n",
        "\n",
        "<br>  \n",
        "<br>  \n",
        "<br>\n",
        "\n",
        "**See [Appendix: Summary of Common Discrete Random\n",
        "Variables](#07append-unif) for a summary of key formulas, graphs,\n",
        "shortcuts, and R functions for working with a Discrete Uniform\n",
        "Distribution.**\n",
        "\n",
        "# <a name=\"07\">The Geometric Distribution</a>\n",
        "\n",
        "------------------------------------------------------------------------\n",
        "\n",
        "If we repeat a Bernoulli trial that has probability of success $p$ for\n",
        "each trial, we can <span style=\"color:dodgerblue\">count the number of\n",
        "failures, $X$, that occur before the first success</span>. In such\n",
        "cases, $X$ follows a <span style=\"color:dodgerblue\">**geometric\n",
        "distribution**</span>, and we write\n",
        "$\\color{dodgerblue}{X \\sim \\mbox{Geom}(p)}$.\n",
        "\n",
        "$$f(x) = q^xp \\quad \\mbox{for } x \\in \\left\\{ 0, 1, \\ldots \\right\\}$$.\n",
        "\n",
        "**See [Appendix: Summary of Common Discrete Random\n",
        "Variables](#07append-geom) for a summary of key formulas, graphs,\n",
        "shortcuts, and R functions for working with a Geometric Distribution.**\n",
        "\n",
        "# <a name=\"07\">The Poisson Distribution</a>\n",
        "\n",
        "------------------------------------------------------------------------\n",
        "\n",
        "The <span style=\"color:dodgerblue\">**Poisson distribution**</span>\n",
        "applies when the average frequency of occurrences in a given time period\n",
        "is known to be $\\lambda$, and each occurrence is independent of the\n",
        "others. Let $X$ denote <span style=\"color:dodgerblue\">the number of\n",
        "times an event occurs in the given time period</span>, then we have\n",
        "$\\color{dodgerblue}{X \\sim \\mbox{Pois}(\\lambda)}$.\n",
        "\n",
        "**See [Appendix: Summary of Common Discrete Random\n",
        "Variables](#07append-pois) for a summary of key formulas, graphs,\n",
        "shortcuts, and R functions for working with a Poisson Distribution.**\n",
        "\n",
        "# <a name=\"07\">Practice with Discrete Random Variables</a>\n",
        "\n",
        "------------------------------------------------------------------------\n",
        "\n",
        "For each situation, identify which distribution best describes the\n",
        "distribution of the random variable. Then calculate the probability.\n",
        "\n",
        "## <a name=\"07\">Question 7</a>\n",
        "\n",
        "------------------------------------------------------------------------\n",
        "\n",
        "A sports marketer for the Denver Nuggets randomly calls people in the\n",
        "Denver area until she encounters someone who attended a Nuggets’ game.\n",
        "What is the probability that the marketer calls $7$ people who did not\n",
        "attend a game before the first “success” on their eighth call. Suppose\n",
        "we know that 10% of the population attended a Nuggets game last season?\n",
        "\n",
        "### <a name=\"07\">Solution to Question 7</a>\n",
        "\n",
        "------------------------------------------------------------------------"
      ],
      "id": "2e4a9c6e-abe8-48fb-91ef-cdb945cde295"
    },
    {
      "cell_type": "code",
      "execution_count": null,
      "metadata": {
        "id": "420890cd-1803-4d11-97b2-32293f41594c"
      },
      "outputs": [],
      "source": [
        "# solution to question 7"
      ],
      "id": "420890cd-1803-4d11-97b2-32293f41594c"
    },
    {
      "cell_type": "markdown",
      "metadata": {
        "id": "e46636a5-a784-496d-8b60-2887a8ac054f"
      },
      "source": [
        "## <a name=\"07\">Question 8</a>\n",
        "\n",
        "------------------------------------------------------------------------\n",
        "\n",
        "Suppose we know that on average twelve cars cross a certain bridge each\n",
        "minute during rush hour. Find the probability that seventeen or more\n",
        "cars cross the bridge during a one minute span of time in rush hour.\n",
        "\n",
        "### <a name=\"07\">Solution to Question 8</a>\n",
        "\n",
        "------------------------------------------------------------------------"
      ],
      "id": "e46636a5-a784-496d-8b60-2887a8ac054f"
    },
    {
      "cell_type": "code",
      "execution_count": null,
      "metadata": {
        "id": "974bd036-645e-4c66-8160-712e03256155"
      },
      "outputs": [],
      "source": [
        "# solution to question 8"
      ],
      "id": "974bd036-645e-4c66-8160-712e03256155"
    },
    {
      "cell_type": "markdown",
      "metadata": {
        "id": "fa149768-ed91-4b84-847f-a6a0dee3bf68"
      },
      "source": [
        "## <a name=\"07\">Question 9</a>\n",
        "\n",
        "------------------------------------------------------------------------\n",
        "\n",
        "Recently, a nurse commented that when a patient calls the medical advice\n",
        "line claiming to have the flu, the chance that he or she truly has the\n",
        "flu (and not just a nasty cold) is only about 4%. Of the next 25\n",
        "patients calling in claiming to have the flu, what is the probability\n",
        "that exactly 4 patients will have the flu?\n",
        "\n",
        "### <a name=\"07\">Solution to Question 9</a>\n",
        "\n",
        "------------------------------------------------------------------------"
      ],
      "id": "fa149768-ed91-4b84-847f-a6a0dee3bf68"
    },
    {
      "cell_type": "code",
      "execution_count": null,
      "metadata": {
        "id": "6a15107d-c668-4736-b41e-49f91a21da65"
      },
      "outputs": [],
      "source": [
        "# solution to question 9"
      ],
      "id": "6a15107d-c668-4736-b41e-49f91a21da65"
    },
    {
      "cell_type": "markdown",
      "metadata": {
        "id": "cd3af10b-1fb9-45ea-8045-3508c42ea911"
      },
      "source": [
        "## <a name=\"07\">Question 10</a>\n",
        "\n",
        "------------------------------------------------------------------------\n",
        "\n",
        "A online retailer sells an average of 5 big screen TV’s on a given day.\n",
        "What is the probability they sell 9 TV’s in a day?\n",
        "\n",
        "### <a name=\"07\">Solution to Question 10</a>\n",
        "\n",
        "------------------------------------------------------------------------"
      ],
      "id": "cd3af10b-1fb9-45ea-8045-3508c42ea911"
    },
    {
      "cell_type": "code",
      "execution_count": null,
      "metadata": {
        "id": "44f5e0f7-b351-463d-bea7-0d15a6a68409"
      },
      "outputs": [],
      "source": [
        "# solution to question 10"
      ],
      "id": "44f5e0f7-b351-463d-bea7-0d15a6a68409"
    },
    {
      "cell_type": "markdown",
      "metadata": {
        "id": "72716ae7-8cac-46c9-92b9-ad7876e6e8e4"
      },
      "source": [
        "## <a name=\"07\">Question 11</a>\n",
        "\n",
        "------------------------------------------------------------------------\n",
        "\n",
        "It is known that 3% of airbags manufactured by a certain car company are\n",
        "defective. What is the probability that the first defective air bag\n",
        "occurs when the fifth item is inspected?\n",
        "\n",
        "### <a name=\"07\">Solution to Question 11</a>\n",
        "\n",
        "------------------------------------------------------------------------"
      ],
      "id": "72716ae7-8cac-46c9-92b9-ad7876e6e8e4"
    },
    {
      "cell_type": "code",
      "execution_count": null,
      "metadata": {
        "id": "091e6b12-80fd-49eb-b1d7-e4dbda8d020d"
      },
      "outputs": [],
      "source": [
        "# solution to question 11"
      ],
      "id": "091e6b12-80fd-49eb-b1d7-e4dbda8d020d"
    },
    {
      "cell_type": "markdown",
      "metadata": {
        "id": "4255b8dd-c78a-495d-8a4d-6fcb0939fd0d"
      },
      "source": [
        "# <a name=\"07\">Appendix: Summary of Common Discrete Random Variables</a>\n",
        "\n",
        "------------------------------------------------------------------------\n",
        "\n"
      ],
      "id": "4255b8dd-c78a-495d-8a4d-6fcb0939fd0d"
    },
    {
      "cell_type": "markdown",
      "source": [
        "## <a name=\"07\">The Binomial Distribution</a>\n",
        "\n",
        "------------------------------------------------------------------------\n",
        "\n",
        "$X \\sim \\mbox{Binom}(n,p)$ is number of successes from $n$ identical and\n",
        "independent trials each with probability of success $p$.\n",
        "\n",
        "$$f(x; n, p) = \\left\\{ \\begin{array}{ll} \\left( \\begin{array}{c} n\\\\ x \\end{array} \\right) p^x(1-p)^{n-x} \\ \\ & \\mbox{for } x =0,1,2, \\ldots , n\\\\    & \\\\    0 \\ \\ & \\mbox{otherwise} \\end{array} \\right.$$\n",
        "\n",
        "-   Expected value $E(X) = \\mu_X = np$.\n",
        "-   Variance $\\mbox{Var} (X) = \\sigma_X^2 = np(1-p)$.\n",
        "-   Use `dbinom(x, n, p)` to calculate $p(x) = P(X = x)$.\n",
        "-   Use `pbinom(x, n, p)` to calculate $F(x) = P(X \\leq x)$.\n",
        "-   Use `rbinom(m, n, p)` to generate a random sample of size $m$ from\n",
        "    population $X \\sim \\mbox{Binom}(n,p)$.\n",
        "-   Use `qbinom(q, n, p)` to find the q<sup>th</sup> percentile of\n",
        "    $X \\sim \\mbox{Binom}(n,p)$.\n",
        "\n"
      ],
      "metadata": {
        "id": "pHTotbfa0adq"
      },
      "id": "pHTotbfa0adq"
    },
    {
      "cell_type": "code",
      "source": [
        "x <- 0:20  # vector of values 1, 2, ..., 20\n",
        "\n",
        "# plot pmf n=40 and p = 0.25\n",
        "plot(x, dbinom(x, size=40, prob=0.25), \n",
        "     type='p')  # point plot\n",
        "\n",
        "# plot cdf n=40 and p = 0.25\n",
        "plot(x ,pbinom(x, size=40, prob=0.25),\n",
        "     type='s',  # stairs plot\n",
        "     main='X ~ Binom(40, 0.25)',\n",
        "     ylab='Probability',\n",
        "     xlab ='At most x Successes',\n",
        "     lwd=3)"
      ],
      "metadata": {
        "id": "PoVtGX5q0b8d",
        "outputId": "e87d0bb0-7809-48d7-ad1a-b2488f9779ca",
        "colab": {
          "base_uri": "https://localhost:8080/",
          "height": 857
        }
      },
      "id": "PoVtGX5q0b8d",
      "execution_count": 5,
      "outputs": [
        {
          "output_type": "display_data",
          "data": {
            "text/plain": [
              "plot without title"
            ],
            "image/png": "[encoded data removed]"
          },
          "metadata": {
            "image/png": {
              "width": 420,
              "height": 420
            }
          }
        },
        {
          "output_type": "display_data",
          "data": {
            "text/plain": [
              "Plot with title “X ~ Binom(40, 0.25)”"
            ],
            "image/png": "[encoded data removed]"
          },
          "metadata": {
            "image/png": {
              "width": 420,
              "height": 420
            }
          }
        }
      ]
    },
    {
      "cell_type": "markdown",
      "source": [
        "## <a name=\"07\">The Discrete Uniform Distribution</a>\n",
        "\n",
        "------------------------------------------------------------------------\n",
        "\n",
        "There are $k$ distinct outcomes each with an equal likelihood of\n",
        "occurring.\n",
        "\n",
        "$$f(x; k) = \\left\\{ \\begin{array}{ll} \\dfrac{1}{k} \\ \\ & \\mbox{for } x = 1, 2, \\ldots,  k\\\\ 0 \\ \\ & \\mbox{otherwise} \\end{array} \\right.$$\n",
        "\n",
        "-   Expected value $\\displaystyle E(X) = \\mu_X = \\frac{k+1}{2}$.\n",
        "-   Variance\n",
        "    $\\displaystyle \\mbox{Var} (X) = \\sigma_X^2 = \\frac{k^2-1}{12}$.\n",
        "-   Note functions such as `dunif()`, `punif()`, `runif()`, and\n",
        "    `qunif()` are for the **continuous** (not discrete) uniform\n",
        "    distribution.\n",
        "-   It is typically easier to calculate probabilities directly rather\n",
        "    than use technology.\n",
        "\n"
      ],
      "metadata": {
        "id": "C2-VXSLX0Yk9"
      },
      "id": "C2-VXSLX0Yk9"
    },
    {
      "cell_type": "code",
      "source": [
        "x.min <- 1\n",
        "x.max <- 6\n",
        "x <- x.min:x.max  # vector of integers  x.min,  ..., x.max\n",
        "p.x <- rep(1/(x.max - x.min+1), length(x) ) \n",
        "c.x <- p.x * (x)\n",
        "\n",
        "plot(x, p.x, \n",
        "     type='p',  # point plot\n",
        "     main='PMF')  \n",
        "\n",
        "plot(x, c.x, \n",
        "     type='s',  # stairs plot\n",
        "     main='CDF') "
      ],
      "metadata": {
        "id": "9iECa2ig0clm",
        "outputId": "f4cb9b5f-51ea-454b-9f98-0bf5d51e1502",
        "colab": {
          "base_uri": "https://localhost:8080/",
          "height": 857
        }
      },
      "id": "9iECa2ig0clm",
      "execution_count": 6,
      "outputs": [
        {
          "output_type": "display_data",
          "data": {
            "text/plain": [
              "Plot with title “PMF”"
            ],
            "image/png": "[encoded data removed]"
          },
          "metadata": {
            "image/png": {
              "width": 420,
              "height": 420
            }
          }
        },
        {
          "output_type": "display_data",
          "data": {
            "text/plain": [
              "Plot with title “CDF”"
            ],
            "image/png": "[encoded data removed]"
          },
          "metadata": {
            "image/png": {
              "width": 420,
              "height": 420
            }
          }
        }
      ]
    },
    {
      "cell_type": "markdown",
      "source": [
        "## <a name=\"07\">The Geometric Distribution</a>\n",
        "\n",
        "------------------------------------------------------------------------\n",
        "\n",
        "$X \\sim \\mbox{Geom}(p)$ is number of failures that occur before the\n",
        "first success, where $p$ denotes the probability of a success and\n",
        "$q=1-p$ is the probability of a failure.\n",
        "\n",
        "$$f(x; p) = \\left\\{ \\begin{array}{ll} (1-p)^xp=q^xp  \\ \\ & \\mbox{for }  x \\in \\lbrace 0, 1, \\ldots \\rbrace \\\\\n",
        "0 & \\mbox{otherwise} \\end{array} \\right.  .$$\n",
        "\n",
        "-   Expected value $E(X) = \\mu_X = \\dfrac{q}{p}$.\n",
        "-   Variance $\\mbox{Var} (X) = \\sigma_X^2 = \\dfrac{q}{p^2}$.\n",
        "-   Use `dgeom(x, p)` to calculate $p(x) = P(X = x)$.\n",
        "-   Use `pgeom(x, p)` to calculate $F(x) = P(X \\leq x)$.\n",
        "-   Use `rgeom(m, p)` to generate a random sample of size $m$ from\n",
        "    population $X \\sim \\mbox{Geom}(p)$.\n",
        "-   Use `qgeom(q, p)` to find the q<sup>th</sup> percentile of\n",
        "    $X \\sim \\mbox{Geom}(p)$.\n",
        "\n"
      ],
      "metadata": {
        "id": "xG4UpvDk0Wui"
      },
      "id": "xG4UpvDk0Wui"
    },
    {
      "cell_type": "code",
      "source": [
        "x <- 0:8 \n",
        "\n",
        "plot(x, dgeom(x, prob=0.75), \n",
        "     type='p',  # point plot\n",
        "     main='PMF')  \n",
        "\n",
        "plot(x, pgeom(x, prob=0.75),\n",
        "     type='s',  # stairs plot\n",
        "     main='CDF') "
      ],
      "metadata": {
        "id": "uhcThVgW0dVg",
        "outputId": "e53a5176-904a-4547-a122-ca4fa40dcd12",
        "colab": {
          "base_uri": "https://localhost:8080/",
          "height": 857
        }
      },
      "id": "uhcThVgW0dVg",
      "execution_count": 7,
      "outputs": [
        {
          "output_type": "display_data",
          "data": {
            "text/plain": [
              "Plot with title “PMF”"
            ],
            "image/png": "[encoded data removed]"
          },
          "metadata": {
            "image/png": {
              "width": 420,
              "height": 420
            }
          }
        },
        {
          "output_type": "display_data",
          "data": {
            "text/plain": [
              "Plot with title “CDF”"
            ],
            "image/png": "[encoded data removed]"
          },
          "metadata": {
            "image/png": {
              "width": 420,
              "height": 420
            }
          }
        }
      ]
    },
    {
      "cell_type": "markdown",
      "source": [
        "## <a name=\"07\">The Poisson Distribution</a>\n",
        "\n",
        "------------------------------------------------------------------------\n",
        "\n",
        "$X \\sim \\mbox{Pois}(\\lambda)$ is the number of times an event occurs in\n",
        "a fixed time period, where $\\lambda$ denotes the mean number of\n",
        "occurrences in the given time period.\n",
        "\n",
        "$$f(x; \\lambda) = \\left\\{ \\begin{array}{ll}  e^{-\\lambda} \\dfrac{\\lambda^x}{x!} \\ \\ & \\mbox{for } x \\in \\lbrace 0, 1, 2, \\ldots \\rbrace \\\\\n",
        "0 & \\mbox{otherwise} \\end{array} \\right. .$$\n",
        "\n",
        "-   Expected value $E(X) = \\mu_X = \\lambda$.\n",
        "-   Variance $\\mbox{Var} (X) = \\sigma_X^2 = \\lambda$.\n",
        "-   Use `dpois(x, lambda)` to calculate $p(x) = P(X = x)$.\n",
        "-   Use `ppois(x, lambda)` to calculate $F(x) = P(X \\leq x)$.\n",
        "-   Use `rpoi(m, lambda)` to generate a random sample of size $m$ from\n",
        "    population $X \\sim \\mbox{Pois}(\\lambda)$.\n",
        "-   Use `qpois(q, lambda)` to find the q<sup>th</sup> percentile of\n",
        "    $X \\sim \\mbox{Pois}(\\lambda)$."
      ],
      "metadata": {
        "id": "ng7gL8110VFQ"
      },
      "id": "ng7gL8110VFQ"
    },
    {
      "cell_type": "code",
      "source": [
        "x <- 0:15  # creates vector of possible occurrences\n",
        "lam <- 5  # on average 5 occurrence per time period\n",
        "\n",
        "plot(x, dpois(x, lam), \n",
        "     type='p',  # point plot\n",
        "     main='PMF')  \n",
        "\n",
        "plot(x, ppois(x, lam),\n",
        "     type='s',  # stairs plot\n",
        "     main='CDF') "
      ],
      "metadata": {
        "id": "b-pgLf3G0d6w",
        "outputId": "48a3ea7b-347f-471a-e3b8-c0dffb882c35",
        "colab": {
          "base_uri": "https://localhost:8080/",
          "height": 857
        }
      },
      "id": "b-pgLf3G0d6w",
      "execution_count": 8,
      "outputs": [
        {
          "output_type": "display_data",
          "data": {
            "text/plain": [
              "Plot with title “PMF”"
            ],
            "image/png": "[encoded data removed]"
          },
          "metadata": {
            "image/png": {
              "width": 420,
              "height": 420
            }
          }
        },
        {
          "output_type": "display_data",
          "data": {
            "text/plain": [
              "Plot with title “CDF”"
            ],
            "image/png": "[encoded data removed]"
          },
          "metadata": {
            "image/png": {
              "width": 420,
              "height": 420
            }
          }
        }
      ]
    }
  ],
  "nbformat": 4,
  "nbformat_minor": 5,
  "metadata": {
    "kernelspec": {
      "name": "ir",
      "display_name": "R",
      "language": "R"
    },
    "colab": {
      "provenance": []
    }
  }
}