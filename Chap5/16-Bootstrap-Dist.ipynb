{
  "cells": [
    {
      "cell_type": "markdown",
      "metadata": {
        "id": "c99f507f-1fc5-4e29-ad28-00cbe4ee24a5"
      },
      "source": [
        "[![Open In\n",
        "Colab](https://colab.research.google.com/assets/colab-badge.svg)](https://githubtocolab.com/CU-Denver-MathStats-OER/Statistical-Theory/blob/main/Chap5/16-Bootstrap-Dist.ipynb)\n",
        "\n",
        "\n"
      ],
      "id": "c99f507f-1fc5-4e29-ad28-00cbe4ee24a5"
    },
    {
      "cell_type": "markdown",
      "source": [
        "# <a name=\"16title\">5.1: Bootstrap Distributions</a>\n",
        "\n",
        "---\n",
        "\n",
        "<figure>\n",
        "<img\n",
        "src=\"https://upload.wikimedia.org/wikipedia/commons/e/e5/La_Roulette_de_Monte-Carlo_R%C3%A8gle_du_Jeu.jpg\"\n",
        "alt=\"Figure of Two Paths\" width = \"50%\"/>\n",
        "<figcaption aria-hidden=\"true\">\n",
        "Credit: <a href=\"https://commons.wikimedia.org/wiki/File:La_Roulette_de_Monte-Carlo_R%C3%A8gle_du_Jeu.jpg\">Lévy et Neurdein réunis</a>, Public domain, via, via Wikimedia Commons\n",
        "</figcaption>\n",
        "</figure>\n"
      ],
      "metadata": {
        "id": "STzg4GGlEBMX"
      },
      "id": "STzg4GGlEBMX"
    },
    {
      "cell_type": "markdown",
      "source": [
        "# <a name=\"16intro\">Sampling From a Population</a>\n",
        "\n",
        "---\n",
        "\n",
        "Rarely, we have access to data from the entire population of interest,\n",
        "in which case we are able to calculate the value(s) of population\n",
        "parameter(s) of interest. We can generate a sampling distribution by\n",
        "simulating the selection of many different random samples from the\n",
        "population data, and we can compute the standard error of the sampling\n",
        "distribution to measure how much uncertainty we can expect due to the\n",
        "randomness of sampling. If we have access to data from the entire\n",
        "population, there is no need for statistics to estimate parameters since\n",
        "we know the values of the parameters! Recall the distinction and\n",
        "connection and between parameters and statistics:\n",
        "\n",
        "-   A  <font color=\"dodgerblue\">**parameter**</font> is a   characteristic of a population (which may be a probability   distribution).\n",
        "    -   The values of population parameters are unknown, but their values are fixed and not random.\n",
        "-   A  <font color=\"dodgerblue\">**statistic**</font> is a   characteristic of a sample that we can use to approximate a   parameter.\n",
        "    -   Statistics are not fixed values. They will vary due to the randomness of sampling.\n",
        "-   Recall we use different notation for parameters and statistics.   -   We typically use $\\theta$ to denote a generic population parameter.\n",
        "    -   We use  <font color=\"dodgerblue\">**hat notation**</font>, $\\color{dodgerblue}{\\hat{\\theta}}$, to denote estimators of $\\theta$.\n",
        "\n",
        "In some situations, we have a known probability distribution that we can\n",
        "use to build a model and make predictions. For example, characteristics\n",
        "such as height\n",
        "([normal](https://githubtocolab.com/CU-Denver-MathStats-OER/Statistical-Theory/blob/main/Chap2/08-Common-Continuous-Distributions.ipynb#08append-normal)),\n",
        "time between successive events\n",
        "([exponential](https://githubtocolab.com/CU-Denver-MathStats-OER/Statistical-Theory/blob/main/Chap2/08-Common-Continuous-Distributions.ipynb#08append-exp)),\n",
        "and counting the number of times an event occurs over an interval of\n",
        "time all behave predictably\n",
        "([Poisson](https://githubtocolab.com/CU-Denver-MathStats-OER/Statistical-Theory/blob/main/Chap2/07-Common-Discrete-RandVar.ipynb#07append-pois)). We can pick\n",
        "random sample and use point estimators such as\n",
        "[MLE](https://githubtocolab.com/CU-Denver-MathStats-OER/Statistical-Theory/blob/main/Chap4/13-Estimation-MLE.ipynb) and [MoM](https://githubtocolab.com/CU-Denver-MathStats-OER/Statistical-Theory/blob/main/Chap4/14-Estimation-MOM.ipynb) to\n",
        "estimate unknown population parameters. *What happens if the data does\n",
        "not follow a known distribution?*\n",
        "\n",
        "Suppose we would like to estimate the value of a parameter for a\n",
        "population about which we know very little information (this is often\n",
        "the case). We collect data from a single random sample of size $n$, and\n",
        "then we can use statistics from the sample to make predictions about the\n",
        "population:\n",
        "\n",
        "-   To estimate a population mean, it makes practical and [mathematical   sense to use a sample   mean](https://githubtocolab.com/CU-Denver-MathStats-OER/Statistical-Theory/blob/main/Chap4/15-Properties-Estimators.ipynb#15q5).\n",
        "-   To estimate a population proportion, the sample proportion is an   [unbiased estimator](https://githubtocolab.com/CU-Denver-MathStats-OER/Statistical-Theory/blob/main/Chap4/15-Properties-Estimators.ipynb#sec-prop-bias).\n",
        "-   To estimate a population variance, we can use the [unbiased   estimator](https://githubtocolab.com/CU-Denver-MathStats-OER/Statistical-Theory/blob/main/Chap4/15-Properties-Estimators.ipynb#15var)   $s^2 = \\frac{1}{n-1} \\sum_{i=1}^n (x_i - \\bar{x})^2$.\n",
        "\n",
        "In any of these cases, how certain can/should we be in our estimate? In\n",
        "practice, we do not repeatedly pick 1000’s of random samples from the\n",
        "population. That is likely impractical, expensive, and time consuming.\n",
        "We have only collected data from a single random sample.\n",
        "\n",
        ">  <font color=\"dodgerblue\">**How can we account for the\n",
        "> uncertainty in our estimate if we only have one random\n",
        "> sample?**</font>\n",
        "\n"
      ],
      "metadata": {
        "id": "2-m6vYTUDR3h"
      },
      "id": "2-m6vYTUDR3h"
    },
    {
      "cell_type": "markdown",
      "source": [
        "## <a name=\"16q1\">Question 1</a>\n",
        "\n",
        "---\n",
        "\n",
        "\n",
        "<figure>\n",
        "<img\n",
        "src=\"https://upload.wikimedia.org/wikipedia/commons/5/5e/Golden_jackal_-_portrait.jpg\"\n",
        "alt=\"Golden Jackal Portrait\" width = \"50%\"/>\n",
        "<figcaption aria-hidden=\"true\">\n",
        "Credit:  Вых Пыхманн, <a href=\"https://creativecommons.org/licenses/by-sa/3.0\">CC BY-SA 3.0</a>, via Wikimedia Commons\n",
        "</figcaption>\n",
        "</figure>\n",
        "\n",
        "\n",
        "A zoologist would like to answer the following question?\n",
        "\n",
        "> “What is the average mandible (jaw) length of all golden jackals?\n",
        "\n",
        "Devise a method for collecting and analyzing data to help them answer\n",
        "this question.\n",
        "\n",
        "### <a name=\"16sol1\">Solution to Question 1</a>\n",
        "\n",
        "---\n",
        "\n",
        "<br>  \n",
        "<br>  \n",
        "<br>\n",
        "\n"
      ],
      "metadata": {
        "id": "rP8QCHOmDY8T"
      },
      "id": "rP8QCHOmDY8T"
    },
    {
      "cell_type": "markdown",
      "source": [
        "# <a name=\"16jackal\">Case Study: Golden Jackal Mandible Length</a>\n",
        "\n",
        "---\n",
        "\n",
        "The data frame `jackal` in the `permute` package contains a sample of\n",
        "$n=20$ mandibles from male and female golden jackals (Canis aureus). For\n",
        "each of the 20 observations, two variables are recorded<sup>1</sup>:\n",
        "\n",
        "-   `Length` is the length of the mandible in millimeters (mm).\n",
        "-   `Sex` is a categorical variable with two levels: `Male` and   `Female`.\n",
        "\n",
        "<br>\n",
        "\n",
        "<font size=\"2\"> 1.  Manly, B.F.J. (2007) *Randomization, bootstrap and Monte Carlo\n",
        "methods in biology*. Third Edition. Chapman & Hall/CRC, Boca Raton.</font>\n"
      ],
      "metadata": {
        "id": "tbmf08HmFYZt"
      },
      "id": "tbmf08HmFYZt"
    },
    {
      "cell_type": "markdown",
      "source": [
        "## <a name=\"16load-jackal\">Loading the Data</a>\n",
        "\n",
        "---\n",
        "\n",
        "It is very likely you do not have the package `permute` installed. You\n",
        "will need to first install the `permute` package.\n",
        "\n",
        "-   Go to the R Console window.\n",
        "-   Run the command `> install.packages(\"permute\")`.\n",
        "\n",
        "You will only need to run the `install.package()` command one time. You\n",
        "can now access `permute` anytime you like! However, you will need to run\n",
        "the command `library(permute)` during any R session in which you want to\n",
        "access data from the `permute` package. **Be sure you have first\n",
        "installed the `permute` package before executing the code cell below.**\n"
      ],
      "metadata": {
        "id": "TnpmMKw8FaBj"
      },
      "id": "TnpmMKw8FaBj"
    },
    {
      "cell_type": "code",
      "source": [
        "install.packages(\"permute\")"
      ],
      "metadata": {
        "id": "cJzELm8_CHn6"
      },
      "id": "cJzELm8_CHn6",
      "execution_count": null,
      "outputs": []
    },
    {
      "cell_type": "code",
      "execution_count": null,
      "metadata": {
        "id": "c16549ea-6c84-49cd-8e39-2bdb8f96e2d3"
      },
      "outputs": [],
      "source": [
        "# be sure you have already installed the permute package\n",
        "library(permute)  # loading permute package"
      ],
      "id": "c16549ea-6c84-49cd-8e39-2bdb8f96e2d3"
    },
    {
      "cell_type": "markdown",
      "metadata": {
        "id": "037d2e54-158a-4f91-bb94-dd0ea443eaa6"
      },
      "source": [
        "### <a name=\"16sum-jackal\">Summarizing and Storing the Data</a>\n",
        "\n",
        "---\n",
        "\n",
        "In the code cell below we load the `jackal` data from the `permute`\n",
        "package and provide a numerical summary of the two variables in the\n",
        "sample."
      ],
      "id": "037d2e54-158a-4f91-bb94-dd0ea443eaa6"
    },
    {
      "cell_type": "code",
      "execution_count": null,
      "metadata": {
        "id": "af6672bb-c3d7-40c6-b690-531ed61392fe"
      },
      "outputs": [],
      "source": [
        "data(jackal)  # load jackal data\n",
        "summary(jackal)  # numerical summary of each variable"
      ],
      "id": "af6672bb-c3d7-40c6-b690-531ed61392fe"
    },
    {
      "cell_type": "markdown",
      "metadata": {
        "id": "84966967-5e07-474c-bd70-b79d02dbbd52"
      },
      "source": [
        "The code cell below displays the distribution of mandible lengths\n",
        "separately for males and females."
      ],
      "id": "84966967-5e07-474c-bd70-b79d02dbbd52"
    },
    {
      "cell_type": "code",
      "execution_count": null,
      "metadata": {
        "id": "2a866c2b-674e-4181-9dd8-127e03b09bfd"
      },
      "outputs": [],
      "source": [
        "# side by side box plots\n",
        "plot(Length ~ Sex, data = jackal,\n",
        "     col = c(\"dodgerblue\", \"mediumseagreen\"),\n",
        "     main = \"Mandible Length of Golden Jackals\",\n",
        "     ylab = \"Length (in mm)\",\n",
        "     cex.lab=1.5, cex.axis=1.5, cex.main=1.5)"
      ],
      "id": "2a866c2b-674e-4181-9dd8-127e03b09bfd"
    },
    {
      "cell_type": "markdown",
      "metadata": {
        "id": "2821e6c4-30c9-439e-8102-b9982004abcf"
      },
      "source": [
        "We will be analyzing mandible lengths for both adult male and female\n",
        "golden jackals. In the code cell below, we save the $n=20$ mandible\n",
        "lengths to a vector called `jaw.sample`."
      ],
      "id": "2821e6c4-30c9-439e-8102-b9982004abcf"
    },
    {
      "cell_type": "code",
      "execution_count": null,
      "metadata": {
        "id": "a06111ef-269b-4e93-a2d6-3ae3885b23e0"
      },
      "outputs": [],
      "source": [
        "jaw.sample <- jackal$Length  # store mandible lengths to vector\n",
        "jaw.sample  # print sample to screen"
      ],
      "id": "a06111ef-269b-4e93-a2d6-3ae3885b23e0"
    },
    {
      "cell_type": "markdown",
      "metadata": {
        "id": "a71b22f5-81f9-49fc-a293-ea4d8d5c425b"
      },
      "source": [
        "## <a name=\"16q2\">Question 2</a>\n",
        "\n",
        "---\n",
        "\n",
        "Based on the sample above, what is your estimate for $\\mu$, the mean\n",
        "mandible length of all adult golden jackals?\n",
        "\n",
        "### <a name=\"16sol2\">Solution to Question 2</a>\n",
        "\n",
        "---\n",
        "\n",
        "<br>  \n",
        "<br>  \n",
        "<br>\n",
        "\n"
      ],
      "id": "a71b22f5-81f9-49fc-a293-ea4d8d5c425b"
    },
    {
      "cell_type": "markdown",
      "source": [
        "## <a name=\"16q3\">Question 3</a>\n",
        "\n",
        "---\n",
        "\n",
        "How much confidence do you have in your estimate in \\[Question 2\\]? Any\n",
        "suggestions on how we can measure the uncertainty in our estimate due to\n",
        "the randomness of sampling?\n",
        "\n",
        "### <a name=\"16sol3\">Solution to Question 3</a>\n",
        "\n",
        "---\n",
        "\n",
        "<br>  \n",
        "<br>  \n",
        "<br>\n",
        "\n"
      ],
      "metadata": {
        "id": "IpLUyUPKFcrs"
      },
      "id": "IpLUyUPKFcrs"
    },
    {
      "cell_type": "markdown",
      "source": [
        "## <a name=\"16stat-q\">What is a Statistical Question?</a>\n",
        "\n",
        "---\n",
        "\n",
        "A  <font color=\"dodgerblue\">**statistical question**</font> is one\n",
        "that can be answered by collecting data and where there will be\n",
        "variability in that data.\n",
        "\n",
        "> Based on a random sample of $n=20$ adult golden jackals, what is the\n",
        "> mean mandible length of all adult golden jackals?\n",
        "\n",
        "-   Each time we pick a different sample we have a different subset of   data.\n",
        "-   Different samples have different sample means, leading to different   estimates.\n",
        "-   **This is a statistical question!**\n",
        "-   How can we account for this variability in our estimate?\n",
        "\n",
        "> Using a database that contains information on all registered voters in\n",
        "> Colorado, what proportion of all Colorado voters are over 50 years\n",
        "> old?\n",
        "\n",
        "-   The database includes information from the population of all   registered voters in Colorado.\n",
        "-   We can use the population data to calculate the proportion.\n",
        "-   The population data does not change, so there is no variability in   the value of the proportion.\n",
        "-   **This is not an example of a statistical question.**\n",
        "\n"
      ],
      "metadata": {
        "id": "38HnB0egFd5c"
      },
      "id": "38HnB0egFd5c"
    },
    {
      "cell_type": "markdown",
      "source": [
        "# <a name=\"16boot-intro\">Bootstrapping: Sampling from a Sample</a>\n",
        "\n",
        "---\n",
        "\n",
        "We have explored the  <font color=\"dodgerblue\">**sampling\n",
        "distributions**</font> of [sample means](https://githubtocolab.com/CU-Denver-MathStats-OER/Statistical-Theory/blob/main/Chap3/10-Sampling-Dist-Mean.ipynb),\n",
        "[proportions](https://githubtocolab.com/CU-Denver-MathStats-OER/Statistical-Theory/blob/main/Chap3/11-Sampling-Dist-Prop.ipynb), [medians, variances](https://githubtocolab.com/CU-Denver-MathStats-OER/Statistical-Theory/blob/main/Chap3/12-Sampling-Dist-Other.ipynb) and other\n",
        "[estimators](https://githubtocolab.com/CU-Denver-MathStats-OER/Statistical-Theory/blob/main/Chap4/15-Properties-Estimators.ipynb) as a tool to assess the\n",
        "variability in those statistics and measure the level of uncertainty or\n",
        "precision in the estimate we obtain from the sample. In particular, the\n",
        "variance of a sampling distribution or the <font color=\"dodgerblue\">**standard error**</font> (which is the square\n",
        "root of the variance of a sampling distribution) are commonly used to\n",
        "assess the variability in sample statistics.\n",
        "\n",
        "In the case of the mean mandible length of all golden jackals, we have\n",
        "collected one sample of $n=20$ adult golden jackals. We do not have\n",
        "access to data from the entire population, so we cannot construct a\n",
        "sampling distribution by picking many different random samples each size\n",
        "$n=20$. Collecting unbiased samples can be quite expensive,\n",
        "time-consuming, and logistically difficult. <font color=\"tomato\">**If we only have one sample and know very little\n",
        "about the population, how can we generate a sampling distribution from\n",
        "this limited information?**</font>\n",
        "\n"
      ],
      "metadata": {
        "id": "9oikXqWGFfdk"
      },
      "id": "9oikXqWGFfdk"
    },
    {
      "cell_type": "markdown",
      "source": [
        "## <a name=\"16boot-dist\">Bootstrap Distributions</a>\n",
        "\n",
        "---\n",
        "\n",
        " <font color=\"dodgerblue\">**Bootstrapping**</font> is the process\n",
        "of generating many different random samples from one random sample to\n",
        "obtain an estimate for a population parameter. For each randomly\n",
        "selected resample, we calculate a statistic of interest. Then we\n",
        "construct a new distribution of bootstrap statistics that approximates a\n",
        "sampling distribution for some sample statistic (such as a mean,\n",
        "proportion, variance, and others). We can use bootstrapping with any\n",
        "sample, even small ones. We can bootstrap any statistic. Thus,\n",
        "bootstrapping provides a robust method for performing statistical\n",
        "inference that we can adapt to many different situations in statistics\n",
        "and data science.\n",
        "\n"
      ],
      "metadata": {
        "id": "KkdomjTkFhHs"
      },
      "id": "KkdomjTkFhHs"
    },
    {
      "cell_type": "markdown",
      "source": [
        "### <a name=\"16boot-steps\">A Bootstrapping Algorithm</a>\n",
        "\n",
        "---\n",
        "\n",
        "Given an original sample of size $n$ from a population:\n",
        "\n",
        "1.  Draw a  <font color=\"dodgerblue\">**bootstrap resample**</font>   of the same size, $n$, with replacement from the original sample.\n",
        "2.  Compute the relevant statistic (mean, proportion, max, variance,   etc) of that sample.\n",
        "3.  Repeat this many times (say $100,\\!000$ times).\n",
        "\n",
        "-   A distribution of statistics from the bootstrap samples is called a    <font color=\"dodgerblue\">**bootstrap distribution**</font>.\n",
        "-   A bootstrap distribution gives an *approximation* for the sampling   distribution.\n",
        "-   We can inspect the center, spread and shape of the bootstrap   distribution and do statistical inference.\n",
        "\n"
      ],
      "metadata": {
        "id": "TCg-s3UWFjUz"
      },
      "id": "TCg-s3UWFjUz"
    },
    {
      "cell_type": "markdown",
      "source": [
        "## <a name=\"16q4\">Question 4</a>\n",
        "\n",
        "---\n",
        "\n",
        "Consider a random sample of 4 golden jackal mandible lengths (in mm):\n",
        "120, 107, 110, and 116. Which of the following could be a possible\n",
        "bootstrap resample? Explain why or why not.\n",
        "\n",
        "### <a name=\"16q4a\">Question 4a</a>\n",
        "\n",
        "---\n",
        "\n",
        "120, 107, 116\n",
        "\n",
        "#### <a name=\"16sol4a\">Solution to Question 4a</a>\n",
        "\n",
        "---\n",
        "\n",
        "<br>  \n",
        "<br>  \n",
        "<br>\n",
        "\n"
      ],
      "metadata": {
        "id": "_-uTsJfvFk4x"
      },
      "id": "_-uTsJfvFk4x"
    },
    {
      "cell_type": "markdown",
      "source": [
        "### <a name=\"16q4b\">Question 4b</a>\n",
        "\n",
        "---\n",
        "\n",
        "110, 110, 110, 110\n",
        "\n",
        "#### <a name=\"16sol4b\">Solution to Question 4b</a>\n",
        "\n",
        "---\n",
        "\n",
        "<br>  \n",
        "<br>  \n",
        "<br>\n",
        "\n"
      ],
      "metadata": {
        "id": "PAux_EwGFmGF"
      },
      "id": "PAux_EwGFmGF"
    },
    {
      "cell_type": "markdown",
      "source": [
        "### <a name=\"16q4c\">Question 4c</a>\n",
        "\n",
        "---\n",
        "\n",
        "120, 107, 110, 116\n",
        "\n",
        "#### <a name=\"16sol4c\">Solution to Question 4c</a>\n",
        "\n",
        "---\n",
        "\n",
        "<br>  \n",
        "<br>  \n",
        "<br>\n",
        "\n"
      ],
      "metadata": {
        "id": "JfTg_BxaFnS-"
      },
      "id": "JfTg_BxaFnS-"
    },
    {
      "cell_type": "markdown",
      "source": [
        "### <a name=\"16q4d\">Question 4d</a>\n",
        "\n",
        "---\n",
        "\n",
        "120, 107, 110, 116, 120\n",
        "\n",
        "#### <a name=\"16sol4d\">Solution to Question 4d</a>\n",
        "\n",
        "---\n",
        "\n",
        "<br>  \n",
        "<br>  \n",
        "<br>\n",
        "\n"
      ],
      "metadata": {
        "id": "FcKTuK0bFoZk"
      },
      "id": "FcKTuK0bFoZk"
    },
    {
      "cell_type": "markdown",
      "source": [
        "### <a name=\"16q4e\">Question 4e</a>\n",
        "\n",
        "---\n",
        "\n",
        "110, 130, 120, 107\n",
        "\n",
        "#### <a name=\"16sol4e\">Solution to Question 4e</a>\n",
        "\n",
        "---\n",
        "\n",
        "<br>  \n",
        "<br>  \n",
        "<br>\n",
        "\n",
        "## <a name=\"16q5\">Question 5</a>\n",
        "\n",
        "---\n",
        "\n",
        "How many possible bootstrap resamples can be constructed from an\n",
        "original sample that has $n=20$ values?\n",
        "\n",
        "### <a name=\"16sol5\">Solution to Question 5</a>\n",
        "\n",
        "---"
      ],
      "metadata": {
        "id": "R4WFZuUiFqCt"
      },
      "id": "R4WFZuUiFqCt"
    },
    {
      "cell_type": "code",
      "execution_count": null,
      "metadata": {
        "id": "5c85fa36-d0c8-4054-bd06-52c4b966b82d"
      },
      "outputs": [],
      "source": [
        "# How many possible resamples are there for n=20?\n",
        "\n"
      ],
      "id": "5c85fa36-d0c8-4054-bd06-52c4b966b82d"
    },
    {
      "cell_type": "markdown",
      "metadata": {
        "id": "4fd8efcc-c029-45aa-9614-72b2a5a23dc8"
      },
      "source": [
        "<br>  \n",
        "<br>  \n",
        "<br>\n",
        "\n"
      ],
      "id": "4fd8efcc-c029-45aa-9614-72b2a5a23dc8"
    },
    {
      "cell_type": "markdown",
      "source": [
        "# <a name=\"16monte\">Monte Carlo Methods</a>\n",
        "\n",
        "---\n",
        "\n",
        " <font color=\"dodgerblue\">**Monte Carlo methods**</font> are\n",
        "computational algorithms that rely on repeated random sampling. A\n",
        "bootstrap distribution is one example of a Monte Carlo method. A\n",
        "bootstrap distribution theoretically would contain the sample statistics\n",
        "from *all possible bootstrap resamples*. If we pick an initial sample\n",
        "size $n$, then there exists a total of $n^n$ possible bootstrap\n",
        "resamples. In the case of $n=20$, we have\n",
        "$20^{20} \\approx 1.049 \\times 10^{26}$ possible resamples. If we ignore\n",
        "the ordering in which we pick the sample, when $n=20$, we have a total\n",
        "of $68,\\!923,\\!264,\\!410$ (almost 69 billion!) distinct bootstrap\n",
        "resamples.\n",
        "\n",
        "For small samples, we could write out all possible bootstrap resamples.\n",
        "For larger values of $n$ (and we see $n=20$ is already extremely large),\n",
        "it is really not practical or feasible to generate all possible\n",
        "bootstrap resamples while avoiding duplicates. Instead, we use Monte\n",
        "Carlo methods to repeatedly pick random samples that we use to\n",
        "approximate a sampling distribution. The Monte Carlo method of\n",
        "generating many (but necessarily all) bootstrap resamples introduces\n",
        "additional uncertainty and variability into the analysis. The more\n",
        "bootstrap resamples we choose, the less uncertainty we have.\n",
        "\n",
        "-   By default, we will create $N =100,\\!000 = 10^5$ bootstrap   resamples.\n",
        "-   In some cases (very large $n$), we may choose a smaller number of   resamples for the sake of time.\n",
        "-   For typically bootstrapping, it is recommended to use at least   $N=10,\\!000$ bootstrap resamples.\n",
        "\n",
        "Monte Carlo methods were first explored by the Polish mathematician\n",
        "Stanislow Ulam in the 1940s while working on the initial development of\n",
        "nuclear weapons at Los Alamos National Lab in New Mexico. The research\n",
        "required evaluating extremely challenging integrals. Ulam devised a\n",
        "numerical algorithm based on resampling to approximate the integrals.\n",
        "The method was later named “Monte Carlo”, a gambling region in Monaco,\n",
        "due to the randomness involved in the computations.\n",
        "\n"
      ],
      "metadata": {
        "id": "DNtqAYajFslF"
      },
      "id": "DNtqAYajFslF"
    },
    {
      "cell_type": "markdown",
      "source": [
        "## <a name=\"16jackal-boot\">Creating a Bootstrap Distribution in R</a>\n",
        "\n",
        "---\n",
        "\n",
        "Let’s return to our statistical question:\n",
        "\n",
        "> “What is the average mandible (jaw) length of all golden jackals?\n",
        "\n",
        "We have already picked one random sample of $n=20$ adult golden jackals.\n",
        "The mandible lengths of our sample are stored in the vector\n",
        "`jaw.sample`.\n",
        "\n"
      ],
      "metadata": {
        "id": "DJKjPWspFufl"
      },
      "id": "DJKjPWspFufl"
    },
    {
      "cell_type": "markdown",
      "source": [
        "### <a name=\"16jackal-pick\">Step 1: Pick a Bootstrap Resample</a>\n",
        "\n",
        "---\n",
        "\n",
        "We use the `sample()` function in R to pick a random sample of values\n",
        "out of the values in `jaw.sample`.\n",
        "\n",
        "-   Notice the resample has size $n=20$, the same as the original   sample.\n",
        "-   We use the option `replace = TRUE` since we want to sample with   replacement.\n",
        "-   Running the code cell below creates one bootstrap resample stored in   `temp.samp`."
      ],
      "metadata": {
        "id": "eVu-UbDiFwY0"
      },
      "id": "eVu-UbDiFwY0"
    },
    {
      "cell_type": "code",
      "execution_count": null,
      "metadata": {
        "id": "1fb7d57b-bd8b-471c-bff8-9c71bc28f2a9"
      },
      "outputs": [],
      "source": [
        "temp.samp <- sample(jaw.sample, size=20, replace = TRUE)  # sample with replacement\n",
        "temp.samp  # print sample to screen"
      ],
      "id": "1fb7d57b-bd8b-471c-bff8-9c71bc28f2a9"
    },
    {
      "cell_type": "markdown",
      "metadata": {
        "id": "081322b2-e566-4ccb-bb6c-fb7bf13de26d"
      },
      "source": [
        "### <a name=\"16jackal-stat\">Step 2: Calculate Statistic(s) from the Bootstrap Sample</a>\n",
        "\n",
        "---\n",
        "\n",
        "In the golden jackal mandible length example, we want to use information\n",
        "about the distribution of sample means to estimate a population mean.\n",
        "Thus, we calculate the mean of the bootstrap resample `temp.samp` that\n",
        "we picked in the previous code cell."
      ],
      "id": "081322b2-e566-4ccb-bb6c-fb7bf13de26d"
    },
    {
      "cell_type": "code",
      "execution_count": null,
      "metadata": {
        "id": "2a819656-7c8b-4609-9068-b2358f835958"
      },
      "outputs": [],
      "source": [
        "mean(temp.samp)  # mean of bootstrap resample"
      ],
      "id": "2a819656-7c8b-4609-9068-b2358f835958"
    },
    {
      "cell_type": "markdown",
      "metadata": {
        "id": "a2530739-ae2a-4e91-a631-5a24f60733a6"
      },
      "source": [
        "### <a name=\"16jackal-repeat\">Step 3: Repeat Over and Over Again</a>\n",
        "\n",
        "---\n",
        "\n",
        "In the code cell below, we repeat steps 1 and 2 over and over again. The\n",
        "sample means we calculate from each bootstrap resample are stored in a\n",
        "vector named `boot.dist`. Run the code cell below to generate a\n",
        "bootstrap distribution for the sample mean.\n",
        "\n",
        "-   A  <font color=\"tomato\">solid red line</font> marks the   location of the  <font color=\"tomato\">sample mean from the   original sample</font>.\n",
        "-   A  <font color=\"dodgerblue\">dashed blue line</font> marks the   location of the  <font color=\"dodgerblue\">mean of the bootstrap   distribution</font>.\n",
        "-   A  <font color=\"mediumseagreen\">solid green line</font> marks   the location of the  <font color=\"mediumseagreen\">actual   population mean</font><sup>2</sup>.\n",
        "\n",
        "<br>\n",
        "\n",
        "<font size=2>2. Ali Louei Monfared, “Macro-Anatomical Investigation of the Skull of Golden Jackal (Canis aureus) and its Clinical Application during Regional Anesthesia”, *Global Veterinaria* 10 (5): 547-550, 2013.</font>"
      ],
      "id": "a2530739-ae2a-4e91-a631-5a24f60733a6"
    },
    {
      "cell_type": "code",
      "execution_count": null,
      "metadata": {
        "id": "feb0a530-ea9e-4161-bf02-fff56c12856f"
      },
      "outputs": [],
      "source": [
        "##########################\n",
        "# cell is ready to run\n",
        "# no need for edits\n",
        "##########################\n",
        "N <- 10^5  # Number of bootstrap samples\n",
        "boot.dist <- numeric(N)  # create vector to store bootstrap means\n",
        "\n",
        "# for loop that creates bootstrap dist\n",
        "for (i in 1:N)\n",
        "{\n",
        "  x <- sample(jaw.sample, 20, replace = TRUE)  # pick a bootstrap resample\n",
        "  boot.dist[i] <- mean(x)  # compute mean of bootstrap resample\n",
        "}\n",
        "\n",
        "# plot bootstrap distribution\n",
        "hist(boot.dist,\n",
        "     breaks=20,\n",
        "     xlab = \"x-bar, mandible length (in mm)\",\n",
        "     main = \"Bootstrap Distribution for Sample Mean (n=20)\",\n",
        "     cex.lab=1.5, cex.axis=1.5, cex.main=1.5)\n",
        "\n",
        "# red line at the observed sample mean\n",
        "abline(v = mean(jaw.sample), col = \"firebrick2\", lwd = 2, lty = 1)\n",
        "\n",
        "# blue line at the center of bootstrap dist\n",
        "abline(v = mean(boot.dist), col = \"blue\", lwd = 2, lty = 2)\n",
        "\n",
        "# green line at the population mean, 112 mm\n",
        "abline(v = 112, col = \"mediumseagreen\", lwd = 2, lty = 1)"
      ],
      "id": "feb0a530-ea9e-4161-bf02-fff56c12856f"
    },
    {
      "cell_type": "markdown",
      "metadata": {
        "id": "ab81e7cd-6960-4c7c-9c1d-3d4c39b47ac8"
      },
      "source": [
        "## <a name=\"16q6\">Question 6</a>\n",
        "\n",
        "---\n",
        "\n",
        "What are the mean and standard error of the bootstrap distribution?\n",
        "Complete the code below to compute these values."
      ],
      "id": "ab81e7cd-6960-4c7c-9c1d-3d4c39b47ac8"
    },
    {
      "cell_type": "code",
      "execution_count": null,
      "metadata": {
        "id": "6a1515a8-0a7d-4a08-beda-1be265c6c184"
      },
      "outputs": [],
      "source": [
        "# calculate center of bootstrap dist\n",
        "\n",
        "\n",
        "# calculate bootstrap standard error\n",
        "\n"
      ],
      "id": "6a1515a8-0a7d-4a08-beda-1be265c6c184"
    },
    {
      "cell_type": "markdown",
      "metadata": {
        "id": "d97f50f4-3fbf-42ac-959c-3ba2b02c6103"
      },
      "source": [
        "### <a name=\"16sol6\">Solution to Question 6</a>\n",
        "\n",
        "---\n",
        "\n",
        "<br>  \n",
        "<br>\n",
        "\n"
      ],
      "id": "d97f50f4-3fbf-42ac-959c-3ba2b02c6103"
    },
    {
      "cell_type": "markdown",
      "source": [
        "# <a name=\"16bias\">Measuring the Bias of Booststrap Estimates</a>\n",
        "\n",
        "---\n",
        "\n",
        "Recall if ${\\color{tomato}{\\widehat{\\theta}}}$ is an estimator for the\n",
        "parameter ${\\color{mediumseagreen}{\\theta}}$, then we define the <font color=\"dodgerblue\">**bias**</font> of an estimator as\n",
        "\n",
        "$${\\large \\color{dodgerblue}{ \\boxed{\\mbox{Bias}(\\widehat{\\theta}) = {\\color{tomato}{\\widehat{\\theta}}} - {\\color{mediumseagreen}{\\theta}}}.}}$$\n",
        "\n",
        "**In the case of bootstrapping:**\n",
        "\n",
        "-   We use   ${\\color{tomato}{E( \\overline{X}_{\\rm{boot}}) = \\hat{\\mu}_{\\rm{boot}}}}$,   the  <font color=\"tomato\">mean of the bootstrap distribution</font>, as the <font color=\"tomato\">estimator</font>.\n",
        "-   We use the <font color=\"mediumseagreen\">mean from the original   sample</font>, ${\\color{mediumseagreen}{\\bar{x}}}$, <font color=\"mediumseagreen\">in place of the parameter $\\theta$</font>.\n",
        "-   We define the  <font color=\"dodgerblue\">**bootstrap estimate of   bias**</font> as\n",
        "\n",
        "$${\\large \\color{dodgerblue}{ \\boxed{\\mbox{Bias}_{\\rm{boot}} \\big( \\hat{\\mu}_{\\rm{boot}} \\big) = {\\color{tomato}{\\hat{\\mu}_{\\rm{boot}}}} - {\\color{mediumseagreen}{\\bar{x}}}.}}}$$\n",
        "\n",
        "We use the center of the bootstrap distribution,\n",
        "${\\color{tomato}{E( \\overline{X}_{\\rm{boot}}) = \\hat{\\mu}_{\\rm{boot}}}}$\n",
        "as the estimator for the population mean.\n",
        "\n",
        "-   Do not use the mean of the original sample, $\\bar{x}$, as the   estimator.\n",
        "-   The values of $\\hat{\\mu}_{\\rm{boot}}$ and $\\bar{x}$ are usually very   close, but not equal.\n",
        "-   The difference $\\hat{\\mu}_{\\rm{boot}} - \\bar{x}$ is used to estimate   the bias of $\\hat{\\mu}_{\\rm{boot}}$.\n",
        "\n"
      ],
      "metadata": {
        "id": "9SmjAhZeEanZ"
      },
      "id": "9SmjAhZeEanZ"
    },
    {
      "cell_type": "markdown",
      "source": [
        "## <a name=\"16q7\">Question 7</a>\n",
        "\n",
        "---\n",
        "\n",
        "Compute the bootstrap estimate of bias if we use the mean of the\n",
        "bootstrap distribution from \\[Question 6\\] as our estimate for the mean\n",
        "mandible length of all adult golden jackals.\n",
        "\n",
        "### <a name=\"16sol7\">Solution to Question 7</a>\n",
        "\n",
        "---\n",
        "\n",
        "<br>  \n",
        "<br>  \n",
        "<br>\n",
        "\n"
      ],
      "metadata": {
        "id": "eGKuqxmREddA"
      },
      "id": "eGKuqxmREddA"
    },
    {
      "cell_type": "markdown",
      "source": [
        "## <a name=\"16q8\">Question 8</a>\n",
        "\n",
        "---\n",
        "\n",
        "What common distribution do you believe is the best model for mandible\n",
        "lengths of all golden jackals? Explain your reasoning.\n",
        "\n",
        "### <a name=\"16sol8\">Solution to Question 8</a>\n",
        "\n",
        "---\n",
        "\n",
        "<br>  \n",
        "<br>  \n",
        "<br>\n",
        "\n"
      ],
      "metadata": {
        "id": "i8nOY0GlEf8c"
      },
      "id": "i8nOY0GlEf8c"
    },
    {
      "cell_type": "markdown",
      "source": [
        "# <a name=\"16clt\">A Central Limit Theorem Model</a>\n",
        "\n",
        "---\n",
        "\n",
        "Let $X$ be the mandible length (in mm) of a randomly selected adult\n",
        "golden jackal. Based on the sample data in `jaw.sample`, we could come\n",
        "up with unbiased estimates for the population mean and population\n",
        "variance using:\n",
        "\n",
        "-   $\\mu \\approx \\hat{\\mu} = \\frac{1}{n} \\sum x_i =$ `mean(jaw.sample)`   $=111$ mm.\n",
        "-   $\\sigma^2 \\approx s^2 = \\frac{1}{n-1} \\sum (x_i - \\bar{x})^2 =$   `var(jaw.sample)` $=15.05$ mm<sup>2</sup>.\n",
        "-   This gives $\\sigma \\approx s = \\sqrt{15.05} = 3.88$ mm.\n",
        "\n",
        "We now have an estimate for the population, namely\n",
        "$X \\sim N(111, 3.88)$. Although our sample size is relatively small\n",
        "($n=20 < 30$), we can apply the [Central Limit Theorem (CLT) for\n",
        "Means](https://githubtocolab.com/CU-Denver-MathStats-OER/Statistical-Theory/blob/main/Chap3/10-Sampling-Dist-Mean.ipynb) since the population is assumed to be\n",
        "symmetric (normally distributed).\n",
        "\n"
      ],
      "metadata": {
        "id": "wgpjTgXBEhde"
      },
      "id": "wgpjTgXBEhde"
    },
    {
      "cell_type": "markdown",
      "source": [
        "## <a name=\"16q9\">Question 9</a>\n",
        "\n",
        "---\n",
        "\n",
        "Using the CLT on our normal population model $X \\sim N(111, 3.88)$ for\n",
        "the population, we can derive a theoretical model for the distribution\n",
        "of sample means for $n=20$. Using the CLT for means, give the mean and\n",
        "standard error for the sampling distribution for $\\overline{X}$. **How\n",
        "do your answers compare to approximations you found in \\[Question 6\\]\n",
        "for the bootstrap distribution approximation of the sampling\n",
        "distribution for sample means?**\n",
        "\n",
        "### <a name=\"16sol9\">Solution to Question 9</a>\n",
        "\n",
        "---\n",
        "\n",
        "<br>  \n",
        "<br>  \n",
        "<br>\n",
        "\n"
      ],
      "metadata": {
        "id": "dCfMDrWhEixe"
      },
      "id": "dCfMDrWhEixe"
    },
    {
      "cell_type": "markdown",
      "source": [
        "# <a name=\"16compare-clt\">Comparison of Bootstrap Approximations to CLT</a>\n",
        "\n",
        "---\n",
        "\n",
        "Consider the theoretical population $X \\sim N(23,7)$. Below we compare the sampling distribution for the mean obtained using the central limit theorem on the top row with one random sample and a corresponding bootstrap distribution for the sample mean on the bottom row.\n",
        "\n",
        "\n",
        "<figure>\n",
        "<img\n",
        "src=\"https://upload.wikimedia.org/wikipedia/commons/1/1c/16fig-clt-boot-compare.png\"\n",
        "alt=\"Comparing Bootstrap Approximation of Sampling Distribution to CLT\" width = \"100%\"/>\n",
        "<figcaption aria-hidden=\"true\">\n",
        "Credit: Adam Spiegler <a href=\"https://commons.wikimedia.org/wiki/File:16fig-clt-boot-compare.png\">“Comparing Bootstrap and CLT”</a>, <a href=\"https://creativecommons.org/licenses/by-sa/4.0\">CC BY-SA 4.0</a>\n",
        "</figcaption>\n",
        "</figure>\n",
        "\n",
        "|  | <font size=\"3\">Mean</font> &nbsp; &nbsp; &nbsp; &nbsp; &nbsp; &nbsp; &nbsp; &nbsp; &nbsp; &nbsp; &nbsp; &nbsp; | <font size=\"3\">Standard deviation</font> &nbsp; &nbsp; &nbsp; &nbsp; &nbsp; &nbsp; &nbsp; &nbsp; &nbsp; &nbsp; &nbsp; &nbsp; |\n",
        "|----------|----------------|-------------------------|\n",
        "| <font size=\"3\">Population</font>  | ${\\large \\mu_X= 23}$ | ${\\large\\sigma_X = 7}$ |\n",
        "| <font size=\"3\">Theoretical Sampling Dist for</font> ${\\large\\overline{X} }$ | ${\\large \\mu_{\\bar{X}}= 23}$ | ${\\large \\sigma_{\\overline{X}} = \\mbox{SE}(\\overline{X}) = 0.99}$ |\n",
        "| <font size=\"3\">Sample ($n=50$)</font> | ${\\large \\bar{x} = 22.69}$ | ${\\large s = 6.15}$  |\n",
        "| <font size=\"3\">Bootstrap distribution</font> | ${\\large\\hat{\\mu}_{\\rm{boot}} = 22.88}$ | ${\\large\\mbox{SE}_{\\rm{boot}}(\\overline{X}) = 0.938}$ |\n",
        "\n"
      ],
      "metadata": {
        "id": "Vd12lgfJEkQv"
      },
      "id": "Vd12lgfJEkQv"
    },
    {
      "cell_type": "markdown",
      "source": [
        "## <a name=\"16q10\">Question 10</a>\n",
        "\n",
        "---\n",
        "\n",
        "a.  Compare the population and sample distributions. What is similar   about the two distributions? What are the differences?\n",
        "\n",
        "<br>\n",
        "\n",
        "b.  Compare the CLT sampling distribution and bootstrap sampling   distribution. What is similar about the two distributions? What are   the differences?\n",
        "\n",
        "### <a name=\"16sol10\">Solution to Question 10</a>\n",
        "\n",
        "---\n",
        "\n",
        "a.  ??\n",
        "\n",
        "<br>  \n",
        "<br>\n",
        "\n",
        "b.  ??\n",
        "\n",
        "<br>  \n",
        "<br>\n",
        "\n"
      ],
      "metadata": {
        "id": "G9z-832qEmIP"
      },
      "id": "G9z-832qEmIP"
    },
    {
      "cell_type": "markdown",
      "source": [
        "## <a name=\"16plug-in\">The Plug-in Principle</a>\n",
        "\n",
        "---\n",
        "\n",
        " <font color=\"dodgerblue\">**The Plug-in Principle:**</font> If\n",
        "something (such as a characteristic of a population) is unknown,\n",
        "substitute (plug-in) an estimate. For example, if we do not know the\n",
        "population mean $\\mu$, the sample mean $\\bar{x}$ is a nice, unbiased\n",
        "substitute. If a population standard deviation $\\sigma$ is unknown, we\n",
        "can use substitute the sample standard deviation, $s$.\n",
        "\n",
        "-   Bootstrapping is an extreme application of this principle.\n",
        "-   We replace the entire population (not just one parameter) by the   entire set of data from the sample.\n",
        "-   We can use our substitute for the population to generate a bootstrap   distribution to estimate a sampling distribution.\n",
        "\n"
      ],
      "metadata": {
        "id": "mBBhPhKPEsyV"
      },
      "id": "mBBhPhKPEsyV"
    },
    {
      "cell_type": "markdown",
      "source": [
        "# <a name=\"16prop-boot\">Properties of Bootstrap Estimators</a>\n",
        "\n",
        "---\n",
        "\n",
        "-   The goal of a bootstrap distribution is to estimate a sampling   distribution for some statistic.\n",
        "-   Bootstrap distributions are  <font color=\"tomato\">**biased   estimators for a population mean**</font> since they are centered   near $\\bar{x}$ not necessarily $\\mu$.\n",
        "    -   Thus, the mean of a bootstrap distribution is not useful alone.\n",
        "    -   But bootstrapping is useful at quantifying the behavior of a parameter estimate.\n",
        "-   For most common statistics, bootstrap distributions provide good   estimates for the true <font color=\"dodgerblue\">**spread**</font>, <font color=\"dodgerblue\">**shape**</font>, and <font color=\"dodgerblue\">**bias**</font> of a sampling distribution   for the statistic of interest.\n",
        "\n"
      ],
      "metadata": {
        "id": "e-ZiCPLhEuR9"
      },
      "id": "e-ZiCPLhEuR9"
    },
    {
      "cell_type": "markdown",
      "source": [
        "## <a name=\"16q11\">Question 11: Arsenic Case Study</a>\n",
        "\n",
        "---\n",
        "\n",
        "Arsenic is a naturally occurring element in the groundwater in\n",
        "Bangladesh. Much of this water is used for drinking in rural areas, so\n",
        "arsenic poisoning is a serious health issue. The data set `Bangladesh`\n",
        "in the `resampledata` package<sup>3</sup> contains measurements on arsenic,\n",
        "chlorine, and cobalt levels (in parts per billion, ppb) present in each\n",
        "of 271 groundwater samples.\n",
        "\n",
        "<br>\n",
        "\n",
        "<font size=2>3.  Laura M. Chihara and Tim C. Hesterberg (2019) *Mathematical Statistics with Resampling and R*. Second Edition. John Wiley & Sons, Hoboken, NJ.</font>"
      ],
      "metadata": {
        "id": "AK9EN43FEvsR"
      },
      "id": "AK9EN43FEvsR"
    },
    {
      "cell_type": "markdown",
      "source": [
        "### <a name=\"16load-arsenic\">Loading the Data</a>\n",
        "\n",
        "---\n",
        "\n",
        "It is very likely you do not have the package `resampledata` installed.\n",
        "You will need to first install the `resampledata` package.\n",
        "\n",
        "-   Go to the R Console.\n",
        "-   Run the command `> install.packages(\"resampledata\")`.\n",
        "\n",
        "You will only need to run the `install.package()` command one time. You\n",
        "can now access `resampledata` anytime you like! However, you will need\n",
        "to run the command `library(resampledata)` during any R session in which\n",
        "you want to access data from the `resampledata` package. **Be sure you\n",
        "have first installed the `resampledata` package before executing the\n",
        "code cell below.**"
      ],
      "metadata": {
        "id": "ss1EFLrCExVi"
      },
      "id": "ss1EFLrCExVi"
    },
    {
      "cell_type": "code",
      "source": [
        "install.packages(\"resampledata\")"
      ],
      "metadata": {
        "id": "Xz9ryKW8B876"
      },
      "id": "Xz9ryKW8B876",
      "execution_count": null,
      "outputs": []
    },
    {
      "cell_type": "code",
      "execution_count": null,
      "metadata": {
        "id": "8f0b6b9b-466a-4430-acc1-523f8191020e"
      },
      "outputs": [],
      "source": [
        "# be sure you have already installed the resampledata package\n",
        "library(resampledata)  # loading resampledata package"
      ],
      "id": "8f0b6b9b-466a-4430-acc1-523f8191020e"
    },
    {
      "cell_type": "markdown",
      "metadata": {
        "id": "bfd94bde-a0e2-419f-aea9-6310fd55c2ec"
      },
      "source": [
        "### <a name=\"16q11a\">Question 11a</a>\n",
        "\n",
        "---\n",
        "\n",
        "Complete the code cell below to calculate the mean and standard\n",
        "deviation and size of the arsenic level of the sample.\n",
        "\n",
        "#### <a name=\"16sol11a\">Solution to Question 11a</a>\n",
        "\n",
        "---"
      ],
      "id": "bfd94bde-a0e2-419f-aea9-6310fd55c2ec"
    },
    {
      "cell_type": "code",
      "execution_count": null,
      "metadata": {
        "id": "805ffcf2-014d-4d9e-8645-ab7ad51e28d8"
      },
      "outputs": [],
      "source": [
        "# be sure you have already installed the resampledata package\n",
        "mean.arsenic <- ??  # sample mean\n",
        "sd.arsenic <- ??  # sample standard deviation\n",
        "n.arsenic <- length(arsenic)  # how many observations in arsenic"
      ],
      "id": "805ffcf2-014d-4d9e-8645-ab7ad51e28d8"
    },
    {
      "cell_type": "markdown",
      "metadata": {
        "id": "d72366ad-6db1-4986-892f-a902bbf232c1"
      },
      "source": [
        "<br>  \n",
        "<br>\n",
        "\n"
      ],
      "id": "d72366ad-6db1-4986-892f-a902bbf232c1"
    },
    {
      "cell_type": "markdown",
      "source": [
        "### <a name=\"16q11b\">Question 11b</a>\n",
        "\n",
        "---\n",
        "\n",
        "Create a histogram to show the shape of the distribution of the sample\n",
        "data. How would you describe the shape?\n",
        "\n",
        "#### <a name=\"16ol11b\">Solution to Question 11b</a>\n",
        "\n",
        "---"
      ],
      "metadata": {
        "id": "yj3laCK1E0QS"
      },
      "id": "yj3laCK1E0QS"
    },
    {
      "cell_type": "code",
      "execution_count": null,
      "metadata": {
        "id": "b9ef364f-0975-41fb-9895-2376a3b06862"
      },
      "outputs": [],
      "source": [
        "# create a histogram of the sample arsenic data\n",
        "hist(??)"
      ],
      "id": "b9ef364f-0975-41fb-9895-2376a3b06862"
    },
    {
      "cell_type": "markdown",
      "metadata": {
        "id": "bc6f393f-5d23-4575-8a43-236084261f3c"
      },
      "source": [
        "<br>  \n",
        "<br>\n",
        "\n"
      ],
      "id": "bc6f393f-5d23-4575-8a43-236084261f3c"
    },
    {
      "cell_type": "markdown",
      "source": [
        "### <a name=\"16ol11c\">Question 11c</a>\n",
        "\n",
        "---\n",
        "\n",
        "Complete the code cell below to generate a bootstrap distribution for\n",
        "the sample mean. What are the mean and standard error of the bootstrap\n",
        "distribution?\n",
        "\n",
        "#### <a name=\"16ol11c\">Solution to Question 11c</a>\n",
        "\n",
        "---"
      ],
      "metadata": {
        "id": "haP2fBuVE1eR"
      },
      "id": "haP2fBuVE1eR"
    },
    {
      "cell_type": "code",
      "execution_count": null,
      "metadata": {
        "id": "df7e89bc-ecea-496e-ba23-e51d319be92b"
      },
      "outputs": [],
      "source": [
        "N <- 10^5  # number of bootstrap samples\n",
        "boot.arsenic <- numeric(N)  # create vector to store bootstrap means\n",
        "\n",
        "# Set up a for loop!\n",
        "for (i in 1:N)\n",
        "{\n",
        "  x <- sample(??, size = ??, replace = ??)  # pick a bootstrap resample\n",
        "  boot.arsenic[i] <- ??  # calculate relevant sample statistic\n",
        "}\n",
        "\n",
        "boot.mean <- mean(??)  # calculate center of bootstrap dist\n",
        "boot.se <- sd(??)  # calculate bootstrap standard error\n",
        "\n",
        "# plot bootstrap distribution\n",
        "hist(boot.arsenic,  xlab = \"xbar\",\n",
        "     main = \"Bootstrap Distribution\",\n",
        "     cex.lab=1.5, cex.axis=1.5, cex.main=1.5)\n",
        "\n",
        "# add a red line at the observed sample mean\n",
        "abline(v = ??, col = \"firebrick2\", lwd = 2, lty = 1)\n",
        "\n",
        "# add a blue line at the center of bootstrap dist\n",
        "abline(v = ??, col = \"blue\", lwd = 2, lty = 2)"
      ],
      "id": "df7e89bc-ecea-496e-ba23-e51d319be92b"
    },
    {
      "cell_type": "code",
      "execution_count": null,
      "metadata": {
        "id": "d8b1db4c-0e91-4f7d-9ee8-11045197fe96"
      },
      "outputs": [],
      "source": [
        "# print bootstrap estimate and standard error to screen\n",
        "boot.mean  # mean (center) of bootstrap dist\n",
        "boot.se  # standard error (spread) of bootstrap dist"
      ],
      "id": "d8b1db4c-0e91-4f7d-9ee8-11045197fe96"
    },
    {
      "cell_type": "code",
      "execution_count": null,
      "metadata": {
        "id": "413fccc5-7daf-40b3-be06-ace823596ebd"
      },
      "outputs": [],
      "source": [
        "# compare bootstrap dist to normal dist\n",
        "# run to create a qq-plot\n",
        "qqnorm(boot.dist)\n",
        "qqline(boot.dist)"
      ],
      "id": "413fccc5-7daf-40b3-be06-ace823596ebd"
    },
    {
      "cell_type": "markdown",
      "metadata": {
        "id": "c6896a2b-49b8-487b-8773-ccaeb1a2799c"
      },
      "source": [
        "<br>  \n",
        "<br>\n",
        "\n"
      ],
      "id": "c6896a2b-49b8-487b-8773-ccaeb1a2799c"
    },
    {
      "cell_type": "markdown",
      "source": [
        "### <a name=\"16q11d\">Question 11d</a>\n",
        "\n",
        "---\n",
        "\n",
        "Calculate the bootstrap estimate for bias.\n",
        "\n",
        "#### <a name=\"16ol11d\">Solution to Question 11d</a>\n",
        "\n",
        "---"
      ],
      "metadata": {
        "id": "14ppKK3dE4fl"
      },
      "id": "14ppKK3dE4fl"
    },
    {
      "cell_type": "code",
      "execution_count": null,
      "metadata": {
        "id": "6db1d463-b302-4a8a-b8b0-a17103bb126c"
      },
      "outputs": [],
      "source": [
        "# calculate bootstrap estimate of bias\n"
      ],
      "id": "6db1d463-b302-4a8a-b8b0-a17103bb126c"
    },
    {
      "cell_type": "markdown",
      "source": [
        "# <a name=\"16CC License\">Creative Commons License Information</a>\n",
        "---\n",
        "\n",
        "\n",
        "![Creative Commons\n",
        "License](https://i.creativecommons.org/l/by-nc-sa/4.0/88x31.png)\n",
        "\n",
        "*Statistical Methods: Exploring the Uncertain* by [Adam\n",
        "Spiegler (University of Colorado Denver)](https://github.com/CU-Denver-MathStats-OER/Statistical-Theory)\n",
        "is licensed under a [Creative Commons\n",
        "Attribution-NonCommercial-ShareAlike 4.0 International\n",
        "License](http://creativecommons.org/licenses/by-nc-sa/4.0/). This work is funded by an [Institutional OER Grant from the Colorado Department of Higher Education (CDHE)](https://cdhe.colorado.gov/educators/administration/institutional-groups/open-educational-resources-in-colorado).\n",
        "\n",
        "For similar interactive OER materials in other courses funded by this project in the Department of Mathematical and Statistical Sciences at the University of Colorado Denver, visit <https://github.com/CU-Denver-MathStats-OER>."
      ],
      "metadata": {
        "id": "o4bR8timX770"
      },
      "id": "o4bR8timX770"
    },
    {
      "cell_type": "markdown",
      "metadata": {
        "id": "308bc7de-c9f2-4013-9c34-a5d08a138f47"
      },
      "source": [
        "<br>  \n",
        "<br>"
      ],
      "id": "308bc7de-c9f2-4013-9c34-a5d08a138f47"
    }
  ],
  "nbformat": 4,
  "nbformat_minor": 5,
  "metadata": {
    "kernelspec": {
      "name": "ir",
      "display_name": "R",
      "language": "R"
    },
    "colab": {
      "provenance": []
    }
  }
}