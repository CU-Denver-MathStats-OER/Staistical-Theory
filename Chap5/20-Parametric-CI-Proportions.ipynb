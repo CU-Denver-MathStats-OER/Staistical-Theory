{
 "cells": [
  {
   "cell_type": "markdown",
   "metadata": {},
   "source": [
    "[![Open In\n",
    "Colab](https://colab.research.google.com/assets/colab-badge.svg)](https://githubtocolab.com/CU-Denver-MathStats-OER/Statistical-Theory/blob/main/Chap5/20-Parametric-CI-Proportions.ipynb)\n",
    "<nbsp>\n",
    "\n",
    "# <a name=\"20poll-intro\">Public Opinion Polls</a>\n",
    "\n",
    "------------------------------------------------------------------------\n",
    "\n",
    "Confidence intervals are frequently used when polling public opinion.\n",
    "Rather than give a point estimate alone, poll results are typically\n",
    "given along with a <span style=\"color:dodgerblue\">**margin of\n",
    "error**</span> corresponding to specified\n",
    "<span style=\"color:dodgerblue\">**confidence level**</span>, which is\n",
    "typically 95%. For example, summarized in the bar plot and two-way table\n",
    "below are the results of a PBS NewsHour/NPR/Marist poll[1] that surveyed\n",
    "${\\color{tomato}{n=1,\\!227}}$ randomly selected adults in the US and\n",
    "gauged their opinions on how the US is handling the COVID pandemic\n",
    "approximately one year after the initial outbreak in the United States.\n",
    "\n",
    "<figure>\n",
    "<img\n",
    "src=\"https://raw.githubusercontent.com/CU-Denver-MathStats-OER/Statistical-Theory/main/Images/20fig-vaccination-poll1.png\"\n",
    "style=\"width:70.0%\" alt=\"A stacked bar plot summary of poll results.\" />\n",
    "<figcaption aria-hidden=\"true\">A stacked bar plot summary of poll\n",
    "results.</figcaption>\n",
    "</figure>\n",
    "\n",
    "<figure>\n",
    "<img\n",
    "src=\"https://raw.githubusercontent.com/CU-Denver-MathStats-OER/Statistical-Theory/main/Images/20fig-vaccination-table1.png\"\n",
    "alt=\"A two-way table summary of the poll results\" />\n",
    "<figcaption aria-hidden=\"true\">A two-way table summary of the poll\n",
    "results</figcaption>\n",
    "</figure>\n",
    "\n",
    "[1] “Politics still drives how Americans fell about COVID response, one\n",
    "year in”, [PBS/News\n",
    "Hour](https://www.pbs.org/newshour/politics/politics-still-drives-how-americans-feel-about-covid-response-one-year-in),\n",
    "March 11, 2021"
   ],
   "id": "16b3cc25-bd69-4933-9390-0bed74c0419f"
  },
  {
   "cell_type": "code",
   "execution_count": null,
   "metadata": {},
   "outputs": [],
   "source": [
    "#section break"
   ],
   "id": "3493643a-181e-4c2e-b98f-c1b27ae53b8a"
  },
  {
   "cell_type": "markdown",
   "metadata": {},
   "source": [
    "## <a name=\"20q1\">Question 1</a>\n",
    "\n",
    "------------------------------------------------------------------------\n",
    "\n",
    "Based on this poll summaries above, approximately what proportion of ALL\n",
    "adults in the US do NOT plan to get vaccinated?\n",
    "\n",
    "### <a name=\"20sol1\">Solution to Question 1</a>\n",
    "\n",
    "------------------------------------------------------------------------\n",
    "\n",
    "<br>  \n",
    "<br>  \n",
    "<br>"
   ],
   "id": "c24c651b-b44e-447e-8fa3-f961e8b05685"
  },
  {
   "cell_type": "code",
   "execution_count": null,
   "metadata": {},
   "outputs": [],
   "source": [
    "#section break"
   ],
   "id": "be8a81bc-7ae7-4569-b4e7-858ad4667b8c"
  },
  {
   "cell_type": "markdown",
   "metadata": {},
   "source": [
    "# <a name=\"20general-sum\">A General Summary of Confidence Intervals</a>\n",
    "\n",
    "------------------------------------------------------------------------\n",
    "\n",
    "A confidence interval is an interval estimate for a population parameter\n",
    "with a rate of success given by the confidence level of the interval. We\n",
    "can construct confidence intervals for all sorts of statistics, and we\n",
    "can use confidence intervals as a tool for analyzing possible\n",
    "associations between two different variables. In general, a confidence\n",
    "interval has three components:\n",
    "\n",
    "-   A point estimate is calculated from a sample.\n",
    "-   A confidence level is chosen.\n",
    "-   A margin of error (MoE) to account for the uncertainty due to\n",
    "    sampling.\n",
    "    -   The MoE depends on the confidence level that is chosen.\n",
    "    -   Careful, the MoE is different from the standard error, but they\n",
    "        are related!\n",
    "    -   **The MoE is a multiple of the standard error, SE.**\n",
    "\n",
    "If we want to construct a confidence interval estimate for parameter\n",
    "$\\theta$, then we have\n",
    "\n",
    "$$({\\color{dodgerblue}{\\mbox{point estimate}}}) - {\\color{tomato}{\\mbox{MoE}}} < \\theta < ({\\color{dodgerblue}{\\mbox{point estimate}}}) + {\\color{tomato}{\\mbox{MoE}}}.$$\n",
    "\n",
    "All confidence intervals this same general structure that we can\n",
    "construct using the following steps:\n",
    "\n",
    "1.  <span style=\"color:dodgerblue\">Choose a point estimate.</span>\n",
    "2.  Using the CLT, estimate the standard error.\n",
    "3.  Based on the confidence level, find the appropriate multiple\n",
    "    ($z_{\\alpha/2}$ or $t_{\\alpha/2}$).\n",
    "4.  <span style=\"color:tomato\">The margin of error (MoE) is the of\n",
    "    product the SE and either $z_{\\alpha/2}$ or $t_{\\alpha/2}$.</span>"
   ],
   "id": "11428b5f-b0ea-4869-b99d-809127ad0442"
  },
  {
   "cell_type": "code",
   "execution_count": null,
   "metadata": {},
   "outputs": [],
   "source": [
    "#section break"
   ],
   "id": "9e88efe3-68ad-499d-bbd5-2ec2828f5fde"
  },
  {
   "cell_type": "markdown",
   "metadata": {},
   "source": [
    "#### <a name=\"20single-mean\">Confidence Intervals for a Single Mean with Known $\\sigma^2$</a>\n",
    "\n",
    "------------------------------------------------------------------------\n",
    "\n",
    "If we would like to estimate a population mean $\\mu$ of a population\n",
    "that has known variance $\\sigma^2$, we can pick a random sample of $n$\n",
    "values from the population. Then we have:\n",
    "\n",
    "1.  <span style=\"color:dodgerblue\">A reasonable point estimate is the\n",
    "    corresponding sample mean, $\\bar{x}$.</span>\n",
    "2.  From CLT, the standard error is\n",
    "    $\\mbox{SE} = \\frac{\\sigma}{\\sqrt{n}}$.\n",
    "3.  Using the standard normal distribution, find the value of\n",
    "    $z_{\\alpha/2}$.\n",
    "4.  <span style=\"color:tomato\">The MoE\n",
    "    $= z_{\\alpha/2} \\cdot \\frac{\\sigma}{\\sqrt{n}}$.</span>\n",
    "\n",
    "$$ {\\color{dodgerblue}{\\overline{X}}} - {\\color{tomato}{z_{\\alpha/2} \\cdot \\frac{\\sigma}{\\sqrt{n}}}} < \\mu < {\\color{dodgerblue}{\\overline{X}}} + {\\color{tomato}{z_{\\alpha/2} \\cdot \\frac{\\sigma}{\\sqrt{n}}}} .$$"
   ],
   "id": "fef5955c-b01d-477d-8142-d747b3e27787"
  },
  {
   "cell_type": "code",
   "execution_count": null,
   "metadata": {},
   "outputs": [],
   "source": [
    "#section break"
   ],
   "id": "40f8d3b8-3ed4-4129-9d73-60ae387e4188"
  },
  {
   "cell_type": "markdown",
   "metadata": {},
   "source": [
    "#### <a name=\"20var-known\">Confidence Intervals for a Single Mean with Unknown $\\sigma^2$</a>\n",
    "\n",
    "------------------------------------------------------------------------\n",
    "\n",
    "If we would like to estimate a population mean $\\mu$ of a population\n",
    "that has unknown variance $\\sigma^2$, we can pick a random sample of $n$\n",
    "values from the population. Then we have:\n",
    "\n",
    "1.  <span style=\"color:dodgerblue\">A reasonable point estimate is the\n",
    "    corresponding sample mean, $\\bar{x}$.</span>\n",
    "2.  We use CLT, <span style=\"color:mediumseagreen\">plugging $s$ in place\n",
    "    of $\\sigma$</span>, to get\n",
    "    $\\mbox{SE} = \\frac{{\\color{mediumseagreen}{s}}}{\\sqrt{n}}$.\n",
    "3.  Using a <span style=\"color:mediumseagreen\">$t$-distribution</span>,\n",
    "    find the value of ${\\color{mediumseagreen}{t_{\\alpha/2}}}$.\n",
    "4.  <span style=\"color:tomato\">The MoE\n",
    "    $= {\\color{mediumseagreen}{t_{\\alpha/2}}} \\cdot \\frac{{\\color{mediumseagreen}{s}}}{\\sqrt{n}}$.</span>\n",
    "\n",
    "$${\\color{dodgerblue}{\\overline{X}}} - {\\color{tomato}{t_{\\alpha/2} \\cdot \\frac{s}{\\sqrt{n}}}} < \\mu < {\\color{dodgerblue}{\\overline{X}}} + {\\color{tomato}{t_{\\alpha/2} \\cdot \\frac{s}{\\sqrt{n}}}} .$$"
   ],
   "id": "b7764abe-0f9c-45c7-a955-28aad1d60c5d"
  },
  {
   "cell_type": "code",
   "execution_count": null,
   "metadata": {},
   "outputs": [],
   "source": [
    "#section break"
   ],
   "id": "6a3cebcf-de44-41cd-9c00-e565fd6d8d68"
  },
  {
   "cell_type": "markdown",
   "metadata": {},
   "source": [
    "#### <a name=\"20diff-means\">Confidence Interval for a Difference in Two Means</a>\n",
    "\n",
    "------------------------------------------------------------------------\n",
    "\n",
    "1.  <span style=\"color:dodgerblue\">A reasonable point estimate is the\n",
    "    corresponding difference in sample means,\n",
    "    $\\bar{x}_1 - \\bar{x}_2$.</span>\n",
    "2.  We use CLT, <span style=\"color:mediumseagreen\">plugging $s_1$ and\n",
    "    $s_2$ in place of $\\sigma_1$ and $\\sigma_2$</span>, to get\n",
    "\n",
    "$${\\color{mediumseagreen}{\\mbox{SE} = \\sqrt{ \\frac{s_1^2}{n_1} + \\frac{s_2^2}{n_2}}}}.$$\n",
    "\n",
    "1.  Using a <span style=\"color:mediumseagreen\">$t$-distribution</span>,\n",
    "    find the value of ${\\color{mediumseagreen}{t_{\\alpha/2}}}$.\n",
    "2.  <span style=\"color:tomato\">The MoE\n",
    "    $= {\\color{mediumseagreen}{t_{\\alpha/2}}} \\cdot \\sqrt{ \\frac{{\\color{mediumseagreen}{s_1}}^2}{n_1} + \\frac{{\\color{mediumseagreen}{s_2}}^2}{n_2}}$.</span>\n",
    "\n",
    "$$\\left( {\\color{dodgerblue}{\\overline{X}-\\overline{Y}}} \\right) - {\\color{tomato}{t_{\\alpha/2} \\cdot \\sqrt{ \\frac{s_1^2}{n_1} + \\frac{s_2^2}{n_2}}}} < \\mu_1 - \\mu_2 < \\left( {\\color{dodgerblue}{\\overline{X}-\\overline{Y}}} \\right) + {\\color{tomato}{t_{\\alpha/2} \\cdot \\sqrt{ \\frac{s_1^2}{n_1} + \\frac{s_2^2}{n_2}}}} .$$"
   ],
   "id": "6dff7ea5-4f21-4014-8f7f-a5c72feab209"
  },
  {
   "cell_type": "code",
   "execution_count": null,
   "metadata": {},
   "outputs": [],
   "source": [
    "#section break"
   ],
   "id": "318a4cc7-21a3-4788-978d-77ba96ddce7c"
  },
  {
   "cell_type": "markdown",
   "metadata": {},
   "source": [
    "## <a name=\"20q2\">Question 2</a>\n",
    "\n",
    "------------------------------------------------------------------------\n",
    "\n",
    "We would like to estimate the parameter $p$, the proportion of all\n",
    "adults in the US that do not plan on getting vaccinated. From the\n",
    "vaccination poll in \\[Question 1\\], we have one random sample of 1,227\n",
    "adults. From our sample, we observe that 30% said they do not intend to\n",
    "get vaccinated. Let’s apply the same general process summarized above to\n",
    "construct a 95% confidence interval to estimate the **proportion** of\n",
    "all adults in the US that do not plan on getting vaccinated."
   ],
   "id": "210abcc9-acc3-4c16-bc54-7a08e1022097"
  },
  {
   "cell_type": "code",
   "execution_count": null,
   "metadata": {},
   "outputs": [],
   "source": [
    "#section break"
   ],
   "id": "793ac211-8bc8-4f46-976a-62ea6a65c7e5"
  },
  {
   "cell_type": "markdown",
   "metadata": {},
   "source": [
    "### <a name=\"20q2a\">Question 2a</a>\n",
    "\n",
    "------------------------------------------------------------------------\n",
    "\n",
    "Based on the sample of polled adults, what is a reasonable point\n",
    "estimate for $p$, the proportion of all adults in the US that do not\n",
    "plan on getting vaccinated?\n",
    "\n",
    "#### <a name=\"20sol2a\">Solution to Question 2a</a>\n",
    "\n",
    "------------------------------------------------------------------------\n",
    "\n",
    "<br>  \n",
    "<br>  \n",
    "<br>"
   ],
   "id": "aae3fe1e-a360-478c-9eca-600e6deba076"
  },
  {
   "cell_type": "code",
   "execution_count": null,
   "metadata": {},
   "outputs": [],
   "source": [
    "#section break"
   ],
   "id": "e6d712fa-42c6-4a98-a7a8-d0cffed8c006"
  },
  {
   "cell_type": "markdown",
   "metadata": {},
   "source": [
    "### <a name=\"20q2b\">Question 2b</a>\n",
    "\n",
    "------------------------------------------------------------------------\n",
    "\n",
    "Using the [Central Limit Theorem for\n",
    "proportions](11-Sampling-Dist-Prop.qmd#sec-clt-prop), estimate the\n",
    "standard error for the sampling distribution of sample proportions.\n",
    "\n",
    "To calculate the standard error, we need to know the population\n",
    "proportion $p$. Plug an appropriate sample statistic in place of $p$ to\n",
    "estimate the standard error.\n",
    "\n",
    "#### <a name=\"20sol2b\">Solution to Question 2b</a>\n",
    "\n",
    "------------------------------------------------------------------------\n",
    "\n",
    "<br>  \n",
    "<br>  \n",
    "<br>"
   ],
   "id": "a658eba5-1c35-479d-90fc-60629b70dc04"
  },
  {
   "cell_type": "code",
   "execution_count": null,
   "metadata": {},
   "outputs": [],
   "source": [
    "#section break"
   ],
   "id": "db541494-4872-4dd8-a157-272411ce6388"
  },
  {
   "cell_type": "markdown",
   "metadata": {},
   "source": [
    "### <a name=\"20q2c\">Question 2c</a>\n",
    "\n",
    "------------------------------------------------------------------------\n",
    "\n",
    "Next, we identify the value ($z_{\\alpha/2}$ or $t_{\\alpha/2}$) we\n",
    "multiply the standard error by to get the margin of error. For\n",
    "proportions, as long as the sample is large enough (both $np \\geq 10$\n",
    "and $n(1-p) \\geq 10$), a normal distribution is an accurate model for\n",
    "the underlying sampling distribution.\n",
    "\n",
    "From the poll in \\[Question 1\\], we have $n=1227$. Since we do not know\n",
    "$p$, we substitute $\\hat{p} = 0.3$ instead. Since both\n",
    "$n\\hat{p} \\geq 10$ and $n(1-\\hat{p}) \\geq 10$, we can **use a normal\n",
    "distribution to calculate the margin of error**.\n",
    "\n",
    "What is the value of $z_{\\alpha/2}$ for a 95% confidence interval for a\n",
    "proportion?\n",
    "\n",
    "#### <a name=\"20sol2c\">Solution to Question 2c</a>\n",
    "\n",
    "------------------------------------------------------------------------\n",
    "\n",
    "<br>  \n",
    "<br>  \n",
    "<br>"
   ],
   "id": "e71921d8-4a4d-49c9-90b3-8cbbf780af67"
  },
  {
   "cell_type": "code",
   "execution_count": null,
   "metadata": {},
   "outputs": [],
   "source": [
    "#section break"
   ],
   "id": "78049642-ffc0-4b9d-867e-e589fe12328a"
  },
  {
   "cell_type": "markdown",
   "metadata": {},
   "source": [
    "### <a name=\"20q2d\">Question 2d</a>\n",
    "\n",
    "------------------------------------------------------------------------\n",
    "\n",
    "Based on your previous answers in \\[Question 2\\], give a 95% confidence\n",
    "interval to estimate $p$, the proportion of all adults in the US that do\n",
    "not plan on getting vaccinated.\n",
    "\n",
    "#### <a name=\"20sol2d\">Solution to Question 2d</a>\n",
    "\n",
    "------------------------------------------------------------------------\n",
    "\n",
    "<br>  \n",
    "<br>  \n",
    "<br>"
   ],
   "id": "3a4a293d-f5c6-4756-a634-26cdbd627005"
  },
  {
   "cell_type": "code",
   "execution_count": null,
   "metadata": {},
   "outputs": [],
   "source": [
    "#section break"
   ],
   "id": "23c41110-487f-4521-87c6-556a8f24f4c7"
  },
  {
   "cell_type": "markdown",
   "metadata": {},
   "source": [
    "### <a name=\"20q2e\">Question 2e</a>\n",
    "\n",
    "------------------------------------------------------------------------\n",
    "\n",
    "Interpret the practical meaning of your confidence interval in\n",
    "\\[Question 2d\\] in the context of COVID vaccinations in the US.\n",
    "\n",
    "#### <a name=\"20sol2e\">Solution to Question 2e</a>\n",
    "\n",
    "------------------------------------------------------------------------\n",
    "\n",
    "<br>  \n",
    "<br>  \n",
    "<br>"
   ],
   "id": "931a6e6a-f528-4bf7-a7ef-a5d651ef11ad"
  },
  {
   "cell_type": "code",
   "execution_count": null,
   "metadata": {},
   "outputs": [],
   "source": [
    "#section break"
   ],
   "id": "2a30b322-b66f-4c7e-94ed-aef3335b4fcd"
  },
  {
   "cell_type": "markdown",
   "metadata": {},
   "source": [
    "# <a name=\"20wald-one\">Wald Confidence Interval for a Proportion</a>\n",
    "\n",
    "------------------------------------------------------------------------\n",
    "\n",
    "The <span style=\"color:dodgerblue\">**Wald confidence interval for a\n",
    "proportion**</span> is given by\n",
    "\n",
    "$${\\large \\boxed{ \\mbox{Wald:} \\qquad {\\color{tomato}{\\hat{p}}} - z_{\\alpha/2} \\cdot \\sqrt{ \\frac{{\\color{tomato}{\\hat{p}}}(1-{\\color{tomato}{\\hat{p}}})}{n}}  < p <  {\\color{tomato}{\\hat{p}}} + z_{\\alpha/2} \\cdot \\sqrt{ \\frac{{\\color{tomato}{\\hat{p}}}(1-{\\color{tomato}{\\hat{p}}})}{n}}}}$$\n",
    "\n",
    "We use the **plug-in principle** and <span style=\"color:tomato\">use\n",
    "$\\hat{p}$ for the unknown value of $p$</span> when calculating the\n",
    "standard error.\n",
    "\n",
    "-   The advantage of this estimate is we can do it by hand.\n",
    "-   The downside is that when we use $\\hat{p}$ in place of $p$ we lose\n",
    "    quite a bit of accuracy."
   ],
   "id": "b114a5db-9f9a-4f20-9d91-331274a57c41"
  },
  {
   "cell_type": "code",
   "execution_count": null,
   "metadata": {},
   "outputs": [],
   "source": [
    "#section break"
   ],
   "id": "a9ef932e-7326-4bed-b983-645c85ed4f45"
  },
  {
   "cell_type": "markdown",
   "metadata": {},
   "source": [
    "# <a name=\"20ac\">Agresti-Coull Confidence Interval for a Proportion</a>\n",
    "\n",
    "------------------------------------------------------------------------\n",
    "\n",
    "When constructing a Wald confidence interval for a proportion, we use\n",
    "the sample proportion $\\hat{p}$ as an estimator for $p$. The sample\n",
    "proportion is a very reasonable and intuitive point estimate. In\n",
    "addition, $\\hat{p}$ is an **unbiased** estimator for $p$. However, there\n",
    "are many other estimators that could make sense to use in place of the\n",
    "parameter $p$, and there are other properties of estimators we should\n",
    "take into account. In particular, using a less precise estimator such as\n",
    "$\\hat{p}$ results in a larger margin of error in the confidence interval\n",
    "compared to some other estimators.\n",
    "\n",
    "When studying properties of estimators, we [considered another estimator\n",
    "for the parameter $p$](15-Properties-Estimators.qmd#sec-compare-prop),\n",
    "namely ${\\color{tomato}{\\tilde{p} = \\frac{X+2}{n+4}}}$, where $X$\n",
    "denotes the number of “successes”. Comparing estimators $\\hat{p}$ and\n",
    "$\\tilde{p}$, we discovered that:\n",
    "\n",
    "-   The sample proportion $\\hat{p}$ is unbiased but less precise.\n",
    "-   The modified sample proportion ${\\color{tomato}{\\tilde{p}}}$ is\n",
    "    **slightly biased but more precise**.\n",
    "-   The confidence interval using ${\\color{tomato}{\\tilde{p}}}$ will\n",
    "    usually have a **smaller margin of error** than using $\\hat{p}$.\n",
    "\n",
    "The <span style=\"color:dodgerblue\">**Agresti-Coull confidence interval\n",
    "for a proportion**</span> is\n",
    "\n",
    "$${\\large \\boxed{ \\mbox{Agresti-Coull:} \\qquad {\\color{tomato}{\\tilde{p}}} - z_{\\alpha/2} \\left( \\sqrt{ \\frac{{\\color{tomato}{\\tilde{p}}}(1-{\\color{tomato}{\\tilde{p}}})}{{\\color{dodgerblue}{n+4}}}} \\right) < p <  {\\color{tomato}{\\tilde{p}}} + z_{\\alpha/2} \\left( \\sqrt{ \\frac{{\\color{tomato}{\\tilde{p}}}(1-{\\color{tomato}{\\tilde{p}}})}{{\\color{dodgerblue}{n+4}}}} \\right)}}.$$"
   ],
   "id": "6e2d371e-ab72-407a-bb5b-646d26101909"
  },
  {
   "cell_type": "code",
   "execution_count": null,
   "metadata": {},
   "outputs": [],
   "source": [
    "#section break"
   ],
   "id": "b10febef-88ba-4adf-a5e3-be2cb2c4859f"
  },
  {
   "cell_type": "markdown",
   "metadata": {},
   "source": [
    "## <a name=\"20q3\">Question 3</a>\n",
    "\n",
    "------------------------------------------------------------------------\n",
    "\n",
    "Using the same poll from \\[Question 1\\], find a 95% confidence interval\n",
    "for the proportion of all adults in the US that do not plan to get\n",
    "vaccinated using the Agresti-Coull confidence interval for a proportion.\n",
    "\n",
    "### <a name=\"20sol3\">Solution to Question 3</a>\n",
    "\n",
    "------------------------------------------------------------------------"
   ],
   "id": "8c5e54a0-e0c1-4056-8c71-6542ca1584db"
  },
  {
   "cell_type": "code",
   "execution_count": null,
   "metadata": {},
   "outputs": [],
   "source": [
    "# use code to help with the calculations"
   ],
   "id": "1942d5cc-8ed4-4e3e-b488-b25855d4bf95"
  },
  {
   "cell_type": "markdown",
   "metadata": {},
   "source": [
    "<br>  \n",
    "<br>"
   ],
   "id": "4d221f5e-5e90-40dd-bb89-45c58448e454"
  },
  {
   "cell_type": "code",
   "execution_count": null,
   "metadata": {},
   "outputs": [],
   "source": [
    "#section break"
   ],
   "id": "198a7495-6f98-4c03-a5ea-67540853573c"
  },
  {
   "cell_type": "markdown",
   "metadata": {},
   "source": [
    "# <a name=\"20score\">Score Confidence Interval For a Proportion</a>\n",
    "\n",
    "------------------------------------------------------------------------\n",
    "\n",
    "From the CLT for proportions, we have\n",
    "$\\widehat{P} \\sim N \\left( \\mu_{\\widehat{P}} , \\sigma_{\\widehat{P}} \\right) = N\\left( p, \\sqrt{\\frac{ p (1-p)}{n}} \\right)$.\n",
    "A standardized sample proportion has $z$-score\n",
    "$z = \\frac{\\hat{p} - p}{\\sqrt{\\frac{ p (1-p)}{n}}}$. Thus, for\n",
    "confidence level $CL$, we have\n",
    "\n",
    "$$P \\left( -z_{\\alpha/2} < \\frac{\\hat{p} -\\color{tomato}{p}}{\\sqrt{\\frac{\\color{tomato}{p}(1-\\color{tomato}{p})}{n}}} < z_{\\alpha/2} \\right) =CL.$$\n",
    "\n",
    "In the equation above, the <span style=\"color:tomato\">unknown population\n",
    "parameter $p$ is in red</span>. All the other values ($\\hat{p}$, $n$,\n",
    "and $z_{\\alpha/2}$) in the formula are known values. Given a confidence\n",
    "level, we can algebraically solve for the cutoff values for\n",
    "${\\color{tomato}{p}}$ by solving the equations:\n",
    "\n",
    "$$\\dfrac{\\hat{p} -{\\color{tomato}{p}}}{\\sqrt{\\dfrac{{\\color{tomato}{p}}(1-{\\color{tomato}{p}})}{n}}} = z_{\\alpha/2} \\qquad \\mbox{and} \\qquad \\dfrac{\\hat{p} - {\\color{tomato}{p}}}{\\sqrt{\\dfrac{{\\color{tomato}{p}}(1-{\\color{tomato}{p})}}{n}}} = -z_{\\alpha/2}$$"
   ],
   "id": "ea178c94-62dd-4889-a083-ffac1e98b808"
  },
  {
   "cell_type": "code",
   "execution_count": null,
   "metadata": {},
   "outputs": [],
   "source": [
    "#section break"
   ],
   "id": "a5462012-8e8b-4db8-8558-ee78c1a479ee"
  },
  {
   "cell_type": "markdown",
   "metadata": {},
   "source": [
    "## <a name=\"20score-form\">Score Confidence Interval Formulas</a>\n",
    "\n",
    "------------------------------------------------------------------------\n",
    "\n",
    "The confidence interval estimate resulting from the algebraic solution\n",
    "is called the <span style=\"color:dodgerblue\">**score confidence interval\n",
    "for a proportion**</span>. The algebraic work involved in solving the\n",
    "equations above is provided in the [Appendix](#sec-score). The\n",
    "corresponding lower ($L$) and upper ($U$) cutoffs are:\n",
    "\n",
    "$$\\begin{aligned}\n",
    "&L= \\dfrac{\\hat{p} + \\dfrac{z_{\\alpha/2}^2}{2n} - z_{\\alpha/2} \\cdot \\sqrt{ \\dfrac{\\hat{p}(1-\\hat{p})}{n} + \\dfrac{z_{\\alpha/2}^2}{4n^2}}}{1+ \\dfrac{z_{\\alpha/2}^2}{n}} \\\\\n",
    "\\\\\n",
    "&U= \\dfrac{\\hat{p} + \\dfrac{z_{\\alpha/2}^2}{2n} + z_{\\alpha/2} \\cdot \\sqrt{ \\dfrac{\\hat{p}(1-\\hat{p})}{n} + \\dfrac{z_{\\alpha/2}^2}{4n^2}}}{1+ \\dfrac{z_{\\alpha/2}^2}{n}}\n",
    "\\end{aligned}$$\n",
    "\n",
    "-   **Pro:** There is no additional uncertainty beyond the initial\n",
    "    variability in sampling.\n",
    "-   **Con:** The formulas are quite complicated. Calculating by hand is\n",
    "    not really practical.\n",
    "-   Typically we use technology to calculate score confidence intervals."
   ],
   "id": "c8e7d213-1c25-47bc-9cb4-488cd243ad30"
  },
  {
   "cell_type": "code",
   "execution_count": null,
   "metadata": {},
   "outputs": [],
   "source": [
    "#section break"
   ],
   "id": "99e8cbbc-fe0a-4503-8646-52856a40d20b"
  },
  {
   "cell_type": "markdown",
   "metadata": {},
   "source": [
    "## <a name=\"20score-r\">Score Confidence Intervals in R</a>\n",
    "\n",
    "------------------------------------------------------------------------\n",
    "\n",
    "R has a built in function `prop.test()$conf.int` that calculates a score\n",
    "confidence interval for a proportion.\n",
    "\n",
    "-   In R, use the command\n",
    "    `prop.test(X, n, conf.level = CL, correct = FALSE)$conf.int`\n",
    "    -   $X$ denotes the number of “successes” observed in the sample.\n",
    "    -   $n$ denotes the total number of observations in the sample.\n",
    "    -   `CL` is a chosen confidence level (as a proportion).\n",
    "    -   The option `correct = FALSE` means no [continuity\n",
    "        correction](#sec-score-corr) is applied."
   ],
   "id": "a60ed94f-f7e3-4dcf-87b9-f03cb45fe26a"
  },
  {
   "cell_type": "code",
   "execution_count": null,
   "metadata": {},
   "outputs": [],
   "source": [
    "#section break"
   ],
   "id": "cd3f4106-f3b7-4b52-8e01-779128449b15"
  },
  {
   "cell_type": "markdown",
   "metadata": {},
   "source": [
    "## <a name=\"20q4\">Question 4</a>\n",
    "\n",
    "------------------------------------------------------------------------\n",
    "\n",
    "Using the poll data in \\[Question 1\\], find 95% confidence interval for\n",
    "the proportion of all adults in the US that do not plan to get\n",
    "vaccinated by completing the `prop.test()` command in the first code\n",
    "cell.\n",
    "\n",
    "### <a name=\"20sol4\">Solution to Question 4</a>\n",
    "\n",
    "------------------------------------------------------------------------"
   ],
   "id": "87936e88-0c9a-403f-814c-267edf27ef5c"
  },
  {
   "cell_type": "code",
   "execution_count": null,
   "metadata": {},
   "outputs": [],
   "source": [
    "#prop.test(??, ??, conf.level = ??, correct = FALSE)$conf.int"
   ],
   "id": "3d1de565-9ff5-40bb-beae-a2b4f4e84096"
  },
  {
   "cell_type": "markdown",
   "metadata": {},
   "source": [
    "<br>  \n",
    "<br>"
   ],
   "id": "9cabf3dc-cedf-464d-b486-0a96374fccb6"
  },
  {
   "cell_type": "code",
   "execution_count": null,
   "metadata": {},
   "outputs": [],
   "source": [
    "#section break"
   ],
   "id": "1fed0304-bb02-40e2-8ce2-1973c1f3c3bd"
  },
  {
   "cell_type": "markdown",
   "metadata": {},
   "source": [
    "#### <a name=\"20check4\">Checking Your Solution to Question 4</a>\n",
    "\n",
    "------------------------------------------------------------------------\n",
    "\n",
    "Based on the polling sample data, enter the values for `X`, `n`, and\n",
    "`z.star` in the first code cell below. Then run the code cell."
   ],
   "id": "624ff790-8a31-4037-a26f-f5e282128492"
  },
  {
   "cell_type": "code",
   "execution_count": null,
   "metadata": {},
   "outputs": [],
   "source": [
    "##################################################\n",
    "# Replace the ?? in the three lines of code below\n",
    "# with appropriate values or commands\n",
    "##################################################\n",
    "X <- 10  # number of successes in sample (do not plan to get vax)\n",
    "n <- 20  # sample size\n",
    "z.star <- 1.96  # find z_alpha/2 for 95% confidence level"
   ],
   "id": "d94e7af7-420a-4088-9fb5-c64a29757a0d"
  },
  {
   "cell_type": "markdown",
   "metadata": {},
   "source": [
    "Next, run the code cell below to calculate the upper and lower cutoffs\n",
    "for a 95% score confidence interval for a proportion."
   ],
   "id": "7a767163-3096-4ee5-8ca9-309b1eef08b4"
  },
  {
   "cell_type": "code",
   "execution_count": null,
   "metadata": {},
   "outputs": [],
   "source": [
    "#########################################\n",
    "# first run the code cell above\n",
    "# nothing to edit in this code cell\n",
    "# run as is\n",
    "#########################################\n",
    "phat <- X/n  # Compute sample proportion\n",
    "\n",
    "# Computes Cutoffs for Score Confidence Interval\n",
    "lower.score95 <- (phat+z.star^2/(2*n) - \n",
    "                z.star*sqrt( (phat*(1-phat))/n + z.star^2/(4*n^2) ) )/(1+z.star^2/n)\n",
    "upper.score95 <- (phat+z.star^2/(2*n) + \n",
    "                z.star*sqrt( (phat*(1-phat))/n + z.star^2/(4*n^2) ) )/(1+z.star^2/n)\n",
    "\n",
    "# Print cutoffs to screen\n",
    "lower.score95\n",
    "upper.score95"
   ],
   "id": "bf39cb05-f53c-49c4-9ea4-1c461fa2c48f"
  },
  {
   "cell_type": "markdown",
   "metadata": {},
   "source": [
    "## <a name=\"20cont-corr\">Applying the Continuity Correction</a>\n",
    "\n",
    "------------------------------------------------------------------------\n",
    "\n",
    "In our construction of a score confidence interval, we have used a\n",
    "normal distribution to estimate a discrete (binomial) distribution.\n",
    "Recall when using a continuous, normal distribution to approximate a\n",
    "discrete, binomial distribution (as with the Central Limit Theorem for\n",
    "proportions), we miss some area under the curve resulting in an\n",
    "underestimate. We can improve estimates with a normal distribution by\n",
    "applying a [continuity correction](11-Sampling-Dist-Prop#sec-cont-corr).\n",
    "\n",
    "We can obtain more a more accurate score confidence interval for a\n",
    "proportion by similarly applying a continuity correction. The [Appendix\n",
    "explains how the continuity correction is applied](#sec-score-corr) and\n",
    "provides the corresponding formulas. In practice, we can simply change\n",
    "the `correct = FALSE` option in `prop.test()$conf.int` to\n",
    "`correct = TRUE`.\n",
    "\n",
    "-   `prop.test(X, n, conf.level = CL, correct = TRUE)$conf.int`\n",
    "-   The default for `prop.test` if no `correct` option is specified is\n",
    "    `correct = TRUE`.\n",
    "-   <span style=\"color:dodgerblue\">**Applying the continuity correction\n",
    "    results in a more precise confidence interval.**</span>"
   ],
   "id": "d97e6184-fded-4da9-a251-f8cca74439f3"
  },
  {
   "cell_type": "code",
   "execution_count": null,
   "metadata": {},
   "outputs": [],
   "source": [
    "#section break"
   ],
   "id": "8d263c61-a9bf-4d6e-b9dd-91fab42a97a3"
  },
  {
   "cell_type": "markdown",
   "metadata": {},
   "source": [
    "### <a name=\"20corr-r\">Applying the Continuity Correction in Code</a>\n",
    "\n",
    "------------------------------------------------------------------------\n",
    "\n",
    "Below we perform the direct calculations using the [continuity\n",
    "correction formulas derived in the Appendix](#sec-score-corr)."
   ],
   "id": "97feba3e-34c3-4c03-a6d3-e31a817e4f79"
  },
  {
   "cell_type": "code",
   "execution_count": null,
   "metadata": {},
   "outputs": [],
   "source": [
    "##############################################\n",
    "# Be sure you have run previous code cells\n",
    "# And have already defined X, n, and z.star\n",
    "# Run this code cell without any edits needed\n",
    "##############################################\n",
    "\n",
    "# Continuity corrections applied to sample proportion\n",
    "cc.phat.L <- (X - 0.5)/n\n",
    "cc.phat.U <- (X + 0.5)/n\n",
    "\n",
    "# Plugged into formulas for Score Conf Interval\n",
    "cc.lower <- (cc.phat.L + z.star^2/(2*n) - \n",
    "            z.star*sqrt( (cc.phat.L*(1-cc.phat.L))/n + z.star^2/(4*n^2) ) )/(1+z.star^2/n)\n",
    "cc.upper <- (cc.phat.U + z.star^2/(2*n) + \n",
    "            z.star*sqrt( (cc.phat.U*(1-cc.phat.U))/n + z.star^2/(4*n^2) ) )/(1+z.star^2/n)\n",
    "\n",
    "# Print results to screen to check\n",
    "cc.lower\n",
    "cc.upper"
   ],
   "id": "c205f31e-a4be-4d9a-9de7-4715863f7f2c"
  },
  {
   "cell_type": "markdown",
   "metadata": {},
   "source": [
    "In the code cell below, we apply the continuity correction using the\n",
    "`correct = TRUE` option in `prop.test()` to check the result."
   ],
   "id": "7a2e051a-3bb2-4c63-984c-fb2ce6e88718"
  },
  {
   "cell_type": "code",
   "execution_count": null,
   "metadata": {},
   "outputs": [],
   "source": [
    "prop.test(314, 1082, conf.level = 0.95, correct = TRUE)$conf.int"
   ],
   "id": "404e37bc-d7c0-444d-84f8-7fcc65a80e5a"
  },
  {
   "cell_type": "markdown",
   "metadata": {},
   "source": [
    "<br>  \n",
    "<br>"
   ],
   "id": "90948760-16f6-434b-8f0c-14570db0515e"
  },
  {
   "cell_type": "code",
   "execution_count": null,
   "metadata": {},
   "outputs": [],
   "source": [
    "#section break"
   ],
   "id": "c368e87f-9ee2-45a4-8b27-f7cef7ef2fc3"
  },
  {
   "cell_type": "markdown",
   "metadata": {},
   "source": [
    "# <a name=\"20diff-prop\">A Difference in Two Proportions</a>\n",
    "\n",
    "------------------------------------------------------------------------"
   ],
   "id": "951bc723-d199-4c3c-b6de-4a058328a852"
  },
  {
   "cell_type": "code",
   "execution_count": null,
   "metadata": {},
   "outputs": [],
   "source": [
    "#section break"
   ],
   "id": "737c4d85-b6c6-4edf-9b2a-bf591f8938cc"
  },
  {
   "cell_type": "markdown",
   "metadata": {},
   "source": [
    "## <a name=\"20clt-prop\">Central Limit Theorem for $\\widehat{P}_1 - \\widehat{P}_2$</a>\n",
    "\n",
    "------------------------------------------------------------------------\n",
    "\n",
    "For a difference in two proportions, we can derive a Central Limit\n",
    "Theorem to model the sampling distribution for the difference in two\n",
    "sample proportion, $\\widehat{P}_1 - \\widehat{P}_2$. See the [Appendix\n",
    "for a proof of the CLT for a difference in two\n",
    "proportions](#sec-clt-diffprop) which is stated below:\n",
    "\n",
    "$$\\widehat{P}_1 - \\widehat{P}_2  \\sim N \\left( \\mu_{\\widehat{P}_1 - \\widehat{P}_2} , \\mbox{SE}(\\widehat{P}_1 - \\widehat{P}_2) \\right) = N \\left( p_1 - p_2  , \\sqrt{\\frac{p_1(1-p_1)}{n_1} + \\frac{p_2(1-p_2)}{n_2}} \\right).$$"
   ],
   "id": "91e8c54d-b629-44dd-aad0-3d80f631312d"
  },
  {
   "cell_type": "code",
   "execution_count": null,
   "metadata": {},
   "outputs": [],
   "source": [
    "#section break"
   ],
   "id": "bb54e7d2-8333-4bb0-a3d4-9cf671d9a249"
  },
  {
   "cell_type": "markdown",
   "metadata": {},
   "source": [
    "## <a name=\"20ci-diff\">Confidence Interval for $\\widehat{P}_1 - \\widehat{P}_2$</a>\n",
    "\n",
    "------------------------------------------------------------------------\n",
    "\n",
    "We can modify the <span style=\"color:dodgerblue\">**Wald confidence\n",
    "interval**</span> to give an approximation for a confidence interval for\n",
    "a difference in two proportions\n",
    "\n",
    "-   The <span style=\"color:dodgerblue\">point estimate</span> is the\n",
    "    difference in the two sample proportions,\n",
    "    $\\color{dodgerblue}{\\hat{p}_1 - \\hat{p}_2}$.\n",
    "-   The standard error we estimate by\n",
    "    <span style=\"color:mediumseagreen\">plugging $\\hat{p}_1$ and\n",
    "    $\\hat{p}_2$ in place of $p_1$ and $p_2$</span> in the formula for\n",
    "    the standard error from the Central Limit Theorem:\n",
    "\n",
    "$$\\mbox{SE} \\left( \\widehat{P}_1 - \\widehat{P}_2 \\right) = \\sqrt{ \\frac{p_1(1-p_1)}{n_1} + \\frac{p_2(1-p_2)}{n_2}} \\approx \\sqrt{ \\frac{{\\color{mediumseagreen}{\\hat{p}_1}}(1-{\\color{mediumseagreen}{\\hat{p}_1}})}{n_1} + \\frac{{\\color{mediumseagreen}{\\hat{p}_2}}(1-{\\color{mediumseagreen}{\\hat{p}_2}})}{n_2}}$$\n",
    "\n",
    "-   We **use the standard normal distribution** to identify\n",
    "    $z_{\\alpha/2}$ to find the <span style=\"color:tomato\">margin of\n",
    "    error</span>.\n",
    "\n",
    "$$({\\color{dodgerblue}{\\hat{p}_1 - \\hat{p}_2}}) - {\\color{tomato}{z_{\\alpha/2} \\cdot \\sqrt{ \\dfrac{\\hat{p}_1(1-\\hat{p}_1)}{n_1} + \\dfrac{\\hat{p}_2 (1-\\hat{p}_2) }{n_2}}}}  < p_1-p_2 < ({\\color{dodgerblue}{\\hat{p}_1 - \\hat{p}_2}}) + {\\color{tomato}{z_{\\alpha/2} \\cdot \\sqrt{ \\dfrac{\\hat{p}_1(1-\\hat{p}_1)}{n_1} + \\dfrac{\\hat{p}_2 (1-\\hat{p}_2) }{n_2}}}}.$$\n",
    "\n",
    "We use Wald confidence intervals for a difference in two proportions,\n",
    "but be aware there are other variations of confidence intervals for a\n",
    "difference in two proportions, similar to the Agresti-Coull and score\n",
    "confidence intervals. In R, the command\n",
    "\n",
    "<center>\n",
    "`prop.test(c(x1, x2), c(n1, n2), conf.level = CL, correct = TRUE)$conf.int`\n",
    "</center>\n",
    "\n",
    "<br> computes a **Wald confidence interval** for a difference in two\n",
    "proportions with a continuity correction applied.\n",
    "\n",
    "In R, the `prop.test()` function uses different methods depending on\n",
    "whether the confidence interval is for a single proportion or a\n",
    "difference in two proportions.\n",
    "\n",
    "-   For a single proportion, `prop.test()` gives a score confidence\n",
    "    interval.\n",
    "-   For a difference in two proportions, `prop.test()` gives a Wald\n",
    "    confidence interval."
   ],
   "id": "bf27abbc-b011-4b7b-a4b3-cb7497948a45"
  },
  {
   "cell_type": "code",
   "execution_count": null,
   "metadata": {},
   "outputs": [],
   "source": [
    "#section break"
   ],
   "id": "0a277134-299f-4891-926d-400036d91c3f"
  },
  {
   "cell_type": "markdown",
   "metadata": {},
   "source": [
    "## <a name=\"20q5\">Question 5</a>\n",
    "\n",
    "------------------------------------------------------------------------\n",
    "\n",
    "Using the data below collected from the poll in \\[Question 1\\],\n",
    "construct a 90% Wald confidence interval for the difference in the\n",
    "proportion of all Democrats and the proportion of all Republicans that\n",
    "do not plan to be vaccinated.\n",
    "\n",
    "| Party      | Yes, will | Yes, already | No  | Unsure | Total |\n",
    "|------------|-----------|--------------|-----|--------|-------|\n",
    "| Democrat   | 213       | 108          | 40  | 7      | 368   |\n",
    "| Republican | 93        | 70           | 120 | 9      | 292   |\n",
    "| Total      | 306       | 178          | 160 | 16     | 660   |\n",
    "\n",
    "### <a name=\"20sol5\">Solution to Question 5</a>\n",
    "\n",
    "------------------------------------------------------------------------"
   ],
   "id": "cf45f7dd-d7d4-47cf-9f5c-7505a051c372"
  },
  {
   "cell_type": "code",
   "execution_count": null,
   "metadata": {},
   "outputs": [],
   "source": [
    "# use code cell to help"
   ],
   "id": "776bdb23-f68f-4418-b1a7-802757603ce1"
  },
  {
   "cell_type": "markdown",
   "metadata": {},
   "source": [
    "<br>  \n",
    "<br>"
   ],
   "id": "f0817662-5574-43c2-8b90-73c6b95a4812"
  },
  {
   "cell_type": "code",
   "execution_count": null,
   "metadata": {},
   "outputs": [],
   "source": [
    "#section break"
   ],
   "id": "95a317f4-06a2-4689-9b5b-36e23ba8d178"
  },
  {
   "cell_type": "markdown",
   "metadata": {},
   "source": [
    "# <a name=\"20summary\">Summarizing Results of Confidence Intervals</a>\n",
    "\n",
    "------------------------------------------------------------------------\n",
    "\n",
    "| Parameter(s) of Interest                                | Point Estimate               | Distribution                                       | Margin of Error                                                                                                                                                                |\n",
    "|--------------------------|-----------------|--------------|-----------------|\n",
    "| A single mean <br> ($\\sigma^2$ known)                   | $\\bar{x}$                    | $N(0,1)$                                           | $z_{\\alpha/2} \\cdot \\dfrac{\\sigma}{\\sqrt{n}}$                                                                                                                                  |\n",
    "| A single mean <br> ($\\sigma^2$ unknown)                 | $\\bar{x}$                    | <span style=\"color:mediumseagreen\">$t$-dist</span> | ${\\color{mediumseagreen}{t_{\\alpha/2}}} \\cdot \\dfrac{{\\color{tomato}{s}}}{\\sqrt{n}}$                                                                                           |\n",
    "| A difference in two means <br> (with unknown variances) | $\\bar{x}_1 - \\bar{x}_2$      | <span style=\"color:mediumseagreen\">$t$-dist</span> | ${\\color{mediumseagreen}{t_{\\alpha/2}}} \\cdot \\sqrt{ \\dfrac{{\\color{tomato}{s_1}}^2}{n_1} + \\dfrac{{\\color{tomato}{s_2}}^2}{n_2}}$                                             |\n",
    "| Wald for single proportion                              | $\\hat{p}=\\dfrac{X}{n}$       | $N(0,1)$                                           | $z_{\\alpha/2} \\cdot \\sqrt{ \\dfrac{{\\color{tomato}{\\widehat{p}}}(1-{\\color{tomato}{\\widehat{p}}})}{n}}$                                                                         |\n",
    "| Agresti-Coull for single proportion                     | $\\tilde{p}=\\dfrac{X+2}{n+4}$ | $N(0,1)$                                           | $z_{\\alpha/2} \\cdot \\sqrt{ \\dfrac{{\\color{tomato}{\\tilde{p}}}(1-{\\color{tomato}{\\tilde{p}}})}{\\color{dodgerblue}{n+4}}}$                                                       |\n",
    "| Wald for a difference <br> in two proportions           | $\\hat{p}_1 - \\hat{p}_2$      | $N(0,1)$                                           | $z_{\\alpha/2} \\cdot \\sqrt{ \\dfrac{{\\color{tomato}{\\hat{p}_1}}(1-{\\color{tomato}{\\hat{p}_1}})}{n_1} + \\dfrac{{\\color{tomato}{\\hat{p}_2}}(1-{\\color{tomato}{\\hat{p}_2}})}{n_2}}$ |"
   ],
   "id": "c0e70da4-5c99-4d5c-90e4-27fe0b21adf8"
  },
  {
   "cell_type": "code",
   "execution_count": null,
   "metadata": {},
   "outputs": [],
   "source": [
    "#section break"
   ],
   "id": "6a8a3459-1885-4f6e-9502-708fc75a49b7"
  },
  {
   "cell_type": "markdown",
   "metadata": {},
   "source": [
    "## <a name=\"20samp-size\">A Note About Sample Sizes</a>\n",
    "\n",
    "------------------------------------------------------------------------\n",
    "\n",
    "-   For a **single mean**, we can use the CTL to construct a parametric\n",
    "    confidence interval as long as:\n",
    "\n",
    "    -   Either the population is symmetric or $n \\geq 30$.\n",
    "    -   If the sample is symmetric, we can assume the population is\n",
    "        symmetric.\n",
    "\n",
    "-   For a **difference in two means** , we can use the CTL to construct\n",
    "    a parametric confidence interval as long as:\n",
    "\n",
    "    -   Population 1 is either symmetric or $n_1 \\geq 30$, and\n",
    "    -   Population 2 is either symmetric or $n_2 \\geq 30$.\n",
    "\n",
    "-   For a **single proportion**, we can use the CTL to construct a\n",
    "    parametric confidence interval as long as:\n",
    "\n",
    "    -   Both $n\\hat{p} \\geq 10$ and $n(1-\\hat{p}) \\geq 10$.\n",
    "\n",
    "-   For a **difference in two proportions**, we can use the CTL to\n",
    "    construct a parametric confidence interval as long as:\n",
    "\n",
    "    -   All of $n_1\\hat{p}_1 \\geq 10$, $n_1(1-\\hat{p}_1) \\geq 10$,\n",
    "        $n_2\\hat{p}_2 \\geq 10$, and $n_2(1-\\hat{p}_2) \\geq 10$ are\n",
    "        satisfied."
   ],
   "id": "fdad247e-df99-49ef-9b36-734a00d58d7c"
  },
  {
   "cell_type": "code",
   "execution_count": null,
   "metadata": {},
   "outputs": [],
   "source": [
    "#section break"
   ],
   "id": "6ab212cd-6942-421f-8ace-d3527b28c1fe"
  },
  {
   "cell_type": "markdown",
   "metadata": {},
   "source": [
    "## <a name=\"20r-functions\">Useful R Functions</a>\n",
    "\n",
    "------------------------------------------------------------------------\n",
    "\n",
    "In R, we have the functions:\n",
    "\n",
    "-   `t.test()$conf.int` constructs a $t$-confidence interval for a\n",
    "    single or difference in two means.\n",
    "-   `prop.test()$conf.int` constructs a score confidence interval for a\n",
    "    single proportion.\n",
    "-   `prop.test()$conf.int` constructs a Wald confidence interval for a\n",
    "    difference in two proportions."
   ],
   "id": "315ddc85-dbf9-4033-98cb-bbeed1e856fe"
  },
  {
   "cell_type": "code",
   "execution_count": null,
   "metadata": {},
   "outputs": [],
   "source": [
    "#section break"
   ],
   "id": "fba764c3-6eda-4465-8e9f-d44456aff5d5"
  },
  {
   "cell_type": "markdown",
   "metadata": {},
   "source": [
    "# <a name=\"20append\">Appendix</a>\n",
    "\n",
    "------------------------------------------------------------------------"
   ],
   "id": "1fc1c288-b925-4f63-bec9-a633f22af34b"
  },
  {
   "cell_type": "code",
   "execution_count": null,
   "metadata": {},
   "outputs": [],
   "source": [
    "#section break"
   ],
   "id": "eb62c8be-40f1-464e-af64-3dac221d29e7"
  },
  {
   "cell_type": "markdown",
   "metadata": {},
   "source": [
    "## <a name=\"20append-score\">Deriving the Score Confidence Interval Formulas</a>\n",
    "\n",
    "------------------------------------------------------------------------\n",
    "\n",
    "Let $X \\sim \\mbox{Binom}(n,p)$ and consider the distribution of sample\n",
    "proportions, $\\widehat{P} = \\frac{X}{n}$. From the CLT for a proportion\n",
    "we know $\\widehat{P} \\sim N \\left( p, \\sqrt{\\frac{p(1-p)}{n}} \\right)$.\n",
    "Thus, for confidence level CL, we have\n",
    "\n",
    "$$P(-z_{\\alpha/2}< Z < z_{\\alpha/2}) = P \\left( -z_{\\alpha/2} < \\frac{\\hat{p} -{\\color{tomato}{p}}}{\\sqrt{\\frac{{\\color{tomato}{p}}(1-{\\color{tomato}{p}})}{n}}} < z_{\\alpha/2} \\right) =CL.$$\n",
    "\n",
    "The <span style=\"color:dodgerblue\">**upper cutoff, $U$**</span> is a\n",
    "value for ${\\color{tomato}{p}}$ such that\n",
    "\n",
    "$$\\dfrac{\\hat{p} -{\\color{tomato}{p}}}{\\sqrt{\\dfrac{{\\color{tomato}{p}}(1-{\\color{tomato}{p}})}{n}}} = z_{\\alpha/2}.$$\n",
    "\n",
    "To solve for ${\\color{tomato}{p}}$, we multiply both sides of the\n",
    "equation above by\n",
    "$\\sqrt{\\dfrac{{\\color{tomato}{p}}(1-{\\color{tomato}{p}})}{n}}$ and then\n",
    "square both sides giving\n",
    "\n",
    "$$\\big( \\hat{p} - {\\color{tomato}{p}} \\big)^2 = (z_{\\alpha/2})^2 \\left( \\frac{{\\color{tomato}{p}}(1-{\\color{tomato}{p}})}{n} \\right).$$\n",
    "\n",
    "Next we distribute terms on both sides of the equation and have\n",
    "\n",
    "$$\\hat{p}^2 - 2 {\\color{tomato}{p}}\\hat{p} + {\\color{tomato}{p}}^2 = {\\color{tomato}{p}} \\left( \\frac{z_{\\alpha/2}^2}{n} \\right) - {\\color{tomato}{p}}^2 \\left( \\frac{z_{\\alpha/2}^2}{n} \\right).$$\n",
    "\n",
    "We have a quadratic equation for the unknown ${\\color{tomato}{p}}$. We\n",
    "group all like terms together on one side of the equation,\n",
    "\n",
    "$${\\color{dodgerblue}{\\left( 1+ \\frac{z_{\\alpha/2}^2}{n} \\right)}} p^2 + {\\color{tomato}{\\left(-2\\hat{p}-\\frac{z_{\\alpha/2}^2}{n} \\right)}} p + {\\color{mediumseagreen}{\\hat{p}^2}} = {\\color{dodgerblue}{a}}p^2 + {\\color{tomato}{b}} p + {\\color{mediumseagreen}{c}} = 0.$$\n",
    "We use the quadratic formula to solve for $p$. The quadratic equation\n",
    "has two real solutions, the larger of the two solution is the upper\n",
    "limit for a 95% score confidence interval\n",
    "\n",
    "$${\\large \\boxed{ U = \\frac{ \\hat{p} + \\dfrac{z_{\\alpha/2}^2}{2n} + z_{\\alpha/2} \\cdot \\sqrt{ \\dfrac{\\hat{p}(1-\\hat{p})}{n} + \\dfrac{z_{\\alpha/2}^2}{4n^2}}}{1+\\dfrac{z_{\\alpha/2}^2}{n}}}}$$\n",
    "\n",
    "The smaller of the two solutions is the\n",
    "<span style=\"color:dodgerblue\">**lower cutoff, $L$**</span>\n",
    "\n",
    "$${\\large \\boxed{ L = \\frac{ \\hat{p} + \\dfrac{z_{\\alpha/2}^2}{2n} - z_{\\alpha/2} \\cdot \\sqrt{ \\dfrac{\\hat{p}(1-\\hat{p})}{n} + \\dfrac{z_{\\alpha/2}^2}{4n^2}}}{1+\\dfrac{z_{\\alpha/2}^2}{n}}}}$$\n",
    "\n",
    "We also consider the equation\n",
    "\n",
    "$$\\dfrac{\\hat{p} -{\\color{tomato}{p}}}{\\sqrt{\\dfrac{{\\color{tomato}{p}}(1-{\\color{tomato}{p}})}{n}}} = -z_{\\alpha/2}.$$\n",
    "\n",
    "If we multiply both sides of the equation above by\n",
    "$\\sqrt{\\dfrac{{\\color{tomato}{p}}(1-{\\color{tomato}{p}})}{n}}$ and then\n",
    "square both sides, we get\n",
    "\n",
    "$$\\big( \\hat{p} - {\\color{tomato}{p}} \\big)^2 = (-z_{\\alpha/2})^2 \\left( \\frac{{\\color{tomato}{p}}(1-{\\color{tomato}{p}})}{n} \\right).$$\n",
    "\n",
    "The resulting equation is the same as with the first case we solved.\n",
    "Thus, solving the equation above gives the same expressions for $U$ and\n",
    "$L$."
   ],
   "id": "159594f9-e351-446d-ba45-c81b893f00ce"
  },
  {
   "cell_type": "code",
   "execution_count": null,
   "metadata": {},
   "outputs": [],
   "source": [
    "#section break"
   ],
   "id": "5c25d74f-b390-4ed5-8eff-f710812ec991"
  },
  {
   "cell_type": "markdown",
   "metadata": {},
   "source": [
    "## <a name=\"20append-corr\">Applying a Continuity Correction</a>\n",
    "\n",
    "------------------------------------------------------------------------\n",
    "\n",
    "Recall, when using a normal distribution to approximate a discrete,\n",
    "binomial distribution $X \\sim \\mbox{Binom}(n,p)$, we can improve the\n",
    "estimate by using a [continuity\n",
    "correction](11-Sampling-Dist-Prop.qmd#sec-cont-corr).\n",
    "\n",
    "In the case of a score confidence interval for a proportion, the\n",
    "continuity correction is applied as follows:\n",
    "\n",
    "-   In the formula for the lower cutoff, we use the corrected sample\n",
    "    proportion ${\\color{dodgerblue}{\\hat{p}_L^*= \\dfrac{X-0.5}{n}}}$.\n",
    "-   In the formula for the upper cutoff, we use the corrected sample\n",
    "    proportion ${\\color{tomato}{\\hat{p}_U^* = \\dfrac{X+0.5}{n}}}$.\n",
    "\n",
    "$$\\begin{aligned}\n",
    "&L^* = \\dfrac{{\\color{dodgerblue}{\\hat{p}_L^*}} + \\dfrac{z_{\\alpha/2}^2}{2n} - z_{\\alpha/2} \\cdot \\sqrt{ \\dfrac{{\\color{dodgerblue}{\\hat{p}_L^*}}(1-{\\color{dodgerblue}{\\hat{p}_L^*}})}{n} + \\dfrac{z_{\\alpha/2}^2}{4n^2}}}{1+ \\dfrac{z_{\\alpha/2}^2}{n}} \\\\\n",
    "\\\\\n",
    "&U^* = \\dfrac{{\\color{tomato}{\\hat{p}_U^*}} + \\dfrac{z_{\\alpha/2}^2}{2n} + z_{\\alpha/2} \\cdot \\sqrt{ \\dfrac{{\\color{tomato}{\\hat{p}_U^*}}(1-{\\color{tomato}{\\hat{p}_U^*}})}{n} + \\dfrac{z_{\\alpha/2}^2}{4n^2}}}{1+ \\dfrac{z_{\\alpha/2}^2}{n}}\n",
    "\\end{aligned}$$"
   ],
   "id": "f479f87d-19a5-4bd2-82ec-ca6e888da6b7"
  },
  {
   "cell_type": "code",
   "execution_count": null,
   "metadata": {},
   "outputs": [],
   "source": [
    "#section break"
   ],
   "id": "0111bef4-f324-4160-a1c6-c32ea0e6df95"
  },
  {
   "cell_type": "markdown",
   "metadata": {},
   "source": [
    "## <a name=\"20append-clt\">CLT: Difference in Two Proportions</a>\n",
    "\n",
    "------------------------------------------------------------------------\n",
    "\n",
    "Let $X_1 \\sim \\mbox{Binom}(n_1,p_1)$ and\n",
    "$X_2 \\sim \\mbox{Binom}(n_2,p_2)$ be two independent binomial random\n",
    "variables with distribution of sample proportions\n",
    "$\\widehat{P}_1 = \\frac{X_1}{n_1}$ and $\\widehat{P}_2 = \\frac{X_2}{n_2}$,\n",
    "respectively. As long as [both samples are large\n",
    "enough](#sec-samp-size), the sampling distribution for the difference in\n",
    "sample proportions $\\widehat{P_1}-\\widehat{P_2}$ will:\n",
    "\n",
    "-   Be approximately <span style=\"color:dodgerblue\">**normally\n",
    "    distributed**</span>.\n",
    "-   Have mean\n",
    "    $\\color{dodgerblue}{E(\\widehat{P_1}-\\widehat{P_2}) = \\mu_{\\widehat{P}_1 - \\widehat{P}_2} =p_1 - p_2}$.\n",
    "-   Have <span style=\"color:dodgerblue\">**standard error**</span>\n",
    "    $${\\color{dodgerblue}{\\mbox{SE}(\\widehat{P}_1 - \\widehat{P}_2) =  \\sqrt{\\frac{p_1(1-p_1)}{n_1} + \\frac{p_2(1-p_2)}{n_2}}}}$$.\n",
    "\n",
    "We summarize the results of the <span style=\"color:dodgerblue\">**Central\n",
    "Limit Theorem (CLT) for a Difference in Two Proportions**</span> more\n",
    "concisely below:\n",
    "\n",
    "$${\\color{dodgerblue}{\\boxed{ \\widehat{P}_1 - \\widehat{P}_2  \\sim N \\left( \\mu_{\\widehat{P}_1 - \\widehat{P}_2} , \\mbox{SE}(\\widehat{P}_1 - \\widehat{P}_2) \\right) = N \\left( p_1 - p_2  , \\sqrt{\\frac{p_1(1-p_1)}{n_1} + \\frac{p_2(1-p_2)}{n_2}} \\right)}}}.$$"
   ],
   "id": "c7059823-9408-4cb2-b0a2-204cc2409dbb"
  },
  {
   "cell_type": "code",
   "execution_count": null,
   "metadata": {},
   "outputs": [],
   "source": [
    "#section break"
   ],
   "id": "8bf796a2-78c7-4f08-b40d-740812b97ad4"
  },
  {
   "cell_type": "markdown",
   "metadata": {},
   "source": [
    "### <a name=\"20append-proof\">Proof of CLT for Difference in Two Proportions</a>\n",
    "\n",
    "------------------------------------------------------------------------\n",
    "\n",
    "We will prove both\n",
    "$\\color{dodgerblue}{E(\\widehat{P_1}-\\widehat{P_2}) = \\mu_{\\widehat{P}_1 - \\widehat{P}_2} =p_1 - p_2}$\n",
    "and\n",
    "${\\color{dodgerblue}{\\mbox{SE}(\\widehat{P}_1 - \\widehat{P}_2) = \\sqrt{\\frac{p_1(1-p_1)}{n_1} + \\frac{p_2(1-p_2)}{n_2}}}}$."
   ],
   "id": "1f928f63-ba2f-4f8f-b02f-2595d17e3d7b"
  },
  {
   "cell_type": "code",
   "execution_count": null,
   "metadata": {},
   "outputs": [],
   "source": [
    "#section break"
   ],
   "id": "ef09f985-32ff-4168-a27e-5b1d67bf0df7"
  },
  {
   "cell_type": "markdown",
   "metadata": {},
   "source": [
    "#### <a name=\"20append-proof1\">Mean of Sampling Distribution for $\\widehat{P}_1 - \\widehat{P}_2$</a>\n",
    "\n",
    "------------------------------------------------------------------------\n",
    "\n",
    "We have\n",
    "$E (\\widehat{P_1}-\\widehat{P_2}) = E \\left( \\frac{X_1}{n_1} -\\frac{X_2}{n_2} \\right)$.\n",
    "Using [properties of expected\n",
    "value](06-Expected-Value-and-Variance.qmd#sec-prop-exp), we have\n",
    "\n",
    "$$E (\\widehat{P_1}-\\widehat{P_2}) = E \\left( \\frac{X_1}{n_1} -\\frac{X_2}{n_2} \\right) = \\frac{1}{n_1} E(X_1) - \\frac{1}{n_2} E(X_2).$$\n",
    "\n",
    "Since $X_1 \\sim \\mbox{Binom}(n_1,p_1)$ and\n",
    "$X_2 \\sim \\mbox{Binom}(n_2,p_2)$, we know\n",
    "${\\color{dodgerblue}{E(X_1) = n_1p_1}}$ and\n",
    "${\\color{tomato}{E(X_2) = n_2p_2}}$. Thus we have\n",
    "\n",
    "$$E (\\widehat{P_1}-\\widehat{P_2}) = \\frac{1}{n_1} {\\color{dodgerblue}{n_1p_1}} - \\frac{1}{n_2} {\\color{tomato}{n_2p_2}}=p_1-p_2.$$\n",
    "\n",
    "This concludes the proof that\n",
    "$E (\\widehat{P_1}-\\widehat{P_2}) =p_1-p_2$."
   ],
   "id": "cf569a22-b31d-437b-ba18-12fb0e3a1bf6"
  },
  {
   "cell_type": "code",
   "execution_count": null,
   "metadata": {},
   "outputs": [],
   "source": [
    "#section break"
   ],
   "id": "c21ac59a-8b4a-415c-9107-fb3a7f6011b7"
  },
  {
   "cell_type": "markdown",
   "metadata": {},
   "source": [
    "#### <a name=\"20append-proof2\">Standard Error of Sampling Distribution for $\\widehat{P}_1 - \\widehat{P}_2$</a>\n",
    "\n",
    "------------------------------------------------------------------------\n",
    "\n",
    "We have\n",
    "$\\mbox{Var} (\\widehat{P_1}-\\widehat{P_2}) = \\mbox{Var} \\left( \\frac{X_1}{n_1} -\\frac{X_2}{n_2} \\right)$.\n",
    "$X_1$ and $X_2$ are independent random variables, so we can use\n",
    "[properties of\n",
    "variance](06-Expected-Value-and-Variance.qmd#sec-prop-var):\n",
    "\n",
    "$$\\mbox{Var} \\left( \\frac{X_1}{n_1} -\\frac{X_2}{n_2} \\right) = \\left(\\frac{1}{n_1}\\right)^2 \\mbox{Var}(X_1) + \\left(- \\frac{1}{n_2} \\right)^2 \\mbox{Var}(X_2) = \\frac{1}{n_1^2}\\mbox{Var}(X_1) + \\frac{1}{n_2^2}\\mbox{Var}(X_2).$$\n",
    "\n",
    "Since $X_1 \\sim \\mbox{Binom}(n_1,p_1)$ and\n",
    "$X_2 \\sim \\mbox{Binom}(n_2,p_2)$, we know\n",
    "${\\color{dodgerblue}{\\mbox{Var}(X_1) = n_1p_1(1-p_1)}}$ and\n",
    "${\\color{tomato}{\\mbox{Var}(X_2) = n_2p_2(1-p_2)}}$. Thus we have\n",
    "\n",
    "$$\\mbox{Var} (\\widehat{P_1}-\\widehat{P_2}) = \\frac{1}{n_1^2} {\\color{dodgerblue}{n_1p_1(1-p_1)}} - \\frac{1}{n_2^2} {\\color{tomato}{n_2p_2(1-p_2)}}= \\frac{p_1(1-p_1)}{n_1} + \\frac{p_2(1-p_2)}{n_2}.$$\n",
    "\n",
    "The standard error of the sampling distribution is the square root of\n",
    "the variance, thus we have\n",
    "\n",
    "$$\\mbox{SE} (\\widehat{P_1}-\\widehat{P_2}) = \\sqrt{\\frac{p_1(1-p_1)}{n_1} + \\frac{p_2(1-p_2)}{n_2}}.$$"
   ],
   "id": "c5e8da81-0c3f-468d-a891-fdb2bc3ae615"
  },
  {
   "cell_type": "code",
   "execution_count": null,
   "metadata": {},
   "outputs": [],
   "source": [
    "#section break"
   ],
   "id": "3db2cdfa-6b83-44d2-bdf9-2210d16a73eb"
  },
  {
   "cell_type": "markdown",
   "metadata": {},
   "source": [
    "------------------------------------------------------------------------\n",
    "\n",
    "![Creative Commons\n",
    "License](https://i.creativecommons.org/l/by-nc-sa/4.0/88x31.png) <nbsp>\n",
    "\n",
    "*Statistical Methods: Exploring the Uncertain* by [Adam\n",
    "Spiegler](https://github.com/CU-Denver-MathStats-OER/Statistical-Theory)\n",
    "is licensed under a [Creative Commons\n",
    "Attribution-NonCommercial-ShareAlike 4.0 International\n",
    "License](http://creativecommons.org/licenses/by-nc-sa/4.0/)."
   ],
   "id": "cfb60019-132c-4821-8fe7-52cddd89519b"
  }
 ],
 "nbformat": 4,
 "nbformat_minor": 5,
 "metadata": {
  "kernelspec": {
   "name": "ir",
   "display_name": "R",
   "language": "R"
  }
 }
}
