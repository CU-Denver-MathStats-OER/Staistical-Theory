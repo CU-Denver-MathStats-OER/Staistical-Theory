{
 "cells": [
  {
   "cell_type": "markdown",
   "metadata": {},
   "source": [
    "[![Open In\n",
    "Colab](https://colab.research.google.com/assets/colab-badge.svg)](https://githubtocolab.com/CU-Denver-MathStats-OER/Statistical-Theory/blob/main/Chap5/19-Parametric-CI-Means.ipynb)\n",
    "<nbsp>\n",
    "\n",
    "# <a name=\"19intro\">Parametric and Non-Parametric Methods</a>\n",
    "\n",
    "------------------------------------------------------------------------\n",
    "\n",
    "We have been investigating [resampling methods](16-Bootstrap-Dist.qmd)\n",
    "as a tool to estimate the variability in sample statistics. Statistics\n",
    "such as means and proportions are linear combinations of random\n",
    "variables, and using [theory from\n",
    "probability](19-Parametric-CI-Means.qmd#sec-prop-exp) we are able the\n",
    "derive the [Central Limit Theorem (CLT)\n",
    "formulas](10-Sampling-Dist-Mean.qmd#sec-cltmeans) to model sampling\n",
    "distributions for means and proportions. In this section we will\n",
    "construct confidence intervals by applying a *parametric* approach that\n",
    "uses formulas from the CLT to measure the uncertainty (standard error)\n",
    "in our estimate.\n",
    "\n",
    "-   With <span style=\"color:dodgerblue\">**parametric methods**</span>,\n",
    "    we perform inference using formulas derived from theory.\n",
    "-   Monte Carlo methods such as bootstrap resampling are non-parametric.\n",
    "\n",
    "For statistics that are not linear combinations of independent random\n",
    "variables (such as medians, variances, and ratios of means) deriving\n",
    "formulas to model the sampling distribution is more complicated or not\n",
    "even possible. We can try [bootstrapping in these\n",
    "situations](18-Bootstrap-Other-Stats.qmd) instead!"
   ],
   "id": "b2bccdf1-8f13-4956-9afa-827048fff3aa"
  },
  {
   "cell_type": "code",
   "execution_count": null,
   "metadata": {},
   "outputs": [],
   "source": [
    "# section break"
   ],
   "id": "32086dd2-c805-4fad-8720-3e1af747740c"
  },
  {
   "cell_type": "markdown",
   "metadata": {},
   "source": [
    "# <a name=\"19wind-intro\">Case Study: Average Wind Speed of Storms {#sec-storm}</a>\n",
    "\n",
    "------------------------------------------------------------------------\n",
    "\n",
    "<figure>\n",
    "<img\n",
    "src=\"https://cdn.pixabay.com/photo/2012/09/26/17/26/winter-storm-58025_1280.jpg\"\n",
    "style=\"width:45.0%\" data-fig-align=\"left\"\n",
    "data-fig-alt=\"Satellite Image of Hurricane\"\n",
    "alt=\"Credit: WikiImages, CC0 via Pixabay\" />\n",
    "<figcaption aria-hidden=\"true\">Credit: WikiImages, CC0 via <a\n",
    "href=\"https://pixabay.com/photos/hurricane-cyclone-typhoon-wind-58025/\">Pixabay</a></figcaption>\n",
    "</figure>\n",
    "\n",
    "Suppose a climatologist has contacted us for help estimating the average\n",
    "wind speed of all storms in the North Atlantic. They have collected a\n",
    "random sample of $n=36$ wind speeds from North Atlantic storms over the\n",
    "past 5 years."
   ],
   "id": "ed1af2e8-9bbc-46aa-bb95-5ec728d66a0c"
  },
  {
   "cell_type": "code",
   "execution_count": null,
   "metadata": {},
   "outputs": [],
   "source": [
    "# section break"
   ],
   "id": "cde46d21-3079-43fc-8cfa-0d3ae8646d25"
  },
  {
   "cell_type": "markdown",
   "metadata": {},
   "source": [
    "## <a name=\"19wind-load\">Loading Storms Data</a>\n",
    "\n",
    "------------------------------------------------------------------------\n",
    "\n",
    "When practicing [exploratory data analysis\n",
    "earlier](03-EDA-Quantitative.qmd#sec-storms), we accessed the `dplyr`\n",
    "package that contains a data set from the [NOAA Hurricane Best Track\n",
    "Data](https://www.nhc.noaa.gov/data/#hurdat), called `storms`, with data\n",
    "on many different storm attributes. We will begin analyzing the variable\n",
    "`wind` that gives the wind speed in knots. Run the code cell below to:\n",
    "\n",
    "-   Load the `dplyr` package (which should already be installed), and\n",
    "-   Store the wind speeds to a new vector called `population`.\n",
    "\n",
    "If you receive an error message when running the code cell below, then\n",
    "you may not have the `dplyr` package installed.\n",
    "\n",
    "-   In the R console, run the command `install.packages(\"dplyr\")`.\n",
    "-   Then rerun the code cell below."
   ],
   "id": "8979cd89-bff0-49db-bb74-bef9b44ce424"
  },
  {
   "cell_type": "code",
   "execution_count": null,
   "metadata": {},
   "outputs": [],
   "source": [
    "library(dplyr)\n",
    "population <- storms$wind"
   ],
   "id": "e291a7b9-302f-48f7-b5fa-f41938a9f30c"
  },
  {
   "cell_type": "markdown",
   "metadata": {},
   "source": [
    "## <a name=\"19wind-samp\">Picking a Random Sample of Storms</a>\n",
    "\n",
    "------------------------------------------------------------------------\n",
    "\n",
    "When performing statistical inference, we do not have complete data from\n",
    "the entire population. We typically have data from one sample picked\n",
    "randomly from the population. Based on the sample data, we try to\n",
    "estimate unknown parameters for the population. To begin our exploration\n",
    "of confidence intervals, suppose the 19066 wind speeds in the\n",
    "`population` data represents the full population of all storms at all\n",
    "times in the North Atlantic. We investigate the following statistical\n",
    "question:\n",
    "\n",
    "> What is the average wind speed of all storms in the North Atlantic,\n",
    "> $\\mu_{\\rm{wind}}$?\n",
    "\n",
    "-   Assume we do not have access to all the `population` data and cannot\n",
    "    directly calculate $\\mu_{\\rm{wind}}$.\n",
    "-   We will pick one random sample of 36 wind speeds from the\n",
    "    `population`.\n",
    "-   We will use our sample to estimate the mean wind speed of all storms\n",
    "    in the North Atlantic."
   ],
   "id": "f694dc13-64c5-4f8f-948c-6f2c095a210a"
  },
  {
   "cell_type": "code",
   "execution_count": null,
   "metadata": {},
   "outputs": [],
   "source": [
    "# section break"
   ],
   "id": "a8221fe1-bcf8-4f53-9635-b731d5917d42"
  },
  {
   "cell_type": "markdown",
   "metadata": {},
   "source": [
    "## <a name=\"19q1\">Question 1</a>\n",
    "\n",
    "------------------------------------------------------------------------\n",
    "\n",
    "Pick a random sample of $n=36$ wind speeds from the `population`. In\n",
    "picking your original sample, sample without replacement. Store your\n",
    "sample to a vector named `my.sample`.\n",
    "\n",
    "### <a name=\"19sol1\">Solution to Question 1</a>\n",
    "\n",
    "------------------------------------------------------------------------"
   ],
   "id": "35933f3e-bd43-479c-99da-5d75341756e0"
  },
  {
   "cell_type": "code",
   "execution_count": null,
   "metadata": {},
   "outputs": [],
   "source": [
    "# pick one random sample of 36 wind speeds without replacement\n",
    "#my.sample <- sample(??, size = ??, replace = ??)"
   ],
   "id": "2a6bd601-df94-46be-8f49-d02860861e78"
  },
  {
   "cell_type": "markdown",
   "metadata": {},
   "source": [
    "<br>  \n",
    "<br>"
   ],
   "id": "4724113a-4342-4f7b-970f-851ab4595aaf"
  },
  {
   "cell_type": "code",
   "execution_count": null,
   "metadata": {},
   "outputs": [],
   "source": [
    "# section break"
   ],
   "id": "646286c1-00e1-4bf1-b0f1-dbc0b7df31b8"
  },
  {
   "cell_type": "markdown",
   "metadata": {},
   "source": [
    "## <a name=\"19q2\">Question 2</a>\n",
    "\n",
    "------------------------------------------------------------------------\n",
    "\n",
    "Using the random sample `my.sample`, give a possible point estimate for\n",
    "$\\mu_{\\rm{wind}}$, the mean wind speed of all storms in the North\n",
    "Atlantic. The parameter $\\mu_{\\rm{wind}}$ is unknown since we assume the\n",
    "full `population` data is not available.\n",
    "\n",
    "### <a name=\"19sol2\">Solution to Question 2</a>\n",
    "\n",
    "------------------------------------------------------------------------"
   ],
   "id": "1cd6e768-aa8b-4641-83c1-d171ae7df246"
  },
  {
   "cell_type": "code",
   "execution_count": null,
   "metadata": {},
   "outputs": [],
   "source": [
    "# use your sample to give a point estimate"
   ],
   "id": "d0032b7b-4013-4cb7-8151-2a6aa7939118"
  },
  {
   "cell_type": "markdown",
   "metadata": {},
   "source": [
    "<br>  \n",
    "<br>"
   ],
   "id": "c6bb462c-2be7-4f47-8a19-8aeaa16a073a"
  },
  {
   "cell_type": "code",
   "execution_count": null,
   "metadata": {},
   "outputs": [],
   "source": [
    "# section break"
   ],
   "id": "c2c7dbc6-dbc9-4ca6-bf0d-70dee3587a7d"
  },
  {
   "cell_type": "markdown",
   "metadata": {},
   "source": [
    "# <a name=\"19wind-boot\">A Bootstrap Confidence Interval</a>\n",
    "\n",
    "------------------------------------------------------------------------\n",
    "\n",
    "Before introducing parametric methods for constructing a confidence\n",
    "interval estimate, we first apply resampling methods to construct a\n",
    "[bootstrap distribution](16-Bootstrap-Dist.qmd) from the sample\n",
    "`my.sample` that we can use to construct a [bootstrap confidence\n",
    "interval](17-Bootstrap-Confidence-Int.qmd). The code below uses the\n",
    "original sample `my.sample` to generate a bootstrap distribution for the\n",
    "sample mean wind speed (with $n=36$) that is stored in `boot.wind` for\n",
    "the next step.\n",
    "\n",
    "If you are not familiar with bootstrapping methods, but you would like\n",
    "to learn more about parametric methods, feel free to jump to the next\n",
    "section on [parametric methods](#sec-param)."
   ],
   "id": "72d2abd3-96ec-4f69-8715-bb840fd8ebf5"
  },
  {
   "cell_type": "code",
   "execution_count": null,
   "metadata": {},
   "outputs": [],
   "source": [
    "N <- 10^5  # Number of bootstrap samples\n",
    "boot.wind <- numeric(N)  # create vector to store bootstrap means\n",
    "n <- 36  # sample size\n",
    "\n",
    "# for loop that creates bootstrap dist\n",
    "for (i in 1:N)\n",
    "{\n",
    "  x <- sample(my.sample, size = n, replace = TRUE)  # pick a bootstrap resample\n",
    "  boot.wind[i] <- mean(x)  # compute bootstrap sample mean\n",
    "}\n",
    "\n",
    "boot.wind.est <- mean(boot.wind)  # mean of bootstrap dist\n",
    "boot.wind.se <- sd(boot.wind)  # bootstrap standard error\n",
    "my.mean <- mean(my.sample)  # original sample mean"
   ],
   "id": "360f28b6-404a-4113-8467-3e505a71d84c"
  },
  {
   "cell_type": "markdown",
   "metadata": {},
   "source": [
    "In the code cell below, we use the bootstrap sample means (stored in\n",
    "`boot.wind` above) to construct a 95% bootstrap percentile confidence\n",
    "interval estimate for the mean wind speed of all North Atlantic storms."
   ],
   "id": "4a37338d-0105-4487-87ab-1aaa3f1ce974"
  },
  {
   "cell_type": "code",
   "execution_count": null,
   "metadata": {},
   "outputs": [],
   "source": [
    "lower.boot.wind <- quantile(boot.wind, 0.025)  # lower 95% cutoff\n",
    "upper.boot.wind <- quantile(boot.wind, 0.975)  # upper 95% cutoff\n",
    "\n",
    "# print to screen\n",
    "lower.boot.wind   \n",
    "upper.boot.wind"
   ],
   "id": "295fd0c5-1169-42a3-995d-a3dc488415cd"
  },
  {
   "cell_type": "markdown",
   "metadata": {},
   "source": [
    "Based on the output from the previous code cell, we have a 95% bootstrap\n",
    "percentile confidence interval for the mean wind speed of all North\n",
    "Atlantic storms, namely from 51.25 knots to 72.36 knots. *Note the\n",
    "interval estimates may vary, so you likely have a slightly different\n",
    "interval estimate if you are working with a different sample.*\n",
    "\n",
    "In the code cell below, we plot the bootstrap distribution with the\n",
    "<span style=\"color:tomato\">original sample mean</span> of `my.sample`\n",
    "marked with a red vertical line and the\n",
    "<span style=\"color:dodgerblue\">cutoffs for the confidence\n",
    "interval</span> marked with blue vertical lines."
   ],
   "id": "f1f03f90-fe8f-4abc-9074-1090e26723bf"
  },
  {
   "cell_type": "code",
   "execution_count": null,
   "metadata": {},
   "outputs": [],
   "source": [
    "#################################\n",
    "# code is ready to run!\n",
    "# no need to edit the code cell\n",
    "#################################\n",
    "\n",
    "# plot bootstrap distribution\n",
    "hist(boot.wind,  \n",
    "     breaks=20, \n",
    "     xlab = \"x.bar, sample mean wind speed (in knots)\",\n",
    "     main = \"Bootstrap Distribution for Sample Mean\")\n",
    "\n",
    "# red line at the observed sample proportion\n",
    "abline(v = my.mean, col = \"firebrick2\", lwd = 2, lty = 1)\n",
    "\n",
    "# blue lines marking cutoffs\n",
    "abline(v = lower.boot.wind, col = \"blue\", lwd = 2, lty = 2)\n",
    "abline(v = upper.boot.wind, col = \"blue\", lwd = 2, lty = 2)"
   ],
   "id": "a31d1c9e-a940-4dcb-9fe4-f47136d6e2f8"
  },
  {
   "cell_type": "markdown",
   "metadata": {},
   "source": [
    "# <a name=\"19param-intro\">A Parametric Method for Interval Estimates {#sec-param}</a>\n",
    "\n",
    "------------------------------------------------------------------------\n",
    "\n",
    "Recall the [68%-95%-99.7% empirical\n",
    "rule](08-Common-Continuous-Distributions.qmd#sec-empirical) for normal\n",
    "distributions that states approximately:\n",
    "\n",
    "-   68% of all values fall within one standard deviation (both above and\n",
    "    below) from the mean.\n",
    "-   95% of all values fall within two standard deviations of the mean.\n",
    "-   99.7% of all values fall within three standard deviations of the\n",
    "    mean."
   ],
   "id": "8dda3c35-6137-4408-8644-f392b629767d"
  },
  {
   "cell_type": "code",
   "execution_count": null,
   "metadata": {},
   "outputs": [],
   "source": [
    "# section break"
   ],
   "id": "8fed616e-89ab-464d-8cc7-ca7ddc00b675"
  },
  {
   "cell_type": "markdown",
   "metadata": {},
   "source": [
    "## <a name=\"19q3\">Question 3</a>\n",
    "\n",
    "------------------------------------------------------------------------\n",
    "\n",
    "Check the accuracy of the empirical rule for normal distributions."
   ],
   "id": "4c456f73-2151-4c46-ade4-c5a747fe4916"
  },
  {
   "cell_type": "code",
   "execution_count": null,
   "metadata": {},
   "outputs": [],
   "source": [
    "# section break"
   ],
   "id": "0ea513ee-2715-4258-99ef-cf41c0240773"
  },
  {
   "cell_type": "markdown",
   "metadata": {},
   "source": [
    "### <a name=\"19q3a\">Question 3a</a>\n",
    "\n",
    "------------------------------------------------------------------------\n",
    "\n",
    "Using the R code cell below, check the accuracy of the approximation\n",
    "that 68% of the data is within $\\pm 1$ standard deviation from the mean.\n",
    "\n",
    "Using the standard normal distribution $Z \\sim N(0,1)$, compute\n",
    "$P(-1 < Z < 1)$.\n",
    "\n",
    "#### <a name=\"19sol3a\">Solution to Question 3a</a>\n",
    "\n",
    "------------------------------------------------------------------------"
   ],
   "id": "d1b9b1a5-7781-492f-9ae7-3fbe1b703d89"
  },
  {
   "cell_type": "code",
   "execution_count": null,
   "metadata": {},
   "outputs": [],
   "source": [
    "# how much data is within +/- 1 standard deviation?"
   ],
   "id": "3664dbb2-d074-42a3-a5f9-380ba8d31794"
  },
  {
   "cell_type": "markdown",
   "metadata": {},
   "source": [
    "<br>  \n",
    "<br>"
   ],
   "id": "b14d9992-a8d4-4455-b7ae-0b258a6514c1"
  },
  {
   "cell_type": "code",
   "execution_count": null,
   "metadata": {},
   "outputs": [],
   "source": [
    "# section break"
   ],
   "id": "86a8042e-66f7-4b05-93d3-9240b43abf4d"
  },
  {
   "cell_type": "markdown",
   "metadata": {},
   "source": [
    "### <a name=\"19q3b\">Question 3b</a>\n",
    "\n",
    "------------------------------------------------------------------------\n",
    "\n",
    "Using the R code cell below, check the accuracy of the approximation\n",
    "that 95% of the data is within $\\pm 2$ standard deviation from the mean.\n",
    "\n",
    "#### <a name=\"19sol3b\">Solution to Question 3b</a>\n",
    "\n",
    "------------------------------------------------------------------------"
   ],
   "id": "f0483c20-6e03-465a-8f71-8bf2beb0a71c"
  },
  {
   "cell_type": "code",
   "execution_count": null,
   "metadata": {},
   "outputs": [],
   "source": [
    "# how much data is within +/- 2 standard deviations?"
   ],
   "id": "b74d6b23-6e92-43aa-a4e8-3cb9bef6af53"
  },
  {
   "cell_type": "markdown",
   "metadata": {},
   "source": [
    "<br>  \n",
    "<br>"
   ],
   "id": "8f6cacb8-08eb-497e-b6ea-3e627354e4fe"
  },
  {
   "cell_type": "code",
   "execution_count": null,
   "metadata": {},
   "outputs": [],
   "source": [
    "# section break"
   ],
   "id": "96bb50a2-876e-480a-83a5-640a80241b55"
  },
  {
   "cell_type": "markdown",
   "metadata": {},
   "source": [
    "### <a name=\"19q3c\">Question 3c</a>\n",
    "\n",
    "------------------------------------------------------------------------\n",
    "\n",
    "Using the R code cell below, check the accuracy of the approximation\n",
    "that $99.7$% of the data is within $\\pm 3$ standard deviation from the\n",
    "mean.\n",
    "\n",
    "#### <a name=\"19sol3c\">Solution to Question 3c</a>\n",
    "\n",
    "------------------------------------------------------------------------"
   ],
   "id": "e37efb58-0f12-449b-a05b-dea0fd6ec5ba"
  },
  {
   "cell_type": "code",
   "execution_count": null,
   "metadata": {},
   "outputs": [],
   "source": [
    "# how much data is within +/- 3 standard deviations?"
   ],
   "id": "2cccf6d6-24d5-4523-b196-8768671be4a0"
  },
  {
   "cell_type": "markdown",
   "metadata": {},
   "source": [
    "<br>  \n",
    "<br>"
   ],
   "id": "708c7ce4-0e50-490f-ab30-981f657edc6e"
  },
  {
   "cell_type": "code",
   "execution_count": null,
   "metadata": {},
   "outputs": [],
   "source": [
    "# section break"
   ],
   "id": "196fb48a-4ebd-4904-a365-35e01785767c"
  },
  {
   "cell_type": "markdown",
   "metadata": {},
   "source": [
    "### <a name=\"19q3d\">Question 3d</a>\n",
    "\n",
    "------------------------------------------------------------------------\n",
    "\n",
    "Let’s improve the approximation that 95% of the data is withing $\\pm 2$\n",
    "standard deviations from the mean. Find a more accurate approximation\n",
    "for $z^*$ such that $P( -z^* < Z < z^* ) = 0.95$.\n",
    "\n",
    "Sketch a picture to help determine how much area is in the left tail\n",
    "below $-z^*$ if 95% of the area is between $-z^*$ and $z^*$. Then use\n",
    "the `qnorm()` command.\n",
    "\n",
    "#### <a name=\"19sol3d\">Solution to Question 3d</a>\n",
    "\n",
    "------------------------------------------------------------------------"
   ],
   "id": "86bf19ed-2948-4706-9480-93d3ff7e848a"
  },
  {
   "cell_type": "code",
   "execution_count": null,
   "metadata": {},
   "outputs": [],
   "source": [
    "# find more accurate cutoffs for the middle 95%\n",
    "#qnorm(??, 0, 1) "
   ],
   "id": "165a7e4a-c3f6-4035-b882-7a2f8b3f3adf"
  },
  {
   "cell_type": "markdown",
   "metadata": {},
   "source": [
    "<br>  \n",
    "<br>"
   ],
   "id": "1ed3b9ed-1a3f-4dbe-8f9f-e2504ef263a1"
  },
  {
   "cell_type": "code",
   "execution_count": null,
   "metadata": {},
   "outputs": [],
   "source": [
    "# section break"
   ],
   "id": "f31b2b8f-8654-494f-8f8c-ad2a1fe9fe74"
  },
  {
   "cell_type": "markdown",
   "metadata": {},
   "source": [
    "## <a name=\"19q4\">Question 4</a>\n",
    "\n",
    "------------------------------------------------------------------------\n",
    "\n",
    "Let $X$ denote the wind speed of a randomly selected North Atlantic\n",
    "storm. We use $\\mu$ and $\\sigma$ to denote the mean and standard\n",
    "deviation, respectively, of the wind speed of the population of all\n",
    "storms in the North Atlantic. Answer the questions below to investigate\n",
    "a different approach to constructing an interval estimate for $\\mu$."
   ],
   "id": "512a1122-02a4-40bb-b562-c6291d5cb7a8"
  },
  {
   "cell_type": "code",
   "execution_count": null,
   "metadata": {},
   "outputs": [],
   "source": [
    "# section break"
   ],
   "id": "c8adb544-2aa7-4b2c-ba81-1b55a67fece2"
  },
  {
   "cell_type": "markdown",
   "metadata": {},
   "source": [
    "### <a name=\"19q4a\">Question 4a</a>\n",
    "\n",
    "------------------------------------------------------------------------\n",
    "\n",
    "Let $\\overline{X}$ denote the distribution of sample means for samples\n",
    "size $n$. Recall we denote the mean and standard error of the sampling\n",
    "distribution as $\\mu_{\\overline{X}}$ and $\\sigma_{\\overline{X}}$,\n",
    "respectively.\n",
    "\n",
    "Justify each of the steps below.\n",
    "\n",
    "$$\\begin{aligned}\n",
    "0.95 &= P \\left( -1.96 < Z < 1.96 \\right) & \\mbox{from Question 3d}\\\\\n",
    "0.95   &= P \\left( -1.96 < \\frac{\\overline{X} - \\mu_{\\overline{X}}}{\\sigma_{\\overline{X}}} < 1.96 \\right) & \\mbox{Explanation 1}\\\\\n",
    "0.95   &=  P \\left( -1.96 < \\frac{\\overline{X} - \\mu}{\\frac{\\sigma}{\\sqrt{n}}} < 1.96 \\right) & \\mbox{Explanation 2}\\\\\n",
    "0.95   &= P \\left( -1.96 \\cdot \\frac{\\sigma}{\\sqrt{n}} < - \\mu <  1.96 \\cdot \\frac{\\sigma}{\\sqrt{n}} \\right) & \\mbox{Explanation 3} \\\\\n",
    "0.95   &= P \\left( - \\overline{X} -1.96 \\cdot \\frac{\\sigma}{\\sqrt{n}} < - \\mu <  - \\overline{X} + 1.96 \\cdot \\frac{\\sigma}{\\sqrt{n}} \\right) & \\mbox{Explanation 4} \\\\\n",
    "0.95   &= P \\left( \\overline{X} - 1.96 \\cdot \\frac{\\sigma}{\\sqrt{n}} < \\mu < \\overline{X}+1.96 \\cdot \\frac{\\sigma}{\\sqrt{n}} \\right) & \\mbox{Explanation 5}\\\\\n",
    "\\end{aligned}$$\n",
    "\n",
    "#### <a name=\"19sol4a\">Solution to Question 4a</a>\n",
    "\n",
    "------------------------------------------------------------------------\n",
    "\n",
    "Explanation 1:\n",
    "\n",
    "<br>\n",
    "\n",
    "Explanation 2:\n",
    "\n",
    "<br>\n",
    "\n",
    "Explanation 3:\n",
    "\n",
    "<br>\n",
    "\n",
    "Explanation 4:\n",
    "\n",
    "<br>\n",
    "\n",
    "Explanation 5:\n",
    "\n",
    "<br>  \n",
    "<br>"
   ],
   "id": "4a85f520-e32b-4c93-ba2c-954195b9bb5c"
  },
  {
   "cell_type": "code",
   "execution_count": null,
   "metadata": {},
   "outputs": [],
   "source": [
    "# section break"
   ],
   "id": "0f2fc81f-2b40-4737-a4bc-95045164bc58"
  },
  {
   "cell_type": "markdown",
   "metadata": {},
   "source": [
    "### <a name=\"19q4b\">Question 4b</a>\n",
    "\n",
    "------------------------------------------------------------------------\n",
    "\n",
    "Let $\\mu_{\\rm{wind}}$ denote the mean wind speed of all North Atlantic\n",
    "storms which we assume is unknown. How can we use the result that\n",
    "$P \\left( \\overline{X} - 1.96\\cdot \\sigma_{\\overline{X}} < \\mu_{\\rm{wind}} < \\overline{X}+1.96 \\cdot \\sigma_{\\overline{X}} \\right)=0.95$\n",
    "to help construct a confidence interval for $\\mu_{\\rm{wind}}$?\n",
    "\n",
    "#### <a name=\"19sol4b\">Solution to Question 4b</a>\n",
    "\n",
    "------------------------------------------------------------------------\n",
    "\n",
    "<br>  \n",
    "<br>  \n",
    "<br>"
   ],
   "id": "ef6c0450-713c-4295-a3da-52c236884b7c"
  },
  {
   "cell_type": "code",
   "execution_count": null,
   "metadata": {},
   "outputs": [],
   "source": [
    "# section break"
   ],
   "id": "02d7a458-9b2f-4aed-b7fb-837ac93d6b82"
  },
  {
   "cell_type": "markdown",
   "metadata": {},
   "source": [
    "### <a name=\"19q4c\">Question 4c</a>\n",
    "\n",
    "------------------------------------------------------------------------\n",
    "\n",
    "You will use the original random sample of $n=36$ wind speeds stored in\n",
    "`my.sample` in \\[Question 1\\] to construct an interval estimate using\n",
    "the result from \\[Question 4b\\]. If you have not already loaded the\n",
    "`population` data and created a sample size $n=36$ stored in\n",
    "`my.sample`, be sure to answer \\[Question 1\\] before continuing. Create\n",
    "a histogram to display the wind speeds in `my.sample`.\n",
    "\n",
    "#### <a name=\"19sol4c\">Solution to Question 4c</a>\n",
    "\n",
    "------------------------------------------------------------------------"
   ],
   "id": "511697c1-b955-40b6-b960-5b0ffc62311c"
  },
  {
   "cell_type": "code",
   "execution_count": null,
   "metadata": {},
   "outputs": [],
   "source": [
    "# Enter code to create a histogram to display your sample"
   ],
   "id": "3b6ed067-b428-48df-9414-df4a4b5acc0a"
  },
  {
   "cell_type": "markdown",
   "metadata": {},
   "source": [
    "<br>  \n",
    "<br>"
   ],
   "id": "0ced6c6f-edd4-4722-8bd2-d4456df5b0fd"
  },
  {
   "cell_type": "code",
   "execution_count": null,
   "metadata": {},
   "outputs": [],
   "source": [
    "# section break"
   ],
   "id": "c3e209d0-afee-40e0-b1ac-2629ad344af8"
  },
  {
   "cell_type": "markdown",
   "metadata": {},
   "source": [
    "### <a name=\"19q4d\">Question 4d</a>\n",
    "\n",
    "------------------------------------------------------------------------\n",
    "\n",
    "Are the assumptions for the CLT for means satisfied by the data in\n",
    "`my.sample`? Explain why or why not.\n",
    "\n",
    "#### <a name=\"19sol4d\">Solution to Question 4d</a>\n",
    "\n",
    "------------------------------------------------------------------------\n",
    "\n",
    "<br>  \n",
    "<br>  \n",
    "<br>"
   ],
   "id": "f1285d5c-8e4f-4fc2-9d1c-b1a91f75de17"
  },
  {
   "cell_type": "code",
   "execution_count": null,
   "metadata": {},
   "outputs": [],
   "source": [
    "# section break"
   ],
   "id": "bd4c5491-2f4c-4ae8-8d7f-351c5a847bf4"
  },
  {
   "cell_type": "markdown",
   "metadata": {},
   "source": [
    "### <a name=\"19q4e\">Question 4e</a>\n",
    "\n",
    "------------------------------------------------------------------------\n",
    "\n",
    "We assume the `population` data is unknown and we do not know the actual\n",
    "value of the parameter $\\mu_{\\rm{wind}}$. However, **suppose we do know\n",
    "the population variance** $\\mbox{Var}(X) = \\sigma^2_{\\rm{wind}} = 650$\n",
    "square knots. Using the CLT for means, what is the value of\n",
    "$\\sigma_{\\overline{X}}$, the standard error of the sampling distribution\n",
    "for $\\overline{X}$? Show your work below either doing calculations by\n",
    "hand or in R. *Tip: In R, the square root function is `sqrt()`.*\n",
    "\n",
    "#### <a name=\"19sol4e\">Solution to Question 4e</a>\n",
    "\n",
    "------------------------------------------------------------------------"
   ],
   "id": "df7a0b98-e8c8-4ff3-badc-bd2a539fd521"
  },
  {
   "cell_type": "code",
   "execution_count": null,
   "metadata": {},
   "outputs": [],
   "source": [
    "# compute standard error using CLT"
   ],
   "id": "c14d3bbf-7155-4834-8dca-71b4c2be6b3c"
  },
  {
   "cell_type": "markdown",
   "metadata": {},
   "source": [
    "<br>  \n",
    "<br>  \n",
    "<br>"
   ],
   "id": "a08b1ab5-b1e9-469c-bf94-cf61f79e858b"
  },
  {
   "cell_type": "code",
   "execution_count": null,
   "metadata": {},
   "outputs": [],
   "source": [
    "# section break"
   ],
   "id": "106b6df9-72fb-4320-b950-5a75647cd5c3"
  },
  {
   "cell_type": "markdown",
   "metadata": {},
   "source": [
    "### <a name=\"19q4f\">Question 4f</a>\n",
    "\n",
    "------------------------------------------------------------------------\n",
    "\n",
    "Give an interval of values $?? < \\mu_{\\rm{wind}} < ??$ that has a 95%\n",
    "chance of containing the actual value of $\\mu_{\\rm{wind}}$. Include\n",
    "supporting work/code to explain how you determined your answer.\n",
    "\n",
    "#### <a name=\"19sol4f\">Solution to Question 4f</a>\n",
    "\n",
    "------------------------------------------------------------------------"
   ],
   "id": "16a33169-cddd-4461-ade6-69960dfba574"
  },
  {
   "cell_type": "code",
   "execution_count": null,
   "metadata": {},
   "outputs": [],
   "source": [
    "# compute upper and lower cutoffs for interval estimate"
   ],
   "id": "286895e0-91f5-428f-8a6e-6686974b4604"
  },
  {
   "cell_type": "markdown",
   "metadata": {},
   "source": [
    "<br>  \n",
    "<br>  \n",
    "<br>"
   ],
   "id": "b4b34e70-e742-4b5b-8659-42ca852c94b1"
  },
  {
   "cell_type": "code",
   "execution_count": null,
   "metadata": {},
   "outputs": [],
   "source": [
    "# section break"
   ],
   "id": "69b49bff-41ff-45fc-bd77-4a8caeb0f487"
  },
  {
   "cell_type": "markdown",
   "metadata": {},
   "source": [
    "# <a name=\"19ci-95\">95% Confidence Interval for a Mean</a>\n",
    "\n",
    "------------------------------------------------------------------------\n",
    "\n",
    "For a sample size $n$ randomly picked from a normal distribution with\n",
    "unknown $\\mu$ and known $\\mbox{Var}(X)=\\sigma^2$, a\n",
    "<span style=\"color:dodgerblue\">**95% confidence interval for the\n",
    "mean**</span> is\n",
    "\n",
    "$${\\color{dodgerblue}{\\boxed{ \\large \\overline{X} - 1.96 \\frac{\\sigma}{\\sqrt{n}} < \\mu <  \\overline{X} + 1.96 \\frac{\\sigma}{\\sqrt{n}}}}}.$$\n",
    "\n",
    "If we draw 1000’s of random samples each size $n$ from a normal\n",
    "distribution with parameters $\\mu$ and $\\sigma^2$ and compute a 95%\n",
    "confidence interval from each sample, then\n",
    "<span style=\"color:dodgerblue\">**about 95% of the intervals would\n",
    "successfully contain** $\\mu$</span>."
   ],
   "id": "84dde592-fdfc-454e-994d-b293c12fbb0e"
  },
  {
   "cell_type": "code",
   "execution_count": null,
   "metadata": {},
   "outputs": [],
   "source": [
    "# section break"
   ],
   "id": "7c32e106-ba31-4ba7-bd4d-451a95156a01"
  },
  {
   "cell_type": "markdown",
   "metadata": {},
   "source": [
    "## <a name=\"19q5\">Question 5</a>\n",
    "\n",
    "------------------------------------------------------------------------\n",
    "\n",
    "A another climatologist collects their own random sample of $n=36$ wind\n",
    "speeds of North Atlantic storms."
   ],
   "id": "1abe40f0-aedd-4383-a1b2-2653bc30b0bd"
  },
  {
   "cell_type": "code",
   "execution_count": null,
   "metadata": {},
   "outputs": [],
   "source": [
    "# section break"
   ],
   "id": "aea90200-22f0-40d4-b26b-4f368b261b1d"
  },
  {
   "cell_type": "markdown",
   "metadata": {},
   "source": [
    "### <a name=\"19q5a\">Question 5a</a>\n",
    "\n",
    "------------------------------------------------------------------------\n",
    "\n",
    "Pick their random sample (without replacement) of $n=36$ wind speeds\n",
    "from the `population`. Store the other sample to a vector named\n",
    "`their.sample`.\n",
    "\n",
    "#### <a name=\"19sol5a\">Solution to Question 5a</a>\n",
    "\n",
    "------------------------------------------------------------------------"
   ],
   "id": "636160f3-3769-43f3-ab04-d4929f711aef"
  },
  {
   "cell_type": "code",
   "execution_count": null,
   "metadata": {},
   "outputs": [],
   "source": [
    "# pick another random sample of 36 wind speeds without replacement\n",
    "#their.sample(??, size = ??, replace = ??)"
   ],
   "id": "042dea87-4c14-4c1b-9f28-69fb1c26ed9d"
  },
  {
   "cell_type": "markdown",
   "metadata": {},
   "source": [
    "<br>  \n",
    "<br>"
   ],
   "id": "1bc8f903-bc1f-4684-9a1d-112bcc6d56c2"
  },
  {
   "cell_type": "code",
   "execution_count": null,
   "metadata": {},
   "outputs": [],
   "source": [
    "# section break"
   ],
   "id": "eafd3135-9cb7-47a3-926f-b5462ceacd2a"
  },
  {
   "cell_type": "markdown",
   "metadata": {},
   "source": [
    "### <a name=\"19q5b\">Question 5b</a>\n",
    "\n",
    "------------------------------------------------------------------------\n",
    "\n",
    "Using the random sample `their.sample`, give a possible point estimate\n",
    "for $\\mu_{\\rm{wind}}$, the mean wind speed of all storms in\n",
    "`population`.\n",
    "\n",
    "#### <a name=\"19sol5b\">Solution to Question 5b</a>\n",
    "\n",
    "------------------------------------------------------------------------"
   ],
   "id": "ecf0c76e-e0bd-4823-8d65-9845e75ab4df"
  },
  {
   "cell_type": "code",
   "execution_count": null,
   "metadata": {},
   "outputs": [],
   "source": [
    "# use their sample to give another point estimate"
   ],
   "id": "09abe05d-9bc4-472c-b4e0-74bff3615420"
  },
  {
   "cell_type": "markdown",
   "metadata": {},
   "source": [
    "<br>  \n",
    "<br>"
   ],
   "id": "a7217898-840b-4b39-b4ee-e12e51b2269a"
  },
  {
   "cell_type": "code",
   "execution_count": null,
   "metadata": {},
   "outputs": [],
   "source": [
    "# section break"
   ],
   "id": "5967b878-629b-4237-be24-44acd3b2f0df"
  },
  {
   "cell_type": "markdown",
   "metadata": {},
   "source": [
    "### <a name=\"19q5c\">Question 5c</a>\n",
    "\n",
    "------------------------------------------------------------------------\n",
    "\n",
    "Are the two point estimates in \\[Question 2\\] and \\[Question 5b\\] equal?\n",
    "\n",
    "#### <a name=\"19sol5c\">Solution to Question 5c</a>\n",
    "\n",
    "------------------------------------------------------------------------\n",
    "\n",
    "<br>  \n",
    "<br>  \n",
    "<br>"
   ],
   "id": "57e5e342-73ad-4047-8acf-c64d2ac6135b"
  },
  {
   "cell_type": "code",
   "execution_count": null,
   "metadata": {},
   "outputs": [],
   "source": [
    "# section break"
   ],
   "id": "3885397e-6ce1-44f0-8fbb-973cb754e164"
  },
  {
   "cell_type": "markdown",
   "metadata": {},
   "source": [
    "### <a name=\"19q5d\">Question 5d</a>\n",
    "\n",
    "------------------------------------------------------------------------\n",
    "\n",
    "Are the true values of the population parameter different or the same\n",
    "for both climatologists?\n",
    "\n",
    "#### <a name=\"19sol5d\">Solution to Question 5d</a>\n",
    "\n",
    "------------------------------------------------------------------------\n",
    "\n",
    "<br>  \n",
    "<br>  \n",
    "<br>"
   ],
   "id": "f89947ae-25cb-40a8-8e68-a8b578ad03cc"
  },
  {
   "cell_type": "code",
   "execution_count": null,
   "metadata": {},
   "outputs": [],
   "source": [
    "# section break"
   ],
   "id": "f3b412d8-ae0b-4a84-af7a-c5f1c77d28e8"
  },
  {
   "cell_type": "markdown",
   "metadata": {},
   "source": [
    "### <a name=\"19q5e\">Question 5e</a>\n",
    "\n",
    "------------------------------------------------------------------------\n",
    "\n",
    "Without checking, which point estimate (\\[Question 2\\] or \\[Question\n",
    "5b\\]) do you believe is “better”?\n",
    "\n",
    "#### <a name=\"19sol5e\">Solution to Question 5e</a>\n",
    "\n",
    "------------------------------------------------------------------------\n",
    "\n",
    "<br>  \n",
    "<br>  \n",
    "<br>"
   ],
   "id": "c5a8a710-c660-4c32-a60e-5648da391689"
  },
  {
   "cell_type": "code",
   "execution_count": null,
   "metadata": {},
   "outputs": [],
   "source": [
    "# section break"
   ],
   "id": "f1767584-e905-4d67-88e6-ddd0f0dc95fb"
  },
  {
   "cell_type": "markdown",
   "metadata": {},
   "source": [
    "# <a name=\"19unknown\">What is Uncertain and What is Unknown?</a>\n",
    "\n",
    "------------------------------------------------------------------------\n",
    "\n",
    "It can be easy to confuse the terms *uncertain* and *unknown*. In a less\n",
    "formal setting, people may use these terms interchangeably. In\n",
    "statistical inference, there is a clear distinction in their meaning\n",
    "that is important to clarify:\n",
    "\n",
    "-   Each <span style=\"color:dodgerblue\">**sample statistic is a known\n",
    "    value that is uncertain**</span> due to sampling.\n",
    "    -   Each climatologist has a different sample.\n",
    "    -   The sample means will be different for different researchers.\n",
    "-   The <span style=\"color:dodgerblue\">**population parameter is an\n",
    "    unknown value that is certain**</span> (not variable).\n",
    "    -   The parameter we are trying to estimate is a fixed (certain)\n",
    "        value.\n",
    "    -   The value of the parameter is however unknown.\n",
    "-   Each climatologist has a different estimate but both are trying to\n",
    "    hit the same fixed target.\n",
    "-   We cannot be certain whether our estimate is successful or not if\n",
    "    $\\mu_{\\rm{wind}}$ is unknown!"
   ],
   "id": "5f5997ab-5b25-461b-a766-b8fc2f476ec7"
  },
  {
   "cell_type": "code",
   "execution_count": null,
   "metadata": {},
   "outputs": [],
   "source": [
    "# section break"
   ],
   "id": "390aa62a-a81c-442a-a1ff-09433e6d2092"
  },
  {
   "cell_type": "markdown",
   "metadata": {},
   "source": [
    "# <a name=\"19int-ci\">Interpreting Confidence Intervals</a>\n",
    "\n",
    "------------------------------------------------------------------------"
   ],
   "id": "d8674fa5-34d2-419d-be60-2349087133f9"
  },
  {
   "cell_type": "code",
   "execution_count": null,
   "metadata": {},
   "outputs": [],
   "source": [
    "# section break"
   ],
   "id": "06148f8d-6bea-4df6-8ec4-5eee457e2267"
  },
  {
   "cell_type": "markdown",
   "metadata": {},
   "source": [
    "## <a name=\"19q6\">Question 6</a>\n",
    "\n",
    "------------------------------------------------------------------------\n",
    "\n",
    "A researcher calculates collects a random sample size $n=36$ of wind\n",
    "speeds for storms in the North Atlantic and gets a 95% confidence\n",
    "interval for the mean wind speed that is from $48.75$ knots to $65.41$\n",
    "knots. **For each statement, determine whether the interpretation is\n",
    "correct or not. If not, explain why not.**"
   ],
   "id": "2b9b62f4-a3eb-47aa-98ea-30d9ed9e29df"
  },
  {
   "cell_type": "code",
   "execution_count": null,
   "metadata": {},
   "outputs": [],
   "source": [
    "# section break"
   ],
   "id": "bb401851-d8a9-4753-9004-f20afd8a206a"
  },
  {
   "cell_type": "markdown",
   "metadata": {},
   "source": [
    "### <a name=\"19q6a\">Question 6a</a>\n",
    "\n",
    "------------------------------------------------------------------------\n",
    "\n",
    "There is a 95% chance that a randomly selected storm in the North\n",
    "Atlantic has a wind speed between $48.75$ and $65.41$ knots.\n",
    "\n",
    "#### <a name=\"19sol6a\">Solution to Question 6a</a>\n",
    "\n",
    "------------------------------------------------------------------------\n",
    "\n",
    "<br>  \n",
    "<br>  \n",
    "<br>"
   ],
   "id": "435c1d02-f399-4056-bbff-c57535c88be9"
  },
  {
   "cell_type": "code",
   "execution_count": null,
   "metadata": {},
   "outputs": [],
   "source": [
    "# section break"
   ],
   "id": "1ca1a83d-5a11-43f8-809e-8375d72ef257"
  },
  {
   "cell_type": "markdown",
   "metadata": {},
   "source": [
    "### <a name=\"19q6b\">Question 6b</a>\n",
    "\n",
    "------------------------------------------------------------------------\n",
    "\n",
    "There is a 95% chance that the mean wind speed of all storms in the\n",
    "North Atlantic is between $48.75$ and $65.41$ knots.\n",
    "\n",
    "#### <a name=\"19sol6b\">Solution to Question 6b</a>\n",
    "\n",
    "------------------------------------------------------------------------\n",
    "\n",
    "<br>  \n",
    "<br>  \n",
    "<br>"
   ],
   "id": "c21e05c6-6b0e-4af6-b68f-edb5d00a965b"
  },
  {
   "cell_type": "code",
   "execution_count": null,
   "metadata": {},
   "outputs": [],
   "source": [
    "# section break"
   ],
   "id": "20011481-70bb-4294-b066-ef64163ccddd"
  },
  {
   "cell_type": "markdown",
   "metadata": {},
   "source": [
    "### <a name=\"19q6c\">Question 6c</a>\n",
    "\n",
    "------------------------------------------------------------------------\n",
    "\n",
    "There is a 95% chance the interval from $48.75$ to $65.41$ knots\n",
    "contains the mean wind speed of all storms in the North Atlantic.\n",
    "\n",
    "#### <a name=\"19sol6c\">Solution to Question 6c</a>\n",
    "\n",
    "------------------------------------------------------------------------\n",
    "\n",
    "<br>  \n",
    "<br>  \n",
    "<br>"
   ],
   "id": "a008ab42-ead7-49c0-a7bd-c47ac0819945"
  },
  {
   "cell_type": "code",
   "execution_count": null,
   "metadata": {},
   "outputs": [],
   "source": [
    "# section break"
   ],
   "id": "1b64671f-13e8-4da0-aaa4-61b00aa08650"
  },
  {
   "cell_type": "markdown",
   "metadata": {},
   "source": [
    "### <a name=\"19q6d\">Question 6d</a>\n",
    "\n",
    "------------------------------------------------------------------------\n",
    "\n",
    "95% of all random samples of size $n=36$ North Atlantic storms have a\n",
    "sample mean wind speed between $48.75$ and $65.41$ knots.\n",
    "\n",
    "#### <a name=\"19sol6d\">Solution to Question 6d</a>\n",
    "\n",
    "------------------------------------------------------------------------\n",
    "\n",
    "<br>  \n",
    "<br>  \n",
    "<br>"
   ],
   "id": "422ddfe7-6eec-425f-922d-679f3fa05ecc"
  },
  {
   "cell_type": "code",
   "execution_count": null,
   "metadata": {},
   "outputs": [],
   "source": [
    "# section break"
   ],
   "id": "b14b2e52-9f32-4d4e-8be5-2c37a3be3a7d"
  },
  {
   "cell_type": "markdown",
   "metadata": {},
   "source": [
    "### <a name=\"19q6e\">Question 6e</a>\n",
    "\n",
    "------------------------------------------------------------------------\n",
    "\n",
    "There is a 95% chance the interval from $48.75$ to $65.41$ knots\n",
    "contains the mean wind speed of a random sample of $n=36$ storms.\n",
    "\n",
    "#### <a name=\"19sol6e\">Solution to Question 6e</a>\n",
    "\n",
    "------------------------------------------------------------------------\n",
    "\n",
    "<br>  \n",
    "<br>  \n",
    "<br>"
   ],
   "id": "f9f972b4-e12b-4cb6-879a-400d48239a20"
  },
  {
   "cell_type": "code",
   "execution_count": null,
   "metadata": {},
   "outputs": [],
   "source": [
    "# section break"
   ],
   "id": "6c6be35f-52be-4d45-aa9c-62475b00d0ac"
  },
  {
   "cell_type": "markdown",
   "metadata": {},
   "source": [
    "## <a name=\"19attach\">Attaching Uncertainty to the Intervals</a>\n",
    "\n",
    "------------------------------------------------------------------------\n",
    "\n",
    "The plot generated by the code below constructs 100 different confidence\n",
    "intervals based on 100 different random samples each size $n=36$ storms\n",
    "selected from the `population`. For each sample mean $\\overline{X}$, we\n",
    "follow the same process of constructing a 95% confidence interval using:\n",
    "\n",
    "$$\\overline{X} - 1.96 \\frac{\\sigma}{\\sqrt{n}} < \\mu_{\\rm{wind}} <  \\overline{X} + 1.96 \\frac{\\sigma}{\\sqrt{n}}.$$\n",
    "\n",
    "-   Each sample results is a different interval estimate (all with the\n",
    "    same width).\n",
    "-   The true population mean is marked with a blue vertical line at\n",
    "    $\\mu_{\\rm{wind}} = 50.02$ knots.\n",
    "-   The goal of each interval is to contain the same, fixed value of the\n",
    "    population parameter.\n",
    "    -   The confidence intervals that\n",
    "        <span style=\"color:mediumseagreen\">successfully contain\n",
    "        $\\mu_{\\rm{wind}} = 50.02$</span> are marked in green.\n",
    "    -   The unsuccessful confidence intervals that\n",
    "        <span style=\"color:tomato\">do not contain\n",
    "        $\\mu_{\\rm{wind}} = 50.02$</span> are marked in red.\n",
    "        -   <span style=\"color:tomato\">2 out of the 100 interval\n",
    "            estimates are underestimates.</span>\n",
    "        -   <span style=\"color:tomato\">2 out of the 100 interval\n",
    "            estimates are overestimates.</span>\n",
    "    -   <span style=\"color:mediumseagreen\">We have a success rate of 96\n",
    "        out of 100 in this simulation.</span>\n",
    "-   If we ran this simulation many more times, the success rate would\n",
    "    converge to 95%."
   ],
   "id": "cdf6e4ea-5776-4d19-b7df-6fc5f5235761"
  },
  {
   "cell_type": "code",
   "execution_count": null,
   "metadata": {},
   "outputs": [],
   "source": [
    "# section break"
   ],
   "id": "b6954407-855f-4679-92a0-769b22fdc470"
  },
  {
   "cell_type": "markdown",
   "metadata": {},
   "source": [
    "## <a name=\"19q7\">Question 7</a>\n",
    "\n",
    "------------------------------------------------------------------------\n",
    "\n",
    "What are some warnings to keep in mind when interpreting confidence\n",
    "intervals?\n",
    "\n",
    "### <a name=\"19sol7\">Solution to Question 7</a>\n",
    "\n",
    "------------------------------------------------------------------------\n",
    "\n",
    "Warning 1:\n",
    "\n",
    "<br>\n",
    "\n",
    "Warning 2:\n",
    "\n",
    "<br>\n",
    "\n",
    "Warning 3:\n",
    "\n",
    "<br>  \n",
    "<br>"
   ],
   "id": "ed7cca56-69b2-4abd-b319-14d6eb50567f"
  },
  {
   "cell_type": "code",
   "execution_count": null,
   "metadata": {},
   "outputs": [],
   "source": [
    "# section break"
   ],
   "id": "117f380f-7cb7-44a6-9cbb-ecdaf141bac6"
  },
  {
   "cell_type": "markdown",
   "metadata": {},
   "source": [
    "## <a name=\"19q8\">Question 8</a>\n",
    "\n",
    "------------------------------------------------------------------------\n",
    "\n",
    "You will use the original random sample of $n=36$ wind speeds stored in\n",
    "`my.sample` in \\[Question 1\\] to construct a new confidence interval\n",
    "estimate for the mean wind speed of all North Atlantic storms. If you\n",
    "have not already loaded the `population` data and created a sample size\n",
    "$n=36$ stored in `my.sample`, be sure to answer \\[Question 1\\] before\n",
    "continuing."
   ],
   "id": "4dff66a7-d3e2-4b53-a209-0ea07fec4c6e"
  },
  {
   "cell_type": "code",
   "execution_count": null,
   "metadata": {},
   "outputs": [],
   "source": [
    "# section break"
   ],
   "id": "86673592-2601-4ec2-8e05-22aff77f0567"
  },
  {
   "cell_type": "markdown",
   "metadata": {},
   "source": [
    "### <a name=\"19q8a\">Question 8a</a>\n",
    "\n",
    "------------------------------------------------------------------------\n",
    "\n",
    "Based on your sample data in `my.sample`, give a **90% confidence\n",
    "interval** for the mean wind speed of all North Atlantic storms using\n",
    "the parametric method. As with earlier, suppose we know population\n",
    "variance is $\\sigma^2_X = 650$. **Interpret the practical meaning of\n",
    "your 90% confidence interval in the context of this example.**\n",
    "\n",
    "#### <a name=\"19sol8a\">Solution to Question 8a</a>\n",
    "\n",
    "------------------------------------------------------------------------"
   ],
   "id": "2e6fb5bb-e3ec-4f6b-94cf-fad4722e2bcc"
  },
  {
   "cell_type": "code",
   "execution_count": null,
   "metadata": {},
   "outputs": [],
   "source": [
    "#new.z <- ??  # Enter a command to calculate z value for 90% Conf Level\n",
    "#wind.lowe90 <- ??   # Enter a command to calculate the lower limit\n",
    "#wind.upper90 <- ??   # Enter a command to calculate the upper limit\n",
    "\n",
    "# Print your answers\n",
    "#wind.lower90\n",
    "#wind.upper90"
   ],
   "id": "00d3eea7-983d-45d8-98e6-5d4c381cd5e4"
  },
  {
   "cell_type": "markdown",
   "metadata": {},
   "source": [
    "<br>  \n",
    "<br>\n",
    "\n",
    "**Practical interpretation of your 90% confidence interval:**\n",
    "\n",
    "<br>  \n",
    "<br>  \n",
    "<br>"
   ],
   "id": "8ede2915-57cc-478d-b2ba-35ed4897e886"
  },
  {
   "cell_type": "code",
   "execution_count": null,
   "metadata": {},
   "outputs": [],
   "source": [
    "# section break"
   ],
   "id": "4d4e7b7c-7244-4b94-ac62-abd0cebd19d1"
  },
  {
   "cell_type": "markdown",
   "metadata": {},
   "source": [
    "### <a name=\"19q8b\">Question 8b</a>\n",
    "\n",
    "------------------------------------------------------------------------\n",
    "\n",
    "As we **decrease the confidence level of the interval** from 95% in\n",
    "\\[Question 4f\\] to 90% in \\[Question 8a\\], what happened to the width of\n",
    "the interval estimate?\n",
    "\n",
    "#### <a name=\"19sol8b\">Solution to Question 8b</a>\n",
    "\n",
    "------------------------------------------------------------------------\n",
    "\n",
    "<br>  \n",
    "<br>  \n",
    "<br>"
   ],
   "id": "2a24fa09-d03c-4ac9-997c-a1829b04e130"
  },
  {
   "cell_type": "code",
   "execution_count": null,
   "metadata": {},
   "outputs": [],
   "source": [
    "# section break"
   ],
   "id": "75cbf464-118f-41bc-8356-b7ccf3e461e6"
  },
  {
   "cell_type": "markdown",
   "metadata": {},
   "source": [
    "# <a name=\"19change-cl\">Changing the Confidence Level</a>\n",
    "\n",
    "------------------------------------------------------------------------\n",
    "\n",
    "For a sample size $n$ randomly picked from a normal distribution with\n",
    "unknown $\\mu$ and known $\\mbox{Var}(X)=\\sigma^2$, then a\n",
    "<span style=\"color:dodgerblue\">**confidence interval for the\n",
    "mean**</span> is given by\n",
    "\n",
    "$$\\boxed{ \\large \\overline{X} - {\\color{tomato}{z_{\\alpha/2}}} \\cdot \\frac{\\sigma}{\\sqrt{n}} < \\mu < \\overline{X} + {\\color{tomato}{z_{\\alpha/2}}} \\cdot \\frac{\\sigma}{\\sqrt{n}}},$$\n",
    "\n",
    "where the area under $N(0,1)$ between $\\pm z_{\\alpha/2}$ is equal to the\n",
    "<span style=\"color:dodgerblue\">**confidence level**</span> of the\n",
    "estimate.\n",
    "\n",
    "-   The confidence level is the success rate of the estimate.\n",
    "-   The distance\n",
    "    ${\\color{dodgerblue}{\\mbox{MoE} = z_{\\alpha/2} \\cdot \\frac{\\sigma}{\\sqrt{n}}}}$\n",
    "    is called the <span style=\"color:dodgerblue\">**Margin of Error\n",
    "    (MoE)**</span> of the confidence interval.\n",
    "\n",
    "$$ \\mu \\approx \\overline{X} \\pm {\\color{dodgerblue}{z_{\\alpha/2} \\cdot \\mbox{SE}}} =  \\overline{X} \\pm {\\color{dodgerblue}{\\mbox{MoE}}}$$\n",
    "\n",
    "Let <span style=\"color:dodgerblue\">**CL**</span> denote a selected\n",
    "<span style=\"color:dodgerblue\">**confidence level**</span> that is the\n",
    "proportion of <span style=\"color:dodgerblue\">**area in the\n",
    "middle**</span>.\n",
    "\n",
    "-   We have ${\\color{mediumseagreen}{\\alpha = 1 - CL}}$ is the\n",
    "    <span style=\"color:mediumseagreen\">**area in the two tails**</span>.\n",
    "-   The <span style=\"color:tomato\">**area in each tail**</span> is\n",
    "    therefore $\\color{tomato}{\\dfrac{\\alpha}{2}}$.\n",
    "\n",
    "# <a name=\"19var-unknown\">Confidence Intervals When the Variance Is Unknown</a>\n",
    "\n",
    "------------------------------------------------------------------------\n",
    "\n",
    "When estimating a population mean, in addition to $\\mu$ being unknown,\n",
    "we often **do not know the population variance, $\\sigma^2$, either.** We\n",
    "pick a random sample size $n$, and we can plug-in the sample mean\n",
    "$\\bar{x}$ as our point estimate for $\\mu$. How can we find the margin of\n",
    "error if $\\sigma$ is unknown?\n",
    "\n",
    "-   We can use the <span style=\"color:tomato\">**sample standard\n",
    "    deviation**</span> $\\color{tomato}{s}$ in place of $\\sigma$.\n",
    "\n",
    "From the CLT for means, as long as the sample is normally distributed or\n",
    "if $n \\geq 30$, then we know the distribution of sample means\n",
    "$\\overline{X}$ is normally distributed with mean\n",
    "${\\color{mediumseagreen}{\\mu_{\\overline{X}} = \\mu_X}}$ and standard\n",
    "error\n",
    "${\\color{dodgerblue}{\\sigma_{\\overline{X}} = \\frac{\\sigma}{\\sqrt{n}}}}$.\n",
    "Thus, the standardized distribution of $z$-scores corresponding the\n",
    "sampling distribution for the sample mean $\\overline{X}$ is normal:\n",
    "\n",
    "$$Z = \\frac{\\overline{X} - \\color{mediumseagreen}{\\mu_{\\overline{X}}}}{{\\color{dodgerblue}{\\sigma_{\\overline{X}}}}} = \\frac{\\overline{X} - \\color{mediumseagreen}{\\mu_{X}}}{{\\color{dodgerblue}{\\sigma_{X}/\\sqrt{n}}}} \\sim N(0,1).$$\n",
    "\n",
    "Let’s apply our <span style=\"color:tomato\">substitution of $s$ in place\n",
    "of $\\sigma_{X}$</span> and consider the resulting distribution of\n",
    "standardized statistics denoted $W$:\n",
    "\n",
    "$$Z = \\frac{\\overline{X} - \\mu_{X}}{{\\color{tomato}{\\sigma_{X}}}/\\sqrt{n}} \\quad \\xrightarrow{\\text{plug-in } {\\color{tomato}{s}} \\text{ for } {\\color{tomato}{\\sigma_{X}}}}  \\quad W = \\frac{\\overline{X}-\\mu_X}{{\\color{tomato}{s}}/\\sqrt{n}} \\sim \\mbox{ ?}$$\n",
    "\n",
    "-   The plot on the left gives a histogram for the standardized sampling\n",
    "    distribution $W$.\n",
    "-   The plot on the right is a QQ-plot comparing the distribution of $W$\n",
    "    to $Z \\sim N(0,1)$.\n",
    "\n",
    "![Standardized Distribution When Variance\n",
    "Unknown.](attachment:19-Parametric-CI-Means_files/figure-ipynb/fig-qqplot-1.png)![Standardized\n",
    "Distribution When Variance\n",
    "Unknown.](attachment:19-Parametric-CI-Means_files/figure-ipynb/fig-qqplot-2.png)\n",
    "\n",
    "The distribution $W$ is symmetric and bell-shaped. From the QQ-plot, we\n",
    "see $W$ is approximately normal in the middle of the distribution.\n",
    "However, the tails of distribution $W$ are not similar to tails of a\n",
    "normal distribution. Distribution $W$ has **fatter tails** than a normal\n",
    "distribution.\n",
    "\n",
    "-   The fatter tails are due to the **added uncertainty** with using $s$\n",
    "    to estimate the value of $\\sigma$.\n",
    "\n",
    "## <a name=\"19t-dist\">The $t$-Distribution</a>\n",
    "\n",
    "------------------------------------------------------------------------\n",
    "\n",
    "When the population is known to be normally distributed, the\n",
    "distribution $W$ is a <span style=\"color:dodgerblue\">**$t$-distribution\n",
    "with $n-1$ degrees of freedom**</span>, where $n$ denotes the sample\n",
    "size. If the underlying population is known to be symmetric (but not\n",
    "necessarily normal), a $t$-distribution with $n-1$ degrees of freedom is\n",
    "still a good estimate.\n",
    "\n",
    "-   The larger our sample size $n$, the better (less biased) the\n",
    "    estimate $s$ is for $\\sigma$.\n",
    "-   The larger the sample size $n$, the closer the $t$-distribution is\n",
    "    to $Z \\sim N(0,1)$.\n",
    "\n",
    "If a random sample of data is skewed, then the population is likely\n",
    "skewed. The more skewed the population is, the less accurate a\n",
    "$t$-distribution is to estimate the distribution of the standardized\n",
    "statistic $W$.\n",
    "\n",
    "In cases where the sample is small ($n < 30$) and skewed, a bootstrap\n",
    "confidence interval is typically preferred to using a $t$-distribution\n",
    "to approximate the margin of error."
   ],
   "attachments": {
    "19-Parametric-CI-Means_files/figure-ipynb/fig-qqplot-1.png": {
     "image/png": "[encoded data removed]"
    },
    "19-Parametric-CI-Means_files/figure-ipynb/fig-qqplot-2.png": {
     "image/png": "[encoded data removed]"
    }
   },
   "id": "2c3a7c2f-3033-4219-80b2-dda3c270d8eb"
  },
  {
   "cell_type": "code",
   "execution_count": null,
   "metadata": {},
   "outputs": [],
   "source": [
    "# section break"
   ],
   "id": "cdcc23ec-b145-4b67-9624-7f4315235a9f"
  },
  {
   "cell_type": "markdown",
   "metadata": {},
   "source": [
    "## <a name=\"19using-t\">Using a $t$-Distribution When Variance is Unknown</a>\n",
    "\n",
    "------------------------------------------------------------------------\n",
    "\n",
    "For a sample size $n$ randomly picked from a normal distribution with\n",
    "unknown $\\mu$ and unknown $\\mbox{Var}(X)=\\sigma^2$, we construct a\n",
    "confidence interval for $\\mu$ using:\n",
    "\n",
    "-   The <span style=\"color:tomato\">sample standard deviation $s$</span>\n",
    "    in place of $\\sigma$, and  \n",
    "-   A <span style=\"color:dodgerblue\">$t$-distribution to find\n",
    "    $t_{\\alpha/2}$</span> instead of using $N(0,1)$ to find\n",
    "    $z_{\\alpha/2}$\n",
    "\n",
    "A corresponding $t$-distribution confidence interval is given by\n",
    "\n",
    "$${\\large \\boxed{ \\overline{X} - {\\color{dodgerblue}{t_{\\alpha/2}}} \\cdot \\frac{{\\color{tomato}{s}}}{\\sqrt{n}} < \\mu < \\overline{X} + {\\color{dodgerblue}{t_{\\alpha/2}}} \\cdot \\frac{{\\color{tomato}{s}}}{\\sqrt{n}}}},$$\n",
    "\n",
    "where the area under the $t$-distribution with $n-1$ degrees of freedom\n",
    "between ${\\color{dodgerblue}{\\pm t_{\\alpha/2}}}$ is equal to the\n",
    "confidence level."
   ],
   "id": "fb2e7b00-e7c9-4c2a-87e3-f43d3fd70875"
  },
  {
   "cell_type": "code",
   "execution_count": null,
   "metadata": {},
   "outputs": [],
   "source": [
    "# section break"
   ],
   "id": "4844726e-2a48-4a9f-b78f-3d679e36e638"
  },
  {
   "cell_type": "markdown",
   "metadata": {},
   "source": [
    "## <a name=\"19q9\">Question 9</a>\n",
    "\n",
    "------------------------------------------------------------------------\n",
    "\n",
    "<figure>\n",
    "<img\n",
    "src=\"https://upload.wikimedia.org/wikipedia/commons/9/96/Komodo_dragon_%28Varanus_komodoensis%29_2.jpg\"\n",
    "style=\"width:40.0%\" data-fig-align=\"left\"\n",
    "data-fig-alt=\"Komodo dragon (Varanus_komodoensis)\"\n",
    "alt=\"Credit: Charles J. Sharp, CC BY-SA 4.0, via Wikimedia Commons\" />\n",
    "<figcaption aria-hidden=\"true\">Credit: Charles J. Sharp, <a\n",
    "href=\"https://creativecommons.org/licenses/by-sa/4.0\">CC BY-SA 4.0</a>,\n",
    "via Wikimedia Commons</figcaption>\n",
    "</figure>\n",
    "\n",
    "Researchers want to estimate the average length of all adult female\n",
    "Komodo dragons. The pick a random sample of $n=8$ adult female Komodo\n",
    "dragons with the following weights (in pounds). They believe the\n",
    "distribution in weights will by normally distributed, but otherwise, the\n",
    "population variance is unknown."
   ],
   "id": "82307b09-e2d5-4728-9630-eb1ab4da2332"
  },
  {
   "cell_type": "code",
   "execution_count": null,
   "metadata": {},
   "outputs": [],
   "source": [
    "dragon.wt <- c(145, 178, 142, 139, 160, 190, 168, 122)  # load sample of weights  \n",
    "dragon.wt  # print to screen"
   ],
   "id": "b843a46c-2866-44a5-8378-ea1297b4f53b"
  },
  {
   "cell_type": "code",
   "execution_count": null,
   "metadata": {},
   "outputs": [],
   "source": [
    "# section break"
   ],
   "id": "a93b5c15-76e4-4922-a329-6b97fa79fd69"
  },
  {
   "cell_type": "markdown",
   "metadata": {},
   "source": [
    "### <a name=\"19q9a\">Question 9a</a>\n",
    "\n",
    "------------------------------------------------------------------------\n",
    "\n",
    "Use the R code cell below to construct a 95% confidence interval for\n",
    "mean weight of all female Komodo dragons using the sample weights in\n",
    "`dragon.wt`.\n",
    "\n",
    "Using the data in `dragon.wt`, calculate the statistics $\\bar{x}$ and\n",
    "$s$. To find $t_{\\alpha/2}$, use the `qt()` function similar to how you\n",
    "use the `qnorm()` to calculate $z_{\\alpha/2}$. For more help using the\n",
    "`qt()` function, run `?qt()`.\n",
    "\n",
    "#### <a name=\"19sol9a\">Solution to Question 9a</a>\n",
    "\n",
    "------------------------------------------------------------------------"
   ],
   "id": "9fe3dabb-e408-4610-9928-b9539b20a445"
  },
  {
   "cell_type": "code",
   "execution_count": null,
   "metadata": {},
   "outputs": [],
   "source": [
    "# construct a 95% confidence interval"
   ],
   "id": "0393fca1-f0bd-43e5-a0be-eda53f9198cc"
  },
  {
   "cell_type": "markdown",
   "metadata": {},
   "source": [
    "<br>  \n",
    "<br>"
   ],
   "id": "312a9b32-e1e2-4b83-8d86-7ac2f30e266e"
  },
  {
   "cell_type": "code",
   "execution_count": null,
   "metadata": {},
   "outputs": [],
   "source": [
    "# section break"
   ],
   "id": "d4f0b628-c89f-4db6-85e1-f70ce2f4f923"
  },
  {
   "cell_type": "markdown",
   "metadata": {},
   "source": [
    "### <a name=\"19q9b\">Question 9b</a>\n",
    "\n",
    "------------------------------------------------------------------------\n",
    "\n",
    "Interpret the practical meaning of the confidence interval in \\[Question\n",
    "9a\\] in this context.\n",
    "\n",
    "#### <a name=\"19sol9b\">Solution to Question 9b</a>\n",
    "\n",
    "------------------------------------------------------------------------\n",
    "\n",
    "<br>  \n",
    "<br> <br>"
   ],
   "id": "1573bc2b-2255-450c-b651-8bcfac06daad"
  },
  {
   "cell_type": "code",
   "execution_count": null,
   "metadata": {},
   "outputs": [],
   "source": [
    "# section break"
   ],
   "id": "f0c1f4b1-3e84-4e2c-8b26-12e610ce54c8"
  },
  {
   "cell_type": "markdown",
   "metadata": {},
   "source": [
    "### <a name=\"19q9c\">Question 9c</a>\n",
    "\n",
    "------------------------------------------------------------------------\n",
    "\n",
    "Use the R code cell below to construct a 99% confidence interval for\n",
    "mean weight of all female Komodo dragons using the sample weights in\n",
    "`dragon.wt`.\n",
    "\n",
    "#### <a name=\"19sol9c\">Solution to Question 9c</a>\n",
    "\n",
    "------------------------------------------------------------------------"
   ],
   "id": "e37c6532-bb2e-4525-87e2-e948b235c7eb"
  },
  {
   "cell_type": "code",
   "execution_count": null,
   "metadata": {},
   "outputs": [],
   "source": [
    "# construct a 99% confidence interval"
   ],
   "id": "b22836e9-1b9a-43e8-b30b-58125435d7f3"
  },
  {
   "cell_type": "markdown",
   "metadata": {},
   "source": [
    "<br>  \n",
    "<br>"
   ],
   "id": "ad3d0c52-a5f8-4977-b950-971dc7c9153a"
  },
  {
   "cell_type": "code",
   "execution_count": null,
   "metadata": {},
   "outputs": [],
   "source": [
    "# section break"
   ],
   "id": "51189574-4a5e-428a-bf6b-fa6eb5af69a9"
  },
  {
   "cell_type": "markdown",
   "metadata": {},
   "source": [
    "## <a name=\"19methods\">Different Methods for $T$ Confidence Intervals</a>\n",
    "\n",
    "------------------------------------------------------------------------\n",
    "\n",
    "-   Use the formula\n",
    "    $\\displaystyle \\overline{X} - {\\color{dodgerblue}{t_{\\alpha/2}}} \\cdot \\frac{{\\color{tomato}{s}}}{\\sqrt{n}} < \\mu < \\overline{X} + {\\color{dodgerblue}{t_{\\alpha/2}}} \\cdot \\frac{{\\color{tomato}{s}}}{\\sqrt{n}}$.\n",
    "\n",
    "    -   Use the `qt()` function in R to find the value of\n",
    "        $t_{\\alpha/2}$, or\n",
    "    -   Use a [$t$-distribution\n",
    "        table](https://www.sjsu.edu/faculty/gerstman/StatPrimer/t-table.pdf)\n",
    "        to estimate values for $t_{\\alpha/2}$.\n",
    "\n",
    "-   Use the R function `t.test(x, conf.level)$conf.int`.\n",
    "\n",
    "    -   `x` is the vector of sample data.\n",
    "    -   Set the confidence level with the `conf.level` option.\n",
    "    -   Open the help manual with `?t.test` for further information."
   ],
   "id": "fc7ebfc1-d815-449a-bbc1-4b4120800b01"
  },
  {
   "cell_type": "code",
   "execution_count": null,
   "metadata": {},
   "outputs": [],
   "source": [
    "# section break"
   ],
   "id": "3194c762-eadb-4945-92f2-eccabd0a7c34"
  },
  {
   "cell_type": "markdown",
   "metadata": {},
   "source": [
    "## <a name=\"19q10\">Question 10</a>\n",
    "\n",
    "------------------------------------------------------------------------\n",
    "\n",
    "Using the Komodo dragon sample data in `dragon.wt` and the `t.test()`\n",
    "function, find a 95% confidence interval. Compare the results with the\n",
    "95% confidence interval from \\[Question 9a\\].\n",
    "\n",
    "### <a name=\"19sol10\">Solution to Question 10</a>\n",
    "\n",
    "------------------------------------------------------------------------"
   ],
   "id": "53cfa1cc-e23b-414d-9188-70203731554d"
  },
  {
   "cell_type": "code",
   "execution_count": null,
   "metadata": {},
   "outputs": [],
   "source": [
    "#t.test(??, conf.level = ??)$conf.int"
   ],
   "id": "f99279a6-4b61-4249-8673-7afb51d1b972"
  },
  {
   "cell_type": "code",
   "execution_count": null,
   "metadata": {},
   "outputs": [],
   "source": [
    "# section break"
   ],
   "id": "9918ea17-0fd0-4c15-b001-725023299ebe"
  },
  {
   "cell_type": "markdown",
   "metadata": {},
   "source": [
    "# <a name=\"19diff-means\">Confidence Interval for a Difference in Two Means</a>\n",
    "\n",
    "------------------------------------------------------------------------"
   ],
   "id": "7c21c2c2-d9a1-4f22-82b8-a5d0709ea851"
  },
  {
   "cell_type": "code",
   "execution_count": null,
   "metadata": {},
   "outputs": [],
   "source": [
    "# section break"
   ],
   "id": "e671488d-a6ad-4ecd-8c43-89d0cfd043c0"
  },
  {
   "cell_type": "markdown",
   "metadata": {},
   "source": [
    "## <a name=\"19q11\">Question 11</a>\n",
    "\n",
    "------------------------------------------------------------------------\n",
    "\n",
    "Let $X$ and $Y$ be independent random variables with\n",
    "$X \\sim N(\\mu_1, \\sigma_1)$ and $Y \\sim N(\\mu_2, \\sigma_2)$. Using\n",
    "[properties of expected value](19-Parametric-CI-Means.qmd#sec-prop-exp)\n",
    "and [variance](19-Parametric-CI-Means.qmd#sec-prop-var), show for sample\n",
    "sizes $n_1$ and $n_2$, respectively, that\n",
    "\n",
    "$$E(\\overline{X}-\\overline{Y}) = \\mu_1-\\mu_2 \\qquad \\mbox{and} \\qquad \\mbox{Var}(\\overline{X}-\\overline{Y}) = \\frac{\\sigma_1^2}{n_1} +  \\frac{\\sigma_2^2}{n_2}.$$\n",
    "\n",
    "### <a name=\"19sol11\">Solution to Question 11</a>\n",
    "\n",
    "------------------------------------------------------------------------\n",
    "\n",
    "<br>  \n",
    "<br>  \n",
    "<br>"
   ],
   "id": "04386ead-c1ff-4aaa-9a79-7f847e51497f"
  },
  {
   "cell_type": "code",
   "execution_count": null,
   "metadata": {},
   "outputs": [],
   "source": [
    "# section break"
   ],
   "id": "ab54a112-356b-4fce-ae23-dd28e58a1656"
  },
  {
   "cell_type": "markdown",
   "metadata": {},
   "source": [
    "## <a name=\"19ci-diff\">Confidence Intervals for a Difference in Means</a>\n",
    "\n",
    "------------------------------------------------------------------------\n",
    "\n",
    "Let $X_1, X_2, \\ldots , X_{n_1}$ be independent and identically\n",
    "distributed (i.i.d.) random variables picked from\n",
    "$X \\sim N(\\mu_1, \\sigma_1^2)$ and let $Y_1, Y_2, \\ldots , Y_{n_2}$ be\n",
    "i.i.d. random variables picked from $Y \\sim N(\\mu_2, \\sigma_1^2)$. An\n",
    "approximate confidence interval for the difference in means\n",
    "$\\mu_1 - \\mu_2$ is given by:\n",
    "\n",
    "$${\\large \\boxed{ {\\color{mediumseagreen}{(\\overline{X} - \\overline{Y})}} -  {\\color{tomato}{t_{\\alpha/2}}} \\cdot  {\\color{dodgerblue}{\\sqrt{\\frac{s_1^2}{n_1} +  \\frac{s_2^2}{n_2}}}} < \\mu_1 - \\mu_2 < {\\color{mediumseagreen}{(\\overline{X} - \\overline{Y})}} +  {\\color{tomato}{t_{\\alpha/2}}} \\cdot  {\\color{dodgerblue}{\\sqrt{\\frac{s_1^2}{n_1} +  \\frac{s_2^2}{n_2}}}}}}. $$\n",
    "\n",
    "-   <span style=\"color:mediumseagreen\">Use $\\bar{x} - \\bar{y}$ as the\n",
    "    point estimate for $\\mu_1 - \\mu_2$.</span>\n",
    "-   <span style=\"color:dodgerblue\">Approximate the standard error using\n",
    "    $s_1$ and $s_2$ in place of unknown standard deviations $\\sigma_1$\n",
    "    and $\\sigma_2$.</span>\n",
    "-   <span style=\"color:tomato\">The area under the $t$-distribution with\n",
    "    $df$ degrees of freedom between $\\pm t_{\\alpha/2}$ is equal to the\n",
    "    confidence level.</span>\n",
    "    -   Informally, we can use the smaller of $n_1-1$ and $n_2-1$ as the\n",
    "        degrees of freedom. {#sec-informal}\n",
    "    -   Many R functions use the more accurate *Welch’s approximation*\n",
    "        for the degrees of freedom,\n",
    "\n",
    "    $$ df = \\dfrac{\\left( \\dfrac{s_1^2}{n_1}+ \\dfrac{s_2^2}{n_2} \\right)^2}{ \\dfrac{(s_1^2/n_1)^2}{n_1-1} + \\dfrac{(s_2^2/n_2)^2}{n_2-1}}.$$\n",
    "    -   We do not need to memorize Welch’s approximation since\n",
    "        `t.test()` uses this method."
   ],
   "id": "8bbbbf0d-373f-4f16-aa98-e3205379ca7d"
  },
  {
   "cell_type": "code",
   "execution_count": null,
   "metadata": {},
   "outputs": [],
   "source": [
    "# section break"
   ],
   "id": "b79f61f7-9ae2-4602-827d-fe5fd71c4918"
  },
  {
   "cell_type": "markdown",
   "metadata": {},
   "source": [
    "# <a name=\"19strong\">Which Month Has the Strongest Storms?</a>\n",
    "\n",
    "------------------------------------------------------------------------\n",
    "\n",
    "In our analysis of [North Atlantic storm wind speeds](#sec-storms), we\n",
    "used data stored in the `storms` data frame in the `dplyr` package. In\n",
    "our initial analysis, we assumed the data in `storms` represented the\n",
    "population, and we did not have access to the population data in\n",
    "`storms`. **The data in `storms` is actually a sample** of 19066 storm\n",
    "observations taken for North Atlantic storms that are measured every six\n",
    "hours during the lifetime of the storm. The population of interest is\n",
    "all storms that occur at all times in the North Atlantic.\n",
    "\n",
    "-   Consider data in `storms` as a random sample of 19066 observations\n",
    "    picked from the population.\n",
    "-   We have access to the sample `storms` that we will use estimate\n",
    "    parameters for the population.\n",
    "-   Below, we load `dplyr` and generate side-by-side box plots of the\n",
    "    distribution of wind speeds in the `storms` sample by month."
   ],
   "id": "1da42c15-828c-49a7-9689-ce80f33b61ce"
  },
  {
   "cell_type": "code",
   "execution_count": null,
   "metadata": {},
   "outputs": [],
   "source": [
    "library(dplyr)\n",
    "storms$month <- factor(storms$month)  # convert month to categorical factor\n",
    "boxplot(wind ~ month, \n",
    "        data = storms,\n",
    "        main = \"Distribution of Wind Speeds by Month\",\n",
    "        xlab = \"Month\",\n",
    "        ylab = \"Wind speed (in knots)\")"
   ],
   "id": "abf730f5-30a8-4169-a6d6-70cbf58075d1"
  },
  {
   "cell_type": "code",
   "execution_count": null,
   "metadata": {},
   "outputs": [],
   "source": [
    "# section break"
   ],
   "id": "8fdf7788-0314-4ef0-8977-b2fb7a773b83"
  },
  {
   "cell_type": "markdown",
   "metadata": {},
   "source": [
    "## <a name=\"19q12\">Question 12</a>\n",
    "\n",
    "------------------------------------------------------------------------\n",
    "\n",
    "Based on the plots in the figure above, in which month do you suspect\n",
    "storms have the greatest wind speed? Explain how you determined your\n",
    "answer.\n",
    "\n",
    "### <a name=\"19so12l\">Solution to Question 12</a>\n",
    "\n",
    "------------------------------------------------------------------------\n",
    "\n",
    "<br>  \n",
    "<br>  \n",
    "<br>"
   ],
   "id": "ba580403-2d42-4f24-a29c-fb0a677eb444"
  },
  {
   "cell_type": "code",
   "execution_count": null,
   "metadata": {},
   "outputs": [],
   "source": [
    "# section break"
   ],
   "id": "a18c0225-869f-45e0-9d6e-78eec854202e"
  },
  {
   "cell_type": "markdown",
   "metadata": {},
   "source": [
    "## <a name=\"19refine\">Refining Our Question</a>\n",
    "\n",
    "------------------------------------------------------------------------\n",
    "\n",
    "There are different statistics for assessing “greatest wind speed”. From\n",
    "the box plots, we have a good visual comparison of medians. With storms,\n",
    "outliers are typically the most important observations we do want to\n",
    "emphasize in our analysis. Thus, we use the *mean* as our measurement of\n",
    "center instead of a median or trimmed mean.\n",
    "\n",
    "Side-by-side box plots give a nice graphical summary of the distribution\n",
    "of winds speeds by month. As we might suspect, from this first plot we\n",
    "rule out some months from this analysis. Some months appear to have very\n",
    "similar distributions upon inspection of box plots. We dig a little into\n",
    "the sample data to determine which months have the greatest sample mean\n",
    "wind speeds.\n",
    "\n",
    "-   We use the `tapply()` function below to calculate and compare sample\n",
    "    mean wind speeds by month.\n",
    "-   Here is a [nice introduction](https://www.statology.org/tapply-r/)\n",
    "    to the `tapply()` function."
   ],
   "id": "33a5b0e5-a9ee-402a-a235-00cc221082b3"
  },
  {
   "cell_type": "code",
   "execution_count": null,
   "metadata": {},
   "outputs": [],
   "source": [
    "tapply(storms$wind, storms$month, mean)"
   ],
   "id": "dd578fae-6d83-4014-a2e7-b348489cd5b4"
  },
  {
   "cell_type": "markdown",
   "metadata": {},
   "source": [
    "Notice September (9) and October (10) are the two months with the\n",
    "highest mean wind speeds of $54.56$ knots and $51.58$ knots,\n",
    "respectively. The two means are close, and we only have a subset of\n",
    "population data. Is the observed difference in sample means greater than\n",
    "the margin of error we can expect due to the uncertainty of sampling? We\n",
    "can use a confidence interval to answer this question!\n",
    "\n",
    "> <span style=\"color:dodgerblue\">Give a 95% confidence interval to\n",
    "> estimate the difference in the mean wind speed of storms in September\n",
    "> compared to October?</span>"
   ],
   "id": "3f048c43-685e-4259-8c7b-f42006a40a8d"
  },
  {
   "cell_type": "code",
   "execution_count": null,
   "metadata": {},
   "outputs": [],
   "source": [
    "# section break"
   ],
   "id": "0a63dd32-6bbc-4613-a240-acc485297a6a"
  },
  {
   "cell_type": "markdown",
   "metadata": {},
   "source": [
    "## <a name=\"19subset\">Subsetting into Two Independent Samples</a>\n",
    "\n",
    "------------------------------------------------------------------------\n",
    "\n",
    "Run the code cell below to create two vectors, `sep.wind` and\n",
    "`oct.wind`, containing separate samples of wind speeds for North\n",
    "Atlantic storms in September and October, respectively. Both `sep.wind`\n",
    "and `oct.wind` are data frames with just one variable, `wind`."
   ],
   "id": "639ecb11-23a5-443a-9c58-a4b316342f24"
  },
  {
   "cell_type": "code",
   "execution_count": null,
   "metadata": {},
   "outputs": [],
   "source": [
    "# create a vector of sep wind\n",
    "sep.wind <- subset(storms, \n",
    "              month == \"9\", \n",
    "              select = wind)\n",
    "\n",
    "# create a vector of oct wind\n",
    "oct.wind <- subset(storms, \n",
    "              month == \"10\", \n",
    "              select = wind)"
   ],
   "id": "44fb528c-a02b-451d-aad3-aebf22c91f28"
  },
  {
   "cell_type": "code",
   "execution_count": null,
   "metadata": {},
   "outputs": [],
   "source": [
    "# section break"
   ],
   "id": "d90572b5-0dc0-4687-906a-51e963045715"
  },
  {
   "cell_type": "markdown",
   "metadata": {},
   "source": [
    "## <a name=\"19q13\">Question 13</a>\n",
    "\n",
    "------------------------------------------------------------------------\n",
    "\n",
    "Answer the questions below to construct a 95% confidence interval for\n",
    "the difference in mean wind speeds of North Atlantic storms in September\n",
    "compared to October."
   ],
   "id": "d4139b1f-c39e-4f2b-a3ee-a34b064db4b3"
  },
  {
   "cell_type": "code",
   "execution_count": null,
   "metadata": {},
   "outputs": [],
   "source": [
    "# section break"
   ],
   "id": "ce7d3a6b-8b73-408f-bfab-7eb67a58c899"
  },
  {
   "cell_type": "markdown",
   "metadata": {},
   "source": [
    "### <a name=\"19q13a\">Question 13a</a>\n",
    "\n",
    "------------------------------------------------------------------------\n",
    "\n",
    "Calculate $n_s$ and $n_o$, the number of observations in September and\n",
    "October samples, respectively. Store the results in `n.s` and `n.o`.\n",
    "\n",
    "#### <a name=\"19sol13a\">Solution to Question 13a</a>\n",
    "\n",
    "------------------------------------------------------------------------"
   ],
   "id": "2b0d3109-fa5c-4fd7-bcf7-66a09811b5e6"
  },
  {
   "cell_type": "code",
   "execution_count": null,
   "metadata": {},
   "outputs": [],
   "source": [
    "# calculate n_s\n",
    "#n.s <- ??\n",
    "# calculate n_o\n",
    "#n.o <- ??\n",
    "\n",
    "# print to screen\n",
    "#n.s\n",
    "#n.o"
   ],
   "id": "6bfa9053-344f-4f73-9b91-93764937c9ee"
  },
  {
   "cell_type": "markdown",
   "metadata": {},
   "source": [
    "<br>  \n",
    "<br>"
   ],
   "id": "99384471-5eb8-4ce7-a114-dfd68de1a622"
  },
  {
   "cell_type": "code",
   "execution_count": null,
   "metadata": {},
   "outputs": [],
   "source": [
    "# section break"
   ],
   "id": "20c60810-dd09-4260-9b21-da828cc2d65f"
  },
  {
   "cell_type": "markdown",
   "metadata": {},
   "source": [
    "### <a name=\"19q13b\">Question 13b</a>\n",
    "\n",
    "------------------------------------------------------------------------\n",
    "\n",
    "Using the sample data in `sep.wind` and `oct.wind`, give a point\n",
    "estimate for the difference in population means, $\\mu_s - \\mu_o$. Store\n",
    "the result to `point.est`\n",
    "\n",
    "#### <a name=\"19sol13b\">Solution to Question 13b</a>\n",
    "\n",
    "------------------------------------------------------------------------"
   ],
   "id": "299b7a6e-dec1-46f9-bdfb-5a9aff7b6bdc"
  },
  {
   "cell_type": "code",
   "execution_count": null,
   "metadata": {},
   "outputs": [],
   "source": [
    "# calculate point estimate\n",
    "#point.est <- ??\n",
    "#point.est  # print to screen"
   ],
   "id": "177f4d4d-7b86-4e73-a593-c62eb060ad5d"
  },
  {
   "cell_type": "markdown",
   "metadata": {},
   "source": [
    "<br>  \n",
    "<br>"
   ],
   "id": "de785809-4f8c-45a6-87f3-bba146cefc4a"
  },
  {
   "cell_type": "code",
   "execution_count": null,
   "metadata": {},
   "outputs": [],
   "source": [
    "# section break"
   ],
   "id": "87ce0819-a8cb-45fd-b0f2-e08841de97be"
  },
  {
   "cell_type": "markdown",
   "metadata": {},
   "source": [
    "### <a name=\"19q13c\">Question 13c</a>\n",
    "\n",
    "------------------------------------------------------------------------\n",
    "\n",
    "Using a $t$-distribution, calculate the margin of error of a 95%\n",
    "confidence interval for the difference in means.\n",
    "\n",
    "Use the `sd()` function to calculate each sample standard deviation. Use\n",
    "the `qt()` function to identify $t_{\\alpha/2}$ using the [informal\n",
    "count](#sec-informal) for the degrees of freedom.\n",
    "\n",
    "#### <a name=\"19sol13c\">Solution to Question 13c</a>\n",
    "\n",
    "------------------------------------------------------------------------"
   ],
   "id": "93248963-ca89-4a8e-bb47-e8ac3b455923"
  },
  {
   "cell_type": "code",
   "execution_count": null,
   "metadata": {},
   "outputs": [],
   "source": [
    "# use code cell to construct a 95% confidence interval"
   ],
   "id": "e4004f10-ed8a-4a4b-a1e3-4e27f05f1b0d"
  },
  {
   "cell_type": "markdown",
   "metadata": {},
   "source": [
    "<br>\n",
    "\n",
    "**Based on the output above, a 95% confidence interval is from ?? to\n",
    "??**.\n",
    "\n",
    "<br>  \n",
    "<br>"
   ],
   "id": "463c7768-7820-4816-990a-2afb8c896182"
  },
  {
   "cell_type": "code",
   "execution_count": null,
   "metadata": {},
   "outputs": [],
   "source": [
    "# section break"
   ],
   "id": "9e9923c3-b9ff-40a5-9141-68c0249b04f4"
  },
  {
   "cell_type": "markdown",
   "metadata": {},
   "source": [
    "### <a name=\"19q13d\">Question 13d</a>\n",
    "\n",
    "------------------------------------------------------------------------\n",
    "\n",
    "Interpret the meaning of your interval in \\[Question 13c\\]. In\n",
    "particular, can we conclude that wind speeds are on average greater in\n",
    "one month or the other?\n",
    "\n",
    "#### <a name=\"19sol13d\">Solution to Question 13d</a>\n",
    "\n",
    "------------------------------------------------------------------------\n",
    "\n",
    "<br>  \n",
    "<br> <br>"
   ],
   "id": "6be6fd37-d25e-4ba3-8d29-4f8064de5fe8"
  },
  {
   "cell_type": "code",
   "execution_count": null,
   "metadata": {},
   "outputs": [],
   "source": [
    "# section break"
   ],
   "id": "fb91d4c6-a7b6-4396-8364-1691b9b408d6"
  },
  {
   "cell_type": "markdown",
   "metadata": {},
   "source": [
    "# <a name=\"19ttest\">Using `t.test()` for a Difference in Means</a>\n",
    "\n",
    "------------------------------------------------------------------------\n",
    "\n",
    "The `t.test()` function in R can used to construct a confidence interval\n",
    "for a difference in means from two independent populations using a\n",
    "$t$-distribution with Welch’s approximation for the degree’s for\n",
    "freedom. Let `x` and `y` denote vectors containing data from each of the\n",
    "two independent samples.\n",
    "\n",
    "-   The command `t.test(x, y, conf.level = 0.95)$conf.int` will give a\n",
    "    95% confidence level for the difference in means using Welch’s\n",
    "    approximation."
   ],
   "id": "55ef97fb-cad9-4ddb-b55d-b946898394ac"
  },
  {
   "cell_type": "code",
   "execution_count": null,
   "metadata": {},
   "outputs": [],
   "source": [
    "# section break"
   ],
   "id": "063818de-53c7-4604-a4f0-2ab2c38d1906"
  },
  {
   "cell_type": "markdown",
   "metadata": {},
   "source": [
    "## <a name=\"19q14\">Question 14</a>\n",
    "\n",
    "------------------------------------------------------------------------\n",
    "\n",
    "Use the `t.test()` function with the samples `sep.wind` and `oct.wind`\n",
    "to construct a 95% confidence interval for the difference in mean wind\n",
    "speeds of North Atlantic storms in September compared to October. How\n",
    "does your answer compare to your confidence interval in \\[Question\n",
    "13c\\]? If the two answers are different, which confidence interval do\n",
    "you believe is more accurate?\n",
    "\n",
    "### <a name=\"19sol14\">Solution to Question 14</a>\n",
    "\n",
    "------------------------------------------------------------------------\n",
    "\n",
    "Complete the command below and then compare result to answer in\n",
    "\\[Question 13c\\]."
   ],
   "id": "6f8ef144-a090-4092-bccb-23ab64a14485"
  },
  {
   "cell_type": "code",
   "execution_count": null,
   "metadata": {},
   "outputs": [],
   "source": [
    "#t.test(??, ??, conf.level = ??)$conf.int"
   ],
   "id": "0af9823c-80d9-4bea-be09-507b97ad6543"
  },
  {
   "cell_type": "markdown",
   "metadata": {},
   "source": [
    "<br>  \n",
    "<br>"
   ],
   "id": "2323d86c-3905-4c9d-90fa-78178d41c7a4"
  },
  {
   "cell_type": "code",
   "execution_count": null,
   "metadata": {},
   "outputs": [],
   "source": [
    "# section break"
   ],
   "id": "4a0e4398-0930-4ed6-9225-930026578696"
  },
  {
   "cell_type": "markdown",
   "metadata": {},
   "source": [
    "## <a name=\"19subset-ttest\">Subsetting with `t.test`</a>\n",
    "\n",
    "------------------------------------------------------------------------\n",
    "\n",
    "Frequently, we would like to compare the distributions of a quantitative\n",
    "variable, denoted `quant`, for two different groups based on a\n",
    "categorical variable in the data set, denoted `categorical`. If our\n",
    "sample data is stored in a data frame called `data.name` with this\n",
    "structure, we can use `t.test()` without having to first split the\n",
    "sample into independent samples according to category group. `t.test()`\n",
    "can subset the data into independent samples for us and construct a\n",
    "confidence interval for the difference in two means. Using the\n",
    "`t.test()` function\n",
    "\n",
    "<center>\n",
    "`t.test(quant ~ categorical, data = data.name, conf.level = 0.95)$conf.int`\n",
    "</center>\n",
    "\n",
    "<br> will give a 95% confidence level for the difference in means of a\n",
    "specified quantitative variable between the two different groups of the\n",
    "categorical variable."
   ],
   "id": "856fcd32-b4f9-4be0-a501-6b6d2dbd7c8f"
  },
  {
   "cell_type": "code",
   "execution_count": null,
   "metadata": {},
   "outputs": [],
   "source": [
    "# section break"
   ],
   "id": "ea9e008b-88c5-4406-bc96-eb3139f8ee15"
  },
  {
   "cell_type": "markdown",
   "metadata": {},
   "source": [
    "## <a name=\"19q15\">Question 15</a>\n",
    "\n",
    "------------------------------------------------------------------------\n",
    "\n",
    "The code cell below subsets the sample data for all months in `storms`\n",
    "to a new data frame named `pooled` that:\n",
    "\n",
    "-   Includes only storm observations from September or July.\n",
    "-   Selects only two variables, `wind` and `month`, to keep from\n",
    "    `storms`.\n",
    "-   The first six rows of the data frame `pooled` are printed to the\n",
    "    screen with `head(pooled)`.\n",
    "-   Run the code cell below and inspect the first six rows of `pooled`."
   ],
   "id": "5d08943b-f75d-4077-bcf8-3c31085c0170"
  },
  {
   "cell_type": "code",
   "execution_count": null,
   "metadata": {},
   "outputs": [],
   "source": [
    "pooled <- subset(storms,\n",
    "               month == \"9\" | month == \"10\",   # month is 9 OR month is 10\n",
    "               select = c(wind, month))  # select wind and month variables\n",
    "\n",
    "head(pooled)  # print first 6 rows of pooled to screen"
   ],
   "id": "e9a87d55-b031-4dc2-ac90-52018c1bbe3c"
  },
  {
   "cell_type": "markdown",
   "metadata": {},
   "source": [
    "Use the `t.test()` function with single pooled sample `pooled` to\n",
    "construct a 95% confidence interval for the difference in mean wind\n",
    "speeds of North Atlantic storms in September compared to October. How\n",
    "does your answer compare to your confidence intervals in \\[Question\n",
    "13c\\] and \\[Question 14\\]? If the two answers are different, which\n",
    "confidence interval do you believe is more accurate?\n",
    "\n",
    "### <a name=\"19sol15\">Solution to Question 15</a>\n",
    "\n",
    "------------------------------------------------------------------------\n",
    "\n",
    "Complete the command below and then compare the result to your answers\n",
    "in \\[Question 13c\\] and \\[Question 14\\]."
   ],
   "id": "72cbc7d3-a09a-4014-95e5-f103fc53979d"
  },
  {
   "cell_type": "code",
   "execution_count": null,
   "metadata": {},
   "outputs": [],
   "source": [
    "#t.test(?? ~ ??, data = ??, conf.level = ??)$conf.int"
   ],
   "id": "cdd33062-5b44-4670-97ff-8b5ac7fa7067"
  },
  {
   "cell_type": "code",
   "execution_count": null,
   "metadata": {},
   "outputs": [],
   "source": [
    "# section break"
   ],
   "id": "99fc1ea6-7240-4145-9e5c-b7e88e779989"
  },
  {
   "cell_type": "markdown",
   "metadata": {},
   "source": [
    "## <a name=\"19caution-ttest\">Caution Using `t.test()` for a Difference in Two Means</a>\n",
    "\n",
    "------------------------------------------------------------------------\n",
    "\n",
    "The variable `month` in the original sample `storms` has observations\n",
    "from **10 different months**. If you try running the command\n",
    "`t.test(wind ~ month, data = storms, conf.level = 0.95)$conf.int` you\n",
    "will receive an error since the categorical variable `month` has more\n",
    "than two classes. <span style=\"color:dodgerblue\">**The categorical\n",
    "variable used to split the data must have exactly 2 different\n",
    "classes**</span>. In solving \\[Question 15\\] we avoided this error by:\n",
    "\n",
    "-   First creating the `pooled` sample that included only two months,\n",
    "    September and October.\n",
    "-   Then using `t.test()` with the `pooled` sample instead of the full\n",
    "    `storms` data set.\n",
    "\n",
    "Otherwise, we can split the original sample into two independent samples\n",
    "`x` and `y` and use the `t.test()` function as we did in \\[Question 14\\]\n",
    "with independent wind speed samples `sep.wind` and `oct.wind`."
   ],
   "id": "b8e3a746-8f07-459e-aa2e-e5e2552e662e"
  },
  {
   "cell_type": "code",
   "execution_count": null,
   "metadata": {},
   "outputs": [],
   "source": [
    "# section break"
   ],
   "id": "85a5bb0f-1e3c-4e71-a1c6-757dafbb8823"
  },
  {
   "cell_type": "markdown",
   "metadata": {},
   "source": [
    "------------------------------------------------------------------------\n",
    "\n",
    "![Creative Commons\n",
    "License](https://i.creativecommons.org/l/by-nc-sa/4.0/88x31.png) <nbsp>\n",
    "\n",
    "*Statistical Methods: Exploring the Uncertain* by [Adam\n",
    "Spiegler](https://github.com/CU-Denver-MathStats-OER/Statistical-Theory)\n",
    "is licensed under a [Creative Commons\n",
    "Attribution-NonCommercial-ShareAlike 4.0 International\n",
    "License](http://creativecommons.org/licenses/by-nc-sa/4.0/)."
   ],
   "id": "13ba231f-5f9b-47cd-bc96-9d2a06cde007"
  }
 ],
 "nbformat": 4,
 "nbformat_minor": 5,
 "metadata": {
  "kernelspec": {
   "name": "ir",
   "display_name": "R",
   "language": "R"
  }
 }
}
