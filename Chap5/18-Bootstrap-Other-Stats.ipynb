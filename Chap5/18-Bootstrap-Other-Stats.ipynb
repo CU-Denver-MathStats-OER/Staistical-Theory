{
 "cells": [
  {
   "cell_type": "markdown",
   "metadata": {},
   "source": [
    "[![Open In\n",
    "Colab](https://colab.research.google.com/assets/colab-badge.svg)](https://githubtocolab.com/CU-Denver-MathStats-OER/Statistical-Theory/blob/main/Chap5/18-Bootstrap-Other-Stats.ipynb)\n",
    "<nbsp>\n",
    "\n",
    "<figure>\n",
    "<img\n",
    "src=\"https://upload.wikimedia.org/wikipedia/commons/5/50/18fig-match.png\"\n",
    "style=\"width:30.0%\" data-fig-align=\"left\"\n",
    "data-fig-alt=\"Pointing Spider-Man Meme\"\n",
    "alt=\"Credit: Openclipart, CC0, via Wikimedia Commons\" />\n",
    "<figcaption aria-hidden=\"true\">Credit: Openclipart, CC0, via <a\n",
    "href=\"https://commons.wikimedia.org/wiki/File:18fig-match.png\">Wikimedia\n",
    "Commons</a></figcaption>\n",
    "</figure>\n",
    "\n",
    "In this section, we will continue exploring bootstrap distributions.\n",
    "Thus far, we have analyzed statistical questions where bootstrapping\n",
    "different statistics has been constructive, such as a [single sample\n",
    "mean](16-Bootstrap-Dist.qmd#sec-jawboot) and a [sample\n",
    "proportion](17-Bootstrap-Confidence-Int.qmd#sec-bootprop). In many\n",
    "situations, we wish to investigate the possible association between two\n",
    "or more variables. In these cases, comparing two or more sample\n",
    "statistics is more useful than a single mean or a single proportion.\n",
    "\n",
    "For example, we investigated whether there is an association between the\n",
    "[smoking during pregnancy and birth weight of the\n",
    "baby](17-Bootstrap-Confidence-Int.qmd#sec-smoking).\n",
    "\n",
    "-   A sample of $n=189$ new born babies are selected.\n",
    "-   The smoking status of the pregnant parent and the birth weight (in\n",
    "    grams) are recorded.\n",
    "    -   Out of the sample $n_{\\rm{no}} = 115$ non-smokers, the average\n",
    "        birth weight is $\\bar{x}_{\\rm{no}} = 3055.7$ grams.\n",
    "    -   Out of the sample $n_{s} = 74$ non-smokers, the average birth\n",
    "        weight is $\\bar{x}_{s} = 2771.9$ grams.\n",
    "-   Is the observed difference in sample means significant?\n",
    "\n",
    "We used a bootstrap distribution on a [difference of two independent\n",
    "sample means](17-Bootstrap-Confidence-Int.qmd#sec-bootdiffmean) to\n",
    "construct a bootstrap confidence interval to estimate the difference in\n",
    "mean birth weights to help determine whether a difference of $0$ is\n",
    "plausible or not."
   ],
   "id": "cd5fc13f-75db-4b49-9fc5-12019ee2ce08"
  },
  {
   "cell_type": "code",
   "execution_count": null,
   "metadata": {},
   "outputs": [],
   "source": [
    "# adding break"
   ],
   "id": "093beabd-3e05-4d0e-900a-d0e647155ce3"
  },
  {
   "cell_type": "markdown",
   "metadata": {},
   "source": [
    "## <a name=\"18q1\">Question 1</a>\n",
    "\n",
    "------------------------------------------------------------------------\n",
    "\n",
    "The data used in the smoking and birth weight analysis is from an\n",
    "observational study. We determined the observed [difference in sample\n",
    "means is significant](17-Bootstrap-Confidence-Int.qmd#sec-interpret),\n",
    "and thus concluded smoking during pregnancy is likely associated with\n",
    "lower baby birth weights. However, with observational studies we should\n",
    "be mindful of confounding variables. Based on our analysis we can\n",
    "conclude smoking is associated with a change in birth weight, but not\n",
    "whether the smoking itself is the cause of the change in birth weight.\n",
    "What are some possible [confounding\n",
    "variables](01-Intro-to-Inference.qmd#sec-confounding)?\n",
    "\n",
    "### <a name=\"18sol1\">Solution to Question 1</a>\n",
    "\n",
    "------------------------------------------------------------------------\n",
    "\n",
    "<br>  \n",
    "<br>  \n",
    "<br>"
   ],
   "id": "73d10ea4-3175-44b9-877d-123d40725229"
  },
  {
   "cell_type": "code",
   "execution_count": null,
   "metadata": {},
   "outputs": [],
   "source": [
    "# adding break"
   ],
   "id": "48497c97-1c45-439e-a280-842df76e9459"
  },
  {
   "cell_type": "markdown",
   "metadata": {},
   "source": [
    "## <a name=\"18rce\">Designing a Randomized Controlled Experiment</a>\n",
    "\n",
    "------------------------------------------------------------------------\n",
    "\n",
    "In order to see whether smoking during pregnancy causes lower birth\n",
    "weights, we could try to design a randomized controlled experiment.\n",
    "Designing such an experiment that is humane in this context might not be\n",
    "possible. For example, here is an example of a highly unethical\n",
    "experiment we would not implement in practice:\n",
    "\n",
    "-   Collect volunteers early in their pregnancy who agree to the\n",
    "    conditions of the experiment.\n",
    "-   Randomly assign each pregnant person to a smoking or non-smoking\n",
    "    group.\n",
    "    -   Each person in the smoking group is required to smoke 1 pack of\n",
    "        cigarettes per day.\n",
    "    -   Each person in the non-smoking group is forbidden from smoking\n",
    "        any tobacco during pregnancy.\n",
    "-   Record the birth weight of each person’s baby.\n",
    "-   Compare mean birth weights of the two groups (smokers and\n",
    "    non-smokers).\n",
    "\n",
    "Although such an experiment does eliminate the impact of many\n",
    "confounding variables, it is not possible to conduct this experiment due\n",
    "to ethical concerns."
   ],
   "id": "0c2b114f-790e-4913-a4bc-c55e3faec915"
  },
  {
   "cell_type": "code",
   "execution_count": null,
   "metadata": {},
   "outputs": [],
   "source": [
    "# adding break"
   ],
   "id": "5f478551-ca06-43a3-b6d3-7f147d56014c"
  },
  {
   "cell_type": "markdown",
   "metadata": {},
   "source": [
    "## <a name=\"18collect-pair\">Collecting Pairs of Data</a>\n",
    "\n",
    "------------------------------------------------------------------------\n",
    "\n",
    "Let’s consider one more study that we could use to help determine\n",
    "whether smoking during pregnancy is associated with lower birth weight.\n",
    "In this study, we solicit volunteers that have already given birth to\n",
    "two babies. During one of the pregnancies, the parent smoked. During the\n",
    "other pregnancy, they did not smoke. This study is ethical and controls\n",
    "for some confounding variables though not all. Below is hypothetical\n",
    "data from such a study. A sample of $n=10$ people volunteer to share\n",
    "their data with the researchers. The data is summarized in the table\n",
    "below.\n",
    "\n",
    "|            | 1    | 2    | 3    | 4    | 5    | 6    | 7    | 8    | 9    | 10   |\n",
    "|------------|------|------|------|------|------|------|------|------|------|------|\n",
    "| No Smoking | 2750 | 2920 | 3860 | 3402 | 2282 | 3790 | 3586 | 3487 | 2920 | 2835 |\n",
    "| Smoked     | 1790 | 2381 | 3940 | 3317 | 2125 | 2665 | 3572 | 3156 | 2721 | 2225 |"
   ],
   "id": "d2faca22-86d0-4966-9b93-8c2a1a378d88"
  },
  {
   "cell_type": "code",
   "execution_count": null,
   "metadata": {},
   "outputs": [],
   "source": [
    "# adding break"
   ],
   "id": "bed577e4-3395-433d-8941-ec7f986aa208"
  },
  {
   "cell_type": "markdown",
   "metadata": {},
   "source": [
    "## <a name=\"18q2\">Question 2</a>\n",
    "\n",
    "------------------------------------------------------------------------\n",
    "\n",
    "Using the data from this study, give a possible sample statistic that\n",
    "can be used to determine if smoking is associated with lower birth\n",
    "weight?\n",
    "\n",
    "### <a name=\"18sol2\">Solution to Question 2</a>\n",
    "\n",
    "------------------------------------------------------------------------"
   ],
   "id": "3ff01fa2-c9ad-4b7d-8ace-e133cb6b8d95"
  },
  {
   "cell_type": "code",
   "execution_count": null,
   "metadata": {},
   "outputs": [],
   "source": [
    "# data from study\n",
    "no <- c(2750, 2920, 3860, 3402, 2282, \n",
    "        3790, 3586, 3487, 2920, 2835)  # non-smoking births weights\n",
    "\n",
    "smoker <- c(1790, 2381, 3940, 3317, 2125, \n",
    "            2665, 3572, 3156, 2721, 2225)  # matching smoking birth weight"
   ],
   "id": "4b5b279f-0dbe-402a-a369-746fe15d93bc"
  },
  {
   "cell_type": "markdown",
   "metadata": {},
   "source": [
    "<br>  \n",
    "<br>  \n",
    "<br>"
   ],
   "id": "5b437159-1adf-4de0-9a7c-c28b9f1b6a3e"
  },
  {
   "cell_type": "code",
   "execution_count": null,
   "metadata": {},
   "outputs": [],
   "source": [
    "# adding break"
   ],
   "id": "ad8fcf71-6ac8-4b50-a594-256e2d128236"
  },
  {
   "cell_type": "markdown",
   "metadata": {},
   "source": [
    "## <a name=\"18q3\">Question 3</a>\n",
    "\n",
    "------------------------------------------------------------------------\n",
    "\n",
    "Devise a bootstrapping method that could be used to construct a\n",
    "bootstrap distribution for the comparison statistic you identified in\n",
    "\\[Question 2\\].\n",
    "\n",
    "### <a name=\"18sol3\">Solution to Question 3</a>\n",
    "\n",
    "------------------------------------------------------------------------\n",
    "\n",
    "<br>  \n",
    "<br>  \n",
    "<br>"
   ],
   "id": "601419d3-5380-46fb-a372-8ff8a9da4ff6"
  },
  {
   "cell_type": "code",
   "execution_count": null,
   "metadata": {},
   "outputs": [],
   "source": [
    "# adding break"
   ],
   "id": "8c9157dd-590c-4a18-96c9-297c58442430"
  },
  {
   "cell_type": "markdown",
   "metadata": {},
   "source": [
    "# <a name=\"18match-design\">Matched Pairs Design</a>\n",
    "\n",
    "------------------------------------------------------------------------\n",
    "\n",
    "Let’s recap and compare data sets from two different studies\n",
    "investigating potential side-effects of smoking during pregnancy:\n",
    "\n",
    "<span style=\"color:dodgerblue\">**Study A:**</span> There is a sample of\n",
    "189 observations corresponding to 189 different pregnancies. For each\n",
    "observation, we have two values corresponding to smoking status and\n",
    "birth weight of baby. The sample is split based on whether or not the\n",
    "parent smoked during their pregnancy. For any single observation in the\n",
    "non-smoking group, there is no inherent connection to any of the\n",
    "observations in the smoking group. The non-smoker and smoker groups are\n",
    "<span style=\"color:dodgerblue\">**independent samples**</span>.\n",
    "\n",
    "<span style=\"color:dodgerblue\">**Study B:**</span> There is a sample of\n",
    "$n=10$ observations corresponding to $10$ different people who each gave\n",
    "birth to two children. During one of the pregnancies they smoked, and\n",
    "they did not smoke during the other. For each observation, we have two\n",
    "variables: birth weight of baby when they smoked and the birth weight of\n",
    "the baby during the non-smoking pregnancy. For any single observation in\n",
    "the non-smoker group of birth weights, there is exactly one observation\n",
    "(their sibling) in the smoker group of birth weights that naturally form\n",
    "a pair of observations. This is an example of a\n",
    "<span style=\"color:dodgerblue\">**matched pairs design**</span> since\n",
    "observations from each sample are matched based on a key variable (two\n",
    "babies have the same parent)."
   ],
   "id": "76efbd96-13bb-47bc-97eb-8223a08da28c"
  },
  {
   "cell_type": "code",
   "execution_count": null,
   "metadata": {},
   "outputs": [],
   "source": [
    "# adding break"
   ],
   "id": "411c251d-0963-4b17-ad5d-9e335b2c96f2"
  },
  {
   "cell_type": "markdown",
   "metadata": {},
   "source": [
    "# <a name=\"18boot-match\">Boostrapping with Matched Pairs</a>\n",
    "\n",
    "------------------------------------------------------------------------\n",
    "\n",
    "**When we bootstrap matched pairs, we do not want to randomness to\n",
    "affect the natural pairing between the two samples!** Below is an\n",
    "algorithm for bootstrapping matched pairs. In order to preserve the\n",
    "pairing of the smoking and non-smoking birth weights, we do a single\n",
    "resample from the original sample of differences as opposed to two\n",
    "resamples from two independent samples. Given a\n",
    "<span style=\"color:dodgerblue\">**matched pairs sample**</span> of size\n",
    "$n$:\n",
    "\n",
    "1.  For each pair calculate the difference.\n",
    "\n",
    "|                                              | 1                                     | 2                                     | 3                                     | 4                                    | 5                                     | 6                                      | 7                                    | 8                                     | 9                                     | 10                                    |\n",
    "|------------|------|------|------|------|------|------|------|------|------|------|\n",
    "| No Smoking                                   | 2750                                  | 2920                                  | 3860                                  | 3402                                 | 2282                                  | 3790                                   | 3586                                 | 3487                                  | 2920                                  | 2835                                  |\n",
    "| Smoked                                       | 1790                                  | 2381                                  | 3940                                  | 3317                                 | 2125                                  | 2665                                   | 3572                                 | 3156                                  | 2721                                  | 2225                                  |\n",
    "| <span style=\"color:tomato\">Difference</span> | <span style=\"color:tomato\">960</span> | <span style=\"color:tomato\">539</span> | <span style=\"color:tomato\">-80</span> | <span style=\"color:tomato\">85</span> | <span style=\"color:tomato\">157</span> | <span style=\"color:tomato\">1125</span> | <span style=\"color:tomato\">14</span> | <span style=\"color:tomato\">331</span> | <span style=\"color:tomato\">199</span> | <span style=\"color:tomato\">610</span> |\n",
    "\n",
    "1.  Consider the collection of $n$ differences as your original sample.\n",
    "\n",
    "    -   Our original sample of differences is\n",
    "        ${\\color{tomato}{\\mathbf{x} = (960, 539, -80, \\ldots , 199, 610)}}$.\n",
    "    -   We store the sample in the vector `diff` in the code cell below."
   ],
   "id": "40ead225-6d1f-4d9b-bbf5-d3ec8e9808f2"
  },
  {
   "cell_type": "code",
   "execution_count": null,
   "metadata": {},
   "outputs": [],
   "source": [
    "no <- c(2750, 2920, 3860, 3402, 2282, \n",
    "        3790, 3586, 3487, 2920, 2835)  # non-smoking birth weights\n",
    "smoker <- c(1790, 2381, 3940, 3317, 2125, \n",
    "            2665, 3572, 3156, 2721, 2225)  # matching smoking birth weight\n",
    "\n",
    "\n",
    "diff <- no - smoker  # storing the original sample of differences\n",
    "obs.mean <- mean(diff)  # observed mean difference between matched pairs\n",
    "\n",
    "# print observed mean to screen\n",
    "obs.mean"
   ],
   "id": "86fd0987-b311-4815-b702-688deb7998c9"
  },
  {
   "cell_type": "markdown",
   "metadata": {},
   "source": [
    "1.  Draw a resample of size $n$ with replacement from the sample of\n",
    "    differences."
   ],
   "id": "fb89f71b-8165-4769-a62d-60dd144b9cb8"
  },
  {
   "cell_type": "code",
   "execution_count": null,
   "metadata": {},
   "outputs": [],
   "source": [
    "resamp <- sample(diff, size = 10, replace = TRUE)\n",
    "resamp"
   ],
   "id": "6bb2a9e9-7668-4fdd-97da-27290c986732"
  },
  {
   "cell_type": "markdown",
   "metadata": {},
   "source": [
    "1.  Compute the mean of the bootstrap resample of matched pair\n",
    "    differences."
   ],
   "id": "a3bf0928-60ee-43a1-8402-52a53f1eb192"
  },
  {
   "cell_type": "code",
   "execution_count": null,
   "metadata": {},
   "outputs": [],
   "source": [
    "mean(resamp)"
   ],
   "id": "f425fdbe-b8a0-4a63-b627-0eb9b2c76bad"
  },
  {
   "cell_type": "markdown",
   "metadata": {},
   "source": [
    "1.  Repeat this many times and construct the bootstrap distribution of\n",
    "    the statistic."
   ],
   "id": "21ab383d-44fb-472d-994e-7e31ef7fec99"
  },
  {
   "cell_type": "code",
   "execution_count": null,
   "metadata": {},
   "outputs": [],
   "source": [
    "# adding break"
   ],
   "id": "f465c674-a574-4971-841a-1173e6d5bcd5"
  },
  {
   "cell_type": "markdown",
   "metadata": {},
   "source": [
    "## <a name=\"18q4\">Question 4</a>\n",
    "\n",
    "------------------------------------------------------------------------\n",
    "\n",
    "Follow the steps below to generate a bootstrap distribution for the mean\n",
    "difference between matched pairs of smoking and non-smoking birth\n",
    "weights. Then use the bootstrap distribution to obtain a 95% bootstrap\n",
    "percentile confidence interval for the mean difference between all\n",
    "matched pairs in the population."
   ],
   "id": "06e17c7d-a409-474f-a57f-2bc6825c9800"
  },
  {
   "cell_type": "code",
   "execution_count": null,
   "metadata": {},
   "outputs": [],
   "source": [
    "# adding break"
   ],
   "id": "1127f87c-99cf-4853-aa2d-b70b7d4f71fe"
  },
  {
   "cell_type": "markdown",
   "metadata": {},
   "source": [
    "### <a name=\"18q4a\">Question 4a</a>\n",
    "\n",
    "------------------------------------------------------------------------\n",
    "\n",
    "Complete the code cell below to construct a bootstrap distribution for\n",
    "the sample mean difference between matched pairs.\n",
    "\n",
    "#### <a name=\"18sol4a\">Solution to Question 4a</a>\n",
    "\n",
    "------------------------------------------------------------------------\n",
    "\n",
    "Replace the six `??` in the code cell below with appropriate code. Then\n",
    "run the completed code to generate a bootstrap distribution and mark the\n",
    "observed mean difference between matched pairs (in red) and the mean of\n",
    "the bootstrap distribution (in blue) with vertical lines."
   ],
   "id": "90ca4402-b899-491a-bb81-1a257e9bc484"
  },
  {
   "cell_type": "code",
   "execution_count": null,
   "metadata": {},
   "outputs": [],
   "source": [
    "#N <- 10^5  # Number of bootstrap samples\n",
    "#boot.matched <- numeric(N)  # create vector to store bootstrap proportions\n",
    "\n",
    "# for loop that creates bootstrap dist\n",
    "#for (i in 1:N)\n",
    "#{\n",
    "#  x <- sample(??, size = ??, replace = ??)  # pick a bootstrap resample\n",
    "#  boot.matched[i] <- ??  # compute sample mean of matched pair differences\n",
    "#}\n",
    "\n",
    "# plot bootstrap distribution\n",
    "#hist(boot.matched,  \n",
    "#     breaks=20, \n",
    "#     xlab = \"Sample Mean of Matched Pair Differenes\",\n",
    "#     main = \"Bootstrap Distribution for Matched Pairs\")\n",
    "\n",
    "# red line at the observed mean difference between matched pairs\n",
    "#abline(v = ??, col = \"firebrick2\", lwd = 2, lty = 1)\n",
    "\n",
    "# blue line at the center of bootstrap dist\n",
    "#abline(v = ??, col = \"blue\", lwd = 2, lty = 2)"
   ],
   "id": "315b7ec5-964d-47eb-aec0-706e4a5b4a2f"
  },
  {
   "cell_type": "code",
   "execution_count": null,
   "metadata": {},
   "outputs": [],
   "source": [
    "# adding break"
   ],
   "id": "504304c2-bda1-482c-b97e-b6f2b1c33869"
  },
  {
   "cell_type": "markdown",
   "metadata": {},
   "source": [
    "### <a name=\"18q4b\">Question 4b</a>\n",
    "\n",
    "------------------------------------------------------------------------\n",
    "\n",
    "Complete the code cell below to give a 95% bootstrap percentile\n",
    "confidence interval to estimate the mean difference between all matched\n",
    "pairs in the population. *Include units in your answer.*\n",
    "\n",
    "#### <a name=\"18sol4b\">Solution to Question 4b</a>\n",
    "\n",
    "------------------------------------------------------------------------\n",
    "\n",
    "**Based on the output below, a 95% bootstrap percentile confidence\n",
    "interval is from ?? to ??.**\n",
    "\n",
    "<br>  \n",
    "<br>"
   ],
   "id": "6e2a4156-5219-41d6-a01c-29a2c761bd8a"
  },
  {
   "cell_type": "code",
   "execution_count": null,
   "metadata": {},
   "outputs": [],
   "source": [
    "# find cutoffs for 95% bootstrap CI\n",
    "#lower.matched.95 <- quantile(??, probs = ??)  # find lower cutoff\n",
    "#upper.matched.95 <- quantile(??, probs = ??)  # find upper cutoff\n",
    "\n",
    "# print to screen\n",
    "#lower.matched.95\n",
    "#upper.matched.95"
   ],
   "id": "0fb6be11-5d11-46fc-bec5-54d701719747"
  },
  {
   "cell_type": "code",
   "execution_count": null,
   "metadata": {},
   "outputs": [],
   "source": [
    "# adding break"
   ],
   "id": "ec9532c3-b78e-4711-8bb4-297635ff0a70"
  },
  {
   "cell_type": "markdown",
   "metadata": {},
   "source": [
    "### <a name=\"18q4c\">Question 4c</a>\n",
    "\n",
    "------------------------------------------------------------------------\n",
    "\n",
    "Interpret the practical meaning of your interval estimate in \\[Question\n",
    "4b\\]. Do you think it is plausible to conclude smoking does have an\n",
    "effect on the weight of a newborn? Explain why or why not.\n",
    "\n",
    "#### <a name=\"18sol4c\">Solution to Question 4c</a>\n",
    "\n",
    "------------------------------------------------------------------------\n",
    "\n",
    "<br>  \n",
    "<br> <br>"
   ],
   "id": "c6e64e19-69b2-44ac-8b87-ec9943a15e44"
  },
  {
   "cell_type": "code",
   "execution_count": null,
   "metadata": {},
   "outputs": [],
   "source": [
    "# adding break"
   ],
   "id": "1e018ad1-8e03-41cf-98e5-826784d21c56"
  },
  {
   "cell_type": "markdown",
   "metadata": {},
   "source": [
    "# <a name=\"18boot-other\">Bootstrapping Other Statistics</a>\n",
    "\n",
    "------------------------------------------------------------------------\n",
    "\n",
    "When constructing sampling distributions for with means and proportions,\n",
    "in addition to bootstrapping, we also have a theoretical model available\n",
    "with the Central Limit Theorem (CLT). For example, we when working with\n",
    "golden jackal data, we constructed a [bootstrap\n",
    "distribution](16-Bootstrap-Dist.qmd#sec-jawboot) to approximate the\n",
    "sampling distribution for the sample mean mandible length. Then we\n",
    "compared the bootstrap results to those obtained using the [CLT for\n",
    "means](16-Bootstrap-Dist.qmd#jawclt). However, not all statistics have a\n",
    "Central Limit Theorem or formulas we can use to model a sampling\n",
    "distribution.\n",
    "\n",
    "-   The bootstrap procedure may be used with a wide variety of other\n",
    "    statistics, such as medians, variances, trimmed means, and ratios.\n",
    "-   **We can construct a bootstrap distribution to estimate the sampling\n",
    "    distribution for any statistic, even if there is no Central Limit\n",
    "    Theorem.**"
   ],
   "id": "e57df4c6-b548-4740-ae8a-ba1a0922483e"
  },
  {
   "cell_type": "code",
   "execution_count": null,
   "metadata": {},
   "outputs": [],
   "source": [
    "# adding break"
   ],
   "id": "8dd54187-699f-4dd0-8d24-e2853658d18e"
  },
  {
   "cell_type": "markdown",
   "metadata": {},
   "source": [
    "## <a name=\"18q5\">Question 5</a>\n",
    "\n",
    "------------------------------------------------------------------------\n",
    "\n",
    "A random sample of $n=20$ mandible jaw lengths (in mm) of golden jackals\n",
    "is stored in the vector `jaw.sample`. Run the code cell below to load\n",
    "the sample data, and then answer the questions that follow."
   ],
   "id": "9ddc2503-3ea5-4ef8-b605-e1a3db380129"
  },
  {
   "cell_type": "code",
   "execution_count": null,
   "metadata": {},
   "outputs": [],
   "source": [
    "jaw.sample <- c(120, 107, 110, 116, 114, 111, 113, 117, 114, 112,\n",
    "                110, 111, 107, 108, 110, 105, 107, 106, 111, 111)"
   ],
   "id": "c2091c85-cdd5-4ba8-901f-6007044da07b"
  },
  {
   "cell_type": "code",
   "execution_count": null,
   "metadata": {},
   "outputs": [],
   "source": [
    "# adding break"
   ],
   "id": "207b2e3c-e539-4beb-aa9a-a6f1b0c28b4a"
  },
  {
   "cell_type": "markdown",
   "metadata": {},
   "source": [
    "### <a name=\"18q5a\">Question 5a</a>\n",
    "\n",
    "------------------------------------------------------------------------\n",
    "\n",
    "Below is [code we previously used](16-Bootstrap-Dist.qmd#sec-jawboot) to\n",
    "create bootstrap distribution for the **sample mean** mandible length.\n",
    "Adjust the code to create a bootstrap distribution for the **sample\n",
    "median** mandible length. Then run the updated code cell to store the\n",
    "bootstrap medians in the vector named `boot.dist`. *No output will\n",
    "printed to the screen since the output is being stored in `boot.dist`.*\n",
    "\n",
    "#### <a name=\"18sol5a\">Solution to Question 5a</a>\n",
    "\n",
    "------------------------------------------------------------------------\n",
    "\n",
    "Adjust the code cell below to create a bootstrap distribution for the\n",
    "sample median."
   ],
   "id": "1d1e75ad-7e89-40c7-bcee-25d89dfe17cc"
  },
  {
   "cell_type": "code",
   "execution_count": null,
   "metadata": {},
   "outputs": [],
   "source": [
    "#N <- 10^5  # Number of bootstrap samples\n",
    "#boot.dist <- numeric(N)  # create vector to store bootstrap stats\n",
    "\n",
    "# for loop that creates bootstrap dist\n",
    "#for (i in 1:N)\n",
    "#{\n",
    "#  x <- sample(jaw.sample, 20, replace = TRUE)  # pick a bootstrap resample\n",
    "#  boot.dist[i] <- mean(x)  # compute mean of bootstrap resample\n",
    "#}"
   ],
   "id": "0c7dcd5d-5496-4e58-8359-07982bd545f5"
  },
  {
   "cell_type": "code",
   "execution_count": null,
   "metadata": {},
   "outputs": [],
   "source": [
    "# adding break"
   ],
   "id": "d6dd8bed-814f-4a71-8f2b-7ed9503745d4"
  },
  {
   "cell_type": "markdown",
   "metadata": {},
   "source": [
    "### <a name=\"18q5b\">Question 5b</a>\n",
    "\n",
    "------------------------------------------------------------------------\n",
    "\n",
    "Using the bootstrap distribution `boot.dist` created in \\[Question 5a\\],\n",
    "give a 90% bootstrap percentile confidence interval for the median\n",
    "mandible length of all golden jackals. *Include units in your answer.*\n",
    "\n",
    "#### <a name=\"18sol5b\">Solution to Question 5b</a>\n",
    "\n",
    "------------------------------------------------------------------------\n",
    "\n",
    "Replace all four `??` in the code cell below with appropriate code. Then\n",
    "run the completed code to compute lower and upper cutoffs for a 90%\n",
    "bootstrap percentile confidence interval."
   ],
   "id": "5bd78f28-5498-42ca-a3bc-2e570b1b193f"
  },
  {
   "cell_type": "code",
   "execution_count": null,
   "metadata": {},
   "outputs": [],
   "source": [
    "# find cutoffs for 90% bootstrap CI\n",
    "#lower.median.90 <- quantile(??, probs = ??)  # find lower cutoff\n",
    "#upper.median.90 <- quantile(??, probs = ??)  # find upper cutoff\n",
    "\n",
    "# print to screen\n",
    "#lower.median.90\n",
    "#upper.median.90"
   ],
   "id": "1518650d-5eec-4e1f-957c-dde342bccade"
  },
  {
   "cell_type": "markdown",
   "metadata": {},
   "source": [
    "**Based on the output above, a 90% bootstrap percentile confidence\n",
    "interval for the median is from ?? to ??.**\n",
    "\n",
    "<br>  \n",
    "<br>"
   ],
   "id": "644120b7-54ac-40f4-8a4e-db421d898101"
  },
  {
   "cell_type": "code",
   "execution_count": null,
   "metadata": {},
   "outputs": [],
   "source": [
    "# adding break"
   ],
   "id": "afd77edd-fe11-4ac4-829f-792b63abc1a4"
  },
  {
   "cell_type": "markdown",
   "metadata": {},
   "source": [
    "# <a name=\"18boot-ratio\">Bootstrapping Ratios</a>\n",
    "\n",
    "------------------------------------------------------------------------\n",
    "\n",
    "When investigating the possible effect of smoking during pregnancy on\n",
    "birth weight, we initially used the `birthwt` data frame in the `MASS`\n",
    "package to construct a bootstrap distribution for the\n",
    "<span style=\"color:dodgerblue\">**difference of means (DoM)**</span>.\n",
    "From the bootstrap distribution, we obtained a confidence interval to\n",
    "estimate the difference in the mean birth weights between children of\n",
    "those that smoked and those that did not smoke during pregnancy. One\n",
    "possible 95% bootstrap percentile confidence interval for the difference\n",
    "of means is $80 \\mbox{ g} < \\mu_{\\rm{non}} - \\mu_{s} < 486 \\mbox{g }$.\n",
    "\n",
    "-   Since $0$ is not inside the interval estimate, it is not plausible\n",
    "    that $\\mu_{\\rm{non}} - \\mu_{s} =0$ g.\n",
    "-   We can conclude that there is a difference in the mean birth weights\n",
    "    of babies of smokers and non-smokers.\n",
    "\n",
    "Another comparative analysis we can do is compare the\n",
    "<span style=\"color:dodgerblue\">**ratio of means (RoM)**</span> instead\n",
    "of the difference of means. Let\n",
    "$R = \\dfrac{\\mu_{\\rm{non}}}{\\mu_{\\rm{s}}}$ denote the ratio of\n",
    "population means. $R$ is unknown population parameter that we can\n",
    "analyze as follows:\n",
    "\n",
    "-   If $R = \\dfrac{\\mu_{\\rm{non}}}{\\mu_{\\rm{s}}} > 1$, then\n",
    "    $\\mu_{\\rm{non}} > \\mu_{\\rm{s}}$.\n",
    "-   If $R = \\dfrac{\\mu_{\\rm{non}}}{\\mu_{\\rm{s}}} < 1$, then\n",
    "    $\\mu_{\\rm{non}} < \\mu_{\\rm{s}}$.\n",
    "-   If $R = \\dfrac{\\mu_{\\rm{non}}}{\\mu_{\\rm{s}}} = 1$, then\n",
    "    $\\mu_{\\rm{non}} = \\mu_{\\rm{s}}$.\n",
    "\n",
    "Whether we use a difference or ratio of means can highlight or minimize\n",
    "certain characteristics of the data. With ratios, we generally get\n",
    "sample ratios close 1. With differences, we can get a large spread of\n",
    "values in the differences of sample means. Thus, one potentially nice\n",
    "outcome of using ratios is the magnitude of the sample statistics will\n",
    "be smaller and easier to compare with other ratios from other contexts\n",
    "that will also have values close to 1. Another nice advantage is the\n",
    "results are independent of the units we choose to measure birth weight.\n",
    "If we choose to measure birth weights in pounds instead of grams, birth\n",
    "weights will be closer to 7, 8, 9 pounds as opposed to values such as\n",
    "2000 or 3000 grams. We get different confidence intervals for the\n",
    "difference in mean birth weights depending on whether we use grams or\n",
    "pounds. The bootstrap confidence intervals we get for a ratio of means\n",
    "will be the same regardless of the units for weight."
   ],
   "id": "3b7a909d-defb-4986-be8c-a7a9fca3ab52"
  },
  {
   "cell_type": "code",
   "execution_count": null,
   "metadata": {},
   "outputs": [],
   "source": [
    "# adding break"
   ],
   "id": "67deba9b-9862-496c-80c6-bc66f21f4c1b"
  },
  {
   "cell_type": "markdown",
   "metadata": {},
   "source": [
    "# <a name=\"18smoke\">Case Study: Smoking and Birth Weights</a>\n",
    "\n",
    "------------------------------------------------------------------------\n",
    "\n",
    "Recall the data set `birthwt` from the `MASS` package we [worked with\n",
    "earlier](17-Bootstrap-Confidence-Int.qmd#sec-smoking). In the code cell\n",
    "below, we load and clean the data in `birthwt`.\n",
    "\n",
    "If you receive an error message when running the code cell below, then\n",
    "you do not have the `MASS` package installed.\n",
    "\n",
    "-   In the R console, run the command `install.packages(\"MASS\")`.\n",
    "-   Then rerun the code cell below."
   ],
   "id": "1cd2e134-b016-428d-88ee-3efa028a7b96"
  },
  {
   "cell_type": "code",
   "execution_count": null,
   "metadata": {},
   "outputs": [],
   "source": [
    "library(MASS)  # load MASS package\n",
    "birthwt$smoke[birthwt$smoke == 0]  <- \"no\"  # non-smokers assigned \"no\"\n",
    "birthwt$smoke[birthwt$smoke == 1]  <- \"smoker\"  # smokers assigned \"smoker\"\n",
    "birthwt$smoke <- factor(birthwt$smoke)  # convert smoke variable to categorical factor\n",
    "summary(birthwt$smoke)  # summary of data frame"
   ],
   "id": "e4a2ae54-33e4-4d80-86f0-f2968294a11b"
  },
  {
   "cell_type": "markdown",
   "metadata": {},
   "source": [
    "Before we can bootstrap, we next subset the original sample into two\n",
    "independent samples based on smoking status. *The output is stored in\n",
    "data frames `non` and `smoker`, and no output will be printed to the\n",
    "screen.*"
   ],
   "id": "6f4da00e-2d1c-4e8a-8708-5db133b0b626"
  },
  {
   "cell_type": "code",
   "execution_count": null,
   "metadata": {},
   "outputs": [],
   "source": [
    "# subset the sample into two independent samples\n",
    "non <- subset(birthwt, smoke == \"no\")\n",
    "smoker <- subset(birthwt, smoke == \"smoker\")"
   ],
   "id": "bb164ae8-2d10-4ac6-967f-7c883bd493cd"
  },
  {
   "cell_type": "code",
   "execution_count": null,
   "metadata": {},
   "outputs": [],
   "source": [
    "# adding break"
   ],
   "id": "9d3b6fbe-fe1e-419d-afb9-3b760f9e19b2"
  },
  {
   "cell_type": "markdown",
   "metadata": {},
   "source": [
    "## <a name=\"18q6\">Question 6</a>\n",
    "\n",
    "------------------------------------------------------------------------\n",
    "\n",
    "Calculate the observed ratio of sample mean birth weights of smokers and\n",
    "non-smokers and store the value as `obs.ratio`.\n",
    "\n",
    "### <a name=\"18sol6\">Solution to Question 6</a>\n",
    "\n",
    "------------------------------------------------------------------------"
   ],
   "id": "4bce2b95-27c4-4db7-a21a-32bbfa358241"
  },
  {
   "cell_type": "code",
   "execution_count": null,
   "metadata": {},
   "outputs": [],
   "source": [
    "#obs.ratio <- ??  # calculate the observed ratio of sample means\n",
    "#obs.ratio  # print observed ratio to screen  "
   ],
   "id": "1d534c59-a6a3-4434-b07d-894464db9a0f"
  },
  {
   "cell_type": "code",
   "execution_count": null,
   "metadata": {},
   "outputs": [],
   "source": [
    "# adding break"
   ],
   "id": "66ef62ca-fd89-45c9-b170-224d75fc8781"
  },
  {
   "cell_type": "markdown",
   "metadata": {},
   "source": [
    "## <a name=\"18q7\">Question 7</a>\n",
    "\n",
    "------------------------------------------------------------------------\n",
    "\n",
    "Follow the steps below to generate a bootstrap distribution for the\n",
    "**ratio of sample mean birth weights** for babies born to non-smokers\n",
    "compared to babies born to smokers. Then use the bootstrap distribution\n",
    "to obtain a 95% bootstrap percentile confidence interval to estimate the\n",
    "ratio in population means."
   ],
   "id": "c7b85d81-08a1-4f9a-a7ee-e9461469c96f"
  },
  {
   "cell_type": "code",
   "execution_count": null,
   "metadata": {},
   "outputs": [],
   "source": [
    "# adding break"
   ],
   "id": "f89c7f51-1518-4802-9f3f-f4942592a1d2"
  },
  {
   "cell_type": "markdown",
   "metadata": {},
   "source": [
    "### <a name=\"18q7a\">Question 7a</a>\n",
    "\n",
    "------------------------------------------------------------------------\n",
    "\n",
    "Complete the code cell below to construct a bootstrap distribution for\n",
    "the ratio of the sample mean birth weights of of babies born to\n",
    "non-smokers compared to smokers.\n",
    "\n",
    "#### <a name=\"18sol7a\">Solution to Question 7a</a>\n",
    "\n",
    "------------------------------------------------------------------------\n",
    "\n",
    "Replace all nine `??` in the code cell below with appropriate code. Then\n",
    "run the completed code to generate a bootstrap distribution and mark the\n",
    "observed ratio of sample means (in red) and the mean of the bootstrap\n",
    "distribution (in blue) with vertical lines."
   ],
   "id": "708a01dc-ea59-446e-9f92-89e16269bdf5"
  },
  {
   "cell_type": "code",
   "execution_count": null,
   "metadata": {},
   "outputs": [],
   "source": [
    "#N <- 10^5  # Number of bootstrap samples\n",
    "#boot.rom <- numeric(N)  # create vector to store bootstrap proportions\n",
    "\n",
    "# for loop that creates bootstrap dist\n",
    "#for (i in 1:N)\n",
    "#{\n",
    "#  x.non <- sample(??, size = ??, replace = ??)  # pick a bootstrap resample of non-smokers\n",
    "#  x.smoker <- sample(??, size = ??, replace = ??)  # pick a bootstrap resample of smokers\n",
    "#  boot.rom[i] <- ??  # compute ratio of sample means\n",
    "#}\n",
    "\n",
    "# plot bootstrap distribution\n",
    "#hist(boot.rom,  \n",
    "#     breaks=20, \n",
    "#     xlab = \"Ratio = x.bar.non/x.bar.smoker\",\n",
    "#     main = \"Bootstrap Distribution for Ratio of Means\")\n",
    "\n",
    "# red line at the observed  difference in sample means\n",
    "#abline(v = ??, col = \"firebrick2\", lwd = 2, lty = 1)\n",
    "\n",
    "# blue line at the center of bootstrap dist\n",
    "#abline(v = ??, col = \"blue\", lwd = 2, lty = 2)"
   ],
   "id": "10f7080a-f5b1-44f4-be0c-1a6169db1321"
  },
  {
   "cell_type": "code",
   "execution_count": null,
   "metadata": {},
   "outputs": [],
   "source": [
    "# adding break"
   ],
   "id": "7889bd0f-edf8-4466-af65-3e7b0e39783d"
  },
  {
   "cell_type": "markdown",
   "metadata": {},
   "source": [
    "### <a name=\"18q7b\">Question 7b</a>\n",
    "\n",
    "------------------------------------------------------------------------\n",
    "\n",
    "Complete the code cell below to give a 95% bootstrap percentile\n",
    "confidence interval to estimate the ratio of the mean birth weight of\n",
    "all babies born to non-smokers compared the to mean birth of all babies\n",
    "born to smokers.\n",
    "\n",
    "#### <a name=\"18sol7b\">Solution to Question 7b</a>\n",
    "\n",
    "------------------------------------------------------------------------\n",
    "\n",
    "**Based on the output below, a 95% bootstrap percentile confidence\n",
    "interval is from ?? to ??.**\n",
    "\n",
    "<br>  \n",
    "<br>"
   ],
   "id": "d2724e7f-a177-458e-a903-f6c08d95591e"
  },
  {
   "cell_type": "code",
   "execution_count": null,
   "metadata": {},
   "outputs": [],
   "source": [
    "# find cutoffs for 95% bootstrap CI\n",
    "#lower.rom.95 <- quantile(??, probs = ??)  # find lower cutoff\n",
    "#upper.rom.95 <- quantile(??, probs = ??)  # find upper cutoff\n",
    "\n",
    "# print to screen\n",
    "#lower.rom.95\n",
    "#upper.rom.95"
   ],
   "id": "e40d3abe-9216-49c0-b3b6-d45c78bd9b5a"
  },
  {
   "cell_type": "code",
   "execution_count": null,
   "metadata": {},
   "outputs": [],
   "source": [
    "# adding break"
   ],
   "id": "d7d4816e-d351-4772-9d66-cdd1b60b7145"
  },
  {
   "cell_type": "markdown",
   "metadata": {},
   "source": [
    "### <a name=\"18q7c\">Question 7c</a>\n",
    "\n",
    "------------------------------------------------------------------------\n",
    "\n",
    "Interpret the practical meaning of your interval estimate in \\[Question\n",
    "7b\\]. Do you think it is plausible to conclude smoking does have an\n",
    "effect on the weight of a newborn? Explain why or why not.\n",
    "\n",
    "#### <a name=\"18sol7c\">Solution to Question 7c</a>\n",
    "\n",
    "------------------------------------------------------------------------\n",
    "\n",
    "<br>  \n",
    "<br>  \n",
    "<br>"
   ],
   "id": "4464c9bf-4d6f-4b28-bdb9-23095a055652"
  },
  {
   "cell_type": "code",
   "execution_count": null,
   "metadata": {},
   "outputs": [],
   "source": [
    "# adding break"
   ],
   "id": "75d019b3-3337-480e-8730-2112b9ce7641"
  },
  {
   "cell_type": "markdown",
   "metadata": {},
   "source": [
    "### <a name=\"18q7d\">Question 7d</a>\n",
    "\n",
    "------------------------------------------------------------------------\n",
    "\n",
    "Is the shape of the bootstrap distribution for the ratio of means\n",
    "normal? Create a QQ-Plot to compare the bootstrap distribution to a\n",
    "standard normal distribution.\n",
    "\n",
    "#### <a name=\"18sol7d\">Solution to Question 7d</a>\n",
    "\n",
    "------------------------------------------------------------------------\n",
    "\n",
    "Replace each `??` with appropriate code."
   ],
   "id": "81488018-88f5-465b-8abb-26ddc96398a9"
  },
  {
   "cell_type": "code",
   "execution_count": null,
   "metadata": {},
   "outputs": [],
   "source": [
    "#qqnorm(??)\n",
    "#qqline(??)"
   ],
   "id": "a9c0d5f6-51bb-4286-8069-64dadb2dc4ff"
  },
  {
   "cell_type": "code",
   "execution_count": null,
   "metadata": {},
   "outputs": [],
   "source": [
    "# adding break"
   ],
   "id": "796e602f-3b52-44c7-ab13-4fea1dda9708"
  },
  {
   "cell_type": "markdown",
   "metadata": {},
   "source": [
    "# <a name=\"18bias\">Comparing the Bias of Bootstrap Estimators</a>\n",
    "\n",
    "------------------------------------------------------------------------\n",
    "\n",
    "Recall if $\\widehat{\\theta}$ is an estimator for a parameter $\\theta$,\n",
    "then we define the **bias** of the estimator as\n",
    "\n",
    "$$\\mbox{Bias}(\\widehat{\\theta}) = (\\mbox{Estimated Value}) - (\\mbox{Actual Value}) = \\widehat{\\theta} - \\theta.$$\n",
    "\n",
    "**In the case of bootstrapping, we used the following estimate:**\n",
    "\n",
    "-   We use the <span style=\"color:dodgerblue\">center of the bootstrap\n",
    "    distribution</span>,\n",
    "    ${\\color{dodgerblue}{\\hat{\\theta}_{\\rm{boot}}}}$, as the\n",
    "    <span style=\"color:dodgerblue\">bootstrap estimator</span>.\n",
    "-   We plug-in the <span style=\"color:tomato\">statistic from the\n",
    "    original sample</span> in place of the\n",
    "    <span style=\"color:tomato\">unknown parameter $\\theta$</span>.\n",
    "-   The <span style=\"color:dodgerblue\">**bootstrap estimate of\n",
    "    bias**</span> is\n",
    "\n",
    "$$\\mbox{Bias}_{\\rm{boot}} \\big( \\hat{\\theta}_{\\rm{boot}} \\big) = {\\color{dodgerblue}{\\hat{\\theta}_{\\rm{boot}}}} - {\\color{tomato}{(\\mbox{observed statistic})}}.$$"
   ],
   "id": "bb7b5dc3-a2cb-4052-a1a4-af28e3c8396c"
  },
  {
   "cell_type": "code",
   "execution_count": null,
   "metadata": {},
   "outputs": [],
   "source": [
    "# adding break"
   ],
   "id": "f83fa334-8e45-4252-af4f-23c1c427a7bf"
  },
  {
   "cell_type": "markdown",
   "metadata": {},
   "source": [
    "## <a name=\"18q8\">Question 8</a>\n",
    "\n",
    "------------------------------------------------------------------------\n",
    "\n",
    "The code cell below constructs a bootstrap distribution for the sample\n",
    "mean from the sample data stored in `jaw.sample`. The corresponding\n",
    "bootstrap sample means are stored in the vector `boot.dist`.\n",
    "\n",
    "-   Read the code cell below.\n",
    "-   After interpreting the code, run the code cell. No edits are needed.\n",
    "-   In the code cell provided in the solution space, calculate the\n",
    "    bootstrap estimate of bias.\n",
    "\n",
    "In the case of bootstrap estimate for a mean, we have\n",
    "${\\displaystyle \\mbox{Bias}_{\\rm{boot}} \\big( \\hat{\\mu}_{\\rm{boot}} \\big) = {\\color{dodgerblue}{\\hat{\\mu}_{\\rm{boot}}}} - {\\color{tomato}{\\bar{x}}}}$.\n",
    "Use the output from the code below to identify the values of\n",
    "${\\color{dodgerblue}{\\hat{\\mu}_{\\rm{boot}}}}$ and\n",
    "${\\color{tomato}{\\bar{x}}}$"
   ],
   "id": "b52ded7f-cfee-4bce-945b-a27e7fd396a8"
  },
  {
   "cell_type": "code",
   "execution_count": null,
   "metadata": {},
   "outputs": [],
   "source": [
    "##############################\n",
    "# no edits needed\n",
    "# read and run the code\n",
    "#############################\n",
    "jaw.sample <- c(120, 107, 110, 116, 114, 111, 113, 117, 114, 112,\n",
    "                110, 111, 107, 108, 110, 105, 107, 106, 111, 111)\n",
    "\n",
    "N <- 10^5  # Number of bootstrap samples\n",
    "boot.dist <- numeric(N)  # create vector to store bootstrap stats\n",
    "\n",
    "# for loop that creates bootstrap dist\n",
    "for (i in 1:N)\n",
    "{\n",
    "  x <- sample(jaw.sample, 20, replace = TRUE)  # pick a bootstrap resample\n",
    "  boot.dist[i] <- mean(x)  # compute mean of bootstrap resample\n",
    "}\n",
    "\n",
    "# plot bootstrap distribution\n",
    "hist(boot.dist,  \n",
    "     breaks=20, \n",
    "     xlab = \"x-bar, mandible length (in mm)\",\n",
    "     main = \"Bootstrap Distribution for Sample Mean (n=20)\")\n",
    "\n",
    "# bootstrap mean and standard error\n",
    "boot.dist.mean <- mean(boot.dist)  # mean of bootstrap dist\n",
    "boot.dist.se <- sd(boot.dist)  # SE of bootstrap dist\n",
    "\n",
    "\n",
    "# red line at the observed sample mean\n",
    "abline(v = mean(jaw.sample), col = \"firebrick2\", lwd = 2, lty = 1)\n",
    "# blue line at the center of bootstrap dist\n",
    "abline(v = boot.dist.mean, col = \"blue\", lwd = 2, lty = 2)"
   ],
   "id": "df1f5a65-8ef8-4752-9010-bcf39045a0df"
  },
  {
   "cell_type": "markdown",
   "metadata": {},
   "source": [
    "### <a name=\"18sol8\">Solution to Question 8</a>\n",
    "\n",
    "------------------------------------------------------------------------\n",
    "\n",
    "Replace the `??` in the code cell below to calculate and store bootstrap\n",
    "estimate of bias to `bias.jaw`."
   ],
   "id": "8e6dfed5-00ad-4c70-b385-feba560d3483"
  },
  {
   "cell_type": "code",
   "execution_count": null,
   "metadata": {},
   "outputs": [],
   "source": [
    "# calculate bootstrap estimate of bias\n",
    "#bias.jaw <- ?? \n",
    "#bias.jaw  # print to screen"
   ],
   "id": "f5eb5012-af2c-4115-9543-c17455e4c14e"
  },
  {
   "cell_type": "markdown",
   "metadata": {},
   "source": [
    "<br>  \n",
    "<br>"
   ],
   "id": "f13235dd-b0c6-4576-b6a2-6297610c6b95"
  },
  {
   "cell_type": "code",
   "execution_count": null,
   "metadata": {},
   "outputs": [],
   "source": [
    "# adding break"
   ],
   "id": "7dd613fc-02db-469b-8486-933a4d5e3a68"
  },
  {
   "cell_type": "markdown",
   "metadata": {},
   "source": [
    "## <a name=\"18q9\">Question 9</a>\n",
    "\n",
    "------------------------------------------------------------------------\n",
    "\n",
    "Recall the data set `environmental` from the `lattice` package we\n",
    "[worked with earlier](17-Bootstrap-Confidence-Int.qmd##sec-ozone) to\n",
    "estimate the proportion of all time in New York City when the ozone\n",
    "concentration exceeds 70 ppb. In the code cell below, we load the\n",
    "`lattice` package and store the sample of ozone concentrations to a\n",
    "vector named `nyc.oz`.\n",
    "\n",
    "If you receive an error message when running the code cell below, then\n",
    "you do not have the `lattice` package installed.\n",
    "\n",
    "-   In the R console, run the command `install.packages(\"lattice\")`.\n",
    "-   Then rerun the code cell below."
   ],
   "id": "dd37ae41-3ded-487f-a44b-8d06150c71cf"
  },
  {
   "cell_type": "code",
   "execution_count": null,
   "metadata": {},
   "outputs": [],
   "source": [
    "# be sure you have already installed the lattice package\n",
    "library(lattice)  # loading lattice package\n",
    "nyc.oz <- environmental$ozone  # store ozone data to a vector"
   ],
   "id": "dbe45468-0b9b-45c1-afe9-87aec69fa396"
  },
  {
   "cell_type": "markdown",
   "metadata": {},
   "source": [
    "The code cell below constructs a bootstrap distribution for the sample\n",
    "proportion of time the ozone concentration exceeds 70 ppb using the\n",
    "original sample `nyc.oz`. The corresponding bootstrap sample proportions\n",
    "are stored in the vector `boot.prop`.\n",
    "\n",
    "-   Read the code cell below.\n",
    "-   After interpreting the code, run the code cell. No edits are needed.\n",
    "-   In the code cell provided in the solution space, calculate the\n",
    "    bootstrap estimate of bias.\n",
    "\n",
    "In the case of bootstrap estimate for a proportion, we have\n",
    "${\\displaystyle\\mbox{Bias}_{\\rm{boot}} \\big( \\hat{p}_{\\rm{boot}} \\big) = {\\color{dodgerblue}{\\hat{p}_{\\rm{boot}}}} - {\\color{tomato}{\\hat{p}}}}$."
   ],
   "id": "c5ec385c-9b2b-42d8-9947-e4d03667694b"
  },
  {
   "cell_type": "code",
   "execution_count": null,
   "metadata": {},
   "outputs": [],
   "source": [
    "##############################\n",
    "# no edits needed\n",
    "# read and run the code\n",
    "#############################\n",
    "\n",
    "N <- 10^5  # Number of bootstrap samples\n",
    "boot.prop <- numeric(N)  # create vector to store bootstrap proportions\n",
    "n.oz <- length(nyc.oz)\n",
    "\n",
    "# for loop that creates bootstrap dist\n",
    "for (i in 1:N)\n",
    "{\n",
    "  x <- sample(nyc.oz, size = n.oz, replace = TRUE)  # pick a bootstrap resample\n",
    "  boot.prop[i] <- sum(x > 70)/n.oz  # compute bootstrap sample proportion\n",
    "}\n",
    "\n",
    "# plot bootstrap distribution\n",
    "hist(boot.prop,  \n",
    "     breaks=20, \n",
    "     xlab = \"p-hat, sample proportion\",\n",
    "     main = \"Bootstrap Distribution for Sample Proportion\")\n",
    "\n",
    "# bootstrap mean and standard error\n",
    "boot.prop.mean <- mean(boot.prop)  # mean of bootstrap dist\n",
    "boot.prop.se <- sd(boot.prop)  # SE of bootstrap dist\n",
    "\n",
    "# red line at the observed sample proportion\n",
    "abline(v = sum(nyc.oz > 70)/n.oz, col = \"firebrick2\", lwd = 2, lty = 1)\n",
    "# blue line at the center of bootstrap dist\n",
    "abline(v = boot.prop.mean, col = \"blue\", lwd = 2, lty = 2)"
   ],
   "id": "7664c277-169f-4fd1-97c5-2d5344eaeabd"
  },
  {
   "cell_type": "markdown",
   "metadata": {},
   "source": [
    "### <a name=\"18sol9\">Solution to Question 9</a>\n",
    "\n",
    "------------------------------------------------------------------------\n",
    "\n",
    "Replace the `??` in the code cell below to calculate and store bootstrap\n",
    "estimate of bias to `bias.ozone`."
   ],
   "id": "bc1eafd7-64b0-4321-ba8c-8ac384f60563"
  },
  {
   "cell_type": "code",
   "execution_count": null,
   "metadata": {},
   "outputs": [],
   "source": [
    "# calculate bootstrap estimate of bias\n",
    "#bias.ozone <- ??\n",
    "#bias.ozone  # print to screen."
   ],
   "id": "eceb8c65-536b-46b5-adfb-6a8cfd3d408f"
  },
  {
   "cell_type": "markdown",
   "metadata": {},
   "source": [
    "<br>  \n",
    "<br>"
   ],
   "id": "f6a74455-0c4e-4452-bd2f-37f9d9124919"
  },
  {
   "cell_type": "code",
   "execution_count": null,
   "metadata": {},
   "outputs": [],
   "source": [
    "# adding break"
   ],
   "id": "429f0006-6de7-45de-a60c-2219c83b1788"
  },
  {
   "cell_type": "markdown",
   "metadata": {},
   "source": [
    "## <a name=\"18q10\">Question 10</a>\n",
    "\n",
    "------------------------------------------------------------------------\n",
    "\n",
    "Recall the data set `birthwt` from the `MASS` package we [worked with\n",
    "earlier](17-Bootstrap-Confidence-Int.qmd#sec-smoking). In the code cell\n",
    "below, we load and clean the data in `birthwt`.\n",
    "\n",
    "If you receive an error message when running the code cell below, then\n",
    "you do not have the `MASS` package installed.\n",
    "\n",
    "-   In the R console, run the command `install.packages(\"MASS\")`.\n",
    "-   Then rerun the code cell below."
   ],
   "id": "cdcb27e5-0e41-450b-a87d-885bdb5e2ff1"
  },
  {
   "cell_type": "code",
   "execution_count": null,
   "metadata": {},
   "outputs": [],
   "source": [
    "library(MASS)  # load MASS package\n",
    "birthwt$smoke[birthwt$smoke == 0]  <- \"no\"  # non-smokers assigned \"no\"\n",
    "birthwt$smoke[birthwt$smoke == 1]  <- \"smoker\"  # smokers assigned \"smoker\"\n",
    "birthwt$smoke <- factor(birthwt$smoke)  # convert smoke variable to categorical factor\n",
    "\n",
    "# subset the sample into two independent samples\n",
    "non <- subset(birthwt, smoke == \"no\")\n",
    "smoker <- subset(birthwt, smoke == \"smoker\")"
   ],
   "id": "772cb3c8-9a34-44e7-b640-c7e33045015f"
  },
  {
   "cell_type": "markdown",
   "metadata": {},
   "source": [
    "The code cell below constructs a bootstrap distribution for the\n",
    "difference in two sample means using the independent samples stored in\n",
    "the data frames `non` and `smoker`. The corresponding bootstrap\n",
    "difference in sample means are stored in the vector `boot.dom`.\n",
    "\n",
    "-   Read the code cell below.\n",
    "-   After interpreting the code, run the code cell. No edits are needed.\n",
    "-   In the code cell provided in the solution space, calculate the\n",
    "    bootstrap estimate of bias."
   ],
   "id": "64344ffe-52e6-492f-a20f-4f387e70f433"
  },
  {
   "cell_type": "code",
   "execution_count": null,
   "metadata": {},
   "outputs": [],
   "source": [
    "##############################\n",
    "# no edits needed\n",
    "# read and run the code\n",
    "#############################\n",
    "\n",
    "N <- 10^5  # Number of bootstrap samples\n",
    "boot.dom <- numeric(N)  # create vector to store bootstrap proportions\n",
    "\n",
    "m.non <- length(non$bwt)\n",
    "n.smoker <- length(smoker$bwt)\n",
    "\n",
    "# for loop that creates bootstrap dist\n",
    "for (i in 1:N)\n",
    "{\n",
    "  x.non <- sample(non$bwt, size = m.non, replace = TRUE)  # pick a bootstrap resample\n",
    "  x.smoker <- sample(smoker$bwt, size = n.smoker, replace = TRUE)  # pick a bootstrap resample\n",
    "  boot.dom[i] <- mean(x.non) - mean(x.smoker)  # compute difference in sample means\n",
    "}\n",
    "\n",
    "# plot bootstrap distribution\n",
    "hist(boot.dom,  \n",
    "     breaks=20, \n",
    "     xlab = \"x.bar.non - x.bar.smoker (in grams)\",\n",
    "     main = \"Bootstrap Distribution for Difference in Means\")\n",
    "\n",
    "# bootstrap mean and standard error\n",
    "boot.dom.mean <- mean(boot.dom)  # mean of bootstrap dist\n",
    "boot.dom.se <- sd(boot.dom)  # SE of bootstrap dist\n",
    "\n",
    "# red line at the observed  difference in sample means\n",
    "abline(v = mean(non$bwt) - mean(smoker$bwt), col = \"firebrick2\", lwd = 2, lty = 1)\n",
    "\n",
    "# blue line at the center of bootstrap dist\n",
    "abline(v = boot.dom.mean, col = \"blue\", lwd = 2, lty = 2)"
   ],
   "id": "d7b9dbee-b5fb-411a-94ac-80d597a8de4c"
  },
  {
   "cell_type": "markdown",
   "metadata": {},
   "source": [
    "### <a name=\"18sol10\">Solution to Question 10</a>\n",
    "\n",
    "------------------------------------------------------------------------\n",
    "\n",
    "Replace the `??` in the code cell below to calculate and store bootstrap\n",
    "estimate of bias to `bias.smoke`."
   ],
   "id": "abc4ba0a-7f8c-4e7f-8f3b-b14edb4cb579"
  },
  {
   "cell_type": "code",
   "execution_count": null,
   "metadata": {},
   "outputs": [],
   "source": [
    "# calculate bootstrap estimate of bias\n",
    "#bias.smoke <- ??\n",
    "#bias.smoke  # print to screen."
   ],
   "id": "44402230-fa63-48e6-bffc-e22cbdd415cf"
  },
  {
   "cell_type": "markdown",
   "metadata": {},
   "source": [
    "<br>  \n",
    "<br>"
   ],
   "id": "f68a6044-664e-4611-86be-553fdb92c64a"
  },
  {
   "cell_type": "code",
   "execution_count": null,
   "metadata": {},
   "outputs": [],
   "source": [
    "# adding break"
   ],
   "id": "8b2423cd-2e26-40dc-8f7b-c70594e092a3"
  },
  {
   "cell_type": "markdown",
   "metadata": {},
   "source": [
    "## <a name=\"18q11\">Question 11</a>\n",
    "\n",
    "------------------------------------------------------------------------\n",
    "\n",
    "Out of the three bootstrap estimates of bias in \\[Question 8\\],\n",
    "\\[Question 9\\], and \\[Question 10\\], which bias is the most extreme?\n",
    "\n",
    "### <a name=\"18sol11\">Solution to Question 11</a>\n",
    "\n",
    "------------------------------------------------------------------------\n",
    "\n",
    "<br>  \n",
    "<br>  \n",
    "<br>"
   ],
   "id": "bd908e40-624f-4d8d-a285-1a4e4cd18706"
  },
  {
   "cell_type": "code",
   "execution_count": null,
   "metadata": {},
   "outputs": [],
   "source": [
    "# adding break"
   ],
   "id": "00431e3c-e734-4a1a-8fd3-7a6ed9224a4b"
  },
  {
   "cell_type": "markdown",
   "metadata": {},
   "source": [
    "## <a name=\"18rule-thumb\">Rule of Thumb for Acceptable Bias</a>\n",
    "\n",
    "------------------------------------------------------------------------\n",
    "\n",
    "What is a significant amount of bias? The answer to this question does\n",
    "not depend on the bootstrap estimate of bias alone. We need to consider\n",
    "how much bias is present relative to the overall variability in sample\n",
    "statistics. For example:\n",
    "\n",
    "-   If the bootstrap estimate of bias is $5$ and\n",
    "    $\\mbox{SE}_{\\rm{boot}} = 5,\\!000$, then relatively speaking the bias\n",
    "    is quite small.\n",
    "-   If the bootstrap estimate of bias is $-0.1$ and\n",
    "    $\\mbox{SE}_{\\rm{boot}} = 2$, then relatively speaking the bias is\n",
    "    much larger.\n",
    "-   We compare the value of the bootstrap estimate of bias **relative to\n",
    "    the bootstrap standard error**.\n",
    "    -   In the first example, we have the ratio\n",
    "        $\\frac{5}{5000} = 0.001$.\n",
    "    -   In the second example, we have a ratio $\\frac{-0.1}{2} = -0.05$\n",
    "-   In general, we use the ratio of the bootstrap bias to the bootstrap\n",
    "    standard error to measure how significant is the bias.\n",
    "\n",
    "$${\\color{dodgerblue}{\\boxed{ \\mbox{Relative Bootstrap Bias} = \\dfrac{\\mbox{Bootstrap Bias}}{\\mbox{Bootstrap SE}}}}}$$\n",
    "\n",
    "#### <span style=\"color:dodgerblue\">**Rule of Thumb for Bootstrap Bias**</span>\n",
    "\n",
    "------------------------------------------------------------------------\n",
    "\n",
    "<span style=\"color:dodgerblue\">If either </span>\n",
    "\n",
    "$${\\color{dodgerblue}{\\frac{\\mbox{Bootstrap Bias}}{\\mbox{Bootstrap SE}}  > 0.02 \\qquad \\mbox{or} \\qquad \\frac{\\mbox{Bootstrap Bias}}{\\mbox{Bootstrap SE}}  < -0.02,}}$$\n",
    "\n",
    "<span style=\"color:dodgerblue\">then the bias is large enough to have a\n",
    "substantial effect on the accuracy of the estimate.</span>"
   ],
   "id": "26963d4c-bc6a-4401-998a-c1ee1e380b84"
  },
  {
   "cell_type": "code",
   "execution_count": null,
   "metadata": {},
   "outputs": [],
   "source": [
    "# adding break"
   ],
   "id": "27302531-e8f0-4ed9-a9af-0e2a1ac99721"
  },
  {
   "cell_type": "markdown",
   "metadata": {},
   "source": [
    "## <a name=\"18q12\">Question 12</a>\n",
    "\n",
    "------------------------------------------------------------------------\n",
    "\n",
    "Determine whether the jackal mandible bootstrap distribution in\n",
    "\\[Question 8\\], the ozone concentration bootstrap distribution for\n",
    "sample proportion in \\[Question 9\\], or the bootstrap distribution for\n",
    "the difference in mean birth weights \\[Question 10\\] exceed the 0.02\n",
    "rule of thumb? Relatively speaking, which of the three biases is most\n",
    "extreme?\n",
    "\n",
    "### <a name=\"18sol12\">Solution to Question 12</a>\n",
    "\n",
    "------------------------------------------------------------------------\n",
    "\n",
    "<br> <br> <br>"
   ],
   "id": "dae13410-6078-4aa3-9c1d-9191c3aa9b6a"
  }
 ],
 "nbformat": 4,
 "nbformat_minor": 5,
 "metadata": {
  "kernelspec": {
   "name": "ir",
   "display_name": "R",
   "language": "R"
  }
 }
}
