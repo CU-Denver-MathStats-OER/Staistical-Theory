{
 "cells": [
  {
   "cell_type": "markdown",
   "metadata": {},
   "source": [
    "[![Open In\n",
    "Colab](https://colab.research.google.com/assets/colab-badge.svg)](https://githubtocolab.com/CU-Denver-MathStats-OER/Statistical-Theory/blob/main/Chap5/18-Bootstrap-Other-Stats.ipynb)\n",
    "<nbsp>\n",
    "\n",
    "<figure>\n",
    "<img\n",
    "src=\"https://upload.wikimedia.org/wikipedia/commons/5/50/18fig-match.png\"\n",
    "style=\"width:30.0%\" data-fig-align=\"left\"\n",
    "data-fig-alt=\"Pointing Spider-Man Meme\"\n",
    "alt=\"Credit: Openclipart, CC0, via Wikimedia Commons\" />\n",
    "<figcaption aria-hidden=\"true\">Credit: Openclipart, CC0, via <a\n",
    "href=\"https://commons.wikimedia.org/wiki/File:18fig-match.png\">Wikimedia\n",
    "Commons</a></figcaption>\n",
    "</figure>\n",
    "\n",
    "In this section, we will continue exploring bootstrap distributions.\n",
    "Thus far, we have analyzed statistical questions where bootstrapping\n",
    "different statistics has been constructive, such as a [single sample\n",
    "mean](16-Bootstrap-Dist.qmd#sec-jawboot) and a [sample\n",
    "proportion](17-Bootstrap-Confidence-Int.qmd#sec-bootprop). In many\n",
    "situations, we wish to investigate the possible association between two\n",
    "or more variables. In these cases, comparing two or more sample\n",
    "statistics is more useful than a single mean or a single proportion.\n",
    "\n",
    "For example, we investigated whether there is an association between the\n",
    "[smoking during pregnancy and birth weight of the\n",
    "baby](17-Bootstrap-Confidence-Int.qmd#sec-smoking).\n",
    "\n",
    "-   A sample of $n=189$ new born babies are selected.\n",
    "-   The smoking status of the pregnant parent and the birth weight (in\n",
    "    grams) are recorded.\n",
    "    -   Out of the sample $n_{\\rm{no}} = 115$ non-smokers, the average\n",
    "        birth weight is $\\bar{x}_{\\rm{no}} = 3055.7$ grams.\n",
    "    -   Out of the sample $n_{s} = 74$ non-smokers, the average birth\n",
    "        weight is $\\bar{x}_{s} = 2771.9$ grams.\n",
    "-   Is the observed difference in sample means significant?\n",
    "\n",
    "We used a bootstrap distribution on a [difference of two independent\n",
    "sample means](17-Bootstrap-Confidence-Int.qmd#sec-bootdiffmean) to\n",
    "construct a bootstrap confidence interval to estimate the difference in\n",
    "mean birth weights to help determine whether a difference of $0$ is\n",
    "plausible or not."
   ],
   "id": "1cb5a79c-c199-4496-828d-9b2b2dc8efe9"
  },
  {
   "cell_type": "code",
   "execution_count": null,
   "metadata": {},
   "outputs": [],
   "source": [
    "# adding break"
   ],
   "id": "5f23181d-36b4-49ce-b9eb-57f39acbc9da"
  },
  {
   "cell_type": "markdown",
   "metadata": {},
   "source": [
    "## <a name=\"18\">Question 1</a>\n",
    "\n",
    "------------------------------------------------------------------------\n",
    "\n",
    "The data used in the smoking and birth weight analysis is from an\n",
    "observational study. We determined the observed [difference in sample\n",
    "means is significant](17-Bootstrap-Confidence-Int.qmd#sec-interpret),\n",
    "and thus concluded smoking during pregnancy is likely associated with\n",
    "lower baby birth weights. However, with observational studies we should\n",
    "be mindful of confounding variables. Based on our analysis we can\n",
    "conclude smoking is associated with a change in birth weight, but not\n",
    "whether the smoking itself is the cause of the change in birth weight.\n",
    "What are some possible [confounding\n",
    "variables](01-Intro-to-Inference.qmd#sec-confounding)?\n",
    "\n",
    "### <a name=\"18\">Solution to Question 1</a>\n",
    "\n",
    "------------------------------------------------------------------------\n",
    "\n",
    "<br>  \n",
    "<br>  \n",
    "<br>"
   ],
   "id": "af34ec2d-d484-4c98-8ba7-34ada5ef323b"
  },
  {
   "cell_type": "code",
   "execution_count": null,
   "metadata": {},
   "outputs": [],
   "source": [
    "# adding break"
   ],
   "id": "f05cc4c5-d51b-45cd-94b5-6065b2b35372"
  },
  {
   "cell_type": "markdown",
   "metadata": {},
   "source": [
    "## <a name=\"18\">Designing a Randomized Controlled Experiment</a>\n",
    "\n",
    "------------------------------------------------------------------------\n",
    "\n",
    "In order to see whether smoking during pregnancy causes lower birth\n",
    "weights, we could try to design a randomized controlled experiment.\n",
    "Designing such an experiment that is humane in this context might not be\n",
    "possible. For example, here is an example of a highly unethical\n",
    "experiment we would not implement in practice:\n",
    "\n",
    "-   Collect volunteers early in their pregnancy who agree to the\n",
    "    conditions of the experiment.\n",
    "-   Randomly assign each pregnant person to a smoking or non-smoking\n",
    "    group.\n",
    "    -   Each person in the smoking group is required to smoke 1 pack of\n",
    "        cigarettes per day.\n",
    "    -   Each person in the non-smoking group is forbidden from smoking\n",
    "        any tobacco during pregnancy.\n",
    "-   Record the birth weight of each person’s baby.\n",
    "-   Compare mean birth weights of the two groups (smokers and\n",
    "    non-smokers).\n",
    "\n",
    "Although such an experiment does eliminate the impact of many\n",
    "confounding variables, it is not possible to conduct this experiment due\n",
    "to ethical concerns."
   ],
   "id": "ec6bb497-bcbd-49d1-9a1d-2639dcf829ab"
  },
  {
   "cell_type": "code",
   "execution_count": null,
   "metadata": {},
   "outputs": [],
   "source": [
    "# adding break"
   ],
   "id": "8eb2c8cd-c7a6-44a3-8a97-f7904b9a59e5"
  },
  {
   "cell_type": "markdown",
   "metadata": {},
   "source": [
    "## <a name=\"18\">Collecting Pairs of Data</a>\n",
    "\n",
    "------------------------------------------------------------------------\n",
    "\n",
    "Let’s consider one more study that we could use to help determine\n",
    "whether smoking during pregnancy is associated with lower birth weight.\n",
    "In this study, we solicit volunteers that have already given birth to\n",
    "two babies. During one of the pregnancies, the parent smoked. During the\n",
    "other pregnancy, they did not smoke. This study is ethical and controls\n",
    "for some confounding variables though not all. Below is hypothetical\n",
    "data from such a study. A sample of $n=10$ people volunteer to share\n",
    "their data with the researchers. The data is summarized in the table\n",
    "below.\n",
    "\n",
    "|            | 1    | 2    | 3    | 4    | 5    | 6    | 7    | 8    | 9    | 10   |\n",
    "|------------|------|------|------|------|------|------|------|------|------|------|\n",
    "| No Smoking | 2750 | 2920 | 3860 | 3402 | 2282 | 3790 | 3586 | 3487 | 2920 | 2835 |\n",
    "| Smoked     | 1790 | 2381 | 3940 | 3317 | 2125 | 2665 | 3572 | 3156 | 2721 | 2225 |"
   ],
   "id": "515691e9-1cc0-49c2-8418-358856be9aad"
  },
  {
   "cell_type": "code",
   "execution_count": null,
   "metadata": {},
   "outputs": [],
   "source": [
    "# adding break"
   ],
   "id": "f373eb4b-b322-4c30-8235-84aaf2f68ee8"
  },
  {
   "cell_type": "markdown",
   "metadata": {},
   "source": [
    "## <a name=\"18\">Question 2</a>\n",
    "\n",
    "------------------------------------------------------------------------\n",
    "\n",
    "Using the data from this study, give a possible sample statistic that\n",
    "can be used to determine if smoking is associated with lower birth\n",
    "weight?\n",
    "\n",
    "### <a name=\"18\">Solution to Question 2</a>\n",
    "\n",
    "------------------------------------------------------------------------"
   ],
   "id": "6fc4a671-66a5-4fa5-b4fa-aa2146156f98"
  },
  {
   "cell_type": "code",
   "execution_count": null,
   "metadata": {},
   "outputs": [],
   "source": [
    "# data from study\n",
    "no <- c(2750, 2920, 3860, 3402, 2282, \n",
    "        3790, 3586, 3487, 2920, 2835)  # non-smoking births weights\n",
    "\n",
    "smoker <- c(1790, 2381, 3940, 3317, 2125, \n",
    "            2665, 3572, 3156, 2721, 2225)  # matching smoking birth weight"
   ],
   "id": "ecdded25-f906-46a4-a9ca-6a912af68bbf"
  },
  {
   "cell_type": "markdown",
   "metadata": {},
   "source": [
    "<br>  \n",
    "<br>  \n",
    "<br>"
   ],
   "id": "14693be7-5ed9-4604-8806-593f7814a02b"
  },
  {
   "cell_type": "code",
   "execution_count": null,
   "metadata": {},
   "outputs": [],
   "source": [
    "# adding break"
   ],
   "id": "a6cb37ed-d0a9-4c16-a8f7-222256d4c8c1"
  },
  {
   "cell_type": "markdown",
   "metadata": {},
   "source": [
    "## <a name=\"18\">Question 3</a>\n",
    "\n",
    "------------------------------------------------------------------------\n",
    "\n",
    "Devise a bootstrapping method that could be used to construct a\n",
    "bootstrap distribution for the comparison statistic you identified in\n",
    "\\[Question 2\\].\n",
    "\n",
    "### <a name=\"18\">Solution to Question 3</a>\n",
    "\n",
    "------------------------------------------------------------------------\n",
    "\n",
    "<br>  \n",
    "<br>  \n",
    "<br>"
   ],
   "id": "5973979f-5869-4008-9632-344ddd5a1fcb"
  },
  {
   "cell_type": "code",
   "execution_count": null,
   "metadata": {},
   "outputs": [],
   "source": [
    "# adding break"
   ],
   "id": "883eec26-feb0-4345-b708-6c3a8dbcfaee"
  },
  {
   "cell_type": "markdown",
   "metadata": {},
   "source": [
    "# <a name=\"18\">Matched Pairs Design</a>\n",
    "\n",
    "------------------------------------------------------------------------\n",
    "\n",
    "Let’s recap and compare data sets from two different studies\n",
    "investigating potential side-effects of smoking during pregnancy:\n",
    "\n",
    "<span style=\"color:dodgerblue\">**Study A:**</span> There is a sample of\n",
    "189 observations corresponding to 189 different pregnancies. For each\n",
    "observation, we have two values corresponding to smoking status and\n",
    "birth weight of baby. The sample is split based on whether or not the\n",
    "parent smoked during their pregnancy. For any single observation in the\n",
    "non-smoking group, there is no inherent connection to any of the\n",
    "observations in the smoking group. The non-smoker and smoker groups are\n",
    "<span style=\"color:dodgerblue\">**independent samples**</span>.\n",
    "\n",
    "<span style=\"color:dodgerblue\">**Study B:**</span> There is a sample of\n",
    "$n=10$ observations corresponding to $10$ different people who each gave\n",
    "birth to two children. During one of the pregnancies they smoked, and\n",
    "they did not smoke during the other. For each observation, we have two\n",
    "variables: birth weight of baby when they smoked and the birth weight of\n",
    "the baby during the non-smoking pregnancy. For any single observation in\n",
    "the non-smoker group of birth weights, there is exactly one observation\n",
    "(their sibling) in the smoker group of birth weights that naturally form\n",
    "a pair of observations. This is an example of a\n",
    "<span style=\"color:dodgerblue\">**matched pairs design**</span> since\n",
    "observations from each sample are matched based on a key variable (two\n",
    "babies have the same parent)."
   ],
   "id": "56593179-5231-4e29-8cbd-ef30abc275a7"
  },
  {
   "cell_type": "code",
   "execution_count": null,
   "metadata": {},
   "outputs": [],
   "source": [
    "# adding break"
   ],
   "id": "31aad2d1-460c-4200-8ede-05aa3762507f"
  },
  {
   "cell_type": "markdown",
   "metadata": {},
   "source": [
    "# <a name=\"18\">Boostrapping with Matched Pairs</a>\n",
    "\n",
    "------------------------------------------------------------------------\n",
    "\n",
    "**When we bootstrap matched pairs, we do not want to randomness to\n",
    "affect the natural pairing between the two samples!** Below is an\n",
    "algorithm for bootstrapping matched pairs. In order to preserve the\n",
    "pairing of the smoking and non-smoking birth weights, we do a single\n",
    "resample from the original sample of differences as opposed to two\n",
    "resamples from two independent samples. Given a\n",
    "<span style=\"color:dodgerblue\">**matched pairs sample**</span> of size\n",
    "$n$:\n",
    "\n",
    "1.  For each pair calculate the difference.\n",
    "\n",
    "|                                              | 1                                     | 2                                     | 3                                     | 4                                    | 5                                     | 6                                      | 7                                    | 8                                     | 9                                     | 10                                    |\n",
    "|------------|------|------|------|------|------|------|------|------|------|------|\n",
    "| No Smoking                                   | 2750                                  | 2920                                  | 3860                                  | 3402                                 | 2282                                  | 3790                                   | 3586                                 | 3487                                  | 2920                                  | 2835                                  |\n",
    "| Smoked                                       | 1790                                  | 2381                                  | 3940                                  | 3317                                 | 2125                                  | 2665                                   | 3572                                 | 3156                                  | 2721                                  | 2225                                  |\n",
    "| <span style=\"color:tomato\">Difference</span> | <span style=\"color:tomato\">960</span> | <span style=\"color:tomato\">539</span> | <span style=\"color:tomato\">-80</span> | <span style=\"color:tomato\">85</span> | <span style=\"color:tomato\">157</span> | <span style=\"color:tomato\">1125</span> | <span style=\"color:tomato\">14</span> | <span style=\"color:tomato\">331</span> | <span style=\"color:tomato\">199</span> | <span style=\"color:tomato\">610</span> |\n",
    "\n",
    "1.  Consider the collection of $n$ differences as your original sample.\n",
    "\n",
    "    -   Our original sample of differences is\n",
    "        ${\\color{tomato}{\\mathbf{x} = (960, 539, -80, \\ldots , 199, 610)}}$.\n",
    "    -   We store the sample in the vector `diff` in the code cell below."
   ],
   "id": "7c3f74dd-6b3e-4f01-a15f-c374fd503997"
  },
  {
   "cell_type": "code",
   "execution_count": null,
   "metadata": {},
   "outputs": [],
   "source": [
    "no <- c(2750, 2920, 3860, 3402, 2282, \n",
    "        3790, 3586, 3487, 2920, 2835)  # non-smoking birth weights\n",
    "smoker <- c(1790, 2381, 3940, 3317, 2125, \n",
    "            2665, 3572, 3156, 2721, 2225)  # matching smoking birth weight\n",
    "\n",
    "\n",
    "diff <- no - smoker  # storing the original sample of differences\n",
    "obs.mean <- mean(diff)  # observed mean difference between matched pairs\n",
    "\n",
    "# print observed mean to screen\n",
    "obs.mean"
   ],
   "id": "91aa7b72-d041-4209-9c89-ebecaffc5b09"
  },
  {
   "cell_type": "markdown",
   "metadata": {},
   "source": [
    "1.  Draw a resample of size $n$ with replacement from the sample of\n",
    "    differences."
   ],
   "id": "53ad94ca-d903-47e4-9669-70bccfdca9aa"
  },
  {
   "cell_type": "code",
   "execution_count": null,
   "metadata": {},
   "outputs": [],
   "source": [
    "resamp <- sample(diff, size = 10, replace = TRUE)\n",
    "resamp"
   ],
   "id": "5a8efc86-6a9b-476d-a9e3-234458ed7c4b"
  },
  {
   "cell_type": "markdown",
   "metadata": {},
   "source": [
    "1.  Compute the mean of the bootstrap resample of matched pair\n",
    "    differences."
   ],
   "id": "a03c4f85-5ca6-43b6-8a44-a8058ac86724"
  },
  {
   "cell_type": "code",
   "execution_count": null,
   "metadata": {},
   "outputs": [],
   "source": [
    "mean(resamp)"
   ],
   "id": "27203187-cce6-4c07-8eae-b00a8369a288"
  },
  {
   "cell_type": "markdown",
   "metadata": {},
   "source": [
    "1.  Repeat this many times and construct the bootstrap distribution of\n",
    "    the statistic."
   ],
   "id": "6531003f-abe9-4846-be4b-3c78e0cc5d87"
  },
  {
   "cell_type": "code",
   "execution_count": null,
   "metadata": {},
   "outputs": [],
   "source": [
    "# adding break"
   ],
   "id": "1fad1760-e09a-4e41-9d95-33d84b1d7759"
  },
  {
   "cell_type": "markdown",
   "metadata": {},
   "source": [
    "## <a name=\"18\">Question 4</a>\n",
    "\n",
    "------------------------------------------------------------------------\n",
    "\n",
    "Follow the steps below to generate a bootstrap distribution for the mean\n",
    "difference between matched pairs of smoking and non-smoking birth\n",
    "weights. Then use the bootstrap distribution to obtain a 95% bootstrap\n",
    "percentile confidence interval for the mean difference between all\n",
    "matched pairs in the population."
   ],
   "id": "88e221ab-d4bd-454c-992a-42fe41fef2e4"
  },
  {
   "cell_type": "code",
   "execution_count": null,
   "metadata": {},
   "outputs": [],
   "source": [
    "# adding break"
   ],
   "id": "97031a13-8504-4685-a642-e9bb9a127428"
  },
  {
   "cell_type": "markdown",
   "metadata": {},
   "source": [
    "### <a name=\"18\">Question 4a</a>\n",
    "\n",
    "------------------------------------------------------------------------\n",
    "\n",
    "Complete the code cell below to construct a bootstrap distribution for\n",
    "the sample mean difference between matched pairs.\n",
    "\n",
    "#### <a name=\"18\">Solution to Question 4a</a>\n",
    "\n",
    "------------------------------------------------------------------------\n",
    "\n",
    "Replace the six `??` in the code cell below with appropriate code. Then\n",
    "run the completed code to generate a bootstrap distribution and mark the\n",
    "observed mean difference between matched pairs (in red) and the mean of\n",
    "the bootstrap distribution (in blue) with vertical lines."
   ],
   "id": "0b445b9f-3db5-4f4b-a803-d8c30f49a5bb"
  },
  {
   "cell_type": "code",
   "execution_count": null,
   "metadata": {},
   "outputs": [],
   "source": [
    "#N <- 10^5  # Number of bootstrap samples\n",
    "#boot.matched <- numeric(N)  # create vector to store bootstrap proportions\n",
    "\n",
    "# for loop that creates bootstrap dist\n",
    "#for (i in 1:N)\n",
    "#{\n",
    "#  x <- sample(??, size = ??, replace = ??)  # pick a bootstrap resample\n",
    "#  boot.matched[i] <- ??  # compute sample mean of matched pair differences\n",
    "#}\n",
    "\n",
    "# plot bootstrap distribution\n",
    "#hist(boot.matched,  \n",
    "#     breaks=20, \n",
    "#     xlab = \"Sample Mean of Matched Pair Differenes\",\n",
    "#     main = \"Bootstrap Distribution for Matched Pairs\")\n",
    "\n",
    "# red line at the observed mean difference between matched pairs\n",
    "#abline(v = ??, col = \"firebrick2\", lwd = 2, lty = 1)\n",
    "\n",
    "# blue line at the center of bootstrap dist\n",
    "#abline(v = ??, col = \"blue\", lwd = 2, lty = 2)"
   ],
   "id": "b2d29f9e-f338-44d9-ab38-aa67a7fe2076"
  },
  {
   "cell_type": "code",
   "execution_count": null,
   "metadata": {},
   "outputs": [],
   "source": [
    "# adding break"
   ],
   "id": "276f3321-f4af-4f0c-af5d-9f97921c79e0"
  },
  {
   "cell_type": "markdown",
   "metadata": {},
   "source": [
    "### <a name=\"18\">Question 4b</a>\n",
    "\n",
    "------------------------------------------------------------------------\n",
    "\n",
    "Complete the code cell below to give a 95% bootstrap percentile\n",
    "confidence interval to estimate the mean difference between all matched\n",
    "pairs in the population. *Include units in your answer.*\n",
    "\n",
    "#### <a name=\"18\">Solution to Question 4b</a>\n",
    "\n",
    "------------------------------------------------------------------------\n",
    "\n",
    "**Based on the output below, a 95% bootstrap percentile confidence\n",
    "interval is from ?? to ??.**\n",
    "\n",
    "<br>  \n",
    "<br>"
   ],
   "id": "bdf44310-8fc0-49c1-937c-f3721cd2a63f"
  },
  {
   "cell_type": "code",
   "execution_count": null,
   "metadata": {},
   "outputs": [],
   "source": [
    "# find cutoffs for 95% bootstrap CI\n",
    "#lower.matched.95 <- quantile(??, probs = ??)  # find lower cutoff\n",
    "#upper.matched.95 <- quantile(??, probs = ??)  # find upper cutoff\n",
    "\n",
    "# print to screen\n",
    "#lower.matched.95\n",
    "#upper.matched.95"
   ],
   "id": "714912d5-0cc1-40e1-93df-5111924af13e"
  },
  {
   "cell_type": "code",
   "execution_count": null,
   "metadata": {},
   "outputs": [],
   "source": [
    "# adding break"
   ],
   "id": "32ad5013-8750-4934-a454-7fa762c9b318"
  },
  {
   "cell_type": "markdown",
   "metadata": {},
   "source": [
    "### <a name=\"18\">Question 4c</a>\n",
    "\n",
    "------------------------------------------------------------------------\n",
    "\n",
    "Interpret the practical meaning of your interval estimate in \\[Question\n",
    "4b\\]. Do you think it is plausible to conclude smoking does have an\n",
    "effect on the weight of a newborn? Explain why or why not.\n",
    "\n",
    "#### <a name=\"18\">Solution to Question 4c</a>\n",
    "\n",
    "------------------------------------------------------------------------\n",
    "\n",
    "<br>  \n",
    "<br> <br>"
   ],
   "id": "f3cd97d4-54ea-4b07-a6f2-438541810e39"
  },
  {
   "cell_type": "code",
   "execution_count": null,
   "metadata": {},
   "outputs": [],
   "source": [
    "# adding break"
   ],
   "id": "0952e332-50b0-4ceb-b7e5-c3a87b068c1a"
  },
  {
   "cell_type": "markdown",
   "metadata": {},
   "source": [
    "# <a name=\"18\">Bootstrapping Other Statistics</a>\n",
    "\n",
    "------------------------------------------------------------------------\n",
    "\n",
    "When constructing sampling distributions for with means and proportions,\n",
    "in addition to bootstrapping, we also have a theoretical model available\n",
    "with the Central Limit Theorem (CLT). For example, we when working with\n",
    "golden jackal data, we constructed a [bootstrap\n",
    "distribution](16-Bootstrap-Dist.qmd#sec-jawboot) to approximate the\n",
    "sampling distribution for the sample mean mandible length. Then we\n",
    "compared the bootstrap results to those obtained using the [CLT for\n",
    "means](16-Bootstrap-Dist.qmd#jawclt). However, not all statistics have a\n",
    "Central Limit Theorem or formulas we can use to model a sampling\n",
    "distribution.\n",
    "\n",
    "-   The bootstrap procedure may be used with a wide variety of other\n",
    "    statistics, such as medians, variances, trimmed means, and ratios.\n",
    "-   **We can construct a bootstrap distribution to estimate the sampling\n",
    "    distribution for any statistic, even if there is no Central Limit\n",
    "    Theorem.**"
   ],
   "id": "76e3b887-350f-46c6-9dd7-6594f6d6299f"
  },
  {
   "cell_type": "code",
   "execution_count": null,
   "metadata": {},
   "outputs": [],
   "source": [
    "# adding break"
   ],
   "id": "74f80995-5a52-497b-8af1-848324270af2"
  },
  {
   "cell_type": "markdown",
   "metadata": {},
   "source": [
    "## <a name=\"18\">Question 5</a>\n",
    "\n",
    "------------------------------------------------------------------------\n",
    "\n",
    "A random sample of $n=20$ mandible jaw lengths (in mm) of golden jackals\n",
    "is stored in the vector `jaw.sample`. Run the code cell below to load\n",
    "the sample data, and then answer the questions that follow."
   ],
   "id": "43bcd7fd-460b-4cd1-9700-85bf904a6155"
  },
  {
   "cell_type": "code",
   "execution_count": null,
   "metadata": {},
   "outputs": [],
   "source": [
    "jaw.sample <- c(120, 107, 110, 116, 114, 111, 113, 117, 114, 112,\n",
    "                110, 111, 107, 108, 110, 105, 107, 106, 111, 111)"
   ],
   "id": "c0751ff0-f7e9-4bd5-bd51-c40a5cecbf81"
  },
  {
   "cell_type": "code",
   "execution_count": null,
   "metadata": {},
   "outputs": [],
   "source": [
    "# adding break"
   ],
   "id": "b125b082-a375-4980-baf7-fa3a63fc1d3d"
  },
  {
   "cell_type": "markdown",
   "metadata": {},
   "source": [
    "### <a name=\"18\">Question 5a</a>\n",
    "\n",
    "------------------------------------------------------------------------\n",
    "\n",
    "Below is [code we previously used](16-Bootstrap-Dist.qmd#sec-jawboot) to\n",
    "create bootstrap distribution for the **sample mean** mandible length.\n",
    "Adjust the code to create a bootstrap distribution for the **sample\n",
    "median** mandible length. Then run the updated code cell to store the\n",
    "bootstrap medians in the vector named `boot.dist`. *No output will\n",
    "printed to the screen since the output is being stored in `boot.dist`.*\n",
    "\n",
    "#### <a name=\"18\">Solution to Question 5a</a>\n",
    "\n",
    "------------------------------------------------------------------------\n",
    "\n",
    "Adjust the code cell below to create a bootstrap distribution for the\n",
    "sample median."
   ],
   "id": "4cc036d1-c0d1-4ed8-a770-8eda264212da"
  },
  {
   "cell_type": "code",
   "execution_count": null,
   "metadata": {},
   "outputs": [],
   "source": [
    "#N <- 10^5  # Number of bootstrap samples\n",
    "#boot.dist <- numeric(N)  # create vector to store bootstrap stats\n",
    "\n",
    "# for loop that creates bootstrap dist\n",
    "#for (i in 1:N)\n",
    "#{\n",
    "#  x <- sample(jaw.sample, 20, replace = TRUE)  # pick a bootstrap resample\n",
    "#  boot.dist[i] <- mean(x)  # compute mean of bootstrap resample\n",
    "#}"
   ],
   "id": "db839d73-d125-48f4-8490-2fb7ecd88779"
  },
  {
   "cell_type": "code",
   "execution_count": null,
   "metadata": {},
   "outputs": [],
   "source": [
    "# adding break"
   ],
   "id": "c573045e-4421-4272-9cdd-e0ae179b8533"
  },
  {
   "cell_type": "markdown",
   "metadata": {},
   "source": [
    "### <a name=\"18\">Question 5b</a>\n",
    "\n",
    "------------------------------------------------------------------------\n",
    "\n",
    "Using the bootstrap distribution `boot.dist` created in \\[Question 5a\\],\n",
    "give a 90% bootstrap percentile confidence interval for the median\n",
    "mandible length of all golden jackals. *Include units in your answer.*\n",
    "\n",
    "#### <a name=\"18\">Solution to Question 5b</a>\n",
    "\n",
    "------------------------------------------------------------------------\n",
    "\n",
    "Replace all four `??` in the code cell below with appropriate code. Then\n",
    "run the completed code to compute lower and upper cutoffs for a 90%\n",
    "bootstrap percentile confidence interval."
   ],
   "id": "2ccebb7d-7905-44f7-aa08-05b30cbb4fb4"
  },
  {
   "cell_type": "code",
   "execution_count": null,
   "metadata": {},
   "outputs": [],
   "source": [
    "# find cutoffs for 90% bootstrap CI\n",
    "#lower.median.90 <- quantile(??, probs = ??)  # find lower cutoff\n",
    "#upper.median.90 <- quantile(??, probs = ??)  # find upper cutoff\n",
    "\n",
    "# print to screen\n",
    "#lower.median.90\n",
    "#upper.median.90"
   ],
   "id": "7f63bc84-83d9-4b3b-ab58-79e9a6b4411e"
  },
  {
   "cell_type": "markdown",
   "metadata": {},
   "source": [
    "**Based on the output above, a 90% bootstrap percentile confidence\n",
    "interval for the median is from ?? to ??.**\n",
    "\n",
    "<br>  \n",
    "<br>"
   ],
   "id": "69af1a65-1718-4fb8-bad6-158f8bf69975"
  },
  {
   "cell_type": "code",
   "execution_count": null,
   "metadata": {},
   "outputs": [],
   "source": [
    "# adding break"
   ],
   "id": "de4a54d9-d927-4bf8-b2fd-7b95dd7520db"
  },
  {
   "cell_type": "markdown",
   "metadata": {},
   "source": [
    "# <a name=\"18\">Bootstrapping Ratios</a>\n",
    "\n",
    "------------------------------------------------------------------------\n",
    "\n",
    "When investigating the possible effect of smoking during pregnancy on\n",
    "birth weight, we initially used the `birthwt` data frame in the `MASS`\n",
    "package to construct a bootstrap distribution for the\n",
    "<span style=\"color:dodgerblue\">**difference of means (DoM)**</span>.\n",
    "From the bootstrap distribution, we obtained a confidence interval to\n",
    "estimate the difference in the mean birth weights between children of\n",
    "those that smoked and those that did not smoke during pregnancy. One\n",
    "possible 95% bootstrap percentile confidence interval for the difference\n",
    "of means is $80 \\mbox{ g} < \\mu_{\\rm{non}} - \\mu_{s} < 486 \\mbox{g }$.\n",
    "\n",
    "-   Since $0$ is not inside the interval estimate, it is not plausible\n",
    "    that $\\mu_{\\rm{non}} - \\mu_{s} =0$ g.\n",
    "-   We can conclude that there is a difference in the mean birth weights\n",
    "    of babies of smokers and non-smokers.\n",
    "\n",
    "Another comparative analysis we can do is compare the\n",
    "<span style=\"color:dodgerblue\">**ratio of means (RoM)**</span> instead\n",
    "of the difference of means. Let\n",
    "$R = \\dfrac{\\mu_{\\rm{non}}}{\\mu_{\\rm{s}}}$ denote the ratio of\n",
    "population means. $R$ is unknown population parameter that we can\n",
    "analyze as follows:\n",
    "\n",
    "-   If $R = \\dfrac{\\mu_{\\rm{non}}}{\\mu_{\\rm{s}}} > 1$, then\n",
    "    $\\mu_{\\rm{non}} > \\mu_{\\rm{s}}$.\n",
    "-   If $R = \\dfrac{\\mu_{\\rm{non}}}{\\mu_{\\rm{s}}} < 1$, then\n",
    "    $\\mu_{\\rm{non}} < \\mu_{\\rm{s}}$.\n",
    "-   If $R = \\dfrac{\\mu_{\\rm{non}}}{\\mu_{\\rm{s}}} = 1$, then\n",
    "    $\\mu_{\\rm{non}} = \\mu_{\\rm{s}}$.\n",
    "\n",
    "Whether we use a difference or ratio of means can highlight or minimize\n",
    "certain characteristics of the data. With ratios, we generally get\n",
    "sample ratios close 1. With differences, we can get a large spread of\n",
    "values in the differences of sample means. Thus, one potentially nice\n",
    "outcome of using ratios is the magnitude of the sample statistics will\n",
    "be smaller and easier to compare with other ratios from other contexts\n",
    "that will also have values close to 1. Another nice advantage is the\n",
    "results are independent of the units we choose to measure birth weight.\n",
    "If we choose to measure birth weights in pounds instead of grams, birth\n",
    "weights will be closer to 7, 8, 9 pounds as opposed to values such as\n",
    "2000 or 3000 grams. We get different confidence intervals for the\n",
    "difference in mean birth weights depending on whether we use grams or\n",
    "pounds. The bootstrap confidence intervals we get for a ratio of means\n",
    "will be the same regardless of the units for weight."
   ],
   "id": "cc07356c-7a00-4a4f-aa3b-27160e1494d4"
  },
  {
   "cell_type": "code",
   "execution_count": null,
   "metadata": {},
   "outputs": [],
   "source": [
    "# adding break"
   ],
   "id": "22fa785b-3e51-476d-8614-470095ee8c86"
  },
  {
   "cell_type": "markdown",
   "metadata": {},
   "source": [
    "# <a name=\"18\">Case Study: Smoking and Birth Weights</a>\n",
    "\n",
    "------------------------------------------------------------------------\n",
    "\n",
    "Recall the data set `birthwt` from the `MASS` package we [worked with\n",
    "earlier](17-Bootstrap-Confidence-Int.qmd#sec-smoking). In the code cell\n",
    "below, we load and clean the data in `birthwt`.\n",
    "\n",
    "If you receive an error message when running the code cell below, then\n",
    "you do not have the `MASS` package installed.\n",
    "\n",
    "-   In the R console, run the command `install.packages(\"MASS\")`.\n",
    "-   Then rerun the code cell below."
   ],
   "id": "ee1a4825-f9bc-4830-bbdd-991151cd079e"
  },
  {
   "cell_type": "code",
   "execution_count": null,
   "metadata": {},
   "outputs": [],
   "source": [
    "library(MASS)  # load MASS package\n",
    "birthwt$smoke[birthwt$smoke == 0]  <- \"no\"  # non-smokers assigned \"no\"\n",
    "birthwt$smoke[birthwt$smoke == 1]  <- \"smoker\"  # smokers assigned \"smoker\"\n",
    "birthwt$smoke <- factor(birthwt$smoke)  # convert smoke variable to categorical factor\n",
    "summary(birthwt$smoke)  # summary of data frame"
   ],
   "id": "7bf37aa6-73ff-4379-aff2-8107925a5b75"
  },
  {
   "cell_type": "markdown",
   "metadata": {},
   "source": [
    "Before we can bootstrap, we next subset the original sample into two\n",
    "independent samples based on smoking status. *The output is stored in\n",
    "data frames `non` and `smoker`, and no output will be printed to the\n",
    "screen.*"
   ],
   "id": "d28977b6-43a3-420b-b7d6-aeccf02fd074"
  },
  {
   "cell_type": "code",
   "execution_count": null,
   "metadata": {},
   "outputs": [],
   "source": [
    "# subset the sample into two independent samples\n",
    "non <- subset(birthwt, smoke == \"no\")\n",
    "smoker <- subset(birthwt, smoke == \"smoker\")"
   ],
   "id": "141dd903-973e-41f6-8eeb-6749fcd02df5"
  },
  {
   "cell_type": "code",
   "execution_count": null,
   "metadata": {},
   "outputs": [],
   "source": [
    "# adding break"
   ],
   "id": "52b9d44b-2bd1-48a3-bff5-cd5e3bd76bde"
  },
  {
   "cell_type": "markdown",
   "metadata": {},
   "source": [
    "## <a name=\"18\">Question 6</a>\n",
    "\n",
    "------------------------------------------------------------------------\n",
    "\n",
    "Calculate the observed ratio of sample mean birth weights of smokers and\n",
    "non-smokers and store the value as `obs.ratio`.\n",
    "\n",
    "### <a name=\"18\">Solution to Question 6</a>\n",
    "\n",
    "------------------------------------------------------------------------"
   ],
   "id": "42bccb05-d7c9-4638-859f-b59b3afd9921"
  },
  {
   "cell_type": "code",
   "execution_count": null,
   "metadata": {},
   "outputs": [],
   "source": [
    "#obs.ratio <- ??  # calculate the observed ratio of sample means\n",
    "#obs.ratio  # print observed ratio to screen  "
   ],
   "id": "4b818f6b-45ac-4035-91ae-1adae67d5df1"
  },
  {
   "cell_type": "code",
   "execution_count": null,
   "metadata": {},
   "outputs": [],
   "source": [
    "# adding break"
   ],
   "id": "6d0322af-d2bc-40d9-8290-a527f16ce7d1"
  },
  {
   "cell_type": "markdown",
   "metadata": {},
   "source": [
    "## <a name=\"18\">Question 7</a>\n",
    "\n",
    "------------------------------------------------------------------------\n",
    "\n",
    "Follow the steps below to generate a bootstrap distribution for the\n",
    "**ratio of sample mean birth weights** for babies born to non-smokers\n",
    "compared to babies born to smokers. Then use the bootstrap distribution\n",
    "to obtain a 95% bootstrap percentile confidence interval to estimate the\n",
    "ratio in population means."
   ],
   "id": "1344c3dc-a024-4fd6-a9d7-8d55c74ae155"
  },
  {
   "cell_type": "code",
   "execution_count": null,
   "metadata": {},
   "outputs": [],
   "source": [
    "# adding break"
   ],
   "id": "af515ad9-2a83-487f-866a-4fddd626906d"
  },
  {
   "cell_type": "markdown",
   "metadata": {},
   "source": [
    "### <a name=\"18\">Question 7a</a>\n",
    "\n",
    "------------------------------------------------------------------------\n",
    "\n",
    "Complete the code cell below to construct a bootstrap distribution for\n",
    "the ratio of the sample mean birth weights of of babies born to\n",
    "non-smokers compared to smokers.\n",
    "\n",
    "#### <a name=\"18\">Solution to Question 7a</a>\n",
    "\n",
    "------------------------------------------------------------------------\n",
    "\n",
    "Replace all nine `??` in the code cell below with appropriate code. Then\n",
    "run the completed code to generate a bootstrap distribution and mark the\n",
    "observed ratio of sample means (in red) and the mean of the bootstrap\n",
    "distribution (in blue) with vertical lines."
   ],
   "id": "6a7dbde2-57c8-40ca-a39f-1a28c8900e39"
  },
  {
   "cell_type": "code",
   "execution_count": null,
   "metadata": {},
   "outputs": [],
   "source": [
    "#N <- 10^5  # Number of bootstrap samples\n",
    "#boot.rom <- numeric(N)  # create vector to store bootstrap proportions\n",
    "\n",
    "# for loop that creates bootstrap dist\n",
    "#for (i in 1:N)\n",
    "#{\n",
    "#  x.non <- sample(??, size = ??, replace = ??)  # pick a bootstrap resample of non-smokers\n",
    "#  x.smoker <- sample(??, size = ??, replace = ??)  # pick a bootstrap resample of smokers\n",
    "#  boot.rom[i] <- ??  # compute ratio of sample means\n",
    "#}\n",
    "\n",
    "# plot bootstrap distribution\n",
    "#hist(boot.rom,  \n",
    "#     breaks=20, \n",
    "#     xlab = \"Ratio = x.bar.non/x.bar.smoker\",\n",
    "#     main = \"Bootstrap Distribution for Ratio of Means\")\n",
    "\n",
    "# red line at the observed  difference in sample means\n",
    "#abline(v = ??, col = \"firebrick2\", lwd = 2, lty = 1)\n",
    "\n",
    "# blue line at the center of bootstrap dist\n",
    "#abline(v = ??, col = \"blue\", lwd = 2, lty = 2)"
   ],
   "id": "e9230aec-8939-4309-bb10-f16f5eaf006a"
  },
  {
   "cell_type": "code",
   "execution_count": null,
   "metadata": {},
   "outputs": [],
   "source": [
    "# adding break"
   ],
   "id": "3101cf3a-9504-440c-9cf9-dfdba2d426a2"
  },
  {
   "cell_type": "markdown",
   "metadata": {},
   "source": [
    "### <a name=\"18\">Question 7b</a>\n",
    "\n",
    "------------------------------------------------------------------------\n",
    "\n",
    "Complete the code cell below to give a 95% bootstrap percentile\n",
    "confidence interval to estimate the ratio of the mean birth weight of\n",
    "all babies born to non-smokers compared the to mean birth of all babies\n",
    "born to smokers.\n",
    "\n",
    "#### <a name=\"18\">Solution to Question 7b</a>\n",
    "\n",
    "------------------------------------------------------------------------\n",
    "\n",
    "**Based on the output below, a 95% bootstrap percentile confidence\n",
    "interval is from ?? to ??.**\n",
    "\n",
    "<br>  \n",
    "<br>"
   ],
   "id": "e4e024cc-1fa6-4f74-90d9-a10cbc6d9561"
  },
  {
   "cell_type": "code",
   "execution_count": null,
   "metadata": {},
   "outputs": [],
   "source": [
    "# find cutoffs for 95% bootstrap CI\n",
    "#lower.rom.95 <- quantile(??, probs = ??)  # find lower cutoff\n",
    "#upper.rom.95 <- quantile(??, probs = ??)  # find upper cutoff\n",
    "\n",
    "# print to screen\n",
    "#lower.rom.95\n",
    "#upper.rom.95"
   ],
   "id": "30bce27f-6c27-4d21-90e3-6c0ad2ce9450"
  },
  {
   "cell_type": "code",
   "execution_count": null,
   "metadata": {},
   "outputs": [],
   "source": [
    "# adding break"
   ],
   "id": "72be2377-cccb-409a-8e28-c99a8ccc6bb5"
  },
  {
   "cell_type": "markdown",
   "metadata": {},
   "source": [
    "### <a name=\"18\">Question 7c</a>\n",
    "\n",
    "------------------------------------------------------------------------\n",
    "\n",
    "Interpret the practical meaning of your interval estimate in \\[Question\n",
    "7b\\]. Do you think it is plausible to conclude smoking does have an\n",
    "effect on the weight of a newborn? Explain why or why not.\n",
    "\n",
    "#### <a name=\"18\">Solution to Question 7c</a>\n",
    "\n",
    "------------------------------------------------------------------------\n",
    "\n",
    "<br>  \n",
    "<br>  \n",
    "<br>"
   ],
   "id": "ec033431-b622-407f-b115-d0d027f46d22"
  },
  {
   "cell_type": "code",
   "execution_count": null,
   "metadata": {},
   "outputs": [],
   "source": [
    "# adding break"
   ],
   "id": "d238fcca-ffb9-4ba0-9eb4-42058693a5dd"
  },
  {
   "cell_type": "markdown",
   "metadata": {},
   "source": [
    "### <a name=\"18\">Question 7d</a>\n",
    "\n",
    "------------------------------------------------------------------------\n",
    "\n",
    "Is the shape of the bootstrap distribution for the ratio of means\n",
    "normal? Create a QQ-Plot to compare the bootstrap distribution to a\n",
    "standard normal distribution.\n",
    "\n",
    "#### <a name=\"18\">Solution to Question 7d</a>\n",
    "\n",
    "------------------------------------------------------------------------\n",
    "\n",
    "Replace each `??` with appropriate code."
   ],
   "id": "3457105c-f925-4ce7-8c20-7903ddddeba3"
  },
  {
   "cell_type": "code",
   "execution_count": null,
   "metadata": {},
   "outputs": [],
   "source": [
    "#qqnorm(??)\n",
    "#qqline(??)"
   ],
   "id": "e4a96e5e-17b9-4fae-b486-885ae028f9d0"
  },
  {
   "cell_type": "code",
   "execution_count": null,
   "metadata": {},
   "outputs": [],
   "source": [
    "# adding break"
   ],
   "id": "dc91b584-d5e7-4108-af8e-347e8e867bc5"
  },
  {
   "cell_type": "markdown",
   "metadata": {},
   "source": [
    "# <a name=\"18\">Comparing the Bias of Bootstrap Estimators</a>\n",
    "\n",
    "------------------------------------------------------------------------\n",
    "\n",
    "Recall if $\\widehat{\\theta}$ is an estimator for a parameter $\\theta$,\n",
    "then we define the **bias** of the estimator as\n",
    "\n",
    "$$\\mbox{Bias}(\\widehat{\\theta}) = (\\mbox{Estimated Value}) - (\\mbox{Actual Value}) = \\widehat{\\theta} - \\theta.$$\n",
    "\n",
    "**In the case of bootstrapping, we used the following estimate:**\n",
    "\n",
    "-   We use the <span style=\"color:dodgerblue\">center of the bootstrap\n",
    "    distribution</span>,\n",
    "    ${\\color{dodgerblue}{\\hat{\\theta}_{\\rm{boot}}}}$, as the\n",
    "    <span style=\"color:dodgerblue\">bootstrap estimator</span>.\n",
    "-   We plug-in the <span style=\"color:tomato\">statistic from the\n",
    "    original sample</span> in place of the\n",
    "    <span style=\"color:tomato\">unknown parameter $\\theta$</span>.\n",
    "-   The <span style=\"color:dodgerblue\">**bootstrap estimate of\n",
    "    bias**</span> is\n",
    "\n",
    "$$\\mbox{Bias}_{\\rm{boot}} \\big( \\hat{\\theta}_{\\rm{boot}} \\big) = {\\color{dodgerblue}{\\hat{\\theta}_{\\rm{boot}}}} - {\\color{tomato}{(\\mbox{observed statistic})}}.$$"
   ],
   "id": "b84b94fe-f8ba-4a47-90ab-1f0a5a118cea"
  },
  {
   "cell_type": "code",
   "execution_count": null,
   "metadata": {},
   "outputs": [],
   "source": [
    "# adding break"
   ],
   "id": "f2721313-6e30-4f06-90ac-f6c69cac41eb"
  },
  {
   "cell_type": "markdown",
   "metadata": {},
   "source": [
    "## <a name=\"18\">Question 8</a>\n",
    "\n",
    "------------------------------------------------------------------------\n",
    "\n",
    "The code cell below constructs a bootstrap distribution for the sample\n",
    "mean from the sample data stored in `jaw.sample`. The corresponding\n",
    "bootstrap sample means are stored in the vector `boot.dist`.\n",
    "\n",
    "-   Read the code cell below.\n",
    "-   After interpreting the code, run the code cell. No edits are needed.\n",
    "-   In the code cell provided in the solution space, calculate the\n",
    "    bootstrap estimate of bias.\n",
    "\n",
    "In the case of bootstrap estimate for a mean, we have\n",
    "${\\displaystyle \\mbox{Bias}_{\\rm{boot}} \\big( \\hat{\\mu}_{\\rm{boot}} \\big) = {\\color{dodgerblue}{\\hat{\\mu}_{\\rm{boot}}}} - {\\color{tomato}{\\bar{x}}}}$.\n",
    "Use the output from the code below to identify the values of\n",
    "${\\color{dodgerblue}{\\hat{\\mu}_{\\rm{boot}}}}$ and\n",
    "${\\color{tomato}{\\bar{x}}}$"
   ],
   "id": "62c0619b-5f3d-4e7e-95b6-87bec7f3d9ef"
  },
  {
   "cell_type": "code",
   "execution_count": null,
   "metadata": {},
   "outputs": [],
   "source": [
    "##############################\n",
    "# no edits needed\n",
    "# read and run the code\n",
    "#############################\n",
    "jaw.sample <- c(120, 107, 110, 116, 114, 111, 113, 117, 114, 112,\n",
    "                110, 111, 107, 108, 110, 105, 107, 106, 111, 111)\n",
    "\n",
    "N <- 10^5  # Number of bootstrap samples\n",
    "boot.dist <- numeric(N)  # create vector to store bootstrap stats\n",
    "\n",
    "# for loop that creates bootstrap dist\n",
    "for (i in 1:N)\n",
    "{\n",
    "  x <- sample(jaw.sample, 20, replace = TRUE)  # pick a bootstrap resample\n",
    "  boot.dist[i] <- mean(x)  # compute mean of bootstrap resample\n",
    "}\n",
    "\n",
    "# plot bootstrap distribution\n",
    "hist(boot.dist,  \n",
    "     breaks=20, \n",
    "     xlab = \"x-bar, mandible length (in mm)\",\n",
    "     main = \"Bootstrap Distribution for Sample Mean (n=20)\")\n",
    "\n",
    "# bootstrap mean and standard error\n",
    "boot.dist.mean <- mean(boot.dist)  # mean of bootstrap dist\n",
    "boot.dist.se <- sd(boot.dist)  # SE of bootstrap dist\n",
    "\n",
    "\n",
    "# red line at the observed sample mean\n",
    "abline(v = mean(jaw.sample), col = \"firebrick2\", lwd = 2, lty = 1)\n",
    "# blue line at the center of bootstrap dist\n",
    "abline(v = boot.dist.mean, col = \"blue\", lwd = 2, lty = 2)"
   ],
   "id": "a3203a9b-8e05-4d52-862f-403990d41bcc"
  },
  {
   "cell_type": "markdown",
   "metadata": {},
   "source": [
    "### <a name=\"18\">Solution to Question 8</a>\n",
    "\n",
    "------------------------------------------------------------------------\n",
    "\n",
    "Replace the `??` in the code cell below to calculate and store bootstrap\n",
    "estimate of bias to `bias.jaw`."
   ],
   "id": "64867bf7-0079-4576-bdc1-ad1012ef969f"
  },
  {
   "cell_type": "code",
   "execution_count": null,
   "metadata": {},
   "outputs": [],
   "source": [
    "# calculate bootstrap estimate of bias\n",
    "#bias.jaw <- ?? \n",
    "#bias.jaw  # print to screen"
   ],
   "id": "a35fec92-aea7-4242-9362-a320f27dec1d"
  },
  {
   "cell_type": "markdown",
   "metadata": {},
   "source": [
    "<br>  \n",
    "<br>"
   ],
   "id": "71d39408-9757-4572-ae95-85278f09c59d"
  },
  {
   "cell_type": "code",
   "execution_count": null,
   "metadata": {},
   "outputs": [],
   "source": [
    "# adding break"
   ],
   "id": "ddcbfc3d-8d86-450e-82c0-90a161e745f9"
  },
  {
   "cell_type": "markdown",
   "metadata": {},
   "source": [
    "## <a name=\"18\">Question 9</a>\n",
    "\n",
    "------------------------------------------------------------------------\n",
    "\n",
    "Recall the data set `environmental` from the `lattice` package we\n",
    "[worked with earlier](17-Bootstrap-Confidence-Int.qmd##sec-ozone) to\n",
    "estimate the proportion of all time in New York City when the ozone\n",
    "concentration exceeds 70 ppb. In the code cell below, we load the\n",
    "`lattice` package and store the sample of ozone concentrations to a\n",
    "vector named `nyc.oz`.\n",
    "\n",
    "If you receive an error message when running the code cell below, then\n",
    "you do not have the `lattice` package installed.\n",
    "\n",
    "-   In the R console, run the command `install.packages(\"lattice\")`.\n",
    "-   Then rerun the code cell below."
   ],
   "id": "8065e64f-d00b-41e5-9ac3-6eda874c1212"
  },
  {
   "cell_type": "code",
   "execution_count": null,
   "metadata": {},
   "outputs": [],
   "source": [
    "# be sure you have already installed the lattice package\n",
    "library(lattice)  # loading lattice package\n",
    "nyc.oz <- environmental$ozone  # store ozone data to a vector"
   ],
   "id": "2fe78d53-a3cd-4bfc-b65f-4b6c90f988c4"
  },
  {
   "cell_type": "markdown",
   "metadata": {},
   "source": [
    "The code cell below constructs a bootstrap distribution for the sample\n",
    "proportion of time the ozone concentration exceeds 70 ppb using the\n",
    "original sample `nyc.oz`. The corresponding bootstrap sample proportions\n",
    "are stored in the vector `boot.prop`.\n",
    "\n",
    "-   Read the code cell below.\n",
    "-   After interpreting the code, run the code cell. No edits are needed.\n",
    "-   In the code cell provided in the solution space, calculate the\n",
    "    bootstrap estimate of bias.\n",
    "\n",
    "In the case of bootstrap estimate for a proportion, we have\n",
    "${\\displaystyle\\mbox{Bias}_{\\rm{boot}} \\big( \\hat{p}_{\\rm{boot}} \\big) = {\\color{dodgerblue}{\\hat{p}_{\\rm{boot}}}} - {\\color{tomato}{\\hat{p}}}}$."
   ],
   "id": "03e4b26e-628a-4fc4-914e-5b3c0dd53ef0"
  },
  {
   "cell_type": "code",
   "execution_count": null,
   "metadata": {},
   "outputs": [],
   "source": [
    "##############################\n",
    "# no edits needed\n",
    "# read and run the code\n",
    "#############################\n",
    "\n",
    "N <- 10^5  # Number of bootstrap samples\n",
    "boot.prop <- numeric(N)  # create vector to store bootstrap proportions\n",
    "n.oz <- length(nyc.oz)\n",
    "\n",
    "# for loop that creates bootstrap dist\n",
    "for (i in 1:N)\n",
    "{\n",
    "  x <- sample(nyc.oz, size = n.oz, replace = TRUE)  # pick a bootstrap resample\n",
    "  boot.prop[i] <- sum(x > 70)/n.oz  # compute bootstrap sample proportion\n",
    "}\n",
    "\n",
    "# plot bootstrap distribution\n",
    "hist(boot.prop,  \n",
    "     breaks=20, \n",
    "     xlab = \"p-hat, sample proportion\",\n",
    "     main = \"Bootstrap Distribution for Sample Proportion\")\n",
    "\n",
    "# bootstrap mean and standard error\n",
    "boot.prop.mean <- mean(boot.prop)  # mean of bootstrap dist\n",
    "boot.prop.se <- sd(boot.prop)  # SE of bootstrap dist\n",
    "\n",
    "# red line at the observed sample proportion\n",
    "abline(v = sum(nyc.oz > 70)/n.oz, col = \"firebrick2\", lwd = 2, lty = 1)\n",
    "# blue line at the center of bootstrap dist\n",
    "abline(v = boot.prop.mean, col = \"blue\", lwd = 2, lty = 2)"
   ],
   "id": "c58952df-e18a-4948-8ded-0916fe46e573"
  },
  {
   "cell_type": "markdown",
   "metadata": {},
   "source": [
    "### <a name=\"18\">Solution to Question 9</a>\n",
    "\n",
    "------------------------------------------------------------------------\n",
    "\n",
    "Replace the `??` in the code cell below to calculate and store bootstrap\n",
    "estimate of bias to `bias.ozone`."
   ],
   "id": "f754df8a-17ed-4a99-b2cb-75a53ec5d9c8"
  },
  {
   "cell_type": "code",
   "execution_count": null,
   "metadata": {},
   "outputs": [],
   "source": [
    "# calculate bootstrap estimate of bias\n",
    "#bias.ozone <- ??\n",
    "#bias.ozone  # print to screen."
   ],
   "id": "6caeed3f-f92d-4672-9848-4b3aa165daf6"
  },
  {
   "cell_type": "markdown",
   "metadata": {},
   "source": [
    "<br>  \n",
    "<br>"
   ],
   "id": "6b24518b-df99-485c-a5b8-5d2eb5489bd9"
  },
  {
   "cell_type": "code",
   "execution_count": null,
   "metadata": {},
   "outputs": [],
   "source": [
    "# adding break"
   ],
   "id": "e5fb3d96-750e-4dea-b349-65d96ee85b3f"
  },
  {
   "cell_type": "markdown",
   "metadata": {},
   "source": [
    "## <a name=\"18\">Question 10</a>\n",
    "\n",
    "------------------------------------------------------------------------\n",
    "\n",
    "Recall the data set `birthwt` from the `MASS` package we [worked with\n",
    "earlier](17-Bootstrap-Confidence-Int.qmd#sec-smoking). In the code cell\n",
    "below, we load and clean the data in `birthwt`.\n",
    "\n",
    "If you receive an error message when running the code cell below, then\n",
    "you do not have the `MASS` package installed.\n",
    "\n",
    "-   In the R console, run the command `install.packages(\"MASS\")`.\n",
    "-   Then rerun the code cell below."
   ],
   "id": "9213ff70-3395-4176-bf06-fc4cd2365189"
  },
  {
   "cell_type": "code",
   "execution_count": null,
   "metadata": {},
   "outputs": [],
   "source": [
    "library(MASS)  # load MASS package\n",
    "birthwt$smoke[birthwt$smoke == 0]  <- \"no\"  # non-smokers assigned \"no\"\n",
    "birthwt$smoke[birthwt$smoke == 1]  <- \"smoker\"  # smokers assigned \"smoker\"\n",
    "birthwt$smoke <- factor(birthwt$smoke)  # convert smoke variable to categorical factor\n",
    "\n",
    "# subset the sample into two independent samples\n",
    "non <- subset(birthwt, smoke == \"no\")\n",
    "smoker <- subset(birthwt, smoke == \"smoker\")"
   ],
   "id": "926d7fd8-346d-4c5b-b8af-462ad6b7c21f"
  },
  {
   "cell_type": "markdown",
   "metadata": {},
   "source": [
    "The code cell below constructs a bootstrap distribution for the\n",
    "difference in two sample means using the independent samples stored in\n",
    "the data frames `non` and `smoker`. The corresponding bootstrap\n",
    "difference in sample means are stored in the vector `boot.dom`.\n",
    "\n",
    "-   Read the code cell below.\n",
    "-   After interpreting the code, run the code cell. No edits are needed.\n",
    "-   In the code cell provided in the solution space, calculate the\n",
    "    bootstrap estimate of bias."
   ],
   "id": "d926ace1-df82-4f58-94dc-d8db9956638b"
  },
  {
   "cell_type": "code",
   "execution_count": null,
   "metadata": {},
   "outputs": [],
   "source": [
    "##############################\n",
    "# no edits needed\n",
    "# read and run the code\n",
    "#############################\n",
    "\n",
    "N <- 10^5  # Number of bootstrap samples\n",
    "boot.dom <- numeric(N)  # create vector to store bootstrap proportions\n",
    "\n",
    "m.non <- length(non$bwt)\n",
    "n.smoker <- length(smoker$bwt)\n",
    "\n",
    "# for loop that creates bootstrap dist\n",
    "for (i in 1:N)\n",
    "{\n",
    "  x.non <- sample(non$bwt, size = m.non, replace = TRUE)  # pick a bootstrap resample\n",
    "  x.smoker <- sample(smoker$bwt, size = n.smoker, replace = TRUE)  # pick a bootstrap resample\n",
    "  boot.dom[i] <- mean(x.non) - mean(x.smoker)  # compute difference in sample means\n",
    "}\n",
    "\n",
    "# plot bootstrap distribution\n",
    "hist(boot.dom,  \n",
    "     breaks=20, \n",
    "     xlab = \"x.bar.non - x.bar.smoker (in grams)\",\n",
    "     main = \"Bootstrap Distribution for Difference in Means\")\n",
    "\n",
    "# bootstrap mean and standard error\n",
    "boot.dom.mean <- mean(boot.dom)  # mean of bootstrap dist\n",
    "boot.dom.se <- sd(boot.dom)  # SE of bootstrap dist\n",
    "\n",
    "# red line at the observed  difference in sample means\n",
    "abline(v = mean(non$bwt) - mean(smoker$bwt), col = \"firebrick2\", lwd = 2, lty = 1)\n",
    "\n",
    "# blue line at the center of bootstrap dist\n",
    "abline(v = boot.dom.mean, col = \"blue\", lwd = 2, lty = 2)"
   ],
   "id": "13abe451-1464-42e0-bc38-c600cad2545e"
  },
  {
   "cell_type": "markdown",
   "metadata": {},
   "source": [
    "### <a name=\"18\">Solution to Question 10</a>\n",
    "\n",
    "------------------------------------------------------------------------\n",
    "\n",
    "Replace the `??` in the code cell below to calculate and store bootstrap\n",
    "estimate of bias to `bias.smoke`."
   ],
   "id": "533eeb47-1d71-49e2-8501-4951b0d4dbd4"
  },
  {
   "cell_type": "code",
   "execution_count": null,
   "metadata": {},
   "outputs": [],
   "source": [
    "# calculate bootstrap estimate of bias\n",
    "#bias.smoke <- ??\n",
    "#bias.smoke  # print to screen."
   ],
   "id": "85c0c6a5-018a-41b0-bf4c-5768010e9cc4"
  },
  {
   "cell_type": "markdown",
   "metadata": {},
   "source": [
    "<br>  \n",
    "<br>"
   ],
   "id": "4ad9bcc7-c6b3-4db8-9309-77c587d705f7"
  },
  {
   "cell_type": "code",
   "execution_count": null,
   "metadata": {},
   "outputs": [],
   "source": [
    "# adding break"
   ],
   "id": "e4378f96-56fa-4e01-87e9-877baed59b92"
  },
  {
   "cell_type": "markdown",
   "metadata": {},
   "source": [
    "## <a name=\"18\">Question 11</a>\n",
    "\n",
    "------------------------------------------------------------------------\n",
    "\n",
    "Out of the three bootstrap estimates of bias in \\[Question 8\\],\n",
    "\\[Question 9\\], and \\[Question 10\\], which bias is the most extreme?\n",
    "\n",
    "### <a name=\"18\">Solution to Question 11</a>\n",
    "\n",
    "------------------------------------------------------------------------\n",
    "\n",
    "<br>  \n",
    "<br>  \n",
    "<br>"
   ],
   "id": "e2b0d1db-1ab4-404d-8323-80f2a962a583"
  },
  {
   "cell_type": "code",
   "execution_count": null,
   "metadata": {},
   "outputs": [],
   "source": [
    "# adding break"
   ],
   "id": "14f19498-4e2c-41e8-ab08-6bd61cdb484a"
  },
  {
   "cell_type": "markdown",
   "metadata": {},
   "source": [
    "## <a name=\"18\">Rule of Thumb for Acceptable Bias</a>\n",
    "\n",
    "------------------------------------------------------------------------\n",
    "\n",
    "What is a significant amount of bias? The answer to this question does\n",
    "not depend on the bootstrap estimate of bias alone. We need to consider\n",
    "how much bias is present relative to the overall variability in sample\n",
    "statistics. For example:\n",
    "\n",
    "-   If the bootstrap estimate of bias is $5$ and\n",
    "    $\\mbox{SE}_{\\rm{boot}} = 5,\\!000$, then relatively speaking the bias\n",
    "    is quite small.\n",
    "-   If the bootstrap estimate of bias is $-0.1$ and\n",
    "    $\\mbox{SE}_{\\rm{boot}} = 2$, then relatively speaking the bias is\n",
    "    much larger.\n",
    "-   We compare the value of the bootstrap estimate of bias **relative to\n",
    "    the bootstrap standard error**.\n",
    "    -   In the first example, we have the ratio\n",
    "        $\\frac{5}{5000} = 0.001$.\n",
    "    -   In the second example, we have a ratio $\\frac{-0.1}{2} = -0.05$\n",
    "-   In general, we use the ratio of the bootstrap bias to the bootstrap\n",
    "    standard error to measure how significant is the bias.\n",
    "\n",
    "$${\\color{dodgerblue}{\\boxed{ \\mbox{Relative Bootstrap Bias} = \\dfrac{\\mbox{Bootstrap Bias}}{\\mbox{Bootstrap SE}}}}}$$\n",
    "\n",
    "#### <span style=\"color:dodgerblue\">**Rule of Thumb for Bootstrap Bias**</span>\n",
    "\n",
    "------------------------------------------------------------------------\n",
    "\n",
    "<span style=\"color:dodgerblue\">If either </span>\n",
    "\n",
    "$${\\color{dodgerblue}{\\frac{\\mbox{Bootstrap Bias}}{\\mbox{Bootstrap SE}}  > 0.02 \\qquad \\mbox{or} \\qquad \\frac{\\mbox{Bootstrap Bias}}{\\mbox{Bootstrap SE}}  < -0.02,}}$$\n",
    "\n",
    "<span style=\"color:dodgerblue\">then the bias is large enough to have a\n",
    "substantial effect on the accuracy of the estimate.</span>"
   ],
   "id": "782aa017-65d4-422c-a744-3b19525ce9db"
  },
  {
   "cell_type": "code",
   "execution_count": null,
   "metadata": {},
   "outputs": [],
   "source": [
    "# adding break"
   ],
   "id": "2dfd74e7-ece8-4e19-ab09-8bd6ca222f6f"
  },
  {
   "cell_type": "markdown",
   "metadata": {},
   "source": [
    "## <a name=\"18\">Question 12</a>\n",
    "\n",
    "------------------------------------------------------------------------\n",
    "\n",
    "Determine whether the jackal mandible bootstrap distribution in\n",
    "\\[Question 8\\], the ozone concentration bootstrap distribution for\n",
    "sample proportion in \\[Question 9\\], or the bootstrap distribution for\n",
    "the difference in mean birth weights \\[Question 10\\] exceed the 0.02\n",
    "rule of thumb? Relatively speaking, which of the three biases is most\n",
    "extreme?\n",
    "\n",
    "### <a name=\"18\">Solution to Question 12</a>\n",
    "\n",
    "------------------------------------------------------------------------\n",
    "\n",
    "<br> <br> <br>"
   ],
   "id": "04ebde22-d8b8-4b45-9f3c-cb6bfb8a119b"
  }
 ],
 "nbformat": 4,
 "nbformat_minor": 5,
 "metadata": {
  "kernelspec": {
   "name": "ir",
   "display_name": "R",
   "language": "R"
  }
 }
}
