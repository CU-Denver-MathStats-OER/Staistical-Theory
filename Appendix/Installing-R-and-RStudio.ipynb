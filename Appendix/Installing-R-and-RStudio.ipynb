{
 "cells": [
  {
   "cell_type": "markdown",
   "metadata": {},
   "source": [
    "# What is R and What is RStudio?\n",
    "\n",
    "------------------------------------------------------------------------\n",
    "\n",
    "[R](https://www.r-project.org/about.html) is a programming language used\n",
    "largely for statistical computing, data wrangling and visualization.\n",
    "\n",
    "-   R is **FREE** to download.\n",
    "-   The first stable version was released in 2000.\n",
    "-   Open source and works cross all platforms.\n",
    "-   Excellent tool for data wrangling.\n",
    "-   Generates nice graphics.\n",
    "-   Export to pdf, html, Word or PowerPoint.\n",
    "-   Large community with tons of useful packages.\n",
    "\n",
    "**RStudio** is an IDE (integrated development environment) for R. More\n",
    "simply stated, RStudio is an application that allows you to edit, run,\n",
    "and see results of code.\n",
    "\n",
    "-   RStudio is available in open source editions and runs on Windows,\n",
    "    Mac, and Linux.\n",
    "-   **RStudio Desktop** is **FREE** to download locally on your device.\n",
    "-   **RStudio Server** runs on a remote server through a web browser.\n",
    "\n",
    "# Installing R and RStudio is FREE!\n",
    "\n",
    "------------------------------------------------------------------------\n",
    "\n",
    "## Step 0: Visit <https://posit.co/download/rstudio-desktop/>\n",
    "\n",
    "## Step 1: Install R\n",
    "\n",
    "-   **Mac Users:** Download R by visiting\n",
    "    <https://cran.r-project.org/bin/macosx/> and clicking on the most\n",
    "    recent version. For example depending on the version number, the\n",
    "    file name is `R-4.2.2-arm64.pkg` or `R-4.2.2.pkg` depending on what\n",
    "    type of Mac you own.\n",
    "    -   **Note there are two versions available for Mac OS**.\n",
    "\n",
    "    -   Use the top link for `R-4.2.2-arm64.pkg` for M1 and higher Macs\n",
    "        only.\n",
    "\n",
    "    -   Use the second link for `R-4.2.2.pkg` for Intel Macs.\n",
    "\n",
    "    -   If you are not sure which version of Mac you have, [here is a\n",
    "        good\n",
    "        source](https://www.howtogeek.com/706226/how-to-check-if-your-mac-is-using-an-intel-or-apple-silicon-processor/).\n",
    "-   **PC Users:** Download R by visiting\n",
    "    <https://cran.r-project.org/bin/windows/base/> and clicking on the\n",
    "    most recent version. For example depending on the version number,\n",
    "    the file name is `R-4.2.2 for Windows`.\n",
    "\n",
    "## Step 2: Install RStudio\n",
    "\n",
    "-   Visit <https://posit.co/download/rstudio-desktop/>\n",
    "-   Select the **DOWNLOAD RSTUDIO DESKTOP** button for the **FREE** open\n",
    "    source edition.\n",
    "-   Do NOT choose a version that costs money.\n",
    "\n",
    "# Opening RStudio\n",
    "\n",
    "------------------------------------------------------------------------\n",
    "\n",
    "Now that you have both R and RStudio on your computer, you can begin\n",
    "using R by opening the RStudio program. Open RStudio just as you would\n",
    "any program, by clicking on its icon or other methods such as typing\n",
    "“RStudio” at the Windows Run prompt.\n",
    "\n",
    "## Downloading and Opening this File\n",
    "\n",
    "1.  [Click Here to Download R Markdown\n",
    "    File](https://drive.google.com/uc?export=download&id=1vI0n0VCluaS48AM-fFFV-IlZNUMxNAc0)\n",
    "2.  From RStudio, choose `File -> Open File` and select the appropriate\n",
    "    file location.\n",
    "\n",
    "# Key Packages to Get Started\n",
    "\n",
    "------------------------------------------------------------------------\n",
    "\n",
    "## **What are packages in R?**\n",
    "\n",
    "> “Many useful R function come in packages, free libraries of code\n",
    "> written by R’s active user community.” Source: [RStudio support\n",
    "> website](https://support.rstudio.com/hc/en-us/articles/201057987-Quick-list-of-useful-R-packages)\n",
    "\n",
    "-   For a nice overview see\n",
    "    <https://support.rstudio.com/hc/en-us/articles/201057987-Quick-list-of-useful-R-packages>.\n",
    "-   You can install a single package such as `dplyr` by running R the\n",
    "    code cell below."
   ],
   "id": "e6708cab-6ea7-4188-b561-9824aa85ffc3"
  },
  {
   "cell_type": "code",
   "execution_count": null,
   "metadata": {},
   "outputs": [],
   "source": [
    "install.packages(\"dplyr\")"
   ],
   "id": "fffce05d-5392-445d-a628-b656609dd7a3"
  },
  {
   "cell_type": "markdown",
   "metadata": {},
   "source": [
    "-   Or you can install several at once, in the Console below (or running\n",
    "    the code cell below)."
   ],
   "id": "4d7663fc-359c-4b0d-b5f5-67f02b4e03e9"
  },
  {
   "cell_type": "code",
   "execution_count": null,
   "metadata": {},
   "outputs": [],
   "source": [
    "install.packages(c(\"ggplot2\", \"DataExplorer\"))"
   ],
   "id": "95169bd2-048c-4755-9193-4e2a072f62e9"
  },
  {
   "cell_type": "markdown",
   "metadata": {},
   "source": [
    "-   **You only need to install a package once (or when updating).**\n",
    "-   **The packages above have not yet been loaded however!**\n",
    "\n",
    "# Loading Libraries of Functions in Packages\n",
    "\n",
    "------------------------------------------------------------------------\n",
    "\n",
    "-   Although we only need to intall a package once in order to access\n",
    "    it, **we need to load package each time we start a new R session**.\n",
    "-   You can load the libraries in a package by running the code cell\n",
    "    below."
   ],
   "id": "99257153-0cab-4cea-9cb5-e038979c7f6e"
  },
  {
   "cell_type": "code",
   "execution_count": null,
   "metadata": {},
   "outputs": [],
   "source": [
    "library(dplyr)"
   ],
   "id": "8939126c-6c5f-4aba-ba4a-b47ea92f50bf"
  },
  {
   "cell_type": "code",
   "execution_count": null,
   "metadata": {},
   "outputs": [],
   "source": [
    "library(ggplot2)"
   ],
   "id": "514e29b7-3372-4a18-abcc-e3535a20951d"
  },
  {
   "cell_type": "markdown",
   "metadata": {},
   "source": [
    "# What is R Markdown?\n",
    "\n",
    "------------------------------------------------------------------------\n",
    "\n",
    "This is an R Markdown document. Markdown is a simple formatting syntax\n",
    "for authoring HTML, PDF, and MS Word documents. For more details on\n",
    "using R Markdown see <http://rmarkdown.rstudio.com>.\n",
    "\n",
    "When you click the **Knit** button a document will be generated that\n",
    "includes both content as well as the output of any embedded R code\n",
    "chunks within the document. You can embed an R code chunk like this:"
   ],
   "id": "24710f30-96f3-4941-8e55-9842cf7143c3"
  }
 ],
 "nbformat": 4,
 "nbformat_minor": 5,
 "metadata": {
  "kernelspec": {
   "name": "ir",
   "display_name": "R",
   "language": "R"
  }
 }
}
