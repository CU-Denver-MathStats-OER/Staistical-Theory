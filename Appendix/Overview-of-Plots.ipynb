{
 "cells": [
  {
   "cell_type": "markdown",
   "metadata": {},
   "source": [
    "# Introduction\n",
    "\n",
    "------------------------------------------------------------------------\n",
    "\n",
    "Plots can provide a useful visual summary of the data. Sometimes, a nice\n",
    "plot or two is all that is need for statistical analysis. In this\n",
    "document, we cover a basic overview of creating some plots in R.\n",
    "\n",
    "Here’s a link to a more thorough coverage of plotting in R:\n",
    "<https://r-graph-gallery.com/index.html>.\n",
    "\n",
    "-   Plotting [One Quantitative Variable](#one-quantitative-variable):\n",
    "    boxplots, histograms, density plots, etc.\n",
    "-   Plotting [One Qualitative Variable](#one-qualitative-variable): bar\n",
    "    charts.\n",
    "-   Plotting the [Relationship Between One Quantitative and One\n",
    "    Qualitative\n",
    "    Variable](#relationship-between-one-quantitative-and-one-qualitative-variable):\n",
    "    side-by-side boxplots or histograms.\n",
    "-   Plotting the [Relationship Between Two Qualitative\n",
    "    Variables](#relationship-between-two-qualitative-variables): Stacked\n",
    "    or clustered bar charts.\n",
    "-   Plotting the [Relationship Between Two Quantitative\n",
    "    Variables](#relationship-between-two-quantitative-variables) :\n",
    "    scatter plots.\n",
    "-   [Arranging Multiple Plots in an\n",
    "    Array](#arranging-multiple-plots-in-an-array)\n",
    "-   [Optional: More Advanced Plots with\n",
    "    `ggplot2`](#optional-more-advanced-plots-with-ggplot2)\n",
    "-   [Optional: Spatial Plots with\n",
    "    `mapview`](#optional-spatial-plots-with-mapview)\n",
    "\n",
    "## Help Documentation\n",
    "\n",
    "------------------------------------------------------------------------\n",
    "\n",
    "The plotting functions introduced in this document have robust help\n",
    "documentation with lots of options to customize your plots. If you want\n",
    "to view help documentation for any of the functions used in this\n",
    "document, run commands such`?hist`, `?plot`, `?table`, and so on.\n",
    "\n",
    "-   Like making colorful plots, [here’s a guide to colors in\n",
    "    R](https://bookdown.org/hneth/ds4psy/D-3-apx-colors-basics.html).\n",
    "\n",
    "# Loading Packages and Data in R\n",
    "\n",
    "------------------------------------------------------------------------\n",
    "\n",
    "To demonstrate how to create common statistical plots in R, we will use\n",
    "the `storms` dataset which is located in the package `dplyr`.\n",
    "\n",
    "-   The `dplyr` package should already be installed (if not look for the\n",
    "    link to install at the top of this window).\n",
    "-   You still need to load the package to assess the libraries of\n",
    "    functions and datasets in the package.\n",
    "-   Run the code cell below to load `dplyr`."
   ],
   "id": "9966f86a-75d9-4807-93bd-3d21902361cf"
  },
  {
   "cell_type": "code",
   "execution_count": null,
   "metadata": {},
   "outputs": [],
   "source": [
    "# load the library of function and data in dplyr\n",
    "library(dplyr)"
   ],
   "id": "75d218d2-768a-4962-a2e3-553077695a6e"
  },
  {
   "cell_type": "markdown",
   "metadata": {},
   "source": [
    "The package `dplyr` contains a dataset called `storms`. Let’s check out\n",
    "the documentation for the data."
   ],
   "id": "89b8e5f9-e4fc-4ed7-bd75-ca4fea25d66c"
  },
  {
   "cell_type": "code",
   "execution_count": null,
   "metadata": {},
   "outputs": [],
   "source": [
    "?storms  # must load dplyr"
   ],
   "id": "cc066c9f-5ce1-4b26-9238-f2aedcd26937"
  },
  {
   "cell_type": "code",
   "execution_count": null,
   "metadata": {},
   "outputs": [],
   "source": [
    "# See a summary of all variables\n",
    "summary(storms)"
   ],
   "id": "0cfc8971-2a3b-464c-ace4-8d59a9a908ca"
  },
  {
   "cell_type": "markdown",
   "metadata": {},
   "source": [
    "# One Quantitative Variable\n",
    "\n",
    "------------------------------------------------------------------------\n",
    "\n",
    "## Histograms\n",
    "\n",
    "------------------------------------------------------------------------\n",
    "\n",
    "The `hist` function can be used create a\n",
    "<span style=\"color: blue;\">**histogram**</span> of a numerical vector.\n",
    "\n",
    "-   See histogram documentation at\n",
    "    <https://r-graph-gallery.com/histogram.html>"
   ],
   "id": "e9099ac3-d3d3-4b1d-a220-430dfe05b920"
  },
  {
   "cell_type": "code",
   "execution_count": null,
   "metadata": {},
   "outputs": [],
   "source": [
    "hist(storms$pressure, \n",
    "     xlab = \"storm pressure (in millibars)\",\n",
    "     main = \"Distribution of Storm Pressure 1975-2020\",\n",
    "     breaks = 10, \n",
    "     col = \"aquamarine4\")"
   ],
   "id": "a29902a2-6e95-4b45-9290-85b04fe4452b"
  },
  {
   "cell_type": "markdown",
   "metadata": {},
   "source": [
    "## Density plots\n",
    "\n",
    "------------------------------------------------------------------------\n",
    "\n",
    "Sometimes we may prefer to use a <span style=\"color: blue;\">**density\n",
    "plot**</span> over the histogram because the histogram is more sensitive\n",
    "to its options.\n",
    "\n",
    "-   See density plot documentation at\n",
    "    <https://r-graph-gallery.com/density-plot.htmll>"
   ],
   "id": "6a9bd796-5d89-4ded-9efa-270eb06a0974"
  },
  {
   "cell_type": "code",
   "execution_count": null,
   "metadata": {},
   "outputs": [],
   "source": [
    "plot(density(storms$pressure),\n",
    "     xlab = \"storm pressure (in millibars)\",\n",
    "     main = \"Distribution of Storm Pressure 1975-2020\")"
   ],
   "id": "39e438a9-3c40-4b94-88a2-c7d28dfc5ea4"
  },
  {
   "cell_type": "markdown",
   "metadata": {},
   "source": [
    "## Boxplots\n",
    "\n",
    "------------------------------------------------------------------------\n",
    "\n",
    "<span style=\"color: blue;\">**Boxplots**</span> are another useful plot\n",
    "for presenting the distribution of a quantitative variable using the\n",
    "five number summary.\n",
    "\n",
    "-   See boxplot documentation at\n",
    "    <https://r-graph-gallery.com/boxplot.html>"
   ],
   "id": "0931431e-0dc6-4d3a-bac9-65d5e183869e"
  },
  {
   "cell_type": "code",
   "execution_count": null,
   "metadata": {},
   "outputs": [],
   "source": [
    "boxplot(storms$pressure,\n",
    "        ylab = \"storm pressure (in millibars)\",\n",
    "        main = \"Distribution of Storm Pressure 1975-2020\")"
   ],
   "id": "e28e9252-8016-4f00-bf48-14c11945c451"
  },
  {
   "cell_type": "markdown",
   "metadata": {},
   "source": [
    "### Changing the Layout of Boxplots\n",
    "\n",
    "------------------------------------------------------------------------"
   ],
   "id": "c861e75e-d24c-4f6c-a385-3642325add7a"
  },
  {
   "cell_type": "code",
   "execution_count": null,
   "metadata": {},
   "outputs": [],
   "source": [
    "boxplot(storms$pressure,\n",
    "        xlab = \"storm pressure (in millibars)\",\n",
    "        main = \"Distribution of Storm Pressure 1975-2020\",\n",
    "        horizontal = TRUE)"
   ],
   "id": "628b2fb0-3fca-48b4-ac42-b8cd0e0fd5a1"
  },
  {
   "cell_type": "markdown",
   "metadata": {},
   "source": [
    "# One Qualitative Variable\n",
    "\n",
    "------------------------------------------------------------------------\n",
    "\n",
    "Qualitative variables may be entered as characters (such as `status` of\n",
    "storm) or values (such as `category`).\n",
    "\n",
    "-   The variable `status` is initially read as character strings, and\n",
    "    not as a `factor`.\n",
    "-   The variable `category` is initially read as character strings, and\n",
    "    not as a `factor`."
   ],
   "id": "dd8c0d14-1404-434b-94e5-a1d0aabaa930"
  },
  {
   "cell_type": "code",
   "execution_count": null,
   "metadata": {},
   "outputs": [],
   "source": [
    "typeof(storms$category)\n",
    "typeof(storms$status)"
   ],
   "id": "cdc70458-bdaf-437b-9fba-f294edde6be7"
  },
  {
   "cell_type": "markdown",
   "metadata": {},
   "source": [
    "## Caution on Using `plot()`\n",
    "\n",
    "------------------------------------------------------------------------\n",
    "\n",
    "If we try to use the general `plot()` function, R will give its best\n",
    "guess at which plot makes the most sense to display the data.\n",
    "\n",
    "-   If the data is stored as the wrong data type, `plot()` will not work\n",
    "    as we might expect.\n",
    "-   You will either need to use `table()` or convert the data type to\n",
    "    `factor` first if you prefer to use `plot()`."
   ],
   "id": "c7584b48-510b-4608-8bd3-c8f70e0fd94e"
  },
  {
   "cell_type": "code",
   "execution_count": null,
   "metadata": {},
   "outputs": [],
   "source": [
    "plot(storms$status)"
   ],
   "id": "5f253d18-ae57-4550-b8b4-5f304c8dc26a"
  },
  {
   "cell_type": "markdown",
   "metadata": {},
   "source": [
    "## Creating Barplots with `table()`, `prop.table()` and `barplot()`\n",
    "\n",
    "------------------------------------------------------------------------\n",
    "\n",
    "The command `table(x)` will count the number of times a value (or string\n",
    "of characters) occurs in `x`.\n",
    "\n",
    "-   [Official Documentation Page for\n",
    "    `table()`](https://www.rdocumentation.org/packages/base/versions/3.6.2/topics/table)\n",
    "-   [Nice resource with\n",
    "    examples](https://www.statology.org/table-function-in-r/)"
   ],
   "id": "7695eb8b-7523-47f3-8d93-50674a0c46ef"
  },
  {
   "cell_type": "code",
   "execution_count": null,
   "metadata": {},
   "outputs": [],
   "source": [
    "status.table <- table(storms$status)\n",
    "status.table"
   ],
   "id": "79990eca-1d6d-4050-a56d-8bbeac2b769a"
  },
  {
   "cell_type": "markdown",
   "metadata": {},
   "source": [
    "After creating a table, we can present the results visually in a\n",
    "<span style=\"color: blue;\">**bar chart**</span>."
   ],
   "id": "7721dd67-82fa-4c07-8aba-b0961ede0904"
  },
  {
   "cell_type": "code",
   "execution_count": null,
   "metadata": {},
   "outputs": [],
   "source": [
    "barplot(status.table, main = \"Distribution of Storm Status\",\n",
    "        ylab = \"Frequency\",\n",
    "        col = \"steelblue\")"
   ],
   "id": "3f0232ec-50a6-4cc8-ae48-84e938488b1c"
  },
  {
   "cell_type": "markdown",
   "metadata": {},
   "source": [
    "### Pie Charts with `pie()`\n",
    "\n",
    "------------------------------------------------------------------------\n",
    "\n",
    "<span style=\"color: blue;\">**Pie Charts**</span> can also be used to\n",
    "illustrate the distribution of one qualitative variable.\n",
    "\n",
    "-   See <https://r-graph-gallery.com/pie-plot.html>"
   ],
   "id": "ecdc419c-c843-4750-ace5-d15de3d51d46"
  },
  {
   "cell_type": "code",
   "execution_count": null,
   "metadata": {},
   "outputs": [],
   "source": [
    "pie(status.table, #labels = status.table,\n",
    "    main = \"Distribution of Storm Status\")"
   ],
   "id": "d54ce1ce-98bf-4c0e-b862-431b504b6e57"
  },
  {
   "cell_type": "markdown",
   "metadata": {},
   "source": [
    "The command `prop.table([table_name])` will count the proportion of all\n",
    "observations that a value (or string of characters) occurs in the table\n",
    "named `[table_name]`."
   ],
   "id": "36b91507-9175-4a9d-8641-eae747ca9c1a"
  },
  {
   "cell_type": "code",
   "execution_count": null,
   "metadata": {},
   "outputs": [],
   "source": [
    "is.table(storms$status)\n",
    "is.table(status.table)"
   ],
   "id": "1256c92c-1c81-444d-818a-e5f5a969060b"
  },
  {
   "cell_type": "markdown",
   "metadata": {},
   "source": [
    "-   The command `prop.table(storms$status)` will return an error since\n",
    "    `storms$status` is not a table."
   ],
   "id": "162ac125-2f52-4ab4-b67c-12f0385f7040"
  },
  {
   "cell_type": "code",
   "execution_count": null,
   "metadata": {},
   "outputs": [],
   "source": [
    "status.prop <- prop.table(status.table)  \n",
    "status.prop"
   ],
   "id": "e5a4473a-b1be-4b75-9e78-8432c2004d7f"
  },
  {
   "cell_type": "code",
   "execution_count": null,
   "metadata": {},
   "outputs": [],
   "source": [
    "barplot(status.prop, main = \"Relative Frequency of Storm Status\",\n",
    "        ylab = \"Proportion\",\n",
    "        col = \"steelblue\")"
   ],
   "id": "195c87ae-91b4-4b67-ab3c-f16503547245"
  },
  {
   "cell_type": "markdown",
   "metadata": {},
   "source": [
    "## Converting to Categorical Data with `factor()` and Using `plot()`\n",
    "\n",
    "------------------------------------------------------------------------\n",
    "\n",
    "-   One common issue with a categorical variable is that it is often\n",
    "    stored as a data type such as characters or integers.\n",
    "-   We would like observations with the same values to be group\n",
    "    together.\n",
    "-   Categorical data should be stored as a `factor` in R."
   ],
   "id": "4be23c72-2dee-4921-ae8c-c71faf2effb3"
  },
  {
   "cell_type": "code",
   "execution_count": null,
   "metadata": {},
   "outputs": [],
   "source": [
    "storms.fac <- storms  # creates a second copy so we don't overwrite storms\n",
    "\n",
    "storms.fac$status <- factor(storms$status)  # convert status to factor\n",
    "summary(storms.fac$status)  # get new summary of factors"
   ],
   "id": "2f2b179d-3562-4180-a3e3-64ca2ba6f226"
  },
  {
   "cell_type": "markdown",
   "metadata": {},
   "source": [
    "-   Once the variable `status` is converted to a factor, we can plot the\n",
    "    data using `plot()`. R assumes factors are best displayed with a bar\n",
    "    chart."
   ],
   "id": "c6176315-4635-44bf-97eb-ac833ab8398e"
  },
  {
   "cell_type": "code",
   "execution_count": null,
   "metadata": {},
   "outputs": [],
   "source": [
    "plot(storms.fac$status,\n",
    "     main = \"Distribution of Storms Status 1975-2020\",\n",
    "     xlab = \"Storm Status\",\n",
    "     ylab = \"Frequency\", \n",
    "     col = \"steelblue\")"
   ],
   "id": "728a27ad-d1cf-48d6-abbc-ca859d6823ce"
  },
  {
   "cell_type": "markdown",
   "metadata": {},
   "source": [
    "# Relationship Between One Quantitative and One Qualitative Variable\n",
    "\n",
    "------------------------------------------------------------------------\n",
    "\n",
    "## Subsetting Data by Category\n",
    "\n",
    "------------------------------------------------------------------------\n",
    "\n",
    "Imagine we would like to compare the wind speeds of tropical storms,\n",
    "hurricanes, and tropical depressions.\n",
    "\n",
    "-   Recall the data frame `storms` has variable `status` stored as\n",
    "    characters (not factors).\n",
    "-   We can split the data frame into three separate data frames, one for\n",
    "    each status of storm.\n",
    "-   Then make three separate boxplots of the wind speeds for each\n",
    "    status."
   ],
   "id": "eba0d239-a887-4964-b64f-d800254e9974"
  },
  {
   "cell_type": "code",
   "execution_count": null,
   "metadata": {},
   "outputs": [],
   "source": [
    "# split data by storm status\n",
    "hur <- filter(storms, status == \"hurricane\")\n",
    "trop.storm <- filter(storms, status == \"tropical storm\")\n",
    "trop.dep <- filter(storms, status == \"tropical depression\")\n",
    "\n",
    "# Create side by side boxplot\n",
    "boxplot(hur$wind, trop.storm$wind, trop.dep$wind, \n",
    "        main = \"Windspeed of Storms (knots)\", \n",
    "        names = c(\"Hurricanes\", \"Tropical Storms\", \"Tropical Depressions\"), \n",
    "        col = c(\"red\", \"blue\", \"green\"), \n",
    "        horizontal = TRUE)"
   ],
   "id": "8942428e-2352-43f2-9db0-d22b7377e783"
  },
  {
   "cell_type": "markdown",
   "metadata": {},
   "source": [
    "## Converting to Factors and Using `plot()`\n",
    "\n",
    "------------------------------------------------------------------------\n",
    "\n",
    "-   One common issue with a categorical variable is that it is often\n",
    "    stored as a data type such as characters or integers.\n",
    "-   We would like observations with the same values to be group\n",
    "    together.\n",
    "-   Categorical data should be stored as a `factor` in R."
   ],
   "id": "129d0dac-4b51-4986-8246-ef8141ed72f4"
  },
  {
   "cell_type": "code",
   "execution_count": null,
   "metadata": {},
   "outputs": [],
   "source": [
    "storms.fac <- storms  # creates a second copy so we don't overwrite storms\n",
    "storms.fac$status <- factor(storms$status)  # convert status to factor"
   ],
   "id": "4f5cee85-2e84-4c21-9472-64f2cef79063"
  },
  {
   "cell_type": "markdown",
   "metadata": {},
   "source": [
    "-   Once the variable `status` is converted to a factor, R will assume\n",
    "    we want to plot each class of the factor on a separate plot. Since\n",
    "    `wind` is numeric, `plot()` will create a boxplot for each category.\n",
    "-   **One advantage of converting to factors first is we do not need to\n",
    "    subset the data!**"
   ],
   "id": "9ca62d86-22a5-4a58-82f3-709e6d51fc1b"
  },
  {
   "cell_type": "code",
   "execution_count": null,
   "metadata": {},
   "outputs": [],
   "source": [
    "plot(wind ~ status, data = storms.fac, \n",
    "     col = c(\"forestgreen\", \"blueviolet\", \"azure4\"))"
   ],
   "id": "0b4ffd9b-e4d3-4eea-80f8-98070af0acf3"
  },
  {
   "cell_type": "markdown",
   "metadata": {},
   "source": [
    "# Relationship Between Two Qualitative Variables\n",
    "\n",
    "------------------------------------------------------------------------\n",
    "\n",
    "## Creating Grouped Frequency Barplots with `table()`, `prop.table()` and `barplot()`\n",
    "\n",
    "------------------------------------------------------------------------\n",
    "\n",
    "### Grouped Frequency Barplots\n",
    "\n",
    "------------------------------------------------------------------------\n",
    "\n",
    "The command `table(x)` will count the number of times a value (or string\n",
    "of characters) occurs in `x`.\n",
    "\n",
    "-   [Official Documentation Page for\n",
    "    `table()`](https://www.rdocumentation.org/packages/base/versions/3.6.2/topics/table)\n",
    "-   [Nice resource with\n",
    "    examples](https://www.statology.org/table-function-in-r/)"
   ],
   "id": "2f1d4598-d8a4-42da-bb4c-75ca9c909945"
  },
  {
   "cell_type": "code",
   "execution_count": null,
   "metadata": {},
   "outputs": [],
   "source": [
    "con.table <- table(storms$status, storms$month)\n",
    "con.table"
   ],
   "id": "ac37091a-9994-4752-955f-63cb3611c64e"
  },
  {
   "cell_type": "markdown",
   "metadata": {},
   "source": [
    "After creating a table, we can present the results visually in a\n",
    "<span style=\"color: blue;\">**group bar chart**</span>.\n",
    "\n",
    "-   See documentation at\n",
    "    <https://r-graph-gallery.com/211-basic-grouped-or-stacked-barplot.html>."
   ],
   "id": "d718296d-eae3-4c88-aa4c-f884f73ae724"
  },
  {
   "cell_type": "code",
   "execution_count": null,
   "metadata": {},
   "outputs": [],
   "source": [
    "barplot(con.table, beside = TRUE,  # groups side-by-side\n",
    "        legend=rownames(con.table),\n",
    "        main = \"Storm Types Each Month: 1975-2020\",\n",
    "        xlab = \"Month\",\n",
    "        ylab = \"Frequency\")"
   ],
   "id": "7c1e0fb2-3077-4d28-bfbd-33b5f7e36927"
  },
  {
   "cell_type": "markdown",
   "metadata": {},
   "source": [
    "### Grouped Frequency Barplots\n",
    "\n",
    "------------------------------------------------------------------------\n",
    "\n",
    "-   Note `beside = FALSE` is the default.\n",
    "-   If we do not specify a `beside` option, a **stacked barplot** is\n",
    "    created."
   ],
   "id": "7c6cdc06-2385-4d78-9499-8b1996bb28fd"
  },
  {
   "cell_type": "code",
   "execution_count": null,
   "metadata": {},
   "outputs": [],
   "source": [
    "barplot(con.table,  # groups side-by-side\n",
    "        legend=rownames(con.table),\n",
    "        main = \"Storm Types Each Month: 1975-2020\",\n",
    "        xlab = \"Month\",\n",
    "        ylab = \"Frequency\")"
   ],
   "id": "c6c3860e-b8c4-4fc8-a243-0929998998b7"
  },
  {
   "cell_type": "markdown",
   "metadata": {},
   "source": [
    "## Creating Stacked Relative Frequency Barplots with `table()`, `prop.table()` and `barplot()`\n",
    "\n",
    "------------------------------------------------------------------------\n",
    "\n",
    "### Creating Joint Distribution Tables\n",
    "\n",
    "-   First we create a contingency table using `table(x, y)`.\n",
    "-   Then we use `prop.table([table_name])` to convert to frequencies to\n",
    "    proportions out of the grand total."
   ],
   "id": "98f2538c-5ade-418a-a7c8-ebd15db0bd3a"
  },
  {
   "cell_type": "code",
   "execution_count": null,
   "metadata": {},
   "outputs": [],
   "source": [
    "con.prop <- prop.table(con.table)  # contingency table percentage of all observations\n",
    "con.prop"
   ],
   "id": "4167a6e2-e956-4a03-82f0-4815547577fa"
  },
  {
   "cell_type": "markdown",
   "metadata": {},
   "source": [
    "Often, we would like the proportions in the table to be computed out of\n",
    "the total in each row (instead of the grand total).\n",
    "\n",
    "-   We add the option `1` inside `prop.table()`."
   ],
   "id": "801906fa-5d96-4cd2-9f94-628729fc99cd"
  },
  {
   "cell_type": "code",
   "execution_count": null,
   "metadata": {},
   "outputs": [],
   "source": [
    "con.prop.row <- prop.table(con.table,1)  # contingency table percentage row total\n",
    "con.prop.row"
   ],
   "id": "0fc650b9-048d-464d-afb7-cab0bcf53993"
  },
  {
   "cell_type": "markdown",
   "metadata": {},
   "source": [
    "Other times, we would like the proportions in the table to be computed\n",
    "out of the total in each column.\n",
    "\n",
    "-   We add the option `2` inside `prop.table()`."
   ],
   "id": "1014bad9-747a-496b-8696-cb385e1d2daf"
  },
  {
   "cell_type": "code",
   "execution_count": null,
   "metadata": {},
   "outputs": [],
   "source": [
    "con.prop.col <- prop.table(con.table,2)  # contingency table percentage column total\n",
    "con.prop.col"
   ],
   "id": "cf4e4723-d4cc-4970-a1c9-e4e3cfa7948e"
  },
  {
   "cell_type": "markdown",
   "metadata": {},
   "source": [
    "### Creating a Barplot from a Contingency Table\n",
    "\n",
    "------------------------------------------------------------------------\n",
    "\n",
    "Now we can create a stacked relative frequency barplot."
   ],
   "id": "3caa3c81-55b5-4baa-9679-1b1dc8175b93"
  },
  {
   "cell_type": "code",
   "execution_count": null,
   "metadata": {},
   "outputs": [],
   "source": [
    "barplot(con.prop.col,\n",
    "        legend=rownames(con.prop.col),\n",
    "        main = \"Storm Types Each Month: 1975-2020\",\n",
    "        xlab = \"Month\",\n",
    "        ylab = \"Proportion\")"
   ],
   "id": "34f3382b-fffe-497a-b9b9-35f23af79040"
  },
  {
   "cell_type": "markdown",
   "metadata": {},
   "source": [
    "## Converting to Factors and Using `plot()`\n",
    "\n",
    "------------------------------------------------------------------------\n",
    "\n",
    "-   One common issue with a categorical variable is that it is often\n",
    "    stored as a data type such as characters or integers.\n",
    "-   We would like observations with the same values to be group\n",
    "    together.\n",
    "-   Categorical data should be stored as a `factor` in R."
   ],
   "id": "ba975a88-159f-4f50-8a03-23cbeec231f8"
  },
  {
   "cell_type": "code",
   "execution_count": null,
   "metadata": {},
   "outputs": [],
   "source": [
    "storms.fac <- storms  # creates a second copy so we don't overwrite storms\n",
    "storms.fac$status <- factor(storms$status)  # convert status to factor\n",
    "storms.fac$month <- factor(storms$month)  # convert month to factor"
   ],
   "id": "94faa843-dcf1-42dd-ba25-35ec085b7df3"
  },
  {
   "cell_type": "markdown",
   "metadata": {},
   "source": [
    "-   Once the variables `status` and `month` are converted to factors,\n",
    "    the `plot()` function in R will recognize the data types and\n",
    "    generate a stacked barplot by default.\n",
    "-   **One advantage of converting to factors first is we do not need to\n",
    "    create tables!**\n",
    "-   The graph below is not so clear, but you can adjust using options."
   ],
   "id": "5cfb3aa1-1c6d-4855-b880-abedf13edf1f"
  },
  {
   "cell_type": "code",
   "execution_count": null,
   "metadata": {},
   "outputs": [],
   "source": [
    "plot(status ~ month, data = storms.fac, \n",
    "     col = c(\"forestgreen\", \"blueviolet\", \"azure4\"))"
   ],
   "id": "44e1d6b1-f4f9-4f9e-b71a-12fb5e9fe19f"
  },
  {
   "cell_type": "markdown",
   "metadata": {},
   "source": [
    "# Relationship Between Two Quantitative Variables\n",
    "\n",
    "------------------------------------------------------------------------\n",
    "\n",
    "Bivariate <span style=\"color: blue;\">**scatter plots**</span> can be\n",
    "used to identify the relationship between two quantitative variables.\n",
    "\n",
    "-   See documentation: <https://r-graph-gallery.com/scatterplot.html>"
   ],
   "id": "f141d355-1d27-42c3-84d9-3a31aad2ca4a"
  },
  {
   "cell_type": "code",
   "execution_count": null,
   "metadata": {},
   "outputs": [],
   "source": [
    "plot(wind ~ pressure, data = storms,\n",
    "     main = \"Relation of Pressure and Wind Speed of Storms\",\n",
    "     xlab = \"Pressure (in millibars)\",\n",
    "     ylab = \"Wind Speed (in knots)\")"
   ],
   "id": "d3cb12a8-de87-4b7d-94e7-4c4351579823"
  },
  {
   "cell_type": "markdown",
   "metadata": {},
   "source": [
    "# Arranging Multiple Plots in an Array\n",
    "\n",
    "------------------------------------------------------------------------\n",
    "\n",
    "-   The command `par(mfrow =c(n,m)` creates an array of $n$ rows and $m$\n",
    "    columns.\n",
    "-   Plots will fill the array based on the order they are plotted.\n",
    "-   See\n",
    "    <https://bookdown.org/ndphillips/YaRrr/arranging-plots-with-parmfrow-and-layout.html>\n",
    "    for more info.\n",
    "-   Be sure to reset the settings to display one plot per figure with\n",
    "    `par(mfrow = c(1, 1))` if you want to go back to displaying one plot\n",
    "    per window."
   ],
   "id": "11a9ea17-2752-486b-a811-32f22dd67752"
  },
  {
   "cell_type": "code",
   "execution_count": null,
   "metadata": {},
   "outputs": [],
   "source": [
    "par(mfrow = c(2, 2))  # Create a 2 x 2 array of plots\n",
    "\n",
    "# The next 5 plots created will be arranged in the array\n",
    "boxplot(storms$wind)  # create boxplot of wind speed\n",
    "\n",
    "# Code below creates a histogram of wind speed\n",
    "# We can add many options to customize\n",
    "hist(storms$wind, xlab = \"wind speed (in knots)\",   # x-axis label\n",
    "     ylab = \"Frequency\",  # y-axis label\n",
    "     main = \"Distribution of Storm Wind Speed 1975-2020\",  # main label\n",
    "     col = \"steelblue\")  # change color of bars\n",
    "\n",
    "plot(storms.fac$status, col = \"gold\")  # plots status, which is categorical\n",
    "\n",
    "plot(wind ~ pressure, data = storms)  # plots two numerical variables"
   ],
   "id": "7d96b81b-907f-43e0-8293-82a3cdac1ecd"
  },
  {
   "cell_type": "code",
   "execution_count": null,
   "metadata": {},
   "outputs": [],
   "source": [
    "par(mfrow = c(1, 1))   # change settings so one image displayed in a window\n",
    "\n",
    "# Compare numerical wind speed for different categories of storms\n",
    "plot(wind ~ status, data = storms.fac, col = \"springgreen4\")"
   ],
   "id": "fd846459-f25b-4848-988f-c2cb521f0a2a"
  },
  {
   "cell_type": "markdown",
   "metadata": {},
   "source": [
    "# Optional: More Advanced Plots with `ggplot2`\n",
    "\n",
    "------------------------------------------------------------------------\n",
    "\n",
    "The previous plots were created using R’s **base** graphics system.\n",
    "\n",
    "-   **base** graphics are fast and simple to produce while looking\n",
    "    professional.\n",
    "\n",
    "A fancier alternative is to construct plots using the `ggplot2` package.\n",
    "\n",
    "-   The `gg` stands for **Grammar of Graphics**.\n",
    "\n",
    "In its simplest form, to construct a (useful) plot in `ggplot2`, you\n",
    "need to provide:\n",
    "\n",
    "-   A `ggplot` object.\n",
    "    -   This is usually the object that holds your data frame.\n",
    "    -   The data frame is passed to `ggplot` via the first `data`\n",
    "        argument.\n",
    "-   A geometry object.\n",
    "    -   Roughly speaking, this is the *kind* of plot you want.\n",
    "    -   e.g., `geom_histogram` for a histogram, `geom_point` for a\n",
    "        scatter plot, `geom_density` for a density plot.\n",
    "-   An aesthetic mapping.\n",
    "    -   Aesthetic mappings describe how variables in the data are mapped\n",
    "        to visual properties of a geometry.\n",
    "    -   This is where you specify which variable with be the `x`\n",
    "        variable, the `y` variable, which variable will control color in\n",
    "        the plots, etc.\n",
    "-   See <https://ggplot2.tidyverse.org> for documentation.\n",
    "-   Go to `Help -> Cheat Sheets -> Data Visualization with ggplot2`.\n",
    "\n",
    "## Loading `ggplot2`\n",
    "\n",
    "------------------------------------------------------------------------"
   ],
   "id": "ceecba41-ce85-4741-b786-ab28cea08dff"
  },
  {
   "cell_type": "code",
   "execution_count": null,
   "metadata": {},
   "outputs": [],
   "source": [
    "library(ggplot2)  # make sure you have installed ggplot2 package"
   ],
   "id": "dfe6aa4c-1af1-446f-84a1-cad169c3f1f1"
  },
  {
   "cell_type": "markdown",
   "metadata": {},
   "source": [
    "## Plotting One Numerical Variable with `ggplot2`\n",
    "\n",
    "------------------------------------------------------------------------"
   ],
   "id": "0c4c0e0d-389a-4400-8da5-17b7af0b822d"
  },
  {
   "cell_type": "code",
   "execution_count": null,
   "metadata": {},
   "outputs": [],
   "source": [
    "ggplot(storms, aes(x = wind)) + \n",
    "  geom_histogram(fill = \"steelblue\", color=\"black\")"
   ],
   "id": "8540d128-9106-4708-8a7d-58074aed5e04"
  },
  {
   "cell_type": "code",
   "execution_count": null,
   "metadata": {},
   "outputs": [],
   "source": [
    "ggplot(storms, aes(x = wind)) + \n",
    "  geom_density(color=\"red\") + \n",
    "  theme_bw() # adding theme_bw()  makes white background"
   ],
   "id": "f2d15e95-5d38-4d10-8271-ef639c67002a"
  },
  {
   "cell_type": "code",
   "execution_count": null,
   "metadata": {},
   "outputs": [],
   "source": [
    "# adding theme_bw()  makes white background\n",
    "ggplot(storms, aes(x = wind)) + \n",
    "  geom_boxplot(color=\"black\", fill=\"blueviolet\")"
   ],
   "id": "95886c4f-2d38-448f-9984-f0b82323fe7f"
  },
  {
   "cell_type": "markdown",
   "metadata": {},
   "source": [
    "## Scatter Plots with `ggplot2`\n",
    "\n",
    "------------------------------------------------------------------------"
   ],
   "id": "be894a36-633b-4d5f-a7bc-258198eabb78"
  },
  {
   "cell_type": "code",
   "execution_count": null,
   "metadata": {},
   "outputs": [],
   "source": [
    "ggplot(storms) + \n",
    "  geom_point(aes(x = pressure, y = wind))"
   ],
   "id": "0fdc428d-8300-499f-abf2-5cffc2360aa2"
  },
  {
   "cell_type": "markdown",
   "metadata": {},
   "source": [
    "## Scaling **ggplot2** plots\n",
    "\n",
    "------------------------------------------------------------------------\n",
    "\n",
    "In general, *scaling* is the process by which `ggplot2` maps variables\n",
    "to unique values. When this is done for discrete or categorical\n",
    "variables, `ggplot2` will often scale the variable to distinct colors,\n",
    "symbols, or sizes, depending on the aesthetic mapped.\n",
    "\n",
    "In the example below, we map the `status` variable to the `color`\n",
    "aesthetic, which is then scaled to different colors for the different\n",
    "`status` levels."
   ],
   "id": "8d6f5165-fb6e-44db-812c-ce76844e82cc"
  },
  {
   "cell_type": "code",
   "execution_count": null,
   "metadata": {},
   "outputs": [],
   "source": [
    "ggplot(storms) + \n",
    "  geom_point(aes(x = pressure, y = wind, color = status))"
   ],
   "id": "8a76fe5a-031f-4e1f-b7fd-22405743ea3c"
  },
  {
   "cell_type": "markdown",
   "metadata": {},
   "source": [
    "Alternatively, we can map the `status` variable to the `shape`\n",
    "aesthetic, which creates a plot with different shapes for each\n",
    "observation based on the `status` level."
   ],
   "id": "135e8af7-3d33-4970-9498-69b5dbb98dc2"
  },
  {
   "cell_type": "code",
   "execution_count": null,
   "metadata": {},
   "outputs": [],
   "source": [
    "ggplot(storms) + \n",
    "  geom_point(aes(x = pressure, y = wind, shape = status))"
   ],
   "id": "74b88a16-5bb1-4d7a-9eaa-0950617b09c3"
  },
  {
   "cell_type": "markdown",
   "metadata": {},
   "source": [
    "We can even combine these two aesthetic mappings in a single plot to get\n",
    "different colors and symbols for each level of `month` and status,\n",
    "respectively."
   ],
   "id": "4e430bf9-e5e2-4e81-b9e0-12e42104a24b"
  },
  {
   "cell_type": "code",
   "execution_count": null,
   "metadata": {},
   "outputs": [],
   "source": [
    "ggplot(storms) + \n",
    "  geom_point(aes(x = pressure, y = wind, color = month, shape = status))"
   ],
   "id": "a8b7c686-4554-45dc-a341-ebdd8f4a1cce"
  },
  {
   "cell_type": "markdown",
   "metadata": {},
   "source": [
    "## Facetting in `ggplot2`\n",
    "\n",
    "------------------------------------------------------------------------\n",
    "\n",
    "<span style=\"color: blue;\">**Faceting**</span> creates separate panels\n",
    "(facets) of a data frame based on one or more faceting variables.\n",
    "\n",
    "Below, we facet the data by the `category`."
   ],
   "id": "ceace5cd-74b5-463d-a347-6e47451611de"
  },
  {
   "cell_type": "code",
   "execution_count": null,
   "metadata": {},
   "outputs": [],
   "source": [
    "ggplot(storms) + \n",
    "  geom_point(aes(x = pressure, y = wind)) + \n",
    "  facet_grid(~ category)"
   ],
   "id": "6529a0e0-9792-48ea-916f-7b17672bc98a"
  },
  {
   "cell_type": "markdown",
   "metadata": {},
   "source": [
    "## Grouped Barplots with `ggplot2`\n",
    "\n",
    "------------------------------------------------------------------------"
   ],
   "id": "4b7bb227-c0da-431f-a634-b97c094ec942"
  },
  {
   "cell_type": "code",
   "execution_count": null,
   "metadata": {},
   "outputs": [],
   "source": [
    "# stacks bars on top of each other \n",
    "ggplot(storms, aes(x=month)) + \n",
    "    geom_bar(aes(fill=status), stat = \"count\", position=\"stack\") + \n",
    "    ggtitle(\"Occurrence of Storms by Month: 1975-2020\")"
   ],
   "id": "33b0c012-898b-46aa-9194-27a030efa841"
  },
  {
   "cell_type": "code",
   "execution_count": null,
   "metadata": {},
   "outputs": [],
   "source": [
    "# side by side groupings\n",
    "ggplot(storms, aes(x=month)) + \n",
    "    geom_bar(aes(fill=status), stat = \"count\", position=\"dodge\") +  \n",
    "    ggtitle(\"Occurrence of Storms by Month: 1975-2020\")"
   ],
   "id": "2885249a-df7f-463c-b38a-09e1c34f1940"
  },
  {
   "cell_type": "code",
   "execution_count": null,
   "metadata": {},
   "outputs": [],
   "source": [
    "# stacks bars and standardizing each stack\n",
    "ggplot(storms, aes(x=month)) + \n",
    "    geom_bar(aes(fill=status), stat = \"count\", position=\"fill\") +  \n",
    "    ggtitle(\"Occurrence of Storms by Month: 1975-2020\")"
   ],
   "id": "9bf2807c-80db-45ad-9da0-8b8e9ab50b9d"
  },
  {
   "cell_type": "markdown",
   "metadata": {},
   "source": [
    "# Optional: Spatial Plots with `mapview`\n",
    "\n",
    "------------------------------------------------------------------------\n",
    "\n",
    "## Load Library\n",
    "\n",
    "------------------------------------------------------------------------"
   ],
   "id": "4898082b-88e0-4fec-ba4f-021e548fae22"
  },
  {
   "cell_type": "code",
   "execution_count": null,
   "metadata": {},
   "outputs": [],
   "source": [
    "library(mapview)  # load spatial mapping package"
   ],
   "id": "a9561b9f-8a70-4fe5-a30a-1615532c9e50"
  },
  {
   "cell_type": "markdown",
   "metadata": {},
   "source": [
    "## Mapping All Storms by Status\n",
    "\n",
    "------------------------------------------------------------------------"
   ],
   "id": "a2614d5c-2005-4458-8eb9-870d2ab9cc11"
  },
  {
   "cell_type": "code",
   "execution_count": null,
   "metadata": {},
   "outputs": [],
   "source": [
    "mapview(storms, xcol = \"long\", ycol = \"lat\", \n",
    "        zcol = \"status\", \n",
    "        crs = 4269, grid = FALSE)"
   ],
   "id": "bf8f98b9-ae0f-4363-b5ce-84139535129b"
  },
  {
   "cell_type": "markdown",
   "metadata": {},
   "source": [
    "## Mapping Category 5 Hurricanes\n",
    "\n",
    "------------------------------------------------------------------------\n",
    "\n",
    "First we filter out observations with `category` equal to 5."
   ],
   "id": "660fb952-14c5-439a-b00b-3a99d3eb5965"
  },
  {
   "cell_type": "code",
   "execution_count": null,
   "metadata": {},
   "outputs": [],
   "source": [
    "cat5 <- subset(storms , category == \"5\")  # keep only category 5"
   ],
   "id": "ea33aafa-faca-44e1-8fb3-a9410c13b3f1"
  },
  {
   "cell_type": "code",
   "execution_count": null,
   "metadata": {},
   "outputs": [],
   "source": [
    "mapview(cat5, xcol = \"long\", ycol = \"lat\", cex = \"wind\", crs = 4269, grid = FALSE)"
   ],
   "id": "2f52e3f4-507d-4217-ac20-5afae7ed416c"
  },
  {
   "cell_type": "code",
   "execution_count": null,
   "metadata": {},
   "outputs": [],
   "source": [
    "mapview(cat5, xcol = \"long\", ycol = \"lat\", zcol = \"name\", cex = \"wind\", crs = 4269, grid = FALSE)"
   ],
   "id": "58522e74-19f2-44fb-b1a2-d0aa55ac17aa"
  }
 ],
 "nbformat": 4,
 "nbformat_minor": 5,
 "metadata": {
  "kernelspec": {
   "name": "ir",
   "display_name": "R",
   "language": "R"
  }
 }
}
