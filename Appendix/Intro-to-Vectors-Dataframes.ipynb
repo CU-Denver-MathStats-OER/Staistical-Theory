{
  "cells": [
    {
      "cell_type": "markdown",
      "metadata": {
        "id": "173b5c5f-ce8e-4ec8-acc4-90252f876600"
      },
      "source": [
        "[![Open In Colab](https://colab.research.google.com/assets/colab-badge.svg)](https://githubtocolab.com/CU-Denver-MathStats-OER/ODEs/blob/main/Chp1/00-Introduction.ipynb)\n"
      ],
      "id": "173b5c5f-ce8e-4ec8-acc4-90252f876600"
    },
    {
      "cell_type": "markdown",
      "metadata": {
        "id": "b5892d34-2ce0-48ad-89c1-2a22d42931bd"
      },
      "source": [
        "# <a name=\"intro\">Fundamentals of Working with Data </a>\n",
        "---\n",
        "\n",
        "Understanding the data types of the variables in our data set, and the structure of our data is crucial before we can identify what aspects might need to be cleaned and transformed so we can perform statistical analysis more efficiently.\n",
        "\n",
        "\n",
        "This notebook is intended to be a brief overview of some fundamentals of working with data in R.\n",
        "\n",
        "- [How to save and display output of from commands?](#assign)\n",
        "- [What are the basic data types?](#data-types)\n",
        "- [How to convert data types?](#change-type)\n",
        "- [What are the data structures in R?](#structures)\n",
        "- How to [create](#create-df) or [import a data frame](#importing)?\n",
        "- [How to slice and extract rows and columns of a data frame](#extract)?\n",
        "\n",
        "These topics are important. This notebook just scratches the surface on many concepts. If you do not find a complete answer here, there are free resources online that dig deeper and more completely. Below is one such recommended reference.\n",
        "\n",
        "- [Programming with R Guide to Data Types and Structures](https://swcarpentry.github.io/r-novice-inflammation/13-supp-data-structures/)\n"
      ],
      "id": "b5892d34-2ce0-48ad-89c1-2a22d42931bd"
    },
    {
      "cell_type": "markdown",
      "source": [
        "\n",
        "## <a name=\"load\">Loading Packages with the `library()` Command</a>\n",
        "---\n",
        "\n",
        "\n",
        "To explore some fundamentals of working with data in R, we will use the `storms` data set which is located in the package `dplyr`.\n",
        "\n",
        "-   The `dplyr` package is already installed in Google Colaboratory\n",
        "-   We still need to use a `library` command to load the package.\n",
        "-   <font color=\"dodgerblue\">**Run the code cell below to load the `dplyr` package.**</font>\n"
      ],
      "metadata": {
        "id": "KIfZ3zFIrAqW"
      },
      "id": "KIfZ3zFIrAqW"
    },
    {
      "cell_type": "code",
      "execution_count": null,
      "metadata": {
        "id": "d2b5bd4f-f53b-4738-bce9-7f31ffb8f04d",
        "outputId": "63d874da-31f8-4ea4-d1ed-2fb868c701af",
        "colab": {
          "base_uri": "https://localhost:8080/"
        }
      },
      "outputs": [
        {
          "output_type": "stream",
          "name": "stderr",
          "text": [
            "\n",
            "Attaching package: ‘dplyr’\n",
            "\n",
            "\n",
            "The following objects are masked from ‘package:stats’:\n",
            "\n",
            "    filter, lag\n",
            "\n",
            "\n",
            "The following objects are masked from ‘package:base’:\n",
            "\n",
            "    intersect, setdiff, setequal, union\n",
            "\n",
            "\n"
          ]
        }
      ],
      "source": [
        "# load the library of functions and data in dplyr\n",
        "library(dplyr)"
      ],
      "id": "d2b5bd4f-f53b-4738-bce9-7f31ffb8f04d"
    },
    {
      "cell_type": "markdown",
      "source": [
        "## <a name=\"help\">Help Documentation</a>\n",
        "---\n",
        "\n",
        "The functions introduced in this document have robust help documentation with lots of options to customize. If you want to view help documentation for any of the functions used in this document, run commands such`?typeof`, `?is.numeric`, `?read.table`, and so on."
      ],
      "metadata": {
        "id": "78pKHWclrf4S"
      },
      "id": "78pKHWclrf4S"
    },
    {
      "cell_type": "code",
      "execution_count": null,
      "metadata": {
        "id": "b6ee9f16-81aa-4ba7-82ce-6ba035b40bac"
      },
      "outputs": [],
      "source": [
        "# access help documentation for storms\n",
        "?storms  # side panel should open with help manual for storms"
      ],
      "id": "b6ee9f16-81aa-4ba7-82ce-6ba035b40bac"
    },
    {
      "cell_type": "code",
      "execution_count": null,
      "metadata": {
        "id": "2a1769d2-ae5d-4bfd-81aa-6533973d3dd3"
      },
      "outputs": [],
      "source": [
        "# access help documentation for typeof\n",
        "?typeof"
      ],
      "id": "2a1769d2-ae5d-4bfd-81aa-6533973d3dd3"
    },
    {
      "cell_type": "markdown",
      "metadata": {
        "id": "40eb1fcf-6f5b-4c86-ac9e-f358f754dfed"
      },
      "source": [
        "# <a name=\"know-data\">Getting to Know Our Data</a>\n",
        "---\n",
        "\n",
        "The package `dplyr` contains a data set called `storms`. Let’s find some\n",
        "useful information about this data.\n",
        "\n",
        "-   The code cell below will provide a numeric summary of all variables in the `storms` data.\n",
        "-   Recall we need to first run the command `library(dplyr)` in the code cell above to be able to access `storms`."
      ],
      "id": "40eb1fcf-6f5b-4c86-ac9e-f358f754dfed"
    },
    {
      "cell_type": "code",
      "execution_count": null,
      "metadata": {
        "id": "998440bf-3e94-43a6-985e-c88dcc897ebc",
        "outputId": "d87cf90c-a2ee-41b7-e494-7e6c9f3da6a4",
        "colab": {
          "base_uri": "https://localhost:8080/",
          "height": 589
        }
      },
      "outputs": [
        {
          "output_type": "display_data",
          "data": {
            "text/plain": [
              "     name                year          month             day       \n",
              " Length:19066       Min.   :1975   Min.   : 1.000   Min.   : 1.00  \n",
              " Class :character   1st Qu.:1993   1st Qu.: 8.000   1st Qu.: 8.00  \n",
              " Mode  :character   Median :2004   Median : 9.000   Median :16.00  \n",
              "                    Mean   :2002   Mean   : 8.699   Mean   :15.78  \n",
              "                    3rd Qu.:2012   3rd Qu.: 9.000   3rd Qu.:24.00  \n",
              "                    Max.   :2021   Max.   :12.000   Max.   :31.00  \n",
              "                                                                   \n",
              "      hour             lat             long                         status    \n",
              " Min.   : 0.000   Min.   : 7.00   Min.   :-109.30   tropical storm     :6684  \n",
              " 1st Qu.: 5.000   1st Qu.:18.40   1st Qu.: -78.70   hurricane          :4684  \n",
              " Median :12.000   Median :26.60   Median : -62.25   tropical depression:3525  \n",
              " Mean   : 9.094   Mean   :26.99   Mean   : -61.52   extratropical      :2068  \n",
              " 3rd Qu.:18.000   3rd Qu.:33.70   3rd Qu.: -45.60   other low          :1405  \n",
              " Max.   :23.000   Max.   :70.70   Max.   :  13.50   subtropical storm  : 292  \n",
              "                                                    (Other)            : 408  \n",
              "    category          wind           pressure      tropicalstorm_force_diameter\n",
              " Min.   :1.000   Min.   : 10.00   Min.   : 882.0   Min.   :   0.0              \n",
              " 1st Qu.:1.000   1st Qu.: 30.00   1st Qu.: 987.0   1st Qu.:   0.0              \n",
              " Median :1.000   Median : 45.00   Median :1000.0   Median : 110.0              \n",
              " Mean   :1.898   Mean   : 50.02   Mean   : 993.6   Mean   : 146.3              \n",
              " 3rd Qu.:3.000   3rd Qu.: 65.00   3rd Qu.:1007.0   3rd Qu.: 220.0              \n",
              " Max.   :5.000   Max.   :165.00   Max.   :1024.0   Max.   :1440.0              \n",
              " NA's   :14382                                     NA's   :9512                \n",
              " hurricane_force_diameter\n",
              " Min.   :  0.00          \n",
              " 1st Qu.:  0.00          \n",
              " Median :  0.00          \n",
              " Mean   : 14.81          \n",
              " 3rd Qu.:  0.00          \n",
              " Max.   :300.00          \n",
              " NA's   :9512            "
            ]
          },
          "metadata": {}
        }
      ],
      "source": [
        "# get a numerical summary of all variables\n",
        "summary(storms)"
      ],
      "id": "998440bf-3e94-43a6-985e-c88dcc897ebc"
    },
    {
      "cell_type": "markdown",
      "metadata": {
        "id": "8427a0c9-f15a-45ba-9280-2adc4d744beb"
      },
      "source": [
        "## <a name=\"na\">Missing Data</a>\n",
        "---\n",
        "\n",
        "A <font color=\"dodgerblue\">**missing value**</font> occurs when the value of something isn’t known. R uses the special object `NA` to represent missing value. If you have a missing value, you should represent that value as `NA`. Note: The character string `\"NA\"` is not the same thing as `NA`.\n",
        "\n",
        "-   The `storms` data has properly coded 14,382 missing values for `category` since storms that are not hurricanes do not have a category.\n",
        "-   The `storms` data has properly coded 9,512 missing values for each of `tropicalstorm_force_diameter` and `hurricane_force_diameter` since these value only began being recorded in 2004.\n"
      ],
      "id": "8427a0c9-f15a-45ba-9280-2adc4d744beb"
    },
    {
      "cell_type": "markdown",
      "source": [
        "# <a name=\"assign\">Assignment to New (or Existing) Objects</a>\n",
        "---\n",
        "\n",
        "To store a data structure in the computer’s memory we must assign it a\n",
        "name.\n",
        "\n",
        "Data structures can be stored using the assignment operator `<-` or `=`.\n",
        "\n",
        "Some comments:\n",
        "\n",
        "-   In general, both `<-` and `=` *can* be used for assignment.\n",
        "-   `<-` and `=` can be used identically most of the time, but not always.\n",
        "-   <font color=\"dodgerblue\">**It’s safer and more conventional to use `<-` for assignment**</font>.\n",
        "\n",
        "In the following code, we compute the mean of a vector. **Why can’t we\n",
        "see the result after running it**?"
      ],
      "metadata": {
        "id": "74rW83DPs_Z6"
      },
      "id": "74rW83DPs_Z6"
    },
    {
      "cell_type": "code",
      "execution_count": null,
      "metadata": {
        "id": "f140dcb0-756d-4490-9df3-0d6970cab43c"
      },
      "outputs": [],
      "source": [
        "w <- storms$wind  # wind is now stored in w\n",
        "xbar.w <- mean(w)  # compute mean wind speed and assign to xbar.w"
      ],
      "id": "f140dcb0-756d-4490-9df3-0d6970cab43c"
    },
    {
      "cell_type": "markdown",
      "metadata": {
        "id": "e88dd443-c41d-4ec4-ba6b-1630d0f1f63c"
      },
      "source": [
        "-   Once an object has been assigned a name, it can be printed by\n",
        "    executing the name of the object."
      ],
      "id": "e88dd443-c41d-4ec4-ba6b-1630d0f1f63c"
    },
    {
      "cell_type": "code",
      "execution_count": null,
      "metadata": {
        "id": "47780623-5ce7-4b23-a6fb-cb4b034e964e",
        "outputId": "d7c6ac60-87c0-4970-cc5c-58de6c141c92",
        "colab": {
          "base_uri": "https://localhost:8080/",
          "height": 34
        }
      },
      "outputs": [
        {
          "output_type": "display_data",
          "data": {
            "text/html": [
              "50.0174131962656"
            ],
            "text/markdown": "50.0174131962656",
            "text/latex": "50.0174131962656",
            "text/plain": [
              "[1] 50.01741"
            ]
          },
          "metadata": {}
        }
      ],
      "source": [
        "xbar.w  # print the mean wind speed to screen"
      ],
      "id": "47780623-5ce7-4b23-a6fb-cb4b034e964e"
    },
    {
      "cell_type": "markdown",
      "metadata": {
        "id": "53518142-0fae-4ca8-9b82-d4846a4d89d2"
      },
      "source": [
        "-   We can also print an object to screen using the `print()` function."
      ],
      "id": "53518142-0fae-4ca8-9b82-d4846a4d89d2"
    },
    {
      "cell_type": "code",
      "execution_count": null,
      "metadata": {
        "id": "3f7751de-c6f9-4899-9061-3fd91e07a8c3",
        "outputId": "985c18cb-c78d-4997-be47-3799a3e0d2db",
        "colab": {
          "base_uri": "https://localhost:8080/"
        }
      },
      "outputs": [
        {
          "output_type": "stream",
          "name": "stdout",
          "text": [
            "[1] 50.01741\n"
          ]
        }
      ],
      "source": [
        "print(xbar.w)  # print the mean with print() command"
      ],
      "id": "3f7751de-c6f9-4899-9061-3fd91e07a8c3"
    },
    {
      "cell_type": "markdown",
      "metadata": {
        "id": "efe1f4a1-2a4d-476c-ab24-c15408c6e2c2"
      },
      "source": [
        "-   We can calculate, assign, and print the result by putting\n",
        "    parenthesis around the assignment."
      ],
      "id": "efe1f4a1-2a4d-476c-ab24-c15408c6e2c2"
    },
    {
      "cell_type": "code",
      "execution_count": null,
      "metadata": {
        "id": "d8711d27-e29b-4fec-8cb8-6dd85b620345",
        "outputId": "fca6fb48-6588-4c7a-c0b9-58e91913173c",
        "colab": {
          "base_uri": "https://localhost:8080/",
          "height": 34
        }
      },
      "outputs": [
        {
          "output_type": "display_data",
          "data": {
            "text/html": [
              "25.5010304773392"
            ],
            "text/markdown": "25.5010304773392",
            "text/latex": "25.5010304773392",
            "text/plain": [
              "[1] 25.50103"
            ]
          },
          "metadata": {}
        }
      ],
      "source": [
        "# calculate, assign, and print standard deviation\n",
        "(s <- sd(w))  # note ( ) around the entire command"
      ],
      "id": "d8711d27-e29b-4fec-8cb8-6dd85b620345"
    },
    {
      "cell_type": "markdown",
      "metadata": {
        "id": "482cad2c-3c0c-4e76-8ee5-b277633a3caf"
      },
      "source": [
        "-   **Sometimes you want to see the result of a code cell, and sometimes\n",
        "    you will not.**\n"
      ],
      "id": "482cad2c-3c0c-4e76-8ee5-b277633a3caf"
    },
    {
      "cell_type": "markdown",
      "source": [
        "# <a name=\"data-types\">Basic Data Types</a>\n",
        "---\n",
        "\n",
        "R has 6 basic [data\n",
        "types](https://cran.r-project.org/doc/manuals/r-release/R-lang.html#Basic-types):\n",
        "\n",
        "1.  <font color=\"dodgerblue\">**character**</font>: collections of characters. E.g., `\"a\"`, `\"hello world!\"`\n",
        "2.  <font color=\"dodgerblue\">**double**</font>: decimal numbers. e.g., `1.2`, `1.0`\n",
        "3.  <font color=\"dodgerblue\">**integer**</font>: whole numbers. In R, you must add `L` to the end of a number to specify it as an integer. E.g., `1L` is an integer but `1` is a double.\n",
        "4.  <font color=\"dodgerblue\">**logical**</font>: Boolean values, `TRUE` and `FALSE`\n",
        "5.  <font color=\"dodgerblue\">**complex**</font>: complex numbers. E.g., `1+3i`\n",
        "6.  <font color=\"dodgerblue\">**raw**</font>: a type to hold raw bytes.\n"
      ],
      "metadata": {
        "id": "eRM4zlavtPSl"
      },
      "id": "eRM4zlavtPSl"
    },
    {
      "cell_type": "markdown",
      "source": [
        "## <a name=\"typeof\">Checking Data Type Using `typeof()`</a>\n",
        "---\n",
        "\n",
        "-   The `typeof()` function returns the R internal type or storage mode of any object."
      ],
      "metadata": {
        "id": "N8ZZBeRztjd-"
      },
      "id": "N8ZZBeRztjd-"
    },
    {
      "cell_type": "code",
      "execution_count": null,
      "metadata": {
        "id": "aaaeeedc-d19b-4b18-a818-78f3ac803029",
        "outputId": "89a23db0-a40e-4b64-85f8-3ac04d1d9f79",
        "colab": {
          "base_uri": "https://localhost:8080/",
          "height": 156
        }
      },
      "outputs": [
        {
          "output_type": "display_data",
          "data": {
            "text/html": [
              "'double'"
            ],
            "text/markdown": "'double'",
            "text/latex": "'double'",
            "text/plain": [
              "[1] \"double\""
            ]
          },
          "metadata": {}
        },
        {
          "output_type": "display_data",
          "data": {
            "text/html": [
              "'double'"
            ],
            "text/markdown": "'double'",
            "text/latex": "'double'",
            "text/plain": [
              "[1] \"double\""
            ]
          },
          "metadata": {}
        },
        {
          "output_type": "display_data",
          "data": {
            "text/html": [
              "'integer'"
            ],
            "text/markdown": "'integer'",
            "text/latex": "'integer'",
            "text/plain": [
              "[1] \"integer\""
            ]
          },
          "metadata": {}
        },
        {
          "output_type": "display_data",
          "data": {
            "text/html": [
              "'character'"
            ],
            "text/markdown": "'character'",
            "text/latex": "'character'",
            "text/plain": [
              "[1] \"character\""
            ]
          },
          "metadata": {}
        },
        {
          "output_type": "display_data",
          "data": {
            "text/html": [
              "'logical'"
            ],
            "text/markdown": "'logical'",
            "text/latex": "'logical'",
            "text/plain": [
              "[1] \"logical\""
            ]
          },
          "metadata": {}
        },
        {
          "output_type": "display_data",
          "data": {
            "text/html": [
              "'integer'"
            ],
            "text/markdown": "'integer'",
            "text/latex": "'integer'",
            "text/plain": [
              "[1] \"integer\""
            ]
          },
          "metadata": {}
        },
        {
          "output_type": "display_data",
          "data": {
            "text/html": [
              "'double'"
            ],
            "text/markdown": "'double'",
            "text/latex": "'double'",
            "text/plain": [
              "[1] \"double\""
            ]
          },
          "metadata": {}
        },
        {
          "output_type": "display_data",
          "data": {
            "text/html": [
              "'character'"
            ],
            "text/markdown": "'character'",
            "text/latex": "'character'",
            "text/plain": [
              "[1] \"character\""
            ]
          },
          "metadata": {}
        }
      ],
      "source": [
        "typeof(1.0)\n",
        "typeof(2)\n",
        "typeof(3L)\n",
        "typeof(\"hello\")\n",
        "typeof(TRUE)\n",
        "typeof(storms$status)\n",
        "typeof(storms$year)\n",
        "typeof(storms$name)"
      ],
      "id": "aaaeeedc-d19b-4b18-a818-78f3ac803029"
    },
    {
      "cell_type": "markdown",
      "metadata": {
        "id": "3aba12ec-a7ce-4e02-ba58-f9a3c14e7208"
      },
      "source": [
        "## <a name=\"is-data-type\">Investigating Data Types with `is.numeric()`</a>\n",
        "---\n",
        "\n",
        "-   The `is.numeric(x)` function tests whether or not an object `x` is  numeric.\n",
        "-   The `is.character(x)` function test whether `x` is a character or not.\n",
        "-   The `is.factor(x)` function test whether `x` is a factor or not.\n",
        "-   <font color=\"dodgerblue\">**Note: Categorical data is  typically stored as a `factor` in R.**</font>"
      ],
      "id": "3aba12ec-a7ce-4e02-ba58-f9a3c14e7208"
    },
    {
      "cell_type": "code",
      "execution_count": null,
      "metadata": {
        "id": "29468d99-bee7-4a9e-99cb-4489b56ea7c8",
        "outputId": "5b06e8d7-4bf2-4b1d-e5da-60269f9d033b",
        "colab": {
          "base_uri": "https://localhost:8080/",
          "height": 86
        }
      },
      "outputs": [
        {
          "output_type": "display_data",
          "data": {
            "text/html": [
              "TRUE"
            ],
            "text/markdown": "TRUE",
            "text/latex": "TRUE",
            "text/plain": [
              "[1] TRUE"
            ]
          },
          "metadata": {}
        },
        {
          "output_type": "display_data",
          "data": {
            "text/html": [
              "TRUE"
            ],
            "text/markdown": "TRUE",
            "text/latex": "TRUE",
            "text/plain": [
              "[1] TRUE"
            ]
          },
          "metadata": {}
        },
        {
          "output_type": "display_data",
          "data": {
            "text/html": [
              "FALSE"
            ],
            "text/markdown": "FALSE",
            "text/latex": "FALSE",
            "text/plain": [
              "[1] FALSE"
            ]
          },
          "metadata": {}
        },
        {
          "output_type": "display_data",
          "data": {
            "text/html": [
              "TRUE"
            ],
            "text/markdown": "TRUE",
            "text/latex": "TRUE",
            "text/plain": [
              "[1] TRUE"
            ]
          },
          "metadata": {}
        }
      ],
      "source": [
        "is.numeric(storms$year)  # year is numeric\n",
        "is.numeric(storms$category)  # category is also numeric\n",
        "is.numeric(storms$name)  # name is not numeric\n",
        "is.character(storms$name)  # name is character string"
      ],
      "id": "29468d99-bee7-4a9e-99cb-4489b56ea7c8"
    },
    {
      "cell_type": "code",
      "execution_count": null,
      "metadata": {
        "id": "0ab9461f-7c45-41f6-8710-26c272d0e3ce",
        "outputId": "c740e917-ca1c-40e1-d4fa-03cf84947b13",
        "colab": {
          "base_uri": "https://localhost:8080/",
          "height": 69
        }
      },
      "outputs": [
        {
          "output_type": "display_data",
          "data": {
            "text/html": [
              "FALSE"
            ],
            "text/markdown": "FALSE",
            "text/latex": "FALSE",
            "text/plain": [
              "[1] FALSE"
            ]
          },
          "metadata": {}
        },
        {
          "output_type": "display_data",
          "data": {
            "text/html": [
              "FALSE"
            ],
            "text/markdown": "FALSE",
            "text/latex": "FALSE",
            "text/plain": [
              "[1] FALSE"
            ]
          },
          "metadata": {}
        },
        {
          "output_type": "display_data",
          "data": {
            "text/html": [
              "TRUE"
            ],
            "text/markdown": "TRUE",
            "text/latex": "TRUE",
            "text/plain": [
              "[1] TRUE"
            ]
          },
          "metadata": {}
        }
      ],
      "source": [
        "is.numeric(storms$status)  # status is not numeric\n",
        "is.character(storms$status)  # status is not a character\n",
        "is.factor(storms$status)  # status is a factor which is categorical"
      ],
      "id": "0ab9461f-7c45-41f6-8710-26c272d0e3ce"
    },
    {
      "cell_type": "markdown",
      "metadata": {
        "id": "24e2312a-b011-4d52-832a-a50b42e7374e"
      },
      "source": [
        "-   The function `str(x)` provides information about the levels or classes of factor variable `x`."
      ],
      "id": "24e2312a-b011-4d52-832a-a50b42e7374e"
    },
    {
      "cell_type": "code",
      "execution_count": null,
      "metadata": {
        "id": "297e66ee-939c-4e8a-923e-fd2d4f95af93"
      },
      "outputs": [],
      "source": [
        "str(storms$status)"
      ],
      "id": "297e66ee-939c-4e8a-923e-fd2d4f95af93"
    },
    {
      "cell_type": "markdown",
      "metadata": {
        "id": "7bef02e7-a07b-42a1-9ddf-dc876f98cc1a"
      },
      "source": [
        "## <a name=\"change-type\">Changing Data Types</a>\n",
        "---\n"
      ],
      "id": "7bef02e7-a07b-42a1-9ddf-dc876f98cc1a"
    },
    {
      "cell_type": "markdown",
      "source": [
        "### <a name=\"factor\">Converting to Categorical Data with `factor()`</a>\n",
        "---\n",
        "\n",
        "-   Sometimes we think a variable is one data type, but it is actually being stored (and thus interpreted by R) as a different data type.\n",
        "-   One common issue is categorical data is stored as characters. We would like observations with the same values to be group together.\n",
        "-   The `status` variable in `storms` is being properly stored as a `factor`!\n",
        "-   The `category` variable in `storms` is being stored as a `numeric` since it is ordinal.\n",
        "-   With ordinal categories, we may choose to keep it stored as `numeric`, or we may prefer to treat them as factors."
      ],
      "metadata": {
        "id": "1FxNT6Wo3vfI"
      },
      "id": "1FxNT6Wo3vfI"
    },
    {
      "cell_type": "code",
      "execution_count": null,
      "metadata": {
        "id": "6fba3fd7-8a4e-4256-8a6f-95d541042d8e",
        "outputId": "88a6e4e1-10a3-4488-dbd0-5c94761d9d0e",
        "colab": {
          "base_uri": "https://localhost:8080/",
          "height": 53
        }
      },
      "outputs": [
        {
          "output_type": "display_data",
          "data": {
            "text/plain": [
              "   Min. 1st Qu.  Median    Mean 3rd Qu.    Max.    NA's \n",
              "  1.000   1.000   1.000   1.898   3.000   5.000   14382 "
            ]
          },
          "metadata": {}
        }
      ],
      "source": [
        "summary(storms$category)"
      ],
      "id": "6fba3fd7-8a4e-4256-8a6f-95d541042d8e"
    },
    {
      "cell_type": "markdown",
      "metadata": {
        "id": "df8d97f2-2fb8-4491-8547-d64e38378150"
      },
      "source": [
        "-   The summary of `category` computes statistics such as mean and\n",
        "    median.\n",
        "-   Typically with categorical data, we prefer to count how many\n",
        "    observations are in each class of the variable.\n",
        "-   In the code cell below, we convert `category` to a factor, and then\n",
        "    observe the resulting summary."
      ],
      "id": "df8d97f2-2fb8-4491-8547-d64e38378150"
    },
    {
      "cell_type": "code",
      "execution_count": null,
      "metadata": {
        "id": "4c793638-4d1c-46b9-a976-aa440af0fc35",
        "outputId": "4e120ea6-58cf-4911-d1cf-d64f2e09b353",
        "colab": {
          "base_uri": "https://localhost:8080/",
          "height": 34
        }
      },
      "outputs": [
        {
          "output_type": "display_data",
          "data": {
            "text/html": [
              "<style>\n",
              ".dl-inline {width: auto; margin:0; padding: 0}\n",
              ".dl-inline>dt, .dl-inline>dd {float: none; width: auto; display: inline-block}\n",
              ".dl-inline>dt::after {content: \":\\0020\"; padding-right: .5ex}\n",
              ".dl-inline>dt:not(:first-of-type) {padding-left: .5ex}\n",
              "</style><dl class=dl-inline><dt>1</dt><dd>2478</dd><dt>2</dt><dd>973</dd><dt>3</dt><dd>579</dd><dt>4</dt><dd>539</dd><dt>5</dt><dd>115</dd><dt>NA's</dt><dd>14382</dd></dl>\n"
            ],
            "text/markdown": "1\n:   24782\n:   9733\n:   5794\n:   5395\n:   115NA's\n:   14382\n\n",
            "text/latex": "\\begin{description*}\n\\item[1] 2478\n\\item[2] 973\n\\item[3] 579\n\\item[4] 539\n\\item[5] 115\n\\item[NA's] 14382\n\\end{description*}\n",
            "text/plain": [
              "    1     2     3     4     5  NA's \n",
              " 2478   973   579   539   115 14382 "
            ]
          },
          "metadata": {}
        }
      ],
      "source": [
        "storms$category <- factor(storms$category)\n",
        "summary(storms$category)"
      ],
      "id": "4c793638-4d1c-46b9-a976-aa440af0fc35"
    },
    {
      "cell_type": "markdown",
      "metadata": {
        "id": "050a6711-068a-415a-8161-03e74f2ee03e"
      },
      "source": [
        "### <a name=\"as.type\">Converting Data Types with `as.numeric()`, `as.integer()`, etc.</a>\n",
        "---\n",
        "\n",
        "From the summary of the `storms` data set we first found above, we see that the variables `year` and `month` are being stored as `double`. These variables actually are integer values.\n",
        "\n",
        "We can convert another variable of one format into another format using `as.[new_datatype]()`\n",
        "\n",
        "-   For example, to convert to year to `integer`, we use `as.integer(storms$year)`.\n",
        "-   To convert a data type to character, we can use `as.character(x)`.\n",
        "-   To convert to a decimal (`double`), we can use `as.numeric(x)`"
      ],
      "id": "050a6711-068a-415a-8161-03e74f2ee03e"
    },
    {
      "cell_type": "code",
      "execution_count": null,
      "metadata": {
        "id": "68e263cd-738f-4690-b276-cb52d030527c",
        "outputId": "a9aff494-c84e-416e-9c4d-30302ff23fab",
        "colab": {
          "base_uri": "https://localhost:8080/",
          "height": 86
        }
      },
      "outputs": [
        {
          "output_type": "display_data",
          "data": {
            "text/html": [
              "'double'"
            ],
            "text/markdown": "'double'",
            "text/latex": "'double'",
            "text/plain": [
              "[1] \"double\""
            ]
          },
          "metadata": {}
        },
        {
          "output_type": "display_data",
          "data": {
            "text/html": [
              "'double'"
            ],
            "text/markdown": "'double'",
            "text/latex": "'double'",
            "text/plain": [
              "[1] \"double\""
            ]
          },
          "metadata": {}
        },
        {
          "output_type": "display_data",
          "data": {
            "text/html": [
              "'integer'"
            ],
            "text/markdown": "'integer'",
            "text/latex": "'integer'",
            "text/plain": [
              "[1] \"integer\""
            ]
          },
          "metadata": {}
        },
        {
          "output_type": "display_data",
          "data": {
            "text/html": [
              "'integer'"
            ],
            "text/markdown": "'integer'",
            "text/latex": "'integer'",
            "text/plain": [
              "[1] \"integer\""
            ]
          },
          "metadata": {}
        }
      ],
      "source": [
        "typeof(storms$year)\n",
        "typeof(storms$month)\n",
        "storms$year <- as.integer(storms$year)\n",
        "storms$month <- as.integer(storms$month)\n",
        "typeof(storms$year)\n",
        "typeof(storms$month)"
      ],
      "id": "68e263cd-738f-4690-b276-cb52d030527c"
    },
    {
      "cell_type": "markdown",
      "metadata": {
        "id": "7a2e41d1-3371-4f21-8f7d-4de24683b487"
      },
      "source": [
        "# <a name=\"structures\">Data Structures</a>\n",
        "---\n",
        "\n",
        "R operates on <font color=\"dodgerblue\">**data\n",
        "structures**</font>. A data structure is simply some sort of “container”\n",
        "that holds certain kinds of information\n",
        "\n",
        "R has 5 basic data structures:\n",
        "\n",
        "-   <font color=\"dodgerblue\">**vector**</font>: One dimensional object of a single data type.\n",
        "-   <font color=\"dodgerblue\">**matrix**</font>: Two dimensional object of a single data type.\n",
        "-   <font color=\"dodgerblue\">**array**</font>: $n$ dimensional object of a single data type.\n",
        "-   <font color=\"dodgerblue\">**data frame**</font>: Two dimensional object where each column can be a\n",
        "    different data type.\n",
        "-   <font color=\"dodgerblue\">**list**</font>: An object that contains elements of different types like (and possibly another list inside it).\n",
        "\n",
        "[See R\n",
        "documentation](https://cran.r-project.org/doc/manuals/r-release/R-lang.html#List-objects)\n",
        "for more info.\n",
        "\n"
      ],
      "id": "7a2e41d1-3371-4f21-8f7d-4de24683b487"
    },
    {
      "cell_type": "markdown",
      "source": [
        "## <a name=\"vector\">Vectors</a>\n",
        "---\n",
        "\n",
        "A <font color=\"dodgerblue\">**vector**</font> is a\n",
        "single-dimensional set of data of the same type.\n"
      ],
      "metadata": {
        "id": "Yi2zk-k84bmu"
      },
      "id": "Yi2zk-k84bmu"
    },
    {
      "cell_type": "markdown",
      "source": [
        "### <a name=\"create-vector\">Creating Vectors from Scratch</a>\n",
        "---\n",
        "\n",
        "The most basic way to create a vector is the combine function `c`. The following commands create vectors of type numeric, character, and logical, respectively."
      ],
      "metadata": {
        "id": "xutsiu0M4fUG"
      },
      "id": "xutsiu0M4fUG"
    },
    {
      "cell_type": "code",
      "execution_count": null,
      "metadata": {
        "id": "cf422d8e-7b81-43a0-9c56-7e9882f54942"
      },
      "outputs": [],
      "source": [
        "x1 <- c(1, 2, 5.3, 6, -2, 4)\n",
        "x2 <- c(\"one\", \"two\", \"three\")\n",
        "x3 <- c(TRUE, TRUE, FALSE, TRUE)\n",
        "x4 <- c(TRUE, 3.4, \"hello\")\n",
        "typeof(x1)\n",
        "typeof(x2)\n",
        "typeof(x3)\n",
        "typeof(x4)"
      ],
      "id": "cf422d8e-7b81-43a0-9c56-7e9882f54942"
    },
    {
      "cell_type": "markdown",
      "metadata": {
        "id": "31cc536b-a7d0-4c40-97ae-4968bad0c696"
      },
      "source": [
        "-   We can check the data structure of an object using commands such as\n",
        "    `is.vector()`, `is.list()`, `is.matrix()`, and so on."
      ],
      "id": "31cc536b-a7d0-4c40-97ae-4968bad0c696"
    },
    {
      "cell_type": "code",
      "execution_count": null,
      "metadata": {
        "id": "ca3a6ea4-a4bc-488d-bdbe-4d1bfa4ce073"
      },
      "outputs": [],
      "source": [
        "is.list(x1)\n",
        "is.vector(x1)\n",
        "is.list(x4)\n",
        "is.vector(x4)"
      ],
      "id": "ca3a6ea4-a4bc-488d-bdbe-4d1bfa4ce073"
    },
    {
      "cell_type": "markdown",
      "metadata": {
        "id": "0fe1360a-9201-4ea3-8551-d78e6614952c"
      },
      "source": [
        "## <a name=\"data-frame\">Data Frames</a>\n",
        "---\n",
        "\n",
        "<font color=\"dodgerblue\">**Data frames**</font> are\n",
        "two-dimensional data objects and are the **fundamental** data structure\n",
        "used by most of R’s libraries of functions and data sets.\n",
        "\n",
        "-   Tabular data is <font color=\"dodgerblue\">**tidy**</font> if each row corresponds to a different observation and column corresponds to a different variable.\n",
        "\n",
        "Each column of a data frame is a <font color=\"dodgerblue\">**variable**</font> (stored as a **vector**).\n",
        "If the variable:\n",
        "\n",
        "-   Is measured or counted by a number, it is a <font color=\"dodgerblue\">**quantitative**</font> or <font color=\"dodgerblue\">**numerical**</font> variable.\n",
        "-   Groups observations into different categories or rankings, it is a <font color=\"dodgerblue\">**qualitative**</font> or <font color=\"dodgerblue\">**categorical**</font> variable.\n",
        "\n"
      ],
      "id": "0fe1360a-9201-4ea3-8551-d78e6614952c"
    },
    {
      "cell_type": "markdown",
      "source": [
        "### <a name=\"create-df\">Creating Data Frames from Scratch</a>\n",
        "---\n",
        "\n",
        "Data frames are created by passing vectors into the `data.frame()` function.\n",
        "\n",
        "The names of the columns in the data frame are the names of the vectors you give the `data.frame` function.\n",
        "\n",
        "Consider the following example:"
      ],
      "metadata": {
        "id": "HKUAuBz449Qy"
      },
      "id": "HKUAuBz449Qy"
    },
    {
      "cell_type": "code",
      "execution_count": null,
      "metadata": {
        "id": "f7d87274-78a7-4600-b3f6-5e1cd2e6a732",
        "outputId": "2230202f-80ca-4b1a-c3d7-15cbb1434faf",
        "colab": {
          "base_uri": "https://localhost:8080/",
          "height": 224
        }
      },
      "outputs": [
        {
          "output_type": "display_data",
          "data": {
            "text/html": [
              "<table class=\"dataframe\">\n",
              "<caption>A data.frame: 4 × 3</caption>\n",
              "<thead>\n",
              "\t<tr><th scope=col>d</th><th scope=col>e</th><th scope=col>f</th></tr>\n",
              "\t<tr><th scope=col>&lt;dbl&gt;</th><th scope=col>&lt;chr&gt;</th><th scope=col>&lt;lgl&gt;</th></tr>\n",
              "</thead>\n",
              "<tbody>\n",
              "\t<tr><td>1</td><td>red  </td><td> TRUE</td></tr>\n",
              "\t<tr><td>2</td><td>white</td><td> TRUE</td></tr>\n",
              "\t<tr><td>3</td><td>blue </td><td> TRUE</td></tr>\n",
              "\t<tr><td>4</td><td>NA   </td><td>FALSE</td></tr>\n",
              "</tbody>\n",
              "</table>\n"
            ],
            "text/markdown": "\nA data.frame: 4 × 3\n\n| d &lt;dbl&gt; | e &lt;chr&gt; | f &lt;lgl&gt; |\n|---|---|---|\n| 1 | red   |  TRUE |\n| 2 | white |  TRUE |\n| 3 | blue  |  TRUE |\n| 4 | NA    | FALSE |\n\n",
            "text/latex": "A data.frame: 4 × 3\n\\begin{tabular}{lll}\n d & e & f\\\\\n <dbl> & <chr> & <lgl>\\\\\n\\hline\n\t 1 & red   &  TRUE\\\\\n\t 2 & white &  TRUE\\\\\n\t 3 & blue  &  TRUE\\\\\n\t 4 & NA    & FALSE\\\\\n\\end{tabular}\n",
            "text/plain": [
              "  d e     f    \n",
              "1 1 red    TRUE\n",
              "2 2 white  TRUE\n",
              "3 3 blue   TRUE\n",
              "4 4 NA    FALSE"
            ]
          },
          "metadata": {}
        }
      ],
      "source": [
        "# create basic data frame\n",
        "d <- c(1, 2, 3, 4)\n",
        "e <- c(\"red\", \"white\", \"blue\", NA)\n",
        "f <- c(TRUE, TRUE, TRUE, FALSE)\n",
        "df <- data.frame(d,e,f)\n",
        "df"
      ],
      "id": "f7d87274-78a7-4600-b3f6-5e1cd2e6a732"
    },
    {
      "cell_type": "markdown",
      "metadata": {
        "id": "68e3627c-cc6a-4887-830f-3ff609eef92f"
      },
      "source": [
        "### <a name=\"name-col\">Naming Column Headers</a>\n",
        "---\n",
        "\n",
        "The columns of a data frame can be renamed using the `names()` function on the data frame."
      ],
      "id": "68e3627c-cc6a-4887-830f-3ff609eef92f"
    },
    {
      "cell_type": "code",
      "execution_count": null,
      "metadata": {
        "id": "4986a1e1-c5be-486a-93d4-0ec20680da6f",
        "outputId": "163200f7-bc9b-4103-8d61-5dfc6636168b",
        "colab": {
          "base_uri": "https://localhost:8080/",
          "height": 224
        }
      },
      "outputs": [
        {
          "output_type": "display_data",
          "data": {
            "text/html": [
              "<table class=\"dataframe\">\n",
              "<caption>A data.frame: 4 × 3</caption>\n",
              "<thead>\n",
              "\t<tr><th scope=col>ID</th><th scope=col>Color</th><th scope=col>Passed</th></tr>\n",
              "\t<tr><th scope=col>&lt;dbl&gt;</th><th scope=col>&lt;chr&gt;</th><th scope=col>&lt;lgl&gt;</th></tr>\n",
              "</thead>\n",
              "<tbody>\n",
              "\t<tr><td>1</td><td>red  </td><td> TRUE</td></tr>\n",
              "\t<tr><td>2</td><td>white</td><td> TRUE</td></tr>\n",
              "\t<tr><td>3</td><td>blue </td><td> TRUE</td></tr>\n",
              "\t<tr><td>4</td><td>NA   </td><td>FALSE</td></tr>\n",
              "</tbody>\n",
              "</table>\n"
            ],
            "text/markdown": "\nA data.frame: 4 × 3\n\n| ID &lt;dbl&gt; | Color &lt;chr&gt; | Passed &lt;lgl&gt; |\n|---|---|---|\n| 1 | red   |  TRUE |\n| 2 | white |  TRUE |\n| 3 | blue  |  TRUE |\n| 4 | NA    | FALSE |\n\n",
            "text/latex": "A data.frame: 4 × 3\n\\begin{tabular}{lll}\n ID & Color & Passed\\\\\n <dbl> & <chr> & <lgl>\\\\\n\\hline\n\t 1 & red   &  TRUE\\\\\n\t 2 & white &  TRUE\\\\\n\t 3 & blue  &  TRUE\\\\\n\t 4 & NA    & FALSE\\\\\n\\end{tabular}\n",
            "text/plain": [
              "  ID Color Passed\n",
              "1 1  red    TRUE \n",
              "2 2  white  TRUE \n",
              "3 3  blue   TRUE \n",
              "4 4  NA    FALSE "
            ]
          },
          "metadata": {}
        }
      ],
      "source": [
        "# name columns of data frame\n",
        "names(df) <- c(\"ID\", \"Color\", \"Passed\")\n",
        "df"
      ],
      "id": "4986a1e1-c5be-486a-93d4-0ec20680da6f"
    },
    {
      "cell_type": "markdown",
      "metadata": {
        "id": "34885bd3-f558-4276-8457-ffa20cb98b61"
      },
      "source": [
        "The columns of a data frame can be named when you are first creating the\n",
        "data frame by using `[new_name] = [orig_vec_name]` for each vector of\n",
        "data."
      ],
      "id": "34885bd3-f558-4276-8457-ffa20cb98b61"
    },
    {
      "cell_type": "code",
      "execution_count": null,
      "metadata": {
        "id": "6381594b-c74b-4f28-b943-5cf302ae1b53",
        "outputId": "09db5b6b-d635-4a02-ebaa-b64ae2ed62ac",
        "colab": {
          "base_uri": "https://localhost:8080/",
          "height": 224
        }
      },
      "outputs": [
        {
          "output_type": "display_data",
          "data": {
            "text/html": [
              "<table class=\"dataframe\">\n",
              "<caption>A data.frame: 4 × 3</caption>\n",
              "<thead>\n",
              "\t<tr><th scope=col>ID</th><th scope=col>Color</th><th scope=col>Passed</th></tr>\n",
              "\t<tr><th scope=col>&lt;dbl&gt;</th><th scope=col>&lt;chr&gt;</th><th scope=col>&lt;lgl&gt;</th></tr>\n",
              "</thead>\n",
              "<tbody>\n",
              "\t<tr><td>1</td><td>red  </td><td> TRUE</td></tr>\n",
              "\t<tr><td>2</td><td>white</td><td> TRUE</td></tr>\n",
              "\t<tr><td>3</td><td>blue </td><td> TRUE</td></tr>\n",
              "\t<tr><td>4</td><td>NA   </td><td>FALSE</td></tr>\n",
              "</tbody>\n",
              "</table>\n"
            ],
            "text/markdown": "\nA data.frame: 4 × 3\n\n| ID &lt;dbl&gt; | Color &lt;chr&gt; | Passed &lt;lgl&gt; |\n|---|---|---|\n| 1 | red   |  TRUE |\n| 2 | white |  TRUE |\n| 3 | blue  |  TRUE |\n| 4 | NA    | FALSE |\n\n",
            "text/latex": "A data.frame: 4 × 3\n\\begin{tabular}{lll}\n ID & Color & Passed\\\\\n <dbl> & <chr> & <lgl>\\\\\n\\hline\n\t 1 & red   &  TRUE\\\\\n\t 2 & white &  TRUE\\\\\n\t 3 & blue  &  TRUE\\\\\n\t 4 & NA    & FALSE\\\\\n\\end{tabular}\n",
            "text/plain": [
              "  ID Color Passed\n",
              "1 1  red    TRUE \n",
              "2 2  white  TRUE \n",
              "3 3  blue   TRUE \n",
              "4 4  NA    FALSE "
            ]
          },
          "metadata": {}
        }
      ],
      "source": [
        "# create data frame with better column names\n",
        "df2 <- data.frame(ID = d, Color = e, Passed = f)\n",
        "df2"
      ],
      "id": "6381594b-c74b-4f28-b943-5cf302ae1b53"
    },
    {
      "cell_type": "markdown",
      "metadata": {
        "id": "a14e2aa8-602e-4d5d-b801-96ed4830a9da"
      },
      "source": [
        "## <a name=\"check-structure\">Checking Data Structure</a>\n",
        "---\n",
        "\n",
        "-   The `is.matrix(x)` function tests whether or not an object `x` is a matrix.\n",
        "-   The `is.vector(x)` function test whether `x` is a vector.\n",
        "-   The `is.data.frame(x)` function test whether `x` is a data frame."
      ],
      "id": "a14e2aa8-602e-4d5d-b801-96ed4830a9da"
    },
    {
      "cell_type": "code",
      "execution_count": null,
      "metadata": {
        "id": "491197e1-eabe-4054-9ef4-7a84cddc22fb",
        "outputId": "29107e75-5c36-47ba-e32b-6d3930bbf046",
        "colab": {
          "base_uri": "https://localhost:8080/",
          "height": 69
        }
      },
      "outputs": [
        {
          "output_type": "display_data",
          "data": {
            "text/html": [
              "FALSE"
            ],
            "text/markdown": "FALSE",
            "text/latex": "FALSE",
            "text/plain": [
              "[1] FALSE"
            ]
          },
          "metadata": {}
        },
        {
          "output_type": "display_data",
          "data": {
            "text/html": [
              "FALSE"
            ],
            "text/markdown": "FALSE",
            "text/latex": "FALSE",
            "text/plain": [
              "[1] FALSE"
            ]
          },
          "metadata": {}
        },
        {
          "output_type": "display_data",
          "data": {
            "text/html": [
              "TRUE"
            ],
            "text/markdown": "TRUE",
            "text/latex": "TRUE",
            "text/plain": [
              "[1] TRUE"
            ]
          },
          "metadata": {}
        }
      ],
      "source": [
        "is.matrix(df)\n",
        "is.vector(df)\n",
        "is.data.frame(df)"
      ],
      "id": "491197e1-eabe-4054-9ef4-7a84cddc22fb"
    },
    {
      "cell_type": "markdown",
      "metadata": {
        "id": "f60c95f9-a47b-44cb-a6fb-ae06f44c11a4"
      },
      "source": [
        "# <a name=\"extract\">Extracting and Slicing Data Frames</a>\n",
        "---\n",
        "\n"
      ],
      "id": "f60c95f9-a47b-44cb-a6fb-ae06f44c11a4"
    },
    {
      "cell_type": "markdown",
      "source": [
        "## <a name=\"extract-name\">Extracting a Column By Name</a>\n",
        "---\n",
        "\n",
        "The column vectors of a data frame may be extracted using `$` and\n",
        "specifying the name of the desired vector.\n",
        "\n",
        "-   `df$Color` would access the `Color` column of data frame `df`."
      ],
      "metadata": {
        "id": "dgA6VUdV5X_C"
      },
      "id": "dgA6VUdV5X_C"
    },
    {
      "cell_type": "code",
      "execution_count": null,
      "metadata": {
        "id": "18211c52-2092-4a47-9784-cc45ee4a74f7",
        "outputId": "523e4a60-6d5d-492e-9a6e-4c5408462099",
        "colab": {
          "base_uri": "https://localhost:8080/",
          "height": 34
        }
      },
      "outputs": [
        {
          "output_type": "display_data",
          "data": {
            "text/html": [
              "<style>\n",
              ".list-inline {list-style: none; margin:0; padding: 0}\n",
              ".list-inline>li {display: inline-block}\n",
              ".list-inline>li:not(:last-child)::after {content: \"\\00b7\"; padding: 0 .5ex}\n",
              "</style>\n",
              "<ol class=list-inline><li>'red'</li><li>'white'</li><li>'blue'</li><li>NA</li></ol>\n"
            ],
            "text/markdown": "1. 'red'\n2. 'white'\n3. 'blue'\n4. NA\n\n\n",
            "text/latex": "\\begin{enumerate*}\n\\item 'red'\n\\item 'white'\n\\item 'blue'\n\\item NA\n\\end{enumerate*}\n",
            "text/plain": [
              "[1] \"red\"   \"white\" \"blue\"  NA     "
            ]
          },
          "metadata": {}
        }
      ],
      "source": [
        "df$Color  # prints column of data frame df named Color"
      ],
      "id": "18211c52-2092-4a47-9784-cc45ee4a74f7"
    },
    {
      "cell_type": "markdown",
      "metadata": {
        "id": "eaf4605d-06bc-40e4-94bc-3134147138e4"
      },
      "source": [
        "## <a name=\"indexing\">Slicing Rows and Columns By Indexing</a>\n",
        "---\n",
        "\n",
        "Part of a data frame can also be extracted by thinking of at as a\n",
        "general matrix and specifying the desired rows or columns in square\n",
        "brackets after the object name.\n",
        "\n",
        "-   <font color=\"dodgerblue\">**Note R starts with index 1 which is different from Python which indexes starting from 0.**</font>\n",
        "\n",
        "For example, if we had a data frame named `df`:\n",
        "\n",
        "-   `df[1,]` would access the first row of `df`.\n",
        "-   `df[1:2,]` would access the first two rows of `df`.\n",
        "-   `df[,2]` would access the second column of `df`.\n",
        "-   `df[1:2, 2:3]` would access the information in rows 1 and 2 of columns 2 and 3 of `df`."
      ],
      "id": "eaf4605d-06bc-40e4-94bc-3134147138e4"
    },
    {
      "cell_type": "code",
      "execution_count": null,
      "metadata": {
        "id": "2f262f39-62e7-4872-9b5d-38bf79cd1092",
        "outputId": "1454840f-9a36-40e9-a670-1224a4f3d090",
        "colab": {
          "base_uri": "https://localhost:8080/",
          "height": 34
        }
      },
      "outputs": [
        {
          "output_type": "display_data",
          "data": {
            "text/html": [
              "<style>\n",
              ".list-inline {list-style: none; margin:0; padding: 0}\n",
              ".list-inline>li {display: inline-block}\n",
              ".list-inline>li:not(:last-child)::after {content: \"\\00b7\"; padding: 0 .5ex}\n",
              "</style>\n",
              "<ol class=list-inline><li>'red'</li><li>'white'</li><li>'blue'</li><li>NA</li></ol>\n"
            ],
            "text/markdown": "1. 'red'\n2. 'white'\n3. 'blue'\n4. NA\n\n\n",
            "text/latex": "\\begin{enumerate*}\n\\item 'red'\n\\item 'white'\n\\item 'blue'\n\\item NA\n\\end{enumerate*}\n",
            "text/plain": [
              "[1] \"red\"   \"white\" \"blue\"  NA     "
            ]
          },
          "metadata": {}
        }
      ],
      "source": [
        "df[,2]  # second column is Color"
      ],
      "id": "2f262f39-62e7-4872-9b5d-38bf79cd1092"
    },
    {
      "cell_type": "code",
      "execution_count": null,
      "metadata": {
        "id": "c5201b42-3874-433e-be56-5caa7c789cb6",
        "outputId": "0b57f9c2-cc80-441a-b7a1-1c7b945048e8",
        "colab": {
          "base_uri": "https://localhost:8080/",
          "height": 129
        }
      },
      "outputs": [
        {
          "output_type": "display_data",
          "data": {
            "text/html": [
              "<table class=\"dataframe\">\n",
              "<caption>A data.frame: 1 × 3</caption>\n",
              "<thead>\n",
              "\t<tr><th></th><th scope=col>ID</th><th scope=col>Color</th><th scope=col>Passed</th></tr>\n",
              "\t<tr><th></th><th scope=col>&lt;dbl&gt;</th><th scope=col>&lt;chr&gt;</th><th scope=col>&lt;lgl&gt;</th></tr>\n",
              "</thead>\n",
              "<tbody>\n",
              "\t<tr><th scope=row>2</th><td>2</td><td>white</td><td>TRUE</td></tr>\n",
              "</tbody>\n",
              "</table>\n"
            ],
            "text/markdown": "\nA data.frame: 1 × 3\n\n| <!--/--> | ID &lt;dbl&gt; | Color &lt;chr&gt; | Passed &lt;lgl&gt; |\n|---|---|---|---|\n| 2 | 2 | white | TRUE |\n\n",
            "text/latex": "A data.frame: 1 × 3\n\\begin{tabular}{r|lll}\n  & ID & Color & Passed\\\\\n  & <dbl> & <chr> & <lgl>\\\\\n\\hline\n\t2 & 2 & white & TRUE\\\\\n\\end{tabular}\n",
            "text/plain": [
              "  ID Color Passed\n",
              "2 2  white TRUE  "
            ]
          },
          "metadata": {}
        }
      ],
      "source": [
        "df[2,]  # second row of df"
      ],
      "id": "c5201b42-3874-433e-be56-5caa7c789cb6"
    },
    {
      "cell_type": "code",
      "execution_count": null,
      "metadata": {
        "id": "e2bbba5d-aefa-42f1-82f0-6f84b18d2b4e",
        "outputId": "8b833375-bc16-46a3-b16a-2a943abaa462",
        "colab": {
          "base_uri": "https://localhost:8080/",
          "height": 161
        }
      },
      "outputs": [
        {
          "output_type": "display_data",
          "data": {
            "text/html": [
              "<table class=\"dataframe\">\n",
              "<caption>A data.frame: 2 × 2</caption>\n",
              "<thead>\n",
              "\t<tr><th></th><th scope=col>Color</th><th scope=col>Passed</th></tr>\n",
              "\t<tr><th></th><th scope=col>&lt;chr&gt;</th><th scope=col>&lt;lgl&gt;</th></tr>\n",
              "</thead>\n",
              "<tbody>\n",
              "\t<tr><th scope=row>1</th><td>red  </td><td>TRUE</td></tr>\n",
              "\t<tr><th scope=row>2</th><td>white</td><td>TRUE</td></tr>\n",
              "</tbody>\n",
              "</table>\n"
            ],
            "text/markdown": "\nA data.frame: 2 × 2\n\n| <!--/--> | Color &lt;chr&gt; | Passed &lt;lgl&gt; |\n|---|---|---|\n| 1 | red   | TRUE |\n| 2 | white | TRUE |\n\n",
            "text/latex": "A data.frame: 2 × 2\n\\begin{tabular}{r|ll}\n  & Color & Passed\\\\\n  & <chr> & <lgl>\\\\\n\\hline\n\t1 & red   & TRUE\\\\\n\t2 & white & TRUE\\\\\n\\end{tabular}\n",
            "text/plain": [
              "  Color Passed\n",
              "1 red   TRUE  \n",
              "2 white TRUE  "
            ]
          },
          "metadata": {}
        }
      ],
      "source": [
        "df[1:2,2:3]  # first and second rows of columns 2 and 3"
      ],
      "id": "e2bbba5d-aefa-42f1-82f0-6f84b18d2b4e"
    },
    {
      "cell_type": "markdown",
      "metadata": {
        "id": "c5967240-1844-447e-b325-d4a1eaa5af77"
      },
      "source": [
        "If you need to select multiple columns of a data frame by name, you can\n",
        "pass a character vector with column names in the column position of\n",
        "`[]`.\n",
        "\n",
        "-   `df[, c(\"ID\", \"Passed\")]` would extract the `ID` and `Passed` columns of `df`."
      ],
      "id": "c5967240-1844-447e-b325-d4a1eaa5af77"
    },
    {
      "cell_type": "code",
      "execution_count": null,
      "metadata": {
        "id": "7c35e5bd-f491-4044-b541-077663207beb",
        "outputId": "950d9af9-4975-4dae-b9e4-70734e7ed3ae",
        "colab": {
          "base_uri": "https://localhost:8080/",
          "height": 224
        }
      },
      "outputs": [
        {
          "output_type": "display_data",
          "data": {
            "text/html": [
              "<table class=\"dataframe\">\n",
              "<caption>A data.frame: 4 × 2</caption>\n",
              "<thead>\n",
              "\t<tr><th scope=col>ID</th><th scope=col>Passed</th></tr>\n",
              "\t<tr><th scope=col>&lt;dbl&gt;</th><th scope=col>&lt;lgl&gt;</th></tr>\n",
              "</thead>\n",
              "<tbody>\n",
              "\t<tr><td>1</td><td> TRUE</td></tr>\n",
              "\t<tr><td>2</td><td> TRUE</td></tr>\n",
              "\t<tr><td>3</td><td> TRUE</td></tr>\n",
              "\t<tr><td>4</td><td>FALSE</td></tr>\n",
              "</tbody>\n",
              "</table>\n"
            ],
            "text/markdown": "\nA data.frame: 4 × 2\n\n| ID &lt;dbl&gt; | Passed &lt;lgl&gt; |\n|---|---|\n| 1 |  TRUE |\n| 2 |  TRUE |\n| 3 |  TRUE |\n| 4 | FALSE |\n\n",
            "text/latex": "A data.frame: 4 × 2\n\\begin{tabular}{ll}\n ID & Passed\\\\\n <dbl> & <lgl>\\\\\n\\hline\n\t 1 &  TRUE\\\\\n\t 2 &  TRUE\\\\\n\t 3 &  TRUE\\\\\n\t 4 & FALSE\\\\\n\\end{tabular}\n",
            "text/plain": [
              "  ID Passed\n",
              "1 1   TRUE \n",
              "2 2   TRUE \n",
              "3 3   TRUE \n",
              "4 4  FALSE "
            ]
          },
          "metadata": {}
        }
      ],
      "source": [
        "df[, c(\"ID\", \"Passed\")]"
      ],
      "id": "7c35e5bd-f491-4044-b541-077663207beb"
    },
    {
      "cell_type": "code",
      "execution_count": null,
      "metadata": {
        "id": "ba977afa-d340-4c96-8421-85db6c0d0b7a",
        "outputId": "ac564bc0-6d0a-4084-e7d2-bd74e4e94f10",
        "colab": {
          "base_uri": "https://localhost:8080/",
          "height": 224
        }
      },
      "outputs": [
        {
          "output_type": "display_data",
          "data": {
            "text/html": [
              "<table class=\"dataframe\">\n",
              "<caption>A data.frame: 4 × 2</caption>\n",
              "<thead>\n",
              "\t<tr><th scope=col>ID</th><th scope=col>Passed</th></tr>\n",
              "\t<tr><th scope=col>&lt;dbl&gt;</th><th scope=col>&lt;lgl&gt;</th></tr>\n",
              "</thead>\n",
              "<tbody>\n",
              "\t<tr><td>1</td><td> TRUE</td></tr>\n",
              "\t<tr><td>2</td><td> TRUE</td></tr>\n",
              "\t<tr><td>3</td><td> TRUE</td></tr>\n",
              "\t<tr><td>4</td><td>FALSE</td></tr>\n",
              "</tbody>\n",
              "</table>\n"
            ],
            "text/markdown": "\nA data.frame: 4 × 2\n\n| ID &lt;dbl&gt; | Passed &lt;lgl&gt; |\n|---|---|\n| 1 |  TRUE |\n| 2 |  TRUE |\n| 3 |  TRUE |\n| 4 | FALSE |\n\n",
            "text/latex": "A data.frame: 4 × 2\n\\begin{tabular}{ll}\n ID & Passed\\\\\n <dbl> & <lgl>\\\\\n\\hline\n\t 1 &  TRUE\\\\\n\t 2 &  TRUE\\\\\n\t 3 &  TRUE\\\\\n\t 4 & FALSE\\\\\n\\end{tabular}\n",
            "text/plain": [
              "  ID Passed\n",
              "1 1   TRUE \n",
              "2 2   TRUE \n",
              "3 3   TRUE \n",
              "4 4  FALSE "
            ]
          },
          "metadata": {}
        }
      ],
      "source": [
        "df[, c(1, 3)]  # another we to pick columns 1 and 3"
      ],
      "id": "ba977afa-d340-4c96-8421-85db6c0d0b7a"
    },
    {
      "cell_type": "code",
      "execution_count": null,
      "metadata": {
        "id": "42dafe38-abfe-4ec6-89ff-e03f141c5c83",
        "outputId": "798f5b89-79b2-4fe0-b069-3e61b6fd88d9",
        "colab": {
          "base_uri": "https://localhost:8080/",
          "height": 224
        }
      },
      "outputs": [
        {
          "output_type": "display_data",
          "data": {
            "text/html": [
              "<table class=\"dataframe\">\n",
              "<caption>A data.frame: 4 × 2</caption>\n",
              "<thead>\n",
              "\t<tr><th scope=col>ID</th><th scope=col>Passed</th></tr>\n",
              "\t<tr><th scope=col>&lt;dbl&gt;</th><th scope=col>&lt;lgl&gt;</th></tr>\n",
              "</thead>\n",
              "<tbody>\n",
              "\t<tr><td>1</td><td> TRUE</td></tr>\n",
              "\t<tr><td>2</td><td> TRUE</td></tr>\n",
              "\t<tr><td>3</td><td> TRUE</td></tr>\n",
              "\t<tr><td>4</td><td>FALSE</td></tr>\n",
              "</tbody>\n",
              "</table>\n"
            ],
            "text/markdown": "\nA data.frame: 4 × 2\n\n| ID &lt;dbl&gt; | Passed &lt;lgl&gt; |\n|---|---|\n| 1 |  TRUE |\n| 2 |  TRUE |\n| 3 |  TRUE |\n| 4 | FALSE |\n\n",
            "text/latex": "A data.frame: 4 × 2\n\\begin{tabular}{ll}\n ID & Passed\\\\\n <dbl> & <lgl>\\\\\n\\hline\n\t 1 &  TRUE\\\\\n\t 2 &  TRUE\\\\\n\t 3 &  TRUE\\\\\n\t 4 & FALSE\\\\\n\\end{tabular}\n",
            "text/plain": [
              "  ID Passed\n",
              "1 1   TRUE \n",
              "2 2   TRUE \n",
              "3 3   TRUE \n",
              "4 4  FALSE "
            ]
          },
          "metadata": {}
        }
      ],
      "source": [
        "# another we to pick columns 1 and 3\n",
        "df[, -2]  # exclude column 2"
      ],
      "id": "42dafe38-abfe-4ec6-89ff-e03f141c5c83"
    },
    {
      "cell_type": "markdown",
      "metadata": {
        "id": "0c8fed47-ce43-41e7-99b5-6f907a9e0fcb"
      },
      "source": [
        "# <a name=\"importing\">Importing an External File as a Data Frame</a>\n",
        "\n",
        "---\n",
        "\n",
        "The `read.table` function imports data from file into R as a data frame.\n",
        "\n",
        "Usage: `read.table(file, header = TRUE, sep = \",\")`\n",
        "\n",
        "-   `file` is the file path and name of the file you want to import into\n",
        "    R.\n",
        "    -   If you don’t know the file path, set `file = file.choose()` will\n",
        "        bring up a dialog box asking you to locate the file you want to\n",
        "        import.\n",
        "-   `header` specifies whether the data file has a header (variable\n",
        "    labels for each column of data in the first row of the data file).\n",
        "    -   If you don’t specify this option in R or use `header = FALSE`,\n",
        "        then R will assume the file doesn’t have any headings.\n",
        "    -   `header = TRUE` tells R to read in the data as a data frame with\n",
        "        column names taken from the first row of the data file.\n",
        "-   `sep` specifies the delimiter separating elements in the file.\n",
        "    -   If each column of data in the file is separated by a space, then\n",
        "        use `sep = \" \"`\n",
        "    -   If each column of data in the file is separated by a comma, then\n",
        "        use `sep = \",\"`\n",
        "    -   If each column of data in the file is separated by a tab, then\n",
        "        use `sep = \"\\t\"`.\n",
        "\n",
        "Here is an example reading a csv (comma separated file) with a header:"
      ],
      "id": "0c8fed47-ce43-41e7-99b5-6f907a9e0fcb"
    },
    {
      "cell_type": "code",
      "execution_count": null,
      "metadata": {
        "id": "08ab26a1-50d7-4abd-9449-2057b529e3be",
        "outputId": "1c894bb6-2002-49df-9d45-3e25deee7eb9",
        "colab": {
          "base_uri": "https://localhost:8080/"
        }
      },
      "outputs": [
        {
          "output_type": "stream",
          "name": "stdout",
          "text": [
            "Rows: 20,000\n",
            "Columns: 13\n",
            "$ transaction_id          \u001b[3m\u001b[90m<int>\u001b[39m\u001b[23m 1, 2, 3, 4, 5, 6, 7, 8, 9, 10, 11, 12, 13, 14,…\n",
            "$ product_id              \u001b[3m\u001b[90m<int>\u001b[39m\u001b[23m 2, 3, 37, 88, 78, 25, 22, 15, 67, 12, 5, 61, 3…\n",
            "$ customer_id             \u001b[3m\u001b[90m<int>\u001b[39m\u001b[23m 2950, 3120, 402, 3135, 787, 2339, 1542, 2459, …\n",
            "$ transaction_date        \u001b[3m\u001b[90m<chr>\u001b[39m\u001b[23m \"25-02-2017\", \"21-05-2017\", \"16-10-2017\", \"31-…\n",
            "$ online_order            \u001b[3m\u001b[90m<lgl>\u001b[39m\u001b[23m FALSE, TRUE, FALSE, FALSE, TRUE, TRUE, TRUE, F…\n",
            "$ order_status            \u001b[3m\u001b[90m<chr>\u001b[39m\u001b[23m \"Approved\", \"Approved\", \"Approved\", \"Approved\"…\n",
            "$ brand                   \u001b[3m\u001b[90m<chr>\u001b[39m\u001b[23m \"Solex\", \"Trek Bicycles\", \"OHM Cycles\", \"Norco…\n",
            "$ product_line            \u001b[3m\u001b[90m<chr>\u001b[39m\u001b[23m \"Standard\", \"Standard\", \"Standard\", \"Standard\"…\n",
            "$ product_class           \u001b[3m\u001b[90m<chr>\u001b[39m\u001b[23m \"medium\", \"medium\", \"low\", \"medium\", \"medium\",…\n",
            "$ product_size            \u001b[3m\u001b[90m<chr>\u001b[39m\u001b[23m \"medium\", \"large\", \"medium\", \"medium\", \"large\"…\n",
            "$ list_price              \u001b[3m\u001b[90m<dbl>\u001b[39m\u001b[23m 71.49, 2091.47, 1793.43, 1198.46, 1765.30, 153…\n",
            "$ standard_cost           \u001b[3m\u001b[90m<dbl>\u001b[39m\u001b[23m 53.62, 388.92, 248.82, 381.10, 709.48, 829.65,…\n",
            "$ product_first_sold_date \u001b[3m\u001b[90m<int>\u001b[39m\u001b[23m 41245, 41701, 36361, 36145, 42226, 39031, 3416…\n"
          ]
        }
      ],
      "source": [
        "# import data as data frame\n",
        "bike.store <- read.table(file = \"https://raw.githubusercontent.com/CU-Denver-MathStats-OER/Statistical-Theory/main/Data/Transactions.csv \",\n",
        "                  header = TRUE,  # Keep column headers as names\n",
        "                  sep = \",\")  # comma as separator of columns\n",
        "\n",
        "glimpse(bike.store)"
      ],
      "id": "08ab26a1-50d7-4abd-9449-2057b529e3be"
    },
    {
      "cell_type": "markdown",
      "metadata": {
        "id": "9d252d26-d997-4f97-ae5b-7ed748bd6275"
      },
      "source": [
        "-   The `glimpse()` function provides a nice summary of the structure.\n",
        "-   Run the code cell below to see the various options of\n",
        "    `read.table()`.\n",
        "-   There are other functions and packages that may be better at reading\n",
        "    in tabular data. `read.table()` is a good place to start!"
      ],
      "id": "9d252d26-d997-4f97-ae5b-7ed748bd6275"
    },
    {
      "cell_type": "code",
      "execution_count": null,
      "metadata": {
        "id": "a0fbecf4-c7fa-4954-abdb-14425f1c0b32"
      },
      "outputs": [],
      "source": [
        "?read.table"
      ],
      "id": "a0fbecf4-c7fa-4954-abdb-14425f1c0b32"
    },
    {
      "cell_type": "markdown",
      "metadata": {
        "id": "3da0527a-2747-4265-9280-dafcdf4fcaf0"
      },
      "source": [
        "# <a name=\"logical\">Logical Statements</a>\n",
        "---\n",
        "\n",
        "Sometimes we need to know if the elements of an object satisfy certain\n",
        "conditions. This can be determined using the logical operators `<`,\n",
        "`<=`, `>`, `>=`, `==`, `!=`.\n",
        "\n",
        "-   `==` means equal to.\n",
        "-   `!=` means NOT equal to.\n",
        "\n",
        "Execute the following commands in R and see what you get."
      ],
      "id": "3da0527a-2747-4265-9280-dafcdf4fcaf0"
    },
    {
      "cell_type": "code",
      "execution_count": null,
      "metadata": {
        "id": "93cb2824-398d-43cf-aa88-e69454cc45cc"
      },
      "outputs": [],
      "source": [
        "a <- seq(2, 16, by = 2) # creating the vector a\n",
        "a\n",
        "a > 10\n",
        "a <= 4\n",
        "a == 10\n",
        "a != 10"
      ],
      "id": "93cb2824-398d-43cf-aa88-e69454cc45cc"
    },
    {
      "cell_type": "markdown",
      "metadata": {
        "id": "2b12fbfd-5800-4a19-8e9d-9caf6f0a9861"
      },
      "source": [
        "## <a name=\"and-or\">And and Or Statements</a>\n",
        "---\n",
        "\n",
        "More complicated logical statements can be made using `&` and `|`.\n",
        "\n",
        "-   `&` means “and”\n",
        "    -   Both statements must be true for `state1 & state2` to return\n",
        "        `TRUE`.\n",
        "-   `|` means “or”\n",
        "    -   Only one of the the two statements must be true for\n",
        "        `state1 | state2` to return `TRUE`.\n",
        "    -   If both statements are true in an “or” statement, the statement is also `TRUE`.\n",
        "\n",
        "Below is a summary of “and” and “or” logic:\n",
        "\n",
        "-   `TRUE & TRUE` returns `TRUE`\n",
        "-   `FALSE & TRUE` returns `FALSE`\n",
        "-   `FALSE & FALSE` returns `FALSE`\n",
        "-   `TRUE | TRUE` returns `TRUE`\n",
        "-   `FALSE | TRUE` returns `TRUE`\n",
        "-   `FALSE | FALSE` returns `FALSE`"
      ],
      "id": "2b12fbfd-5800-4a19-8e9d-9caf6f0a9861"
    },
    {
      "cell_type": "code",
      "execution_count": null,
      "metadata": {
        "id": "9dd9ddf7-f32d-45e8-bee5-a32840d12d43",
        "outputId": "0a54265b-43c0-4dce-d6db-2f6f1c629499",
        "colab": {
          "base_uri": "https://localhost:8080/",
          "height": 121
        }
      },
      "outputs": [
        {
          "output_type": "display_data",
          "data": {
            "text/html": [
              "TRUE"
            ],
            "text/markdown": "TRUE",
            "text/latex": "TRUE",
            "text/plain": [
              "[1] TRUE"
            ]
          },
          "metadata": {}
        },
        {
          "output_type": "display_data",
          "data": {
            "text/html": [
              "FALSE"
            ],
            "text/markdown": "FALSE",
            "text/latex": "FALSE",
            "text/plain": [
              "[1] FALSE"
            ]
          },
          "metadata": {}
        },
        {
          "output_type": "display_data",
          "data": {
            "text/html": [
              "FALSE"
            ],
            "text/markdown": "FALSE",
            "text/latex": "FALSE",
            "text/plain": [
              "[1] FALSE"
            ]
          },
          "metadata": {}
        },
        {
          "output_type": "display_data",
          "data": {
            "text/html": [
              "TRUE"
            ],
            "text/markdown": "TRUE",
            "text/latex": "TRUE",
            "text/plain": [
              "[1] TRUE"
            ]
          },
          "metadata": {}
        },
        {
          "output_type": "display_data",
          "data": {
            "text/html": [
              "TRUE"
            ],
            "text/markdown": "TRUE",
            "text/latex": "TRUE",
            "text/plain": [
              "[1] TRUE"
            ]
          },
          "metadata": {}
        },
        {
          "output_type": "display_data",
          "data": {
            "text/html": [
              "FALSE"
            ],
            "text/markdown": "FALSE",
            "text/latex": "FALSE",
            "text/plain": [
              "[1] FALSE"
            ]
          },
          "metadata": {}
        }
      ],
      "source": [
        "# relationship between logicals & (and), | (or)\n",
        "TRUE & TRUE\n",
        "FALSE & TRUE\n",
        "FALSE & FALSE\n",
        "TRUE | TRUE\n",
        "FALSE | TRUE\n",
        "FALSE | FALSE"
      ],
      "id": "9dd9ddf7-f32d-45e8-bee5-a32840d12d43"
    },
    {
      "cell_type": "markdown",
      "metadata": {
        "id": "c1663406-6e54-4f9c-ae0b-de9f92bae9e9"
      },
      "source": [
        "Execute the following commands in R and see what you get."
      ],
      "id": "c1663406-6e54-4f9c-ae0b-de9f92bae9e9"
    },
    {
      "cell_type": "code",
      "execution_count": null,
      "metadata": {
        "id": "9a74dbea-f672-4329-aaaf-64b8fcc8714b",
        "outputId": "5aa93f90-b214-4911-e7ce-98059b958e40",
        "colab": {
          "base_uri": "https://localhost:8080/",
          "height": 52
        }
      },
      "outputs": [
        {
          "output_type": "display_data",
          "data": {
            "text/html": [
              "FALSE"
            ],
            "text/markdown": "FALSE",
            "text/latex": "FALSE",
            "text/plain": [
              "[1] FALSE"
            ]
          },
          "metadata": {}
        },
        {
          "output_type": "display_data",
          "data": {
            "text/html": [
              "TRUE"
            ],
            "text/markdown": "TRUE",
            "text/latex": "TRUE",
            "text/plain": [
              "[1] TRUE"
            ]
          },
          "metadata": {}
        }
      ],
      "source": [
        "b <- 3  # b is equal to the number 3\n",
        "\n",
        "# complex logical statements\n",
        "(b > 6) & (b <= 10)  # FALSE and TRUE\n",
        "(b <= 4) | (b >= 12)  # TRUE or FALSE"
      ],
      "id": "9a74dbea-f672-4329-aaaf-64b8fcc8714b"
    },
    {
      "cell_type": "markdown",
      "metadata": {
        "id": "7476c618-c7e1-4d38-829d-8dd80aebe9ee"
      },
      "source": [
        "## <a name=\"logic-index\">Logical Indexing</a>\n",
        "---\n",
        "\n",
        "We can use a logical statement as an index to extract certain entries from a vector or data frame. For example, if we want to to know the `product_id` (column 2), `brand` (column 7), `product_line` (column 8), and `list_price` (column 11) of all transactions that have a `list_price` greater than \\$2,090, we can run the code cell below.\n",
        "\n",
        "-   We use a logical index for the row to extract just the rows that have a `list_price` value strictly greater than 2090.\n",
        "-   We indicate we want to keep just columns 2, 7 through 8, and 11 with the column index `c(2, 7:8, 11)`.\n",
        "-   We store the results to a new data frame named `expensive`.\n",
        "-   Finally, we print the first 6 rows of our new data frame with the `head()` function to check the results."
      ],
      "id": "7476c618-c7e1-4d38-829d-8dd80aebe9ee"
    },
    {
      "cell_type": "code",
      "execution_count": null,
      "metadata": {
        "id": "145530ae-78c7-40e1-a14a-f6e97a8b8601",
        "outputId": "2ac0770d-ae6f-4cea-f56d-8f63296ff41d",
        "colab": {
          "base_uri": "https://localhost:8080/",
          "height": 286
        }
      },
      "outputs": [
        {
          "output_type": "display_data",
          "data": {
            "text/html": [
              "<table class=\"dataframe\">\n",
              "<caption>A data.frame: 6 × 4</caption>\n",
              "<thead>\n",
              "\t<tr><th></th><th scope=col>product_id</th><th scope=col>brand</th><th scope=col>product_line</th><th scope=col>list_price</th></tr>\n",
              "\t<tr><th></th><th scope=col>&lt;int&gt;</th><th scope=col>&lt;chr&gt;</th><th scope=col>&lt;chr&gt;</th><th scope=col>&lt;dbl&gt;</th></tr>\n",
              "</thead>\n",
              "<tbody>\n",
              "\t<tr><th scope=row>2</th><td> 3</td><td>Trek Bicycles</td><td>Standard</td><td>2091.47</td></tr>\n",
              "\t<tr><th scope=row>16</th><td> 3</td><td>Trek Bicycles</td><td>Standard</td><td>2091.47</td></tr>\n",
              "\t<tr><th scope=row>69</th><td>38</td><td>Trek Bicycles</td><td>Standard</td><td>2091.47</td></tr>\n",
              "\t<tr><th scope=row>154</th><td> 3</td><td>Trek Bicycles</td><td>Standard</td><td>2091.47</td></tr>\n",
              "\t<tr><th scope=row>165</th><td> 3</td><td>Trek Bicycles</td><td>Standard</td><td>2091.47</td></tr>\n",
              "\t<tr><th scope=row>188</th><td> 3</td><td>Trek Bicycles</td><td>Standard</td><td>2091.47</td></tr>\n",
              "</tbody>\n",
              "</table>\n"
            ],
            "text/markdown": "\nA data.frame: 6 × 4\n\n| <!--/--> | product_id &lt;int&gt; | brand &lt;chr&gt; | product_line &lt;chr&gt; | list_price &lt;dbl&gt; |\n|---|---|---|---|---|\n| 2 |  3 | Trek Bicycles | Standard | 2091.47 |\n| 16 |  3 | Trek Bicycles | Standard | 2091.47 |\n| 69 | 38 | Trek Bicycles | Standard | 2091.47 |\n| 154 |  3 | Trek Bicycles | Standard | 2091.47 |\n| 165 |  3 | Trek Bicycles | Standard | 2091.47 |\n| 188 |  3 | Trek Bicycles | Standard | 2091.47 |\n\n",
            "text/latex": "A data.frame: 6 × 4\n\\begin{tabular}{r|llll}\n  & product\\_id & brand & product\\_line & list\\_price\\\\\n  & <int> & <chr> & <chr> & <dbl>\\\\\n\\hline\n\t2 &  3 & Trek Bicycles & Standard & 2091.47\\\\\n\t16 &  3 & Trek Bicycles & Standard & 2091.47\\\\\n\t69 & 38 & Trek Bicycles & Standard & 2091.47\\\\\n\t154 &  3 & Trek Bicycles & Standard & 2091.47\\\\\n\t165 &  3 & Trek Bicycles & Standard & 2091.47\\\\\n\t188 &  3 & Trek Bicycles & Standard & 2091.47\\\\\n\\end{tabular}\n",
            "text/plain": [
              "    product_id brand         product_line list_price\n",
              "2    3         Trek Bicycles Standard     2091.47   \n",
              "16   3         Trek Bicycles Standard     2091.47   \n",
              "69  38         Trek Bicycles Standard     2091.47   \n",
              "154  3         Trek Bicycles Standard     2091.47   \n",
              "165  3         Trek Bicycles Standard     2091.47   \n",
              "188  3         Trek Bicycles Standard     2091.47   "
            ]
          },
          "metadata": {}
        }
      ],
      "source": [
        "expensive <- bike.store[bike.store$list_price > 2090, c(2, 7:8, 11)]\n",
        "head(expensive)"
      ],
      "id": "145530ae-78c7-40e1-a14a-f6e97a8b8601"
    },
    {
      "cell_type": "markdown",
      "source": [
        "# <a name=\"cc\">Creative Commons License Information</a>\n",
        "---\n",
        "\n",
        "<a rel=\"license\" href=\"https://creativecommons.org/licenses/by-nc-sa/4.0/\"><img alt=\"Creative Commons License\" style=\"border-width:0\" src=\"https://i.creativecommons.org/l/by-nc-sa/4.0/80x15.png\" /></a><br /><span\n",
        "xmlns:dct=\"http://purl.org/dc/terms/\" property=\"dct:title\">*Inquiry\n",
        "Oriented Statistics*</font> by\n",
        "<a xmlns:cc=\"http://creativecommons.org/ns#\" href=\"https://github.com/CU-Denver-MathStats-OER/Statistical-Theory\" property=\"cc:attributionName\" rel=\"cc:attributionURL\">Adam\n",
        "Spiegler</a> is licensed under a\n",
        "<a rel=\"license\" href=\"http://creativecommons.org/licenses/by-nc-sa/4.0/\">Creative\n",
        "Commons Attribution-NonCommercial-ShareAlike 4.0 International\n",
        "License</a>."
      ],
      "metadata": {
        "id": "0LUMgFshjsYa"
      },
      "id": "0LUMgFshjsYa"
    }
  ],
  "nbformat": 4,
  "nbformat_minor": 5,
  "metadata": {
    "kernelspec": {
      "name": "ir",
      "display_name": "R",
      "language": "R"
    },
    "colab": {
      "provenance": [],
      "toc_visible": true
    }
  }
}