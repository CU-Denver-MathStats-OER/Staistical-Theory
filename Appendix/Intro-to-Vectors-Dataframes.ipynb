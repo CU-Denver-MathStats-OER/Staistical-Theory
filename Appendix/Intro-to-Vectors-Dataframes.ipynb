{
 "cells": [
  {
   "cell_type": "markdown",
   "metadata": {},
   "source": [
    "# What Are Packages in R?\n",
    "\n",
    "------------------------------------------------------------------------\n",
    "\n",
    "R packages are a collection functions, sample data, and/or other code\n",
    "scripts. R installs a set of default packages during installation. In\n",
    "this case, we are working with R in a cloud using [Google\n",
    "Colaboratory](https://colab.research.google.com/). The files, code, and\n",
    "data associated to installed packages are saved in the cloud and not\n",
    "locally on your computer. Many R packages have already been installed.\n",
    "\n",
    "## Loading Packages with the `library()` Command\n",
    "\n",
    "------------------------------------------------------------------------\n",
    "\n",
    "Each time we start or restart a new session and want to access the\n",
    "library of functions and data in the package, we need to load the\n",
    "library of files in the package with the `library()` command.\n",
    "\n",
    "To demonstrate how to create common statistical plots in R, we will use\n",
    "the `storms` data set which is located in the package `dplyr`.\n",
    "\n",
    "-   The `dplyr` package is already installed in Google Colaboratory\n",
    "-   We still need to use a `library` command to load the package.\n",
    "-   **Run the code cell below to load the `dplyr` package.**"
   ],
   "id": "b5892d34-2ce0-48ad-89c1-2a22d42931bd"
  },
  {
   "cell_type": "code",
   "execution_count": null,
   "metadata": {},
   "outputs": [],
   "source": [
    "# load the library of functions and data in dplyr\n",
    "library(dplyr)"
   ],
   "id": "d2b5bd4f-f53b-4738-bce9-7f31ffb8f04d"
  },
  {
   "cell_type": "markdown",
   "metadata": {},
   "source": [
    "## Reloading Packages When Restarting a Session\n",
    "\n",
    "------------------------------------------------------------------------\n",
    "\n",
    "If we take a break in our work, it is possible our R session will time\n",
    "out and close. <span style=\"color: tomato;\">**Each time we restart an R\n",
    "session, we will need to rerun `library()` commands in order reload any\n",
    "packages we plan to use**</span>.\n",
    "\n",
    "The same caution applies to any objects, vectors, or data frames we\n",
    "create or edit in an R session. If a session times out, and we want to\n",
    "use an object `x` that we previously created, we will need to run the\n",
    "code cell(s) where object `x` is created again before we can refer back\n",
    "to `x` in the current session.\n",
    "\n",
    "**BE SURE YOU RUN THE COMMAND `library(dplyr)` BEFORE ATTEMPTING TO RUN\n",
    "ANY OF THE CODE CELLS BELOW!**\n",
    "\n",
    "## Help Documentation\n",
    "\n",
    "------------------------------------------------------------------------\n",
    "\n",
    "The plotting functions introduced in this document have robust help\n",
    "documentation with lots of options to customize your plots. If you want\n",
    "to view help documentation for any of the functions used in this\n",
    "document, run commands such`?hist`, `?plot`, `?table`, and so on."
   ],
   "id": "5758a479-40bc-47cd-903a-3dae59fc9f04"
  },
  {
   "cell_type": "code",
   "execution_count": null,
   "metadata": {},
   "outputs": [],
   "source": [
    "# access help documentation for storms\n",
    "?storms  # side panel should open with help manual for storms"
   ],
   "id": "b6ee9f16-81aa-4ba7-82ce-6ba035b40bac"
  },
  {
   "cell_type": "code",
   "execution_count": null,
   "metadata": {},
   "outputs": [],
   "source": [
    "# access help documentation for typeof\n",
    "?typeof"
   ],
   "id": "2a1769d2-ae5d-4bfd-81aa-6533973d3dd3"
  },
  {
   "cell_type": "markdown",
   "metadata": {},
   "source": [
    "# Getting to Know Our Data\n",
    "\n",
    "------------------------------------------------------------------------\n",
    "\n",
    "The package `dplyr` contains a data set called `storms`. Let’s find some\n",
    "useful information about this data.\n",
    "\n",
    "-   The code cell below will provide a numeric summary of all variables\n",
    "    in the `storms` data.\n",
    "-   Recall we need to first run the command `library(dplyr)` in the code\n",
    "    cell above to be able to access `storms`."
   ],
   "id": "40eb1fcf-6f5b-4c86-ac9e-f358f754dfed"
  },
  {
   "cell_type": "code",
   "execution_count": null,
   "metadata": {},
   "outputs": [],
   "source": [
    "# get a numerical summary of all variables\n",
    "summary(storms)"
   ],
   "id": "998440bf-3e94-43a6-985e-c88dcc897ebc"
  },
  {
   "cell_type": "markdown",
   "metadata": {},
   "source": [
    "## Missing Data\n",
    "\n",
    "------------------------------------------------------------------------\n",
    "\n",
    "A <span style=\"color: dodgerblue;\">**missing value**</span> occurs when\n",
    "the value of something isn’t known. R uses the special object `NA` to\n",
    "represent missing value. If you have a missing value, you should\n",
    "represent that value as `NA`. Note: The character string `\"NA\"` is not\n",
    "the same thing as `NA`.\n",
    "\n",
    "-   The `storms` data has properly coded 14,382 missing values for\n",
    "    `category` since storms that are not hurricanes do not have a\n",
    "    category.\n",
    "-   The `storms` data has properly coded 9,512 missing values for each\n",
    "    of `tropicalstorm_force_diameter` and `hurricane_force_diameter`\n",
    "    since these were recorded starting in 2004.\n",
    "\n",
    "# Assignment to New (or Existing) Objects\n",
    "\n",
    "------------------------------------------------------------------------\n",
    "\n",
    "To store a data structure in the computer’s memory we must assign it a\n",
    "name.\n",
    "\n",
    "Data structures can be stored using the assignment operator `<-` or `=`.\n",
    "\n",
    "Some comments:\n",
    "\n",
    "-   In general, both `<-` and `=` *can* be used for assignment.\n",
    "-   `<-` and `=` can be used identically most of the time, but not\n",
    "    always.\n",
    "-   <span style=\"color: dodgerblue;\">**It’s safer and more conventional\n",
    "    to use `<-` for assignment**</span>.\n",
    "\n",
    "In the following code, we compute the mean of a vector. **Why can’t we\n",
    "see the result after running it**?"
   ],
   "id": "8427a0c9-f15a-45ba-9280-2adc4d744beb"
  },
  {
   "cell_type": "code",
   "execution_count": null,
   "metadata": {},
   "outputs": [],
   "source": [
    "w <- storms$wind  # wind is now stored in w\n",
    "xbar.w <- mean(w)  # compute mean wind speed and assign to xbar.w"
   ],
   "id": "f140dcb0-756d-4490-9df3-0d6970cab43c"
  },
  {
   "cell_type": "markdown",
   "metadata": {},
   "source": [
    "-   Once an object has been assigned a name, it can be printed by\n",
    "    executing the name of the object."
   ],
   "id": "e88dd443-c41d-4ec4-ba6b-1630d0f1f63c"
  },
  {
   "cell_type": "code",
   "execution_count": null,
   "metadata": {},
   "outputs": [],
   "source": [
    "xbar.w  # print the mean wind speed to screen"
   ],
   "id": "47780623-5ce7-4b23-a6fb-cb4b034e964e"
  },
  {
   "cell_type": "markdown",
   "metadata": {},
   "source": [
    "-   We can also print an object to screen using the `print()` function."
   ],
   "id": "53518142-0fae-4ca8-9b82-d4846a4d89d2"
  },
  {
   "cell_type": "code",
   "execution_count": null,
   "metadata": {},
   "outputs": [],
   "source": [
    "print(xbar.w)  # print the mean with print() command"
   ],
   "id": "3f7751de-c6f9-4899-9061-3fd91e07a8c3"
  },
  {
   "cell_type": "markdown",
   "metadata": {},
   "source": [
    "-   We can calculate, assign, and print the result by putting\n",
    "    parenthesis around the assignment."
   ],
   "id": "efe1f4a1-2a4d-476c-ab24-c15408c6e2c2"
  },
  {
   "cell_type": "code",
   "execution_count": null,
   "metadata": {},
   "outputs": [],
   "source": [
    "# calculate, assign, and print standard deviation\n",
    "(s <- sd(w))  # note ( ) around the entire command"
   ],
   "id": "d8711d27-e29b-4fec-8cb8-6dd85b620345"
  },
  {
   "cell_type": "markdown",
   "metadata": {},
   "source": [
    "-   **Sometimes you want to see the result of a code cell, and sometimes\n",
    "    you will not.**\n",
    "\n",
    "# Basic Data Types\n",
    "\n",
    "------------------------------------------------------------------------\n",
    "\n",
    "R has 6 basic [data\n",
    "types](https://cran.r-project.org/doc/manuals/r-release/R-lang.html#Basic-types):\n",
    "\n",
    "1.  **character**: collections of characters. E.g., `\"a\"`,\n",
    "    `\"hello world!\"`\n",
    "2.  **double**: decimal numbers. e.g., `1.2`, `1.0`\n",
    "3.  **integer**: whole numbers. In R, you must add `L` to the end of a\n",
    "    number to specify it as an integer. E.g., `1L` is an integer but `1`\n",
    "    is a double.\n",
    "4.  **logical**: Boolean values, `TRUE` and `FALSE`\n",
    "5.  **complex**: complex numbers. E.g., `1+3i`\n",
    "6.  **raw**: a type to hold raw bytes.\n",
    "\n",
    "## Checking Data Type Using `typeof()`\n",
    "\n",
    "------------------------------------------------------------------------\n",
    "\n",
    "-   The `typeof()` function returns the R internal type or storage mode\n",
    "    of any object."
   ],
   "id": "482cad2c-3c0c-4e76-8ee5-b277633a3caf"
  },
  {
   "cell_type": "code",
   "execution_count": null,
   "metadata": {},
   "outputs": [],
   "source": [
    "typeof(1.0)\n",
    "typeof(2)\n",
    "typeof(3L)\n",
    "typeof(\"hello\")\n",
    "typeof(TRUE)\n",
    "typeof(storms$status)\n",
    "typeof(storms$year)\n",
    "typeof(storms$name)"
   ],
   "id": "aaaeeedc-d19b-4b18-a818-78f3ac803029"
  },
  {
   "cell_type": "markdown",
   "metadata": {},
   "source": [
    "## Investigating Data Types with `is.numeric()` and `str()`\n",
    "\n",
    "------------------------------------------------------------------------\n",
    "\n",
    "-   The `is.numeric(x)` function tests whether or not an object `x` is\n",
    "    numeric.\n",
    "-   The `is.character(x)` function test whether `x` is a character or\n",
    "    not.\n",
    "-   The `is.factor(x)` function test whether `x` is a factor or not.\n",
    "-   <span style=\"color: dodgerblue;\">**Note: Categorical data is\n",
    "    typically stored as a `factor` in R.**</span>"
   ],
   "id": "3aba12ec-a7ce-4e02-ba58-f9a3c14e7208"
  },
  {
   "cell_type": "code",
   "execution_count": null,
   "metadata": {},
   "outputs": [],
   "source": [
    "is.numeric(storms$year)  # year is numeric\n",
    "is.numeric(storms$category)  # category is also numeric\n",
    "is.numeric(storms$name)  # name is not numeric\n",
    "is.character(storms$name)  # name is character string"
   ],
   "id": "29468d99-bee7-4a9e-99cb-4489b56ea7c8"
  },
  {
   "cell_type": "code",
   "execution_count": null,
   "metadata": {},
   "outputs": [],
   "source": [
    "is.numeric(storms$status)  # status is not numeric\n",
    "is.character(storms$status)  # status is not a character\n",
    "is.factor(storms$status)  # status is a factor which is categorical"
   ],
   "id": "0ab9461f-7c45-41f6-8710-26c272d0e3ce"
  },
  {
   "cell_type": "markdown",
   "metadata": {},
   "source": [
    "-   The `str(x)`: provides information about the levels or classes of\n",
    "    `x`."
   ],
   "id": "24e2312a-b011-4d52-832a-a50b42e7374e"
  },
  {
   "cell_type": "code",
   "execution_count": null,
   "metadata": {},
   "outputs": [],
   "source": [
    "str(storms$status)"
   ],
   "id": "297e66ee-939c-4e8a-923e-fd2d4f95af93"
  },
  {
   "cell_type": "markdown",
   "metadata": {},
   "source": [
    "## Changing Data Types\n",
    "\n",
    "------------------------------------------------------------------------\n",
    "\n",
    "### Converting to Categorical Data with `factor()`\n",
    "\n",
    "------------------------------------------------------------------------\n",
    "\n",
    "-   Sometimes we think a variable is one data type, but it is actually\n",
    "    being stored (and thus interpreted by R) as a different data type.\n",
    "-   One common issue is categorical data is stored as characters. We\n",
    "    would like observations with the same values to be group together.\n",
    "-   The `status` variable in `storms` is being properly stored as a\n",
    "    `factor`!\n",
    "-   The `category` variable in `storms` is being stored as a `numeric`\n",
    "    since it is ordinal.\n",
    "-   With ordinal categories, we may choose to keep it stored as\n",
    "    `numeric`, or we may prefer to treat them as factors."
   ],
   "id": "7bef02e7-a07b-42a1-9ddf-dc876f98cc1a"
  },
  {
   "cell_type": "code",
   "execution_count": null,
   "metadata": {},
   "outputs": [],
   "source": [
    "summary(storms$category)"
   ],
   "id": "6fba3fd7-8a4e-4256-8a6f-95d541042d8e"
  },
  {
   "cell_type": "markdown",
   "metadata": {},
   "source": [
    "-   The summary of `category` computes statistics such as mean and\n",
    "    median.\n",
    "-   Typically with categorical data, we prefer to count how many\n",
    "    observations are in each class of the variable.\n",
    "-   In the code cell below, we convert `category` to a factor, and then\n",
    "    observe the resulting summary."
   ],
   "id": "df8d97f2-2fb8-4491-8547-d64e38378150"
  },
  {
   "cell_type": "code",
   "execution_count": null,
   "metadata": {},
   "outputs": [],
   "source": [
    "storms$category <- factor(storms$category)\n",
    "summary(storms$category)"
   ],
   "id": "4c793638-4d1c-46b9-a976-aa440af0fc35"
  },
  {
   "cell_type": "markdown",
   "metadata": {},
   "source": [
    "### Converting Data Types with `as.numeric()`, `as.integer()`, etc.\n",
    "\n",
    "------------------------------------------------------------------------\n",
    "\n",
    "From the summary of the `storms` data set we first found above, we see\n",
    "that the variables `year` and `month` are being stored as `double`.\n",
    "These variables actually are integer values.\n",
    "\n",
    "We can convert another variable of one format into another format using\n",
    "`as.[new_datatype]()`\n",
    "\n",
    "-   For example, to convert to year to `integer`, we use\n",
    "    `as.integer(storms$year)`.\n",
    "-   To convert a data type to character, we can use `as.character(x)`.\n",
    "-   To convert to a decimal (`double`), we can use `as.numeric(x)`"
   ],
   "id": "050a6711-068a-415a-8161-03e74f2ee03e"
  },
  {
   "cell_type": "code",
   "execution_count": null,
   "metadata": {},
   "outputs": [],
   "source": [
    "typeof(storms$year)\n",
    "typeof(storms$month)\n",
    "storms$year <- as.integer(storms$year)\n",
    "storms$month <- as.integer(storms$month)\n",
    "typeof(storms$year)\n",
    "typeof(storms$month)"
   ],
   "id": "68e263cd-738f-4690-b276-cb52d030527c"
  },
  {
   "cell_type": "markdown",
   "metadata": {},
   "source": [
    "# Data structures\n",
    "\n",
    "------------------------------------------------------------------------\n",
    "\n",
    "R operates on <span style=\"color: dodgerblue;\">**data\n",
    "structures**</span>. A data structure is simply some sort of “container”\n",
    "that holds certain kinds of information\n",
    "\n",
    "R has 5 basic data structures:\n",
    "\n",
    "-   **vector**: One dimensional object of a single data type.\n",
    "-   **matrix**: Two dimensional object of a single data type.\n",
    "-   **array**: $n$ dimensional object of a single data type.\n",
    "-   **data frame**: Two dimensional object where each column can be a\n",
    "    different data type.\n",
    "-   **list**: An object that contains elements of different types like\n",
    "    (and possibly another list inside it).\n",
    "\n",
    "[See R\n",
    "documentation](https://cran.r-project.org/doc/manuals/r-release/R-lang.html#List-objects)\n",
    "for more info.\n",
    "\n",
    "## Vectors\n",
    "\n",
    "------------------------------------------------------------------------\n",
    "\n",
    "A <span style=\"color: dodgerblue;\">**vector**</span> is a\n",
    "single-dimensional set of data of the same type.\n",
    "\n",
    "### Creating Vectors from Scratch\n",
    "\n",
    "------------------------------------------------------------------------\n",
    "\n",
    "The most basic way to create a vector is the combine function `c`. The\n",
    "following commands create vectors of type numeric, character, and\n",
    "logical, respectively."
   ],
   "id": "7a2e41d1-3371-4f21-8f7d-4de24683b487"
  },
  {
   "cell_type": "code",
   "execution_count": null,
   "metadata": {},
   "outputs": [],
   "source": [
    "x1 <- c(1, 2, 5.3, 6, -2, 4)\n",
    "x2 <- c(\"one\", \"two\", \"three\")\n",
    "x3 <- c(TRUE, TRUE, FALSE, TRUE)\n",
    "x4 <- c(TRUE, 3.4, \"hello\")\n",
    "typeof(x1)\n",
    "typeof(x2)\n",
    "typeof(x3)\n",
    "typeof(x4)"
   ],
   "id": "cf422d8e-7b81-43a0-9c56-7e9882f54942"
  },
  {
   "cell_type": "markdown",
   "metadata": {},
   "source": [
    "-   We can check the data structure of an object using commands such as\n",
    "    `is.vector()`, `is.list()`, `is.matrix()`, and so on."
   ],
   "id": "31cc536b-a7d0-4c40-97ae-4968bad0c696"
  },
  {
   "cell_type": "code",
   "execution_count": null,
   "metadata": {},
   "outputs": [],
   "source": [
    "is.list(x1)\n",
    "is.vector(x1)\n",
    "is.list(x4)\n",
    "is.vector(x4)"
   ],
   "id": "ca3a6ea4-a4bc-488d-bdbe-4d1bfa4ce073"
  },
  {
   "cell_type": "markdown",
   "metadata": {},
   "source": [
    "## Data Frames\n",
    "\n",
    "------------------------------------------------------------------------\n",
    "\n",
    "<span style=\"color: dodgerblue;\">**Data frames**</span> are\n",
    "two-dimensional data objects and are the **fundamental** data structure\n",
    "used by most of R’s libraries of functions and data sets.\n",
    "\n",
    "-   Tabular data is <span style=\"color: dodgerblue;\">**tidy**</span> if\n",
    "    each row corresponds to a different observation and column\n",
    "    corresponds to a different variable.\n",
    "\n",
    "Each column of a data frame is a <span\n",
    "style=\"color: dodgerblue;\">**variable**</span> (stored as a **vector**).\n",
    "If the variable:\n",
    "\n",
    "-   Is measured or counted by a number, it is a <span\n",
    "    style=\"color: dodgerblue;\">**quantitative**</span> or <span\n",
    "    style=\"color: dodgerblue;\">**numerical**</span> variable.\n",
    "-   Groups observations into different categories or rankings, it is a\n",
    "    <span style=\"color: dodgerblue;\">**qualitative**</span> or <span\n",
    "    style=\"color: dodgerblue;\">**categorical**</span> variable.\n",
    "\n",
    "### Creating Data Frames from Scratch\n",
    "\n",
    "------------------------------------------------------------------------\n",
    "\n",
    "Data frames are created by passing vectors into the `data.frame()`\n",
    "function.\n",
    "\n",
    "The names of the columns in the data frame are the names of the vectors\n",
    "you give the `data.frame` function.\n",
    "\n",
    "Consider the following simple example."
   ],
   "id": "0fe1360a-9201-4ea3-8551-d78e6614952c"
  },
  {
   "cell_type": "code",
   "execution_count": null,
   "metadata": {},
   "outputs": [],
   "source": [
    "# create basic data frame\n",
    "d <- c(1, 2, 3, 4)\n",
    "e <- c(\"red\", \"white\", \"blue\", NA)\n",
    "f <- c(TRUE, TRUE, TRUE, FALSE)\n",
    "df <- data.frame(d,e,f)\n",
    "df"
   ],
   "id": "f7d87274-78a7-4600-b3f6-5e1cd2e6a732"
  },
  {
   "cell_type": "markdown",
   "metadata": {},
   "source": [
    "### Naming Column Headers\n",
    "\n",
    "------------------------------------------------------------------------\n",
    "\n",
    "The columns of a data frame can be renamed using the `names()` function\n",
    "on the data frame."
   ],
   "id": "68e3627c-cc6a-4887-830f-3ff609eef92f"
  },
  {
   "cell_type": "code",
   "execution_count": null,
   "metadata": {},
   "outputs": [],
   "source": [
    "# name columns of data frame\n",
    "names(df) <- c(\"ID\", \"Color\", \"Passed\")\n",
    "df"
   ],
   "id": "4986a1e1-c5be-486a-93d4-0ec20680da6f"
  },
  {
   "cell_type": "markdown",
   "metadata": {},
   "source": [
    "The columns of a data frame can be named when you are first creating the\n",
    "data frame by using `[new_name] = [orig_vec_name]` for each vector of\n",
    "data."
   ],
   "id": "34885bd3-f558-4276-8457-ffa20cb98b61"
  },
  {
   "cell_type": "code",
   "execution_count": null,
   "metadata": {},
   "outputs": [],
   "source": [
    "# create data frame with better column names\n",
    "df2 <- data.frame(ID = d, Color = e, Passed = f)\n",
    "df2"
   ],
   "id": "6381594b-c74b-4f28-b943-5cf302ae1b53"
  },
  {
   "cell_type": "markdown",
   "metadata": {},
   "source": [
    "## Checking Data Structure\n",
    "\n",
    "------------------------------------------------------------------------\n",
    "\n",
    "-   The `is.matrix(x)` function tests whether or not an object `x` is a\n",
    "    matrix.\n",
    "-   The `is.vector(x)` function test whether `x` is a vector.\n",
    "-   The `is.data.frame(x)` function test whether `x` is a data frame."
   ],
   "id": "a14e2aa8-602e-4d5d-b801-96ed4830a9da"
  },
  {
   "cell_type": "code",
   "execution_count": null,
   "metadata": {},
   "outputs": [],
   "source": [
    "is.matrix(df)\n",
    "is.vector(df)\n",
    "is.data.frame(df)"
   ],
   "id": "491197e1-eabe-4054-9ef4-7a84cddc22fb"
  },
  {
   "cell_type": "markdown",
   "metadata": {},
   "source": [
    "# Extracting and Slicing Data Frames\n",
    "\n",
    "------------------------------------------------------------------------\n",
    "\n",
    "## Extracting a Column By Name\n",
    "\n",
    "------------------------------------------------------------------------\n",
    "\n",
    "The column vectors of a data frame may be extracted using `$` and\n",
    "specifying the name of the desired vector.\n",
    "\n",
    "-   `df$Color` would access the `Color` column of data frame `df`."
   ],
   "id": "f60c95f9-a47b-44cb-a6fb-ae06f44c11a4"
  },
  {
   "cell_type": "code",
   "execution_count": null,
   "metadata": {},
   "outputs": [],
   "source": [
    "df$Color  # prints column of data frame df named Color"
   ],
   "id": "18211c52-2092-4a47-9784-cc45ee4a74f7"
  },
  {
   "cell_type": "markdown",
   "metadata": {},
   "source": [
    "## Slicing Rows and Columns By Indexing\n",
    "\n",
    "------------------------------------------------------------------------\n",
    "\n",
    "Part of a data frame can also be extracted by thinking of at as a\n",
    "general matrix and specifying the desired rows or columns in square\n",
    "brackets after the object name.\n",
    "\n",
    "-   <span style=\"color: dodgerblue;\">**Note R starts with index 1 which\n",
    "    is different from Python which indexes starting from 0.**</span>\n",
    "\n",
    "For example, if we had a data frame named `df`:\n",
    "\n",
    "-   `df[1,]` would access the first row of `df`.\n",
    "-   `df[1:2,]` would access the first two rows of `df`.\n",
    "-   `df[,2]` would access the second column of `df`.\n",
    "-   `df[1:2, 2:3]` would access the information in rows 1 and 2 of\n",
    "    columns 2 and 3 of `df`."
   ],
   "id": "eaf4605d-06bc-40e4-94bc-3134147138e4"
  },
  {
   "cell_type": "code",
   "execution_count": null,
   "metadata": {},
   "outputs": [],
   "source": [
    "df[,2]  # second column is Color"
   ],
   "id": "2f262f39-62e7-4872-9b5d-38bf79cd1092"
  },
  {
   "cell_type": "code",
   "execution_count": null,
   "metadata": {},
   "outputs": [],
   "source": [
    "df[2,]  # second row of df"
   ],
   "id": "c5201b42-3874-433e-be56-5caa7c789cb6"
  },
  {
   "cell_type": "code",
   "execution_count": null,
   "metadata": {},
   "outputs": [],
   "source": [
    "df[1:2,2:3]  # first and second rows of columns 2 and 3"
   ],
   "id": "e2bbba5d-aefa-42f1-82f0-6f84b18d2b4e"
  },
  {
   "cell_type": "markdown",
   "metadata": {},
   "source": [
    "If you need to select multiple columns of a data frame by name, you can\n",
    "pass a character vector with column names in the column position of\n",
    "`[]`.\n",
    "\n",
    "-   `df[, c(\"ID\", \"Passed\")]` would extract the `ID` and `Passed`\n",
    "    columns of `df`."
   ],
   "id": "c5967240-1844-447e-b325-d4a1eaa5af77"
  },
  {
   "cell_type": "code",
   "execution_count": null,
   "metadata": {},
   "outputs": [],
   "source": [
    "df[, c(\"Color\", \"Passed\")]"
   ],
   "id": "7c35e5bd-f491-4044-b541-077663207beb"
  },
  {
   "cell_type": "code",
   "execution_count": null,
   "metadata": {},
   "outputs": [],
   "source": [
    "df[, c(1, 3)]  # another we to pick columns 1 and 3"
   ],
   "id": "ba977afa-d340-4c96-8421-85db6c0d0b7a"
  },
  {
   "cell_type": "code",
   "execution_count": null,
   "metadata": {},
   "outputs": [],
   "source": [
    "# another we to pick columns 1 and 3\n",
    "df[, -2]  # exclude column 2"
   ],
   "id": "42dafe38-abfe-4ec6-89ff-e03f141c5c83"
  },
  {
   "cell_type": "markdown",
   "metadata": {},
   "source": [
    "# Importing an External File as a Data Frame\n",
    "\n",
    "------------------------------------------------------------------------\n",
    "\n",
    "The `read.table` function imports data from file into R as a data frame.\n",
    "\n",
    "Usage: `read.table(file, header = TRUE, sep = \",\")`\n",
    "\n",
    "-   `file` is the file path and name of the file you want to import into\n",
    "    R.\n",
    "    -   If you don’t know the file path, set `file = file.choose()` will\n",
    "        bring up a dialog box asking you to locate the file you want to\n",
    "        import.\n",
    "-   `header` specifies whether the data file has a header (variable\n",
    "    labels for each column of data in the first row of the data file).\n",
    "    -   If you don’t specify this option in R or use `header = FALSE`,\n",
    "        then R will assume the file doesn’t have any headings.\n",
    "    -   `header = TRUE` tells R to read in the data as a data frame with\n",
    "        column names taken from the first row of the data file.\n",
    "-   `sep` specifies the delimiter separating elements in the file.\n",
    "    -   If each column of data in the file is separated by a space, then\n",
    "        use `sep = \" \"`\n",
    "    -   If each column of data in the file is separated by a comma, then\n",
    "        use `sep = \",\"`\n",
    "    -   If each column of data in the file is separated by a tab, then\n",
    "        use `sep = \"\\t\"`.\n",
    "\n",
    "Here is an example reading a csv (comma separated file) with a header:"
   ],
   "id": "0c8fed47-ce43-41e7-99b5-6f907a9e0fcb"
  },
  {
   "cell_type": "code",
   "execution_count": null,
   "metadata": {},
   "outputs": [],
   "source": [
    "# import data as data frame\n",
    "bike.store <- read.table(file = \"https://raw.githubusercontent.com/CU-Denver-MathStats-OER/Statistical-Theory/main/Data/Transactions.csv \",\n",
    "                  header = TRUE,  # Keep column headers as names\n",
    "                  sep = \",\")  # comma as separator of columns\n",
    "\n",
    "glimpse(bike.store)"
   ],
   "id": "08ab26a1-50d7-4abd-9449-2057b529e3be"
  },
  {
   "cell_type": "markdown",
   "metadata": {},
   "source": [
    "-   The `glimpse()` function provides a nice summary of the structure.\n",
    "-   Run the code cell below to see the various options of\n",
    "    `read.table()`.\n",
    "-   There are other functions and packages that may be better at reading\n",
    "    in tabular data. `read.table()` is a good place to start!"
   ],
   "id": "9d252d26-d997-4f97-ae5b-7ed748bd6275"
  },
  {
   "cell_type": "code",
   "execution_count": null,
   "metadata": {},
   "outputs": [],
   "source": [
    "?read.table"
   ],
   "id": "a0fbecf4-c7fa-4954-abdb-14425f1c0b32"
  },
  {
   "cell_type": "markdown",
   "metadata": {},
   "source": [
    "# Logical Statements\n",
    "\n",
    "------------------------------------------------------------------------\n",
    "\n",
    "## Basic comparisons\n",
    "\n",
    "------------------------------------------------------------------------\n",
    "\n",
    "Sometimes we need to know if the elements of an object satisfy certain\n",
    "conditions. This can be determined using the logical operators `<`,\n",
    "`<=`, `>`, `>=`, `==`, `!=`.\n",
    "\n",
    "-   `==` means equal to.\n",
    "-   `!=` means NOT equal to.\n",
    "\n",
    "Execute the following commands in R and see what you get."
   ],
   "id": "3da0527a-2747-4265-9280-dafcdf4fcaf0"
  },
  {
   "cell_type": "code",
   "execution_count": null,
   "metadata": {},
   "outputs": [],
   "source": [
    "a <- seq(2, 16, by = 2) # creating the vector a\n",
    "a\n",
    "a > 10\n",
    "a <= 4\n",
    "a == 10\n",
    "a != 10"
   ],
   "id": "93cb2824-398d-43cf-aa88-e69454cc45cc"
  },
  {
   "cell_type": "markdown",
   "metadata": {},
   "source": [
    "## And and Or Statements\n",
    "\n",
    "------------------------------------------------------------------------\n",
    "\n",
    "More complicated logical statements can be made using `&` and `|`.\n",
    "\n",
    "-   `&` means “and”\n",
    "    -   Both statements must be true for `state1 & state2` to return\n",
    "        `TRUE`.\n",
    "-   `|` means “or”\n",
    "    -   Only one of the the two statements must be true for\n",
    "        `state1 | state2` to return `TRUE`.\n",
    "    -   If both statements are true in an “or” statement, the statement\n",
    "        is also `TRUE`.\n",
    "\n",
    "Below is a summary of “and” and “or” logic:\n",
    "\n",
    "-   `TRUE & TRUE` returns `TRUE`\n",
    "-   `FALSE & TRUE` returns `FALSE`\n",
    "-   `FALSE & FALSE` returns `FALSE`\n",
    "-   `TRUE | TRUE` returns `TRUE`\n",
    "-   `FALSE | TRUE` returns `TRUE`\n",
    "-   `FALSE | FALSE` returns `FALSE`"
   ],
   "id": "2b12fbfd-5800-4a19-8e9d-9caf6f0a9861"
  },
  {
   "cell_type": "code",
   "execution_count": null,
   "metadata": {},
   "outputs": [],
   "source": [
    "# relationship between logicals & (and), | (or)\n",
    "TRUE & TRUE\n",
    "FALSE & TRUE\n",
    "FALSE & FALSE\n",
    "TRUE | TRUE\n",
    "FALSE | TRUE\n",
    "FALSE | FALSE"
   ],
   "id": "9dd9ddf7-f32d-45e8-bee5-a32840d12d43"
  },
  {
   "cell_type": "markdown",
   "metadata": {},
   "source": [
    "Execute the following commands in R and see what you get."
   ],
   "id": "c1663406-6e54-4f9c-ae0b-de9f92bae9e9"
  },
  {
   "cell_type": "code",
   "execution_count": null,
   "metadata": {},
   "outputs": [],
   "source": [
    "b <- 3  # b is equal to the number 3\n",
    "\n",
    "# complex logical statements\n",
    "(b > 6) & (b <= 10)  # FALSE and TRUE\n",
    "(b <= 4) | (b >= 12)  # TRUE or FALSE"
   ],
   "id": "9a74dbea-f672-4329-aaaf-64b8fcc8714b"
  },
  {
   "cell_type": "markdown",
   "metadata": {},
   "source": [
    "## Logical Indexing\n",
    "\n",
    "------------------------------------------------------------------------\n",
    "\n",
    "We can use a logical statement as an index to extract certain entries\n",
    "from a vector or data frame. For example, if we want to to know the\n",
    "`product_id` (column 2), `brand` (column 7), `product_line` (column 8),\n",
    "and `list_price` (column 11) of all transactions that have a\n",
    "`list_price` greater than \\$2,090, we can run the code cell below.\n",
    "\n",
    "-   We use a logical index for the row to extract just the rows that\n",
    "    have a `list_price` value strictly greater than 2090.\n",
    "-   We indicate we want to keep just columns 2, 7 through 8, and 11 with\n",
    "    the column index `c(2, 7:8, 11)`.\n",
    "-   We store the results to a new data frame named `expensive`.\n",
    "-   Finally, we print the first 6 rows of our new data frame with the\n",
    "    `head()` function to check the results."
   ],
   "id": "7476c618-c7e1-4d38-829d-8dd80aebe9ee"
  },
  {
   "cell_type": "code",
   "execution_count": null,
   "metadata": {},
   "outputs": [],
   "source": [
    "expensive <- bike.store[bike.store$list_price > 2090, c(2, 7:8, 11)]\n",
    "head(expensive)"
   ],
   "id": "145530ae-78c7-40e1-a14a-f6e97a8b8601"
  }
 ],
 "nbformat": 4,
 "nbformat_minor": 5,
 "metadata": {
  "kernelspec": {
   "name": "ir",
   "display_name": "R",
   "language": "R"
  }
 }
}
