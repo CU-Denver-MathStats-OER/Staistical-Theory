{
 "cells": [
  {
   "cell_type": "markdown",
   "metadata": {},
   "source": [
    "# Table of Contents:\n",
    "\n",
    "------------------------------------------------------------------------\n",
    "\n",
    "This file is intended to be a quick reference to give an overview of\n",
    "some common aspects of working in R.\n",
    "\n",
    "-   [Loading Packages and Getting Help in\n",
    "    R](#loading-packages-and-getting-help-in-r)\n",
    "-   [Basic Data Types](#basic-data-types)\n",
    "-   [Checking Data Type Using\n",
    "    `typeof()`](#checking-data-type-using-typeof) and\n",
    "-   [Changing Data Types](#changing-data-types)\n",
    "-   Different [Data structures](#data-structures): Vectors, Matrices,\n",
    "    Data Frames, etc.\n",
    "-   [Importing an External File as a Data\n",
    "    Frame](#importing-an-external-file-as-a-data-frame)\n",
    "-   [Logical statements](#logical-statements)\n",
    "\n",
    "# Loading Packages and Getting Help in R\n",
    "\n",
    "------------------------------------------------------------------------\n",
    "\n",
    "To illustrate some of features and terminology in R, we will use the\n",
    "`storms` dataset which is located in the package `dplyr`.\n",
    "\n",
    "-   The `dplyr` package should already be installed (if not look for the\n",
    "    link to install at the top of this window).\n",
    "-   You still need to load the package to assess the libraries of\n",
    "    functions and datasets in the packge.\n",
    "-   Run the code cell below to load `dplyr`."
   ],
   "id": "911d189a-14dd-4c8a-a240-6de2369a1dc8"
  },
  {
   "cell_type": "code",
   "execution_count": null,
   "metadata": {},
   "outputs": [],
   "source": [
    "# load the library of function and data in dplyr\n",
    "library(dplyr)"
   ],
   "id": "b78ad27e-c1f4-4a2a-8d7e-d9e648b1cff6"
  },
  {
   "cell_type": "markdown",
   "metadata": {},
   "source": [
    "## Getting Help in R\n",
    "\n",
    "------------------------------------------------------------------------\n",
    "\n",
    "-   You can click on the `Help` menu from the menu bar\n",
    "    `Markdown Quick Reference` that opens in the Help Pane.\n",
    "-   You can enter `?` followed by a command, function, dataset to view\n",
    "    help documentation that opens in the Help Pane."
   ],
   "id": "65ca0ec5-0098-4b4e-82bd-310d5fdb87bd"
  },
  {
   "cell_type": "code",
   "execution_count": null,
   "metadata": {},
   "outputs": [],
   "source": [
    "?storms"
   ],
   "id": "1708866c-5a4d-4f9a-b549-e7ae14fee9f0"
  },
  {
   "cell_type": "code",
   "execution_count": null,
   "metadata": {},
   "outputs": [],
   "source": [
    "?mean"
   ],
   "id": "d8345ae8-e440-4c44-ad3f-2165512ef202"
  },
  {
   "cell_type": "code",
   "execution_count": null,
   "metadata": {},
   "outputs": [],
   "source": [
    "summary(storms)"
   ],
   "id": "81848db8-0550-4d21-8f70-61a50da26f93"
  },
  {
   "cell_type": "markdown",
   "metadata": {},
   "source": [
    "## Missing Data\n",
    "\n",
    "------------------------------------------------------------------------\n",
    "\n",
    "A <span style=\"color: blue;\">**missing value**</span> occurs when the\n",
    "value of something isn’t known. R uses the special object `NA` to\n",
    "represent missing value.\n",
    "\n",
    "If you have a missing value, you should represent that value as `NA`.\n",
    "Note: `\"NA\"` is not the same thing as `NA`.\n",
    "\n",
    "# Assignment to New (or Existing) Objects\n",
    "\n",
    "------------------------------------------------------------------------\n",
    "\n",
    "To store a data structure in the computer’s memory we must assign it a\n",
    "name.\n",
    "\n",
    "Data structures can be stored using the assignment operator `<-` or `=`.\n",
    "\n",
    "Some comments:\n",
    "\n",
    "-   In general, both `<-` and `=` *can* be used for assignment.\n",
    "-   `<-` and `=` can be used identically most of the time, but not\n",
    "    always.\n",
    "-   It’s safer and more conventional to use `<-` for assignment.\n",
    "-   **Pressing the “Alt” and “-” keys simultaneously on a PC** or Linux\n",
    "    machine **(Option and - on a Mac)** will **insert `<-` into the R**\n",
    "    console and script files.\n",
    "\n",
    "In the following code, we compute the mean of a vector. **Why can’t we\n",
    "see the result after running it**?"
   ],
   "id": "ee58f24c-14a4-4a8d-90da-6ddadf96e106"
  },
  {
   "cell_type": "code",
   "execution_count": null,
   "metadata": {},
   "outputs": [],
   "source": [
    "w <- storms$wind  # wind is now stored in w\n",
    "xbar.w <- mean(w)  # compute mean windspeed and assign to xbar.w"
   ],
   "id": "79dd727d-a079-4e14-ab7f-32052cc55beb"
  },
  {
   "cell_type": "markdown",
   "metadata": {},
   "source": [
    "-   Once an object has been assigned a name, it can be printed by\n",
    "    executing the name of the object or using the `print` function or\n",
    "    just entering the object name."
   ],
   "id": "5019bc5b-e503-4577-bc85-861bb2b29ad2"
  },
  {
   "cell_type": "code",
   "execution_count": null,
   "metadata": {},
   "outputs": [],
   "source": [
    "xbar.w  # print the mean wind speed to screen\n",
    "print(xbar.w)  # printa different way"
   ],
   "id": "244bbcd8-47e5-44bc-a98d-87207f1d83a4"
  },
  {
   "cell_type": "markdown",
   "metadata": {},
   "source": [
    "-   **Sometimes you want to see the result of a code cell, and sometimes\n",
    "    you will not.**\n",
    "\n",
    "# Basic Data Types\n",
    "\n",
    "------------------------------------------------------------------------\n",
    "\n",
    "R has 6 basic [data\n",
    "types](https://cran.r-project.org/doc/manuals/r-release/R-lang.html#Basic-types):\n",
    "\n",
    "1.  **character**: collections of characters. E.g., `\"a\"`,\n",
    "    `\"hello world!\"`\n",
    "2.  **double**: decimal numbers. e.g., `1.2`, `1.0`\n",
    "3.  **integer**: whole numbers. In R, you must add `L` to the end of a\n",
    "    number to specify it as an integer. E.g., `1L` is an integer but `1`\n",
    "    is a double.\n",
    "4.  **logical**: Boolean values, `TRUE` and `FALSE`\n",
    "5.  **complex**: complex numbers. E.g., `1+3i`\n",
    "6.  **raw**: a type to hold raw bytes.\n",
    "\n",
    "## Checking Data Type Using `typeof()`\n",
    "\n",
    "------------------------------------------------------------------------\n",
    "\n",
    "-   The `typeof()` function returns the R internal type or storage mode\n",
    "    of any object."
   ],
   "id": "5bc39e10-ff89-4f98-ac9b-ad35122f5815"
  },
  {
   "cell_type": "code",
   "execution_count": null,
   "metadata": {},
   "outputs": [],
   "source": [
    "typeof(1.0)\n",
    "typeof(2)\n",
    "typeof(3L)\n",
    "typeof(\"hello\")\n",
    "typeof(TRUE)\n",
    "typeof(storms$status)\n",
    "typeof(storms$year)\n",
    "typeof(storms$category)"
   ],
   "id": "e5a116f3-9b17-4b1b-b73a-26cc3c4bf137"
  },
  {
   "cell_type": "markdown",
   "metadata": {},
   "source": [
    "## Investigating Data Types with `is.numeric()` and `str()`\n",
    "\n",
    "------------------------------------------------------------------------\n",
    "\n",
    "-   The `is.numeric(x)` function tests whether or not an object `x` is\n",
    "    numeric.\n",
    "-   The `is.character(x)` function test whether `x` is a character or\n",
    "    not.\n",
    "-   The `str(x)`: provides information about the class of `x`."
   ],
   "id": "c73fd577-f7ca-4aee-8b51-03659f2bcd49"
  },
  {
   "cell_type": "code",
   "execution_count": null,
   "metadata": {},
   "outputs": [],
   "source": [
    "is.numeric(storms$year)\n",
    "is.numeric(storms$category)\n",
    "is.numeric(storms$status)\n",
    "is.character(storms$status)\n",
    "str(storms$category)"
   ],
   "id": "2aeeafc5-085f-4bba-a694-6025790a6f92"
  },
  {
   "cell_type": "markdown",
   "metadata": {},
   "source": [
    "## Changing Data Types\n",
    "\n",
    "------------------------------------------------------------------------\n",
    "\n",
    "### Converting to Categorical Data with `factor()`\n",
    "\n",
    "------------------------------------------------------------------------\n",
    "\n",
    "-   Sometimes we think a variable is one data type, but it is actually\n",
    "    being stored (and thus interpreted by R) as a different data type.\n",
    "-   One common issue is categorical data is stored as characters. We\n",
    "    would like observations with the same values to be group together.\n",
    "-   Categorical data should be stored as a `factor` in R."
   ],
   "id": "a3bfa4cf-ff80-4e57-8c51-cbe8439a76db"
  },
  {
   "cell_type": "code",
   "execution_count": null,
   "metadata": {},
   "outputs": [],
   "source": [
    "storms$status <- factor(storms$status)\n",
    "summary(storms$status)"
   ],
   "id": "d2f120d1-d43d-4dde-947e-f32b7c6efeea"
  },
  {
   "cell_type": "markdown",
   "metadata": {},
   "source": [
    "### Converting Data Types with `as.numeric()`, `as.integer()`, etc.\n",
    "\n",
    "------------------------------------------------------------------------\n",
    "\n",
    "From the summary of the `storms` dataset above, we see that the variable\n",
    "`year` is being stored as `double`. Same for `day` and `month`. All of\n",
    "these variables are integers. We can convert another variable of one\n",
    "format into another format using `as.[new_datatype]()`\n",
    "\n",
    "-   For example, to convert to year to `integer`, we use\n",
    "    `as.integer(storms$year)`.\n",
    "-   To convert a data type to character, we can use `as.character(x)`.\n",
    "-   To convert to a decimal (`double`), we can use `as.numeric(x)`"
   ],
   "id": "39028028-de5e-4aab-9dfe-048861cadbca"
  },
  {
   "cell_type": "code",
   "execution_count": null,
   "metadata": {},
   "outputs": [],
   "source": [
    "storms$year <- as.integer(storms$year)\n",
    "summary(storms$year)\n",
    "storms$day <- as.integer(storms$day)\n",
    "storms$month <- as.integer(storms$month)"
   ],
   "id": "8a353dd9-2255-45d0-b020-cc4fb805f14f"
  },
  {
   "cell_type": "code",
   "execution_count": null,
   "metadata": {},
   "outputs": [],
   "source": [
    "storms$month <- as.numeric(storms$month)\n",
    "summary(storms$month)"
   ],
   "id": "8b326bb4-b58e-4075-837a-e4a07463aa94"
  },
  {
   "cell_type": "markdown",
   "metadata": {},
   "source": [
    "# Data structures\n",
    "\n",
    "------------------------------------------------------------------------\n",
    "\n",
    "R operates on <span style=\"color: blue;\">**data structures**</span>. A\n",
    "data structure is simply some sort of “container” that holds certain\n",
    "kinds of information\n",
    "\n",
    "R has 5 basic data structures:\n",
    "\n",
    "-   **vector**: One dimensional object of a single data type.\n",
    "-   **matrix**: Two dimensional object of a single data type.\n",
    "-   **array**: $n$ dimensional object of a single data type.\n",
    "-   **data frame**: Two dimensional object where each column can be a\n",
    "    different data type.\n",
    "-   **list**: An object that contains elements of different types like\n",
    "    (and possibly another list inside it).\n",
    "\n",
    "[See R\n",
    "documentation](https://cran.r-project.org/doc/manuals/r-release/R-lang.html#List-objects)\n",
    "for more info.\n",
    "\n",
    "## Vectors\n",
    "\n",
    "------------------------------------------------------------------------\n",
    "\n",
    "A <span style=\"color: blue;\">**vector**</span> is a single-dimensional\n",
    "set of data of the same type.\n",
    "\n",
    "### Creation\n",
    "\n",
    "------------------------------------------------------------------------\n",
    "\n",
    "The most basic way to create a vector is the combine function `c`. The\n",
    "following commands create vectors of type numeric, character, and\n",
    "logical, respectively."
   ],
   "id": "a2953c28-34e9-498f-9273-e658741318e2"
  },
  {
   "cell_type": "code",
   "execution_count": null,
   "metadata": {},
   "outputs": [],
   "source": [
    "x1 <- c(1, 2, 5.3, 6, -2, 4)\n",
    "x2 <- c(\"one\", \"two\", \"three\")\n",
    "x3 <- c(TRUE, TRUE, FALSE, TRUE)\n",
    "x4 <- c(TRUE, 3.4, \"hello\")\n",
    "typeof(x1)\n",
    "typeof(x2)\n",
    "typeof(x3)\n",
    "typeof(x4)"
   ],
   "id": "7dd39b19-4ce2-4ee4-ba2e-170b781f9bfe"
  },
  {
   "cell_type": "markdown",
   "metadata": {},
   "source": [
    "-   We can check the data structure of an object using commands such as\n",
    "    `is.vector()`, `is.list()`, `is.matrix()`, and so on."
   ],
   "id": "0f3431ba-b9cb-46d1-a813-e7ffdd7a86e2"
  },
  {
   "cell_type": "code",
   "execution_count": null,
   "metadata": {},
   "outputs": [],
   "source": [
    "is.list(x1)\n",
    "is.vector(x1)\n",
    "is.list(x4)\n",
    "is.vector(x4)"
   ],
   "id": "62acf08c-7b24-44b9-99ee-878a6ed8cbcd"
  },
  {
   "cell_type": "markdown",
   "metadata": {},
   "source": [
    "## Data Frames\n",
    "\n",
    "------------------------------------------------------------------------\n",
    "\n",
    "<span style=\"color: blue;\">**Data frames**</span> are two-dimensional\n",
    "data objects and are the **fundamental** data structure used by most of\n",
    "R’s libraries of functions and datasets.\n",
    "\n",
    "-   Tabular data is <span style=\"color: blue;\">**tidy**</span> if each\n",
    "    row corresponds to a different observation and column corresponds to\n",
    "    a different variable.\n",
    "\n",
    "Each column of a data frame is a\n",
    "<span style=\"color: blue;\">**variable**</span> (stored as a **vector**).\n",
    "If the variable:\n",
    "\n",
    "-   Is measured or counted by a number, it is a\n",
    "    <span style=\"color: blue;\">**quantitative**</span> or\n",
    "    <span style=\"color: blue;\">**numerical**</span> variable.\n",
    "-   Groups observations into different categories or rankings, it is a\n",
    "    <span style=\"color: blue;\">**qualitative**</span> or\n",
    "    <span style=\"color: blue;\">**categorical**</span> variable.\n",
    "\n",
    "### Creating Data Frames from Scratch\n",
    "\n",
    "------------------------------------------------------------------------\n",
    "\n",
    "Data frames are created by passing vectors into the `data.frame`\n",
    "function.\n",
    "\n",
    "The names of the columns in the data frame are the names of the vectors\n",
    "you give the `data.frame` function.\n",
    "\n",
    "Consider the following simple example."
   ],
   "id": "d7c91aef-8566-4526-8478-fb59f1a7efed"
  },
  {
   "cell_type": "code",
   "execution_count": null,
   "metadata": {},
   "outputs": [],
   "source": [
    "# create basic data frame\n",
    "d <- c(1, 2, 3, 4)\n",
    "e <- c(\"red\", \"white\", \"blue\", NA)\n",
    "f <- c(TRUE, TRUE, TRUE, FALSE)\n",
    "df <- data.frame(d,e,f)\n",
    "df"
   ],
   "id": "1d06a19a-b482-46b0-8ae1-f2291a94fe08"
  },
  {
   "cell_type": "markdown",
   "metadata": {},
   "source": [
    "The columns of a data frame can be renamed using the `names` function on\n",
    "the data frame."
   ],
   "id": "3c86c472-c26c-4964-955c-bc3602c869eb"
  },
  {
   "cell_type": "code",
   "execution_count": null,
   "metadata": {},
   "outputs": [],
   "source": [
    "# name columns of data frame\n",
    "names(df) <- c(\"ID\", \"Color\", \"Passed\")\n",
    "df"
   ],
   "id": "fefe68c8-458e-4829-9184-df7c60366a26"
  },
  {
   "cell_type": "markdown",
   "metadata": {},
   "source": [
    "The columns of a data frame can be named when you are first creating the\n",
    "data frame by using `name =` for each vector of data."
   ],
   "id": "9a805ba9-9842-48d7-8dff-a892adda3117"
  },
  {
   "cell_type": "code",
   "execution_count": null,
   "metadata": {},
   "outputs": [],
   "source": [
    "# create data frame with better column names\n",
    "df2 <- data.frame(ID = d, Color = e, Passed = f)\n",
    "df2\n",
    "df[1,]"
   ],
   "id": "5d09e6d3-ede3-4809-b2c2-120a5036fec8"
  },
  {
   "cell_type": "markdown",
   "metadata": {},
   "source": [
    "## Checking Data Structure with `is.data.frame()`\n",
    "\n",
    "------------------------------------------------------------------------"
   ],
   "id": "ab08b944-57b3-48c1-b37f-20ee4b9c8006"
  },
  {
   "cell_type": "code",
   "execution_count": null,
   "metadata": {},
   "outputs": [],
   "source": [
    "is.matrix(df)\n",
    "is.vector(df)\n",
    "is.data.frame(df)"
   ],
   "id": "5e74ab56-ebf6-49de-9295-c72a2faf3792"
  },
  {
   "cell_type": "markdown",
   "metadata": {},
   "source": [
    "## Extracting and Slicing Data Frames\n",
    "\n",
    "------------------------------------------------------------------------\n",
    "\n",
    "The column vectors of a data frame may be extracted using `$` and\n",
    "specifying the name of the desired vector.\n",
    "\n",
    "-   `df$Color` would access the `Color` column of data frame `df`.\n",
    "\n",
    "Part of a data frame can also be extracted by thinking of at as a\n",
    "general matrix and specifying the desired rows or columns in square\n",
    "brackets after the object name.\n",
    "\n",
    "-   <span style=\"color: blue;\">**Note R starts with index 1 which is\n",
    "    different from Python which indexes starting from 0.**</span>\n",
    "\n",
    "For example, if we had a data frame named `df`:\n",
    "\n",
    "-   `df[1,]` would access the first row of `df`.\n",
    "-   `df[1:2,]` would access the first two rows of `df`.\n",
    "-   `df[,2]` would access the second column of `df`.\n",
    "-   `df[1:2, 2:3]` would access the information in rows 1 and 2 of\n",
    "    columns 2 and 3 of `df`.\n",
    "\n",
    "If you need to select multiple columns of a data frame by name, you can\n",
    "pass a character vector with column names in the column position of\n",
    "`[]`.\n",
    "\n",
    "-   `df[, c(\"Color\", \"Passed\")]` would extract the `Color` and `Passed`\n",
    "    columns of df.\n",
    "\n",
    "# Importing an External File as a Data Frame\n",
    "\n",
    "------------------------------------------------------------------------\n",
    "\n",
    "The `read.table` function imports data from file into R as a data frame.\n",
    "\n",
    "Usage: `read.table(file, header = TRUE, sep = \",\")`\n",
    "\n",
    "-   `file` is the file path and name of the file you want to import into\n",
    "    R.\n",
    "    -   If you don’t know the file path, set `file = file.choose()` will\n",
    "        bring up a dialog box asking you to locate the file you want to\n",
    "        import.\n",
    "-   `header` specifies whether the data file has a header (variable\n",
    "    labels for each column of data in the first row of the data file).\n",
    "    -   If you don’t specify this option in R or use `header = FALSE`,\n",
    "        then R will assume the file doesn’t have any headings.\n",
    "    -   `header = TRUE` tells R to read in the data as a data frame with\n",
    "        column names taken from the first row of the data file.\n",
    "-   `sep` specifies the delimiter separating elements in the file.\n",
    "    -   If each column of data in the file is separated by a space, then\n",
    "        use `sep = \" \"`\n",
    "    -   If each column of data in the file is separated by a comma, then\n",
    "        use `sep = \",\"`\n",
    "    -   If each column of data in the file is separated by a tab, then\n",
    "        use `sep = \"\\t\"`.\n",
    "\n",
    "Here is an example reading a csv (comma separated file) with a header:"
   ],
   "id": "e77fc0a6-f550-448c-b38d-7652d8b54076"
  },
  {
   "cell_type": "code",
   "execution_count": null,
   "metadata": {},
   "outputs": [],
   "source": [
    "# import data as data frame\n",
    "dtf <- read.table(file = \"https://raw.githubusercontent.com/jfrench/DataWrangleViz/master/data/covid_dec4.csv\",\n",
    "                  header = TRUE,\n",
    "                  sep = \",\")\n",
    "str(dtf)"
   ],
   "id": "d276f5d8-e72b-4e1e-a09d-68c6db13d073"
  },
  {
   "cell_type": "markdown",
   "metadata": {},
   "source": [
    "Note that the `read_table` function in the **readr** package and the\n",
    "`fread` function in the **data.table** package are perhaps better ways\n",
    "of reading in tabular data and use similar syntax.\n",
    "\n",
    "# Logical statements\n",
    "\n",
    "------------------------------------------------------------------------\n",
    "\n",
    "## Basic comparisons\n",
    "\n",
    "------------------------------------------------------------------------\n",
    "\n",
    "Sometimes we need to know if the elements of an object satisfy certain\n",
    "conditions. This can be determined using the logical operators `<`,\n",
    "`<=`, `>`, `>=`, `==`, `!=`.\n",
    "\n",
    "-   `==` means equal to.\n",
    "-   `!=` means NOT equal to.\n",
    "\n",
    "Execute the following commands in R and see what you get."
   ],
   "id": "0fd9cffe-2e49-4cc0-995f-f6ecdf690515"
  },
  {
   "cell_type": "code",
   "execution_count": null,
   "metadata": {},
   "outputs": [],
   "source": [
    "a <- seq(2, 16, by = 2) # creating the vector a\n",
    "a\n",
    "a > 10\n",
    "a <= 4\n",
    "a == 10\n",
    "a != 10"
   ],
   "id": "5b82ce0b-a027-496f-8926-732f9ac93e33"
  },
  {
   "cell_type": "markdown",
   "metadata": {},
   "source": [
    "## And and Or statements\n",
    "\n",
    "------------------------------------------------------------------------\n",
    "\n",
    "More complicated logical statements can be made using `&` and `|`.\n",
    "\n",
    "-   `&` means “and”\n",
    "    -   Only `TRUE & TRUE` returns `TRUE`. Otherwise the `&` operator\n",
    "        returns `FALSE`.\n",
    "-   `|` means “or”\n",
    "    -   Only a single value in an `|` statement needs to be true for\n",
    "        `TRUE` to be returned.\n",
    "\n",
    "Note that:\n",
    "\n",
    "-   `TRUE & TRUE` returns `TRUE`\n",
    "-   `FALSE & TRUE` returns `FALSE`\n",
    "-   `FALSE & FALSE` returns `FALSE`\n",
    "-   `TRUE | TRUE` returns `TRUE`\n",
    "-   `FALSE | TRUE` returns `TRUE`\n",
    "-   `FALSE | FALSE` returns `FALSE`"
   ],
   "id": "7592fa94-6bb2-40c5-84d0-ac080397cc34"
  },
  {
   "cell_type": "code",
   "execution_count": null,
   "metadata": {},
   "outputs": [],
   "source": [
    "# relationship between logicals & (and), | (or)\n",
    "TRUE & TRUE\n",
    "FALSE & TRUE\n",
    "FALSE & FALSE\n",
    "TRUE | TRUE\n",
    "FALSE | TRUE\n",
    "FALSE | FALSE"
   ],
   "id": "bcf9af2e-8c02-496d-a6cf-391b002fbe83"
  },
  {
   "cell_type": "markdown",
   "metadata": {},
   "source": [
    "Execute the following commands in R and see what you get."
   ],
   "id": "2c09836f-408b-46b6-87bf-e21f01fa2110"
  },
  {
   "cell_type": "code",
   "execution_count": null,
   "metadata": {},
   "outputs": [],
   "source": [
    "# complex logical statements\n",
    "(a > 6) & (a <= 10)\n",
    "(a <= 4) | (a >= 12)"
   ],
   "id": "a5da2dc1-10bd-468f-966c-044bd5f09f3a"
  }
 ],
 "nbformat": 4,
 "nbformat_minor": 5,
 "metadata": {
  "kernelspec": {
   "name": "ir",
   "display_name": "R",
   "language": "R"
  }
 }
}
